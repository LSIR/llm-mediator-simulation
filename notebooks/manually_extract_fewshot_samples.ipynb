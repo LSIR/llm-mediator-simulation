{
 "cells": [
  {
   "cell_type": "code",
   "execution_count": 1,
   "id": "3b64f6df",
   "metadata": {},
   "outputs": [
    {
     "name": "stdout",
     "output_type": "stream",
     "text": [
      "Number of samples in train split: 840\n",
      "Number of samples in dev split: 0\n",
      "Number of samples in test split: 272\n"
     ]
    }
   ],
   "source": [
    "# Open jsonline file at data/reddit/cmv/cga_cmv_pairs_before_derailment.jsonl\n",
    "import json\n",
    "\n",
    "with open(\"../data/reddit/cmv/cga_cmv_pairs_before_derailment.jsonl\", \"r\") as f:\n",
    "    lines = f.readlines()\n",
    "    data = [json.loads(line) for line in lines]\n",
    "\n",
    "train_pairs = []\n",
    "dev_pairs = []\n",
    "test_pairs = []\n",
    "\n",
    "for item in data:\n",
    "    if item[\"split\"] == \"train\":\n",
    "        train_pairs.append(item)\n",
    "    elif item[\"split\"] == \"dev\":\n",
    "        dev_pairs.append(item)\n",
    "    if item[\"split\"] == \"test\":\n",
    "        test_pairs.append(item)\n",
    "print(f\"Number of samples in train split: {len(train_pairs)}\")\n",
    "print(f\"Number of samples in dev split: {len(dev_pairs)}\")\n",
    "print(f\"Number of samples in test split: {len(test_pairs)}\")"
   ]
  },
  {
   "cell_type": "code",
   "execution_count": 10,
   "id": "7e67c362",
   "metadata": {},
   "outputs": [
    {
     "name": "stdout",
     "output_type": "stream",
     "text": [
      "Sample 0:\n"
     ]
    },
    {
     "data": {
      "text/html": [
       "<pre style=\"white-space:pre;overflow-x:auto;line-height:normal;font-family:Menlo,'DejaVu Sans Mono',consolas,'Courier New',monospace\"><span style=\"font-weight: bold\">{</span>\n",
       "<span style=\"color: #7fbf7f; text-decoration-color: #7fbf7f\">│   </span><span style=\"color: #008000; text-decoration-color: #008000\">'statement'</span>: <span style=\"color: #008000; text-decoration-color: #008000\">'I believe that black people are less intelligent than other races, and I believe that the reason for this is genetic difference between races'</span>,\n",
       "<span style=\"color: #7fbf7f; text-decoration-color: #7fbf7f\">│   </span><span style=\"color: #008000; text-decoration-color: #008000\">'submission_id'</span>: <span style=\"color: #008000; text-decoration-color: #008000\">'3i8mfw'</span>,\n",
       "<span style=\"color: #7fbf7f; text-decoration-color: #7fbf7f\">│   </span><span style=\"color: #008000; text-decoration-color: #008000\">'penultimate_utterance'</span>: <span style=\"font-weight: bold\">{</span>\n",
       "<span style=\"color: #7fbf7f; text-decoration-color: #7fbf7f\">│   │   </span><span style=\"color: #008000; text-decoration-color: #008000\">'id'</span>: <span style=\"color: #008000; text-decoration-color: #008000\">'czbe470'</span>,\n",
       "<span style=\"color: #7fbf7f; text-decoration-color: #7fbf7f\">│   │   </span><span style=\"color: #008000; text-decoration-color: #008000\">'userid'</span>: <span style=\"color: #008000; text-decoration-color: #008000\">'Perpetualjoke'</span>,\n",
       "<span style=\"color: #7fbf7f; text-decoration-color: #7fbf7f\">│   │   </span><span style=\"color: #008000; text-decoration-color: #008000\">'text'</span>: <span style=\"color: #008000; text-decoration-color: #008000\">\"I just can't believe you are browsing 5 month  comments I made,I have a suspicion you are stalking me and frankly it's disturbing.\"</span>,\n",
       "<span style=\"color: #7fbf7f; text-decoration-color: #7fbf7f\">│   │   </span><span style=\"color: #008000; text-decoration-color: #008000\">'timestamp'</span>: <span style=\"color: #008080; text-decoration-color: #008080; font-weight: bold\">1453741858</span>\n",
       "<span style=\"color: #7fbf7f; text-decoration-color: #7fbf7f\">│   </span><span style=\"font-weight: bold\">}</span>,\n",
       "<span style=\"color: #7fbf7f; text-decoration-color: #7fbf7f\">│   </span><span style=\"color: #008000; text-decoration-color: #008000\">'last_utterance'</span>: <span style=\"font-weight: bold\">{</span>\n",
       "<span style=\"color: #7fbf7f; text-decoration-color: #7fbf7f\">│   │   </span><span style=\"color: #008000; text-decoration-color: #008000\">'id'</span>: <span style=\"color: #008000; text-decoration-color: #008000\">'czbe8el'</span>,\n",
       "<span style=\"color: #7fbf7f; text-decoration-color: #7fbf7f\">│   │   </span><span style=\"color: #008000; text-decoration-color: #008000\">'userid'</span>: <span style=\"color: #008000; text-decoration-color: #008000\">'garnteller'</span>,\n",
       "<span style=\"color: #7fbf7f; text-decoration-color: #7fbf7f\">│   │   </span><span style=\"color: #008000; text-decoration-color: #008000\">'text'</span>: <span style=\"color: #008000; text-decoration-color: #008000\">\"No, we have an automoderator that checks for rule violations when a comment is posted or edited, and you showed up on the list.  I really have no idea who you are and couldn't care less.\"</span>,\n",
       "<span style=\"color: #7fbf7f; text-decoration-color: #7fbf7f\">│   │   </span><span style=\"color: #008000; text-decoration-color: #008000\">'timestamp'</span>: <span style=\"color: #008080; text-decoration-color: #008080; font-weight: bold\">1453742029</span>\n",
       "<span style=\"color: #7fbf7f; text-decoration-color: #7fbf7f\">│   </span><span style=\"font-weight: bold\">}</span>,\n",
       "<span style=\"color: #7fbf7f; text-decoration-color: #7fbf7f\">│   </span><span style=\"color: #008000; text-decoration-color: #008000\">'split'</span>: <span style=\"color: #008000; text-decoration-color: #008000\">'train'</span>\n",
       "<span style=\"font-weight: bold\">}</span>\n",
       "</pre>\n"
      ],
      "text/plain": [
       "\u001b[1m{\u001b[0m\n",
       "\u001b[2;32m│   \u001b[0m\u001b[32m'statement'\u001b[0m: \u001b[32m'I believe that black people are less intelligent than other races, and I believe that the reason for this is genetic difference between races'\u001b[0m,\n",
       "\u001b[2;32m│   \u001b[0m\u001b[32m'submission_id'\u001b[0m: \u001b[32m'3i8mfw'\u001b[0m,\n",
       "\u001b[2;32m│   \u001b[0m\u001b[32m'penultimate_utterance'\u001b[0m: \u001b[1m{\u001b[0m\n",
       "\u001b[2;32m│   │   \u001b[0m\u001b[32m'id'\u001b[0m: \u001b[32m'czbe470'\u001b[0m,\n",
       "\u001b[2;32m│   │   \u001b[0m\u001b[32m'userid'\u001b[0m: \u001b[32m'Perpetualjoke'\u001b[0m,\n",
       "\u001b[2;32m│   │   \u001b[0m\u001b[32m'text'\u001b[0m: \u001b[32m\"I just can't believe you are browsing 5 month  comments I made,I have a suspicion you are stalking me and frankly it's disturbing.\"\u001b[0m,\n",
       "\u001b[2;32m│   │   \u001b[0m\u001b[32m'timestamp'\u001b[0m: \u001b[1;36m1453741858\u001b[0m\n",
       "\u001b[2;32m│   \u001b[0m\u001b[1m}\u001b[0m,\n",
       "\u001b[2;32m│   \u001b[0m\u001b[32m'last_utterance'\u001b[0m: \u001b[1m{\u001b[0m\n",
       "\u001b[2;32m│   │   \u001b[0m\u001b[32m'id'\u001b[0m: \u001b[32m'czbe8el'\u001b[0m,\n",
       "\u001b[2;32m│   │   \u001b[0m\u001b[32m'userid'\u001b[0m: \u001b[32m'garnteller'\u001b[0m,\n",
       "\u001b[2;32m│   │   \u001b[0m\u001b[32m'text'\u001b[0m: \u001b[32m\"No, we have an automoderator that checks for rule violations when a comment is posted or edited, and you showed up on the list.  I really have no idea who you are and couldn't care less.\"\u001b[0m,\n",
       "\u001b[2;32m│   │   \u001b[0m\u001b[32m'timestamp'\u001b[0m: \u001b[1;36m1453742029\u001b[0m\n",
       "\u001b[2;32m│   \u001b[0m\u001b[1m}\u001b[0m,\n",
       "\u001b[2;32m│   \u001b[0m\u001b[32m'split'\u001b[0m: \u001b[32m'train'\u001b[0m\n",
       "\u001b[1m}\u001b[0m\n"
      ]
     },
     "metadata": {},
     "output_type": "display_data"
    },
    {
     "name": "stdout",
     "output_type": "stream",
     "text": [
      "Sample 1:\n"
     ]
    },
    {
     "data": {
      "text/html": [
       "<pre style=\"white-space:pre;overflow-x:auto;line-height:normal;font-family:Menlo,'DejaVu Sans Mono',consolas,'Courier New',monospace\"><span style=\"font-weight: bold\">{</span>\n",
       "<span style=\"color: #7fbf7f; text-decoration-color: #7fbf7f\">│   </span><span style=\"color: #008000; text-decoration-color: #008000\">'statement'</span>: <span style=\"color: #008000; text-decoration-color: #008000\">'A cheating spouse should not be able to receive alimony payments after a divorce.'</span>,\n",
       "<span style=\"color: #7fbf7f; text-decoration-color: #7fbf7f\">│   </span><span style=\"color: #008000; text-decoration-color: #008000\">'submission_id'</span>: <span style=\"color: #008000; text-decoration-color: #008000\">'3jsef1'</span>,\n",
       "<span style=\"color: #7fbf7f; text-decoration-color: #7fbf7f\">│   </span><span style=\"color: #008000; text-decoration-color: #008000\">'penultimate_utterance'</span>: <span style=\"font-weight: bold\">{</span>\n",
       "<span style=\"color: #7fbf7f; text-decoration-color: #7fbf7f\">│   │   </span><span style=\"color: #008000; text-decoration-color: #008000\">'id'</span>: <span style=\"color: #008000; text-decoration-color: #008000\">'cus509b'</span>,\n",
       "<span style=\"color: #7fbf7f; text-decoration-color: #7fbf7f\">│   │   </span><span style=\"color: #008000; text-decoration-color: #008000\">'userid'</span>: <span style=\"color: #008000; text-decoration-color: #008000\">'loveshock'</span>,\n",
       "<span style=\"color: #7fbf7f; text-decoration-color: #7fbf7f\">│   │   </span><span style=\"color: #008000; text-decoration-color: #008000\">'text'</span>: <span style=\"color: #008000; text-decoration-color: #008000\">'What fucked up person gets turned on by seeing their spouse on their deathbed and needs to have sex right away?  That would be the last thing on my mind if I was going through that.\\n\\nAnd how is cheating the least worse option?  Id consider having sex with my spouse in a coma before cheating.'</span>,\n",
       "<span style=\"color: #7fbf7f; text-decoration-color: #7fbf7f\">│   │   </span><span style=\"color: #008000; text-decoration-color: #008000\">'timestamp'</span>: <span style=\"color: #008080; text-decoration-color: #008080; font-weight: bold\">1441508528</span>\n",
       "<span style=\"color: #7fbf7f; text-decoration-color: #7fbf7f\">│   </span><span style=\"font-weight: bold\">}</span>,\n",
       "<span style=\"color: #7fbf7f; text-decoration-color: #7fbf7f\">│   </span><span style=\"color: #008000; text-decoration-color: #008000\">'last_utterance'</span>: <span style=\"font-weight: bold\">{</span>\n",
       "<span style=\"color: #7fbf7f; text-decoration-color: #7fbf7f\">│   │   </span><span style=\"color: #008000; text-decoration-color: #008000\">'id'</span>: <span style=\"color: #008000; text-decoration-color: #008000\">'cushy1h'</span>,\n",
       "<span style=\"color: #7fbf7f; text-decoration-color: #7fbf7f\">│   │   </span><span style=\"color: #008000; text-decoration-color: #008000\">'userid'</span>: <span style=\"color: #008000; text-decoration-color: #008000\">'RashaGirl'</span>,\n",
       "<span style=\"color: #7fbf7f; text-decoration-color: #7fbf7f\">│   │   </span><span style=\"color: #008000; text-decoration-color: #008000\">'text'</span>: <span style=\"color: #008000; text-decoration-color: #008000\">\"&gt; Id consider having sex with my spouse in a coma before cheating.\\n\\nThat's rape!!!\"</span>,\n",
       "<span style=\"color: #7fbf7f; text-decoration-color: #7fbf7f\">│   │   </span><span style=\"color: #008000; text-decoration-color: #008000\">'timestamp'</span>: <span style=\"color: #008080; text-decoration-color: #008080; font-weight: bold\">1441551782</span>\n",
       "<span style=\"color: #7fbf7f; text-decoration-color: #7fbf7f\">│   </span><span style=\"font-weight: bold\">}</span>,\n",
       "<span style=\"color: #7fbf7f; text-decoration-color: #7fbf7f\">│   </span><span style=\"color: #008000; text-decoration-color: #008000\">'split'</span>: <span style=\"color: #008000; text-decoration-color: #008000\">'train'</span>\n",
       "<span style=\"font-weight: bold\">}</span>\n",
       "</pre>\n"
      ],
      "text/plain": [
       "\u001b[1m{\u001b[0m\n",
       "\u001b[2;32m│   \u001b[0m\u001b[32m'statement'\u001b[0m: \u001b[32m'A cheating spouse should not be able to receive alimony payments after a divorce.'\u001b[0m,\n",
       "\u001b[2;32m│   \u001b[0m\u001b[32m'submission_id'\u001b[0m: \u001b[32m'3jsef1'\u001b[0m,\n",
       "\u001b[2;32m│   \u001b[0m\u001b[32m'penultimate_utterance'\u001b[0m: \u001b[1m{\u001b[0m\n",
       "\u001b[2;32m│   │   \u001b[0m\u001b[32m'id'\u001b[0m: \u001b[32m'cus509b'\u001b[0m,\n",
       "\u001b[2;32m│   │   \u001b[0m\u001b[32m'userid'\u001b[0m: \u001b[32m'loveshock'\u001b[0m,\n",
       "\u001b[2;32m│   │   \u001b[0m\u001b[32m'text'\u001b[0m: \u001b[32m'What fucked up person gets turned on by seeing their spouse on their deathbed and needs to have sex right away?  That would be the last thing on my mind if I was going through that.\\n\\nAnd how is cheating the least worse option?  Id consider having sex with my spouse in a coma before cheating.'\u001b[0m,\n",
       "\u001b[2;32m│   │   \u001b[0m\u001b[32m'timestamp'\u001b[0m: \u001b[1;36m1441508528\u001b[0m\n",
       "\u001b[2;32m│   \u001b[0m\u001b[1m}\u001b[0m,\n",
       "\u001b[2;32m│   \u001b[0m\u001b[32m'last_utterance'\u001b[0m: \u001b[1m{\u001b[0m\n",
       "\u001b[2;32m│   │   \u001b[0m\u001b[32m'id'\u001b[0m: \u001b[32m'cushy1h'\u001b[0m,\n",
       "\u001b[2;32m│   │   \u001b[0m\u001b[32m'userid'\u001b[0m: \u001b[32m'RashaGirl'\u001b[0m,\n",
       "\u001b[2;32m│   │   \u001b[0m\u001b[32m'text'\u001b[0m: \u001b[32m\"> Id consider having sex with my spouse in a coma before cheating.\\n\\nThat's rape!!!\"\u001b[0m,\n",
       "\u001b[2;32m│   │   \u001b[0m\u001b[32m'timestamp'\u001b[0m: \u001b[1;36m1441551782\u001b[0m\n",
       "\u001b[2;32m│   \u001b[0m\u001b[1m}\u001b[0m,\n",
       "\u001b[2;32m│   \u001b[0m\u001b[32m'split'\u001b[0m: \u001b[32m'train'\u001b[0m\n",
       "\u001b[1m}\u001b[0m\n"
      ]
     },
     "metadata": {},
     "output_type": "display_data"
    },
    {
     "name": "stdout",
     "output_type": "stream",
     "text": [
      "Sample 2:\n"
     ]
    },
    {
     "data": {
      "text/html": [
       "<pre style=\"white-space:pre;overflow-x:auto;line-height:normal;font-family:Menlo,'DejaVu Sans Mono',consolas,'Courier New',monospace\"><span style=\"font-weight: bold\">{</span>\n",
       "<span style=\"color: #7fbf7f; text-decoration-color: #7fbf7f\">│   </span><span style=\"color: #008000; text-decoration-color: #008000\">'statement'</span>: <span style=\"color: #008000; text-decoration-color: #008000\">'Supporting the immigration of Muslim refugees into a predominately Christian/Agnostic country is detrimental to the host country.'</span>,\n",
       "<span style=\"color: #7fbf7f; text-decoration-color: #7fbf7f\">│   </span><span style=\"color: #008000; text-decoration-color: #008000\">'submission_id'</span>: <span style=\"color: #008000; text-decoration-color: #008000\">'3jui0a'</span>,\n",
       "<span style=\"color: #7fbf7f; text-decoration-color: #7fbf7f\">│   </span><span style=\"color: #008000; text-decoration-color: #008000\">'penultimate_utterance'</span>: <span style=\"font-weight: bold\">{</span>\n",
       "<span style=\"color: #7fbf7f; text-decoration-color: #7fbf7f\">│   │   </span><span style=\"color: #008000; text-decoration-color: #008000\">'id'</span>: <span style=\"color: #008000; text-decoration-color: #008000\">'cusqajo'</span>,\n",
       "<span style=\"color: #7fbf7f; text-decoration-color: #7fbf7f\">│   │   </span><span style=\"color: #008000; text-decoration-color: #008000\">'userid'</span>: <span style=\"color: #008000; text-decoration-color: #008000\">'Dhalphir'</span>,\n",
       "<span style=\"color: #7fbf7f; text-decoration-color: #7fbf7f\">│   │   </span><span style=\"color: #008000; text-decoration-color: #008000\">'text'</span>: <span style=\"color: #008000; text-decoration-color: #008000\">\"You didn't ask anyone to demonstrate gain, you asked them to demonstrate a lack of detriment. It was demonstrated that there is no detriment from tiny amounts of people. \\n\\nYou are shifting the goalposts because you're only here to rant and be bigoted.\"</span>,\n",
       "<span style=\"color: #7fbf7f; text-decoration-color: #7fbf7f\">│   │   </span><span style=\"color: #008000; text-decoration-color: #008000\">'timestamp'</span>: <span style=\"color: #008080; text-decoration-color: #008080; font-weight: bold\">1441567971</span>\n",
       "<span style=\"color: #7fbf7f; text-decoration-color: #7fbf7f\">│   </span><span style=\"font-weight: bold\">}</span>,\n",
       "<span style=\"color: #7fbf7f; text-decoration-color: #7fbf7f\">│   </span><span style=\"color: #008000; text-decoration-color: #008000\">'last_utterance'</span>: <span style=\"font-weight: bold\">{</span>\n",
       "<span style=\"color: #7fbf7f; text-decoration-color: #7fbf7f\">│   │   </span><span style=\"color: #008000; text-decoration-color: #008000\">'id'</span>: <span style=\"color: #008000; text-decoration-color: #008000\">'cut1vbn'</span>,\n",
       "<span style=\"color: #7fbf7f; text-decoration-color: #7fbf7f\">│   │   </span><span style=\"color: #008000; text-decoration-color: #008000\">'userid'</span>: <span style=\"color: #008000; text-decoration-color: #008000\">'cteavin'</span>,\n",
       "<span style=\"color: #7fbf7f; text-decoration-color: #7fbf7f\">│   │   </span><span style=\"color: #008000; text-decoration-color: #008000\">'text'</span>: <span style=\"color: #008000; text-decoration-color: #008000\">'I\\'m not here to rant or be bigoted.  \\n  \\nI\\'m willing to listen to whatever arguments people have but, this far  down the page, I haven\\'t seen anything that changes my view. When someone doesn\\'t agree with you it is not correct to assume they are -- or call them -- bigoted.   \\n   \\nMake me an argument beyond \"charity\" that shows inviting people has value to the country they are immigrating to. To change my view I want to see if those reasons outweigh the negatives. '</span>,\n",
       "<span style=\"color: #7fbf7f; text-decoration-color: #7fbf7f\">│   │   </span><span style=\"color: #008000; text-decoration-color: #008000\">'timestamp'</span>: <span style=\"color: #008080; text-decoration-color: #008080; font-weight: bold\">1441591613</span>\n",
       "<span style=\"color: #7fbf7f; text-decoration-color: #7fbf7f\">│   </span><span style=\"font-weight: bold\">}</span>,\n",
       "<span style=\"color: #7fbf7f; text-decoration-color: #7fbf7f\">│   </span><span style=\"color: #008000; text-decoration-color: #008000\">'split'</span>: <span style=\"color: #008000; text-decoration-color: #008000\">'train'</span>\n",
       "<span style=\"font-weight: bold\">}</span>\n",
       "</pre>\n"
      ],
      "text/plain": [
       "\u001b[1m{\u001b[0m\n",
       "\u001b[2;32m│   \u001b[0m\u001b[32m'statement'\u001b[0m: \u001b[32m'Supporting the immigration of Muslim refugees into a predominately Christian/Agnostic country is detrimental to the host country.'\u001b[0m,\n",
       "\u001b[2;32m│   \u001b[0m\u001b[32m'submission_id'\u001b[0m: \u001b[32m'3jui0a'\u001b[0m,\n",
       "\u001b[2;32m│   \u001b[0m\u001b[32m'penultimate_utterance'\u001b[0m: \u001b[1m{\u001b[0m\n",
       "\u001b[2;32m│   │   \u001b[0m\u001b[32m'id'\u001b[0m: \u001b[32m'cusqajo'\u001b[0m,\n",
       "\u001b[2;32m│   │   \u001b[0m\u001b[32m'userid'\u001b[0m: \u001b[32m'Dhalphir'\u001b[0m,\n",
       "\u001b[2;32m│   │   \u001b[0m\u001b[32m'text'\u001b[0m: \u001b[32m\"You didn't ask anyone to demonstrate gain, you asked them to demonstrate a lack of detriment. It was demonstrated that there is no detriment from tiny amounts of people. \\n\\nYou are shifting the goalposts because you're only here to rant and be bigoted.\"\u001b[0m,\n",
       "\u001b[2;32m│   │   \u001b[0m\u001b[32m'timestamp'\u001b[0m: \u001b[1;36m1441567971\u001b[0m\n",
       "\u001b[2;32m│   \u001b[0m\u001b[1m}\u001b[0m,\n",
       "\u001b[2;32m│   \u001b[0m\u001b[32m'last_utterance'\u001b[0m: \u001b[1m{\u001b[0m\n",
       "\u001b[2;32m│   │   \u001b[0m\u001b[32m'id'\u001b[0m: \u001b[32m'cut1vbn'\u001b[0m,\n",
       "\u001b[2;32m│   │   \u001b[0m\u001b[32m'userid'\u001b[0m: \u001b[32m'cteavin'\u001b[0m,\n",
       "\u001b[2;32m│   │   \u001b[0m\u001b[32m'text'\u001b[0m: \u001b[32m'I\\'m not here to rant or be bigoted.  \\n  \\nI\\'m willing to listen to whatever arguments people have but, this far  down the page, I haven\\'t seen anything that changes my view. When someone doesn\\'t agree with you it is not correct to assume they are -- or call them -- bigoted.   \\n   \\nMake me an argument beyond \"charity\" that shows inviting people has value to the country they are immigrating to. To change my view I want to see if those reasons outweigh the negatives. '\u001b[0m,\n",
       "\u001b[2;32m│   │   \u001b[0m\u001b[32m'timestamp'\u001b[0m: \u001b[1;36m1441591613\u001b[0m\n",
       "\u001b[2;32m│   \u001b[0m\u001b[1m}\u001b[0m,\n",
       "\u001b[2;32m│   \u001b[0m\u001b[32m'split'\u001b[0m: \u001b[32m'train'\u001b[0m\n",
       "\u001b[1m}\u001b[0m\n"
      ]
     },
     "metadata": {},
     "output_type": "display_data"
    },
    {
     "name": "stdout",
     "output_type": "stream",
     "text": [
      "Sample 3:\n"
     ]
    },
    {
     "data": {
      "text/html": [
       "<pre style=\"white-space:pre;overflow-x:auto;line-height:normal;font-family:Menlo,'DejaVu Sans Mono',consolas,'Courier New',monospace\"><span style=\"font-weight: bold\">{</span>\n",
       "<span style=\"color: #7fbf7f; text-decoration-color: #7fbf7f\">│   </span><span style=\"color: #008000; text-decoration-color: #008000\">'statement'</span>: <span style=\"color: #008000; text-decoration-color: #008000\">\"Trans people aren't necessarily mentally ill, but trans women who don't pee standing up are.\"</span>,\n",
       "<span style=\"color: #7fbf7f; text-decoration-color: #7fbf7f\">│   </span><span style=\"color: #008000; text-decoration-color: #008000\">'submission_id'</span>: <span style=\"color: #008000; text-decoration-color: #008000\">'3jvvfg'</span>,\n",
       "<span style=\"color: #7fbf7f; text-decoration-color: #7fbf7f\">│   </span><span style=\"color: #008000; text-decoration-color: #008000\">'penultimate_utterance'</span>: <span style=\"font-weight: bold\">{</span>\n",
       "<span style=\"color: #7fbf7f; text-decoration-color: #7fbf7f\">│   │   </span><span style=\"color: #008000; text-decoration-color: #008000\">'id'</span>: <span style=\"color: #008000; text-decoration-color: #008000\">'cusrm3x'</span>,\n",
       "<span style=\"color: #7fbf7f; text-decoration-color: #7fbf7f\">│   │   </span><span style=\"color: #008000; text-decoration-color: #008000\">'userid'</span>: <span style=\"color: #008000; text-decoration-color: #008000\">'leSemenDemon'</span>,\n",
       "<span style=\"color: #7fbf7f; text-decoration-color: #7fbf7f\">│   │   </span><span style=\"color: #008000; text-decoration-color: #008000\">'text'</span>: <span style=\"color: #008000; text-decoration-color: #008000\">\"&gt; crippling dysphoria\\n\\nSounds like a mental illness to me.\\n\\n&gt; Standing increases risk of making a mess, after all.\\n\\nSee my other posts in the thread - every 'advantage' sitting offers is easily debunked.\"</span>,\n",
       "<span style=\"color: #7fbf7f; text-decoration-color: #7fbf7f\">│   │   </span><span style=\"color: #008000; text-decoration-color: #008000\">'timestamp'</span>: <span style=\"color: #008080; text-decoration-color: #008080; font-weight: bold\">1441570521</span>\n",
       "<span style=\"color: #7fbf7f; text-decoration-color: #7fbf7f\">│   </span><span style=\"font-weight: bold\">}</span>,\n",
       "<span style=\"color: #7fbf7f; text-decoration-color: #7fbf7f\">│   </span><span style=\"color: #008000; text-decoration-color: #008000\">'last_utterance'</span>: <span style=\"font-weight: bold\">{</span>\n",
       "<span style=\"color: #7fbf7f; text-decoration-color: #7fbf7f\">│   │   </span><span style=\"color: #008000; text-decoration-color: #008000\">'id'</span>: <span style=\"color: #008000; text-decoration-color: #008000\">'cuss32h'</span>,\n",
       "<span style=\"color: #7fbf7f; text-decoration-color: #7fbf7f\">│   │   </span><span style=\"color: #008000; text-decoration-color: #008000\">'userid'</span>: <span style=\"color: #008000; text-decoration-color: #008000\">'Ferrousity'</span>,\n",
       "<span style=\"color: #7fbf7f; text-decoration-color: #7fbf7f\">│   │   </span><span style=\"color: #008000; text-decoration-color: #008000\">'text'</span>: <span style=\"color: #008000; text-decoration-color: #008000\">\"It's not a mental illness though,  as confirmed by the American Psychiatric Association in the DSM-V and every other major psychological association.  If they are sayings that it isn't mental illness,  how can you?\"</span>,\n",
       "<span style=\"color: #7fbf7f; text-decoration-color: #7fbf7f\">│   │   </span><span style=\"color: #008000; text-decoration-color: #008000\">'timestamp'</span>: <span style=\"color: #008080; text-decoration-color: #008080; font-weight: bold\">1441571404</span>\n",
       "<span style=\"color: #7fbf7f; text-decoration-color: #7fbf7f\">│   </span><span style=\"font-weight: bold\">}</span>,\n",
       "<span style=\"color: #7fbf7f; text-decoration-color: #7fbf7f\">│   </span><span style=\"color: #008000; text-decoration-color: #008000\">'split'</span>: <span style=\"color: #008000; text-decoration-color: #008000\">'train'</span>\n",
       "<span style=\"font-weight: bold\">}</span>\n",
       "</pre>\n"
      ],
      "text/plain": [
       "\u001b[1m{\u001b[0m\n",
       "\u001b[2;32m│   \u001b[0m\u001b[32m'statement'\u001b[0m: \u001b[32m\"Trans people aren't necessarily mentally ill, but trans women who don't pee standing up are.\"\u001b[0m,\n",
       "\u001b[2;32m│   \u001b[0m\u001b[32m'submission_id'\u001b[0m: \u001b[32m'3jvvfg'\u001b[0m,\n",
       "\u001b[2;32m│   \u001b[0m\u001b[32m'penultimate_utterance'\u001b[0m: \u001b[1m{\u001b[0m\n",
       "\u001b[2;32m│   │   \u001b[0m\u001b[32m'id'\u001b[0m: \u001b[32m'cusrm3x'\u001b[0m,\n",
       "\u001b[2;32m│   │   \u001b[0m\u001b[32m'userid'\u001b[0m: \u001b[32m'leSemenDemon'\u001b[0m,\n",
       "\u001b[2;32m│   │   \u001b[0m\u001b[32m'text'\u001b[0m: \u001b[32m\"> crippling dysphoria\\n\\nSounds like a mental illness to me.\\n\\n> Standing increases risk of making a mess, after all.\\n\\nSee my other posts in the thread - every 'advantage' sitting offers is easily debunked.\"\u001b[0m,\n",
       "\u001b[2;32m│   │   \u001b[0m\u001b[32m'timestamp'\u001b[0m: \u001b[1;36m1441570521\u001b[0m\n",
       "\u001b[2;32m│   \u001b[0m\u001b[1m}\u001b[0m,\n",
       "\u001b[2;32m│   \u001b[0m\u001b[32m'last_utterance'\u001b[0m: \u001b[1m{\u001b[0m\n",
       "\u001b[2;32m│   │   \u001b[0m\u001b[32m'id'\u001b[0m: \u001b[32m'cuss32h'\u001b[0m,\n",
       "\u001b[2;32m│   │   \u001b[0m\u001b[32m'userid'\u001b[0m: \u001b[32m'Ferrousity'\u001b[0m,\n",
       "\u001b[2;32m│   │   \u001b[0m\u001b[32m'text'\u001b[0m: \u001b[32m\"It's not a mental illness though,  as confirmed by the American Psychiatric Association in the DSM-V and every other major psychological association.  If they are sayings that it isn't mental illness,  how can you?\"\u001b[0m,\n",
       "\u001b[2;32m│   │   \u001b[0m\u001b[32m'timestamp'\u001b[0m: \u001b[1;36m1441571404\u001b[0m\n",
       "\u001b[2;32m│   \u001b[0m\u001b[1m}\u001b[0m,\n",
       "\u001b[2;32m│   \u001b[0m\u001b[32m'split'\u001b[0m: \u001b[32m'train'\u001b[0m\n",
       "\u001b[1m}\u001b[0m\n"
      ]
     },
     "metadata": {},
     "output_type": "display_data"
    },
    {
     "name": "stdout",
     "output_type": "stream",
     "text": [
      "Sample 4:\n"
     ]
    },
    {
     "data": {
      "text/html": [
       "<pre style=\"white-space:pre;overflow-x:auto;line-height:normal;font-family:Menlo,'DejaVu Sans Mono',consolas,'Courier New',monospace\"><span style=\"font-weight: bold\">{</span>\n",
       "<span style=\"color: #7fbf7f; text-decoration-color: #7fbf7f\">│   </span><span style=\"color: #008000; text-decoration-color: #008000\">'statement'</span>: <span style=\"color: #008000; text-decoration-color: #008000\">'Obese people should not be shamed, but they should not be encouraged to feel being obese is an okay lifestyle'</span>,\n",
       "<span style=\"color: #7fbf7f; text-decoration-color: #7fbf7f\">│   </span><span style=\"color: #008000; text-decoration-color: #008000\">'submission_id'</span>: <span style=\"color: #008000; text-decoration-color: #008000\">'3k01f6'</span>,\n",
       "<span style=\"color: #7fbf7f; text-decoration-color: #7fbf7f\">│   </span><span style=\"color: #008000; text-decoration-color: #008000\">'penultimate_utterance'</span>: <span style=\"font-weight: bold\">{</span>\n",
       "<span style=\"color: #7fbf7f; text-decoration-color: #7fbf7f\">│   │   </span><span style=\"color: #008000; text-decoration-color: #008000\">'id'</span>: <span style=\"color: #008000; text-decoration-color: #008000\">'cutw122'</span>,\n",
       "<span style=\"color: #7fbf7f; text-decoration-color: #7fbf7f\">│   │   </span><span style=\"color: #008000; text-decoration-color: #008000\">'userid'</span>: <span style=\"color: #008000; text-decoration-color: #008000\">'RU_Crazy'</span>,\n",
       "<span style=\"color: #7fbf7f; text-decoration-color: #7fbf7f\">│   │   </span><span style=\"color: #008000; text-decoration-color: #008000\">'text'</span>: <span style=\"color: #008000; text-decoration-color: #008000\">\"Of course being fat is an activity.  Its the activity of over-eating and under-moving.\\n\\nI'm not concerned with morality.  I'm concerned with efficacy.  Shaming is a proven tactic in curbing negative behavior.  Besides, there are plenty of externalities these fat people are causing us.\"</span>,\n",
       "<span style=\"color: #7fbf7f; text-decoration-color: #7fbf7f\">│   │   </span><span style=\"color: #008000; text-decoration-color: #008000\">'timestamp'</span>: <span style=\"color: #008080; text-decoration-color: #008080; font-weight: bold\">1441669512</span>\n",
       "<span style=\"color: #7fbf7f; text-decoration-color: #7fbf7f\">│   </span><span style=\"font-weight: bold\">}</span>,\n",
       "<span style=\"color: #7fbf7f; text-decoration-color: #7fbf7f\">│   </span><span style=\"color: #008000; text-decoration-color: #008000\">'last_utterance'</span>: <span style=\"font-weight: bold\">{</span>\n",
       "<span style=\"color: #7fbf7f; text-decoration-color: #7fbf7f\">│   │   </span><span style=\"color: #008000; text-decoration-color: #008000\">'id'</span>: <span style=\"color: #008000; text-decoration-color: #008000\">'cutwhnp'</span>,\n",
       "<span style=\"color: #7fbf7f; text-decoration-color: #7fbf7f\">│   │   </span><span style=\"color: #008000; text-decoration-color: #008000\">'userid'</span>: <span style=\"color: #008000; text-decoration-color: #008000\">'ghotier'</span>,\n",
       "<span style=\"color: #7fbf7f; text-decoration-color: #7fbf7f\">│   │   </span><span style=\"color: #008000; text-decoration-color: #008000\">'text'</span>: <span style=\"color: #008000; text-decoration-color: #008000\">\"Yeah, you're right, you should definitely be able to redefine terms like activity and external harms. \"</span>,\n",
       "<span style=\"color: #7fbf7f; text-decoration-color: #7fbf7f\">│   │   </span><span style=\"color: #008000; text-decoration-color: #008000\">'timestamp'</span>: <span style=\"color: #008080; text-decoration-color: #008080; font-weight: bold\">1441670492</span>\n",
       "<span style=\"color: #7fbf7f; text-decoration-color: #7fbf7f\">│   </span><span style=\"font-weight: bold\">}</span>,\n",
       "<span style=\"color: #7fbf7f; text-decoration-color: #7fbf7f\">│   </span><span style=\"color: #008000; text-decoration-color: #008000\">'split'</span>: <span style=\"color: #008000; text-decoration-color: #008000\">'train'</span>\n",
       "<span style=\"font-weight: bold\">}</span>\n",
       "</pre>\n"
      ],
      "text/plain": [
       "\u001b[1m{\u001b[0m\n",
       "\u001b[2;32m│   \u001b[0m\u001b[32m'statement'\u001b[0m: \u001b[32m'Obese people should not be shamed, but they should not be encouraged to feel being obese is an okay lifestyle'\u001b[0m,\n",
       "\u001b[2;32m│   \u001b[0m\u001b[32m'submission_id'\u001b[0m: \u001b[32m'3k01f6'\u001b[0m,\n",
       "\u001b[2;32m│   \u001b[0m\u001b[32m'penultimate_utterance'\u001b[0m: \u001b[1m{\u001b[0m\n",
       "\u001b[2;32m│   │   \u001b[0m\u001b[32m'id'\u001b[0m: \u001b[32m'cutw122'\u001b[0m,\n",
       "\u001b[2;32m│   │   \u001b[0m\u001b[32m'userid'\u001b[0m: \u001b[32m'RU_Crazy'\u001b[0m,\n",
       "\u001b[2;32m│   │   \u001b[0m\u001b[32m'text'\u001b[0m: \u001b[32m\"Of course being fat is an activity.  Its the activity of over-eating and under-moving.\\n\\nI'm not concerned with morality.  I'm concerned with efficacy.  Shaming is a proven tactic in curbing negative behavior.  Besides, there are plenty of externalities these fat people are causing us.\"\u001b[0m,\n",
       "\u001b[2;32m│   │   \u001b[0m\u001b[32m'timestamp'\u001b[0m: \u001b[1;36m1441669512\u001b[0m\n",
       "\u001b[2;32m│   \u001b[0m\u001b[1m}\u001b[0m,\n",
       "\u001b[2;32m│   \u001b[0m\u001b[32m'last_utterance'\u001b[0m: \u001b[1m{\u001b[0m\n",
       "\u001b[2;32m│   │   \u001b[0m\u001b[32m'id'\u001b[0m: \u001b[32m'cutwhnp'\u001b[0m,\n",
       "\u001b[2;32m│   │   \u001b[0m\u001b[32m'userid'\u001b[0m: \u001b[32m'ghotier'\u001b[0m,\n",
       "\u001b[2;32m│   │   \u001b[0m\u001b[32m'text'\u001b[0m: \u001b[32m\"Yeah, you're right, you should definitely be able to redefine terms like activity and external harms. \"\u001b[0m,\n",
       "\u001b[2;32m│   │   \u001b[0m\u001b[32m'timestamp'\u001b[0m: \u001b[1;36m1441670492\u001b[0m\n",
       "\u001b[2;32m│   \u001b[0m\u001b[1m}\u001b[0m,\n",
       "\u001b[2;32m│   \u001b[0m\u001b[32m'split'\u001b[0m: \u001b[32m'train'\u001b[0m\n",
       "\u001b[1m}\u001b[0m\n"
      ]
     },
     "metadata": {},
     "output_type": "display_data"
    },
    {
     "name": "stdout",
     "output_type": "stream",
     "text": [
      "Sample 5:\n"
     ]
    },
    {
     "data": {
      "text/html": [
       "<pre style=\"white-space:pre;overflow-x:auto;line-height:normal;font-family:Menlo,'DejaVu Sans Mono',consolas,'Courier New',monospace\"><span style=\"font-weight: bold\">{</span>\n",
       "<span style=\"color: #7fbf7f; text-decoration-color: #7fbf7f\">│   </span><span style=\"color: #008000; text-decoration-color: #008000\">'statement'</span>: <span style=\"color: #008000; text-decoration-color: #008000\">'Circumcision is genital mutilation, and should almost never be performed (from the point of view of a woman)'</span>,\n",
       "<span style=\"color: #7fbf7f; text-decoration-color: #7fbf7f\">│   </span><span style=\"color: #008000; text-decoration-color: #008000\">'submission_id'</span>: <span style=\"color: #008000; text-decoration-color: #008000\">'3kmyqw'</span>,\n",
       "<span style=\"color: #7fbf7f; text-decoration-color: #7fbf7f\">│   </span><span style=\"color: #008000; text-decoration-color: #008000\">'penultimate_utterance'</span>: <span style=\"font-weight: bold\">{</span>\n",
       "<span style=\"color: #7fbf7f; text-decoration-color: #7fbf7f\">│   │   </span><span style=\"color: #008000; text-decoration-color: #008000\">'id'</span>: <span style=\"color: #008000; text-decoration-color: #008000\">'cuyzu3i'</span>,\n",
       "<span style=\"color: #7fbf7f; text-decoration-color: #7fbf7f\">│   │   </span><span style=\"color: #008000; text-decoration-color: #008000\">'userid'</span>: <span style=\"color: #008000; text-decoration-color: #008000\">'TUKINDZ'</span>,\n",
       "<span style=\"color: #7fbf7f; text-decoration-color: #7fbf7f\">│   │   </span><span style=\"color: #008000; text-decoration-color: #008000\">'text'</span>: <span style=\"color: #008000; text-decoration-color: #008000\">'Sounds like you had poor hygiene Bro. Smells? Yeast infection? What?! '</span>,\n",
       "<span style=\"color: #7fbf7f; text-decoration-color: #7fbf7f\">│   │   </span><span style=\"color: #008000; text-decoration-color: #008000\">'timestamp'</span>: <span style=\"color: #008080; text-decoration-color: #008080; font-weight: bold\">1442068717</span>\n",
       "<span style=\"color: #7fbf7f; text-decoration-color: #7fbf7f\">│   </span><span style=\"font-weight: bold\">}</span>,\n",
       "<span style=\"color: #7fbf7f; text-decoration-color: #7fbf7f\">│   </span><span style=\"color: #008000; text-decoration-color: #008000\">'last_utterance'</span>: <span style=\"font-weight: bold\">{</span>\n",
       "<span style=\"color: #7fbf7f; text-decoration-color: #7fbf7f\">│   │   </span><span style=\"color: #008000; text-decoration-color: #008000\">'id'</span>: <span style=\"color: #008000; text-decoration-color: #008000\">'cuz6ywh'</span>,\n",
       "<span style=\"color: #7fbf7f; text-decoration-color: #7fbf7f\">│   │   </span><span style=\"color: #008000; text-decoration-color: #008000\">'userid'</span>: <span style=\"color: #008000; text-decoration-color: #008000\">'Virillus'</span>,\n",
       "<span style=\"color: #7fbf7f; text-decoration-color: #7fbf7f\">│   │   </span><span style=\"color: #008000; text-decoration-color: #008000\">'text'</span>: <span style=\"color: #008000; text-decoration-color: #008000\">\"Yeast infections are contracted from women after having vaginal intercourse.\\n\\nAnd penises smell. If you claim you have a 100% scentless dick, you're lying. Washing every day reduces this, it doesn't eliminate it. Being circumcised just means that when I get home from work, I don't have to shower before having sex or getting head.\"</span>,\n",
       "<span style=\"color: #7fbf7f; text-decoration-color: #7fbf7f\">│   │   </span><span style=\"color: #008000; text-decoration-color: #008000\">'timestamp'</span>: <span style=\"color: #008080; text-decoration-color: #008080; font-weight: bold\">1442082097</span>\n",
       "<span style=\"color: #7fbf7f; text-decoration-color: #7fbf7f\">│   </span><span style=\"font-weight: bold\">}</span>,\n",
       "<span style=\"color: #7fbf7f; text-decoration-color: #7fbf7f\">│   </span><span style=\"color: #008000; text-decoration-color: #008000\">'split'</span>: <span style=\"color: #008000; text-decoration-color: #008000\">'train'</span>\n",
       "<span style=\"font-weight: bold\">}</span>\n",
       "</pre>\n"
      ],
      "text/plain": [
       "\u001b[1m{\u001b[0m\n",
       "\u001b[2;32m│   \u001b[0m\u001b[32m'statement'\u001b[0m: \u001b[32m'Circumcision is genital mutilation, and should almost never be performed \u001b[0m\u001b[32m(\u001b[0m\u001b[32mfrom the point of view of a woman\u001b[0m\u001b[32m)\u001b[0m\u001b[32m'\u001b[0m,\n",
       "\u001b[2;32m│   \u001b[0m\u001b[32m'submission_id'\u001b[0m: \u001b[32m'3kmyqw'\u001b[0m,\n",
       "\u001b[2;32m│   \u001b[0m\u001b[32m'penultimate_utterance'\u001b[0m: \u001b[1m{\u001b[0m\n",
       "\u001b[2;32m│   │   \u001b[0m\u001b[32m'id'\u001b[0m: \u001b[32m'cuyzu3i'\u001b[0m,\n",
       "\u001b[2;32m│   │   \u001b[0m\u001b[32m'userid'\u001b[0m: \u001b[32m'TUKINDZ'\u001b[0m,\n",
       "\u001b[2;32m│   │   \u001b[0m\u001b[32m'text'\u001b[0m: \u001b[32m'Sounds like you had poor hygiene Bro. Smells? Yeast infection? What?! '\u001b[0m,\n",
       "\u001b[2;32m│   │   \u001b[0m\u001b[32m'timestamp'\u001b[0m: \u001b[1;36m1442068717\u001b[0m\n",
       "\u001b[2;32m│   \u001b[0m\u001b[1m}\u001b[0m,\n",
       "\u001b[2;32m│   \u001b[0m\u001b[32m'last_utterance'\u001b[0m: \u001b[1m{\u001b[0m\n",
       "\u001b[2;32m│   │   \u001b[0m\u001b[32m'id'\u001b[0m: \u001b[32m'cuz6ywh'\u001b[0m,\n",
       "\u001b[2;32m│   │   \u001b[0m\u001b[32m'userid'\u001b[0m: \u001b[32m'Virillus'\u001b[0m,\n",
       "\u001b[2;32m│   │   \u001b[0m\u001b[32m'text'\u001b[0m: \u001b[32m\"Yeast infections are contracted from women after having vaginal intercourse.\\n\\nAnd penises smell. If you claim you have a 100% scentless dick, you're lying. Washing every day reduces this, it doesn't eliminate it. Being circumcised just means that when I get home from work, I don't have to shower before having sex or getting head.\"\u001b[0m,\n",
       "\u001b[2;32m│   │   \u001b[0m\u001b[32m'timestamp'\u001b[0m: \u001b[1;36m1442082097\u001b[0m\n",
       "\u001b[2;32m│   \u001b[0m\u001b[1m}\u001b[0m,\n",
       "\u001b[2;32m│   \u001b[0m\u001b[32m'split'\u001b[0m: \u001b[32m'train'\u001b[0m\n",
       "\u001b[1m}\u001b[0m\n"
      ]
     },
     "metadata": {},
     "output_type": "display_data"
    },
    {
     "name": "stdout",
     "output_type": "stream",
     "text": [
      "Sample 6:\n"
     ]
    },
    {
     "data": {
      "text/html": [
       "<pre style=\"white-space:pre;overflow-x:auto;line-height:normal;font-family:Menlo,'DejaVu Sans Mono',consolas,'Courier New',monospace\"><span style=\"font-weight: bold\">{</span>\n",
       "<span style=\"color: #7fbf7f; text-decoration-color: #7fbf7f\">│   </span><span style=\"color: #008000; text-decoration-color: #008000\">'statement'</span>: <span style=\"color: #008000; text-decoration-color: #008000\">'most rich people have done nothing extraordinary to remain rich.'</span>,\n",
       "<span style=\"color: #7fbf7f; text-decoration-color: #7fbf7f\">│   </span><span style=\"color: #008000; text-decoration-color: #008000\">'submission_id'</span>: <span style=\"color: #008000; text-decoration-color: #008000\">'3lgqyh'</span>,\n",
       "<span style=\"color: #7fbf7f; text-decoration-color: #7fbf7f\">│   </span><span style=\"color: #008000; text-decoration-color: #008000\">'penultimate_utterance'</span>: <span style=\"font-weight: bold\">{</span>\n",
       "<span style=\"color: #7fbf7f; text-decoration-color: #7fbf7f\">│   │   </span><span style=\"color: #008000; text-decoration-color: #008000\">'id'</span>: <span style=\"color: #008000; text-decoration-color: #008000\">'cv6aewg'</span>,\n",
       "<span style=\"color: #7fbf7f; text-decoration-color: #7fbf7f\">│   │   </span><span style=\"color: #008000; text-decoration-color: #008000\">'userid'</span>: <span style=\"color: #008000; text-decoration-color: #008000\">'nmhunate'</span>,\n",
       "<span style=\"color: #7fbf7f; text-decoration-color: #7fbf7f\">│   │   </span><span style=\"color: #008000; text-decoration-color: #008000\">'text'</span>: <span style=\"color: #008000; text-decoration-color: #008000\">'What percentage of Americans will I be more wealthy than if I had $1,000 to my name. \\n\\nyour source is not clear that I would be or not be more wealthy than 50.1% \\n\\nEdit:\\n\\nAccording to the census bureau the wealth of the lowest quintile of Americans is about -6,000... So with $1,000 to my name I am more wealthy than at least 20%\\n\\nWhat does your source say?'</span>,\n",
       "<span style=\"color: #7fbf7f; text-decoration-color: #7fbf7f\">│   │   </span><span style=\"color: #008000; text-decoration-color: #008000\">'timestamp'</span>: <span style=\"color: #008080; text-decoration-color: #008080; font-weight: bold\">1442609894</span>\n",
       "<span style=\"color: #7fbf7f; text-decoration-color: #7fbf7f\">│   </span><span style=\"font-weight: bold\">}</span>,\n",
       "<span style=\"color: #7fbf7f; text-decoration-color: #7fbf7f\">│   </span><span style=\"color: #008000; text-decoration-color: #008000\">'last_utterance'</span>: <span style=\"font-weight: bold\">{</span>\n",
       "<span style=\"color: #7fbf7f; text-decoration-color: #7fbf7f\">│   │   </span><span style=\"color: #008000; text-decoration-color: #008000\">'id'</span>: <span style=\"color: #008000; text-decoration-color: #008000\">'cv6ahpr'</span>,\n",
       "<span style=\"color: #7fbf7f; text-decoration-color: #7fbf7f\">│   │   </span><span style=\"color: #008000; text-decoration-color: #008000\">'userid'</span>: <span style=\"color: #008000; text-decoration-color: #008000\">'Hq3473'</span>,\n",
       "<span style=\"color: #7fbf7f; text-decoration-color: #7fbf7f\">│   │   </span><span style=\"color: #008000; text-decoration-color: #008000\">'text'</span>: <span style=\"color: #008000; text-decoration-color: #008000\">'Every single age bracket shown has **median net worth** well over $1000.\\n\\n\"Median: in statistics and probability theory, a median is the number **separating the higher half** of a data sample, **a population**, or a probability distribution, from the lower half.\"\\n\\nhttps://en.wikipedia.org/wiki/Median\\n\\nHope this helps.\\n'</span>,\n",
       "<span style=\"color: #7fbf7f; text-decoration-color: #7fbf7f\">│   │   </span><span style=\"color: #008000; text-decoration-color: #008000\">'timestamp'</span>: <span style=\"color: #008080; text-decoration-color: #008080; font-weight: bold\">1442610023</span>\n",
       "<span style=\"color: #7fbf7f; text-decoration-color: #7fbf7f\">│   </span><span style=\"font-weight: bold\">}</span>,\n",
       "<span style=\"color: #7fbf7f; text-decoration-color: #7fbf7f\">│   </span><span style=\"color: #008000; text-decoration-color: #008000\">'split'</span>: <span style=\"color: #008000; text-decoration-color: #008000\">'train'</span>\n",
       "<span style=\"font-weight: bold\">}</span>\n",
       "</pre>\n"
      ],
      "text/plain": [
       "\u001b[1m{\u001b[0m\n",
       "\u001b[2;32m│   \u001b[0m\u001b[32m'statement'\u001b[0m: \u001b[32m'most rich people have done nothing extraordinary to remain rich.'\u001b[0m,\n",
       "\u001b[2;32m│   \u001b[0m\u001b[32m'submission_id'\u001b[0m: \u001b[32m'3lgqyh'\u001b[0m,\n",
       "\u001b[2;32m│   \u001b[0m\u001b[32m'penultimate_utterance'\u001b[0m: \u001b[1m{\u001b[0m\n",
       "\u001b[2;32m│   │   \u001b[0m\u001b[32m'id'\u001b[0m: \u001b[32m'cv6aewg'\u001b[0m,\n",
       "\u001b[2;32m│   │   \u001b[0m\u001b[32m'userid'\u001b[0m: \u001b[32m'nmhunate'\u001b[0m,\n",
       "\u001b[2;32m│   │   \u001b[0m\u001b[32m'text'\u001b[0m: \u001b[32m'What percentage of Americans will I be more wealthy than if I had $1,000 to my name. \\n\\nyour source is not clear that I would be or not be more wealthy than 50.1% \\n\\nEdit:\\n\\nAccording to the census bureau the wealth of the lowest quintile of Americans is about -6,000... So with $1,000 to my name I am more wealthy than at least 20%\\n\\nWhat does your source say?'\u001b[0m,\n",
       "\u001b[2;32m│   │   \u001b[0m\u001b[32m'timestamp'\u001b[0m: \u001b[1;36m1442609894\u001b[0m\n",
       "\u001b[2;32m│   \u001b[0m\u001b[1m}\u001b[0m,\n",
       "\u001b[2;32m│   \u001b[0m\u001b[32m'last_utterance'\u001b[0m: \u001b[1m{\u001b[0m\n",
       "\u001b[2;32m│   │   \u001b[0m\u001b[32m'id'\u001b[0m: \u001b[32m'cv6ahpr'\u001b[0m,\n",
       "\u001b[2;32m│   │   \u001b[0m\u001b[32m'userid'\u001b[0m: \u001b[32m'Hq3473'\u001b[0m,\n",
       "\u001b[2;32m│   │   \u001b[0m\u001b[32m'text'\u001b[0m: \u001b[32m'Every single age bracket shown has **median net worth** well over $1000.\\n\\n\"Median: in statistics and probability theory, a median is the number **separating the higher half** of a data sample, **a population**, or a probability distribution, from the lower half.\"\\n\\nhttps://en.wikipedia.org/wiki/Median\\n\\nHope this helps.\\n'\u001b[0m,\n",
       "\u001b[2;32m│   │   \u001b[0m\u001b[32m'timestamp'\u001b[0m: \u001b[1;36m1442610023\u001b[0m\n",
       "\u001b[2;32m│   \u001b[0m\u001b[1m}\u001b[0m,\n",
       "\u001b[2;32m│   \u001b[0m\u001b[32m'split'\u001b[0m: \u001b[32m'train'\u001b[0m\n",
       "\u001b[1m}\u001b[0m\n"
      ]
     },
     "metadata": {},
     "output_type": "display_data"
    },
    {
     "name": "stdout",
     "output_type": "stream",
     "text": [
      "Sample 7:\n"
     ]
    },
    {
     "data": {
      "text/html": [
       "<pre style=\"white-space:pre;overflow-x:auto;line-height:normal;font-family:Menlo,'DejaVu Sans Mono',consolas,'Courier New',monospace\"><span style=\"font-weight: bold\">{</span>\n",
       "<span style=\"color: #7fbf7f; text-decoration-color: #7fbf7f\">│   </span><span style=\"color: #008000; text-decoration-color: #008000\">'statement'</span>: <span style=\"color: #008000; text-decoration-color: #008000\">'most rich people have done nothing extraordinary to remain rich.'</span>,\n",
       "<span style=\"color: #7fbf7f; text-decoration-color: #7fbf7f\">│   </span><span style=\"color: #008000; text-decoration-color: #008000\">'submission_id'</span>: <span style=\"color: #008000; text-decoration-color: #008000\">'3lgqyh'</span>,\n",
       "<span style=\"color: #7fbf7f; text-decoration-color: #7fbf7f\">│   </span><span style=\"color: #008000; text-decoration-color: #008000\">'penultimate_utterance'</span>: <span style=\"font-weight: bold\">{</span>\n",
       "<span style=\"color: #7fbf7f; text-decoration-color: #7fbf7f\">│   │   </span><span style=\"color: #008000; text-decoration-color: #008000\">'id'</span>: <span style=\"color: #008000; text-decoration-color: #008000\">'cv6v5az'</span>,\n",
       "<span style=\"color: #7fbf7f; text-decoration-color: #7fbf7f\">│   │   </span><span style=\"color: #008000; text-decoration-color: #008000\">'userid'</span>: <span style=\"color: #008000; text-decoration-color: #008000\">'whitepalms85'</span>,\n",
       "<span style=\"color: #7fbf7f; text-decoration-color: #7fbf7f\">│   │   </span><span style=\"color: #008000; text-decoration-color: #008000\">'text'</span>: <span style=\"color: #008000; text-decoration-color: #008000\">\"It's not a technicality at all. How rich you define rich alters the discussion. E.g. one million isn't that rich so it includes pretty much all people that had a successful career (e.g. a MD, mid management and so on).\"</span>,\n",
       "<span style=\"color: #7fbf7f; text-decoration-color: #7fbf7f\">│   │   </span><span style=\"color: #008000; text-decoration-color: #008000\">'timestamp'</span>: <span style=\"color: #008080; text-decoration-color: #008080; font-weight: bold\">1442666683</span>\n",
       "<span style=\"color: #7fbf7f; text-decoration-color: #7fbf7f\">│   </span><span style=\"font-weight: bold\">}</span>,\n",
       "<span style=\"color: #7fbf7f; text-decoration-color: #7fbf7f\">│   </span><span style=\"color: #008000; text-decoration-color: #008000\">'last_utterance'</span>: <span style=\"font-weight: bold\">{</span>\n",
       "<span style=\"color: #7fbf7f; text-decoration-color: #7fbf7f\">│   │   </span><span style=\"color: #008000; text-decoration-color: #008000\">'id'</span>: <span style=\"color: #008000; text-decoration-color: #008000\">'cv6w2dr'</span>,\n",
       "<span style=\"color: #7fbf7f; text-decoration-color: #7fbf7f\">│   │   </span><span style=\"color: #008000; text-decoration-color: #008000\">'userid'</span>: <span style=\"color: #008000; text-decoration-color: #008000\">'Stormflux'</span>,\n",
       "<span style=\"color: #7fbf7f; text-decoration-color: #7fbf7f\">│   │   </span><span style=\"color: #008000; text-decoration-color: #008000\">'text'</span>: <span style=\"color: #008000; text-decoration-color: #008000\">'It\\'s a technicality because your attitude was basically \"well, OP didn\\'t say *how* rich, so I\\'ll just define it how I want and win the argument on a technicality!  Haha!\"'</span>,\n",
       "<span style=\"color: #7fbf7f; text-decoration-color: #7fbf7f\">│   │   </span><span style=\"color: #008000; text-decoration-color: #008000\">'timestamp'</span>: <span style=\"color: #008080; text-decoration-color: #008080; font-weight: bold\">1442669744</span>\n",
       "<span style=\"color: #7fbf7f; text-decoration-color: #7fbf7f\">│   </span><span style=\"font-weight: bold\">}</span>,\n",
       "<span style=\"color: #7fbf7f; text-decoration-color: #7fbf7f\">│   </span><span style=\"color: #008000; text-decoration-color: #008000\">'split'</span>: <span style=\"color: #008000; text-decoration-color: #008000\">'train'</span>\n",
       "<span style=\"font-weight: bold\">}</span>\n",
       "</pre>\n"
      ],
      "text/plain": [
       "\u001b[1m{\u001b[0m\n",
       "\u001b[2;32m│   \u001b[0m\u001b[32m'statement'\u001b[0m: \u001b[32m'most rich people have done nothing extraordinary to remain rich.'\u001b[0m,\n",
       "\u001b[2;32m│   \u001b[0m\u001b[32m'submission_id'\u001b[0m: \u001b[32m'3lgqyh'\u001b[0m,\n",
       "\u001b[2;32m│   \u001b[0m\u001b[32m'penultimate_utterance'\u001b[0m: \u001b[1m{\u001b[0m\n",
       "\u001b[2;32m│   │   \u001b[0m\u001b[32m'id'\u001b[0m: \u001b[32m'cv6v5az'\u001b[0m,\n",
       "\u001b[2;32m│   │   \u001b[0m\u001b[32m'userid'\u001b[0m: \u001b[32m'whitepalms85'\u001b[0m,\n",
       "\u001b[2;32m│   │   \u001b[0m\u001b[32m'text'\u001b[0m: \u001b[32m\"It's not a technicality at all. How rich you define rich alters the discussion. E.g. one million isn't that rich so it includes pretty much all people that had a successful career \u001b[0m\u001b[32m(\u001b[0m\u001b[32me.g. a MD, mid management and so on\u001b[0m\u001b[32m)\u001b[0m\u001b[32m.\"\u001b[0m,\n",
       "\u001b[2;32m│   │   \u001b[0m\u001b[32m'timestamp'\u001b[0m: \u001b[1;36m1442666683\u001b[0m\n",
       "\u001b[2;32m│   \u001b[0m\u001b[1m}\u001b[0m,\n",
       "\u001b[2;32m│   \u001b[0m\u001b[32m'last_utterance'\u001b[0m: \u001b[1m{\u001b[0m\n",
       "\u001b[2;32m│   │   \u001b[0m\u001b[32m'id'\u001b[0m: \u001b[32m'cv6w2dr'\u001b[0m,\n",
       "\u001b[2;32m│   │   \u001b[0m\u001b[32m'userid'\u001b[0m: \u001b[32m'Stormflux'\u001b[0m,\n",
       "\u001b[2;32m│   │   \u001b[0m\u001b[32m'text'\u001b[0m: \u001b[32m'It\\'s a technicality because your attitude was basically \"well, OP didn\\'t say *how* rich, so I\\'ll just define it how I want and win the argument on a technicality!  Haha!\"'\u001b[0m,\n",
       "\u001b[2;32m│   │   \u001b[0m\u001b[32m'timestamp'\u001b[0m: \u001b[1;36m1442669744\u001b[0m\n",
       "\u001b[2;32m│   \u001b[0m\u001b[1m}\u001b[0m,\n",
       "\u001b[2;32m│   \u001b[0m\u001b[32m'split'\u001b[0m: \u001b[32m'train'\u001b[0m\n",
       "\u001b[1m}\u001b[0m\n"
      ]
     },
     "metadata": {},
     "output_type": "display_data"
    },
    {
     "name": "stdout",
     "output_type": "stream",
     "text": [
      "Sample 8:\n"
     ]
    },
    {
     "data": {
      "text/html": [
       "<pre style=\"white-space:pre;overflow-x:auto;line-height:normal;font-family:Menlo,'DejaVu Sans Mono',consolas,'Courier New',monospace\"><span style=\"font-weight: bold\">{</span>\n",
       "<span style=\"color: #7fbf7f; text-decoration-color: #7fbf7f\">│   </span><span style=\"color: #008000; text-decoration-color: #008000\">'statement'</span>: <span style=\"color: #008000; text-decoration-color: #008000\">'No country has more permissive free speech laws than the United States'</span>,\n",
       "<span style=\"color: #7fbf7f; text-decoration-color: #7fbf7f\">│   </span><span style=\"color: #008000; text-decoration-color: #008000\">'submission_id'</span>: <span style=\"color: #008000; text-decoration-color: #008000\">'3lwjca'</span>,\n",
       "<span style=\"color: #7fbf7f; text-decoration-color: #7fbf7f\">│   </span><span style=\"color: #008000; text-decoration-color: #008000\">'penultimate_utterance'</span>: <span style=\"font-weight: bold\">{</span>\n",
       "<span style=\"color: #7fbf7f; text-decoration-color: #7fbf7f\">│   │   </span><span style=\"color: #008000; text-decoration-color: #008000\">'id'</span>: <span style=\"color: #008000; text-decoration-color: #008000\">'cv9xqp0'</span>,\n",
       "<span style=\"color: #7fbf7f; text-decoration-color: #7fbf7f\">│   │   </span><span style=\"color: #008000; text-decoration-color: #008000\">'userid'</span>: <span style=\"color: #008000; text-decoration-color: #008000\">'Dalanzadgad'</span>,\n",
       "<span style=\"color: #7fbf7f; text-decoration-color: #7fbf7f\">│   │   </span><span style=\"color: #008000; text-decoration-color: #008000\">'text'</span>: <span style=\"color: #008000; text-decoration-color: #008000\">\"How can you possibly harass someone online?\\n\\nTyler The Creator [said it best](https://twitter.com/fucktyler/status/285670822264307712?lang=en): Cyberbullying doesn't exist.\"</span>,\n",
       "<span style=\"color: #7fbf7f; text-decoration-color: #7fbf7f\">│   │   </span><span style=\"color: #008000; text-decoration-color: #008000\">'timestamp'</span>: <span style=\"color: #008080; text-decoration-color: #008080; font-weight: bold\">1442902039</span>\n",
       "<span style=\"color: #7fbf7f; text-decoration-color: #7fbf7f\">│   </span><span style=\"font-weight: bold\">}</span>,\n",
       "<span style=\"color: #7fbf7f; text-decoration-color: #7fbf7f\">│   </span><span style=\"color: #008000; text-decoration-color: #008000\">'last_utterance'</span>: <span style=\"font-weight: bold\">{</span>\n",
       "<span style=\"color: #7fbf7f; text-decoration-color: #7fbf7f\">│   │   </span><span style=\"color: #008000; text-decoration-color: #008000\">'id'</span>: <span style=\"color: #008000; text-decoration-color: #008000\">'cv9yls4'</span>,\n",
       "<span style=\"color: #7fbf7f; text-decoration-color: #7fbf7f\">│   │   </span><span style=\"color: #008000; text-decoration-color: #008000\">'userid'</span>: <span style=\"color: #008000; text-decoration-color: #008000\">'Wehavecrashed'</span>,\n",
       "<span style=\"color: #7fbf7f; text-decoration-color: #7fbf7f\">│   │   </span><span style=\"color: #008000; text-decoration-color: #008000\">'text'</span>: <span style=\"color: #008000; text-decoration-color: #008000\">\"I don't know, ask Anita Sarkessean. \"</span>,\n",
       "<span style=\"color: #7fbf7f; text-decoration-color: #7fbf7f\">│   │   </span><span style=\"color: #008000; text-decoration-color: #008000\">'timestamp'</span>: <span style=\"color: #008080; text-decoration-color: #008080; font-weight: bold\">1442905028</span>\n",
       "<span style=\"color: #7fbf7f; text-decoration-color: #7fbf7f\">│   </span><span style=\"font-weight: bold\">}</span>,\n",
       "<span style=\"color: #7fbf7f; text-decoration-color: #7fbf7f\">│   </span><span style=\"color: #008000; text-decoration-color: #008000\">'split'</span>: <span style=\"color: #008000; text-decoration-color: #008000\">'train'</span>\n",
       "<span style=\"font-weight: bold\">}</span>\n",
       "</pre>\n"
      ],
      "text/plain": [
       "\u001b[1m{\u001b[0m\n",
       "\u001b[2;32m│   \u001b[0m\u001b[32m'statement'\u001b[0m: \u001b[32m'No country has more permissive free speech laws than the United States'\u001b[0m,\n",
       "\u001b[2;32m│   \u001b[0m\u001b[32m'submission_id'\u001b[0m: \u001b[32m'3lwjca'\u001b[0m,\n",
       "\u001b[2;32m│   \u001b[0m\u001b[32m'penultimate_utterance'\u001b[0m: \u001b[1m{\u001b[0m\n",
       "\u001b[2;32m│   │   \u001b[0m\u001b[32m'id'\u001b[0m: \u001b[32m'cv9xqp0'\u001b[0m,\n",
       "\u001b[2;32m│   │   \u001b[0m\u001b[32m'userid'\u001b[0m: \u001b[32m'Dalanzadgad'\u001b[0m,\n",
       "\u001b[2;32m│   │   \u001b[0m\u001b[32m'text'\u001b[0m: \u001b[32m\"How can you possibly harass someone online?\\n\\nTyler The Creator \u001b[0m\u001b[32m[\u001b[0m\u001b[32msaid it best\u001b[0m\u001b[32m]\u001b[0m\u001b[32m(\u001b[0m\u001b[32mhttps://twitter.com/fucktyler/status/285670822264307712?\u001b[0m\u001b[32mlang\u001b[0m\u001b[32m=\u001b[0m\u001b[32men\u001b[0m\u001b[32m)\u001b[0m\u001b[32m: Cyberbullying doesn't exist.\"\u001b[0m,\n",
       "\u001b[2;32m│   │   \u001b[0m\u001b[32m'timestamp'\u001b[0m: \u001b[1;36m1442902039\u001b[0m\n",
       "\u001b[2;32m│   \u001b[0m\u001b[1m}\u001b[0m,\n",
       "\u001b[2;32m│   \u001b[0m\u001b[32m'last_utterance'\u001b[0m: \u001b[1m{\u001b[0m\n",
       "\u001b[2;32m│   │   \u001b[0m\u001b[32m'id'\u001b[0m: \u001b[32m'cv9yls4'\u001b[0m,\n",
       "\u001b[2;32m│   │   \u001b[0m\u001b[32m'userid'\u001b[0m: \u001b[32m'Wehavecrashed'\u001b[0m,\n",
       "\u001b[2;32m│   │   \u001b[0m\u001b[32m'text'\u001b[0m: \u001b[32m\"I don't know, ask Anita Sarkessean. \"\u001b[0m,\n",
       "\u001b[2;32m│   │   \u001b[0m\u001b[32m'timestamp'\u001b[0m: \u001b[1;36m1442905028\u001b[0m\n",
       "\u001b[2;32m│   \u001b[0m\u001b[1m}\u001b[0m,\n",
       "\u001b[2;32m│   \u001b[0m\u001b[32m'split'\u001b[0m: \u001b[32m'train'\u001b[0m\n",
       "\u001b[1m}\u001b[0m\n"
      ]
     },
     "metadata": {},
     "output_type": "display_data"
    },
    {
     "name": "stdout",
     "output_type": "stream",
     "text": [
      "Sample 9:\n"
     ]
    },
    {
     "data": {
      "text/html": [
       "<pre style=\"white-space:pre;overflow-x:auto;line-height:normal;font-family:Menlo,'DejaVu Sans Mono',consolas,'Courier New',monospace\"><span style=\"font-weight: bold\">{</span>\n",
       "<span style=\"color: #7fbf7f; text-decoration-color: #7fbf7f\">│   </span><span style=\"color: #008000; text-decoration-color: #008000\">'statement'</span>: <span style=\"color: #008000; text-decoration-color: #008000\">'You cannot reject parts of the bible and believe others. If you decide what to believe or not believe, it defeats the whole point of a religious dogma.'</span>,\n",
       "<span style=\"color: #7fbf7f; text-decoration-color: #7fbf7f\">│   </span><span style=\"color: #008000; text-decoration-color: #008000\">'submission_id'</span>: <span style=\"color: #008000; text-decoration-color: #008000\">'3lyk7o'</span>,\n",
       "<span style=\"color: #7fbf7f; text-decoration-color: #7fbf7f\">│   </span><span style=\"color: #008000; text-decoration-color: #008000\">'penultimate_utterance'</span>: <span style=\"font-weight: bold\">{</span>\n",
       "<span style=\"color: #7fbf7f; text-decoration-color: #7fbf7f\">│   │   </span><span style=\"color: #008000; text-decoration-color: #008000\">'id'</span>: <span style=\"color: #008000; text-decoration-color: #008000\">'cvbcn45'</span>,\n",
       "<span style=\"color: #7fbf7f; text-decoration-color: #7fbf7f\">│   │   </span><span style=\"color: #008000; text-decoration-color: #008000\">'userid'</span>: <span style=\"color: #008000; text-decoration-color: #008000\">'itsjh'</span>,\n",
       "<span style=\"color: #7fbf7f; text-decoration-color: #7fbf7f\">│   │   </span><span style=\"color: #008000; text-decoration-color: #008000\">'text'</span>: <span style=\"color: #008000; text-decoration-color: #008000\">'&gt; including all the laws\\n\\nIncluding. Not entirely comprised of. Rookie mistake. '</span>,\n",
       "<span style=\"color: #7fbf7f; text-decoration-color: #7fbf7f\">│   │   </span><span style=\"color: #008000; text-decoration-color: #008000\">'timestamp'</span>: <span style=\"color: #008080; text-decoration-color: #008080; font-weight: bold\">1443018074</span>\n",
       "<span style=\"color: #7fbf7f; text-decoration-color: #7fbf7f\">│   </span><span style=\"font-weight: bold\">}</span>,\n",
       "<span style=\"color: #7fbf7f; text-decoration-color: #7fbf7f\">│   </span><span style=\"color: #008000; text-decoration-color: #008000\">'last_utterance'</span>: <span style=\"font-weight: bold\">{</span>\n",
       "<span style=\"color: #7fbf7f; text-decoration-color: #7fbf7f\">│   │   </span><span style=\"color: #008000; text-decoration-color: #008000\">'id'</span>: <span style=\"color: #008000; text-decoration-color: #008000\">'cvbdf0s'</span>,\n",
       "<span style=\"color: #7fbf7f; text-decoration-color: #7fbf7f\">│   │   </span><span style=\"color: #008000; text-decoration-color: #008000\">'userid'</span>: <span style=\"color: #008000; text-decoration-color: #008000\">'IIIBlackhartIII'</span>,\n",
       "<span style=\"color: #7fbf7f; text-decoration-color: #7fbf7f\">│   │   </span><span style=\"color: #008000; text-decoration-color: #008000\">'text'</span>: <span style=\"color: #008000; text-decoration-color: #008000\">\"&gt;  the words of God\\n\\nGod. The infallible being that created and judges us all, according to the Bible. The bible's accounts of history and his miracles therein therefore being similarly infallible, supported by creationists like those who built the Creation Museum in Kentucky, deny evolution, deny the world is older than 6,000 years, and try to give pseudo-scientific explanations for how those miracles really did happen. Therefore, dogma. Rookie mistake. \"</span>,\n",
       "<span style=\"color: #7fbf7f; text-decoration-color: #7fbf7f\">│   │   </span><span style=\"color: #008000; text-decoration-color: #008000\">'timestamp'</span>: <span style=\"color: #008080; text-decoration-color: #008080; font-weight: bold\">1443019323</span>\n",
       "<span style=\"color: #7fbf7f; text-decoration-color: #7fbf7f\">│   </span><span style=\"font-weight: bold\">}</span>,\n",
       "<span style=\"color: #7fbf7f; text-decoration-color: #7fbf7f\">│   </span><span style=\"color: #008000; text-decoration-color: #008000\">'split'</span>: <span style=\"color: #008000; text-decoration-color: #008000\">'train'</span>\n",
       "<span style=\"font-weight: bold\">}</span>\n",
       "</pre>\n"
      ],
      "text/plain": [
       "\u001b[1m{\u001b[0m\n",
       "\u001b[2;32m│   \u001b[0m\u001b[32m'statement'\u001b[0m: \u001b[32m'You cannot reject parts of the bible and believe others. If you decide what to believe or not believe, it defeats the whole point of a religious dogma.'\u001b[0m,\n",
       "\u001b[2;32m│   \u001b[0m\u001b[32m'submission_id'\u001b[0m: \u001b[32m'3lyk7o'\u001b[0m,\n",
       "\u001b[2;32m│   \u001b[0m\u001b[32m'penultimate_utterance'\u001b[0m: \u001b[1m{\u001b[0m\n",
       "\u001b[2;32m│   │   \u001b[0m\u001b[32m'id'\u001b[0m: \u001b[32m'cvbcn45'\u001b[0m,\n",
       "\u001b[2;32m│   │   \u001b[0m\u001b[32m'userid'\u001b[0m: \u001b[32m'itsjh'\u001b[0m,\n",
       "\u001b[2;32m│   │   \u001b[0m\u001b[32m'text'\u001b[0m: \u001b[32m'> including all the laws\\n\\nIncluding. Not entirely comprised of. Rookie mistake. '\u001b[0m,\n",
       "\u001b[2;32m│   │   \u001b[0m\u001b[32m'timestamp'\u001b[0m: \u001b[1;36m1443018074\u001b[0m\n",
       "\u001b[2;32m│   \u001b[0m\u001b[1m}\u001b[0m,\n",
       "\u001b[2;32m│   \u001b[0m\u001b[32m'last_utterance'\u001b[0m: \u001b[1m{\u001b[0m\n",
       "\u001b[2;32m│   │   \u001b[0m\u001b[32m'id'\u001b[0m: \u001b[32m'cvbdf0s'\u001b[0m,\n",
       "\u001b[2;32m│   │   \u001b[0m\u001b[32m'userid'\u001b[0m: \u001b[32m'IIIBlackhartIII'\u001b[0m,\n",
       "\u001b[2;32m│   │   \u001b[0m\u001b[32m'text'\u001b[0m: \u001b[32m\">  the words of God\\n\\nGod. The infallible being that created and judges us all, according to the Bible. The bible's accounts of history and his miracles therein therefore being similarly infallible, supported by creationists like those who built the Creation Museum in Kentucky, deny evolution, deny the world is older than 6,000 years, and try to give pseudo-scientific explanations for how those miracles really did happen. Therefore, dogma. Rookie mistake. \"\u001b[0m,\n",
       "\u001b[2;32m│   │   \u001b[0m\u001b[32m'timestamp'\u001b[0m: \u001b[1;36m1443019323\u001b[0m\n",
       "\u001b[2;32m│   \u001b[0m\u001b[1m}\u001b[0m,\n",
       "\u001b[2;32m│   \u001b[0m\u001b[32m'split'\u001b[0m: \u001b[32m'train'\u001b[0m\n",
       "\u001b[1m}\u001b[0m\n"
      ]
     },
     "metadata": {},
     "output_type": "display_data"
    },
    {
     "name": "stdout",
     "output_type": "stream",
     "text": [
      "Sample 10:\n"
     ]
    },
    {
     "data": {
      "text/html": [
       "<pre style=\"white-space:pre;overflow-x:auto;line-height:normal;font-family:Menlo,'DejaVu Sans Mono',consolas,'Courier New',monospace\"><span style=\"font-weight: bold\">{</span>\n",
       "<span style=\"color: #7fbf7f; text-decoration-color: #7fbf7f\">│   </span><span style=\"color: #008000; text-decoration-color: #008000\">'statement'</span>: <span style=\"color: #008000; text-decoration-color: #008000\">\"Martin Shkreli doesn't deserve the mass amount of hate that he's getting on Reddit today.\"</span>,\n",
       "<span style=\"color: #7fbf7f; text-decoration-color: #7fbf7f\">│   </span><span style=\"color: #008000; text-decoration-color: #008000\">'submission_id'</span>: <span style=\"color: #008000; text-decoration-color: #008000\">'3m1ayk'</span>,\n",
       "<span style=\"color: #7fbf7f; text-decoration-color: #7fbf7f\">│   </span><span style=\"color: #008000; text-decoration-color: #008000\">'penultimate_utterance'</span>: <span style=\"font-weight: bold\">{</span>\n",
       "<span style=\"color: #7fbf7f; text-decoration-color: #7fbf7f\">│   │   </span><span style=\"color: #008000; text-decoration-color: #008000\">'id'</span>: <span style=\"color: #008000; text-decoration-color: #008000\">'cvbgtpf'</span>,\n",
       "<span style=\"color: #7fbf7f; text-decoration-color: #7fbf7f\">│   │   </span><span style=\"color: #008000; text-decoration-color: #008000\">'userid'</span>: <span style=\"color: #008000; text-decoration-color: #008000\">'manwithfaceofbird'</span>,\n",
       "<span style=\"color: #7fbf7f; text-decoration-color: #7fbf7f\">│   │   </span><span style=\"color: #008000; text-decoration-color: #008000\">'text'</span>: <span style=\"color: #008000; text-decoration-color: #008000\">'Slave labour is profitable as fuck too but you won\\'t see anyone arguing that we go around using slaves. Making a life-essential medicine prohibitively expensive without a good reason beyond \"because it\\'s more profitable\" is an evil thing to do and Shkreli is an evil person.'</span>,\n",
       "<span style=\"color: #7fbf7f; text-decoration-color: #7fbf7f\">│   │   </span><span style=\"color: #008000; text-decoration-color: #008000\">'timestamp'</span>: <span style=\"color: #008080; text-decoration-color: #008080; font-weight: bold\">1443024416</span>\n",
       "<span style=\"color: #7fbf7f; text-decoration-color: #7fbf7f\">│   </span><span style=\"font-weight: bold\">}</span>,\n",
       "<span style=\"color: #7fbf7f; text-decoration-color: #7fbf7f\">│   </span><span style=\"color: #008000; text-decoration-color: #008000\">'last_utterance'</span>: <span style=\"font-weight: bold\">{</span>\n",
       "<span style=\"color: #7fbf7f; text-decoration-color: #7fbf7f\">│   │   </span><span style=\"color: #008000; text-decoration-color: #008000\">'id'</span>: <span style=\"color: #008000; text-decoration-color: #008000\">'cvbk7b1'</span>,\n",
       "<span style=\"color: #7fbf7f; text-decoration-color: #7fbf7f\">│   │   </span><span style=\"color: #008000; text-decoration-color: #008000\">'userid'</span>: <span style=\"color: #008000; text-decoration-color: #008000\">'NotVeryGoodAtStuff'</span>,\n",
       "<span style=\"color: #7fbf7f; text-decoration-color: #7fbf7f\">│   │   </span><span style=\"color: #008000; text-decoration-color: #008000\">'text'</span>: <span style=\"color: #008000; text-decoration-color: #008000\">\"He's a bad person for trying to make a business that he says is borderline losing money every year, a profit? \\n\\nEven though he gives away about half of their product sold for a dollar or less? Does that really sound like the acts of an evil person? \"</span>,\n",
       "<span style=\"color: #7fbf7f; text-decoration-color: #7fbf7f\">│   │   </span><span style=\"color: #008000; text-decoration-color: #008000\">'timestamp'</span>: <span style=\"color: #008080; text-decoration-color: #008080; font-weight: bold\">1443029305</span>\n",
       "<span style=\"color: #7fbf7f; text-decoration-color: #7fbf7f\">│   </span><span style=\"font-weight: bold\">}</span>,\n",
       "<span style=\"color: #7fbf7f; text-decoration-color: #7fbf7f\">│   </span><span style=\"color: #008000; text-decoration-color: #008000\">'split'</span>: <span style=\"color: #008000; text-decoration-color: #008000\">'train'</span>\n",
       "<span style=\"font-weight: bold\">}</span>\n",
       "</pre>\n"
      ],
      "text/plain": [
       "\u001b[1m{\u001b[0m\n",
       "\u001b[2;32m│   \u001b[0m\u001b[32m'statement'\u001b[0m: \u001b[32m\"Martin Shkreli doesn't deserve the mass amount of hate that he's getting on Reddit today.\"\u001b[0m,\n",
       "\u001b[2;32m│   \u001b[0m\u001b[32m'submission_id'\u001b[0m: \u001b[32m'3m1ayk'\u001b[0m,\n",
       "\u001b[2;32m│   \u001b[0m\u001b[32m'penultimate_utterance'\u001b[0m: \u001b[1m{\u001b[0m\n",
       "\u001b[2;32m│   │   \u001b[0m\u001b[32m'id'\u001b[0m: \u001b[32m'cvbgtpf'\u001b[0m,\n",
       "\u001b[2;32m│   │   \u001b[0m\u001b[32m'userid'\u001b[0m: \u001b[32m'manwithfaceofbird'\u001b[0m,\n",
       "\u001b[2;32m│   │   \u001b[0m\u001b[32m'text'\u001b[0m: \u001b[32m'Slave labour is profitable as fuck too but you won\\'t see anyone arguing that we go around using slaves. Making a life-essential medicine prohibitively expensive without a good reason beyond \"because it\\'s more profitable\" is an evil thing to do and Shkreli is an evil person.'\u001b[0m,\n",
       "\u001b[2;32m│   │   \u001b[0m\u001b[32m'timestamp'\u001b[0m: \u001b[1;36m1443024416\u001b[0m\n",
       "\u001b[2;32m│   \u001b[0m\u001b[1m}\u001b[0m,\n",
       "\u001b[2;32m│   \u001b[0m\u001b[32m'last_utterance'\u001b[0m: \u001b[1m{\u001b[0m\n",
       "\u001b[2;32m│   │   \u001b[0m\u001b[32m'id'\u001b[0m: \u001b[32m'cvbk7b1'\u001b[0m,\n",
       "\u001b[2;32m│   │   \u001b[0m\u001b[32m'userid'\u001b[0m: \u001b[32m'NotVeryGoodAtStuff'\u001b[0m,\n",
       "\u001b[2;32m│   │   \u001b[0m\u001b[32m'text'\u001b[0m: \u001b[32m\"He's a bad person for trying to make a business that he says is borderline losing money every year, a profit? \\n\\nEven though he gives away about half of their product sold for a dollar or less? Does that really sound like the acts of an evil person? \"\u001b[0m,\n",
       "\u001b[2;32m│   │   \u001b[0m\u001b[32m'timestamp'\u001b[0m: \u001b[1;36m1443029305\u001b[0m\n",
       "\u001b[2;32m│   \u001b[0m\u001b[1m}\u001b[0m,\n",
       "\u001b[2;32m│   \u001b[0m\u001b[32m'split'\u001b[0m: \u001b[32m'train'\u001b[0m\n",
       "\u001b[1m}\u001b[0m\n"
      ]
     },
     "metadata": {},
     "output_type": "display_data"
    },
    {
     "name": "stdout",
     "output_type": "stream",
     "text": [
      "Sample 11:\n"
     ]
    },
    {
     "data": {
      "text/html": [
       "<pre style=\"white-space:pre;overflow-x:auto;line-height:normal;font-family:Menlo,'DejaVu Sans Mono',consolas,'Courier New',monospace\"><span style=\"font-weight: bold\">{</span>\n",
       "<span style=\"color: #7fbf7f; text-decoration-color: #7fbf7f\">│   </span><span style=\"color: #008000; text-decoration-color: #008000\">'statement'</span>: <span style=\"color: #008000; text-decoration-color: #008000\">\"Intellectual diversity has made western society great but racial diversity has made western society more violent, weaker and culturally fragmented. For this reason voluminous immigration is not a solution to US/Europe's woes.\"</span>,\n",
       "<span style=\"color: #7fbf7f; text-decoration-color: #7fbf7f\">│   </span><span style=\"color: #008000; text-decoration-color: #008000\">'submission_id'</span>: <span style=\"color: #008000; text-decoration-color: #008000\">'3m87pu'</span>,\n",
       "<span style=\"color: #7fbf7f; text-decoration-color: #7fbf7f\">│   </span><span style=\"color: #008000; text-decoration-color: #008000\">'penultimate_utterance'</span>: <span style=\"font-weight: bold\">{</span>\n",
       "<span style=\"color: #7fbf7f; text-decoration-color: #7fbf7f\">│   │   </span><span style=\"color: #008000; text-decoration-color: #008000\">'id'</span>: <span style=\"color: #008000; text-decoration-color: #008000\">'cvd2wzb'</span>,\n",
       "<span style=\"color: #7fbf7f; text-decoration-color: #7fbf7f\">│   │   </span><span style=\"color: #008000; text-decoration-color: #008000\">'userid'</span>: <span style=\"color: #008000; text-decoration-color: #008000\">'Irishguy317'</span>,\n",
       "<span style=\"color: #7fbf7f; text-decoration-color: #7fbf7f\">│   │   </span><span style=\"color: #008000; text-decoration-color: #008000\">'text'</span>: <span style=\"color: #008000; text-decoration-color: #008000\">\"I'm concerned that you haven't refuted the facts and statistics presented, but instead chose to call him a racist.\"</span>,\n",
       "<span style=\"color: #7fbf7f; text-decoration-color: #7fbf7f\">│   │   </span><span style=\"color: #008000; text-decoration-color: #008000\">'timestamp'</span>: <span style=\"color: #008080; text-decoration-color: #008080; font-weight: bold\">1443132335</span>\n",
       "<span style=\"color: #7fbf7f; text-decoration-color: #7fbf7f\">│   </span><span style=\"font-weight: bold\">}</span>,\n",
       "<span style=\"color: #7fbf7f; text-decoration-color: #7fbf7f\">│   </span><span style=\"color: #008000; text-decoration-color: #008000\">'last_utterance'</span>: <span style=\"font-weight: bold\">{</span>\n",
       "<span style=\"color: #7fbf7f; text-decoration-color: #7fbf7f\">│   │   </span><span style=\"color: #008000; text-decoration-color: #008000\">'id'</span>: <span style=\"color: #008000; text-decoration-color: #008000\">'cvd30sg'</span>,\n",
       "<span style=\"color: #7fbf7f; text-decoration-color: #7fbf7f\">│   │   </span><span style=\"color: #008000; text-decoration-color: #008000\">'userid'</span>: <span style=\"color: #008000; text-decoration-color: #008000\">'celocanth13'</span>,\n",
       "<span style=\"color: #7fbf7f; text-decoration-color: #7fbf7f\">│   │   </span><span style=\"color: #008000; text-decoration-color: #008000\">'text'</span>: <span style=\"color: #008000; text-decoration-color: #008000\">\"They comment in some of the worst subreddits reddit has to offer, they're probably racist.\"</span>,\n",
       "<span style=\"color: #7fbf7f; text-decoration-color: #7fbf7f\">│   │   </span><span style=\"color: #008000; text-decoration-color: #008000\">'timestamp'</span>: <span style=\"color: #008080; text-decoration-color: #008080; font-weight: bold\">1443132512</span>\n",
       "<span style=\"color: #7fbf7f; text-decoration-color: #7fbf7f\">│   </span><span style=\"font-weight: bold\">}</span>,\n",
       "<span style=\"color: #7fbf7f; text-decoration-color: #7fbf7f\">│   </span><span style=\"color: #008000; text-decoration-color: #008000\">'split'</span>: <span style=\"color: #008000; text-decoration-color: #008000\">'train'</span>\n",
       "<span style=\"font-weight: bold\">}</span>\n",
       "</pre>\n"
      ],
      "text/plain": [
       "\u001b[1m{\u001b[0m\n",
       "\u001b[2;32m│   \u001b[0m\u001b[32m'statement'\u001b[0m: \u001b[32m\"Intellectual diversity has made western society great but racial diversity has made western society more violent, weaker and culturally fragmented. For this reason voluminous immigration is not a solution to US/Europe's woes.\"\u001b[0m,\n",
       "\u001b[2;32m│   \u001b[0m\u001b[32m'submission_id'\u001b[0m: \u001b[32m'3m87pu'\u001b[0m,\n",
       "\u001b[2;32m│   \u001b[0m\u001b[32m'penultimate_utterance'\u001b[0m: \u001b[1m{\u001b[0m\n",
       "\u001b[2;32m│   │   \u001b[0m\u001b[32m'id'\u001b[0m: \u001b[32m'cvd2wzb'\u001b[0m,\n",
       "\u001b[2;32m│   │   \u001b[0m\u001b[32m'userid'\u001b[0m: \u001b[32m'Irishguy317'\u001b[0m,\n",
       "\u001b[2;32m│   │   \u001b[0m\u001b[32m'text'\u001b[0m: \u001b[32m\"I'm concerned that you haven't refuted the facts and statistics presented, but instead chose to call him a racist.\"\u001b[0m,\n",
       "\u001b[2;32m│   │   \u001b[0m\u001b[32m'timestamp'\u001b[0m: \u001b[1;36m1443132335\u001b[0m\n",
       "\u001b[2;32m│   \u001b[0m\u001b[1m}\u001b[0m,\n",
       "\u001b[2;32m│   \u001b[0m\u001b[32m'last_utterance'\u001b[0m: \u001b[1m{\u001b[0m\n",
       "\u001b[2;32m│   │   \u001b[0m\u001b[32m'id'\u001b[0m: \u001b[32m'cvd30sg'\u001b[0m,\n",
       "\u001b[2;32m│   │   \u001b[0m\u001b[32m'userid'\u001b[0m: \u001b[32m'celocanth13'\u001b[0m,\n",
       "\u001b[2;32m│   │   \u001b[0m\u001b[32m'text'\u001b[0m: \u001b[32m\"They comment in some of the worst subreddits reddit has to offer, they're probably racist.\"\u001b[0m,\n",
       "\u001b[2;32m│   │   \u001b[0m\u001b[32m'timestamp'\u001b[0m: \u001b[1;36m1443132512\u001b[0m\n",
       "\u001b[2;32m│   \u001b[0m\u001b[1m}\u001b[0m,\n",
       "\u001b[2;32m│   \u001b[0m\u001b[32m'split'\u001b[0m: \u001b[32m'train'\u001b[0m\n",
       "\u001b[1m}\u001b[0m\n"
      ]
     },
     "metadata": {},
     "output_type": "display_data"
    },
    {
     "name": "stdout",
     "output_type": "stream",
     "text": [
      "Sample 12:\n"
     ]
    },
    {
     "data": {
      "text/html": [
       "<pre style=\"white-space:pre;overflow-x:auto;line-height:normal;font-family:Menlo,'DejaVu Sans Mono',consolas,'Courier New',monospace\"><span style=\"font-weight: bold\">{</span>\n",
       "<span style=\"color: #7fbf7f; text-decoration-color: #7fbf7f\">│   </span><span style=\"color: #008000; text-decoration-color: #008000\">'statement'</span>: <span style=\"color: #008000; text-decoration-color: #008000\">'The term \"Sexual Assault\" is far too broad to be meaningful, and statistics regarding sexual assault drastically inflate the problem by conflating an unwanted kiss with rape'</span>,\n",
       "<span style=\"color: #7fbf7f; text-decoration-color: #7fbf7f\">│   </span><span style=\"color: #008000; text-decoration-color: #008000\">'submission_id'</span>: <span style=\"color: #008000; text-decoration-color: #008000\">'3mckk6'</span>,\n",
       "<span style=\"color: #7fbf7f; text-decoration-color: #7fbf7f\">│   </span><span style=\"color: #008000; text-decoration-color: #008000\">'penultimate_utterance'</span>: <span style=\"font-weight: bold\">{</span>\n",
       "<span style=\"color: #7fbf7f; text-decoration-color: #7fbf7f\">│   │   </span><span style=\"color: #008000; text-decoration-color: #008000\">'id'</span>: <span style=\"color: #008000; text-decoration-color: #008000\">'cvejwyy'</span>,\n",
       "<span style=\"color: #7fbf7f; text-decoration-color: #7fbf7f\">│   │   </span><span style=\"color: #008000; text-decoration-color: #008000\">'userid'</span>: <span style=\"color: #008000; text-decoration-color: #008000\">'whiskey_clit'</span>,\n",
       "<span style=\"color: #7fbf7f; text-decoration-color: #7fbf7f\">│   │   </span><span style=\"color: #008000; text-decoration-color: #008000\">'text'</span>: <span style=\"color: #008000; text-decoration-color: #008000\">\"No, it's really not. That's actually a huge and very common misconception. \"</span>,\n",
       "<span style=\"color: #7fbf7f; text-decoration-color: #7fbf7f\">│   │   </span><span style=\"color: #008000; text-decoration-color: #008000\">'timestamp'</span>: <span style=\"color: #008080; text-decoration-color: #008080; font-weight: bold\">1443243803</span>\n",
       "<span style=\"color: #7fbf7f; text-decoration-color: #7fbf7f\">│   </span><span style=\"font-weight: bold\">}</span>,\n",
       "<span style=\"color: #7fbf7f; text-decoration-color: #7fbf7f\">│   </span><span style=\"color: #008000; text-decoration-color: #008000\">'last_utterance'</span>: <span style=\"font-weight: bold\">{</span>\n",
       "<span style=\"color: #7fbf7f; text-decoration-color: #7fbf7f\">│   │   </span><span style=\"color: #008000; text-decoration-color: #008000\">'id'</span>: <span style=\"color: #008000; text-decoration-color: #008000\">'cvek20i'</span>,\n",
       "<span style=\"color: #7fbf7f; text-decoration-color: #7fbf7f\">│   │   </span><span style=\"color: #008000; text-decoration-color: #008000\">'userid'</span>: <span style=\"color: #008000; text-decoration-color: #008000\">'ncolaros'</span>,\n",
       "<span style=\"color: #7fbf7f; text-decoration-color: #7fbf7f\">│   │   </span><span style=\"color: #008000; text-decoration-color: #008000\">'text'</span>: <span style=\"color: #008000; text-decoration-color: #008000\">\"What is? That it's rape if you are too drunk to consent?\\n\\nhttp://www.ndaa.org/pdf/pub_prosecuting_alcohol_facilitated_sexual_assault.pdf\\n\\nhttp://articles.latimes.com/1995-02-09/news/ls-30077_1_young-people\\n\\nThere's a million more, but I don't feel like doing all the research.\"</span>,\n",
       "<span style=\"color: #7fbf7f; text-decoration-color: #7fbf7f\">│   │   </span><span style=\"color: #008000; text-decoration-color: #008000\">'timestamp'</span>: <span style=\"color: #008080; text-decoration-color: #008080; font-weight: bold\">1443244226</span>\n",
       "<span style=\"color: #7fbf7f; text-decoration-color: #7fbf7f\">│   </span><span style=\"font-weight: bold\">}</span>,\n",
       "<span style=\"color: #7fbf7f; text-decoration-color: #7fbf7f\">│   </span><span style=\"color: #008000; text-decoration-color: #008000\">'split'</span>: <span style=\"color: #008000; text-decoration-color: #008000\">'train'</span>\n",
       "<span style=\"font-weight: bold\">}</span>\n",
       "</pre>\n"
      ],
      "text/plain": [
       "\u001b[1m{\u001b[0m\n",
       "\u001b[2;32m│   \u001b[0m\u001b[32m'statement'\u001b[0m: \u001b[32m'The term \"Sexual Assault\" is far too broad to be meaningful, and statistics regarding sexual assault drastically inflate the problem by conflating an unwanted kiss with rape'\u001b[0m,\n",
       "\u001b[2;32m│   \u001b[0m\u001b[32m'submission_id'\u001b[0m: \u001b[32m'3mckk6'\u001b[0m,\n",
       "\u001b[2;32m│   \u001b[0m\u001b[32m'penultimate_utterance'\u001b[0m: \u001b[1m{\u001b[0m\n",
       "\u001b[2;32m│   │   \u001b[0m\u001b[32m'id'\u001b[0m: \u001b[32m'cvejwyy'\u001b[0m,\n",
       "\u001b[2;32m│   │   \u001b[0m\u001b[32m'userid'\u001b[0m: \u001b[32m'whiskey_clit'\u001b[0m,\n",
       "\u001b[2;32m│   │   \u001b[0m\u001b[32m'text'\u001b[0m: \u001b[32m\"No, it's really not. That's actually a huge and very common misconception. \"\u001b[0m,\n",
       "\u001b[2;32m│   │   \u001b[0m\u001b[32m'timestamp'\u001b[0m: \u001b[1;36m1443243803\u001b[0m\n",
       "\u001b[2;32m│   \u001b[0m\u001b[1m}\u001b[0m,\n",
       "\u001b[2;32m│   \u001b[0m\u001b[32m'last_utterance'\u001b[0m: \u001b[1m{\u001b[0m\n",
       "\u001b[2;32m│   │   \u001b[0m\u001b[32m'id'\u001b[0m: \u001b[32m'cvek20i'\u001b[0m,\n",
       "\u001b[2;32m│   │   \u001b[0m\u001b[32m'userid'\u001b[0m: \u001b[32m'ncolaros'\u001b[0m,\n",
       "\u001b[2;32m│   │   \u001b[0m\u001b[32m'text'\u001b[0m: \u001b[32m\"What is? That it's rape if you are too drunk to consent?\\n\\nhttp://www.ndaa.org/pdf/pub_prosecuting_alcohol_facilitated_sexual_assault.pdf\\n\\nhttp://articles.latimes.com/1995-02-09/news/ls-30077_1_young-people\\n\\nThere's a million more, but I don't feel like doing all the research.\"\u001b[0m,\n",
       "\u001b[2;32m│   │   \u001b[0m\u001b[32m'timestamp'\u001b[0m: \u001b[1;36m1443244226\u001b[0m\n",
       "\u001b[2;32m│   \u001b[0m\u001b[1m}\u001b[0m,\n",
       "\u001b[2;32m│   \u001b[0m\u001b[32m'split'\u001b[0m: \u001b[32m'train'\u001b[0m\n",
       "\u001b[1m}\u001b[0m\n"
      ]
     },
     "metadata": {},
     "output_type": "display_data"
    },
    {
     "name": "stdout",
     "output_type": "stream",
     "text": [
      "Sample 13:\n"
     ]
    },
    {
     "data": {
      "text/html": [
       "<pre style=\"white-space:pre;overflow-x:auto;line-height:normal;font-family:Menlo,'DejaVu Sans Mono',consolas,'Courier New',monospace\"><span style=\"font-weight: bold\">{</span>\n",
       "<span style=\"color: #7fbf7f; text-decoration-color: #7fbf7f\">│   </span><span style=\"color: #008000; text-decoration-color: #008000\">'statement'</span>: <span style=\"color: #008000; text-decoration-color: #008000\">'Nuclear energy is a poor investment'</span>,\n",
       "<span style=\"color: #7fbf7f; text-decoration-color: #7fbf7f\">│   </span><span style=\"color: #008000; text-decoration-color: #008000\">'submission_id'</span>: <span style=\"color: #008000; text-decoration-color: #008000\">'3mld0q'</span>,\n",
       "<span style=\"color: #7fbf7f; text-decoration-color: #7fbf7f\">│   </span><span style=\"color: #008000; text-decoration-color: #008000\">'penultimate_utterance'</span>: <span style=\"font-weight: bold\">{</span>\n",
       "<span style=\"color: #7fbf7f; text-decoration-color: #7fbf7f\">│   │   </span><span style=\"color: #008000; text-decoration-color: #008000\">'id'</span>: <span style=\"color: #008000; text-decoration-color: #008000\">'cvgbcvn'</span>,\n",
       "<span style=\"color: #7fbf7f; text-decoration-color: #7fbf7f\">│   │   </span><span style=\"color: #008000; text-decoration-color: #008000\">'userid'</span>: <span style=\"color: #008000; text-decoration-color: #008000\">'SapperBomb'</span>,\n",
       "<span style=\"color: #7fbf7f; text-decoration-color: #7fbf7f\">│   │   </span><span style=\"color: #008000; text-decoration-color: #008000\">'text'</span>: <span style=\"color: #008000; text-decoration-color: #008000\">'I think that you are under the impression that a meltdown results in a nuclear explosion which it does not. A meltdown is when the fuel heats up so much that the fuel melts through the reactor and into the ground. '</span>,\n",
       "<span style=\"color: #7fbf7f; text-decoration-color: #7fbf7f\">│   │   </span><span style=\"color: #008000; text-decoration-color: #008000\">'timestamp'</span>: <span style=\"color: #008080; text-decoration-color: #008080; font-weight: bold\">1443395916</span>\n",
       "<span style=\"color: #7fbf7f; text-decoration-color: #7fbf7f\">│   </span><span style=\"font-weight: bold\">}</span>,\n",
       "<span style=\"color: #7fbf7f; text-decoration-color: #7fbf7f\">│   </span><span style=\"color: #008000; text-decoration-color: #008000\">'last_utterance'</span>: <span style=\"font-weight: bold\">{</span>\n",
       "<span style=\"color: #7fbf7f; text-decoration-color: #7fbf7f\">│   │   </span><span style=\"color: #008000; text-decoration-color: #008000\">'id'</span>: <span style=\"color: #008000; text-decoration-color: #008000\">'cvgz60w'</span>,\n",
       "<span style=\"color: #7fbf7f; text-decoration-color: #7fbf7f\">│   │   </span><span style=\"color: #008000; text-decoration-color: #008000\">'userid'</span>: <span style=\"color: #008000; text-decoration-color: #008000\">'qwertx0815'</span>,\n",
       "<span style=\"color: #7fbf7f; text-decoration-color: #7fbf7f\">│   │   </span><span style=\"color: #008000; text-decoration-color: #008000\">'text'</span>: <span style=\"color: #008000; text-decoration-color: #008000\">\"but all meltdowns to date where accompanied by severe secondary steam and/or hydrogen/oxygen explosions.\\n\\nyou shouldn't assume everybody on the internet is an idiot who can't differentiate between nuclear and conventional explosions\"</span>,\n",
       "<span style=\"color: #7fbf7f; text-decoration-color: #7fbf7f\">│   │   </span><span style=\"color: #008000; text-decoration-color: #008000\">'timestamp'</span>: <span style=\"color: #008080; text-decoration-color: #008080; font-weight: bold\">1443455721</span>\n",
       "<span style=\"color: #7fbf7f; text-decoration-color: #7fbf7f\">│   </span><span style=\"font-weight: bold\">}</span>,\n",
       "<span style=\"color: #7fbf7f; text-decoration-color: #7fbf7f\">│   </span><span style=\"color: #008000; text-decoration-color: #008000\">'split'</span>: <span style=\"color: #008000; text-decoration-color: #008000\">'train'</span>\n",
       "<span style=\"font-weight: bold\">}</span>\n",
       "</pre>\n"
      ],
      "text/plain": [
       "\u001b[1m{\u001b[0m\n",
       "\u001b[2;32m│   \u001b[0m\u001b[32m'statement'\u001b[0m: \u001b[32m'Nuclear energy is a poor investment'\u001b[0m,\n",
       "\u001b[2;32m│   \u001b[0m\u001b[32m'submission_id'\u001b[0m: \u001b[32m'3mld0q'\u001b[0m,\n",
       "\u001b[2;32m│   \u001b[0m\u001b[32m'penultimate_utterance'\u001b[0m: \u001b[1m{\u001b[0m\n",
       "\u001b[2;32m│   │   \u001b[0m\u001b[32m'id'\u001b[0m: \u001b[32m'cvgbcvn'\u001b[0m,\n",
       "\u001b[2;32m│   │   \u001b[0m\u001b[32m'userid'\u001b[0m: \u001b[32m'SapperBomb'\u001b[0m,\n",
       "\u001b[2;32m│   │   \u001b[0m\u001b[32m'text'\u001b[0m: \u001b[32m'I think that you are under the impression that a meltdown results in a nuclear explosion which it does not. A meltdown is when the fuel heats up so much that the fuel melts through the reactor and into the ground. '\u001b[0m,\n",
       "\u001b[2;32m│   │   \u001b[0m\u001b[32m'timestamp'\u001b[0m: \u001b[1;36m1443395916\u001b[0m\n",
       "\u001b[2;32m│   \u001b[0m\u001b[1m}\u001b[0m,\n",
       "\u001b[2;32m│   \u001b[0m\u001b[32m'last_utterance'\u001b[0m: \u001b[1m{\u001b[0m\n",
       "\u001b[2;32m│   │   \u001b[0m\u001b[32m'id'\u001b[0m: \u001b[32m'cvgz60w'\u001b[0m,\n",
       "\u001b[2;32m│   │   \u001b[0m\u001b[32m'userid'\u001b[0m: \u001b[32m'qwertx0815'\u001b[0m,\n",
       "\u001b[2;32m│   │   \u001b[0m\u001b[32m'text'\u001b[0m: \u001b[32m\"but all meltdowns to date where accompanied by severe secondary steam and/or hydrogen/oxygen explosions.\\n\\nyou shouldn't assume everybody on the internet is an idiot who can't differentiate between nuclear and conventional explosions\"\u001b[0m,\n",
       "\u001b[2;32m│   │   \u001b[0m\u001b[32m'timestamp'\u001b[0m: \u001b[1;36m1443455721\u001b[0m\n",
       "\u001b[2;32m│   \u001b[0m\u001b[1m}\u001b[0m,\n",
       "\u001b[2;32m│   \u001b[0m\u001b[32m'split'\u001b[0m: \u001b[32m'train'\u001b[0m\n",
       "\u001b[1m}\u001b[0m\n"
      ]
     },
     "metadata": {},
     "output_type": "display_data"
    },
    {
     "name": "stdout",
     "output_type": "stream",
     "text": [
      "Sample 14:\n"
     ]
    },
    {
     "data": {
      "text/html": [
       "<pre style=\"white-space:pre;overflow-x:auto;line-height:normal;font-family:Menlo,'DejaVu Sans Mono',consolas,'Courier New',monospace\"><span style=\"font-weight: bold\">{</span>\n",
       "<span style=\"color: #7fbf7f; text-decoration-color: #7fbf7f\">│   </span><span style=\"color: #008000; text-decoration-color: #008000\">'statement'</span>: <span style=\"color: #008000; text-decoration-color: #008000\">'If you post a controversial opinion on Facebook, you should be open to people commenting with counterarguments.'</span>,\n",
       "<span style=\"color: #7fbf7f; text-decoration-color: #7fbf7f\">│   </span><span style=\"color: #008000; text-decoration-color: #008000\">'submission_id'</span>: <span style=\"color: #008000; text-decoration-color: #008000\">'3mpc04'</span>,\n",
       "<span style=\"color: #7fbf7f; text-decoration-color: #7fbf7f\">│   </span><span style=\"color: #008000; text-decoration-color: #008000\">'penultimate_utterance'</span>: <span style=\"font-weight: bold\">{</span>\n",
       "<span style=\"color: #7fbf7f; text-decoration-color: #7fbf7f\">│   │   </span><span style=\"color: #008000; text-decoration-color: #008000\">'id'</span>: <span style=\"color: #008000; text-decoration-color: #008000\">'cvhah6u'</span>,\n",
       "<span style=\"color: #7fbf7f; text-decoration-color: #7fbf7f\">│   │   </span><span style=\"color: #008000; text-decoration-color: #008000\">'userid'</span>: <span style=\"color: #008000; text-decoration-color: #008000\">'hydrospanner'</span>,\n",
       "<span style=\"color: #7fbf7f; text-decoration-color: #7fbf7f\">│   │   </span><span style=\"color: #008000; text-decoration-color: #008000\">'text'</span>: <span style=\"color: #008000; text-decoration-color: #008000\">\"If they're not going to accept facts as valid, they're not really worth the dialogue, though.\\n\\n\"</span>,\n",
       "<span style=\"color: #7fbf7f; text-decoration-color: #7fbf7f\">│   │   </span><span style=\"color: #008000; text-decoration-color: #008000\">'timestamp'</span>: <span style=\"color: #008080; text-decoration-color: #008080; font-weight: bold\">1443472236</span>\n",
       "<span style=\"color: #7fbf7f; text-decoration-color: #7fbf7f\">│   </span><span style=\"font-weight: bold\">}</span>,\n",
       "<span style=\"color: #7fbf7f; text-decoration-color: #7fbf7f\">│   </span><span style=\"color: #008000; text-decoration-color: #008000\">'last_utterance'</span>: <span style=\"font-weight: bold\">{</span>\n",
       "<span style=\"color: #7fbf7f; text-decoration-color: #7fbf7f\">│   │   </span><span style=\"color: #008000; text-decoration-color: #008000\">'id'</span>: <span style=\"color: #008000; text-decoration-color: #008000\">'cvhbd1x'</span>,\n",
       "<span style=\"color: #7fbf7f; text-decoration-color: #7fbf7f\">│   │   </span><span style=\"color: #008000; text-decoration-color: #008000\">'userid'</span>: <span style=\"color: #008000; text-decoration-color: #008000\">'WizardofStaz'</span>,\n",
       "<span style=\"color: #7fbf7f; text-decoration-color: #7fbf7f\">│   │   </span><span style=\"color: #008000; text-decoration-color: #008000\">'text'</span>: <span style=\"color: #008000; text-decoration-color: #008000\">\"What a ridiculous notion. Your mother isn't worth your time because she holds a silly belief? People on facebook are usually friends and relatives. You put forward the effort precisely *because* these people are worth it. You don't just cut out people who add to your life because they have flaws.\"</span>,\n",
       "<span style=\"color: #7fbf7f; text-decoration-color: #7fbf7f\">│   │   </span><span style=\"color: #008000; text-decoration-color: #008000\">'timestamp'</span>: <span style=\"color: #008080; text-decoration-color: #008080; font-weight: bold\">1443473498</span>\n",
       "<span style=\"color: #7fbf7f; text-decoration-color: #7fbf7f\">│   </span><span style=\"font-weight: bold\">}</span>,\n",
       "<span style=\"color: #7fbf7f; text-decoration-color: #7fbf7f\">│   </span><span style=\"color: #008000; text-decoration-color: #008000\">'split'</span>: <span style=\"color: #008000; text-decoration-color: #008000\">'train'</span>\n",
       "<span style=\"font-weight: bold\">}</span>\n",
       "</pre>\n"
      ],
      "text/plain": [
       "\u001b[1m{\u001b[0m\n",
       "\u001b[2;32m│   \u001b[0m\u001b[32m'statement'\u001b[0m: \u001b[32m'If you post a controversial opinion on Facebook, you should be open to people commenting with counterarguments.'\u001b[0m,\n",
       "\u001b[2;32m│   \u001b[0m\u001b[32m'submission_id'\u001b[0m: \u001b[32m'3mpc04'\u001b[0m,\n",
       "\u001b[2;32m│   \u001b[0m\u001b[32m'penultimate_utterance'\u001b[0m: \u001b[1m{\u001b[0m\n",
       "\u001b[2;32m│   │   \u001b[0m\u001b[32m'id'\u001b[0m: \u001b[32m'cvhah6u'\u001b[0m,\n",
       "\u001b[2;32m│   │   \u001b[0m\u001b[32m'userid'\u001b[0m: \u001b[32m'hydrospanner'\u001b[0m,\n",
       "\u001b[2;32m│   │   \u001b[0m\u001b[32m'text'\u001b[0m: \u001b[32m\"If they're not going to accept facts as valid, they're not really worth the dialogue, though.\\n\\n\"\u001b[0m,\n",
       "\u001b[2;32m│   │   \u001b[0m\u001b[32m'timestamp'\u001b[0m: \u001b[1;36m1443472236\u001b[0m\n",
       "\u001b[2;32m│   \u001b[0m\u001b[1m}\u001b[0m,\n",
       "\u001b[2;32m│   \u001b[0m\u001b[32m'last_utterance'\u001b[0m: \u001b[1m{\u001b[0m\n",
       "\u001b[2;32m│   │   \u001b[0m\u001b[32m'id'\u001b[0m: \u001b[32m'cvhbd1x'\u001b[0m,\n",
       "\u001b[2;32m│   │   \u001b[0m\u001b[32m'userid'\u001b[0m: \u001b[32m'WizardofStaz'\u001b[0m,\n",
       "\u001b[2;32m│   │   \u001b[0m\u001b[32m'text'\u001b[0m: \u001b[32m\"What a ridiculous notion. Your mother isn't worth your time because she holds a silly belief? People on facebook are usually friends and relatives. You put forward the effort precisely *because* these people are worth it. You don't just cut out people who add to your life because they have flaws.\"\u001b[0m,\n",
       "\u001b[2;32m│   │   \u001b[0m\u001b[32m'timestamp'\u001b[0m: \u001b[1;36m1443473498\u001b[0m\n",
       "\u001b[2;32m│   \u001b[0m\u001b[1m}\u001b[0m,\n",
       "\u001b[2;32m│   \u001b[0m\u001b[32m'split'\u001b[0m: \u001b[32m'train'\u001b[0m\n",
       "\u001b[1m}\u001b[0m\n"
      ]
     },
     "metadata": {},
     "output_type": "display_data"
    },
    {
     "name": "stdout",
     "output_type": "stream",
     "text": [
      "Sample 15:\n"
     ]
    },
    {
     "data": {
      "text/html": [
       "<pre style=\"white-space:pre;overflow-x:auto;line-height:normal;font-family:Menlo,'DejaVu Sans Mono',consolas,'Courier New',monospace\"><span style=\"font-weight: bold\">{</span>\n",
       "<span style=\"color: #7fbf7f; text-decoration-color: #7fbf7f\">│   </span><span style=\"color: #008000; text-decoration-color: #008000\">'statement'</span>: <span style=\"color: #008000; text-decoration-color: #008000\">\"I shouldn't take a stance on Gamergate\"</span>,\n",
       "<span style=\"color: #7fbf7f; text-decoration-color: #7fbf7f\">│   </span><span style=\"color: #008000; text-decoration-color: #008000\">'submission_id'</span>: <span style=\"color: #008000; text-decoration-color: #008000\">'3mssc3'</span>,\n",
       "<span style=\"color: #7fbf7f; text-decoration-color: #7fbf7f\">│   </span><span style=\"color: #008000; text-decoration-color: #008000\">'penultimate_utterance'</span>: <span style=\"font-weight: bold\">{</span>\n",
       "<span style=\"color: #7fbf7f; text-decoration-color: #7fbf7f\">│   │   </span><span style=\"color: #008000; text-decoration-color: #008000\">'id'</span>: <span style=\"color: #008000; text-decoration-color: #008000\">'cvi6u3q'</span>,\n",
       "<span style=\"color: #7fbf7f; text-decoration-color: #7fbf7f\">│   │   </span><span style=\"color: #008000; text-decoration-color: #008000\">'userid'</span>: <span style=\"color: #008000; text-decoration-color: #008000\">'modsrliars'</span>,\n",
       "<span style=\"color: #7fbf7f; text-decoration-color: #7fbf7f\">│   │   </span><span style=\"color: #008000; text-decoration-color: #008000\">'text'</span>: <span style=\"color: #008000; text-decoration-color: #008000\">'Nick Nyberg, AKA Sarah Butts is a transgendered man who is a proven and admitted pedophile that aGG has circled their wagons around to protect from allegations of pedophilia and abusing his 8 year old cousin (also proven and admitted) because he is a staunch aGG supporter.\\n\\nChris Kluwe, Graham Linnehan, and Anita Sarkeesian are outspoken supporters of Nyberg.\\n\\nBut you knew all that already.'</span>,\n",
       "<span style=\"color: #7fbf7f; text-decoration-color: #7fbf7f\">│   │   </span><span style=\"color: #008000; text-decoration-color: #008000\">'timestamp'</span>: <span style=\"color: #008080; text-decoration-color: #008080; font-weight: bold\">1443542556</span>\n",
       "<span style=\"color: #7fbf7f; text-decoration-color: #7fbf7f\">│   </span><span style=\"font-weight: bold\">}</span>,\n",
       "<span style=\"color: #7fbf7f; text-decoration-color: #7fbf7f\">│   </span><span style=\"color: #008000; text-decoration-color: #008000\">'last_utterance'</span>: <span style=\"font-weight: bold\">{</span>\n",
       "<span style=\"color: #7fbf7f; text-decoration-color: #7fbf7f\">│   │   </span><span style=\"color: #008000; text-decoration-color: #008000\">'id'</span>: <span style=\"color: #008000; text-decoration-color: #008000\">'cvi720j'</span>,\n",
       "<span style=\"color: #7fbf7f; text-decoration-color: #7fbf7f\">│   │   </span><span style=\"color: #008000; text-decoration-color: #008000\">'userid'</span>: <span style=\"color: #008000; text-decoration-color: #008000\">'angusprune'</span>,\n",
       "<span style=\"color: #7fbf7f; text-decoration-color: #7fbf7f\">│   │   </span><span style=\"color: #008000; text-decoration-color: #008000\">'text'</span>: <span style=\"color: #008000; text-decoration-color: #008000\">\"Oh that. I saw some stuff about that a couple of weeks ago and it seems pretty disgusting. Based on the little I saw I wouldn't be defending them.\\n\\nWhatever else they are they are a transgender *woman* and their name is Sarah.\\n\\nBut given that you know what I know better than I do, I think talking to you any more would just be redundant.\"</span>,\n",
       "<span style=\"color: #7fbf7f; text-decoration-color: #7fbf7f\">│   │   </span><span style=\"color: #008000; text-decoration-color: #008000\">'timestamp'</span>: <span style=\"color: #008080; text-decoration-color: #008080; font-weight: bold\">1443542881</span>\n",
       "<span style=\"color: #7fbf7f; text-decoration-color: #7fbf7f\">│   </span><span style=\"font-weight: bold\">}</span>,\n",
       "<span style=\"color: #7fbf7f; text-decoration-color: #7fbf7f\">│   </span><span style=\"color: #008000; text-decoration-color: #008000\">'split'</span>: <span style=\"color: #008000; text-decoration-color: #008000\">'train'</span>\n",
       "<span style=\"font-weight: bold\">}</span>\n",
       "</pre>\n"
      ],
      "text/plain": [
       "\u001b[1m{\u001b[0m\n",
       "\u001b[2;32m│   \u001b[0m\u001b[32m'statement'\u001b[0m: \u001b[32m\"I shouldn't take a stance on Gamergate\"\u001b[0m,\n",
       "\u001b[2;32m│   \u001b[0m\u001b[32m'submission_id'\u001b[0m: \u001b[32m'3mssc3'\u001b[0m,\n",
       "\u001b[2;32m│   \u001b[0m\u001b[32m'penultimate_utterance'\u001b[0m: \u001b[1m{\u001b[0m\n",
       "\u001b[2;32m│   │   \u001b[0m\u001b[32m'id'\u001b[0m: \u001b[32m'cvi6u3q'\u001b[0m,\n",
       "\u001b[2;32m│   │   \u001b[0m\u001b[32m'userid'\u001b[0m: \u001b[32m'modsrliars'\u001b[0m,\n",
       "\u001b[2;32m│   │   \u001b[0m\u001b[32m'text'\u001b[0m: \u001b[32m'Nick Nyberg, AKA Sarah Butts is a transgendered man who is a proven and admitted pedophile that aGG has circled their wagons around to protect from allegations of pedophilia and abusing his 8 year old cousin \u001b[0m\u001b[32m(\u001b[0m\u001b[32malso proven and admitted\u001b[0m\u001b[32m)\u001b[0m\u001b[32m because he is a staunch aGG supporter.\\n\\nChris Kluwe, Graham Linnehan, and Anita Sarkeesian are outspoken supporters of Nyberg.\\n\\nBut you knew all that already.'\u001b[0m,\n",
       "\u001b[2;32m│   │   \u001b[0m\u001b[32m'timestamp'\u001b[0m: \u001b[1;36m1443542556\u001b[0m\n",
       "\u001b[2;32m│   \u001b[0m\u001b[1m}\u001b[0m,\n",
       "\u001b[2;32m│   \u001b[0m\u001b[32m'last_utterance'\u001b[0m: \u001b[1m{\u001b[0m\n",
       "\u001b[2;32m│   │   \u001b[0m\u001b[32m'id'\u001b[0m: \u001b[32m'cvi720j'\u001b[0m,\n",
       "\u001b[2;32m│   │   \u001b[0m\u001b[32m'userid'\u001b[0m: \u001b[32m'angusprune'\u001b[0m,\n",
       "\u001b[2;32m│   │   \u001b[0m\u001b[32m'text'\u001b[0m: \u001b[32m\"Oh that. I saw some stuff about that a couple of weeks ago and it seems pretty disgusting. Based on the little I saw I wouldn't be defending them.\\n\\nWhatever else they are they are a transgender *woman* and their name is Sarah.\\n\\nBut given that you know what I know better than I do, I think talking to you any more would just be redundant.\"\u001b[0m,\n",
       "\u001b[2;32m│   │   \u001b[0m\u001b[32m'timestamp'\u001b[0m: \u001b[1;36m1443542881\u001b[0m\n",
       "\u001b[2;32m│   \u001b[0m\u001b[1m}\u001b[0m,\n",
       "\u001b[2;32m│   \u001b[0m\u001b[32m'split'\u001b[0m: \u001b[32m'train'\u001b[0m\n",
       "\u001b[1m}\u001b[0m\n"
      ]
     },
     "metadata": {},
     "output_type": "display_data"
    },
    {
     "name": "stdout",
     "output_type": "stream",
     "text": [
      "Sample 16:\n"
     ]
    },
    {
     "data": {
      "text/html": [
       "<pre style=\"white-space:pre;overflow-x:auto;line-height:normal;font-family:Menlo,'DejaVu Sans Mono',consolas,'Courier New',monospace\"><span style=\"font-weight: bold\">{</span>\n",
       "<span style=\"color: #7fbf7f; text-decoration-color: #7fbf7f\">│   </span><span style=\"color: #008000; text-decoration-color: #008000\">'statement'</span>: <span style=\"color: #008000; text-decoration-color: #008000\">'I think the old argument \"You cant judge Islam by the action of those few extremists, because there are also a lot of peacefull muslims\" is invalid.'</span>,\n",
       "<span style=\"color: #7fbf7f; text-decoration-color: #7fbf7f\">│   </span><span style=\"color: #008000; text-decoration-color: #008000\">'submission_id'</span>: <span style=\"color: #008000; text-decoration-color: #008000\">'3npbkp'</span>,\n",
       "<span style=\"color: #7fbf7f; text-decoration-color: #7fbf7f\">│   </span><span style=\"color: #008000; text-decoration-color: #008000\">'penultimate_utterance'</span>: <span style=\"font-weight: bold\">{</span>\n",
       "<span style=\"color: #7fbf7f; text-decoration-color: #7fbf7f\">│   │   </span><span style=\"color: #008000; text-decoration-color: #008000\">'id'</span>: <span style=\"color: #008000; text-decoration-color: #008000\">'cvqrbz3'</span>,\n",
       "<span style=\"color: #7fbf7f; text-decoration-color: #7fbf7f\">│   │   </span><span style=\"color: #008000; text-decoration-color: #008000\">'userid'</span>: <span style=\"color: #008000; text-decoration-color: #008000\">'AnEpiphanyTooLate'</span>,\n",
       "<span style=\"color: #7fbf7f; text-decoration-color: #7fbf7f\">│   │   </span><span style=\"color: #008000; text-decoration-color: #008000\">'text'</span>: <span style=\"color: #008000; text-decoration-color: #008000\">'This is the dumbest argument I\\'ve ever heard. Do you seriously think that religions go through some kind of \"growing pains\" phase? What the fuck?'</span>,\n",
       "<span style=\"color: #7fbf7f; text-decoration-color: #7fbf7f\">│   │   </span><span style=\"color: #008000; text-decoration-color: #008000\">'timestamp'</span>: <span style=\"color: #008080; text-decoration-color: #008080; font-weight: bold\">1444178611</span>\n",
       "<span style=\"color: #7fbf7f; text-decoration-color: #7fbf7f\">│   </span><span style=\"font-weight: bold\">}</span>,\n",
       "<span style=\"color: #7fbf7f; text-decoration-color: #7fbf7f\">│   </span><span style=\"color: #008000; text-decoration-color: #008000\">'last_utterance'</span>: <span style=\"font-weight: bold\">{</span>\n",
       "<span style=\"color: #7fbf7f; text-decoration-color: #7fbf7f\">│   │   </span><span style=\"color: #008000; text-decoration-color: #008000\">'id'</span>: <span style=\"color: #008000; text-decoration-color: #008000\">'cvqrqph'</span>,\n",
       "<span style=\"color: #7fbf7f; text-decoration-color: #7fbf7f\">│   │   </span><span style=\"color: #008000; text-decoration-color: #008000\">'userid'</span>: <span style=\"color: #008000; text-decoration-color: #008000\">'ncolaros'</span>,\n",
       "<span style=\"color: #7fbf7f; text-decoration-color: #7fbf7f\">│   │   </span><span style=\"color: #008000; text-decoration-color: #008000\">'text'</span>: <span style=\"color: #008000; text-decoration-color: #008000\">\"Name me one that hasn't. \"</span>,\n",
       "<span style=\"color: #7fbf7f; text-decoration-color: #7fbf7f\">│   │   </span><span style=\"color: #008000; text-decoration-color: #008000\">'timestamp'</span>: <span style=\"color: #008080; text-decoration-color: #008080; font-weight: bold\">1444179320</span>\n",
       "<span style=\"color: #7fbf7f; text-decoration-color: #7fbf7f\">│   </span><span style=\"font-weight: bold\">}</span>,\n",
       "<span style=\"color: #7fbf7f; text-decoration-color: #7fbf7f\">│   </span><span style=\"color: #008000; text-decoration-color: #008000\">'split'</span>: <span style=\"color: #008000; text-decoration-color: #008000\">'train'</span>\n",
       "<span style=\"font-weight: bold\">}</span>\n",
       "</pre>\n"
      ],
      "text/plain": [
       "\u001b[1m{\u001b[0m\n",
       "\u001b[2;32m│   \u001b[0m\u001b[32m'statement'\u001b[0m: \u001b[32m'I think the old argument \"You cant judge Islam by the action of those few extremists, because there are also a lot of peacefull muslims\" is invalid.'\u001b[0m,\n",
       "\u001b[2;32m│   \u001b[0m\u001b[32m'submission_id'\u001b[0m: \u001b[32m'3npbkp'\u001b[0m,\n",
       "\u001b[2;32m│   \u001b[0m\u001b[32m'penultimate_utterance'\u001b[0m: \u001b[1m{\u001b[0m\n",
       "\u001b[2;32m│   │   \u001b[0m\u001b[32m'id'\u001b[0m: \u001b[32m'cvqrbz3'\u001b[0m,\n",
       "\u001b[2;32m│   │   \u001b[0m\u001b[32m'userid'\u001b[0m: \u001b[32m'AnEpiphanyTooLate'\u001b[0m,\n",
       "\u001b[2;32m│   │   \u001b[0m\u001b[32m'text'\u001b[0m: \u001b[32m'This is the dumbest argument I\\'ve ever heard. Do you seriously think that religions go through some kind of \"growing pains\" phase? What the fuck?'\u001b[0m,\n",
       "\u001b[2;32m│   │   \u001b[0m\u001b[32m'timestamp'\u001b[0m: \u001b[1;36m1444178611\u001b[0m\n",
       "\u001b[2;32m│   \u001b[0m\u001b[1m}\u001b[0m,\n",
       "\u001b[2;32m│   \u001b[0m\u001b[32m'last_utterance'\u001b[0m: \u001b[1m{\u001b[0m\n",
       "\u001b[2;32m│   │   \u001b[0m\u001b[32m'id'\u001b[0m: \u001b[32m'cvqrqph'\u001b[0m,\n",
       "\u001b[2;32m│   │   \u001b[0m\u001b[32m'userid'\u001b[0m: \u001b[32m'ncolaros'\u001b[0m,\n",
       "\u001b[2;32m│   │   \u001b[0m\u001b[32m'text'\u001b[0m: \u001b[32m\"Name me one that hasn't. \"\u001b[0m,\n",
       "\u001b[2;32m│   │   \u001b[0m\u001b[32m'timestamp'\u001b[0m: \u001b[1;36m1444179320\u001b[0m\n",
       "\u001b[2;32m│   \u001b[0m\u001b[1m}\u001b[0m,\n",
       "\u001b[2;32m│   \u001b[0m\u001b[32m'split'\u001b[0m: \u001b[32m'train'\u001b[0m\n",
       "\u001b[1m}\u001b[0m\n"
      ]
     },
     "metadata": {},
     "output_type": "display_data"
    },
    {
     "name": "stdout",
     "output_type": "stream",
     "text": [
      "Sample 17:\n"
     ]
    },
    {
     "data": {
      "text/html": [
       "<pre style=\"white-space:pre;overflow-x:auto;line-height:normal;font-family:Menlo,'DejaVu Sans Mono',consolas,'Courier New',monospace\"><span style=\"font-weight: bold\">{</span>\n",
       "<span style=\"color: #7fbf7f; text-decoration-color: #7fbf7f\">│   </span><span style=\"color: #008000; text-decoration-color: #008000\">'statement'</span>: <span style=\"color: #008000; text-decoration-color: #008000\">\"Global Warming Isn't Real.\"</span>,\n",
       "<span style=\"color: #7fbf7f; text-decoration-color: #7fbf7f\">│   </span><span style=\"color: #008000; text-decoration-color: #008000\">'submission_id'</span>: <span style=\"color: #008000; text-decoration-color: #008000\">'3nraau'</span>,\n",
       "<span style=\"color: #7fbf7f; text-decoration-color: #7fbf7f\">│   </span><span style=\"color: #008000; text-decoration-color: #008000\">'penultimate_utterance'</span>: <span style=\"font-weight: bold\">{</span>\n",
       "<span style=\"color: #7fbf7f; text-decoration-color: #7fbf7f\">│   │   </span><span style=\"color: #008000; text-decoration-color: #008000\">'id'</span>: <span style=\"color: #008000; text-decoration-color: #008000\">'cvskpl3'</span>,\n",
       "<span style=\"color: #7fbf7f; text-decoration-color: #7fbf7f\">│   │   </span><span style=\"color: #008000; text-decoration-color: #008000\">'userid'</span>: <span style=\"color: #008000; text-decoration-color: #008000\">'raZ_MG'</span>,\n",
       "<span style=\"color: #7fbf7f; text-decoration-color: #7fbf7f\">│   │   </span><span style=\"color: #008000; text-decoration-color: #008000\">'text'</span>: <span style=\"color: #008000; text-decoration-color: #008000\">\"does it make any sense to you that you are replying to a thread where I've already CMV'd? Didn't think so.\"</span>,\n",
       "<span style=\"color: #7fbf7f; text-decoration-color: #7fbf7f\">│   │   </span><span style=\"color: #008000; text-decoration-color: #008000\">'timestamp'</span>: <span style=\"color: #008080; text-decoration-color: #008080; font-weight: bold\">1444319000</span>\n",
       "<span style=\"color: #7fbf7f; text-decoration-color: #7fbf7f\">│   </span><span style=\"font-weight: bold\">}</span>,\n",
       "<span style=\"color: #7fbf7f; text-decoration-color: #7fbf7f\">│   </span><span style=\"color: #008000; text-decoration-color: #008000\">'last_utterance'</span>: <span style=\"font-weight: bold\">{</span>\n",
       "<span style=\"color: #7fbf7f; text-decoration-color: #7fbf7f\">│   │   </span><span style=\"color: #008000; text-decoration-color: #008000\">'id'</span>: <span style=\"color: #008000; text-decoration-color: #008000\">'cvsr5ja'</span>,\n",
       "<span style=\"color: #7fbf7f; text-decoration-color: #7fbf7f\">│   │   </span><span style=\"color: #008000; text-decoration-color: #008000\">'userid'</span>: <span style=\"color: #008000; text-decoration-color: #008000\">'sweetmercy'</span>,\n",
       "<span style=\"color: #7fbf7f; text-decoration-color: #7fbf7f\">│   │   </span><span style=\"color: #008000; text-decoration-color: #008000\">'text'</span>: <span style=\"color: #008000; text-decoration-color: #008000\">\"Lol...the conversation doesn't end. You really think your thoughts are all that matters, don't you?\"</span>,\n",
       "<span style=\"color: #7fbf7f; text-decoration-color: #7fbf7f\">│   │   </span><span style=\"color: #008000; text-decoration-color: #008000\">'timestamp'</span>: <span style=\"color: #008080; text-decoration-color: #008080; font-weight: bold\">1444328395</span>\n",
       "<span style=\"color: #7fbf7f; text-decoration-color: #7fbf7f\">│   </span><span style=\"font-weight: bold\">}</span>,\n",
       "<span style=\"color: #7fbf7f; text-decoration-color: #7fbf7f\">│   </span><span style=\"color: #008000; text-decoration-color: #008000\">'split'</span>: <span style=\"color: #008000; text-decoration-color: #008000\">'train'</span>\n",
       "<span style=\"font-weight: bold\">}</span>\n",
       "</pre>\n"
      ],
      "text/plain": [
       "\u001b[1m{\u001b[0m\n",
       "\u001b[2;32m│   \u001b[0m\u001b[32m'statement'\u001b[0m: \u001b[32m\"Global Warming Isn't Real.\"\u001b[0m,\n",
       "\u001b[2;32m│   \u001b[0m\u001b[32m'submission_id'\u001b[0m: \u001b[32m'3nraau'\u001b[0m,\n",
       "\u001b[2;32m│   \u001b[0m\u001b[32m'penultimate_utterance'\u001b[0m: \u001b[1m{\u001b[0m\n",
       "\u001b[2;32m│   │   \u001b[0m\u001b[32m'id'\u001b[0m: \u001b[32m'cvskpl3'\u001b[0m,\n",
       "\u001b[2;32m│   │   \u001b[0m\u001b[32m'userid'\u001b[0m: \u001b[32m'raZ_MG'\u001b[0m,\n",
       "\u001b[2;32m│   │   \u001b[0m\u001b[32m'text'\u001b[0m: \u001b[32m\"does it make any sense to you that you are replying to a thread where I've already CMV'd? Didn't think so.\"\u001b[0m,\n",
       "\u001b[2;32m│   │   \u001b[0m\u001b[32m'timestamp'\u001b[0m: \u001b[1;36m1444319000\u001b[0m\n",
       "\u001b[2;32m│   \u001b[0m\u001b[1m}\u001b[0m,\n",
       "\u001b[2;32m│   \u001b[0m\u001b[32m'last_utterance'\u001b[0m: \u001b[1m{\u001b[0m\n",
       "\u001b[2;32m│   │   \u001b[0m\u001b[32m'id'\u001b[0m: \u001b[32m'cvsr5ja'\u001b[0m,\n",
       "\u001b[2;32m│   │   \u001b[0m\u001b[32m'userid'\u001b[0m: \u001b[32m'sweetmercy'\u001b[0m,\n",
       "\u001b[2;32m│   │   \u001b[0m\u001b[32m'text'\u001b[0m: \u001b[32m\"Lol...the conversation doesn't end. You really think your thoughts are all that matters, don't you?\"\u001b[0m,\n",
       "\u001b[2;32m│   │   \u001b[0m\u001b[32m'timestamp'\u001b[0m: \u001b[1;36m1444328395\u001b[0m\n",
       "\u001b[2;32m│   \u001b[0m\u001b[1m}\u001b[0m,\n",
       "\u001b[2;32m│   \u001b[0m\u001b[32m'split'\u001b[0m: \u001b[32m'train'\u001b[0m\n",
       "\u001b[1m}\u001b[0m\n"
      ]
     },
     "metadata": {},
     "output_type": "display_data"
    },
    {
     "name": "stdout",
     "output_type": "stream",
     "text": [
      "Sample 18:\n"
     ]
    },
    {
     "data": {
      "text/html": [
       "<pre style=\"white-space:pre;overflow-x:auto;line-height:normal;font-family:Menlo,'DejaVu Sans Mono',consolas,'Courier New',monospace\"><span style=\"font-weight: bold\">{</span>\n",
       "<span style=\"color: #7fbf7f; text-decoration-color: #7fbf7f\">│   </span><span style=\"color: #008000; text-decoration-color: #008000\">'statement'</span>: <span style=\"color: #008000; text-decoration-color: #008000\">'People who believe in a vast variety of genders are crazy'</span>,\n",
       "<span style=\"color: #7fbf7f; text-decoration-color: #7fbf7f\">│   </span><span style=\"color: #008000; text-decoration-color: #008000\">'submission_id'</span>: <span style=\"color: #008000; text-decoration-color: #008000\">'3nxt82'</span>,\n",
       "<span style=\"color: #7fbf7f; text-decoration-color: #7fbf7f\">│   </span><span style=\"color: #008000; text-decoration-color: #008000\">'penultimate_utterance'</span>: <span style=\"font-weight: bold\">{</span>\n",
       "<span style=\"color: #7fbf7f; text-decoration-color: #7fbf7f\">│   │   </span><span style=\"color: #008000; text-decoration-color: #008000\">'id'</span>: <span style=\"color: #008000; text-decoration-color: #008000\">'cvs8tnr'</span>,\n",
       "<span style=\"color: #7fbf7f; text-decoration-color: #7fbf7f\">│   │   </span><span style=\"color: #008000; text-decoration-color: #008000\">'userid'</span>: <span style=\"color: #008000; text-decoration-color: #008000\">'Throwaya3345'</span>,\n",
       "<span style=\"color: #7fbf7f; text-decoration-color: #7fbf7f\">│   │   </span><span style=\"color: #008000; text-decoration-color: #008000\">'text'</span>: <span style=\"color: #008000; text-decoration-color: #008000\">'It\\'s also what I\\'ve seen happen to others. I haven\\'t had to deal with this often, but I constantly see it from them. They always attack the most ordinary wouldn\\'t-hurt-a-damn-fly type of person whenever this happens. It\\'s just like with feminists. \"Oh, that scientist wore a SHIRT we don\\'t like! Fuck him! Make him cry!\" It\\'s disgusting how they act. '</span>,\n",
       "<span style=\"color: #7fbf7f; text-decoration-color: #7fbf7f\">│   │   </span><span style=\"color: #008000; text-decoration-color: #008000\">'timestamp'</span>: <span style=\"color: #008080; text-decoration-color: #008080; font-weight: bold\">1444286805</span>\n",
       "<span style=\"color: #7fbf7f; text-decoration-color: #7fbf7f\">│   </span><span style=\"font-weight: bold\">}</span>,\n",
       "<span style=\"color: #7fbf7f; text-decoration-color: #7fbf7f\">│   </span><span style=\"color: #008000; text-decoration-color: #008000\">'last_utterance'</span>: <span style=\"font-weight: bold\">{</span>\n",
       "<span style=\"color: #7fbf7f; text-decoration-color: #7fbf7f\">│   │   </span><span style=\"color: #008000; text-decoration-color: #008000\">'id'</span>: <span style=\"color: #008000; text-decoration-color: #008000\">'cvslerb'</span>,\n",
       "<span style=\"color: #7fbf7f; text-decoration-color: #7fbf7f\">│   │   </span><span style=\"color: #008000; text-decoration-color: #008000\">'userid'</span>: <span style=\"color: #008000; text-decoration-color: #008000\">'z3r0shade'</span>,\n",
       "<span style=\"color: #7fbf7f; text-decoration-color: #7fbf7f\">│   │   </span><span style=\"color: #008000; text-decoration-color: #008000\">'text'</span>: <span style=\"color: #008000; text-decoration-color: #008000\">'&gt;  It\\'s just like with feminists. \"Oh, that scientist wore a SHIRT we don\\'t like! Fuck him! Make him cry!\" It\\'s disgusting how they act.\\n\\nYay strawmen! You realize that is not at all what happened in that situation right?'</span>,\n",
       "<span style=\"color: #7fbf7f; text-decoration-color: #7fbf7f\">│   │   </span><span style=\"color: #008000; text-decoration-color: #008000\">'timestamp'</span>: <span style=\"color: #008080; text-decoration-color: #008080; font-weight: bold\">1444320049</span>\n",
       "<span style=\"color: #7fbf7f; text-decoration-color: #7fbf7f\">│   </span><span style=\"font-weight: bold\">}</span>,\n",
       "<span style=\"color: #7fbf7f; text-decoration-color: #7fbf7f\">│   </span><span style=\"color: #008000; text-decoration-color: #008000\">'split'</span>: <span style=\"color: #008000; text-decoration-color: #008000\">'train'</span>\n",
       "<span style=\"font-weight: bold\">}</span>\n",
       "</pre>\n"
      ],
      "text/plain": [
       "\u001b[1m{\u001b[0m\n",
       "\u001b[2;32m│   \u001b[0m\u001b[32m'statement'\u001b[0m: \u001b[32m'People who believe in a vast variety of genders are crazy'\u001b[0m,\n",
       "\u001b[2;32m│   \u001b[0m\u001b[32m'submission_id'\u001b[0m: \u001b[32m'3nxt82'\u001b[0m,\n",
       "\u001b[2;32m│   \u001b[0m\u001b[32m'penultimate_utterance'\u001b[0m: \u001b[1m{\u001b[0m\n",
       "\u001b[2;32m│   │   \u001b[0m\u001b[32m'id'\u001b[0m: \u001b[32m'cvs8tnr'\u001b[0m,\n",
       "\u001b[2;32m│   │   \u001b[0m\u001b[32m'userid'\u001b[0m: \u001b[32m'Throwaya3345'\u001b[0m,\n",
       "\u001b[2;32m│   │   \u001b[0m\u001b[32m'text'\u001b[0m: \u001b[32m'It\\'s also what I\\'ve seen happen to others. I haven\\'t had to deal with this often, but I constantly see it from them. They always attack the most ordinary wouldn\\'t-hurt-a-damn-fly type of person whenever this happens. It\\'s just like with feminists. \"Oh, that scientist wore a SHIRT we don\\'t like! Fuck him! Make him cry!\" It\\'s disgusting how they act. '\u001b[0m,\n",
       "\u001b[2;32m│   │   \u001b[0m\u001b[32m'timestamp'\u001b[0m: \u001b[1;36m1444286805\u001b[0m\n",
       "\u001b[2;32m│   \u001b[0m\u001b[1m}\u001b[0m,\n",
       "\u001b[2;32m│   \u001b[0m\u001b[32m'last_utterance'\u001b[0m: \u001b[1m{\u001b[0m\n",
       "\u001b[2;32m│   │   \u001b[0m\u001b[32m'id'\u001b[0m: \u001b[32m'cvslerb'\u001b[0m,\n",
       "\u001b[2;32m│   │   \u001b[0m\u001b[32m'userid'\u001b[0m: \u001b[32m'z3r0shade'\u001b[0m,\n",
       "\u001b[2;32m│   │   \u001b[0m\u001b[32m'text'\u001b[0m: \u001b[32m'>  It\\'s just like with feminists. \"Oh, that scientist wore a SHIRT we don\\'t like! Fuck him! Make him cry!\" It\\'s disgusting how they act.\\n\\nYay strawmen! You realize that is not at all what happened in that situation right?'\u001b[0m,\n",
       "\u001b[2;32m│   │   \u001b[0m\u001b[32m'timestamp'\u001b[0m: \u001b[1;36m1444320049\u001b[0m\n",
       "\u001b[2;32m│   \u001b[0m\u001b[1m}\u001b[0m,\n",
       "\u001b[2;32m│   \u001b[0m\u001b[32m'split'\u001b[0m: \u001b[32m'train'\u001b[0m\n",
       "\u001b[1m}\u001b[0m\n"
      ]
     },
     "metadata": {},
     "output_type": "display_data"
    },
    {
     "name": "stdout",
     "output_type": "stream",
     "text": [
      "Sample 19:\n"
     ]
    },
    {
     "data": {
      "text/html": [
       "<pre style=\"white-space:pre;overflow-x:auto;line-height:normal;font-family:Menlo,'DejaVu Sans Mono',consolas,'Courier New',monospace\"><span style=\"font-weight: bold\">{</span>\n",
       "<span style=\"color: #7fbf7f; text-decoration-color: #7fbf7f\">│   </span><span style=\"color: #008000; text-decoration-color: #008000\">'statement'</span>: <span style=\"color: #008000; text-decoration-color: #008000\">'People who believe in a vast variety of genders are crazy'</span>,\n",
       "<span style=\"color: #7fbf7f; text-decoration-color: #7fbf7f\">│   </span><span style=\"color: #008000; text-decoration-color: #008000\">'submission_id'</span>: <span style=\"color: #008000; text-decoration-color: #008000\">'3nxt82'</span>,\n",
       "<span style=\"color: #7fbf7f; text-decoration-color: #7fbf7f\">│   </span><span style=\"color: #008000; text-decoration-color: #008000\">'penultimate_utterance'</span>: <span style=\"font-weight: bold\">{</span>\n",
       "<span style=\"color: #7fbf7f; text-decoration-color: #7fbf7f\">│   │   </span><span style=\"color: #008000; text-decoration-color: #008000\">'id'</span>: <span style=\"color: #008000; text-decoration-color: #008000\">'cvsyy7e'</span>,\n",
       "<span style=\"color: #7fbf7f; text-decoration-color: #7fbf7f\">│   │   </span><span style=\"color: #008000; text-decoration-color: #008000\">'userid'</span>: <span style=\"color: #008000; text-decoration-color: #008000\">'Throwaya3345'</span>,\n",
       "<span style=\"color: #7fbf7f; text-decoration-color: #7fbf7f\">│   │   </span><span style=\"color: #008000; text-decoration-color: #008000\">'text'</span>: <span style=\"color: #008000; text-decoration-color: #008000\">'\"You talk about dragon skin people or trans-race people but there really is no group that claims to be that way, so that\\'s a meaningless discussion to have.\"\\n\\nSo in other words you\\'re not going to argue for why it\\'s different, ok. '</span>,\n",
       "<span style=\"color: #7fbf7f; text-decoration-color: #7fbf7f\">│   │   </span><span style=\"color: #008000; text-decoration-color: #008000\">'timestamp'</span>: <span style=\"color: #008080; text-decoration-color: #008080; font-weight: bold\">1444339757</span>\n",
       "<span style=\"color: #7fbf7f; text-decoration-color: #7fbf7f\">│   </span><span style=\"font-weight: bold\">}</span>,\n",
       "<span style=\"color: #7fbf7f; text-decoration-color: #7fbf7f\">│   </span><span style=\"color: #008000; text-decoration-color: #008000\">'last_utterance'</span>: <span style=\"font-weight: bold\">{</span>\n",
       "<span style=\"color: #7fbf7f; text-decoration-color: #7fbf7f\">│   │   </span><span style=\"color: #008000; text-decoration-color: #008000\">'id'</span>: <span style=\"color: #008000; text-decoration-color: #008000\">'cvszhsd'</span>,\n",
       "<span style=\"color: #7fbf7f; text-decoration-color: #7fbf7f\">│   │   </span><span style=\"color: #008000; text-decoration-color: #008000\">'userid'</span>: <span style=\"color: #008000; text-decoration-color: #008000\">'Felix51'</span>,\n",
       "<span style=\"color: #7fbf7f; text-decoration-color: #7fbf7f\">│   │   </span><span style=\"color: #008000; text-decoration-color: #008000\">'text'</span>: <span style=\"color: #008000; text-decoration-color: #008000\">\"It's different because it exists.My argument is that people actually feel this way and go through with it even in the face of assholes like you. Which suggests that they actually feel that way. It suggests that our societal notions of gender may not be absolute. Especially since this is a behaviour noted throughout history. It's like asking someone to explain their sexuality, it doesn't have a good explanation. \"</span>,\n",
       "<span style=\"color: #7fbf7f; text-decoration-color: #7fbf7f\">│   │   </span><span style=\"color: #008000; text-decoration-color: #008000\">'timestamp'</span>: <span style=\"color: #008080; text-decoration-color: #008080; font-weight: bold\">1444340585</span>\n",
       "<span style=\"color: #7fbf7f; text-decoration-color: #7fbf7f\">│   </span><span style=\"font-weight: bold\">}</span>,\n",
       "<span style=\"color: #7fbf7f; text-decoration-color: #7fbf7f\">│   </span><span style=\"color: #008000; text-decoration-color: #008000\">'split'</span>: <span style=\"color: #008000; text-decoration-color: #008000\">'train'</span>\n",
       "<span style=\"font-weight: bold\">}</span>\n",
       "</pre>\n"
      ],
      "text/plain": [
       "\u001b[1m{\u001b[0m\n",
       "\u001b[2;32m│   \u001b[0m\u001b[32m'statement'\u001b[0m: \u001b[32m'People who believe in a vast variety of genders are crazy'\u001b[0m,\n",
       "\u001b[2;32m│   \u001b[0m\u001b[32m'submission_id'\u001b[0m: \u001b[32m'3nxt82'\u001b[0m,\n",
       "\u001b[2;32m│   \u001b[0m\u001b[32m'penultimate_utterance'\u001b[0m: \u001b[1m{\u001b[0m\n",
       "\u001b[2;32m│   │   \u001b[0m\u001b[32m'id'\u001b[0m: \u001b[32m'cvsyy7e'\u001b[0m,\n",
       "\u001b[2;32m│   │   \u001b[0m\u001b[32m'userid'\u001b[0m: \u001b[32m'Throwaya3345'\u001b[0m,\n",
       "\u001b[2;32m│   │   \u001b[0m\u001b[32m'text'\u001b[0m: \u001b[32m'\"You talk about dragon skin people or trans-race people but there really is no group that claims to be that way, so that\\'s a meaningless discussion to have.\"\\n\\nSo in other words you\\'re not going to argue for why it\\'s different, ok. '\u001b[0m,\n",
       "\u001b[2;32m│   │   \u001b[0m\u001b[32m'timestamp'\u001b[0m: \u001b[1;36m1444339757\u001b[0m\n",
       "\u001b[2;32m│   \u001b[0m\u001b[1m}\u001b[0m,\n",
       "\u001b[2;32m│   \u001b[0m\u001b[32m'last_utterance'\u001b[0m: \u001b[1m{\u001b[0m\n",
       "\u001b[2;32m│   │   \u001b[0m\u001b[32m'id'\u001b[0m: \u001b[32m'cvszhsd'\u001b[0m,\n",
       "\u001b[2;32m│   │   \u001b[0m\u001b[32m'userid'\u001b[0m: \u001b[32m'Felix51'\u001b[0m,\n",
       "\u001b[2;32m│   │   \u001b[0m\u001b[32m'text'\u001b[0m: \u001b[32m\"It's different because it exists.My argument is that people actually feel this way and go through with it even in the face of assholes like you. Which suggests that they actually feel that way. It suggests that our societal notions of gender may not be absolute. Especially since this is a behaviour noted throughout history. It's like asking someone to explain their sexuality, it doesn't have a good explanation. \"\u001b[0m,\n",
       "\u001b[2;32m│   │   \u001b[0m\u001b[32m'timestamp'\u001b[0m: \u001b[1;36m1444340585\u001b[0m\n",
       "\u001b[2;32m│   \u001b[0m\u001b[1m}\u001b[0m,\n",
       "\u001b[2;32m│   \u001b[0m\u001b[32m'split'\u001b[0m: \u001b[32m'train'\u001b[0m\n",
       "\u001b[1m}\u001b[0m\n"
      ]
     },
     "metadata": {},
     "output_type": "display_data"
    },
    {
     "name": "stdout",
     "output_type": "stream",
     "text": [
      "Sample 20:\n"
     ]
    },
    {
     "data": {
      "text/html": [
       "<pre style=\"white-space:pre;overflow-x:auto;line-height:normal;font-family:Menlo,'DejaVu Sans Mono',consolas,'Courier New',monospace\"><span style=\"font-weight: bold\">{</span>\n",
       "<span style=\"color: #7fbf7f; text-decoration-color: #7fbf7f\">│   </span><span style=\"color: #008000; text-decoration-color: #008000\">'statement'</span>: <span style=\"color: #008000; text-decoration-color: #008000\">'I think that we should abolish the minimum wage and replace it with universal basic income.'</span>,\n",
       "<span style=\"color: #7fbf7f; text-decoration-color: #7fbf7f\">│   </span><span style=\"color: #008000; text-decoration-color: #008000\">'submission_id'</span>: <span style=\"color: #008000; text-decoration-color: #008000\">'3o29f6'</span>,\n",
       "<span style=\"color: #7fbf7f; text-decoration-color: #7fbf7f\">│   </span><span style=\"color: #008000; text-decoration-color: #008000\">'penultimate_utterance'</span>: <span style=\"font-weight: bold\">{</span>\n",
       "<span style=\"color: #7fbf7f; text-decoration-color: #7fbf7f\">│   │   </span><span style=\"color: #008000; text-decoration-color: #008000\">'id'</span>: <span style=\"color: #008000; text-decoration-color: #008000\">'cvtzrhj'</span>,\n",
       "<span style=\"color: #7fbf7f; text-decoration-color: #7fbf7f\">│   │   </span><span style=\"color: #008000; text-decoration-color: #008000\">'userid'</span>: <span style=\"color: #008000; text-decoration-color: #008000\">'hoppierthanthou'</span>,\n",
       "<span style=\"color: #7fbf7f; text-decoration-color: #7fbf7f\">│   │   </span><span style=\"color: #008000; text-decoration-color: #008000\">'text'</span>: <span style=\"color: #008000; text-decoration-color: #008000\">\"Right. No one would be that poor in libertopia. Not like there are people who can't afford insurance now. Nope. You're also assuming a world in which everyone is perfectly informed in their buying choices which, while it would be ideal, does not reflect reality.\"</span>,\n",
       "<span style=\"color: #7fbf7f; text-decoration-color: #7fbf7f\">│   │   </span><span style=\"color: #008000; text-decoration-color: #008000\">'timestamp'</span>: <span style=\"color: #008080; text-decoration-color: #008080; font-weight: bold\">1444416423</span>\n",
       "<span style=\"color: #7fbf7f; text-decoration-color: #7fbf7f\">│   </span><span style=\"font-weight: bold\">}</span>,\n",
       "<span style=\"color: #7fbf7f; text-decoration-color: #7fbf7f\">│   </span><span style=\"color: #008000; text-decoration-color: #008000\">'last_utterance'</span>: <span style=\"font-weight: bold\">{</span>\n",
       "<span style=\"color: #7fbf7f; text-decoration-color: #7fbf7f\">│   │   </span><span style=\"color: #008000; text-decoration-color: #008000\">'id'</span>: <span style=\"color: #008000; text-decoration-color: #008000\">'cvu0gbm'</span>,\n",
       "<span style=\"color: #7fbf7f; text-decoration-color: #7fbf7f\">│   │   </span><span style=\"color: #008000; text-decoration-color: #008000\">'userid'</span>: <span style=\"color: #008000; text-decoration-color: #008000\">'Frallec'</span>,\n",
       "<span style=\"color: #7fbf7f; text-decoration-color: #7fbf7f\">│   │   </span><span style=\"color: #008000; text-decoration-color: #008000\">'text'</span>: <span style=\"color: #008000; text-decoration-color: #008000\">\"&gt; Right. No one would be that poor in libertopia.\\n\\nStrawman, I never said that. Please stop making willfully dishonest arguments.\\n\\n\\n\\n&gt; does not reflect reality.\\n\\nMaybe because people don't need to be informed to, if government drove us everywhere, no wonder people wouldn't be able to drive.\"</span>,\n",
       "<span style=\"color: #7fbf7f; text-decoration-color: #7fbf7f\">│   │   </span><span style=\"color: #008000; text-decoration-color: #008000\">'timestamp'</span>: <span style=\"color: #008080; text-decoration-color: #008080; font-weight: bold\">1444417446</span>\n",
       "<span style=\"color: #7fbf7f; text-decoration-color: #7fbf7f\">│   </span><span style=\"font-weight: bold\">}</span>,\n",
       "<span style=\"color: #7fbf7f; text-decoration-color: #7fbf7f\">│   </span><span style=\"color: #008000; text-decoration-color: #008000\">'split'</span>: <span style=\"color: #008000; text-decoration-color: #008000\">'train'</span>\n",
       "<span style=\"font-weight: bold\">}</span>\n",
       "</pre>\n"
      ],
      "text/plain": [
       "\u001b[1m{\u001b[0m\n",
       "\u001b[2;32m│   \u001b[0m\u001b[32m'statement'\u001b[0m: \u001b[32m'I think that we should abolish the minimum wage and replace it with universal basic income.'\u001b[0m,\n",
       "\u001b[2;32m│   \u001b[0m\u001b[32m'submission_id'\u001b[0m: \u001b[32m'3o29f6'\u001b[0m,\n",
       "\u001b[2;32m│   \u001b[0m\u001b[32m'penultimate_utterance'\u001b[0m: \u001b[1m{\u001b[0m\n",
       "\u001b[2;32m│   │   \u001b[0m\u001b[32m'id'\u001b[0m: \u001b[32m'cvtzrhj'\u001b[0m,\n",
       "\u001b[2;32m│   │   \u001b[0m\u001b[32m'userid'\u001b[0m: \u001b[32m'hoppierthanthou'\u001b[0m,\n",
       "\u001b[2;32m│   │   \u001b[0m\u001b[32m'text'\u001b[0m: \u001b[32m\"Right. No one would be that poor in libertopia. Not like there are people who can't afford insurance now. Nope. You're also assuming a world in which everyone is perfectly informed in their buying choices which, while it would be ideal, does not reflect reality.\"\u001b[0m,\n",
       "\u001b[2;32m│   │   \u001b[0m\u001b[32m'timestamp'\u001b[0m: \u001b[1;36m1444416423\u001b[0m\n",
       "\u001b[2;32m│   \u001b[0m\u001b[1m}\u001b[0m,\n",
       "\u001b[2;32m│   \u001b[0m\u001b[32m'last_utterance'\u001b[0m: \u001b[1m{\u001b[0m\n",
       "\u001b[2;32m│   │   \u001b[0m\u001b[32m'id'\u001b[0m: \u001b[32m'cvu0gbm'\u001b[0m,\n",
       "\u001b[2;32m│   │   \u001b[0m\u001b[32m'userid'\u001b[0m: \u001b[32m'Frallec'\u001b[0m,\n",
       "\u001b[2;32m│   │   \u001b[0m\u001b[32m'text'\u001b[0m: \u001b[32m\"> Right. No one would be that poor in libertopia.\\n\\nStrawman, I never said that. Please stop making willfully dishonest arguments.\\n\\n\\n\\n> does not reflect reality.\\n\\nMaybe because people don't need to be informed to, if government drove us everywhere, no wonder people wouldn't be able to drive.\"\u001b[0m,\n",
       "\u001b[2;32m│   │   \u001b[0m\u001b[32m'timestamp'\u001b[0m: \u001b[1;36m1444417446\u001b[0m\n",
       "\u001b[2;32m│   \u001b[0m\u001b[1m}\u001b[0m,\n",
       "\u001b[2;32m│   \u001b[0m\u001b[32m'split'\u001b[0m: \u001b[32m'train'\u001b[0m\n",
       "\u001b[1m}\u001b[0m\n"
      ]
     },
     "metadata": {},
     "output_type": "display_data"
    },
    {
     "name": "stdout",
     "output_type": "stream",
     "text": [
      "Sample 21:\n"
     ]
    },
    {
     "data": {
      "text/html": [
       "<pre style=\"white-space:pre;overflow-x:auto;line-height:normal;font-family:Menlo,'DejaVu Sans Mono',consolas,'Courier New',monospace\"><span style=\"font-weight: bold\">{</span>\n",
       "<span style=\"color: #7fbf7f; text-decoration-color: #7fbf7f\">│   </span><span style=\"color: #008000; text-decoration-color: #008000\">'statement'</span>: <span style=\"color: #008000; text-decoration-color: #008000\">'Starting a family is a luxury and should be done at your own risk. We would shame two homeless people for having six kids and we should do the same to low wage workers.'</span>,\n",
       "<span style=\"color: #7fbf7f; text-decoration-color: #7fbf7f\">│   </span><span style=\"color: #008000; text-decoration-color: #008000\">'submission_id'</span>: <span style=\"color: #008000; text-decoration-color: #008000\">'3o4807'</span>,\n",
       "<span style=\"color: #7fbf7f; text-decoration-color: #7fbf7f\">│   </span><span style=\"color: #008000; text-decoration-color: #008000\">'penultimate_utterance'</span>: <span style=\"font-weight: bold\">{</span>\n",
       "<span style=\"color: #7fbf7f; text-decoration-color: #7fbf7f\">│   │   </span><span style=\"color: #008000; text-decoration-color: #008000\">'id'</span>: <span style=\"color: #008000; text-decoration-color: #008000\">'cvu9h3q'</span>,\n",
       "<span style=\"color: #7fbf7f; text-decoration-color: #7fbf7f\">│   │   </span><span style=\"color: #008000; text-decoration-color: #008000\">'userid'</span>: <span style=\"color: #008000; text-decoration-color: #008000\">'PinkSugarBubble'</span>,\n",
       "<span style=\"color: #7fbf7f; text-decoration-color: #7fbf7f\">│   │   </span><span style=\"color: #008000; text-decoration-color: #008000\">'text'</span>: <span style=\"color: #008000; text-decoration-color: #008000\">\"Forced abortions. Wow. Look how well people are dealing with that over in China. To save you some trouble Googling it, they are not dealing with it well at all. It's an insane human rights violation and part of the reason why so many baby girls were murdered and why decades later there are way too many men and not enough mates for them. But your view is so nuanced and edgy I'm sure you don't care about any of that, right? (That was sarcasm)\"</span>,\n",
       "<span style=\"color: #7fbf7f; text-decoration-color: #7fbf7f\">│   │   </span><span style=\"color: #008000; text-decoration-color: #008000\">'timestamp'</span>: <span style=\"color: #008080; text-decoration-color: #008080; font-weight: bold\">1444432076</span>\n",
       "<span style=\"color: #7fbf7f; text-decoration-color: #7fbf7f\">│   </span><span style=\"font-weight: bold\">}</span>,\n",
       "<span style=\"color: #7fbf7f; text-decoration-color: #7fbf7f\">│   </span><span style=\"color: #008000; text-decoration-color: #008000\">'last_utterance'</span>: <span style=\"font-weight: bold\">{</span>\n",
       "<span style=\"color: #7fbf7f; text-decoration-color: #7fbf7f\">│   │   </span><span style=\"color: #008000; text-decoration-color: #008000\">'id'</span>: <span style=\"color: #008000; text-decoration-color: #008000\">'cvubi02'</span>,\n",
       "<span style=\"color: #7fbf7f; text-decoration-color: #7fbf7f\">│   │   </span><span style=\"color: #008000; text-decoration-color: #008000\">'userid'</span>: <span style=\"color: #008000; text-decoration-color: #008000\">'GoldenTiger117'</span>,\n",
       "<span style=\"color: #7fbf7f; text-decoration-color: #7fbf7f\">│   │   </span><span style=\"color: #008000; text-decoration-color: #008000\">'text'</span>: <span style=\"color: #008000; text-decoration-color: #008000\">\"First of all the situation in china is TOTALLY different. Over there it was about them wanting boys over girls. It was NOT abortions because people who couldn't afford kids were having them. TWO completely different things.\"</span>,\n",
       "<span style=\"color: #7fbf7f; text-decoration-color: #7fbf7f\">│   │   </span><span style=\"color: #008000; text-decoration-color: #008000\">'timestamp'</span>: <span style=\"color: #008080; text-decoration-color: #008080; font-weight: bold\">1444435901</span>\n",
       "<span style=\"color: #7fbf7f; text-decoration-color: #7fbf7f\">│   </span><span style=\"font-weight: bold\">}</span>,\n",
       "<span style=\"color: #7fbf7f; text-decoration-color: #7fbf7f\">│   </span><span style=\"color: #008000; text-decoration-color: #008000\">'split'</span>: <span style=\"color: #008000; text-decoration-color: #008000\">'train'</span>\n",
       "<span style=\"font-weight: bold\">}</span>\n",
       "</pre>\n"
      ],
      "text/plain": [
       "\u001b[1m{\u001b[0m\n",
       "\u001b[2;32m│   \u001b[0m\u001b[32m'statement'\u001b[0m: \u001b[32m'Starting a family is a luxury and should be done at your own risk. We would shame two homeless people for having six kids and we should do the same to low wage workers.'\u001b[0m,\n",
       "\u001b[2;32m│   \u001b[0m\u001b[32m'submission_id'\u001b[0m: \u001b[32m'3o4807'\u001b[0m,\n",
       "\u001b[2;32m│   \u001b[0m\u001b[32m'penultimate_utterance'\u001b[0m: \u001b[1m{\u001b[0m\n",
       "\u001b[2;32m│   │   \u001b[0m\u001b[32m'id'\u001b[0m: \u001b[32m'cvu9h3q'\u001b[0m,\n",
       "\u001b[2;32m│   │   \u001b[0m\u001b[32m'userid'\u001b[0m: \u001b[32m'PinkSugarBubble'\u001b[0m,\n",
       "\u001b[2;32m│   │   \u001b[0m\u001b[32m'text'\u001b[0m: \u001b[32m\"Forced abortions. Wow. Look how well people are dealing with that over in China. To save you some trouble Googling it, they are not dealing with it well at all. It's an insane human rights violation and part of the reason why so many baby girls were murdered and why decades later there are way too many men and not enough mates for them. But your view is so nuanced and edgy I'm sure you don't care about any of that, right? \u001b[0m\u001b[32m(\u001b[0m\u001b[32mThat was sarcasm\u001b[0m\u001b[32m)\u001b[0m\u001b[32m\"\u001b[0m,\n",
       "\u001b[2;32m│   │   \u001b[0m\u001b[32m'timestamp'\u001b[0m: \u001b[1;36m1444432076\u001b[0m\n",
       "\u001b[2;32m│   \u001b[0m\u001b[1m}\u001b[0m,\n",
       "\u001b[2;32m│   \u001b[0m\u001b[32m'last_utterance'\u001b[0m: \u001b[1m{\u001b[0m\n",
       "\u001b[2;32m│   │   \u001b[0m\u001b[32m'id'\u001b[0m: \u001b[32m'cvubi02'\u001b[0m,\n",
       "\u001b[2;32m│   │   \u001b[0m\u001b[32m'userid'\u001b[0m: \u001b[32m'GoldenTiger117'\u001b[0m,\n",
       "\u001b[2;32m│   │   \u001b[0m\u001b[32m'text'\u001b[0m: \u001b[32m\"First of all the situation in china is TOTALLY different. Over there it was about them wanting boys over girls. It was NOT abortions because people who couldn't afford kids were having them. TWO completely different things.\"\u001b[0m,\n",
       "\u001b[2;32m│   │   \u001b[0m\u001b[32m'timestamp'\u001b[0m: \u001b[1;36m1444435901\u001b[0m\n",
       "\u001b[2;32m│   \u001b[0m\u001b[1m}\u001b[0m,\n",
       "\u001b[2;32m│   \u001b[0m\u001b[32m'split'\u001b[0m: \u001b[32m'train'\u001b[0m\n",
       "\u001b[1m}\u001b[0m\n"
      ]
     },
     "metadata": {},
     "output_type": "display_data"
    },
    {
     "name": "stdout",
     "output_type": "stream",
     "text": [
      "Sample 22:\n"
     ]
    },
    {
     "data": {
      "text/html": [
       "<pre style=\"white-space:pre;overflow-x:auto;line-height:normal;font-family:Menlo,'DejaVu Sans Mono',consolas,'Courier New',monospace\"><span style=\"font-weight: bold\">{</span>\n",
       "<span style=\"color: #7fbf7f; text-decoration-color: #7fbf7f\">│   </span><span style=\"color: #008000; text-decoration-color: #008000\">'statement'</span>: <span style=\"color: #008000; text-decoration-color: #008000\">'Why do socialist politicians like Bernie Sanders push for things like minimum wage when in Denmark we are very fine without it.'</span>,\n",
       "<span style=\"color: #7fbf7f; text-decoration-color: #7fbf7f\">│   </span><span style=\"color: #008000; text-decoration-color: #008000\">'submission_id'</span>: <span style=\"color: #008000; text-decoration-color: #008000\">'3ovunz'</span>,\n",
       "<span style=\"color: #7fbf7f; text-decoration-color: #7fbf7f\">│   </span><span style=\"color: #008000; text-decoration-color: #008000\">'penultimate_utterance'</span>: <span style=\"font-weight: bold\">{</span>\n",
       "<span style=\"color: #7fbf7f; text-decoration-color: #7fbf7f\">│   │   </span><span style=\"color: #008000; text-decoration-color: #008000\">'id'</span>: <span style=\"color: #008000; text-decoration-color: #008000\">'cw0zm5j'</span>,\n",
       "<span style=\"color: #7fbf7f; text-decoration-color: #7fbf7f\">│   │   </span><span style=\"color: #008000; text-decoration-color: #008000\">'userid'</span>: <span style=\"color: #008000; text-decoration-color: #008000\">'foolfools'</span>,\n",
       "<span style=\"color: #7fbf7f; text-decoration-color: #7fbf7f\">│   │   </span><span style=\"color: #008000; text-decoration-color: #008000\">'text'</span>: <span style=\"color: #008000; text-decoration-color: #008000\">'No, look at the history: people in unions were beaten up by the capitalist goons. \\n\\nNow a days, ignorant people(white men) have been told a false narrative to keep them away from any power.'</span>,\n",
       "<span style=\"color: #7fbf7f; text-decoration-color: #7fbf7f\">│   │   </span><span style=\"color: #008000; text-decoration-color: #008000\">'timestamp'</span>: <span style=\"color: #008080; text-decoration-color: #008080; font-weight: bold\">1444937416</span>\n",
       "<span style=\"color: #7fbf7f; text-decoration-color: #7fbf7f\">│   </span><span style=\"font-weight: bold\">}</span>,\n",
       "<span style=\"color: #7fbf7f; text-decoration-color: #7fbf7f\">│   </span><span style=\"color: #008000; text-decoration-color: #008000\">'last_utterance'</span>: <span style=\"font-weight: bold\">{</span>\n",
       "<span style=\"color: #7fbf7f; text-decoration-color: #7fbf7f\">│   │   </span><span style=\"color: #008000; text-decoration-color: #008000\">'id'</span>: <span style=\"color: #008000; text-decoration-color: #008000\">'cw10j65'</span>,\n",
       "<span style=\"color: #7fbf7f; text-decoration-color: #7fbf7f\">│   │   </span><span style=\"color: #008000; text-decoration-color: #008000\">'userid'</span>: <span style=\"color: #008000; text-decoration-color: #008000\">'JefftheBaptist'</span>,\n",
       "<span style=\"color: #7fbf7f; text-decoration-color: #7fbf7f\">│   │   </span><span style=\"color: #008000; text-decoration-color: #008000\">'text'</span>: <span style=\"color: #008000; text-decoration-color: #008000\">\"Unions have done a lot of beating as well.  Its not a coincidence that in many areas the union leadership had close ties to organized crime.\\n\\nWithin the last decade we've had unions advocate for changes to labor law like the elimination of secret ballots in unionization votes.  This would allow the unions to spread through intimidation of opposing workers into compliance.\"</span>,\n",
       "<span style=\"color: #7fbf7f; text-decoration-color: #7fbf7f\">│   │   </span><span style=\"color: #008000; text-decoration-color: #008000\">'timestamp'</span>: <span style=\"color: #008080; text-decoration-color: #008080; font-weight: bold\">1444938688</span>\n",
       "<span style=\"color: #7fbf7f; text-decoration-color: #7fbf7f\">│   </span><span style=\"font-weight: bold\">}</span>,\n",
       "<span style=\"color: #7fbf7f; text-decoration-color: #7fbf7f\">│   </span><span style=\"color: #008000; text-decoration-color: #008000\">'split'</span>: <span style=\"color: #008000; text-decoration-color: #008000\">'train'</span>\n",
       "<span style=\"font-weight: bold\">}</span>\n",
       "</pre>\n"
      ],
      "text/plain": [
       "\u001b[1m{\u001b[0m\n",
       "\u001b[2;32m│   \u001b[0m\u001b[32m'statement'\u001b[0m: \u001b[32m'Why do socialist politicians like Bernie Sanders push for things like minimum wage when in Denmark we are very fine without it.'\u001b[0m,\n",
       "\u001b[2;32m│   \u001b[0m\u001b[32m'submission_id'\u001b[0m: \u001b[32m'3ovunz'\u001b[0m,\n",
       "\u001b[2;32m│   \u001b[0m\u001b[32m'penultimate_utterance'\u001b[0m: \u001b[1m{\u001b[0m\n",
       "\u001b[2;32m│   │   \u001b[0m\u001b[32m'id'\u001b[0m: \u001b[32m'cw0zm5j'\u001b[0m,\n",
       "\u001b[2;32m│   │   \u001b[0m\u001b[32m'userid'\u001b[0m: \u001b[32m'foolfools'\u001b[0m,\n",
       "\u001b[2;32m│   │   \u001b[0m\u001b[32m'text'\u001b[0m: \u001b[32m'No, look at the history: people in unions were beaten up by the capitalist goons. \\n\\nNow a days, ignorant people\u001b[0m\u001b[32m(\u001b[0m\u001b[32mwhite men\u001b[0m\u001b[32m)\u001b[0m\u001b[32m have been told a false narrative to keep them away from any power.'\u001b[0m,\n",
       "\u001b[2;32m│   │   \u001b[0m\u001b[32m'timestamp'\u001b[0m: \u001b[1;36m1444937416\u001b[0m\n",
       "\u001b[2;32m│   \u001b[0m\u001b[1m}\u001b[0m,\n",
       "\u001b[2;32m│   \u001b[0m\u001b[32m'last_utterance'\u001b[0m: \u001b[1m{\u001b[0m\n",
       "\u001b[2;32m│   │   \u001b[0m\u001b[32m'id'\u001b[0m: \u001b[32m'cw10j65'\u001b[0m,\n",
       "\u001b[2;32m│   │   \u001b[0m\u001b[32m'userid'\u001b[0m: \u001b[32m'JefftheBaptist'\u001b[0m,\n",
       "\u001b[2;32m│   │   \u001b[0m\u001b[32m'text'\u001b[0m: \u001b[32m\"Unions have done a lot of beating as well.  Its not a coincidence that in many areas the union leadership had close ties to organized crime.\\n\\nWithin the last decade we've had unions advocate for changes to labor law like the elimination of secret ballots in unionization votes.  This would allow the unions to spread through intimidation of opposing workers into compliance.\"\u001b[0m,\n",
       "\u001b[2;32m│   │   \u001b[0m\u001b[32m'timestamp'\u001b[0m: \u001b[1;36m1444938688\u001b[0m\n",
       "\u001b[2;32m│   \u001b[0m\u001b[1m}\u001b[0m,\n",
       "\u001b[2;32m│   \u001b[0m\u001b[32m'split'\u001b[0m: \u001b[32m'train'\u001b[0m\n",
       "\u001b[1m}\u001b[0m\n"
      ]
     },
     "metadata": {},
     "output_type": "display_data"
    },
    {
     "name": "stdout",
     "output_type": "stream",
     "text": [
      "Sample 23:\n"
     ]
    },
    {
     "data": {
      "text/html": [
       "<pre style=\"white-space:pre;overflow-x:auto;line-height:normal;font-family:Menlo,'DejaVu Sans Mono',consolas,'Courier New',monospace\"><span style=\"font-weight: bold\">{</span>\n",
       "<span style=\"color: #7fbf7f; text-decoration-color: #7fbf7f\">│   </span><span style=\"color: #008000; text-decoration-color: #008000\">'statement'</span>: <span style=\"color: #008000; text-decoration-color: #008000\">'I fell that the hatred and resentment a lot of people have for the US is really a result of their dislike of Southern US or really US rural culture and that the US as a whole should be judged differently from them.'</span>,\n",
       "<span style=\"color: #7fbf7f; text-decoration-color: #7fbf7f\">│   </span><span style=\"color: #008000; text-decoration-color: #008000\">'submission_id'</span>: <span style=\"color: #008000; text-decoration-color: #008000\">'3p58c6'</span>,\n",
       "<span style=\"color: #7fbf7f; text-decoration-color: #7fbf7f\">│   </span><span style=\"color: #008000; text-decoration-color: #008000\">'penultimate_utterance'</span>: <span style=\"font-weight: bold\">{</span>\n",
       "<span style=\"color: #7fbf7f; text-decoration-color: #7fbf7f\">│   │   </span><span style=\"color: #008000; text-decoration-color: #008000\">'id'</span>: <span style=\"color: #008000; text-decoration-color: #008000\">'cw3bfqx'</span>,\n",
       "<span style=\"color: #7fbf7f; text-decoration-color: #7fbf7f\">│   │   </span><span style=\"color: #008000; text-decoration-color: #008000\">'userid'</span>: <span style=\"color: #008000; text-decoration-color: #008000\">'TheMightyZ0d'</span>,\n",
       "<span style=\"color: #7fbf7f; text-decoration-color: #7fbf7f\">│   │   </span><span style=\"color: #008000; text-decoration-color: #008000\">'text'</span>: <span style=\"color: #008000; text-decoration-color: #008000\">\"I'm agreeing that if it's cheaper to buy a burger King people will do it if they need money it's not necessarily the bbq, and yeah its much easier to walk in the cities, also yeah I fucking know how important religion is I'm not a fucking idiot but yeah they've never been attacked the only time they've been questioned a lot about it was by middle schoolers out to fucking find trouble.\"</span>,\n",
       "<span style=\"color: #7fbf7f; text-decoration-color: #7fbf7f\">│   │   </span><span style=\"color: #008000; text-decoration-color: #008000\">'timestamp'</span>: <span style=\"color: #008080; text-decoration-color: #008080; font-weight: bold\">1445117252</span>\n",
       "<span style=\"color: #7fbf7f; text-decoration-color: #7fbf7f\">│   </span><span style=\"font-weight: bold\">}</span>,\n",
       "<span style=\"color: #7fbf7f; text-decoration-color: #7fbf7f\">│   </span><span style=\"color: #008000; text-decoration-color: #008000\">'last_utterance'</span>: <span style=\"font-weight: bold\">{</span>\n",
       "<span style=\"color: #7fbf7f; text-decoration-color: #7fbf7f\">│   │   </span><span style=\"color: #008000; text-decoration-color: #008000\">'id'</span>: <span style=\"color: #008000; text-decoration-color: #008000\">'cw3bupr'</span>,\n",
       "<span style=\"color: #7fbf7f; text-decoration-color: #7fbf7f\">│   │   </span><span style=\"color: #008000; text-decoration-color: #008000\">'userid'</span>: <span style=\"color: #008000; text-decoration-color: #008000\">'Jmcduff5'</span>,\n",
       "<span style=\"color: #7fbf7f; text-decoration-color: #7fbf7f\">│   │   </span><span style=\"color: #008000; text-decoration-color: #008000\">'text'</span>: <span style=\"color: #008000; text-decoration-color: #008000\">\"My point is in the south religion has such a hold on the south that to be atheist is not a welcome. No were else in this country is this a problem.\\n\\nIm going to stop you right here and help you out, the fact is I had a terrible life in the south and will always hate and resent it. Nobody can change that opinion. What I'm asking is that what about the south I can be proud of as an America to present about this region to others that hate the US as a whole.\\n\\nExample:\"</span>,\n",
       "<span style=\"color: #7fbf7f; text-decoration-color: #7fbf7f\">│   │   </span><span style=\"color: #008000; text-decoration-color: #008000\">'timestamp'</span>: <span style=\"color: #008080; text-decoration-color: #008080; font-weight: bold\">1445117995</span>\n",
       "<span style=\"color: #7fbf7f; text-decoration-color: #7fbf7f\">│   </span><span style=\"font-weight: bold\">}</span>,\n",
       "<span style=\"color: #7fbf7f; text-decoration-color: #7fbf7f\">│   </span><span style=\"color: #008000; text-decoration-color: #008000\">'split'</span>: <span style=\"color: #008000; text-decoration-color: #008000\">'train'</span>\n",
       "<span style=\"font-weight: bold\">}</span>\n",
       "</pre>\n"
      ],
      "text/plain": [
       "\u001b[1m{\u001b[0m\n",
       "\u001b[2;32m│   \u001b[0m\u001b[32m'statement'\u001b[0m: \u001b[32m'I fell that the hatred and resentment a lot of people have for the US is really a result of their dislike of Southern US or really US rural culture and that the US as a whole should be judged differently from them.'\u001b[0m,\n",
       "\u001b[2;32m│   \u001b[0m\u001b[32m'submission_id'\u001b[0m: \u001b[32m'3p58c6'\u001b[0m,\n",
       "\u001b[2;32m│   \u001b[0m\u001b[32m'penultimate_utterance'\u001b[0m: \u001b[1m{\u001b[0m\n",
       "\u001b[2;32m│   │   \u001b[0m\u001b[32m'id'\u001b[0m: \u001b[32m'cw3bfqx'\u001b[0m,\n",
       "\u001b[2;32m│   │   \u001b[0m\u001b[32m'userid'\u001b[0m: \u001b[32m'TheMightyZ0d'\u001b[0m,\n",
       "\u001b[2;32m│   │   \u001b[0m\u001b[32m'text'\u001b[0m: \u001b[32m\"I'm agreeing that if it's cheaper to buy a burger King people will do it if they need money it's not necessarily the bbq, and yeah its much easier to walk in the cities, also yeah I fucking know how important religion is I'm not a fucking idiot but yeah they've never been attacked the only time they've been questioned a lot about it was by middle schoolers out to fucking find trouble.\"\u001b[0m,\n",
       "\u001b[2;32m│   │   \u001b[0m\u001b[32m'timestamp'\u001b[0m: \u001b[1;36m1445117252\u001b[0m\n",
       "\u001b[2;32m│   \u001b[0m\u001b[1m}\u001b[0m,\n",
       "\u001b[2;32m│   \u001b[0m\u001b[32m'last_utterance'\u001b[0m: \u001b[1m{\u001b[0m\n",
       "\u001b[2;32m│   │   \u001b[0m\u001b[32m'id'\u001b[0m: \u001b[32m'cw3bupr'\u001b[0m,\n",
       "\u001b[2;32m│   │   \u001b[0m\u001b[32m'userid'\u001b[0m: \u001b[32m'Jmcduff5'\u001b[0m,\n",
       "\u001b[2;32m│   │   \u001b[0m\u001b[32m'text'\u001b[0m: \u001b[32m\"My point is in the south religion has such a hold on the south that to be atheist is not a welcome. No were else in this country is this a problem.\\n\\nIm going to stop you right here and help you out, the fact is I had a terrible life in the south and will always hate and resent it. Nobody can change that opinion. What I'm asking is that what about the south I can be proud of as an America to present about this region to others that hate the US as a whole.\\n\\nExample:\"\u001b[0m,\n",
       "\u001b[2;32m│   │   \u001b[0m\u001b[32m'timestamp'\u001b[0m: \u001b[1;36m1445117995\u001b[0m\n",
       "\u001b[2;32m│   \u001b[0m\u001b[1m}\u001b[0m,\n",
       "\u001b[2;32m│   \u001b[0m\u001b[32m'split'\u001b[0m: \u001b[32m'train'\u001b[0m\n",
       "\u001b[1m}\u001b[0m\n"
      ]
     },
     "metadata": {},
     "output_type": "display_data"
    },
    {
     "name": "stdout",
     "output_type": "stream",
     "text": [
      "Sample 24:\n"
     ]
    },
    {
     "data": {
      "text/html": [
       "<pre style=\"white-space:pre;overflow-x:auto;line-height:normal;font-family:Menlo,'DejaVu Sans Mono',consolas,'Courier New',monospace\"><span style=\"font-weight: bold\">{</span>\n",
       "<span style=\"color: #7fbf7f; text-decoration-color: #7fbf7f\">│   </span><span style=\"color: #008000; text-decoration-color: #008000\">'statement'</span>: <span style=\"color: #008000; text-decoration-color: #008000\">\"Not using the turn signals should result in a fine or violation unless you're in a turn-only lane.\"</span>,\n",
       "<span style=\"color: #7fbf7f; text-decoration-color: #7fbf7f\">│   </span><span style=\"color: #008000; text-decoration-color: #008000\">'submission_id'</span>: <span style=\"color: #008000; text-decoration-color: #008000\">'3piaem'</span>,\n",
       "<span style=\"color: #7fbf7f; text-decoration-color: #7fbf7f\">│   </span><span style=\"color: #008000; text-decoration-color: #008000\">'penultimate_utterance'</span>: <span style=\"font-weight: bold\">{</span>\n",
       "<span style=\"color: #7fbf7f; text-decoration-color: #7fbf7f\">│   │   </span><span style=\"color: #008000; text-decoration-color: #008000\">'id'</span>: <span style=\"color: #008000; text-decoration-color: #008000\">'cw6pw69'</span>,\n",
       "<span style=\"color: #7fbf7f; text-decoration-color: #7fbf7f\">│   │   </span><span style=\"color: #008000; text-decoration-color: #008000\">'userid'</span>: <span style=\"color: #008000; text-decoration-color: #008000\">'theorymeltfool'</span>,\n",
       "<span style=\"color: #7fbf7f; text-decoration-color: #7fbf7f\">│   │   </span><span style=\"color: #008000; text-decoration-color: #008000\">'text'</span>: <span style=\"color: #008000; text-decoration-color: #008000\">\"What about the people who don't use their turn signal?\"</span>,\n",
       "<span style=\"color: #7fbf7f; text-decoration-color: #7fbf7f\">│   │   </span><span style=\"color: #008000; text-decoration-color: #008000\">'timestamp'</span>: <span style=\"color: #008080; text-decoration-color: #008080; font-weight: bold\">1445368841</span>\n",
       "<span style=\"color: #7fbf7f; text-decoration-color: #7fbf7f\">│   </span><span style=\"font-weight: bold\">}</span>,\n",
       "<span style=\"color: #7fbf7f; text-decoration-color: #7fbf7f\">│   </span><span style=\"color: #008000; text-decoration-color: #008000\">'last_utterance'</span>: <span style=\"font-weight: bold\">{</span>\n",
       "<span style=\"color: #7fbf7f; text-decoration-color: #7fbf7f\">│   │   </span><span style=\"color: #008000; text-decoration-color: #008000\">'id'</span>: <span style=\"color: #008000; text-decoration-color: #008000\">'cw6qeh4'</span>,\n",
       "<span style=\"color: #7fbf7f; text-decoration-color: #7fbf7f\">│   │   </span><span style=\"color: #008000; text-decoration-color: #008000\">'userid'</span>: <span style=\"color: #008000; text-decoration-color: #008000\">'vettewiz'</span>,\n",
       "<span style=\"color: #7fbf7f; text-decoration-color: #7fbf7f\">│   │   </span><span style=\"color: #008000; text-decoration-color: #008000\">'text'</span>: <span style=\"color: #008000; text-decoration-color: #008000\">\"What's the question?  Many of us don't when they aren't necessary.  We're well aware it is a law though.\"</span>,\n",
       "<span style=\"color: #7fbf7f; text-decoration-color: #7fbf7f\">│   │   </span><span style=\"color: #008000; text-decoration-color: #008000\">'timestamp'</span>: <span style=\"color: #008080; text-decoration-color: #008080; font-weight: bold\">1445369545</span>\n",
       "<span style=\"color: #7fbf7f; text-decoration-color: #7fbf7f\">│   </span><span style=\"font-weight: bold\">}</span>,\n",
       "<span style=\"color: #7fbf7f; text-decoration-color: #7fbf7f\">│   </span><span style=\"color: #008000; text-decoration-color: #008000\">'split'</span>: <span style=\"color: #008000; text-decoration-color: #008000\">'train'</span>\n",
       "<span style=\"font-weight: bold\">}</span>\n",
       "</pre>\n"
      ],
      "text/plain": [
       "\u001b[1m{\u001b[0m\n",
       "\u001b[2;32m│   \u001b[0m\u001b[32m'statement'\u001b[0m: \u001b[32m\"Not using the turn signals should result in a fine or violation unless you're in a turn-only lane.\"\u001b[0m,\n",
       "\u001b[2;32m│   \u001b[0m\u001b[32m'submission_id'\u001b[0m: \u001b[32m'3piaem'\u001b[0m,\n",
       "\u001b[2;32m│   \u001b[0m\u001b[32m'penultimate_utterance'\u001b[0m: \u001b[1m{\u001b[0m\n",
       "\u001b[2;32m│   │   \u001b[0m\u001b[32m'id'\u001b[0m: \u001b[32m'cw6pw69'\u001b[0m,\n",
       "\u001b[2;32m│   │   \u001b[0m\u001b[32m'userid'\u001b[0m: \u001b[32m'theorymeltfool'\u001b[0m,\n",
       "\u001b[2;32m│   │   \u001b[0m\u001b[32m'text'\u001b[0m: \u001b[32m\"What about the people who don't use their turn signal?\"\u001b[0m,\n",
       "\u001b[2;32m│   │   \u001b[0m\u001b[32m'timestamp'\u001b[0m: \u001b[1;36m1445368841\u001b[0m\n",
       "\u001b[2;32m│   \u001b[0m\u001b[1m}\u001b[0m,\n",
       "\u001b[2;32m│   \u001b[0m\u001b[32m'last_utterance'\u001b[0m: \u001b[1m{\u001b[0m\n",
       "\u001b[2;32m│   │   \u001b[0m\u001b[32m'id'\u001b[0m: \u001b[32m'cw6qeh4'\u001b[0m,\n",
       "\u001b[2;32m│   │   \u001b[0m\u001b[32m'userid'\u001b[0m: \u001b[32m'vettewiz'\u001b[0m,\n",
       "\u001b[2;32m│   │   \u001b[0m\u001b[32m'text'\u001b[0m: \u001b[32m\"What's the question?  Many of us don't when they aren't necessary.  We're well aware it is a law though.\"\u001b[0m,\n",
       "\u001b[2;32m│   │   \u001b[0m\u001b[32m'timestamp'\u001b[0m: \u001b[1;36m1445369545\u001b[0m\n",
       "\u001b[2;32m│   \u001b[0m\u001b[1m}\u001b[0m,\n",
       "\u001b[2;32m│   \u001b[0m\u001b[32m'split'\u001b[0m: \u001b[32m'train'\u001b[0m\n",
       "\u001b[1m}\u001b[0m\n"
      ]
     },
     "metadata": {},
     "output_type": "display_data"
    },
    {
     "name": "stdout",
     "output_type": "stream",
     "text": [
      "Sample 25:\n"
     ]
    },
    {
     "data": {
      "text/html": [
       "<pre style=\"white-space:pre;overflow-x:auto;line-height:normal;font-family:Menlo,'DejaVu Sans Mono',consolas,'Courier New',monospace\"><span style=\"font-weight: bold\">{</span>\n",
       "<span style=\"color: #7fbf7f; text-decoration-color: #7fbf7f\">│   </span><span style=\"color: #008000; text-decoration-color: #008000\">'statement'</span>: <span style=\"color: #008000; text-decoration-color: #008000\">\"Bernie Sanders free public college plan would be a waste of taxpayers dollars and not fix the issue it's seeking to fix\"</span>,\n",
       "<span style=\"color: #7fbf7f; text-decoration-color: #7fbf7f\">│   </span><span style=\"color: #008000; text-decoration-color: #008000\">'submission_id'</span>: <span style=\"color: #008000; text-decoration-color: #008000\">'3pt9b9'</span>,\n",
       "<span style=\"color: #7fbf7f; text-decoration-color: #7fbf7f\">│   </span><span style=\"color: #008000; text-decoration-color: #008000\">'penultimate_utterance'</span>: <span style=\"font-weight: bold\">{</span>\n",
       "<span style=\"color: #7fbf7f; text-decoration-color: #7fbf7f\">│   │   </span><span style=\"color: #008000; text-decoration-color: #008000\">'id'</span>: <span style=\"color: #008000; text-decoration-color: #008000\">'cw9lnm9'</span>,\n",
       "<span style=\"color: #7fbf7f; text-decoration-color: #7fbf7f\">│   │   </span><span style=\"color: #008000; text-decoration-color: #008000\">'userid'</span>: <span style=\"color: #008000; text-decoration-color: #008000\">'daniwoodwardama'</span>,\n",
       "<span style=\"color: #7fbf7f; text-decoration-color: #7fbf7f\">│   │   </span><span style=\"color: #008000; text-decoration-color: #008000\">'text'</span>: <span style=\"color: #008000; text-decoration-color: #008000\">'&gt; So that would make them somewhere around halfway through being 23, on average.\\n\\nThis only proves your original point \"that the average graduation age is 22\" wrong. \\n\\nI\\'m going to stop replying. Your post says you are against \"free college\" but all your responses say it would be a good thing and nothing would change.'</span>,\n",
       "<span style=\"color: #7fbf7f; text-decoration-color: #7fbf7f\">│   │   </span><span style=\"color: #008000; text-decoration-color: #008000\">'timestamp'</span>: <span style=\"color: #008080; text-decoration-color: #008080; font-weight: bold\">1445565558</span>\n",
       "<span style=\"color: #7fbf7f; text-decoration-color: #7fbf7f\">│   </span><span style=\"font-weight: bold\">}</span>,\n",
       "<span style=\"color: #7fbf7f; text-decoration-color: #7fbf7f\">│   </span><span style=\"color: #008000; text-decoration-color: #008000\">'last_utterance'</span>: <span style=\"font-weight: bold\">{</span>\n",
       "<span style=\"color: #7fbf7f; text-decoration-color: #7fbf7f\">│   │   </span><span style=\"color: #008000; text-decoration-color: #008000\">'id'</span>: <span style=\"color: #008000; text-decoration-color: #008000\">'cw9lrpa'</span>,\n",
       "<span style=\"color: #7fbf7f; text-decoration-color: #7fbf7f\">│   │   </span><span style=\"color: #008000; text-decoration-color: #008000\">'userid'</span>: <span style=\"color: #008000; text-decoration-color: #008000\">'ZenerDiod'</span>,\n",
       "<span style=\"color: #7fbf7f; text-decoration-color: #7fbf7f\">│   │   </span><span style=\"color: #008000; text-decoration-color: #008000\">'text'</span>: <span style=\"color: #008000; text-decoration-color: #008000\">'&gt;  Your post says you are against \"free college\" but all your responses say it would be a good thing and nothing would change.\\n\\nI think you need to learn how to read more carefully. Where did I say nothing would change and it would be a good thing?\\n\\n'</span>,\n",
       "<span style=\"color: #7fbf7f; text-decoration-color: #7fbf7f\">│   │   </span><span style=\"color: #008000; text-decoration-color: #008000\">'timestamp'</span>: <span style=\"color: #008080; text-decoration-color: #008080; font-weight: bold\">1445565752</span>\n",
       "<span style=\"color: #7fbf7f; text-decoration-color: #7fbf7f\">│   </span><span style=\"font-weight: bold\">}</span>,\n",
       "<span style=\"color: #7fbf7f; text-decoration-color: #7fbf7f\">│   </span><span style=\"color: #008000; text-decoration-color: #008000\">'split'</span>: <span style=\"color: #008000; text-decoration-color: #008000\">'train'</span>\n",
       "<span style=\"font-weight: bold\">}</span>\n",
       "</pre>\n"
      ],
      "text/plain": [
       "\u001b[1m{\u001b[0m\n",
       "\u001b[2;32m│   \u001b[0m\u001b[32m'statement'\u001b[0m: \u001b[32m\"Bernie Sanders free public college plan would be a waste of taxpayers dollars and not fix the issue it's seeking to fix\"\u001b[0m,\n",
       "\u001b[2;32m│   \u001b[0m\u001b[32m'submission_id'\u001b[0m: \u001b[32m'3pt9b9'\u001b[0m,\n",
       "\u001b[2;32m│   \u001b[0m\u001b[32m'penultimate_utterance'\u001b[0m: \u001b[1m{\u001b[0m\n",
       "\u001b[2;32m│   │   \u001b[0m\u001b[32m'id'\u001b[0m: \u001b[32m'cw9lnm9'\u001b[0m,\n",
       "\u001b[2;32m│   │   \u001b[0m\u001b[32m'userid'\u001b[0m: \u001b[32m'daniwoodwardama'\u001b[0m,\n",
       "\u001b[2;32m│   │   \u001b[0m\u001b[32m'text'\u001b[0m: \u001b[32m'> So that would make them somewhere around halfway through being 23, on average.\\n\\nThis only proves your original point \"that the average graduation age is 22\" wrong. \\n\\nI\\'m going to stop replying. Your post says you are against \"free college\" but all your responses say it would be a good thing and nothing would change.'\u001b[0m,\n",
       "\u001b[2;32m│   │   \u001b[0m\u001b[32m'timestamp'\u001b[0m: \u001b[1;36m1445565558\u001b[0m\n",
       "\u001b[2;32m│   \u001b[0m\u001b[1m}\u001b[0m,\n",
       "\u001b[2;32m│   \u001b[0m\u001b[32m'last_utterance'\u001b[0m: \u001b[1m{\u001b[0m\n",
       "\u001b[2;32m│   │   \u001b[0m\u001b[32m'id'\u001b[0m: \u001b[32m'cw9lrpa'\u001b[0m,\n",
       "\u001b[2;32m│   │   \u001b[0m\u001b[32m'userid'\u001b[0m: \u001b[32m'ZenerDiod'\u001b[0m,\n",
       "\u001b[2;32m│   │   \u001b[0m\u001b[32m'text'\u001b[0m: \u001b[32m'>  Your post says you are against \"free college\" but all your responses say it would be a good thing and nothing would change.\\n\\nI think you need to learn how to read more carefully. Where did I say nothing would change and it would be a good thing?\\n\\n'\u001b[0m,\n",
       "\u001b[2;32m│   │   \u001b[0m\u001b[32m'timestamp'\u001b[0m: \u001b[1;36m1445565752\u001b[0m\n",
       "\u001b[2;32m│   \u001b[0m\u001b[1m}\u001b[0m,\n",
       "\u001b[2;32m│   \u001b[0m\u001b[32m'split'\u001b[0m: \u001b[32m'train'\u001b[0m\n",
       "\u001b[1m}\u001b[0m\n"
      ]
     },
     "metadata": {},
     "output_type": "display_data"
    },
    {
     "name": "stdout",
     "output_type": "stream",
     "text": [
      "Sample 26:\n"
     ]
    },
    {
     "data": {
      "text/html": [
       "<pre style=\"white-space:pre;overflow-x:auto;line-height:normal;font-family:Menlo,'DejaVu Sans Mono',consolas,'Courier New',monospace\"><span style=\"font-weight: bold\">{</span>\n",
       "<span style=\"color: #7fbf7f; text-decoration-color: #7fbf7f\">│   </span><span style=\"color: #008000; text-decoration-color: #008000\">'statement'</span>: <span style=\"color: #008000; text-decoration-color: #008000\">'College campuses should allow pro-life activists to speak/set up booths, etc. without being ridiculed and laughed at'</span>,\n",
       "<span style=\"color: #7fbf7f; text-decoration-color: #7fbf7f\">│   </span><span style=\"color: #008000; text-decoration-color: #008000\">'submission_id'</span>: <span style=\"color: #008000; text-decoration-color: #008000\">'3pyesp'</span>,\n",
       "<span style=\"color: #7fbf7f; text-decoration-color: #7fbf7f\">│   </span><span style=\"color: #008000; text-decoration-color: #008000\">'penultimate_utterance'</span>: <span style=\"font-weight: bold\">{</span>\n",
       "<span style=\"color: #7fbf7f; text-decoration-color: #7fbf7f\">│   │   </span><span style=\"color: #008000; text-decoration-color: #008000\">'id'</span>: <span style=\"color: #008000; text-decoration-color: #008000\">'cwankzi'</span>,\n",
       "<span style=\"color: #7fbf7f; text-decoration-color: #7fbf7f\">│   │   </span><span style=\"color: #008000; text-decoration-color: #008000\">'userid'</span>: <span style=\"color: #008000; text-decoration-color: #008000\">'ddvvbhn'</span>,\n",
       "<span style=\"color: #7fbf7f; text-decoration-color: #7fbf7f\">│   │   </span><span style=\"color: #008000; text-decoration-color: #008000\">'text'</span>: <span style=\"color: #008000; text-decoration-color: #008000\">'Half of the population is pro-life.  It\\'s been that way for at least 20 years.\\n\\nWhat is it with liberals calling views that 40% of the population agree with \"minority\" or \"extreme\"?  Is it to try to make their views seem like the only valid ones out there?'</span>,\n",
       "<span style=\"color: #7fbf7f; text-decoration-color: #7fbf7f\">│   │   </span><span style=\"color: #008000; text-decoration-color: #008000\">'timestamp'</span>: <span style=\"color: #008080; text-decoration-color: #008080; font-weight: bold\">1445644831</span>\n",
       "<span style=\"color: #7fbf7f; text-decoration-color: #7fbf7f\">│   </span><span style=\"font-weight: bold\">}</span>,\n",
       "<span style=\"color: #7fbf7f; text-decoration-color: #7fbf7f\">│   </span><span style=\"color: #008000; text-decoration-color: #008000\">'last_utterance'</span>: <span style=\"font-weight: bold\">{</span>\n",
       "<span style=\"color: #7fbf7f; text-decoration-color: #7fbf7f\">│   │   </span><span style=\"color: #008000; text-decoration-color: #008000\">'id'</span>: <span style=\"color: #008000; text-decoration-color: #008000\">'cwaw98i'</span>,\n",
       "<span style=\"color: #7fbf7f; text-decoration-color: #7fbf7f\">│   │   </span><span style=\"color: #008000; text-decoration-color: #008000\">'userid'</span>: <span style=\"color: #008000; text-decoration-color: #008000\">'silverence'</span>,\n",
       "<span style=\"color: #7fbf7f; text-decoration-color: #7fbf7f\">│   │   </span><span style=\"color: #008000; text-decoration-color: #008000\">'text'</span>: <span style=\"color: #008000; text-decoration-color: #008000\">\"Notice how I said people on university campuses, which absolutely tend to be more pro-choice.\\n\\nAlso notice how I didn't take one position or the other. I stated facts. What is it with conservatives that make them automatically assume they know someone else's position when discussing divisive issues? Is it because they just tend to rely on stereotypes and generalizations, or is it just their pathetic persecution complexes?\"</span>,\n",
       "<span style=\"color: #7fbf7f; text-decoration-color: #7fbf7f\">│   │   </span><span style=\"color: #008000; text-decoration-color: #008000\">'timestamp'</span>: <span style=\"color: #008080; text-decoration-color: #008080; font-weight: bold\">1445662316</span>\n",
       "<span style=\"color: #7fbf7f; text-decoration-color: #7fbf7f\">│   </span><span style=\"font-weight: bold\">}</span>,\n",
       "<span style=\"color: #7fbf7f; text-decoration-color: #7fbf7f\">│   </span><span style=\"color: #008000; text-decoration-color: #008000\">'split'</span>: <span style=\"color: #008000; text-decoration-color: #008000\">'train'</span>\n",
       "<span style=\"font-weight: bold\">}</span>\n",
       "</pre>\n"
      ],
      "text/plain": [
       "\u001b[1m{\u001b[0m\n",
       "\u001b[2;32m│   \u001b[0m\u001b[32m'statement'\u001b[0m: \u001b[32m'College campuses should allow pro-life activists to speak/set up booths, etc. without being ridiculed and laughed at'\u001b[0m,\n",
       "\u001b[2;32m│   \u001b[0m\u001b[32m'submission_id'\u001b[0m: \u001b[32m'3pyesp'\u001b[0m,\n",
       "\u001b[2;32m│   \u001b[0m\u001b[32m'penultimate_utterance'\u001b[0m: \u001b[1m{\u001b[0m\n",
       "\u001b[2;32m│   │   \u001b[0m\u001b[32m'id'\u001b[0m: \u001b[32m'cwankzi'\u001b[0m,\n",
       "\u001b[2;32m│   │   \u001b[0m\u001b[32m'userid'\u001b[0m: \u001b[32m'ddvvbhn'\u001b[0m,\n",
       "\u001b[2;32m│   │   \u001b[0m\u001b[32m'text'\u001b[0m: \u001b[32m'Half of the population is pro-life.  It\\'s been that way for at least 20 years.\\n\\nWhat is it with liberals calling views that 40% of the population agree with \"minority\" or \"extreme\"?  Is it to try to make their views seem like the only valid ones out there?'\u001b[0m,\n",
       "\u001b[2;32m│   │   \u001b[0m\u001b[32m'timestamp'\u001b[0m: \u001b[1;36m1445644831\u001b[0m\n",
       "\u001b[2;32m│   \u001b[0m\u001b[1m}\u001b[0m,\n",
       "\u001b[2;32m│   \u001b[0m\u001b[32m'last_utterance'\u001b[0m: \u001b[1m{\u001b[0m\n",
       "\u001b[2;32m│   │   \u001b[0m\u001b[32m'id'\u001b[0m: \u001b[32m'cwaw98i'\u001b[0m,\n",
       "\u001b[2;32m│   │   \u001b[0m\u001b[32m'userid'\u001b[0m: \u001b[32m'silverence'\u001b[0m,\n",
       "\u001b[2;32m│   │   \u001b[0m\u001b[32m'text'\u001b[0m: \u001b[32m\"Notice how I said people on university campuses, which absolutely tend to be more pro-choice.\\n\\nAlso notice how I didn't take one position or the other. I stated facts. What is it with conservatives that make them automatically assume they know someone else's position when discussing divisive issues? Is it because they just tend to rely on stereotypes and generalizations, or is it just their pathetic persecution complexes?\"\u001b[0m,\n",
       "\u001b[2;32m│   │   \u001b[0m\u001b[32m'timestamp'\u001b[0m: \u001b[1;36m1445662316\u001b[0m\n",
       "\u001b[2;32m│   \u001b[0m\u001b[1m}\u001b[0m,\n",
       "\u001b[2;32m│   \u001b[0m\u001b[32m'split'\u001b[0m: \u001b[32m'train'\u001b[0m\n",
       "\u001b[1m}\u001b[0m\n"
      ]
     },
     "metadata": {},
     "output_type": "display_data"
    },
    {
     "name": "stdout",
     "output_type": "stream",
     "text": [
      "Sample 27:\n"
     ]
    },
    {
     "data": {
      "text/html": [
       "<pre style=\"white-space:pre;overflow-x:auto;line-height:normal;font-family:Menlo,'DejaVu Sans Mono',consolas,'Courier New',monospace\"><span style=\"font-weight: bold\">{</span>\n",
       "<span style=\"color: #7fbf7f; text-decoration-color: #7fbf7f\">│   </span><span style=\"color: #008000; text-decoration-color: #008000\">'statement'</span>: <span style=\"color: #008000; text-decoration-color: #008000\">'There is no sound reason to vote Republican this time around.'</span>,\n",
       "<span style=\"color: #7fbf7f; text-decoration-color: #7fbf7f\">│   </span><span style=\"color: #008000; text-decoration-color: #008000\">'submission_id'</span>: <span style=\"color: #008000; text-decoration-color: #008000\">'3q27mk'</span>,\n",
       "<span style=\"color: #7fbf7f; text-decoration-color: #7fbf7f\">│   </span><span style=\"color: #008000; text-decoration-color: #008000\">'penultimate_utterance'</span>: <span style=\"font-weight: bold\">{</span>\n",
       "<span style=\"color: #7fbf7f; text-decoration-color: #7fbf7f\">│   │   </span><span style=\"color: #008000; text-decoration-color: #008000\">'id'</span>: <span style=\"color: #008000; text-decoration-color: #008000\">'cwc50s4'</span>,\n",
       "<span style=\"color: #7fbf7f; text-decoration-color: #7fbf7f\">│   │   </span><span style=\"color: #008000; text-decoration-color: #008000\">'userid'</span>: <span style=\"color: #008000; text-decoration-color: #008000\">'yogfthagen'</span>,\n",
       "<span style=\"color: #7fbf7f; text-decoration-color: #7fbf7f\">│   │   </span><span style=\"color: #008000; text-decoration-color: #008000\">'text'</span>: <span style=\"color: #008000; text-decoration-color: #008000\">'Sanders is middle of the road for the entire EU. The GOP has no analogue in the developed world. You need to look to Islamic theocracies to approach the same positions. '</span>,\n",
       "<span style=\"color: #7fbf7f; text-decoration-color: #7fbf7f\">│   │   </span><span style=\"color: #008000; text-decoration-color: #008000\">'timestamp'</span>: <span style=\"color: #008080; text-decoration-color: #008080; font-weight: bold\">1445780504</span>\n",
       "<span style=\"color: #7fbf7f; text-decoration-color: #7fbf7f\">│   </span><span style=\"font-weight: bold\">}</span>,\n",
       "<span style=\"color: #7fbf7f; text-decoration-color: #7fbf7f\">│   </span><span style=\"color: #008000; text-decoration-color: #008000\">'last_utterance'</span>: <span style=\"font-weight: bold\">{</span>\n",
       "<span style=\"color: #7fbf7f; text-decoration-color: #7fbf7f\">│   │   </span><span style=\"color: #008000; text-decoration-color: #008000\">'id'</span>: <span style=\"color: #008000; text-decoration-color: #008000\">'cwc6z4y'</span>,\n",
       "<span style=\"color: #7fbf7f; text-decoration-color: #7fbf7f\">│   │   </span><span style=\"color: #008000; text-decoration-color: #008000\">'userid'</span>: <span style=\"color: #008000; text-decoration-color: #008000\">'DallasStars1999'</span>,\n",
       "<span style=\"color: #7fbf7f; text-decoration-color: #7fbf7f\">│   │   </span><span style=\"color: #008000; text-decoration-color: #008000\">'text'</span>: <span style=\"color: #008000; text-decoration-color: #008000\">'America became the most powerful country in the world never trying to be like the EU. '</span>,\n",
       "<span style=\"color: #7fbf7f; text-decoration-color: #7fbf7f\">│   │   </span><span style=\"color: #008000; text-decoration-color: #008000\">'timestamp'</span>: <span style=\"color: #008080; text-decoration-color: #008080; font-weight: bold\">1445784694</span>\n",
       "<span style=\"color: #7fbf7f; text-decoration-color: #7fbf7f\">│   </span><span style=\"font-weight: bold\">}</span>,\n",
       "<span style=\"color: #7fbf7f; text-decoration-color: #7fbf7f\">│   </span><span style=\"color: #008000; text-decoration-color: #008000\">'split'</span>: <span style=\"color: #008000; text-decoration-color: #008000\">'train'</span>\n",
       "<span style=\"font-weight: bold\">}</span>\n",
       "</pre>\n"
      ],
      "text/plain": [
       "\u001b[1m{\u001b[0m\n",
       "\u001b[2;32m│   \u001b[0m\u001b[32m'statement'\u001b[0m: \u001b[32m'There is no sound reason to vote Republican this time around.'\u001b[0m,\n",
       "\u001b[2;32m│   \u001b[0m\u001b[32m'submission_id'\u001b[0m: \u001b[32m'3q27mk'\u001b[0m,\n",
       "\u001b[2;32m│   \u001b[0m\u001b[32m'penultimate_utterance'\u001b[0m: \u001b[1m{\u001b[0m\n",
       "\u001b[2;32m│   │   \u001b[0m\u001b[32m'id'\u001b[0m: \u001b[32m'cwc50s4'\u001b[0m,\n",
       "\u001b[2;32m│   │   \u001b[0m\u001b[32m'userid'\u001b[0m: \u001b[32m'yogfthagen'\u001b[0m,\n",
       "\u001b[2;32m│   │   \u001b[0m\u001b[32m'text'\u001b[0m: \u001b[32m'Sanders is middle of the road for the entire EU. The GOP has no analogue in the developed world. You need to look to Islamic theocracies to approach the same positions. '\u001b[0m,\n",
       "\u001b[2;32m│   │   \u001b[0m\u001b[32m'timestamp'\u001b[0m: \u001b[1;36m1445780504\u001b[0m\n",
       "\u001b[2;32m│   \u001b[0m\u001b[1m}\u001b[0m,\n",
       "\u001b[2;32m│   \u001b[0m\u001b[32m'last_utterance'\u001b[0m: \u001b[1m{\u001b[0m\n",
       "\u001b[2;32m│   │   \u001b[0m\u001b[32m'id'\u001b[0m: \u001b[32m'cwc6z4y'\u001b[0m,\n",
       "\u001b[2;32m│   │   \u001b[0m\u001b[32m'userid'\u001b[0m: \u001b[32m'DallasStars1999'\u001b[0m,\n",
       "\u001b[2;32m│   │   \u001b[0m\u001b[32m'text'\u001b[0m: \u001b[32m'America became the most powerful country in the world never trying to be like the EU. '\u001b[0m,\n",
       "\u001b[2;32m│   │   \u001b[0m\u001b[32m'timestamp'\u001b[0m: \u001b[1;36m1445784694\u001b[0m\n",
       "\u001b[2;32m│   \u001b[0m\u001b[1m}\u001b[0m,\n",
       "\u001b[2;32m│   \u001b[0m\u001b[32m'split'\u001b[0m: \u001b[32m'train'\u001b[0m\n",
       "\u001b[1m}\u001b[0m\n"
      ]
     },
     "metadata": {},
     "output_type": "display_data"
    },
    {
     "name": "stdout",
     "output_type": "stream",
     "text": [
      "Sample 28:\n"
     ]
    },
    {
     "data": {
      "text/html": [
       "<pre style=\"white-space:pre;overflow-x:auto;line-height:normal;font-family:Menlo,'DejaVu Sans Mono',consolas,'Courier New',monospace\"><span style=\"font-weight: bold\">{</span>\n",
       "<span style=\"color: #7fbf7f; text-decoration-color: #7fbf7f\">│   </span><span style=\"color: #008000; text-decoration-color: #008000\">'statement'</span>: <span style=\"color: #008000; text-decoration-color: #008000\">\"It's hypocritical to say you're against animal abuse but still eat factory-farmed meat.\"</span>,\n",
       "<span style=\"color: #7fbf7f; text-decoration-color: #7fbf7f\">│   </span><span style=\"color: #008000; text-decoration-color: #008000\">'submission_id'</span>: <span style=\"color: #008000; text-decoration-color: #008000\">'3q2zo7'</span>,\n",
       "<span style=\"color: #7fbf7f; text-decoration-color: #7fbf7f\">│   </span><span style=\"color: #008000; text-decoration-color: #008000\">'penultimate_utterance'</span>: <span style=\"font-weight: bold\">{</span>\n",
       "<span style=\"color: #7fbf7f; text-decoration-color: #7fbf7f\">│   │   </span><span style=\"color: #008000; text-decoration-color: #008000\">'id'</span>: <span style=\"color: #008000; text-decoration-color: #008000\">'cwbn83y'</span>,\n",
       "<span style=\"color: #7fbf7f; text-decoration-color: #7fbf7f\">│   │   </span><span style=\"color: #008000; text-decoration-color: #008000\">'userid'</span>: <span style=\"color: #008000; text-decoration-color: #008000\">'xelhark'</span>,\n",
       "<span style=\"color: #7fbf7f; text-decoration-color: #7fbf7f\">│   │   </span><span style=\"color: #008000; text-decoration-color: #008000\">'text'</span>: <span style=\"color: #008000; text-decoration-color: #008000\">\"Bro, seriously, I'm all with you on this. \\n\\nBut please. Saying stuff like this\\n\\n&gt; Humans are biologically frugivores\\n\\nis going to get you and your argument ridiculed.\"</span>,\n",
       "<span style=\"color: #7fbf7f; text-decoration-color: #7fbf7f\">│   │   </span><span style=\"color: #008000; text-decoration-color: #008000\">'timestamp'</span>: <span style=\"color: #008080; text-decoration-color: #008080; font-weight: bold\">1445729475</span>\n",
       "<span style=\"color: #7fbf7f; text-decoration-color: #7fbf7f\">│   </span><span style=\"font-weight: bold\">}</span>,\n",
       "<span style=\"color: #7fbf7f; text-decoration-color: #7fbf7f\">│   </span><span style=\"color: #008000; text-decoration-color: #008000\">'last_utterance'</span>: <span style=\"font-weight: bold\">{</span>\n",
       "<span style=\"color: #7fbf7f; text-decoration-color: #7fbf7f\">│   │   </span><span style=\"color: #008000; text-decoration-color: #008000\">'id'</span>: <span style=\"color: #008000; text-decoration-color: #008000\">'cwbnfxl'</span>,\n",
       "<span style=\"color: #7fbf7f; text-decoration-color: #7fbf7f\">│   │   </span><span style=\"color: #008000; text-decoration-color: #008000\">'userid'</span>: <span style=\"color: #008000; text-decoration-color: #008000\">'laqueristaa'</span>,\n",
       "<span style=\"color: #7fbf7f; text-decoration-color: #7fbf7f\">│   │   </span><span style=\"color: #008000; text-decoration-color: #008000\">'text'</span>: <span style=\"color: #008000; text-decoration-color: #008000\">\"I would like to know your reasons why you don't think so. I appreciate the honesty though. \"</span>,\n",
       "<span style=\"color: #7fbf7f; text-decoration-color: #7fbf7f\">│   │   </span><span style=\"color: #008000; text-decoration-color: #008000\">'timestamp'</span>: <span style=\"color: #008080; text-decoration-color: #008080; font-weight: bold\">1445729892</span>\n",
       "<span style=\"color: #7fbf7f; text-decoration-color: #7fbf7f\">│   </span><span style=\"font-weight: bold\">}</span>,\n",
       "<span style=\"color: #7fbf7f; text-decoration-color: #7fbf7f\">│   </span><span style=\"color: #008000; text-decoration-color: #008000\">'split'</span>: <span style=\"color: #008000; text-decoration-color: #008000\">'train'</span>\n",
       "<span style=\"font-weight: bold\">}</span>\n",
       "</pre>\n"
      ],
      "text/plain": [
       "\u001b[1m{\u001b[0m\n",
       "\u001b[2;32m│   \u001b[0m\u001b[32m'statement'\u001b[0m: \u001b[32m\"It's hypocritical to say you're against animal abuse but still eat factory-farmed meat.\"\u001b[0m,\n",
       "\u001b[2;32m│   \u001b[0m\u001b[32m'submission_id'\u001b[0m: \u001b[32m'3q2zo7'\u001b[0m,\n",
       "\u001b[2;32m│   \u001b[0m\u001b[32m'penultimate_utterance'\u001b[0m: \u001b[1m{\u001b[0m\n",
       "\u001b[2;32m│   │   \u001b[0m\u001b[32m'id'\u001b[0m: \u001b[32m'cwbn83y'\u001b[0m,\n",
       "\u001b[2;32m│   │   \u001b[0m\u001b[32m'userid'\u001b[0m: \u001b[32m'xelhark'\u001b[0m,\n",
       "\u001b[2;32m│   │   \u001b[0m\u001b[32m'text'\u001b[0m: \u001b[32m\"Bro, seriously, I'm all with you on this. \\n\\nBut please. Saying stuff like this\\n\\n> Humans are biologically frugivores\\n\\nis going to get you and your argument ridiculed.\"\u001b[0m,\n",
       "\u001b[2;32m│   │   \u001b[0m\u001b[32m'timestamp'\u001b[0m: \u001b[1;36m1445729475\u001b[0m\n",
       "\u001b[2;32m│   \u001b[0m\u001b[1m}\u001b[0m,\n",
       "\u001b[2;32m│   \u001b[0m\u001b[32m'last_utterance'\u001b[0m: \u001b[1m{\u001b[0m\n",
       "\u001b[2;32m│   │   \u001b[0m\u001b[32m'id'\u001b[0m: \u001b[32m'cwbnfxl'\u001b[0m,\n",
       "\u001b[2;32m│   │   \u001b[0m\u001b[32m'userid'\u001b[0m: \u001b[32m'laqueristaa'\u001b[0m,\n",
       "\u001b[2;32m│   │   \u001b[0m\u001b[32m'text'\u001b[0m: \u001b[32m\"I would like to know your reasons why you don't think so. I appreciate the honesty though. \"\u001b[0m,\n",
       "\u001b[2;32m│   │   \u001b[0m\u001b[32m'timestamp'\u001b[0m: \u001b[1;36m1445729892\u001b[0m\n",
       "\u001b[2;32m│   \u001b[0m\u001b[1m}\u001b[0m,\n",
       "\u001b[2;32m│   \u001b[0m\u001b[32m'split'\u001b[0m: \u001b[32m'train'\u001b[0m\n",
       "\u001b[1m}\u001b[0m\n"
      ]
     },
     "metadata": {},
     "output_type": "display_data"
    },
    {
     "name": "stdout",
     "output_type": "stream",
     "text": [
      "Sample 29:\n"
     ]
    },
    {
     "data": {
      "text/html": [
       "<pre style=\"white-space:pre;overflow-x:auto;line-height:normal;font-family:Menlo,'DejaVu Sans Mono',consolas,'Courier New',monospace\"><span style=\"font-weight: bold\">{</span>\n",
       "<span style=\"color: #7fbf7f; text-decoration-color: #7fbf7f\">│   </span><span style=\"color: #008000; text-decoration-color: #008000\">'statement'</span>: <span style=\"color: #008000; text-decoration-color: #008000\">\"Im not wrong for thinking everyone (who's reading this) should be a vegetarian. It is undeniable the vegetarianism is ethically superior to eating meat.\"</span>,\n",
       "<span style=\"color: #7fbf7f; text-decoration-color: #7fbf7f\">│   </span><span style=\"color: #008000; text-decoration-color: #008000\">'submission_id'</span>: <span style=\"color: #008000; text-decoration-color: #008000\">'3r6gim'</span>,\n",
       "<span style=\"color: #7fbf7f; text-decoration-color: #7fbf7f\">│   </span><span style=\"color: #008000; text-decoration-color: #008000\">'penultimate_utterance'</span>: <span style=\"font-weight: bold\">{</span>\n",
       "<span style=\"color: #7fbf7f; text-decoration-color: #7fbf7f\">│   │   </span><span style=\"color: #008000; text-decoration-color: #008000\">'id'</span>: <span style=\"color: #008000; text-decoration-color: #008000\">'cwle8p1'</span>,\n",
       "<span style=\"color: #7fbf7f; text-decoration-color: #7fbf7f\">│   │   </span><span style=\"color: #008000; text-decoration-color: #008000\">'userid'</span>: <span style=\"color: #008000; text-decoration-color: #008000\">'cdb03b'</span>,\n",
       "<span style=\"color: #7fbf7f; text-decoration-color: #7fbf7f\">│   │   </span><span style=\"color: #008000; text-decoration-color: #008000\">'text'</span>: <span style=\"color: #008000; text-decoration-color: #008000\">'Rape is not a factor born of evolution. It is a social phenomena. '</span>,\n",
       "<span style=\"color: #7fbf7f; text-decoration-color: #7fbf7f\">│   │   </span><span style=\"color: #008000; text-decoration-color: #008000\">'timestamp'</span>: <span style=\"color: #008080; text-decoration-color: #008080; font-weight: bold\">1446449524</span>\n",
       "<span style=\"color: #7fbf7f; text-decoration-color: #7fbf7f\">│   </span><span style=\"font-weight: bold\">}</span>,\n",
       "<span style=\"color: #7fbf7f; text-decoration-color: #7fbf7f\">│   </span><span style=\"color: #008000; text-decoration-color: #008000\">'last_utterance'</span>: <span style=\"font-weight: bold\">{</span>\n",
       "<span style=\"color: #7fbf7f; text-decoration-color: #7fbf7f\">│   │   </span><span style=\"color: #008000; text-decoration-color: #008000\">'id'</span>: <span style=\"color: #008000; text-decoration-color: #008000\">'cwlecms'</span>,\n",
       "<span style=\"color: #7fbf7f; text-decoration-color: #7fbf7f\">│   │   </span><span style=\"color: #008000; text-decoration-color: #008000\">'userid'</span>: <span style=\"color: #008000; text-decoration-color: #008000\">'noluv4uhoes'</span>,\n",
       "<span style=\"color: #7fbf7f; text-decoration-color: #7fbf7f\">│   │   </span><span style=\"color: #008000; text-decoration-color: #008000\">'text'</span>: <span style=\"color: #008000; text-decoration-color: #008000\">\"Every single thing we do is borne of evolution. Everything we do is also social phenomena. You dont seem to properly understand the things you say.\\n\\nYou're saying that we evolved to eat meat, so we should.\\n\\nWe evolved to rape too, so you're saying we should do that too.\"</span>,\n",
       "<span style=\"color: #7fbf7f; text-decoration-color: #7fbf7f\">│   │   </span><span style=\"color: #008000; text-decoration-color: #008000\">'timestamp'</span>: <span style=\"color: #008080; text-decoration-color: #008080; font-weight: bold\">1446449915</span>\n",
       "<span style=\"color: #7fbf7f; text-decoration-color: #7fbf7f\">│   </span><span style=\"font-weight: bold\">}</span>,\n",
       "<span style=\"color: #7fbf7f; text-decoration-color: #7fbf7f\">│   </span><span style=\"color: #008000; text-decoration-color: #008000\">'split'</span>: <span style=\"color: #008000; text-decoration-color: #008000\">'train'</span>\n",
       "<span style=\"font-weight: bold\">}</span>\n",
       "</pre>\n"
      ],
      "text/plain": [
       "\u001b[1m{\u001b[0m\n",
       "\u001b[2;32m│   \u001b[0m\u001b[32m'statement'\u001b[0m: \u001b[32m\"Im not wrong for thinking everyone \u001b[0m\u001b[32m(\u001b[0m\u001b[32mwho's reading this\u001b[0m\u001b[32m)\u001b[0m\u001b[32m should be a vegetarian. It is undeniable the vegetarianism is ethically superior to eating meat.\"\u001b[0m,\n",
       "\u001b[2;32m│   \u001b[0m\u001b[32m'submission_id'\u001b[0m: \u001b[32m'3r6gim'\u001b[0m,\n",
       "\u001b[2;32m│   \u001b[0m\u001b[32m'penultimate_utterance'\u001b[0m: \u001b[1m{\u001b[0m\n",
       "\u001b[2;32m│   │   \u001b[0m\u001b[32m'id'\u001b[0m: \u001b[32m'cwle8p1'\u001b[0m,\n",
       "\u001b[2;32m│   │   \u001b[0m\u001b[32m'userid'\u001b[0m: \u001b[32m'cdb03b'\u001b[0m,\n",
       "\u001b[2;32m│   │   \u001b[0m\u001b[32m'text'\u001b[0m: \u001b[32m'Rape is not a factor born of evolution. It is a social phenomena. '\u001b[0m,\n",
       "\u001b[2;32m│   │   \u001b[0m\u001b[32m'timestamp'\u001b[0m: \u001b[1;36m1446449524\u001b[0m\n",
       "\u001b[2;32m│   \u001b[0m\u001b[1m}\u001b[0m,\n",
       "\u001b[2;32m│   \u001b[0m\u001b[32m'last_utterance'\u001b[0m: \u001b[1m{\u001b[0m\n",
       "\u001b[2;32m│   │   \u001b[0m\u001b[32m'id'\u001b[0m: \u001b[32m'cwlecms'\u001b[0m,\n",
       "\u001b[2;32m│   │   \u001b[0m\u001b[32m'userid'\u001b[0m: \u001b[32m'noluv4uhoes'\u001b[0m,\n",
       "\u001b[2;32m│   │   \u001b[0m\u001b[32m'text'\u001b[0m: \u001b[32m\"Every single thing we do is borne of evolution. Everything we do is also social phenomena. You dont seem to properly understand the things you say.\\n\\nYou're saying that we evolved to eat meat, so we should.\\n\\nWe evolved to rape too, so you're saying we should do that too.\"\u001b[0m,\n",
       "\u001b[2;32m│   │   \u001b[0m\u001b[32m'timestamp'\u001b[0m: \u001b[1;36m1446449915\u001b[0m\n",
       "\u001b[2;32m│   \u001b[0m\u001b[1m}\u001b[0m,\n",
       "\u001b[2;32m│   \u001b[0m\u001b[32m'split'\u001b[0m: \u001b[32m'train'\u001b[0m\n",
       "\u001b[1m}\u001b[0m\n"
      ]
     },
     "metadata": {},
     "output_type": "display_data"
    },
    {
     "name": "stdout",
     "output_type": "stream",
     "text": [
      "Sample 30:\n"
     ]
    },
    {
     "data": {
      "text/html": [
       "<pre style=\"white-space:pre;overflow-x:auto;line-height:normal;font-family:Menlo,'DejaVu Sans Mono',consolas,'Courier New',monospace\"><span style=\"font-weight: bold\">{</span>\n",
       "<span style=\"color: #7fbf7f; text-decoration-color: #7fbf7f\">│   </span><span style=\"color: #008000; text-decoration-color: #008000\">'statement'</span>: <span style=\"color: #008000; text-decoration-color: #008000\">'The people protesting University of Missouri accusing the community and the president of the school of \"systematic\" racism are not being reasonable at all.'</span>,\n",
       "<span style=\"color: #7fbf7f; text-decoration-color: #7fbf7f\">│   </span><span style=\"color: #008000; text-decoration-color: #008000\">'submission_id'</span>: <span style=\"color: #008000; text-decoration-color: #008000\">'3s5dha'</span>,\n",
       "<span style=\"color: #7fbf7f; text-decoration-color: #7fbf7f\">│   </span><span style=\"color: #008000; text-decoration-color: #008000\">'penultimate_utterance'</span>: <span style=\"font-weight: bold\">{</span>\n",
       "<span style=\"color: #7fbf7f; text-decoration-color: #7fbf7f\">│   │   </span><span style=\"color: #008000; text-decoration-color: #008000\">'id'</span>: <span style=\"color: #008000; text-decoration-color: #008000\">'cwul2lj'</span>,\n",
       "<span style=\"color: #7fbf7f; text-decoration-color: #7fbf7f\">│   │   </span><span style=\"color: #008000; text-decoration-color: #008000\">'userid'</span>: <span style=\"color: #008000; text-decoration-color: #008000\">'TroubleYouForTheSalt'</span>,\n",
       "<span style=\"color: #7fbf7f; text-decoration-color: #7fbf7f\">│   │   </span><span style=\"color: #008000; text-decoration-color: #008000\">'text'</span>: <span style=\"color: #008000; text-decoration-color: #008000\">'We get it, you have nothing to offer but solipsisms. Thanks. '</span>,\n",
       "<span style=\"color: #7fbf7f; text-decoration-color: #7fbf7f\">│   │   </span><span style=\"color: #008000; text-decoration-color: #008000\">'timestamp'</span>: <span style=\"color: #008080; text-decoration-color: #008080; font-weight: bold\">1447106088</span>\n",
       "<span style=\"color: #7fbf7f; text-decoration-color: #7fbf7f\">│   </span><span style=\"font-weight: bold\">}</span>,\n",
       "<span style=\"color: #7fbf7f; text-decoration-color: #7fbf7f\">│   </span><span style=\"color: #008000; text-decoration-color: #008000\">'last_utterance'</span>: <span style=\"font-weight: bold\">{</span>\n",
       "<span style=\"color: #7fbf7f; text-decoration-color: #7fbf7f\">│   │   </span><span style=\"color: #008000; text-decoration-color: #008000\">'id'</span>: <span style=\"color: #008000; text-decoration-color: #008000\">'cwurx5l'</span>,\n",
       "<span style=\"color: #7fbf7f; text-decoration-color: #7fbf7f\">│   │   </span><span style=\"color: #008000; text-decoration-color: #008000\">'userid'</span>: <span style=\"color: #008000; text-decoration-color: #008000\">'StumbleOn'</span>,\n",
       "<span style=\"color: #7fbf7f; text-decoration-color: #7fbf7f\">│   │   </span><span style=\"color: #008000; text-decoration-color: #008000\">'text'</span>: <span style=\"color: #008000; text-decoration-color: #008000\">'Perhaps you should listen more carefully to understand your question and premise are the problem. '</span>,\n",
       "<span style=\"color: #7fbf7f; text-decoration-color: #7fbf7f\">│   │   </span><span style=\"color: #008000; text-decoration-color: #008000\">'timestamp'</span>: <span style=\"color: #008080; text-decoration-color: #008080; font-weight: bold\">1447116724</span>\n",
       "<span style=\"color: #7fbf7f; text-decoration-color: #7fbf7f\">│   </span><span style=\"font-weight: bold\">}</span>,\n",
       "<span style=\"color: #7fbf7f; text-decoration-color: #7fbf7f\">│   </span><span style=\"color: #008000; text-decoration-color: #008000\">'split'</span>: <span style=\"color: #008000; text-decoration-color: #008000\">'train'</span>\n",
       "<span style=\"font-weight: bold\">}</span>\n",
       "</pre>\n"
      ],
      "text/plain": [
       "\u001b[1m{\u001b[0m\n",
       "\u001b[2;32m│   \u001b[0m\u001b[32m'statement'\u001b[0m: \u001b[32m'The people protesting University of Missouri accusing the community and the president of the school of \"systematic\" racism are not being reasonable at all.'\u001b[0m,\n",
       "\u001b[2;32m│   \u001b[0m\u001b[32m'submission_id'\u001b[0m: \u001b[32m'3s5dha'\u001b[0m,\n",
       "\u001b[2;32m│   \u001b[0m\u001b[32m'penultimate_utterance'\u001b[0m: \u001b[1m{\u001b[0m\n",
       "\u001b[2;32m│   │   \u001b[0m\u001b[32m'id'\u001b[0m: \u001b[32m'cwul2lj'\u001b[0m,\n",
       "\u001b[2;32m│   │   \u001b[0m\u001b[32m'userid'\u001b[0m: \u001b[32m'TroubleYouForTheSalt'\u001b[0m,\n",
       "\u001b[2;32m│   │   \u001b[0m\u001b[32m'text'\u001b[0m: \u001b[32m'We get it, you have nothing to offer but solipsisms. Thanks. '\u001b[0m,\n",
       "\u001b[2;32m│   │   \u001b[0m\u001b[32m'timestamp'\u001b[0m: \u001b[1;36m1447106088\u001b[0m\n",
       "\u001b[2;32m│   \u001b[0m\u001b[1m}\u001b[0m,\n",
       "\u001b[2;32m│   \u001b[0m\u001b[32m'last_utterance'\u001b[0m: \u001b[1m{\u001b[0m\n",
       "\u001b[2;32m│   │   \u001b[0m\u001b[32m'id'\u001b[0m: \u001b[32m'cwurx5l'\u001b[0m,\n",
       "\u001b[2;32m│   │   \u001b[0m\u001b[32m'userid'\u001b[0m: \u001b[32m'StumbleOn'\u001b[0m,\n",
       "\u001b[2;32m│   │   \u001b[0m\u001b[32m'text'\u001b[0m: \u001b[32m'Perhaps you should listen more carefully to understand your question and premise are the problem. '\u001b[0m,\n",
       "\u001b[2;32m│   │   \u001b[0m\u001b[32m'timestamp'\u001b[0m: \u001b[1;36m1447116724\u001b[0m\n",
       "\u001b[2;32m│   \u001b[0m\u001b[1m}\u001b[0m,\n",
       "\u001b[2;32m│   \u001b[0m\u001b[32m'split'\u001b[0m: \u001b[32m'train'\u001b[0m\n",
       "\u001b[1m}\u001b[0m\n"
      ]
     },
     "metadata": {},
     "output_type": "display_data"
    },
    {
     "name": "stdout",
     "output_type": "stream",
     "text": [
      "Sample 31:\n"
     ]
    },
    {
     "data": {
      "text/html": [
       "<pre style=\"white-space:pre;overflow-x:auto;line-height:normal;font-family:Menlo,'DejaVu Sans Mono',consolas,'Courier New',monospace\"><span style=\"font-weight: bold\">{</span>\n",
       "<span style=\"color: #7fbf7f; text-decoration-color: #7fbf7f\">│   </span><span style=\"color: #008000; text-decoration-color: #008000\">'statement'</span>: <span style=\"color: #008000; text-decoration-color: #008000\">\"Safe spaces are the dumbest thing I've ever heard of.\"</span>,\n",
       "<span style=\"color: #7fbf7f; text-decoration-color: #7fbf7f\">│   </span><span style=\"color: #008000; text-decoration-color: #008000\">'submission_id'</span>: <span style=\"color: #008000; text-decoration-color: #008000\">'3slhzz'</span>,\n",
       "<span style=\"color: #7fbf7f; text-decoration-color: #7fbf7f\">│   </span><span style=\"color: #008000; text-decoration-color: #008000\">'penultimate_utterance'</span>: <span style=\"font-weight: bold\">{</span>\n",
       "<span style=\"color: #7fbf7f; text-decoration-color: #7fbf7f\">│   │   </span><span style=\"color: #008000; text-decoration-color: #008000\">'id'</span>: <span style=\"color: #008000; text-decoration-color: #008000\">'cwycca3'</span>,\n",
       "<span style=\"color: #7fbf7f; text-decoration-color: #7fbf7f\">│   │   </span><span style=\"color: #008000; text-decoration-color: #008000\">'userid'</span>: <span style=\"color: #008000; text-decoration-color: #008000\">'sethamphetamines'</span>,\n",
       "<span style=\"color: #7fbf7f; text-decoration-color: #7fbf7f\">│   │   </span><span style=\"color: #008000; text-decoration-color: #008000\">'text'</span>: <span style=\"color: #008000; text-decoration-color: #008000\">\"As /u/ryancarp3 pointed out to me, I've got a larger problem with the misapplication than the actual concept of a safe space. So, yeah, I guess it would be that people are acting like a bunch of spoiled children which isn't really applicable to /r/CMV\"</span>,\n",
       "<span style=\"color: #7fbf7f; text-decoration-color: #7fbf7f\">│   │   </span><span style=\"color: #008000; text-decoration-color: #008000\">'timestamp'</span>: <span style=\"color: #008080; text-decoration-color: #008080; font-weight: bold\">1447374740</span>\n",
       "<span style=\"color: #7fbf7f; text-decoration-color: #7fbf7f\">│   </span><span style=\"font-weight: bold\">}</span>,\n",
       "<span style=\"color: #7fbf7f; text-decoration-color: #7fbf7f\">│   </span><span style=\"color: #008000; text-decoration-color: #008000\">'last_utterance'</span>: <span style=\"font-weight: bold\">{</span>\n",
       "<span style=\"color: #7fbf7f; text-decoration-color: #7fbf7f\">│   │   </span><span style=\"color: #008000; text-decoration-color: #008000\">'id'</span>: <span style=\"color: #008000; text-decoration-color: #008000\">'cwynfm5'</span>,\n",
       "<span style=\"color: #7fbf7f; text-decoration-color: #7fbf7f\">│   │   </span><span style=\"color: #008000; text-decoration-color: #008000\">'userid'</span>: <span style=\"color: #008000; text-decoration-color: #008000\">'saltydog15'</span>,\n",
       "<span style=\"color: #7fbf7f; text-decoration-color: #7fbf7f\">│   │   </span><span style=\"color: #008000; text-decoration-color: #008000\">'text'</span>: <span style=\"color: #008000; text-decoration-color: #008000\">'Would you say that you wish the colts sub was a safe space?'</span>,\n",
       "<span style=\"color: #7fbf7f; text-decoration-color: #7fbf7f\">│   │   </span><span style=\"color: #008000; text-decoration-color: #008000\">'timestamp'</span>: <span style=\"color: #008080; text-decoration-color: #008080; font-weight: bold\">1447395556</span>\n",
       "<span style=\"color: #7fbf7f; text-decoration-color: #7fbf7f\">│   </span><span style=\"font-weight: bold\">}</span>,\n",
       "<span style=\"color: #7fbf7f; text-decoration-color: #7fbf7f\">│   </span><span style=\"color: #008000; text-decoration-color: #008000\">'split'</span>: <span style=\"color: #008000; text-decoration-color: #008000\">'train'</span>\n",
       "<span style=\"font-weight: bold\">}</span>\n",
       "</pre>\n"
      ],
      "text/plain": [
       "\u001b[1m{\u001b[0m\n",
       "\u001b[2;32m│   \u001b[0m\u001b[32m'statement'\u001b[0m: \u001b[32m\"Safe spaces are the dumbest thing I've ever heard of.\"\u001b[0m,\n",
       "\u001b[2;32m│   \u001b[0m\u001b[32m'submission_id'\u001b[0m: \u001b[32m'3slhzz'\u001b[0m,\n",
       "\u001b[2;32m│   \u001b[0m\u001b[32m'penultimate_utterance'\u001b[0m: \u001b[1m{\u001b[0m\n",
       "\u001b[2;32m│   │   \u001b[0m\u001b[32m'id'\u001b[0m: \u001b[32m'cwycca3'\u001b[0m,\n",
       "\u001b[2;32m│   │   \u001b[0m\u001b[32m'userid'\u001b[0m: \u001b[32m'sethamphetamines'\u001b[0m,\n",
       "\u001b[2;32m│   │   \u001b[0m\u001b[32m'text'\u001b[0m: \u001b[32m\"As /u/ryancarp3 pointed out to me, I've got a larger problem with the misapplication than the actual concept of a safe space. So, yeah, I guess it would be that people are acting like a bunch of spoiled children which isn't really applicable to /r/CMV\"\u001b[0m,\n",
       "\u001b[2;32m│   │   \u001b[0m\u001b[32m'timestamp'\u001b[0m: \u001b[1;36m1447374740\u001b[0m\n",
       "\u001b[2;32m│   \u001b[0m\u001b[1m}\u001b[0m,\n",
       "\u001b[2;32m│   \u001b[0m\u001b[32m'last_utterance'\u001b[0m: \u001b[1m{\u001b[0m\n",
       "\u001b[2;32m│   │   \u001b[0m\u001b[32m'id'\u001b[0m: \u001b[32m'cwynfm5'\u001b[0m,\n",
       "\u001b[2;32m│   │   \u001b[0m\u001b[32m'userid'\u001b[0m: \u001b[32m'saltydog15'\u001b[0m,\n",
       "\u001b[2;32m│   │   \u001b[0m\u001b[32m'text'\u001b[0m: \u001b[32m'Would you say that you wish the colts sub was a safe space?'\u001b[0m,\n",
       "\u001b[2;32m│   │   \u001b[0m\u001b[32m'timestamp'\u001b[0m: \u001b[1;36m1447395556\u001b[0m\n",
       "\u001b[2;32m│   \u001b[0m\u001b[1m}\u001b[0m,\n",
       "\u001b[2;32m│   \u001b[0m\u001b[32m'split'\u001b[0m: \u001b[32m'train'\u001b[0m\n",
       "\u001b[1m}\u001b[0m\n"
      ]
     },
     "metadata": {},
     "output_type": "display_data"
    },
    {
     "name": "stdout",
     "output_type": "stream",
     "text": [
      "Sample 32:\n"
     ]
    },
    {
     "data": {
      "text/html": [
       "<pre style=\"white-space:pre;overflow-x:auto;line-height:normal;font-family:Menlo,'DejaVu Sans Mono',consolas,'Courier New',monospace\"><span style=\"font-weight: bold\">{</span>\n",
       "<span style=\"color: #7fbf7f; text-decoration-color: #7fbf7f\">│   </span><span style=\"color: #008000; text-decoration-color: #008000\">'statement'</span>: <span style=\"color: #008000; text-decoration-color: #008000\">\"I don't like Muslims.\"</span>,\n",
       "<span style=\"color: #7fbf7f; text-decoration-color: #7fbf7f\">│   </span><span style=\"color: #008000; text-decoration-color: #008000\">'submission_id'</span>: <span style=\"color: #008000; text-decoration-color: #008000\">'3stylc'</span>,\n",
       "<span style=\"color: #7fbf7f; text-decoration-color: #7fbf7f\">│   </span><span style=\"color: #008000; text-decoration-color: #008000\">'penultimate_utterance'</span>: <span style=\"font-weight: bold\">{</span>\n",
       "<span style=\"color: #7fbf7f; text-decoration-color: #7fbf7f\">│   │   </span><span style=\"color: #008000; text-decoration-color: #008000\">'id'</span>: <span style=\"color: #008000; text-decoration-color: #008000\">'cx0f4dp'</span>,\n",
       "<span style=\"color: #7fbf7f; text-decoration-color: #7fbf7f\">│   │   </span><span style=\"color: #008000; text-decoration-color: #008000\">'userid'</span>: <span style=\"color: #008000; text-decoration-color: #008000\">'JulyJohnson'</span>,\n",
       "<span style=\"color: #7fbf7f; text-decoration-color: #7fbf7f\">│   │   </span><span style=\"color: #008000; text-decoration-color: #008000\">'text'</span>: <span style=\"color: #008000; text-decoration-color: #008000\">\"Anecdotal, but non-muslims are not allowed inside a mosque in my personal experience.   Which proves exactly the point...  am willing to be disproved, but haven't been so far yet. \\n\"</span>,\n",
       "<span style=\"color: #7fbf7f; text-decoration-color: #7fbf7f\">│   │   </span><span style=\"color: #008000; text-decoration-color: #008000\">'timestamp'</span>: <span style=\"color: #008080; text-decoration-color: #008080; font-weight: bold\">1447547342</span>\n",
       "<span style=\"color: #7fbf7f; text-decoration-color: #7fbf7f\">│   </span><span style=\"font-weight: bold\">}</span>,\n",
       "<span style=\"color: #7fbf7f; text-decoration-color: #7fbf7f\">│   </span><span style=\"color: #008000; text-decoration-color: #008000\">'last_utterance'</span>: <span style=\"font-weight: bold\">{</span>\n",
       "<span style=\"color: #7fbf7f; text-decoration-color: #7fbf7f\">│   │   </span><span style=\"color: #008000; text-decoration-color: #008000\">'id'</span>: <span style=\"color: #008000; text-decoration-color: #008000\">'cx0g93l'</span>,\n",
       "<span style=\"color: #7fbf7f; text-decoration-color: #7fbf7f\">│   │   </span><span style=\"color: #008000; text-decoration-color: #008000\">'userid'</span>: <span style=\"color: #008000; text-decoration-color: #008000\">'cjacobson22'</span>,\n",
       "<span style=\"color: #7fbf7f; text-decoration-color: #7fbf7f\">│   │   </span><span style=\"color: #008000; text-decoration-color: #008000\">'text'</span>: <span style=\"color: #008000; text-decoration-color: #008000\">\"When you tried to go into the mosque, did you tell someone you weren't a Muslim? Were you being rude or attempting to question Islam or the people there?\\n\\nI'm pretty sure that if you went to a mosque and listened instead of talking, they would be more than happy to let you listen to a sermon.\"</span>,\n",
       "<span style=\"color: #7fbf7f; text-decoration-color: #7fbf7f\">│   │   </span><span style=\"color: #008000; text-decoration-color: #008000\">'timestamp'</span>: <span style=\"color: #008080; text-decoration-color: #008080; font-weight: bold\">1447549520</span>\n",
       "<span style=\"color: #7fbf7f; text-decoration-color: #7fbf7f\">│   </span><span style=\"font-weight: bold\">}</span>,\n",
       "<span style=\"color: #7fbf7f; text-decoration-color: #7fbf7f\">│   </span><span style=\"color: #008000; text-decoration-color: #008000\">'split'</span>: <span style=\"color: #008000; text-decoration-color: #008000\">'train'</span>\n",
       "<span style=\"font-weight: bold\">}</span>\n",
       "</pre>\n"
      ],
      "text/plain": [
       "\u001b[1m{\u001b[0m\n",
       "\u001b[2;32m│   \u001b[0m\u001b[32m'statement'\u001b[0m: \u001b[32m\"I don't like Muslims.\"\u001b[0m,\n",
       "\u001b[2;32m│   \u001b[0m\u001b[32m'submission_id'\u001b[0m: \u001b[32m'3stylc'\u001b[0m,\n",
       "\u001b[2;32m│   \u001b[0m\u001b[32m'penultimate_utterance'\u001b[0m: \u001b[1m{\u001b[0m\n",
       "\u001b[2;32m│   │   \u001b[0m\u001b[32m'id'\u001b[0m: \u001b[32m'cx0f4dp'\u001b[0m,\n",
       "\u001b[2;32m│   │   \u001b[0m\u001b[32m'userid'\u001b[0m: \u001b[32m'JulyJohnson'\u001b[0m,\n",
       "\u001b[2;32m│   │   \u001b[0m\u001b[32m'text'\u001b[0m: \u001b[32m\"Anecdotal, but non-muslims are not allowed inside a mosque in my personal experience.   Which proves exactly the point...  am willing to be disproved, but haven't been so far yet. \\n\"\u001b[0m,\n",
       "\u001b[2;32m│   │   \u001b[0m\u001b[32m'timestamp'\u001b[0m: \u001b[1;36m1447547342\u001b[0m\n",
       "\u001b[2;32m│   \u001b[0m\u001b[1m}\u001b[0m,\n",
       "\u001b[2;32m│   \u001b[0m\u001b[32m'last_utterance'\u001b[0m: \u001b[1m{\u001b[0m\n",
       "\u001b[2;32m│   │   \u001b[0m\u001b[32m'id'\u001b[0m: \u001b[32m'cx0g93l'\u001b[0m,\n",
       "\u001b[2;32m│   │   \u001b[0m\u001b[32m'userid'\u001b[0m: \u001b[32m'cjacobson22'\u001b[0m,\n",
       "\u001b[2;32m│   │   \u001b[0m\u001b[32m'text'\u001b[0m: \u001b[32m\"When you tried to go into the mosque, did you tell someone you weren't a Muslim? Were you being rude or attempting to question Islam or the people there?\\n\\nI'm pretty sure that if you went to a mosque and listened instead of talking, they would be more than happy to let you listen to a sermon.\"\u001b[0m,\n",
       "\u001b[2;32m│   │   \u001b[0m\u001b[32m'timestamp'\u001b[0m: \u001b[1;36m1447549520\u001b[0m\n",
       "\u001b[2;32m│   \u001b[0m\u001b[1m}\u001b[0m,\n",
       "\u001b[2;32m│   \u001b[0m\u001b[32m'split'\u001b[0m: \u001b[32m'train'\u001b[0m\n",
       "\u001b[1m}\u001b[0m\n"
      ]
     },
     "metadata": {},
     "output_type": "display_data"
    },
    {
     "name": "stdout",
     "output_type": "stream",
     "text": [
      "Sample 33:\n"
     ]
    },
    {
     "data": {
      "text/html": [
       "<pre style=\"white-space:pre;overflow-x:auto;line-height:normal;font-family:Menlo,'DejaVu Sans Mono',consolas,'Courier New',monospace\"><span style=\"font-weight: bold\">{</span>\n",
       "<span style=\"color: #7fbf7f; text-decoration-color: #7fbf7f\">│   </span><span style=\"color: #008000; text-decoration-color: #008000\">'statement'</span>: <span style=\"color: #008000; text-decoration-color: #008000\">'the right or left handed designations for golf baseball, and hockey are backwards. Top hand should determine the dominant hand.'</span>,\n",
       "<span style=\"color: #7fbf7f; text-decoration-color: #7fbf7f\">│   </span><span style=\"color: #008000; text-decoration-color: #008000\">'submission_id'</span>: <span style=\"color: #008000; text-decoration-color: #008000\">'3tc4mc'</span>,\n",
       "<span style=\"color: #7fbf7f; text-decoration-color: #7fbf7f\">│   </span><span style=\"color: #008000; text-decoration-color: #008000\">'penultimate_utterance'</span>: <span style=\"font-weight: bold\">{</span>\n",
       "<span style=\"color: #7fbf7f; text-decoration-color: #7fbf7f\">│   │   </span><span style=\"color: #008000; text-decoration-color: #008000\">'id'</span>: <span style=\"color: #008000; text-decoration-color: #008000\">'cx4z2gk'</span>,\n",
       "<span style=\"color: #7fbf7f; text-decoration-color: #7fbf7f\">│   │   </span><span style=\"color: #008000; text-decoration-color: #008000\">'userid'</span>: <span style=\"color: #008000; text-decoration-color: #008000\">'NeDictu'</span>,\n",
       "<span style=\"color: #7fbf7f; text-decoration-color: #7fbf7f\">│   │   </span><span style=\"color: #008000; text-decoration-color: #008000\">'text'</span>: <span style=\"color: #008000; text-decoration-color: #008000\">'specious means untrue. google it. '</span>,\n",
       "<span style=\"color: #7fbf7f; text-decoration-color: #7fbf7f\">│   │   </span><span style=\"color: #008000; text-decoration-color: #008000\">'timestamp'</span>: <span style=\"color: #008080; text-decoration-color: #008080; font-weight: bold\">1447882133</span>\n",
       "<span style=\"color: #7fbf7f; text-decoration-color: #7fbf7f\">│   </span><span style=\"font-weight: bold\">}</span>,\n",
       "<span style=\"color: #7fbf7f; text-decoration-color: #7fbf7f\">│   </span><span style=\"color: #008000; text-decoration-color: #008000\">'last_utterance'</span>: <span style=\"font-weight: bold\">{</span>\n",
       "<span style=\"color: #7fbf7f; text-decoration-color: #7fbf7f\">│   │   </span><span style=\"color: #008000; text-decoration-color: #008000\">'id'</span>: <span style=\"color: #008000; text-decoration-color: #008000\">'cx4z5dh'</span>,\n",
       "<span style=\"color: #7fbf7f; text-decoration-color: #7fbf7f\">│   │   </span><span style=\"color: #008000; text-decoration-color: #008000\">'userid'</span>: <span style=\"color: #008000; text-decoration-color: #008000\">'MageZero'</span>,\n",
       "<span style=\"color: #7fbf7f; text-decoration-color: #7fbf7f\">│   │   </span><span style=\"color: #008000; text-decoration-color: #008000\">'text'</span>: <span style=\"color: #008000; text-decoration-color: #008000\">\"So you're saying the bat isn't on the right hand side? You're saying the swing doesn't go from right to left?\\n\\nGood luck with your windmill tilting.\"</span>,\n",
       "<span style=\"color: #7fbf7f; text-decoration-color: #7fbf7f\">│   │   </span><span style=\"color: #008000; text-decoration-color: #008000\">'timestamp'</span>: <span style=\"color: #008080; text-decoration-color: #008080; font-weight: bold\">1447882248</span>\n",
       "<span style=\"color: #7fbf7f; text-decoration-color: #7fbf7f\">│   </span><span style=\"font-weight: bold\">}</span>,\n",
       "<span style=\"color: #7fbf7f; text-decoration-color: #7fbf7f\">│   </span><span style=\"color: #008000; text-decoration-color: #008000\">'split'</span>: <span style=\"color: #008000; text-decoration-color: #008000\">'train'</span>\n",
       "<span style=\"font-weight: bold\">}</span>\n",
       "</pre>\n"
      ],
      "text/plain": [
       "\u001b[1m{\u001b[0m\n",
       "\u001b[2;32m│   \u001b[0m\u001b[32m'statement'\u001b[0m: \u001b[32m'the right or left handed designations for golf baseball, and hockey are backwards. Top hand should determine the dominant hand.'\u001b[0m,\n",
       "\u001b[2;32m│   \u001b[0m\u001b[32m'submission_id'\u001b[0m: \u001b[32m'3tc4mc'\u001b[0m,\n",
       "\u001b[2;32m│   \u001b[0m\u001b[32m'penultimate_utterance'\u001b[0m: \u001b[1m{\u001b[0m\n",
       "\u001b[2;32m│   │   \u001b[0m\u001b[32m'id'\u001b[0m: \u001b[32m'cx4z2gk'\u001b[0m,\n",
       "\u001b[2;32m│   │   \u001b[0m\u001b[32m'userid'\u001b[0m: \u001b[32m'NeDictu'\u001b[0m,\n",
       "\u001b[2;32m│   │   \u001b[0m\u001b[32m'text'\u001b[0m: \u001b[32m'specious means untrue. google it. '\u001b[0m,\n",
       "\u001b[2;32m│   │   \u001b[0m\u001b[32m'timestamp'\u001b[0m: \u001b[1;36m1447882133\u001b[0m\n",
       "\u001b[2;32m│   \u001b[0m\u001b[1m}\u001b[0m,\n",
       "\u001b[2;32m│   \u001b[0m\u001b[32m'last_utterance'\u001b[0m: \u001b[1m{\u001b[0m\n",
       "\u001b[2;32m│   │   \u001b[0m\u001b[32m'id'\u001b[0m: \u001b[32m'cx4z5dh'\u001b[0m,\n",
       "\u001b[2;32m│   │   \u001b[0m\u001b[32m'userid'\u001b[0m: \u001b[32m'MageZero'\u001b[0m,\n",
       "\u001b[2;32m│   │   \u001b[0m\u001b[32m'text'\u001b[0m: \u001b[32m\"So you're saying the bat isn't on the right hand side? You're saying the swing doesn't go from right to left?\\n\\nGood luck with your windmill tilting.\"\u001b[0m,\n",
       "\u001b[2;32m│   │   \u001b[0m\u001b[32m'timestamp'\u001b[0m: \u001b[1;36m1447882248\u001b[0m\n",
       "\u001b[2;32m│   \u001b[0m\u001b[1m}\u001b[0m,\n",
       "\u001b[2;32m│   \u001b[0m\u001b[32m'split'\u001b[0m: \u001b[32m'train'\u001b[0m\n",
       "\u001b[1m}\u001b[0m\n"
      ]
     },
     "metadata": {},
     "output_type": "display_data"
    },
    {
     "name": "stdout",
     "output_type": "stream",
     "text": [
      "Sample 34:\n"
     ]
    },
    {
     "data": {
      "text/html": [
       "<pre style=\"white-space:pre;overflow-x:auto;line-height:normal;font-family:Menlo,'DejaVu Sans Mono',consolas,'Courier New',monospace\"><span style=\"font-weight: bold\">{</span>\n",
       "<span style=\"color: #7fbf7f; text-decoration-color: #7fbf7f\">│   </span><span style=\"color: #008000; text-decoration-color: #008000\">'statement'</span>: <span style=\"color: #008000; text-decoration-color: #008000\">'I am tired of seeing feminists being demonized.'</span>,\n",
       "<span style=\"color: #7fbf7f; text-decoration-color: #7fbf7f\">│   </span><span style=\"color: #008000; text-decoration-color: #008000\">'submission_id'</span>: <span style=\"color: #008000; text-decoration-color: #008000\">'3ttasu'</span>,\n",
       "<span style=\"color: #7fbf7f; text-decoration-color: #7fbf7f\">│   </span><span style=\"color: #008000; text-decoration-color: #008000\">'penultimate_utterance'</span>: <span style=\"font-weight: bold\">{</span>\n",
       "<span style=\"color: #7fbf7f; text-decoration-color: #7fbf7f\">│   │   </span><span style=\"color: #008000; text-decoration-color: #008000\">'id'</span>: <span style=\"color: #008000; text-decoration-color: #008000\">'cx95cl0'</span>,\n",
       "<span style=\"color: #7fbf7f; text-decoration-color: #7fbf7f\">│   │   </span><span style=\"color: #008000; text-decoration-color: #008000\">'userid'</span>: <span style=\"color: #008000; text-decoration-color: #008000\">'Chronopolitan'</span>,\n",
       "<span style=\"color: #7fbf7f; text-decoration-color: #7fbf7f\">│   │   </span><span style=\"color: #008000; text-decoration-color: #008000\">'text'</span>: <span style=\"color: #008000; text-decoration-color: #008000\">\"Uh, no. I'm referring to the expectation that professors in college warn students of, say, misogyny and domestic violence in The Great Gatsby and allowing them to opt out of being exposed to things they're uncomfortable with.\"</span>,\n",
       "<span style=\"color: #7fbf7f; text-decoration-color: #7fbf7f\">│   │   </span><span style=\"color: #008000; text-decoration-color: #008000\">'timestamp'</span>: <span style=\"color: #008080; text-decoration-color: #008080; font-weight: bold\">1448213966</span>\n",
       "<span style=\"color: #7fbf7f; text-decoration-color: #7fbf7f\">│   </span><span style=\"font-weight: bold\">}</span>,\n",
       "<span style=\"color: #7fbf7f; text-decoration-color: #7fbf7f\">│   </span><span style=\"color: #008000; text-decoration-color: #008000\">'last_utterance'</span>: <span style=\"font-weight: bold\">{</span>\n",
       "<span style=\"color: #7fbf7f; text-decoration-color: #7fbf7f\">│   │   </span><span style=\"color: #008000; text-decoration-color: #008000\">'id'</span>: <span style=\"color: #008000; text-decoration-color: #008000\">'cx95dyf'</span>,\n",
       "<span style=\"color: #7fbf7f; text-decoration-color: #7fbf7f\">│   │   </span><span style=\"color: #008000; text-decoration-color: #008000\">'userid'</span>: <span style=\"color: #008000; text-decoration-color: #008000\">'Bobmuffins'</span>,\n",
       "<span style=\"color: #7fbf7f; text-decoration-color: #7fbf7f\">│   │   </span><span style=\"color: #008000; text-decoration-color: #008000\">'text'</span>: <span style=\"color: #008000; text-decoration-color: #008000\">\"Yeah. That's the same thing.\"</span>,\n",
       "<span style=\"color: #7fbf7f; text-decoration-color: #7fbf7f\">│   │   </span><span style=\"color: #008000; text-decoration-color: #008000\">'timestamp'</span>: <span style=\"color: #008080; text-decoration-color: #008080; font-weight: bold\">1448214032</span>\n",
       "<span style=\"color: #7fbf7f; text-decoration-color: #7fbf7f\">│   </span><span style=\"font-weight: bold\">}</span>,\n",
       "<span style=\"color: #7fbf7f; text-decoration-color: #7fbf7f\">│   </span><span style=\"color: #008000; text-decoration-color: #008000\">'split'</span>: <span style=\"color: #008000; text-decoration-color: #008000\">'train'</span>\n",
       "<span style=\"font-weight: bold\">}</span>\n",
       "</pre>\n"
      ],
      "text/plain": [
       "\u001b[1m{\u001b[0m\n",
       "\u001b[2;32m│   \u001b[0m\u001b[32m'statement'\u001b[0m: \u001b[32m'I am tired of seeing feminists being demonized.'\u001b[0m,\n",
       "\u001b[2;32m│   \u001b[0m\u001b[32m'submission_id'\u001b[0m: \u001b[32m'3ttasu'\u001b[0m,\n",
       "\u001b[2;32m│   \u001b[0m\u001b[32m'penultimate_utterance'\u001b[0m: \u001b[1m{\u001b[0m\n",
       "\u001b[2;32m│   │   \u001b[0m\u001b[32m'id'\u001b[0m: \u001b[32m'cx95cl0'\u001b[0m,\n",
       "\u001b[2;32m│   │   \u001b[0m\u001b[32m'userid'\u001b[0m: \u001b[32m'Chronopolitan'\u001b[0m,\n",
       "\u001b[2;32m│   │   \u001b[0m\u001b[32m'text'\u001b[0m: \u001b[32m\"Uh, no. I'm referring to the expectation that professors in college warn students of, say, misogyny and domestic violence in The Great Gatsby and allowing them to opt out of being exposed to things they're uncomfortable with.\"\u001b[0m,\n",
       "\u001b[2;32m│   │   \u001b[0m\u001b[32m'timestamp'\u001b[0m: \u001b[1;36m1448213966\u001b[0m\n",
       "\u001b[2;32m│   \u001b[0m\u001b[1m}\u001b[0m,\n",
       "\u001b[2;32m│   \u001b[0m\u001b[32m'last_utterance'\u001b[0m: \u001b[1m{\u001b[0m\n",
       "\u001b[2;32m│   │   \u001b[0m\u001b[32m'id'\u001b[0m: \u001b[32m'cx95dyf'\u001b[0m,\n",
       "\u001b[2;32m│   │   \u001b[0m\u001b[32m'userid'\u001b[0m: \u001b[32m'Bobmuffins'\u001b[0m,\n",
       "\u001b[2;32m│   │   \u001b[0m\u001b[32m'text'\u001b[0m: \u001b[32m\"Yeah. That's the same thing.\"\u001b[0m,\n",
       "\u001b[2;32m│   │   \u001b[0m\u001b[32m'timestamp'\u001b[0m: \u001b[1;36m1448214032\u001b[0m\n",
       "\u001b[2;32m│   \u001b[0m\u001b[1m}\u001b[0m,\n",
       "\u001b[2;32m│   \u001b[0m\u001b[32m'split'\u001b[0m: \u001b[32m'train'\u001b[0m\n",
       "\u001b[1m}\u001b[0m\n"
      ]
     },
     "metadata": {},
     "output_type": "display_data"
    },
    {
     "name": "stdout",
     "output_type": "stream",
     "text": [
      "Sample 35:\n"
     ]
    },
    {
     "data": {
      "text/html": [
       "<pre style=\"white-space:pre;overflow-x:auto;line-height:normal;font-family:Menlo,'DejaVu Sans Mono',consolas,'Courier New',monospace\"><span style=\"font-weight: bold\">{</span>\n",
       "<span style=\"color: #7fbf7f; text-decoration-color: #7fbf7f\">│   </span><span style=\"color: #008000; text-decoration-color: #008000\">'statement'</span>: <span style=\"color: #008000; text-decoration-color: #008000\">'The black lives matter movement is incredibly misguided and wrong. Blacks kill blacks at disproportionate rates and whites are killed by other races at higher rates than virtually any other race.'</span>,\n",
       "<span style=\"color: #7fbf7f; text-decoration-color: #7fbf7f\">│   </span><span style=\"color: #008000; text-decoration-color: #008000\">'submission_id'</span>: <span style=\"color: #008000; text-decoration-color: #008000\">'3u7my8'</span>,\n",
       "<span style=\"color: #7fbf7f; text-decoration-color: #7fbf7f\">│   </span><span style=\"color: #008000; text-decoration-color: #008000\">'penultimate_utterance'</span>: <span style=\"font-weight: bold\">{</span>\n",
       "<span style=\"color: #7fbf7f; text-decoration-color: #7fbf7f\">│   │   </span><span style=\"color: #008000; text-decoration-color: #008000\">'id'</span>: <span style=\"color: #008000; text-decoration-color: #008000\">'cxd2c7m'</span>,\n",
       "<span style=\"color: #7fbf7f; text-decoration-color: #7fbf7f\">│   │   </span><span style=\"color: #008000; text-decoration-color: #008000\">'userid'</span>: <span style=\"color: #008000; text-decoration-color: #008000\">'filthyridh'</span>,\n",
       "<span style=\"color: #7fbf7f; text-decoration-color: #7fbf7f\">│   │   </span><span style=\"color: #008000; text-decoration-color: #008000\">'text'</span>: <span style=\"color: #008000; text-decoration-color: #008000\">'Most people are not killed by cancer, do you find cancer research misguided?'</span>,\n",
       "<span style=\"color: #7fbf7f; text-decoration-color: #7fbf7f\">│   │   </span><span style=\"color: #008000; text-decoration-color: #008000\">'timestamp'</span>: <span style=\"color: #008080; text-decoration-color: #008080; font-weight: bold\">1448488770</span>\n",
       "<span style=\"color: #7fbf7f; text-decoration-color: #7fbf7f\">│   </span><span style=\"font-weight: bold\">}</span>,\n",
       "<span style=\"color: #7fbf7f; text-decoration-color: #7fbf7f\">│   </span><span style=\"color: #008000; text-decoration-color: #008000\">'last_utterance'</span>: <span style=\"font-weight: bold\">{</span>\n",
       "<span style=\"color: #7fbf7f; text-decoration-color: #7fbf7f\">│   │   </span><span style=\"color: #008000; text-decoration-color: #008000\">'id'</span>: <span style=\"color: #008000; text-decoration-color: #008000\">'cxd35vx'</span>,\n",
       "<span style=\"color: #7fbf7f; text-decoration-color: #7fbf7f\">│   │   </span><span style=\"color: #008000; text-decoration-color: #008000\">'userid'</span>: <span style=\"color: #008000; text-decoration-color: #008000\">'Tappen_Zee'</span>,\n",
       "<span style=\"color: #7fbf7f; text-decoration-color: #7fbf7f\">│   │   </span><span style=\"color: #008000; text-decoration-color: #008000\">'text'</span>: <span style=\"color: #008000; text-decoration-color: #008000\">'If the cancer research group was called \"swine flu matters\" then yes. Because they\\'re not focusing on the real issues they should be focusing on.'</span>,\n",
       "<span style=\"color: #7fbf7f; text-decoration-color: #7fbf7f\">│   │   </span><span style=\"color: #008000; text-decoration-color: #008000\">'timestamp'</span>: <span style=\"color: #008080; text-decoration-color: #008080; font-weight: bold\">1448490162</span>\n",
       "<span style=\"color: #7fbf7f; text-decoration-color: #7fbf7f\">│   </span><span style=\"font-weight: bold\">}</span>,\n",
       "<span style=\"color: #7fbf7f; text-decoration-color: #7fbf7f\">│   </span><span style=\"color: #008000; text-decoration-color: #008000\">'split'</span>: <span style=\"color: #008000; text-decoration-color: #008000\">'train'</span>\n",
       "<span style=\"font-weight: bold\">}</span>\n",
       "</pre>\n"
      ],
      "text/plain": [
       "\u001b[1m{\u001b[0m\n",
       "\u001b[2;32m│   \u001b[0m\u001b[32m'statement'\u001b[0m: \u001b[32m'The black lives matter movement is incredibly misguided and wrong. Blacks kill blacks at disproportionate rates and whites are killed by other races at higher rates than virtually any other race.'\u001b[0m,\n",
       "\u001b[2;32m│   \u001b[0m\u001b[32m'submission_id'\u001b[0m: \u001b[32m'3u7my8'\u001b[0m,\n",
       "\u001b[2;32m│   \u001b[0m\u001b[32m'penultimate_utterance'\u001b[0m: \u001b[1m{\u001b[0m\n",
       "\u001b[2;32m│   │   \u001b[0m\u001b[32m'id'\u001b[0m: \u001b[32m'cxd2c7m'\u001b[0m,\n",
       "\u001b[2;32m│   │   \u001b[0m\u001b[32m'userid'\u001b[0m: \u001b[32m'filthyridh'\u001b[0m,\n",
       "\u001b[2;32m│   │   \u001b[0m\u001b[32m'text'\u001b[0m: \u001b[32m'Most people are not killed by cancer, do you find cancer research misguided?'\u001b[0m,\n",
       "\u001b[2;32m│   │   \u001b[0m\u001b[32m'timestamp'\u001b[0m: \u001b[1;36m1448488770\u001b[0m\n",
       "\u001b[2;32m│   \u001b[0m\u001b[1m}\u001b[0m,\n",
       "\u001b[2;32m│   \u001b[0m\u001b[32m'last_utterance'\u001b[0m: \u001b[1m{\u001b[0m\n",
       "\u001b[2;32m│   │   \u001b[0m\u001b[32m'id'\u001b[0m: \u001b[32m'cxd35vx'\u001b[0m,\n",
       "\u001b[2;32m│   │   \u001b[0m\u001b[32m'userid'\u001b[0m: \u001b[32m'Tappen_Zee'\u001b[0m,\n",
       "\u001b[2;32m│   │   \u001b[0m\u001b[32m'text'\u001b[0m: \u001b[32m'If the cancer research group was called \"swine flu matters\" then yes. Because they\\'re not focusing on the real issues they should be focusing on.'\u001b[0m,\n",
       "\u001b[2;32m│   │   \u001b[0m\u001b[32m'timestamp'\u001b[0m: \u001b[1;36m1448490162\u001b[0m\n",
       "\u001b[2;32m│   \u001b[0m\u001b[1m}\u001b[0m,\n",
       "\u001b[2;32m│   \u001b[0m\u001b[32m'split'\u001b[0m: \u001b[32m'train'\u001b[0m\n",
       "\u001b[1m}\u001b[0m\n"
      ]
     },
     "metadata": {},
     "output_type": "display_data"
    },
    {
     "name": "stdout",
     "output_type": "stream",
     "text": [
      "Sample 36:\n"
     ]
    },
    {
     "data": {
      "text/html": [
       "<pre style=\"white-space:pre;overflow-x:auto;line-height:normal;font-family:Menlo,'DejaVu Sans Mono',consolas,'Courier New',monospace\"><span style=\"font-weight: bold\">{</span>\n",
       "<span style=\"color: #7fbf7f; text-decoration-color: #7fbf7f\">│   </span><span style=\"color: #008000; text-decoration-color: #008000\">'statement'</span>: <span style=\"color: #008000; text-decoration-color: #008000\">\"There's nothing wrong with polygamy\"</span>,\n",
       "<span style=\"color: #7fbf7f; text-decoration-color: #7fbf7f\">│   </span><span style=\"color: #008000; text-decoration-color: #008000\">'submission_id'</span>: <span style=\"color: #008000; text-decoration-color: #008000\">'3urg7m'</span>,\n",
       "<span style=\"color: #7fbf7f; text-decoration-color: #7fbf7f\">│   </span><span style=\"color: #008000; text-decoration-color: #008000\">'penultimate_utterance'</span>: <span style=\"font-weight: bold\">{</span>\n",
       "<span style=\"color: #7fbf7f; text-decoration-color: #7fbf7f\">│   │   </span><span style=\"color: #008000; text-decoration-color: #008000\">'id'</span>: <span style=\"color: #008000; text-decoration-color: #008000\">'cxhre8z'</span>,\n",
       "<span style=\"color: #7fbf7f; text-decoration-color: #7fbf7f\">│   │   </span><span style=\"color: #008000; text-decoration-color: #008000\">'userid'</span>: <span style=\"color: #008000; text-decoration-color: #008000\">'Grumpi83'</span>,\n",
       "<span style=\"color: #7fbf7f; text-decoration-color: #7fbf7f\">│   │   </span><span style=\"color: #008000; text-decoration-color: #008000\">'text'</span>: <span style=\"color: #008000; text-decoration-color: #008000\">'Again with the \"abuse\". There is nothing to abuse. Mind your own damn business and they will mind theirs. No one has any business getting involved other than the people getting married. '</span>,\n",
       "<span style=\"color: #7fbf7f; text-decoration-color: #7fbf7f\">│   │   </span><span style=\"color: #008000; text-decoration-color: #008000\">'timestamp'</span>: <span style=\"color: #008080; text-decoration-color: #008080; font-weight: bold\">1448874858</span>\n",
       "<span style=\"color: #7fbf7f; text-decoration-color: #7fbf7f\">│   </span><span style=\"font-weight: bold\">}</span>,\n",
       "<span style=\"color: #7fbf7f; text-decoration-color: #7fbf7f\">│   </span><span style=\"color: #008000; text-decoration-color: #008000\">'last_utterance'</span>: <span style=\"font-weight: bold\">{</span>\n",
       "<span style=\"color: #7fbf7f; text-decoration-color: #7fbf7f\">│   │   </span><span style=\"color: #008000; text-decoration-color: #008000\">'id'</span>: <span style=\"color: #008000; text-decoration-color: #008000\">'cxhuve4'</span>,\n",
       "<span style=\"color: #7fbf7f; text-decoration-color: #7fbf7f\">│   │   </span><span style=\"color: #008000; text-decoration-color: #008000\">'userid'</span>: <span style=\"color: #008000; text-decoration-color: #008000\">'LaoTzusGymShoes'</span>,\n",
       "<span style=\"color: #7fbf7f; text-decoration-color: #7fbf7f\">│   │   </span><span style=\"color: #008000; text-decoration-color: #008000\">'text'</span>: <span style=\"color: #008000; text-decoration-color: #008000\">'So someone should be allowed to marry, say, a baby?  \\n\\nI take it you\\'re just going \"MUH RELATIVISM\", right?'</span>,\n",
       "<span style=\"color: #7fbf7f; text-decoration-color: #7fbf7f\">│   │   </span><span style=\"color: #008000; text-decoration-color: #008000\">'timestamp'</span>: <span style=\"color: #008080; text-decoration-color: #008080; font-weight: bold\">1448889205</span>\n",
       "<span style=\"color: #7fbf7f; text-decoration-color: #7fbf7f\">│   </span><span style=\"font-weight: bold\">}</span>,\n",
       "<span style=\"color: #7fbf7f; text-decoration-color: #7fbf7f\">│   </span><span style=\"color: #008000; text-decoration-color: #008000\">'split'</span>: <span style=\"color: #008000; text-decoration-color: #008000\">'train'</span>\n",
       "<span style=\"font-weight: bold\">}</span>\n",
       "</pre>\n"
      ],
      "text/plain": [
       "\u001b[1m{\u001b[0m\n",
       "\u001b[2;32m│   \u001b[0m\u001b[32m'statement'\u001b[0m: \u001b[32m\"There's nothing wrong with polygamy\"\u001b[0m,\n",
       "\u001b[2;32m│   \u001b[0m\u001b[32m'submission_id'\u001b[0m: \u001b[32m'3urg7m'\u001b[0m,\n",
       "\u001b[2;32m│   \u001b[0m\u001b[32m'penultimate_utterance'\u001b[0m: \u001b[1m{\u001b[0m\n",
       "\u001b[2;32m│   │   \u001b[0m\u001b[32m'id'\u001b[0m: \u001b[32m'cxhre8z'\u001b[0m,\n",
       "\u001b[2;32m│   │   \u001b[0m\u001b[32m'userid'\u001b[0m: \u001b[32m'Grumpi83'\u001b[0m,\n",
       "\u001b[2;32m│   │   \u001b[0m\u001b[32m'text'\u001b[0m: \u001b[32m'Again with the \"abuse\". There is nothing to abuse. Mind your own damn business and they will mind theirs. No one has any business getting involved other than the people getting married. '\u001b[0m,\n",
       "\u001b[2;32m│   │   \u001b[0m\u001b[32m'timestamp'\u001b[0m: \u001b[1;36m1448874858\u001b[0m\n",
       "\u001b[2;32m│   \u001b[0m\u001b[1m}\u001b[0m,\n",
       "\u001b[2;32m│   \u001b[0m\u001b[32m'last_utterance'\u001b[0m: \u001b[1m{\u001b[0m\n",
       "\u001b[2;32m│   │   \u001b[0m\u001b[32m'id'\u001b[0m: \u001b[32m'cxhuve4'\u001b[0m,\n",
       "\u001b[2;32m│   │   \u001b[0m\u001b[32m'userid'\u001b[0m: \u001b[32m'LaoTzusGymShoes'\u001b[0m,\n",
       "\u001b[2;32m│   │   \u001b[0m\u001b[32m'text'\u001b[0m: \u001b[32m'So someone should be allowed to marry, say, a baby?  \\n\\nI take it you\\'re just going \"MUH RELATIVISM\", right?'\u001b[0m,\n",
       "\u001b[2;32m│   │   \u001b[0m\u001b[32m'timestamp'\u001b[0m: \u001b[1;36m1448889205\u001b[0m\n",
       "\u001b[2;32m│   \u001b[0m\u001b[1m}\u001b[0m,\n",
       "\u001b[2;32m│   \u001b[0m\u001b[32m'split'\u001b[0m: \u001b[32m'train'\u001b[0m\n",
       "\u001b[1m}\u001b[0m\n"
      ]
     },
     "metadata": {},
     "output_type": "display_data"
    },
    {
     "name": "stdout",
     "output_type": "stream",
     "text": [
      "Sample 37:\n"
     ]
    },
    {
     "data": {
      "text/html": [
       "<pre style=\"white-space:pre;overflow-x:auto;line-height:normal;font-family:Menlo,'DejaVu Sans Mono',consolas,'Courier New',monospace\"><span style=\"font-weight: bold\">{</span>\n",
       "<span style=\"color: #7fbf7f; text-decoration-color: #7fbf7f\">│   </span><span style=\"color: #008000; text-decoration-color: #008000\">'statement'</span>: <span style=\"color: #008000; text-decoration-color: #008000\">'There is no Political Correctness \"oppression\" going on.'</span>,\n",
       "<span style=\"color: #7fbf7f; text-decoration-color: #7fbf7f\">│   </span><span style=\"color: #008000; text-decoration-color: #008000\">'submission_id'</span>: <span style=\"color: #008000; text-decoration-color: #008000\">'3v3i2y'</span>,\n",
       "<span style=\"color: #7fbf7f; text-decoration-color: #7fbf7f\">│   </span><span style=\"color: #008000; text-decoration-color: #008000\">'penultimate_utterance'</span>: <span style=\"font-weight: bold\">{</span>\n",
       "<span style=\"color: #7fbf7f; text-decoration-color: #7fbf7f\">│   │   </span><span style=\"color: #008000; text-decoration-color: #008000\">'id'</span>: <span style=\"color: #008000; text-decoration-color: #008000\">'cxl2zxu'</span>,\n",
       "<span style=\"color: #7fbf7f; text-decoration-color: #7fbf7f\">│   │   </span><span style=\"color: #008000; text-decoration-color: #008000\">'userid'</span>: <span style=\"color: #008000; text-decoration-color: #008000\">'Nightstick11'</span>,\n",
       "<span style=\"color: #7fbf7f; text-decoration-color: #7fbf7f\">│   │   </span><span style=\"color: #008000; text-decoration-color: #008000\">'text'</span>: <span style=\"color: #008000; text-decoration-color: #008000\">\"Except that he wasn't. It's just shrieking imps decided he made a perceived slight towards them or something. \"</span>,\n",
       "<span style=\"color: #7fbf7f; text-decoration-color: #7fbf7f\">│   │   </span><span style=\"color: #008000; text-decoration-color: #008000\">'timestamp'</span>: <span style=\"color: #008080; text-decoration-color: #008080; font-weight: bold\">1449103514</span>\n",
       "<span style=\"color: #7fbf7f; text-decoration-color: #7fbf7f\">│   </span><span style=\"font-weight: bold\">}</span>,\n",
       "<span style=\"color: #7fbf7f; text-decoration-color: #7fbf7f\">│   </span><span style=\"color: #008000; text-decoration-color: #008000\">'last_utterance'</span>: <span style=\"font-weight: bold\">{</span>\n",
       "<span style=\"color: #7fbf7f; text-decoration-color: #7fbf7f\">│   │   </span><span style=\"color: #008000; text-decoration-color: #008000\">'id'</span>: <span style=\"color: #008000; text-decoration-color: #008000\">'cxl30yt'</span>,\n",
       "<span style=\"color: #7fbf7f; text-decoration-color: #7fbf7f\">│   │   </span><span style=\"color: #008000; text-decoration-color: #008000\">'userid'</span>: <span style=\"color: #008000; text-decoration-color: #008000\">'Akujuba'</span>,\n",
       "<span style=\"color: #7fbf7f; text-decoration-color: #7fbf7f\">│   │   </span><span style=\"color: #008000; text-decoration-color: #008000\">'text'</span>: <span style=\"color: #008000; text-decoration-color: #008000\">'How do you know? Are you on the faculty that asked him to step down? '</span>,\n",
       "<span style=\"color: #7fbf7f; text-decoration-color: #7fbf7f\">│   │   </span><span style=\"color: #008000; text-decoration-color: #008000\">'timestamp'</span>: <span style=\"color: #008080; text-decoration-color: #008080; font-weight: bold\">1449103560</span>\n",
       "<span style=\"color: #7fbf7f; text-decoration-color: #7fbf7f\">│   </span><span style=\"font-weight: bold\">}</span>,\n",
       "<span style=\"color: #7fbf7f; text-decoration-color: #7fbf7f\">│   </span><span style=\"color: #008000; text-decoration-color: #008000\">'split'</span>: <span style=\"color: #008000; text-decoration-color: #008000\">'train'</span>\n",
       "<span style=\"font-weight: bold\">}</span>\n",
       "</pre>\n"
      ],
      "text/plain": [
       "\u001b[1m{\u001b[0m\n",
       "\u001b[2;32m│   \u001b[0m\u001b[32m'statement'\u001b[0m: \u001b[32m'There is no Political Correctness \"oppression\" going on.'\u001b[0m,\n",
       "\u001b[2;32m│   \u001b[0m\u001b[32m'submission_id'\u001b[0m: \u001b[32m'3v3i2y'\u001b[0m,\n",
       "\u001b[2;32m│   \u001b[0m\u001b[32m'penultimate_utterance'\u001b[0m: \u001b[1m{\u001b[0m\n",
       "\u001b[2;32m│   │   \u001b[0m\u001b[32m'id'\u001b[0m: \u001b[32m'cxl2zxu'\u001b[0m,\n",
       "\u001b[2;32m│   │   \u001b[0m\u001b[32m'userid'\u001b[0m: \u001b[32m'Nightstick11'\u001b[0m,\n",
       "\u001b[2;32m│   │   \u001b[0m\u001b[32m'text'\u001b[0m: \u001b[32m\"Except that he wasn't. It's just shrieking imps decided he made a perceived slight towards them or something. \"\u001b[0m,\n",
       "\u001b[2;32m│   │   \u001b[0m\u001b[32m'timestamp'\u001b[0m: \u001b[1;36m1449103514\u001b[0m\n",
       "\u001b[2;32m│   \u001b[0m\u001b[1m}\u001b[0m,\n",
       "\u001b[2;32m│   \u001b[0m\u001b[32m'last_utterance'\u001b[0m: \u001b[1m{\u001b[0m\n",
       "\u001b[2;32m│   │   \u001b[0m\u001b[32m'id'\u001b[0m: \u001b[32m'cxl30yt'\u001b[0m,\n",
       "\u001b[2;32m│   │   \u001b[0m\u001b[32m'userid'\u001b[0m: \u001b[32m'Akujuba'\u001b[0m,\n",
       "\u001b[2;32m│   │   \u001b[0m\u001b[32m'text'\u001b[0m: \u001b[32m'How do you know? Are you on the faculty that asked him to step down? '\u001b[0m,\n",
       "\u001b[2;32m│   │   \u001b[0m\u001b[32m'timestamp'\u001b[0m: \u001b[1;36m1449103560\u001b[0m\n",
       "\u001b[2;32m│   \u001b[0m\u001b[1m}\u001b[0m,\n",
       "\u001b[2;32m│   \u001b[0m\u001b[32m'split'\u001b[0m: \u001b[32m'train'\u001b[0m\n",
       "\u001b[1m}\u001b[0m\n"
      ]
     },
     "metadata": {},
     "output_type": "display_data"
    },
    {
     "name": "stdout",
     "output_type": "stream",
     "text": [
      "Sample 38:\n"
     ]
    },
    {
     "data": {
      "text/html": [
       "<pre style=\"white-space:pre;overflow-x:auto;line-height:normal;font-family:Menlo,'DejaVu Sans Mono',consolas,'Courier New',monospace\"><span style=\"font-weight: bold\">{</span>\n",
       "<span style=\"color: #7fbf7f; text-decoration-color: #7fbf7f\">│   </span><span style=\"color: #008000; text-decoration-color: #008000\">'statement'</span>: <span style=\"color: #008000; text-decoration-color: #008000\">\"If Christianity was the historical primary religion of the Middle East, we'd be dealing with a bunch of radical Christians right now instead of radical Muslims.\"</span>,\n",
       "<span style=\"color: #7fbf7f; text-decoration-color: #7fbf7f\">│   </span><span style=\"color: #008000; text-decoration-color: #008000\">'submission_id'</span>: <span style=\"color: #008000; text-decoration-color: #008000\">'3voegj'</span>,\n",
       "<span style=\"color: #7fbf7f; text-decoration-color: #7fbf7f\">│   </span><span style=\"color: #008000; text-decoration-color: #008000\">'penultimate_utterance'</span>: <span style=\"font-weight: bold\">{</span>\n",
       "<span style=\"color: #7fbf7f; text-decoration-color: #7fbf7f\">│   │   </span><span style=\"color: #008000; text-decoration-color: #008000\">'id'</span>: <span style=\"color: #008000; text-decoration-color: #008000\">'cxpug64'</span>,\n",
       "<span style=\"color: #7fbf7f; text-decoration-color: #7fbf7f\">│   │   </span><span style=\"color: #008000; text-decoration-color: #008000\">'userid'</span>: <span style=\"color: #008000; text-decoration-color: #008000\">'TheGDBatman'</span>,\n",
       "<span style=\"color: #7fbf7f; text-decoration-color: #7fbf7f\">│   │   </span><span style=\"color: #008000; text-decoration-color: #008000\">'text'</span>: <span style=\"color: #008000; text-decoration-color: #008000\">\"And yet, to hear these Islam apologists, you'd think it was in the twentieth century and not, say, four centuries earlier.\"</span>,\n",
       "<span style=\"color: #7fbf7f; text-decoration-color: #7fbf7f\">│   │   </span><span style=\"color: #008000; text-decoration-color: #008000\">'timestamp'</span>: <span style=\"color: #008080; text-decoration-color: #008080; font-weight: bold\">1449456698</span>\n",
       "<span style=\"color: #7fbf7f; text-decoration-color: #7fbf7f\">│   </span><span style=\"font-weight: bold\">}</span>,\n",
       "<span style=\"color: #7fbf7f; text-decoration-color: #7fbf7f\">│   </span><span style=\"color: #008000; text-decoration-color: #008000\">'last_utterance'</span>: <span style=\"font-weight: bold\">{</span>\n",
       "<span style=\"color: #7fbf7f; text-decoration-color: #7fbf7f\">│   │   </span><span style=\"color: #008000; text-decoration-color: #008000\">'id'</span>: <span style=\"color: #008000; text-decoration-color: #008000\">'cxq7y0b'</span>,\n",
       "<span style=\"color: #7fbf7f; text-decoration-color: #7fbf7f\">│   │   </span><span style=\"color: #008000; text-decoration-color: #008000\">'userid'</span>: <span style=\"color: #008000; text-decoration-color: #008000\">'bayernownz1995'</span>,\n",
       "<span style=\"color: #7fbf7f; text-decoration-color: #7fbf7f\">│   │   </span><span style=\"color: #008000; text-decoration-color: #008000\">'text'</span>: <span style=\"color: #008000; text-decoration-color: #008000\">'How exactly does that change the point? Regardless of when it happened, that fact is that religious leaders resort to calls to violence under certain pressures despite whether or not the religion explicitly forbids it. Plus, religious motivations of the KKK, Tamil Tigers, IRA, etc. are all relatively recent (or ongoing) examples of this.'</span>,\n",
       "<span style=\"color: #7fbf7f; text-decoration-color: #7fbf7f\">│   │   </span><span style=\"color: #008000; text-decoration-color: #008000\">'timestamp'</span>: <span style=\"color: #008080; text-decoration-color: #008080; font-weight: bold\">1449495351</span>\n",
       "<span style=\"color: #7fbf7f; text-decoration-color: #7fbf7f\">│   </span><span style=\"font-weight: bold\">}</span>,\n",
       "<span style=\"color: #7fbf7f; text-decoration-color: #7fbf7f\">│   </span><span style=\"color: #008000; text-decoration-color: #008000\">'split'</span>: <span style=\"color: #008000; text-decoration-color: #008000\">'train'</span>\n",
       "<span style=\"font-weight: bold\">}</span>\n",
       "</pre>\n"
      ],
      "text/plain": [
       "\u001b[1m{\u001b[0m\n",
       "\u001b[2;32m│   \u001b[0m\u001b[32m'statement'\u001b[0m: \u001b[32m\"If Christianity was the historical primary religion of the Middle East, we'd be dealing with a bunch of radical Christians right now instead of radical Muslims.\"\u001b[0m,\n",
       "\u001b[2;32m│   \u001b[0m\u001b[32m'submission_id'\u001b[0m: \u001b[32m'3voegj'\u001b[0m,\n",
       "\u001b[2;32m│   \u001b[0m\u001b[32m'penultimate_utterance'\u001b[0m: \u001b[1m{\u001b[0m\n",
       "\u001b[2;32m│   │   \u001b[0m\u001b[32m'id'\u001b[0m: \u001b[32m'cxpug64'\u001b[0m,\n",
       "\u001b[2;32m│   │   \u001b[0m\u001b[32m'userid'\u001b[0m: \u001b[32m'TheGDBatman'\u001b[0m,\n",
       "\u001b[2;32m│   │   \u001b[0m\u001b[32m'text'\u001b[0m: \u001b[32m\"And yet, to hear these Islam apologists, you'd think it was in the twentieth century and not, say, four centuries earlier.\"\u001b[0m,\n",
       "\u001b[2;32m│   │   \u001b[0m\u001b[32m'timestamp'\u001b[0m: \u001b[1;36m1449456698\u001b[0m\n",
       "\u001b[2;32m│   \u001b[0m\u001b[1m}\u001b[0m,\n",
       "\u001b[2;32m│   \u001b[0m\u001b[32m'last_utterance'\u001b[0m: \u001b[1m{\u001b[0m\n",
       "\u001b[2;32m│   │   \u001b[0m\u001b[32m'id'\u001b[0m: \u001b[32m'cxq7y0b'\u001b[0m,\n",
       "\u001b[2;32m│   │   \u001b[0m\u001b[32m'userid'\u001b[0m: \u001b[32m'bayernownz1995'\u001b[0m,\n",
       "\u001b[2;32m│   │   \u001b[0m\u001b[32m'text'\u001b[0m: \u001b[32m'How exactly does that change the point? Regardless of when it happened, that fact is that religious leaders resort to calls to violence under certain pressures despite whether or not the religion explicitly forbids it. Plus, religious motivations of the KKK, Tamil Tigers, IRA, etc. are all relatively recent \u001b[0m\u001b[32m(\u001b[0m\u001b[32mor ongoing\u001b[0m\u001b[32m)\u001b[0m\u001b[32m examples of this.'\u001b[0m,\n",
       "\u001b[2;32m│   │   \u001b[0m\u001b[32m'timestamp'\u001b[0m: \u001b[1;36m1449495351\u001b[0m\n",
       "\u001b[2;32m│   \u001b[0m\u001b[1m}\u001b[0m,\n",
       "\u001b[2;32m│   \u001b[0m\u001b[32m'split'\u001b[0m: \u001b[32m'train'\u001b[0m\n",
       "\u001b[1m}\u001b[0m\n"
      ]
     },
     "metadata": {},
     "output_type": "display_data"
    },
    {
     "name": "stdout",
     "output_type": "stream",
     "text": [
      "Sample 39:\n"
     ]
    },
    {
     "data": {
      "text/html": [
       "<pre style=\"white-space:pre;overflow-x:auto;line-height:normal;font-family:Menlo,'DejaVu Sans Mono',consolas,'Courier New',monospace\"><span style=\"font-weight: bold\">{</span>\n",
       "<span style=\"color: #7fbf7f; text-decoration-color: #7fbf7f\">│   </span><span style=\"color: #008000; text-decoration-color: #008000\">'statement'</span>: <span style=\"color: #008000; text-decoration-color: #008000\">\"I don't find Trump's statement about banning Muslim travel to the US offensive\"</span>,\n",
       "<span style=\"color: #7fbf7f; text-decoration-color: #7fbf7f\">│   </span><span style=\"color: #008000; text-decoration-color: #008000\">'submission_id'</span>: <span style=\"color: #008000; text-decoration-color: #008000\">'3w0gej'</span>,\n",
       "<span style=\"color: #7fbf7f; text-decoration-color: #7fbf7f\">│   </span><span style=\"color: #008000; text-decoration-color: #008000\">'penultimate_utterance'</span>: <span style=\"font-weight: bold\">{</span>\n",
       "<span style=\"color: #7fbf7f; text-decoration-color: #7fbf7f\">│   │   </span><span style=\"color: #008000; text-decoration-color: #008000\">'id'</span>: <span style=\"color: #008000; text-decoration-color: #008000\">'cxtk3q8'</span>,\n",
       "<span style=\"color: #7fbf7f; text-decoration-color: #7fbf7f\">│   │   </span><span style=\"color: #008000; text-decoration-color: #008000\">'userid'</span>: <span style=\"color: #008000; text-decoration-color: #008000\">'daniwoodwardama'</span>,\n",
       "<span style=\"color: #7fbf7f; text-decoration-color: #7fbf7f\">│   │   </span><span style=\"color: #008000; text-decoration-color: #008000\">'text'</span>: <span style=\"color: #008000; text-decoration-color: #008000\">\"They are refugees because they want handouts that aren't in there country. \"</span>,\n",
       "<span style=\"color: #7fbf7f; text-decoration-color: #7fbf7f\">│   │   </span><span style=\"color: #008000; text-decoration-color: #008000\">'timestamp'</span>: <span style=\"color: #008080; text-decoration-color: #008080; font-weight: bold\">1449710188</span>\n",
       "<span style=\"color: #7fbf7f; text-decoration-color: #7fbf7f\">│   </span><span style=\"font-weight: bold\">}</span>,\n",
       "<span style=\"color: #7fbf7f; text-decoration-color: #7fbf7f\">│   </span><span style=\"color: #008000; text-decoration-color: #008000\">'last_utterance'</span>: <span style=\"font-weight: bold\">{</span>\n",
       "<span style=\"color: #7fbf7f; text-decoration-color: #7fbf7f\">│   │   </span><span style=\"color: #008000; text-decoration-color: #008000\">'id'</span>: <span style=\"color: #008000; text-decoration-color: #008000\">'cxtq8yf'</span>,\n",
       "<span style=\"color: #7fbf7f; text-decoration-color: #7fbf7f\">│   │   </span><span style=\"color: #008000; text-decoration-color: #008000\">'userid'</span>: <span style=\"color: #008000; text-decoration-color: #008000\">'z3r0shade'</span>,\n",
       "<span style=\"color: #7fbf7f; text-decoration-color: #7fbf7f\">│   │   </span><span style=\"color: #008000; text-decoration-color: #008000\">'text'</span>: <span style=\"color: #008000; text-decoration-color: #008000\">'They are refugees because they are being **killed** in *their* country'</span>,\n",
       "<span style=\"color: #7fbf7f; text-decoration-color: #7fbf7f\">│   │   </span><span style=\"color: #008000; text-decoration-color: #008000\">'timestamp'</span>: <span style=\"color: #008080; text-decoration-color: #008080; font-weight: bold\">1449720485</span>\n",
       "<span style=\"color: #7fbf7f; text-decoration-color: #7fbf7f\">│   </span><span style=\"font-weight: bold\">}</span>,\n",
       "<span style=\"color: #7fbf7f; text-decoration-color: #7fbf7f\">│   </span><span style=\"color: #008000; text-decoration-color: #008000\">'split'</span>: <span style=\"color: #008000; text-decoration-color: #008000\">'train'</span>\n",
       "<span style=\"font-weight: bold\">}</span>\n",
       "</pre>\n"
      ],
      "text/plain": [
       "\u001b[1m{\u001b[0m\n",
       "\u001b[2;32m│   \u001b[0m\u001b[32m'statement'\u001b[0m: \u001b[32m\"I don't find Trump's statement about banning Muslim travel to the US offensive\"\u001b[0m,\n",
       "\u001b[2;32m│   \u001b[0m\u001b[32m'submission_id'\u001b[0m: \u001b[32m'3w0gej'\u001b[0m,\n",
       "\u001b[2;32m│   \u001b[0m\u001b[32m'penultimate_utterance'\u001b[0m: \u001b[1m{\u001b[0m\n",
       "\u001b[2;32m│   │   \u001b[0m\u001b[32m'id'\u001b[0m: \u001b[32m'cxtk3q8'\u001b[0m,\n",
       "\u001b[2;32m│   │   \u001b[0m\u001b[32m'userid'\u001b[0m: \u001b[32m'daniwoodwardama'\u001b[0m,\n",
       "\u001b[2;32m│   │   \u001b[0m\u001b[32m'text'\u001b[0m: \u001b[32m\"They are refugees because they want handouts that aren't in there country. \"\u001b[0m,\n",
       "\u001b[2;32m│   │   \u001b[0m\u001b[32m'timestamp'\u001b[0m: \u001b[1;36m1449710188\u001b[0m\n",
       "\u001b[2;32m│   \u001b[0m\u001b[1m}\u001b[0m,\n",
       "\u001b[2;32m│   \u001b[0m\u001b[32m'last_utterance'\u001b[0m: \u001b[1m{\u001b[0m\n",
       "\u001b[2;32m│   │   \u001b[0m\u001b[32m'id'\u001b[0m: \u001b[32m'cxtq8yf'\u001b[0m,\n",
       "\u001b[2;32m│   │   \u001b[0m\u001b[32m'userid'\u001b[0m: \u001b[32m'z3r0shade'\u001b[0m,\n",
       "\u001b[2;32m│   │   \u001b[0m\u001b[32m'text'\u001b[0m: \u001b[32m'They are refugees because they are being **killed** in *their* country'\u001b[0m,\n",
       "\u001b[2;32m│   │   \u001b[0m\u001b[32m'timestamp'\u001b[0m: \u001b[1;36m1449720485\u001b[0m\n",
       "\u001b[2;32m│   \u001b[0m\u001b[1m}\u001b[0m,\n",
       "\u001b[2;32m│   \u001b[0m\u001b[32m'split'\u001b[0m: \u001b[32m'train'\u001b[0m\n",
       "\u001b[1m}\u001b[0m\n"
      ]
     },
     "metadata": {},
     "output_type": "display_data"
    },
    {
     "name": "stdout",
     "output_type": "stream",
     "text": [
      "Sample 40:\n"
     ]
    },
    {
     "data": {
      "text/html": [
       "<pre style=\"white-space:pre;overflow-x:auto;line-height:normal;font-family:Menlo,'DejaVu Sans Mono',consolas,'Courier New',monospace\"><span style=\"font-weight: bold\">{</span>\n",
       "<span style=\"color: #7fbf7f; text-decoration-color: #7fbf7f\">│   </span><span style=\"color: #008000; text-decoration-color: #008000\">'statement'</span>: <span style=\"color: #008000; text-decoration-color: #008000\">'Race-based affirmative action in college admissions is completely unfair'</span>,\n",
       "<span style=\"color: #7fbf7f; text-decoration-color: #7fbf7f\">│   </span><span style=\"color: #008000; text-decoration-color: #008000\">'submission_id'</span>: <span style=\"color: #008000; text-decoration-color: #008000\">'3wln4u'</span>,\n",
       "<span style=\"color: #7fbf7f; text-decoration-color: #7fbf7f\">│   </span><span style=\"color: #008000; text-decoration-color: #008000\">'penultimate_utterance'</span>: <span style=\"font-weight: bold\">{</span>\n",
       "<span style=\"color: #7fbf7f; text-decoration-color: #7fbf7f\">│   │   </span><span style=\"color: #008000; text-decoration-color: #008000\">'id'</span>: <span style=\"color: #008000; text-decoration-color: #008000\">'cxx6cgo'</span>,\n",
       "<span style=\"color: #7fbf7f; text-decoration-color: #7fbf7f\">│   │   </span><span style=\"color: #008000; text-decoration-color: #008000\">'userid'</span>: <span style=\"color: #008000; text-decoration-color: #008000\">'kepold'</span>,\n",
       "<span style=\"color: #7fbf7f; text-decoration-color: #7fbf7f\">│   │   </span><span style=\"color: #008000; text-decoration-color: #008000\">'text'</span>: <span style=\"color: #008000; text-decoration-color: #008000\">'they do indirectly, for example, the school knows about scholarship requests and loan applications and such.'</span>,\n",
       "<span style=\"color: #7fbf7f; text-decoration-color: #7fbf7f\">│   │   </span><span style=\"color: #008000; text-decoration-color: #008000\">'timestamp'</span>: <span style=\"color: #008080; text-decoration-color: #008080; font-weight: bold\">1449980804</span>\n",
       "<span style=\"color: #7fbf7f; text-decoration-color: #7fbf7f\">│   </span><span style=\"font-weight: bold\">}</span>,\n",
       "<span style=\"color: #7fbf7f; text-decoration-color: #7fbf7f\">│   </span><span style=\"color: #008000; text-decoration-color: #008000\">'last_utterance'</span>: <span style=\"font-weight: bold\">{</span>\n",
       "<span style=\"color: #7fbf7f; text-decoration-color: #7fbf7f\">│   │   </span><span style=\"color: #008000; text-decoration-color: #008000\">'id'</span>: <span style=\"color: #008000; text-decoration-color: #008000\">'cxx6mho'</span>,\n",
       "<span style=\"color: #7fbf7f; text-decoration-color: #7fbf7f\">│   │   </span><span style=\"color: #008000; text-decoration-color: #008000\">'userid'</span>: <span style=\"color: #008000; text-decoration-color: #008000\">'twinshk2'</span>,\n",
       "<span style=\"color: #7fbf7f; text-decoration-color: #7fbf7f\">│   │   </span><span style=\"color: #008000; text-decoration-color: #008000\">'text'</span>: <span style=\"color: #008000; text-decoration-color: #008000\">'Then what about white household wealth? '</span>,\n",
       "<span style=\"color: #7fbf7f; text-decoration-color: #7fbf7f\">│   │   </span><span style=\"color: #008000; text-decoration-color: #008000\">'timestamp'</span>: <span style=\"color: #008080; text-decoration-color: #008080; font-weight: bold\">1449981400</span>\n",
       "<span style=\"color: #7fbf7f; text-decoration-color: #7fbf7f\">│   </span><span style=\"font-weight: bold\">}</span>,\n",
       "<span style=\"color: #7fbf7f; text-decoration-color: #7fbf7f\">│   </span><span style=\"color: #008000; text-decoration-color: #008000\">'split'</span>: <span style=\"color: #008000; text-decoration-color: #008000\">'train'</span>\n",
       "<span style=\"font-weight: bold\">}</span>\n",
       "</pre>\n"
      ],
      "text/plain": [
       "\u001b[1m{\u001b[0m\n",
       "\u001b[2;32m│   \u001b[0m\u001b[32m'statement'\u001b[0m: \u001b[32m'Race-based affirmative action in college admissions is completely unfair'\u001b[0m,\n",
       "\u001b[2;32m│   \u001b[0m\u001b[32m'submission_id'\u001b[0m: \u001b[32m'3wln4u'\u001b[0m,\n",
       "\u001b[2;32m│   \u001b[0m\u001b[32m'penultimate_utterance'\u001b[0m: \u001b[1m{\u001b[0m\n",
       "\u001b[2;32m│   │   \u001b[0m\u001b[32m'id'\u001b[0m: \u001b[32m'cxx6cgo'\u001b[0m,\n",
       "\u001b[2;32m│   │   \u001b[0m\u001b[32m'userid'\u001b[0m: \u001b[32m'kepold'\u001b[0m,\n",
       "\u001b[2;32m│   │   \u001b[0m\u001b[32m'text'\u001b[0m: \u001b[32m'they do indirectly, for example, the school knows about scholarship requests and loan applications and such.'\u001b[0m,\n",
       "\u001b[2;32m│   │   \u001b[0m\u001b[32m'timestamp'\u001b[0m: \u001b[1;36m1449980804\u001b[0m\n",
       "\u001b[2;32m│   \u001b[0m\u001b[1m}\u001b[0m,\n",
       "\u001b[2;32m│   \u001b[0m\u001b[32m'last_utterance'\u001b[0m: \u001b[1m{\u001b[0m\n",
       "\u001b[2;32m│   │   \u001b[0m\u001b[32m'id'\u001b[0m: \u001b[32m'cxx6mho'\u001b[0m,\n",
       "\u001b[2;32m│   │   \u001b[0m\u001b[32m'userid'\u001b[0m: \u001b[32m'twinshk2'\u001b[0m,\n",
       "\u001b[2;32m│   │   \u001b[0m\u001b[32m'text'\u001b[0m: \u001b[32m'Then what about white household wealth? '\u001b[0m,\n",
       "\u001b[2;32m│   │   \u001b[0m\u001b[32m'timestamp'\u001b[0m: \u001b[1;36m1449981400\u001b[0m\n",
       "\u001b[2;32m│   \u001b[0m\u001b[1m}\u001b[0m,\n",
       "\u001b[2;32m│   \u001b[0m\u001b[32m'split'\u001b[0m: \u001b[32m'train'\u001b[0m\n",
       "\u001b[1m}\u001b[0m\n"
      ]
     },
     "metadata": {},
     "output_type": "display_data"
    },
    {
     "name": "stdout",
     "output_type": "stream",
     "text": [
      "Sample 41:\n"
     ]
    },
    {
     "data": {
      "text/html": [
       "<pre style=\"white-space:pre;overflow-x:auto;line-height:normal;font-family:Menlo,'DejaVu Sans Mono',consolas,'Courier New',monospace\"><span style=\"font-weight: bold\">{</span>\n",
       "<span style=\"color: #7fbf7f; text-decoration-color: #7fbf7f\">│   </span><span style=\"color: #008000; text-decoration-color: #008000\">'statement'</span>: <span style=\"color: #008000; text-decoration-color: #008000\">\"I don't want more Muslims in the United States\"</span>,\n",
       "<span style=\"color: #7fbf7f; text-decoration-color: #7fbf7f\">│   </span><span style=\"color: #008000; text-decoration-color: #008000\">'submission_id'</span>: <span style=\"color: #008000; text-decoration-color: #008000\">'3x45bg'</span>,\n",
       "<span style=\"color: #7fbf7f; text-decoration-color: #7fbf7f\">│   </span><span style=\"color: #008000; text-decoration-color: #008000\">'penultimate_utterance'</span>: <span style=\"font-weight: bold\">{</span>\n",
       "<span style=\"color: #7fbf7f; text-decoration-color: #7fbf7f\">│   │   </span><span style=\"color: #008000; text-decoration-color: #008000\">'id'</span>: <span style=\"color: #008000; text-decoration-color: #008000\">'cy1fzgw'</span>,\n",
       "<span style=\"color: #7fbf7f; text-decoration-color: #7fbf7f\">│   │   </span><span style=\"color: #008000; text-decoration-color: #008000\">'userid'</span>: <span style=\"color: #008000; text-decoration-color: #008000\">'212000'</span>,\n",
       "<span style=\"color: #7fbf7f; text-decoration-color: #7fbf7f\">│   │   </span><span style=\"color: #008000; text-decoration-color: #008000\">'text'</span>: <span style=\"color: #008000; text-decoration-color: #008000\">'Does it compute murders per capita?  '</span>,\n",
       "<span style=\"color: #7fbf7f; text-decoration-color: #7fbf7f\">│   │   </span><span style=\"color: #008000; text-decoration-color: #008000\">'timestamp'</span>: <span style=\"color: #008080; text-decoration-color: #008080; font-weight: bold\">1450299822</span>\n",
       "<span style=\"color: #7fbf7f; text-decoration-color: #7fbf7f\">│   </span><span style=\"font-weight: bold\">}</span>,\n",
       "<span style=\"color: #7fbf7f; text-decoration-color: #7fbf7f\">│   </span><span style=\"color: #008000; text-decoration-color: #008000\">'last_utterance'</span>: <span style=\"font-weight: bold\">{</span>\n",
       "<span style=\"color: #7fbf7f; text-decoration-color: #7fbf7f\">│   │   </span><span style=\"color: #008000; text-decoration-color: #008000\">'id'</span>: <span style=\"color: #008000; text-decoration-color: #008000\">'cy1hiz0'</span>,\n",
       "<span style=\"color: #7fbf7f; text-decoration-color: #7fbf7f\">│   │   </span><span style=\"color: #008000; text-decoration-color: #008000\">'userid'</span>: <span style=\"color: #008000; text-decoration-color: #008000\">'geak78'</span>,\n",
       "<span style=\"color: #7fbf7f; text-decoration-color: #7fbf7f\">│   │   </span><span style=\"color: #008000; text-decoration-color: #008000\">'text'</span>: <span style=\"color: #008000; text-decoration-color: #008000\">'Those are murders across the US so the population is equal.'</span>,\n",
       "<span style=\"color: #7fbf7f; text-decoration-color: #7fbf7f\">│   │   </span><span style=\"color: #008000; text-decoration-color: #008000\">'timestamp'</span>: <span style=\"color: #008080; text-decoration-color: #008080; font-weight: bold\">1450301932</span>\n",
       "<span style=\"color: #7fbf7f; text-decoration-color: #7fbf7f\">│   </span><span style=\"font-weight: bold\">}</span>,\n",
       "<span style=\"color: #7fbf7f; text-decoration-color: #7fbf7f\">│   </span><span style=\"color: #008000; text-decoration-color: #008000\">'split'</span>: <span style=\"color: #008000; text-decoration-color: #008000\">'train'</span>\n",
       "<span style=\"font-weight: bold\">}</span>\n",
       "</pre>\n"
      ],
      "text/plain": [
       "\u001b[1m{\u001b[0m\n",
       "\u001b[2;32m│   \u001b[0m\u001b[32m'statement'\u001b[0m: \u001b[32m\"I don't want more Muslims in the United States\"\u001b[0m,\n",
       "\u001b[2;32m│   \u001b[0m\u001b[32m'submission_id'\u001b[0m: \u001b[32m'3x45bg'\u001b[0m,\n",
       "\u001b[2;32m│   \u001b[0m\u001b[32m'penultimate_utterance'\u001b[0m: \u001b[1m{\u001b[0m\n",
       "\u001b[2;32m│   │   \u001b[0m\u001b[32m'id'\u001b[0m: \u001b[32m'cy1fzgw'\u001b[0m,\n",
       "\u001b[2;32m│   │   \u001b[0m\u001b[32m'userid'\u001b[0m: \u001b[32m'212000'\u001b[0m,\n",
       "\u001b[2;32m│   │   \u001b[0m\u001b[32m'text'\u001b[0m: \u001b[32m'Does it compute murders per capita?  '\u001b[0m,\n",
       "\u001b[2;32m│   │   \u001b[0m\u001b[32m'timestamp'\u001b[0m: \u001b[1;36m1450299822\u001b[0m\n",
       "\u001b[2;32m│   \u001b[0m\u001b[1m}\u001b[0m,\n",
       "\u001b[2;32m│   \u001b[0m\u001b[32m'last_utterance'\u001b[0m: \u001b[1m{\u001b[0m\n",
       "\u001b[2;32m│   │   \u001b[0m\u001b[32m'id'\u001b[0m: \u001b[32m'cy1hiz0'\u001b[0m,\n",
       "\u001b[2;32m│   │   \u001b[0m\u001b[32m'userid'\u001b[0m: \u001b[32m'geak78'\u001b[0m,\n",
       "\u001b[2;32m│   │   \u001b[0m\u001b[32m'text'\u001b[0m: \u001b[32m'Those are murders across the US so the population is equal.'\u001b[0m,\n",
       "\u001b[2;32m│   │   \u001b[0m\u001b[32m'timestamp'\u001b[0m: \u001b[1;36m1450301932\u001b[0m\n",
       "\u001b[2;32m│   \u001b[0m\u001b[1m}\u001b[0m,\n",
       "\u001b[2;32m│   \u001b[0m\u001b[32m'split'\u001b[0m: \u001b[32m'train'\u001b[0m\n",
       "\u001b[1m}\u001b[0m\n"
      ]
     },
     "metadata": {},
     "output_type": "display_data"
    },
    {
     "name": "stdout",
     "output_type": "stream",
     "text": [
      "Sample 42:\n"
     ]
    },
    {
     "data": {
      "text/html": [
       "<pre style=\"white-space:pre;overflow-x:auto;line-height:normal;font-family:Menlo,'DejaVu Sans Mono',consolas,'Courier New',monospace\"><span style=\"font-weight: bold\">{</span>\n",
       "<span style=\"color: #7fbf7f; text-decoration-color: #7fbf7f\">│   </span><span style=\"color: #008000; text-decoration-color: #008000\">'statement'</span>: <span style=\"color: #008000; text-decoration-color: #008000\">'I think the need for diversity is stupid.'</span>,\n",
       "<span style=\"color: #7fbf7f; text-decoration-color: #7fbf7f\">│   </span><span style=\"color: #008000; text-decoration-color: #008000\">'submission_id'</span>: <span style=\"color: #008000; text-decoration-color: #008000\">'3xaddy'</span>,\n",
       "<span style=\"color: #7fbf7f; text-decoration-color: #7fbf7f\">│   </span><span style=\"color: #008000; text-decoration-color: #008000\">'penultimate_utterance'</span>: <span style=\"font-weight: bold\">{</span>\n",
       "<span style=\"color: #7fbf7f; text-decoration-color: #7fbf7f\">│   │   </span><span style=\"color: #008000; text-decoration-color: #008000\">'id'</span>: <span style=\"color: #008000; text-decoration-color: #008000\">'cy2z7ah'</span>,\n",
       "<span style=\"color: #7fbf7f; text-decoration-color: #7fbf7f\">│   │   </span><span style=\"color: #008000; text-decoration-color: #008000\">'userid'</span>: <span style=\"color: #008000; text-decoration-color: #008000\">'pasta_tony'</span>,\n",
       "<span style=\"color: #7fbf7f; text-decoration-color: #7fbf7f\">│   │   </span><span style=\"color: #008000; text-decoration-color: #008000\">'text'</span>: <span style=\"color: #008000; text-decoration-color: #008000\">\"In every study ever run, a diversity of perspectives leads to better ideas. A business composed of one demographic is only going to be able to come-up with one perspective and a very limited set of ideas.\\n\\nThat isn't why we have affirmative action anyway, so you're way out of your league, Donnie.\"</span>,\n",
       "<span style=\"color: #7fbf7f; text-decoration-color: #7fbf7f\">│   │   </span><span style=\"color: #008000; text-decoration-color: #008000\">'timestamp'</span>: <span style=\"color: #008080; text-decoration-color: #008080; font-weight: bold\">1450406589</span>\n",
       "<span style=\"color: #7fbf7f; text-decoration-color: #7fbf7f\">│   </span><span style=\"font-weight: bold\">}</span>,\n",
       "<span style=\"color: #7fbf7f; text-decoration-color: #7fbf7f\">│   </span><span style=\"color: #008000; text-decoration-color: #008000\">'last_utterance'</span>: <span style=\"font-weight: bold\">{</span>\n",
       "<span style=\"color: #7fbf7f; text-decoration-color: #7fbf7f\">│   │   </span><span style=\"color: #008000; text-decoration-color: #008000\">'id'</span>: <span style=\"color: #008000; text-decoration-color: #008000\">'cy36tgf'</span>,\n",
       "<span style=\"color: #7fbf7f; text-decoration-color: #7fbf7f\">│   │   </span><span style=\"color: #008000; text-decoration-color: #008000\">'userid'</span>: <span style=\"color: #008000; text-decoration-color: #008000\">'MartinShkreliFanClub'</span>,\n",
       "<span style=\"color: #7fbf7f; text-decoration-color: #7fbf7f\">│   │   </span><span style=\"color: #008000; text-decoration-color: #008000\">'text'</span>: <span style=\"color: #008000; text-decoration-color: #008000\">'Care to link any of these studies?'</span>,\n",
       "<span style=\"color: #7fbf7f; text-decoration-color: #7fbf7f\">│   │   </span><span style=\"color: #008000; text-decoration-color: #008000\">'timestamp'</span>: <span style=\"color: #008080; text-decoration-color: #008080; font-weight: bold\">1450423672</span>\n",
       "<span style=\"color: #7fbf7f; text-decoration-color: #7fbf7f\">│   </span><span style=\"font-weight: bold\">}</span>,\n",
       "<span style=\"color: #7fbf7f; text-decoration-color: #7fbf7f\">│   </span><span style=\"color: #008000; text-decoration-color: #008000\">'split'</span>: <span style=\"color: #008000; text-decoration-color: #008000\">'train'</span>\n",
       "<span style=\"font-weight: bold\">}</span>\n",
       "</pre>\n"
      ],
      "text/plain": [
       "\u001b[1m{\u001b[0m\n",
       "\u001b[2;32m│   \u001b[0m\u001b[32m'statement'\u001b[0m: \u001b[32m'I think the need for diversity is stupid.'\u001b[0m,\n",
       "\u001b[2;32m│   \u001b[0m\u001b[32m'submission_id'\u001b[0m: \u001b[32m'3xaddy'\u001b[0m,\n",
       "\u001b[2;32m│   \u001b[0m\u001b[32m'penultimate_utterance'\u001b[0m: \u001b[1m{\u001b[0m\n",
       "\u001b[2;32m│   │   \u001b[0m\u001b[32m'id'\u001b[0m: \u001b[32m'cy2z7ah'\u001b[0m,\n",
       "\u001b[2;32m│   │   \u001b[0m\u001b[32m'userid'\u001b[0m: \u001b[32m'pasta_tony'\u001b[0m,\n",
       "\u001b[2;32m│   │   \u001b[0m\u001b[32m'text'\u001b[0m: \u001b[32m\"In every study ever run, a diversity of perspectives leads to better ideas. A business composed of one demographic is only going to be able to come-up with one perspective and a very limited set of ideas.\\n\\nThat isn't why we have affirmative action anyway, so you're way out of your league, Donnie.\"\u001b[0m,\n",
       "\u001b[2;32m│   │   \u001b[0m\u001b[32m'timestamp'\u001b[0m: \u001b[1;36m1450406589\u001b[0m\n",
       "\u001b[2;32m│   \u001b[0m\u001b[1m}\u001b[0m,\n",
       "\u001b[2;32m│   \u001b[0m\u001b[32m'last_utterance'\u001b[0m: \u001b[1m{\u001b[0m\n",
       "\u001b[2;32m│   │   \u001b[0m\u001b[32m'id'\u001b[0m: \u001b[32m'cy36tgf'\u001b[0m,\n",
       "\u001b[2;32m│   │   \u001b[0m\u001b[32m'userid'\u001b[0m: \u001b[32m'MartinShkreliFanClub'\u001b[0m,\n",
       "\u001b[2;32m│   │   \u001b[0m\u001b[32m'text'\u001b[0m: \u001b[32m'Care to link any of these studies?'\u001b[0m,\n",
       "\u001b[2;32m│   │   \u001b[0m\u001b[32m'timestamp'\u001b[0m: \u001b[1;36m1450423672\u001b[0m\n",
       "\u001b[2;32m│   \u001b[0m\u001b[1m}\u001b[0m,\n",
       "\u001b[2;32m│   \u001b[0m\u001b[32m'split'\u001b[0m: \u001b[32m'train'\u001b[0m\n",
       "\u001b[1m}\u001b[0m\n"
      ]
     },
     "metadata": {},
     "output_type": "display_data"
    },
    {
     "name": "stdout",
     "output_type": "stream",
     "text": [
      "Sample 43:\n"
     ]
    },
    {
     "data": {
      "text/html": [
       "<pre style=\"white-space:pre;overflow-x:auto;line-height:normal;font-family:Menlo,'DejaVu Sans Mono',consolas,'Courier New',monospace\"><span style=\"font-weight: bold\">{</span>\n",
       "<span style=\"color: #7fbf7f; text-decoration-color: #7fbf7f\">│   </span><span style=\"color: #008000; text-decoration-color: #008000\">'statement'</span>: <span style=\"color: #008000; text-decoration-color: #008000\">'I think the need for diversity is stupid.'</span>,\n",
       "<span style=\"color: #7fbf7f; text-decoration-color: #7fbf7f\">│   </span><span style=\"color: #008000; text-decoration-color: #008000\">'submission_id'</span>: <span style=\"color: #008000; text-decoration-color: #008000\">'3xaddy'</span>,\n",
       "<span style=\"color: #7fbf7f; text-decoration-color: #7fbf7f\">│   </span><span style=\"color: #008000; text-decoration-color: #008000\">'penultimate_utterance'</span>: <span style=\"font-weight: bold\">{</span>\n",
       "<span style=\"color: #7fbf7f; text-decoration-color: #7fbf7f\">│   │   </span><span style=\"color: #008000; text-decoration-color: #008000\">'id'</span>: <span style=\"color: #008000; text-decoration-color: #008000\">'cyc4pv6'</span>,\n",
       "<span style=\"color: #7fbf7f; text-decoration-color: #7fbf7f\">│   │   </span><span style=\"color: #008000; text-decoration-color: #008000\">'userid'</span>: <span style=\"color: #008000; text-decoration-color: #008000\">'thelordpresident'</span>,\n",
       "<span style=\"color: #7fbf7f; text-decoration-color: #7fbf7f\">│   │   </span><span style=\"color: #008000; text-decoration-color: #008000\">'text'</span>: <span style=\"color: #008000; text-decoration-color: #008000\">\"I want you to read this thread back and tell me what you think you're arguing, and then what this thread is about. \"</span>,\n",
       "<span style=\"color: #7fbf7f; text-decoration-color: #7fbf7f\">│   │   </span><span style=\"color: #008000; text-decoration-color: #008000\">'timestamp'</span>: <span style=\"color: #008080; text-decoration-color: #008080; font-weight: bold\">1451167070</span>\n",
       "<span style=\"color: #7fbf7f; text-decoration-color: #7fbf7f\">│   </span><span style=\"font-weight: bold\">}</span>,\n",
       "<span style=\"color: #7fbf7f; text-decoration-color: #7fbf7f\">│   </span><span style=\"color: #008000; text-decoration-color: #008000\">'last_utterance'</span>: <span style=\"font-weight: bold\">{</span>\n",
       "<span style=\"color: #7fbf7f; text-decoration-color: #7fbf7f\">│   │   </span><span style=\"color: #008000; text-decoration-color: #008000\">'id'</span>: <span style=\"color: #008000; text-decoration-color: #008000\">'cyc4rpi'</span>,\n",
       "<span style=\"color: #7fbf7f; text-decoration-color: #7fbf7f\">│   │   </span><span style=\"color: #008000; text-decoration-color: #008000\">'userid'</span>: <span style=\"color: #008000; text-decoration-color: #008000\">'JavkCache'</span>,\n",
       "<span style=\"color: #7fbf7f; text-decoration-color: #7fbf7f\">│   │   </span><span style=\"color: #008000; text-decoration-color: #008000\">'text'</span>: <span style=\"color: #008000; text-decoration-color: #008000\">\"I could ask you to do the same, because you don't seem to understand what I've said this entire time.\"</span>,\n",
       "<span style=\"color: #7fbf7f; text-decoration-color: #7fbf7f\">│   │   </span><span style=\"color: #008000; text-decoration-color: #008000\">'timestamp'</span>: <span style=\"color: #008080; text-decoration-color: #008080; font-weight: bold\">1451167175</span>\n",
       "<span style=\"color: #7fbf7f; text-decoration-color: #7fbf7f\">│   </span><span style=\"font-weight: bold\">}</span>,\n",
       "<span style=\"color: #7fbf7f; text-decoration-color: #7fbf7f\">│   </span><span style=\"color: #008000; text-decoration-color: #008000\">'split'</span>: <span style=\"color: #008000; text-decoration-color: #008000\">'train'</span>\n",
       "<span style=\"font-weight: bold\">}</span>\n",
       "</pre>\n"
      ],
      "text/plain": [
       "\u001b[1m{\u001b[0m\n",
       "\u001b[2;32m│   \u001b[0m\u001b[32m'statement'\u001b[0m: \u001b[32m'I think the need for diversity is stupid.'\u001b[0m,\n",
       "\u001b[2;32m│   \u001b[0m\u001b[32m'submission_id'\u001b[0m: \u001b[32m'3xaddy'\u001b[0m,\n",
       "\u001b[2;32m│   \u001b[0m\u001b[32m'penultimate_utterance'\u001b[0m: \u001b[1m{\u001b[0m\n",
       "\u001b[2;32m│   │   \u001b[0m\u001b[32m'id'\u001b[0m: \u001b[32m'cyc4pv6'\u001b[0m,\n",
       "\u001b[2;32m│   │   \u001b[0m\u001b[32m'userid'\u001b[0m: \u001b[32m'thelordpresident'\u001b[0m,\n",
       "\u001b[2;32m│   │   \u001b[0m\u001b[32m'text'\u001b[0m: \u001b[32m\"I want you to read this thread back and tell me what you think you're arguing, and then what this thread is about. \"\u001b[0m,\n",
       "\u001b[2;32m│   │   \u001b[0m\u001b[32m'timestamp'\u001b[0m: \u001b[1;36m1451167070\u001b[0m\n",
       "\u001b[2;32m│   \u001b[0m\u001b[1m}\u001b[0m,\n",
       "\u001b[2;32m│   \u001b[0m\u001b[32m'last_utterance'\u001b[0m: \u001b[1m{\u001b[0m\n",
       "\u001b[2;32m│   │   \u001b[0m\u001b[32m'id'\u001b[0m: \u001b[32m'cyc4rpi'\u001b[0m,\n",
       "\u001b[2;32m│   │   \u001b[0m\u001b[32m'userid'\u001b[0m: \u001b[32m'JavkCache'\u001b[0m,\n",
       "\u001b[2;32m│   │   \u001b[0m\u001b[32m'text'\u001b[0m: \u001b[32m\"I could ask you to do the same, because you don't seem to understand what I've said this entire time.\"\u001b[0m,\n",
       "\u001b[2;32m│   │   \u001b[0m\u001b[32m'timestamp'\u001b[0m: \u001b[1;36m1451167175\u001b[0m\n",
       "\u001b[2;32m│   \u001b[0m\u001b[1m}\u001b[0m,\n",
       "\u001b[2;32m│   \u001b[0m\u001b[32m'split'\u001b[0m: \u001b[32m'train'\u001b[0m\n",
       "\u001b[1m}\u001b[0m\n"
      ]
     },
     "metadata": {},
     "output_type": "display_data"
    },
    {
     "name": "stdout",
     "output_type": "stream",
     "text": [
      "Sample 44:\n"
     ]
    },
    {
     "data": {
      "text/html": [
       "<pre style=\"white-space:pre;overflow-x:auto;line-height:normal;font-family:Menlo,'DejaVu Sans Mono',consolas,'Courier New',monospace\"><span style=\"font-weight: bold\">{</span>\n",
       "<span style=\"color: #7fbf7f; text-decoration-color: #7fbf7f\">│   </span><span style=\"color: #008000; text-decoration-color: #008000\">'statement'</span>: <span style=\"color: #008000; text-decoration-color: #008000\">'Movie makers should stop using the Wilhelm Scream'</span>,\n",
       "<span style=\"color: #7fbf7f; text-decoration-color: #7fbf7f\">│   </span><span style=\"color: #008000; text-decoration-color: #008000\">'submission_id'</span>: <span style=\"color: #008000; text-decoration-color: #008000\">'3xcxlp'</span>,\n",
       "<span style=\"color: #7fbf7f; text-decoration-color: #7fbf7f\">│   </span><span style=\"color: #008000; text-decoration-color: #008000\">'penultimate_utterance'</span>: <span style=\"font-weight: bold\">{</span>\n",
       "<span style=\"color: #7fbf7f; text-decoration-color: #7fbf7f\">│   │   </span><span style=\"color: #008000; text-decoration-color: #008000\">'id'</span>: <span style=\"color: #008000; text-decoration-color: #008000\">'cy42n3y'</span>,\n",
       "<span style=\"color: #7fbf7f; text-decoration-color: #7fbf7f\">│   │   </span><span style=\"color: #008000; text-decoration-color: #008000\">'userid'</span>: <span style=\"color: #008000; text-decoration-color: #008000\">'NuclearStudent'</span>,\n",
       "<span style=\"color: #7fbf7f; text-decoration-color: #7fbf7f\">│   │   </span><span style=\"color: #008000; text-decoration-color: #008000\">'text'</span>: <span style=\"color: #008000; text-decoration-color: #008000\">\"It's about discretion. \\n\\nIn every career ever known to man, people have found ways to get themselves more involved and to play jokes. The pyramids have work-gang graffiti on the hidden sides of blocks, for example. Musicians have fucked with each other and with the audience by sabotaging pieces for hundreds or thousands of years. \"</span>,\n",
       "<span style=\"color: #7fbf7f; text-decoration-color: #7fbf7f\">│   │   </span><span style=\"color: #008000; text-decoration-color: #008000\">'timestamp'</span>: <span style=\"color: #008080; text-decoration-color: #008080; font-weight: bold\">1450489611</span>\n",
       "<span style=\"color: #7fbf7f; text-decoration-color: #7fbf7f\">│   </span><span style=\"font-weight: bold\">}</span>,\n",
       "<span style=\"color: #7fbf7f; text-decoration-color: #7fbf7f\">│   </span><span style=\"color: #008000; text-decoration-color: #008000\">'last_utterance'</span>: <span style=\"font-weight: bold\">{</span>\n",
       "<span style=\"color: #7fbf7f; text-decoration-color: #7fbf7f\">│   │   </span><span style=\"color: #008000; text-decoration-color: #008000\">'id'</span>: <span style=\"color: #008000; text-decoration-color: #008000\">'cy42sw2'</span>,\n",
       "<span style=\"color: #7fbf7f; text-decoration-color: #7fbf7f\">│   │   </span><span style=\"color: #008000; text-decoration-color: #008000\">'userid'</span>: <span style=\"color: #008000; text-decoration-color: #008000\">'uscmissinglink'</span>,\n",
       "<span style=\"color: #7fbf7f; text-decoration-color: #7fbf7f\">│   │   </span><span style=\"color: #008000; text-decoration-color: #008000\">'text'</span>: <span style=\"color: #008000; text-decoration-color: #008000\">\"I understand that. Hell, I *love* that. It's awesome to find artists who paint themselves into scenes or little tributes to the trade.\\n\\nBut the *Wilhelm Scream* is no longer discrete. It's no longer *clever*. And now that it's main stream, for many it's distracting from the work it's (not) hiding in.\"</span>,\n",
       "<span style=\"color: #7fbf7f; text-decoration-color: #7fbf7f\">│   │   </span><span style=\"color: #008000; text-decoration-color: #008000\">'timestamp'</span>: <span style=\"color: #008080; text-decoration-color: #008080; font-weight: bold\">1450489933</span>\n",
       "<span style=\"color: #7fbf7f; text-decoration-color: #7fbf7f\">│   </span><span style=\"font-weight: bold\">}</span>,\n",
       "<span style=\"color: #7fbf7f; text-decoration-color: #7fbf7f\">│   </span><span style=\"color: #008000; text-decoration-color: #008000\">'split'</span>: <span style=\"color: #008000; text-decoration-color: #008000\">'train'</span>\n",
       "<span style=\"font-weight: bold\">}</span>\n",
       "</pre>\n"
      ],
      "text/plain": [
       "\u001b[1m{\u001b[0m\n",
       "\u001b[2;32m│   \u001b[0m\u001b[32m'statement'\u001b[0m: \u001b[32m'Movie makers should stop using the Wilhelm Scream'\u001b[0m,\n",
       "\u001b[2;32m│   \u001b[0m\u001b[32m'submission_id'\u001b[0m: \u001b[32m'3xcxlp'\u001b[0m,\n",
       "\u001b[2;32m│   \u001b[0m\u001b[32m'penultimate_utterance'\u001b[0m: \u001b[1m{\u001b[0m\n",
       "\u001b[2;32m│   │   \u001b[0m\u001b[32m'id'\u001b[0m: \u001b[32m'cy42n3y'\u001b[0m,\n",
       "\u001b[2;32m│   │   \u001b[0m\u001b[32m'userid'\u001b[0m: \u001b[32m'NuclearStudent'\u001b[0m,\n",
       "\u001b[2;32m│   │   \u001b[0m\u001b[32m'text'\u001b[0m: \u001b[32m\"It's about discretion. \\n\\nIn every career ever known to man, people have found ways to get themselves more involved and to play jokes. The pyramids have work-gang graffiti on the hidden sides of blocks, for example. Musicians have fucked with each other and with the audience by sabotaging pieces for hundreds or thousands of years. \"\u001b[0m,\n",
       "\u001b[2;32m│   │   \u001b[0m\u001b[32m'timestamp'\u001b[0m: \u001b[1;36m1450489611\u001b[0m\n",
       "\u001b[2;32m│   \u001b[0m\u001b[1m}\u001b[0m,\n",
       "\u001b[2;32m│   \u001b[0m\u001b[32m'last_utterance'\u001b[0m: \u001b[1m{\u001b[0m\n",
       "\u001b[2;32m│   │   \u001b[0m\u001b[32m'id'\u001b[0m: \u001b[32m'cy42sw2'\u001b[0m,\n",
       "\u001b[2;32m│   │   \u001b[0m\u001b[32m'userid'\u001b[0m: \u001b[32m'uscmissinglink'\u001b[0m,\n",
       "\u001b[2;32m│   │   \u001b[0m\u001b[32m'text'\u001b[0m: \u001b[32m\"I understand that. Hell, I *love* that. It's awesome to find artists who paint themselves into scenes or little tributes to the trade.\\n\\nBut the *Wilhelm Scream* is no longer discrete. It's no longer *clever*. And now that it's main stream, for many it's distracting from the work it's \u001b[0m\u001b[32m(\u001b[0m\u001b[32mnot\u001b[0m\u001b[32m)\u001b[0m\u001b[32m hiding in.\"\u001b[0m,\n",
       "\u001b[2;32m│   │   \u001b[0m\u001b[32m'timestamp'\u001b[0m: \u001b[1;36m1450489933\u001b[0m\n",
       "\u001b[2;32m│   \u001b[0m\u001b[1m}\u001b[0m,\n",
       "\u001b[2;32m│   \u001b[0m\u001b[32m'split'\u001b[0m: \u001b[32m'train'\u001b[0m\n",
       "\u001b[1m}\u001b[0m\n"
      ]
     },
     "metadata": {},
     "output_type": "display_data"
    },
    {
     "name": "stdout",
     "output_type": "stream",
     "text": [
      "Sample 45:\n"
     ]
    },
    {
     "data": {
      "text/html": [
       "<pre style=\"white-space:pre;overflow-x:auto;line-height:normal;font-family:Menlo,'DejaVu Sans Mono',consolas,'Courier New',monospace\"><span style=\"font-weight: bold\">{</span>\n",
       "<span style=\"color: #7fbf7f; text-decoration-color: #7fbf7f\">│   </span><span style=\"color: #008000; text-decoration-color: #008000\">'statement'</span>: <span style=\"color: #008000; text-decoration-color: #008000\">'There is nothing wrong with casting a black actress in a traditionally white role.'</span>,\n",
       "<span style=\"color: #7fbf7f; text-decoration-color: #7fbf7f\">│   </span><span style=\"color: #008000; text-decoration-color: #008000\">'submission_id'</span>: <span style=\"color: #008000; text-decoration-color: #008000\">'3xp8j6'</span>,\n",
       "<span style=\"color: #7fbf7f; text-decoration-color: #7fbf7f\">│   </span><span style=\"color: #008000; text-decoration-color: #008000\">'penultimate_utterance'</span>: <span style=\"font-weight: bold\">{</span>\n",
       "<span style=\"color: #7fbf7f; text-decoration-color: #7fbf7f\">│   │   </span><span style=\"color: #008000; text-decoration-color: #008000\">'id'</span>: <span style=\"color: #008000; text-decoration-color: #008000\">'cy6rzm6'</span>,\n",
       "<span style=\"color: #7fbf7f; text-decoration-color: #7fbf7f\">│   │   </span><span style=\"color: #008000; text-decoration-color: #008000\">'userid'</span>: <span style=\"color: #008000; text-decoration-color: #008000\">'Chimp-Spirit'</span>,\n",
       "<span style=\"color: #7fbf7f; text-decoration-color: #7fbf7f\">│   │   </span><span style=\"color: #008000; text-decoration-color: #008000\">'text'</span>: <span style=\"color: #008000; text-decoration-color: #008000\">'Sounds kinda racist for tumblrers.\\n\\n\"She has buck teeth and frizzy hair - it\\'s only logical that she\\'s black\"'</span>,\n",
       "<span style=\"color: #7fbf7f; text-decoration-color: #7fbf7f\">│   │   </span><span style=\"color: #008000; text-decoration-color: #008000\">'timestamp'</span>: <span style=\"color: #008080; text-decoration-color: #008080; font-weight: bold\">1450719997</span>\n",
       "<span style=\"color: #7fbf7f; text-decoration-color: #7fbf7f\">│   </span><span style=\"font-weight: bold\">}</span>,\n",
       "<span style=\"color: #7fbf7f; text-decoration-color: #7fbf7f\">│   </span><span style=\"color: #008000; text-decoration-color: #008000\">'last_utterance'</span>: <span style=\"font-weight: bold\">{</span>\n",
       "<span style=\"color: #7fbf7f; text-decoration-color: #7fbf7f\">│   │   </span><span style=\"color: #008000; text-decoration-color: #008000\">'id'</span>: <span style=\"color: #008000; text-decoration-color: #008000\">'cy6tdon'</span>,\n",
       "<span style=\"color: #7fbf7f; text-decoration-color: #7fbf7f\">│   │   </span><span style=\"color: #008000; text-decoration-color: #008000\">'userid'</span>: <span style=\"color: #008000; text-decoration-color: #008000\">'WizardofStaz'</span>,\n",
       "<span style=\"color: #7fbf7f; text-decoration-color: #7fbf7f\">│   │   </span><span style=\"color: #008000; text-decoration-color: #008000\">'text'</span>: <span style=\"color: #008000; text-decoration-color: #008000\">\"So admitting that it's possible for a black person to have those traits is racist?\"</span>,\n",
       "<span style=\"color: #7fbf7f; text-decoration-color: #7fbf7f\">│   │   </span><span style=\"color: #008000; text-decoration-color: #008000\">'timestamp'</span>: <span style=\"color: #008080; text-decoration-color: #008080; font-weight: bold\">1450722135</span>\n",
       "<span style=\"color: #7fbf7f; text-decoration-color: #7fbf7f\">│   </span><span style=\"font-weight: bold\">}</span>,\n",
       "<span style=\"color: #7fbf7f; text-decoration-color: #7fbf7f\">│   </span><span style=\"color: #008000; text-decoration-color: #008000\">'split'</span>: <span style=\"color: #008000; text-decoration-color: #008000\">'train'</span>\n",
       "<span style=\"font-weight: bold\">}</span>\n",
       "</pre>\n"
      ],
      "text/plain": [
       "\u001b[1m{\u001b[0m\n",
       "\u001b[2;32m│   \u001b[0m\u001b[32m'statement'\u001b[0m: \u001b[32m'There is nothing wrong with casting a black actress in a traditionally white role.'\u001b[0m,\n",
       "\u001b[2;32m│   \u001b[0m\u001b[32m'submission_id'\u001b[0m: \u001b[32m'3xp8j6'\u001b[0m,\n",
       "\u001b[2;32m│   \u001b[0m\u001b[32m'penultimate_utterance'\u001b[0m: \u001b[1m{\u001b[0m\n",
       "\u001b[2;32m│   │   \u001b[0m\u001b[32m'id'\u001b[0m: \u001b[32m'cy6rzm6'\u001b[0m,\n",
       "\u001b[2;32m│   │   \u001b[0m\u001b[32m'userid'\u001b[0m: \u001b[32m'Chimp-Spirit'\u001b[0m,\n",
       "\u001b[2;32m│   │   \u001b[0m\u001b[32m'text'\u001b[0m: \u001b[32m'Sounds kinda racist for tumblrers.\\n\\n\"She has buck teeth and frizzy hair - it\\'s only logical that she\\'s black\"'\u001b[0m,\n",
       "\u001b[2;32m│   │   \u001b[0m\u001b[32m'timestamp'\u001b[0m: \u001b[1;36m1450719997\u001b[0m\n",
       "\u001b[2;32m│   \u001b[0m\u001b[1m}\u001b[0m,\n",
       "\u001b[2;32m│   \u001b[0m\u001b[32m'last_utterance'\u001b[0m: \u001b[1m{\u001b[0m\n",
       "\u001b[2;32m│   │   \u001b[0m\u001b[32m'id'\u001b[0m: \u001b[32m'cy6tdon'\u001b[0m,\n",
       "\u001b[2;32m│   │   \u001b[0m\u001b[32m'userid'\u001b[0m: \u001b[32m'WizardofStaz'\u001b[0m,\n",
       "\u001b[2;32m│   │   \u001b[0m\u001b[32m'text'\u001b[0m: \u001b[32m\"So admitting that it's possible for a black person to have those traits is racist?\"\u001b[0m,\n",
       "\u001b[2;32m│   │   \u001b[0m\u001b[32m'timestamp'\u001b[0m: \u001b[1;36m1450722135\u001b[0m\n",
       "\u001b[2;32m│   \u001b[0m\u001b[1m}\u001b[0m,\n",
       "\u001b[2;32m│   \u001b[0m\u001b[32m'split'\u001b[0m: \u001b[32m'train'\u001b[0m\n",
       "\u001b[1m}\u001b[0m\n"
      ]
     },
     "metadata": {},
     "output_type": "display_data"
    },
    {
     "name": "stdout",
     "output_type": "stream",
     "text": [
      "Sample 46:\n"
     ]
    },
    {
     "data": {
      "text/html": [
       "<pre style=\"white-space:pre;overflow-x:auto;line-height:normal;font-family:Menlo,'DejaVu Sans Mono',consolas,'Courier New',monospace\"><span style=\"font-weight: bold\">{</span>\n",
       "<span style=\"color: #7fbf7f; text-decoration-color: #7fbf7f\">│   </span><span style=\"color: #008000; text-decoration-color: #008000\">'statement'</span>: <span style=\"color: #008000; text-decoration-color: #008000\">'Working long hard hours is a terrible way to live your life.'</span>,\n",
       "<span style=\"color: #7fbf7f; text-decoration-color: #7fbf7f\">│   </span><span style=\"color: #008000; text-decoration-color: #008000\">'submission_id'</span>: <span style=\"color: #008000; text-decoration-color: #008000\">'3xrut7'</span>,\n",
       "<span style=\"color: #7fbf7f; text-decoration-color: #7fbf7f\">│   </span><span style=\"color: #008000; text-decoration-color: #008000\">'penultimate_utterance'</span>: <span style=\"font-weight: bold\">{</span>\n",
       "<span style=\"color: #7fbf7f; text-decoration-color: #7fbf7f\">│   │   </span><span style=\"color: #008000; text-decoration-color: #008000\">'id'</span>: <span style=\"color: #008000; text-decoration-color: #008000\">'cy7o02t'</span>,\n",
       "<span style=\"color: #7fbf7f; text-decoration-color: #7fbf7f\">│   │   </span><span style=\"color: #008000; text-decoration-color: #008000\">'userid'</span>: <span style=\"color: #008000; text-decoration-color: #008000\">'romandhj'</span>,\n",
       "<span style=\"color: #7fbf7f; text-decoration-color: #7fbf7f\">│   │   </span><span style=\"color: #008000; text-decoration-color: #008000\">'text'</span>: <span style=\"color: #008000; text-decoration-color: #008000\">'Your professor works \"ungodly\" hours for 3 terms. He gets 3 months a year to do literally whatever he wants, plus winter/spring break. Do you really think your professor could do what he does every week 50 weeks a year and not get burnt out? I don\\'t.'</span>,\n",
       "<span style=\"color: #7fbf7f; text-decoration-color: #7fbf7f\">│   │   </span><span style=\"color: #008000; text-decoration-color: #008000\">'timestamp'</span>: <span style=\"color: #008080; text-decoration-color: #008080; font-weight: bold\">1450783735</span>\n",
       "<span style=\"color: #7fbf7f; text-decoration-color: #7fbf7f\">│   </span><span style=\"font-weight: bold\">}</span>,\n",
       "<span style=\"color: #7fbf7f; text-decoration-color: #7fbf7f\">│   </span><span style=\"color: #008000; text-decoration-color: #008000\">'last_utterance'</span>: <span style=\"font-weight: bold\">{</span>\n",
       "<span style=\"color: #7fbf7f; text-decoration-color: #7fbf7f\">│   │   </span><span style=\"color: #008000; text-decoration-color: #008000\">'id'</span>: <span style=\"color: #008000; text-decoration-color: #008000\">'cy7o9kj'</span>,\n",
       "<span style=\"color: #7fbf7f; text-decoration-color: #7fbf7f\">│   │   </span><span style=\"color: #008000; text-decoration-color: #008000\">'userid'</span>: <span style=\"color: #008000; text-decoration-color: #008000\">'AndreasVesalius'</span>,\n",
       "<span style=\"color: #7fbf7f; text-decoration-color: #7fbf7f\">│   │   </span><span style=\"color: #008000; text-decoration-color: #008000\">'text'</span>: <span style=\"color: #008000; text-decoration-color: #008000\">\"If they're in academia, no way. Typically professors will spend ~10-20hrs per week prepping/teaching classes, and the other 30-50 on research (writing grants, papers, admin meetings, etc). In the summer the distribution just shifts toward more research and less didactics. \"</span>,\n",
       "<span style=\"color: #7fbf7f; text-decoration-color: #7fbf7f\">│   │   </span><span style=\"color: #008000; text-decoration-color: #008000\">'timestamp'</span>: <span style=\"color: #008080; text-decoration-color: #008080; font-weight: bold\">1450784813</span>\n",
       "<span style=\"color: #7fbf7f; text-decoration-color: #7fbf7f\">│   </span><span style=\"font-weight: bold\">}</span>,\n",
       "<span style=\"color: #7fbf7f; text-decoration-color: #7fbf7f\">│   </span><span style=\"color: #008000; text-decoration-color: #008000\">'split'</span>: <span style=\"color: #008000; text-decoration-color: #008000\">'train'</span>\n",
       "<span style=\"font-weight: bold\">}</span>\n",
       "</pre>\n"
      ],
      "text/plain": [
       "\u001b[1m{\u001b[0m\n",
       "\u001b[2;32m│   \u001b[0m\u001b[32m'statement'\u001b[0m: \u001b[32m'Working long hard hours is a terrible way to live your life.'\u001b[0m,\n",
       "\u001b[2;32m│   \u001b[0m\u001b[32m'submission_id'\u001b[0m: \u001b[32m'3xrut7'\u001b[0m,\n",
       "\u001b[2;32m│   \u001b[0m\u001b[32m'penultimate_utterance'\u001b[0m: \u001b[1m{\u001b[0m\n",
       "\u001b[2;32m│   │   \u001b[0m\u001b[32m'id'\u001b[0m: \u001b[32m'cy7o02t'\u001b[0m,\n",
       "\u001b[2;32m│   │   \u001b[0m\u001b[32m'userid'\u001b[0m: \u001b[32m'romandhj'\u001b[0m,\n",
       "\u001b[2;32m│   │   \u001b[0m\u001b[32m'text'\u001b[0m: \u001b[32m'Your professor works \"ungodly\" hours for 3 terms. He gets 3 months a year to do literally whatever he wants, plus winter/spring break. Do you really think your professor could do what he does every week 50 weeks a year and not get burnt out? I don\\'t.'\u001b[0m,\n",
       "\u001b[2;32m│   │   \u001b[0m\u001b[32m'timestamp'\u001b[0m: \u001b[1;36m1450783735\u001b[0m\n",
       "\u001b[2;32m│   \u001b[0m\u001b[1m}\u001b[0m,\n",
       "\u001b[2;32m│   \u001b[0m\u001b[32m'last_utterance'\u001b[0m: \u001b[1m{\u001b[0m\n",
       "\u001b[2;32m│   │   \u001b[0m\u001b[32m'id'\u001b[0m: \u001b[32m'cy7o9kj'\u001b[0m,\n",
       "\u001b[2;32m│   │   \u001b[0m\u001b[32m'userid'\u001b[0m: \u001b[32m'AndreasVesalius'\u001b[0m,\n",
       "\u001b[2;32m│   │   \u001b[0m\u001b[32m'text'\u001b[0m: \u001b[32m\"If they're in academia, no way. Typically professors will spend ~10-20hrs per week prepping/teaching classes, and the other 30-50 on research \u001b[0m\u001b[32m(\u001b[0m\u001b[32mwriting grants, papers, admin meetings, etc\u001b[0m\u001b[32m)\u001b[0m\u001b[32m. In the summer the distribution just shifts toward more research and less didactics. \"\u001b[0m,\n",
       "\u001b[2;32m│   │   \u001b[0m\u001b[32m'timestamp'\u001b[0m: \u001b[1;36m1450784813\u001b[0m\n",
       "\u001b[2;32m│   \u001b[0m\u001b[1m}\u001b[0m,\n",
       "\u001b[2;32m│   \u001b[0m\u001b[32m'split'\u001b[0m: \u001b[32m'train'\u001b[0m\n",
       "\u001b[1m}\u001b[0m\n"
      ]
     },
     "metadata": {},
     "output_type": "display_data"
    },
    {
     "name": "stdout",
     "output_type": "stream",
     "text": [
      "Sample 47:\n"
     ]
    },
    {
     "data": {
      "text/html": [
       "<pre style=\"white-space:pre;overflow-x:auto;line-height:normal;font-family:Menlo,'DejaVu Sans Mono',consolas,'Courier New',monospace\"><span style=\"font-weight: bold\">{</span>\n",
       "<span style=\"color: #7fbf7f; text-decoration-color: #7fbf7f\">│   </span><span style=\"color: #008000; text-decoration-color: #008000\">'statement'</span>: <span style=\"color: #008000; text-decoration-color: #008000\">'These statistics on home invasion absolutely dismantle the argument that we need guns for defense in the home'</span>,\n",
       "<span style=\"color: #7fbf7f; text-decoration-color: #7fbf7f\">│   </span><span style=\"color: #008000; text-decoration-color: #008000\">'submission_id'</span>: <span style=\"color: #008000; text-decoration-color: #008000\">'3y35fm'</span>,\n",
       "<span style=\"color: #7fbf7f; text-decoration-color: #7fbf7f\">│   </span><span style=\"color: #008000; text-decoration-color: #008000\">'penultimate_utterance'</span>: <span style=\"font-weight: bold\">{</span>\n",
       "<span style=\"color: #7fbf7f; text-decoration-color: #7fbf7f\">│   │   </span><span style=\"color: #008000; text-decoration-color: #008000\">'id'</span>: <span style=\"color: #008000; text-decoration-color: #008000\">'cyb3cgr'</span>,\n",
       "<span style=\"color: #7fbf7f; text-decoration-color: #7fbf7f\">│   │   </span><span style=\"color: #008000; text-decoration-color: #008000\">'userid'</span>: <span style=\"color: #008000; text-decoration-color: #008000\">'Elethor'</span>,\n",
       "<span style=\"color: #7fbf7f; text-decoration-color: #7fbf7f\">│   │   </span><span style=\"color: #008000; text-decoration-color: #008000\">'text'</span>: <span style=\"color: #008000; text-decoration-color: #008000\">\"1. You're making an assumption that I want to shoot people, which tempts to me make some snide remark about projection, but I'll let it go.\\n\\n2. No it doesn't, or were you thinking that somehow your desires/rights were more important than mine?\"</span>,\n",
       "<span style=\"color: #7fbf7f; text-decoration-color: #7fbf7f\">│   │   </span><span style=\"color: #008000; text-decoration-color: #008000\">'timestamp'</span>: <span style=\"color: #008080; text-decoration-color: #008080; font-weight: bold\">1451066552</span>\n",
       "<span style=\"color: #7fbf7f; text-decoration-color: #7fbf7f\">│   </span><span style=\"font-weight: bold\">}</span>,\n",
       "<span style=\"color: #7fbf7f; text-decoration-color: #7fbf7f\">│   </span><span style=\"color: #008000; text-decoration-color: #008000\">'last_utterance'</span>: <span style=\"font-weight: bold\">{</span>\n",
       "<span style=\"color: #7fbf7f; text-decoration-color: #7fbf7f\">│   │   </span><span style=\"color: #008000; text-decoration-color: #008000\">'id'</span>: <span style=\"color: #008000; text-decoration-color: #008000\">'cybbjm2'</span>,\n",
       "<span style=\"color: #7fbf7f; text-decoration-color: #7fbf7f\">│   │   </span><span style=\"color: #008000; text-decoration-color: #008000\">'userid'</span>: <span style=\"color: #008000; text-decoration-color: #008000\">'ProfessorHeartcraft'</span>,\n",
       "<span style=\"color: #7fbf7f; text-decoration-color: #7fbf7f\">│   │   </span><span style=\"color: #008000; text-decoration-color: #008000\">'text'</span>: <span style=\"color: #008000; text-decoration-color: #008000\">'1. Shooting people is the only possible reason for personal gun ownership.\\n2. That attitude is exactly why you cannot be trusted with a gun.'</span>,\n",
       "<span style=\"color: #7fbf7f; text-decoration-color: #7fbf7f\">│   │   </span><span style=\"color: #008000; text-decoration-color: #008000\">'timestamp'</span>: <span style=\"color: #008080; text-decoration-color: #008080; font-weight: bold\">1451084591</span>\n",
       "<span style=\"color: #7fbf7f; text-decoration-color: #7fbf7f\">│   </span><span style=\"font-weight: bold\">}</span>,\n",
       "<span style=\"color: #7fbf7f; text-decoration-color: #7fbf7f\">│   </span><span style=\"color: #008000; text-decoration-color: #008000\">'split'</span>: <span style=\"color: #008000; text-decoration-color: #008000\">'train'</span>\n",
       "<span style=\"font-weight: bold\">}</span>\n",
       "</pre>\n"
      ],
      "text/plain": [
       "\u001b[1m{\u001b[0m\n",
       "\u001b[2;32m│   \u001b[0m\u001b[32m'statement'\u001b[0m: \u001b[32m'These statistics on home invasion absolutely dismantle the argument that we need guns for defense in the home'\u001b[0m,\n",
       "\u001b[2;32m│   \u001b[0m\u001b[32m'submission_id'\u001b[0m: \u001b[32m'3y35fm'\u001b[0m,\n",
       "\u001b[2;32m│   \u001b[0m\u001b[32m'penultimate_utterance'\u001b[0m: \u001b[1m{\u001b[0m\n",
       "\u001b[2;32m│   │   \u001b[0m\u001b[32m'id'\u001b[0m: \u001b[32m'cyb3cgr'\u001b[0m,\n",
       "\u001b[2;32m│   │   \u001b[0m\u001b[32m'userid'\u001b[0m: \u001b[32m'Elethor'\u001b[0m,\n",
       "\u001b[2;32m│   │   \u001b[0m\u001b[32m'text'\u001b[0m: \u001b[32m\"1. You're making an assumption that I want to shoot people, which tempts to me make some snide remark about projection, but I'll let it go.\\n\\n2. No it doesn't, or were you thinking that somehow your desires/rights were more important than mine?\"\u001b[0m,\n",
       "\u001b[2;32m│   │   \u001b[0m\u001b[32m'timestamp'\u001b[0m: \u001b[1;36m1451066552\u001b[0m\n",
       "\u001b[2;32m│   \u001b[0m\u001b[1m}\u001b[0m,\n",
       "\u001b[2;32m│   \u001b[0m\u001b[32m'last_utterance'\u001b[0m: \u001b[1m{\u001b[0m\n",
       "\u001b[2;32m│   │   \u001b[0m\u001b[32m'id'\u001b[0m: \u001b[32m'cybbjm2'\u001b[0m,\n",
       "\u001b[2;32m│   │   \u001b[0m\u001b[32m'userid'\u001b[0m: \u001b[32m'ProfessorHeartcraft'\u001b[0m,\n",
       "\u001b[2;32m│   │   \u001b[0m\u001b[32m'text'\u001b[0m: \u001b[32m'1. Shooting people is the only possible reason for personal gun ownership.\\n2. That attitude is exactly why you cannot be trusted with a gun.'\u001b[0m,\n",
       "\u001b[2;32m│   │   \u001b[0m\u001b[32m'timestamp'\u001b[0m: \u001b[1;36m1451084591\u001b[0m\n",
       "\u001b[2;32m│   \u001b[0m\u001b[1m}\u001b[0m,\n",
       "\u001b[2;32m│   \u001b[0m\u001b[32m'split'\u001b[0m: \u001b[32m'train'\u001b[0m\n",
       "\u001b[1m}\u001b[0m\n"
      ]
     },
     "metadata": {},
     "output_type": "display_data"
    },
    {
     "name": "stdout",
     "output_type": "stream",
     "text": [
      "Sample 48:\n"
     ]
    },
    {
     "data": {
      "text/html": [
       "<pre style=\"white-space:pre;overflow-x:auto;line-height:normal;font-family:Menlo,'DejaVu Sans Mono',consolas,'Courier New',monospace\"><span style=\"font-weight: bold\">{</span>\n",
       "<span style=\"color: #7fbf7f; text-decoration-color: #7fbf7f\">│   </span><span style=\"color: #008000; text-decoration-color: #008000\">'statement'</span>: <span style=\"color: #008000; text-decoration-color: #008000\">'there is no such thing as sex that is pleasurable to both parties involved'</span>,\n",
       "<span style=\"color: #7fbf7f; text-decoration-color: #7fbf7f\">│   </span><span style=\"color: #008000; text-decoration-color: #008000\">'submission_id'</span>: <span style=\"color: #008000; text-decoration-color: #008000\">'3y7664'</span>,\n",
       "<span style=\"color: #7fbf7f; text-decoration-color: #7fbf7f\">│   </span><span style=\"color: #008000; text-decoration-color: #008000\">'penultimate_utterance'</span>: <span style=\"font-weight: bold\">{</span>\n",
       "<span style=\"color: #7fbf7f; text-decoration-color: #7fbf7f\">│   │   </span><span style=\"color: #008000; text-decoration-color: #008000\">'id'</span>: <span style=\"color: #008000; text-decoration-color: #008000\">'cyb6j7d'</span>,\n",
       "<span style=\"color: #7fbf7f; text-decoration-color: #7fbf7f\">│   │   </span><span style=\"color: #008000; text-decoration-color: #008000\">'userid'</span>: <span style=\"color: #008000; text-decoration-color: #008000\">'Foxtrap_Congo'</span>,\n",
       "<span style=\"color: #7fbf7f; text-decoration-color: #7fbf7f\">│   │   </span><span style=\"color: #008000; text-decoration-color: #008000\">'text'</span>: <span style=\"color: #008000; text-decoration-color: #008000\">\"Men can produce the same effect as sex by\\nMasturbating. Therefore, sex is unnecessary for men. That is my mindset about sex. As far as I'm concerned you're the one who brought it up, and therefore you - if anyone - were the one who changed the subject in the first place.\"</span>,\n",
       "<span style=\"color: #7fbf7f; text-decoration-color: #7fbf7f\">│   │   </span><span style=\"color: #008000; text-decoration-color: #008000\">'timestamp'</span>: <span style=\"color: #008080; text-decoration-color: #008080; font-weight: bold\">1451073672</span>\n",
       "<span style=\"color: #7fbf7f; text-decoration-color: #7fbf7f\">│   </span><span style=\"font-weight: bold\">}</span>,\n",
       "<span style=\"color: #7fbf7f; text-decoration-color: #7fbf7f\">│   </span><span style=\"color: #008000; text-decoration-color: #008000\">'last_utterance'</span>: <span style=\"font-weight: bold\">{</span>\n",
       "<span style=\"color: #7fbf7f; text-decoration-color: #7fbf7f\">│   │   </span><span style=\"color: #008000; text-decoration-color: #008000\">'id'</span>: <span style=\"color: #008000; text-decoration-color: #008000\">'cyb6mh9'</span>,\n",
       "<span style=\"color: #7fbf7f; text-decoration-color: #7fbf7f\">│   │   </span><span style=\"color: #008000; text-decoration-color: #008000\">'userid'</span>: <span style=\"color: #008000; text-decoration-color: #008000\">'Celda'</span>,\n",
       "<span style=\"color: #7fbf7f; text-decoration-color: #7fbf7f\">│   │   </span><span style=\"color: #008000; text-decoration-color: #008000\">'text'</span>: <span style=\"color: #008000; text-decoration-color: #008000\">\"&gt; Men can produce the same effect as sex by Masturbating.\\n\\nThat is demonstrably false.\\n\\n&gt; As far as I'm concerned you're the one who brought it up, and therefore you - if anyone - were the one who changed the subject in the first place.\\n\\nNo, some other user made that statement. Not me.\\n\\nAnd what I am saying is - someone (not me) made a statement, and then your reply to that statement was nonsensical. Because it did not address it in any way.\"</span>,\n",
       "<span style=\"color: #7fbf7f; text-decoration-color: #7fbf7f\">│   │   </span><span style=\"color: #008000; text-decoration-color: #008000\">'timestamp'</span>: <span style=\"color: #008080; text-decoration-color: #008080; font-weight: bold\">1451073881</span>\n",
       "<span style=\"color: #7fbf7f; text-decoration-color: #7fbf7f\">│   </span><span style=\"font-weight: bold\">}</span>,\n",
       "<span style=\"color: #7fbf7f; text-decoration-color: #7fbf7f\">│   </span><span style=\"color: #008000; text-decoration-color: #008000\">'split'</span>: <span style=\"color: #008000; text-decoration-color: #008000\">'train'</span>\n",
       "<span style=\"font-weight: bold\">}</span>\n",
       "</pre>\n"
      ],
      "text/plain": [
       "\u001b[1m{\u001b[0m\n",
       "\u001b[2;32m│   \u001b[0m\u001b[32m'statement'\u001b[0m: \u001b[32m'there is no such thing as sex that is pleasurable to both parties involved'\u001b[0m,\n",
       "\u001b[2;32m│   \u001b[0m\u001b[32m'submission_id'\u001b[0m: \u001b[32m'3y7664'\u001b[0m,\n",
       "\u001b[2;32m│   \u001b[0m\u001b[32m'penultimate_utterance'\u001b[0m: \u001b[1m{\u001b[0m\n",
       "\u001b[2;32m│   │   \u001b[0m\u001b[32m'id'\u001b[0m: \u001b[32m'cyb6j7d'\u001b[0m,\n",
       "\u001b[2;32m│   │   \u001b[0m\u001b[32m'userid'\u001b[0m: \u001b[32m'Foxtrap_Congo'\u001b[0m,\n",
       "\u001b[2;32m│   │   \u001b[0m\u001b[32m'text'\u001b[0m: \u001b[32m\"Men can produce the same effect as sex by\\nMasturbating. Therefore, sex is unnecessary for men. That is my mindset about sex. As far as I'm concerned you're the one who brought it up, and therefore you - if anyone - were the one who changed the subject in the first place.\"\u001b[0m,\n",
       "\u001b[2;32m│   │   \u001b[0m\u001b[32m'timestamp'\u001b[0m: \u001b[1;36m1451073672\u001b[0m\n",
       "\u001b[2;32m│   \u001b[0m\u001b[1m}\u001b[0m,\n",
       "\u001b[2;32m│   \u001b[0m\u001b[32m'last_utterance'\u001b[0m: \u001b[1m{\u001b[0m\n",
       "\u001b[2;32m│   │   \u001b[0m\u001b[32m'id'\u001b[0m: \u001b[32m'cyb6mh9'\u001b[0m,\n",
       "\u001b[2;32m│   │   \u001b[0m\u001b[32m'userid'\u001b[0m: \u001b[32m'Celda'\u001b[0m,\n",
       "\u001b[2;32m│   │   \u001b[0m\u001b[32m'text'\u001b[0m: \u001b[32m\"> Men can produce the same effect as sex by Masturbating.\\n\\nThat is demonstrably false.\\n\\n> As far as I'm concerned you're the one who brought it up, and therefore you - if anyone - were the one who changed the subject in the first place.\\n\\nNo, some other user made that statement. Not me.\\n\\nAnd what I am saying is - someone \u001b[0m\u001b[32m(\u001b[0m\u001b[32mnot me\u001b[0m\u001b[32m)\u001b[0m\u001b[32m made a statement, and then your reply to that statement was nonsensical. Because it did not address it in any way.\"\u001b[0m,\n",
       "\u001b[2;32m│   │   \u001b[0m\u001b[32m'timestamp'\u001b[0m: \u001b[1;36m1451073881\u001b[0m\n",
       "\u001b[2;32m│   \u001b[0m\u001b[1m}\u001b[0m,\n",
       "\u001b[2;32m│   \u001b[0m\u001b[32m'split'\u001b[0m: \u001b[32m'train'\u001b[0m\n",
       "\u001b[1m}\u001b[0m\n"
      ]
     },
     "metadata": {},
     "output_type": "display_data"
    },
    {
     "name": "stdout",
     "output_type": "stream",
     "text": [
      "Sample 49:\n"
     ]
    },
    {
     "data": {
      "text/html": [
       "<pre style=\"white-space:pre;overflow-x:auto;line-height:normal;font-family:Menlo,'DejaVu Sans Mono',consolas,'Courier New',monospace\"><span style=\"font-weight: bold\">{</span>\n",
       "<span style=\"color: #7fbf7f; text-decoration-color: #7fbf7f\">│   </span><span style=\"color: #008000; text-decoration-color: #008000\">'statement'</span>: <span style=\"color: #008000; text-decoration-color: #008000\">'If the NRA is sincere about gun ownership as check on government overreach, then their biggest concern is not regulations on firearms, but autonomous military robots.'</span>,\n",
       "<span style=\"color: #7fbf7f; text-decoration-color: #7fbf7f\">│   </span><span style=\"color: #008000; text-decoration-color: #008000\">'submission_id'</span>: <span style=\"color: #008000; text-decoration-color: #008000\">'3ya934'</span>,\n",
       "<span style=\"color: #7fbf7f; text-decoration-color: #7fbf7f\">│   </span><span style=\"color: #008000; text-decoration-color: #008000\">'penultimate_utterance'</span>: <span style=\"font-weight: bold\">{</span>\n",
       "<span style=\"color: #7fbf7f; text-decoration-color: #7fbf7f\">│   │   </span><span style=\"color: #008000; text-decoration-color: #008000\">'id'</span>: <span style=\"color: #008000; text-decoration-color: #008000\">'cyby2g8'</span>,\n",
       "<span style=\"color: #7fbf7f; text-decoration-color: #7fbf7f\">│   │   </span><span style=\"color: #008000; text-decoration-color: #008000\">'userid'</span>: <span style=\"color: #008000; text-decoration-color: #008000\">'elsparkodiablo'</span>,\n",
       "<span style=\"color: #7fbf7f; text-decoration-color: #7fbf7f\">│   │   </span><span style=\"color: #008000; text-decoration-color: #008000\">'text'</span>: <span style=\"color: #008000; text-decoration-color: #008000\">'Classic Libertarian Argument != NRA position.\\n\\nThe premise of this CMV is a strawman argument.'</span>,\n",
       "<span style=\"color: #7fbf7f; text-decoration-color: #7fbf7f\">│   │   </span><span style=\"color: #008000; text-decoration-color: #008000\">'timestamp'</span>: <span style=\"color: #008080; text-decoration-color: #008080; font-weight: bold\">1451153164</span>\n",
       "<span style=\"color: #7fbf7f; text-decoration-color: #7fbf7f\">│   </span><span style=\"font-weight: bold\">}</span>,\n",
       "<span style=\"color: #7fbf7f; text-decoration-color: #7fbf7f\">│   </span><span style=\"color: #008000; text-decoration-color: #008000\">'last_utterance'</span>: <span style=\"font-weight: bold\">{</span>\n",
       "<span style=\"color: #7fbf7f; text-decoration-color: #7fbf7f\">│   │   </span><span style=\"color: #008000; text-decoration-color: #008000\">'id'</span>: <span style=\"color: #008000; text-decoration-color: #008000\">'cyby80m'</span>,\n",
       "<span style=\"color: #7fbf7f; text-decoration-color: #7fbf7f\">│   │   </span><span style=\"color: #008000; text-decoration-color: #008000\">'userid'</span>: <span style=\"color: #008000; text-decoration-color: #008000\">'[deleted]'</span>,\n",
       "<span style=\"color: #7fbf7f; text-decoration-color: #7fbf7f\">│   │   </span><span style=\"color: #008000; text-decoration-color: #008000\">'text'</span>: <span style=\"color: #008000; text-decoration-color: #008000\">\"Its not a strawman but /u/elsparkodiablo is making a way too simplified argument that misses many/all of what i consider the strongest arguments and those arguments are mostly embraced by NRA people and spokesmen **in addition to** the one he's talking about. His argument has factual flaws but i think its a good faith mistake not an attempt to strawman\"</span>,\n",
       "<span style=\"color: #7fbf7f; text-decoration-color: #7fbf7f\">│   │   </span><span style=\"color: #008000; text-decoration-color: #008000\">'timestamp'</span>: <span style=\"color: #008080; text-decoration-color: #008080; font-weight: bold\">1451153490</span>\n",
       "<span style=\"color: #7fbf7f; text-decoration-color: #7fbf7f\">│   </span><span style=\"font-weight: bold\">}</span>,\n",
       "<span style=\"color: #7fbf7f; text-decoration-color: #7fbf7f\">│   </span><span style=\"color: #008000; text-decoration-color: #008000\">'split'</span>: <span style=\"color: #008000; text-decoration-color: #008000\">'train'</span>\n",
       "<span style=\"font-weight: bold\">}</span>\n",
       "</pre>\n"
      ],
      "text/plain": [
       "\u001b[1m{\u001b[0m\n",
       "\u001b[2;32m│   \u001b[0m\u001b[32m'statement'\u001b[0m: \u001b[32m'If the NRA is sincere about gun ownership as check on government overreach, then their biggest concern is not regulations on firearms, but autonomous military robots.'\u001b[0m,\n",
       "\u001b[2;32m│   \u001b[0m\u001b[32m'submission_id'\u001b[0m: \u001b[32m'3ya934'\u001b[0m,\n",
       "\u001b[2;32m│   \u001b[0m\u001b[32m'penultimate_utterance'\u001b[0m: \u001b[1m{\u001b[0m\n",
       "\u001b[2;32m│   │   \u001b[0m\u001b[32m'id'\u001b[0m: \u001b[32m'cyby2g8'\u001b[0m,\n",
       "\u001b[2;32m│   │   \u001b[0m\u001b[32m'userid'\u001b[0m: \u001b[32m'elsparkodiablo'\u001b[0m,\n",
       "\u001b[2;32m│   │   \u001b[0m\u001b[32m'text'\u001b[0m: \u001b[32m'Classic Libertarian Argument != NRA position.\\n\\nThe premise of this CMV is a strawman argument.'\u001b[0m,\n",
       "\u001b[2;32m│   │   \u001b[0m\u001b[32m'timestamp'\u001b[0m: \u001b[1;36m1451153164\u001b[0m\n",
       "\u001b[2;32m│   \u001b[0m\u001b[1m}\u001b[0m,\n",
       "\u001b[2;32m│   \u001b[0m\u001b[32m'last_utterance'\u001b[0m: \u001b[1m{\u001b[0m\n",
       "\u001b[2;32m│   │   \u001b[0m\u001b[32m'id'\u001b[0m: \u001b[32m'cyby80m'\u001b[0m,\n",
       "\u001b[2;32m│   │   \u001b[0m\u001b[32m'userid'\u001b[0m: \u001b[32m'\u001b[0m\u001b[32m[\u001b[0m\u001b[32mdeleted\u001b[0m\u001b[32m]\u001b[0m\u001b[32m'\u001b[0m,\n",
       "\u001b[2;32m│   │   \u001b[0m\u001b[32m'text'\u001b[0m: \u001b[32m\"Its not a strawman but /u/elsparkodiablo is making a way too simplified argument that misses many/all of what i consider the strongest arguments and those arguments are mostly embraced by NRA people and spokesmen **in addition to** the one he's talking about. His argument has factual flaws but i think its a good faith mistake not an attempt to strawman\"\u001b[0m,\n",
       "\u001b[2;32m│   │   \u001b[0m\u001b[32m'timestamp'\u001b[0m: \u001b[1;36m1451153490\u001b[0m\n",
       "\u001b[2;32m│   \u001b[0m\u001b[1m}\u001b[0m,\n",
       "\u001b[2;32m│   \u001b[0m\u001b[32m'split'\u001b[0m: \u001b[32m'train'\u001b[0m\n",
       "\u001b[1m}\u001b[0m\n"
      ]
     },
     "metadata": {},
     "output_type": "display_data"
    },
    {
     "name": "stdout",
     "output_type": "stream",
     "text": [
      "Sample 50:\n"
     ]
    },
    {
     "data": {
      "text/html": [
       "<pre style=\"white-space:pre;overflow-x:auto;line-height:normal;font-family:Menlo,'DejaVu Sans Mono',consolas,'Courier New',monospace\"><span style=\"font-weight: bold\">{</span>\n",
       "<span style=\"color: #7fbf7f; text-decoration-color: #7fbf7f\">│   </span><span style=\"color: #008000; text-decoration-color: #008000\">'statement'</span>: <span style=\"color: #008000; text-decoration-color: #008000\">'Women should be treated as second class citizens'</span>,\n",
       "<span style=\"color: #7fbf7f; text-decoration-color: #7fbf7f\">│   </span><span style=\"color: #008000; text-decoration-color: #008000\">'submission_id'</span>: <span style=\"color: #008000; text-decoration-color: #008000\">'3z6puw'</span>,\n",
       "<span style=\"color: #7fbf7f; text-decoration-color: #7fbf7f\">│   </span><span style=\"color: #008000; text-decoration-color: #008000\">'penultimate_utterance'</span>: <span style=\"font-weight: bold\">{</span>\n",
       "<span style=\"color: #7fbf7f; text-decoration-color: #7fbf7f\">│   │   </span><span style=\"color: #008000; text-decoration-color: #008000\">'id'</span>: <span style=\"color: #008000; text-decoration-color: #008000\">'cyjr5p7'</span>,\n",
       "<span style=\"color: #7fbf7f; text-decoration-color: #7fbf7f\">│   │   </span><span style=\"color: #008000; text-decoration-color: #008000\">'userid'</span>: <span style=\"color: #008000; text-decoration-color: #008000\">'honladder'</span>,\n",
       "<span style=\"color: #7fbf7f; text-decoration-color: #7fbf7f\">│   │   </span><span style=\"color: #008000; text-decoration-color: #008000\">'text'</span>: <span style=\"color: #008000; text-decoration-color: #008000\">'&gt;  Boys are better at computer games? OK, so what? How on earth is playing a computer game indicative of superiority? \\n\\nbecause competitive games measure good decision making, reflexes, time management, team work, and a lot more factors '</span>,\n",
       "<span style=\"color: #7fbf7f; text-decoration-color: #7fbf7f\">│   │   </span><span style=\"color: #008000; text-decoration-color: #008000\">'timestamp'</span>: <span style=\"color: #008080; text-decoration-color: #008080; font-weight: bold\">1451776179</span>\n",
       "<span style=\"color: #7fbf7f; text-decoration-color: #7fbf7f\">│   </span><span style=\"font-weight: bold\">}</span>,\n",
       "<span style=\"color: #7fbf7f; text-decoration-color: #7fbf7f\">│   </span><span style=\"color: #008000; text-decoration-color: #008000\">'last_utterance'</span>: <span style=\"font-weight: bold\">{</span>\n",
       "<span style=\"color: #7fbf7f; text-decoration-color: #7fbf7f\">│   │   </span><span style=\"color: #008000; text-decoration-color: #008000\">'id'</span>: <span style=\"color: #008000; text-decoration-color: #008000\">'cyjru23'</span>,\n",
       "<span style=\"color: #7fbf7f; text-decoration-color: #7fbf7f\">│   │   </span><span style=\"color: #008000; text-decoration-color: #008000\">'userid'</span>: <span style=\"color: #008000; text-decoration-color: #008000\">'SC803'</span>,\n",
       "<span style=\"color: #7fbf7f; text-decoration-color: #7fbf7f\">│   │   </span><span style=\"color: #008000; text-decoration-color: #008000\">'text'</span>: <span style=\"color: #008000; text-decoration-color: #008000\">'Can you cite a study that proves this?'</span>,\n",
       "<span style=\"color: #7fbf7f; text-decoration-color: #7fbf7f\">│   │   </span><span style=\"color: #008000; text-decoration-color: #008000\">'timestamp'</span>: <span style=\"color: #008080; text-decoration-color: #008080; font-weight: bold\">1451777391</span>\n",
       "<span style=\"color: #7fbf7f; text-decoration-color: #7fbf7f\">│   </span><span style=\"font-weight: bold\">}</span>,\n",
       "<span style=\"color: #7fbf7f; text-decoration-color: #7fbf7f\">│   </span><span style=\"color: #008000; text-decoration-color: #008000\">'split'</span>: <span style=\"color: #008000; text-decoration-color: #008000\">'train'</span>\n",
       "<span style=\"font-weight: bold\">}</span>\n",
       "</pre>\n"
      ],
      "text/plain": [
       "\u001b[1m{\u001b[0m\n",
       "\u001b[2;32m│   \u001b[0m\u001b[32m'statement'\u001b[0m: \u001b[32m'Women should be treated as second class citizens'\u001b[0m,\n",
       "\u001b[2;32m│   \u001b[0m\u001b[32m'submission_id'\u001b[0m: \u001b[32m'3z6puw'\u001b[0m,\n",
       "\u001b[2;32m│   \u001b[0m\u001b[32m'penultimate_utterance'\u001b[0m: \u001b[1m{\u001b[0m\n",
       "\u001b[2;32m│   │   \u001b[0m\u001b[32m'id'\u001b[0m: \u001b[32m'cyjr5p7'\u001b[0m,\n",
       "\u001b[2;32m│   │   \u001b[0m\u001b[32m'userid'\u001b[0m: \u001b[32m'honladder'\u001b[0m,\n",
       "\u001b[2;32m│   │   \u001b[0m\u001b[32m'text'\u001b[0m: \u001b[32m'>  Boys are better at computer games? OK, so what? How on earth is playing a computer game indicative of superiority? \\n\\nbecause competitive games measure good decision making, reflexes, time management, team work, and a lot more factors '\u001b[0m,\n",
       "\u001b[2;32m│   │   \u001b[0m\u001b[32m'timestamp'\u001b[0m: \u001b[1;36m1451776179\u001b[0m\n",
       "\u001b[2;32m│   \u001b[0m\u001b[1m}\u001b[0m,\n",
       "\u001b[2;32m│   \u001b[0m\u001b[32m'last_utterance'\u001b[0m: \u001b[1m{\u001b[0m\n",
       "\u001b[2;32m│   │   \u001b[0m\u001b[32m'id'\u001b[0m: \u001b[32m'cyjru23'\u001b[0m,\n",
       "\u001b[2;32m│   │   \u001b[0m\u001b[32m'userid'\u001b[0m: \u001b[32m'SC803'\u001b[0m,\n",
       "\u001b[2;32m│   │   \u001b[0m\u001b[32m'text'\u001b[0m: \u001b[32m'Can you cite a study that proves this?'\u001b[0m,\n",
       "\u001b[2;32m│   │   \u001b[0m\u001b[32m'timestamp'\u001b[0m: \u001b[1;36m1451777391\u001b[0m\n",
       "\u001b[2;32m│   \u001b[0m\u001b[1m}\u001b[0m,\n",
       "\u001b[2;32m│   \u001b[0m\u001b[32m'split'\u001b[0m: \u001b[32m'train'\u001b[0m\n",
       "\u001b[1m}\u001b[0m\n"
      ]
     },
     "metadata": {},
     "output_type": "display_data"
    },
    {
     "name": "stdout",
     "output_type": "stream",
     "text": [
      "Sample 51:\n"
     ]
    },
    {
     "data": {
      "text/html": [
       "<pre style=\"white-space:pre;overflow-x:auto;line-height:normal;font-family:Menlo,'DejaVu Sans Mono',consolas,'Courier New',monospace\"><span style=\"font-weight: bold\">{</span>\n",
       "<span style=\"color: #7fbf7f; text-decoration-color: #7fbf7f\">│   </span><span style=\"color: #008000; text-decoration-color: #008000\">'statement'</span>: <span style=\"color: #008000; text-decoration-color: #008000\">'Paedophilia is not wrong'</span>,\n",
       "<span style=\"color: #7fbf7f; text-decoration-color: #7fbf7f\">│   </span><span style=\"color: #008000; text-decoration-color: #008000\">'submission_id'</span>: <span style=\"color: #008000; text-decoration-color: #008000\">'40o87r'</span>,\n",
       "<span style=\"color: #7fbf7f; text-decoration-color: #7fbf7f\">│   </span><span style=\"color: #008000; text-decoration-color: #008000\">'penultimate_utterance'</span>: <span style=\"font-weight: bold\">{</span>\n",
       "<span style=\"color: #7fbf7f; text-decoration-color: #7fbf7f\">│   │   </span><span style=\"color: #008000; text-decoration-color: #008000\">'id'</span>: <span style=\"color: #008000; text-decoration-color: #008000\">'cywj6kc'</span>,\n",
       "<span style=\"color: #7fbf7f; text-decoration-color: #7fbf7f\">│   │   </span><span style=\"color: #008000; text-decoration-color: #008000\">'userid'</span>: <span style=\"color: #008000; text-decoration-color: #008000\">'tstoGOTL'</span>,\n",
       "<span style=\"color: #7fbf7f; text-decoration-color: #7fbf7f\">│   │   </span><span style=\"color: #008000; text-decoration-color: #008000\">'text'</span>: <span style=\"color: #008000; text-decoration-color: #008000\">\"Then, if you've had any sexual contact with a child, you're fooling yourself. The brain just isn't developed enough to take part in a sexual relationship with an older person. There is a level of competency needed to process that sort of thing both mentally and physically, and pre pubescent children are physiologically incapable of it. It does TREMENDOUS harm in early psych development whether you intend it or not.\"</span>,\n",
       "<span style=\"color: #7fbf7f; text-decoration-color: #7fbf7f\">│   │   </span><span style=\"color: #008000; text-decoration-color: #008000\">'timestamp'</span>: <span style=\"color: #008080; text-decoration-color: #008080; font-weight: bold\">1452687508</span>\n",
       "<span style=\"color: #7fbf7f; text-decoration-color: #7fbf7f\">│   </span><span style=\"font-weight: bold\">}</span>,\n",
       "<span style=\"color: #7fbf7f; text-decoration-color: #7fbf7f\">│   </span><span style=\"color: #008000; text-decoration-color: #008000\">'last_utterance'</span>: <span style=\"font-weight: bold\">{</span>\n",
       "<span style=\"color: #7fbf7f; text-decoration-color: #7fbf7f\">│   │   </span><span style=\"color: #008000; text-decoration-color: #008000\">'id'</span>: <span style=\"color: #008000; text-decoration-color: #008000\">'cyx1js3'</span>,\n",
       "<span style=\"color: #7fbf7f; text-decoration-color: #7fbf7f\">│   │   </span><span style=\"color: #008000; text-decoration-color: #008000\">'userid'</span>: <span style=\"color: #008000; text-decoration-color: #008000\">'MarcusWilliamsII'</span>,\n",
       "<span style=\"color: #7fbf7f; text-decoration-color: #7fbf7f\">│   │   </span><span style=\"color: #008000; text-decoration-color: #008000\">'text'</span>: <span style=\"color: #008000; text-decoration-color: #008000\">'Why do you believe that I have had sexual contact with a child?'</span>,\n",
       "<span style=\"color: #7fbf7f; text-decoration-color: #7fbf7f\">│   │   </span><span style=\"color: #008000; text-decoration-color: #008000\">'timestamp'</span>: <span style=\"color: #008080; text-decoration-color: #008080; font-weight: bold\">1452717025</span>\n",
       "<span style=\"color: #7fbf7f; text-decoration-color: #7fbf7f\">│   </span><span style=\"font-weight: bold\">}</span>,\n",
       "<span style=\"color: #7fbf7f; text-decoration-color: #7fbf7f\">│   </span><span style=\"color: #008000; text-decoration-color: #008000\">'split'</span>: <span style=\"color: #008000; text-decoration-color: #008000\">'train'</span>\n",
       "<span style=\"font-weight: bold\">}</span>\n",
       "</pre>\n"
      ],
      "text/plain": [
       "\u001b[1m{\u001b[0m\n",
       "\u001b[2;32m│   \u001b[0m\u001b[32m'statement'\u001b[0m: \u001b[32m'Paedophilia is not wrong'\u001b[0m,\n",
       "\u001b[2;32m│   \u001b[0m\u001b[32m'submission_id'\u001b[0m: \u001b[32m'40o87r'\u001b[0m,\n",
       "\u001b[2;32m│   \u001b[0m\u001b[32m'penultimate_utterance'\u001b[0m: \u001b[1m{\u001b[0m\n",
       "\u001b[2;32m│   │   \u001b[0m\u001b[32m'id'\u001b[0m: \u001b[32m'cywj6kc'\u001b[0m,\n",
       "\u001b[2;32m│   │   \u001b[0m\u001b[32m'userid'\u001b[0m: \u001b[32m'tstoGOTL'\u001b[0m,\n",
       "\u001b[2;32m│   │   \u001b[0m\u001b[32m'text'\u001b[0m: \u001b[32m\"Then, if you've had any sexual contact with a child, you're fooling yourself. The brain just isn't developed enough to take part in a sexual relationship with an older person. There is a level of competency needed to process that sort of thing both mentally and physically, and pre pubescent children are physiologically incapable of it. It does TREMENDOUS harm in early psych development whether you intend it or not.\"\u001b[0m,\n",
       "\u001b[2;32m│   │   \u001b[0m\u001b[32m'timestamp'\u001b[0m: \u001b[1;36m1452687508\u001b[0m\n",
       "\u001b[2;32m│   \u001b[0m\u001b[1m}\u001b[0m,\n",
       "\u001b[2;32m│   \u001b[0m\u001b[32m'last_utterance'\u001b[0m: \u001b[1m{\u001b[0m\n",
       "\u001b[2;32m│   │   \u001b[0m\u001b[32m'id'\u001b[0m: \u001b[32m'cyx1js3'\u001b[0m,\n",
       "\u001b[2;32m│   │   \u001b[0m\u001b[32m'userid'\u001b[0m: \u001b[32m'MarcusWilliamsII'\u001b[0m,\n",
       "\u001b[2;32m│   │   \u001b[0m\u001b[32m'text'\u001b[0m: \u001b[32m'Why do you believe that I have had sexual contact with a child?'\u001b[0m,\n",
       "\u001b[2;32m│   │   \u001b[0m\u001b[32m'timestamp'\u001b[0m: \u001b[1;36m1452717025\u001b[0m\n",
       "\u001b[2;32m│   \u001b[0m\u001b[1m}\u001b[0m,\n",
       "\u001b[2;32m│   \u001b[0m\u001b[32m'split'\u001b[0m: \u001b[32m'train'\u001b[0m\n",
       "\u001b[1m}\u001b[0m\n"
      ]
     },
     "metadata": {},
     "output_type": "display_data"
    },
    {
     "name": "stdout",
     "output_type": "stream",
     "text": [
      "Sample 52:\n"
     ]
    },
    {
     "data": {
      "text/html": [
       "<pre style=\"white-space:pre;overflow-x:auto;line-height:normal;font-family:Menlo,'DejaVu Sans Mono',consolas,'Courier New',monospace\"><span style=\"font-weight: bold\">{</span>\n",
       "<span style=\"color: #7fbf7f; text-decoration-color: #7fbf7f\">│   </span><span style=\"color: #008000; text-decoration-color: #008000\">'statement'</span>: <span style=\"color: #008000; text-decoration-color: #008000\">\"All new immigrants to the US should verbally agree with and swear to defend each amendment in the bill of rights, plus a series of secular declarations in support of women's rights, division between church and state, etc, etc\"</span>,\n",
       "<span style=\"color: #7fbf7f; text-decoration-color: #7fbf7f\">│   </span><span style=\"color: #008000; text-decoration-color: #008000\">'submission_id'</span>: <span style=\"color: #008000; text-decoration-color: #008000\">'40u9x0'</span>,\n",
       "<span style=\"color: #7fbf7f; text-decoration-color: #7fbf7f\">│   </span><span style=\"color: #008000; text-decoration-color: #008000\">'penultimate_utterance'</span>: <span style=\"font-weight: bold\">{</span>\n",
       "<span style=\"color: #7fbf7f; text-decoration-color: #7fbf7f\">│   │   </span><span style=\"color: #008000; text-decoration-color: #008000\">'id'</span>: <span style=\"color: #008000; text-decoration-color: #008000\">'cyxe7lq'</span>,\n",
       "<span style=\"color: #7fbf7f; text-decoration-color: #7fbf7f\">│   │   </span><span style=\"color: #008000; text-decoration-color: #008000\">'userid'</span>: <span style=\"color: #008000; text-decoration-color: #008000\">'TrialsAndTribbles'</span>,\n",
       "<span style=\"color: #7fbf7f; text-decoration-color: #7fbf7f\">│   │   </span><span style=\"color: #008000; text-decoration-color: #008000\">'text'</span>: <span style=\"color: #008000; text-decoration-color: #008000\">\"So the definition is ambiguous, I generally go with the first definition as the primary one, I dunno about you.  How's that ambiguity in the definition work on the test?\"</span>,\n",
       "<span style=\"color: #7fbf7f; text-decoration-color: #7fbf7f\">│   │   </span><span style=\"color: #008000; text-decoration-color: #008000\">'timestamp'</span>: <span style=\"color: #008080; text-decoration-color: #008080; font-weight: bold\">1452735113</span>\n",
       "<span style=\"color: #7fbf7f; text-decoration-color: #7fbf7f\">│   </span><span style=\"font-weight: bold\">}</span>,\n",
       "<span style=\"color: #7fbf7f; text-decoration-color: #7fbf7f\">│   </span><span style=\"color: #008000; text-decoration-color: #008000\">'last_utterance'</span>: <span style=\"font-weight: bold\">{</span>\n",
       "<span style=\"color: #7fbf7f; text-decoration-color: #7fbf7f\">│   │   </span><span style=\"color: #008000; text-decoration-color: #008000\">'id'</span>: <span style=\"color: #008000; text-decoration-color: #008000\">'cyxeifz'</span>,\n",
       "<span style=\"color: #7fbf7f; text-decoration-color: #7fbf7f\">│   │   </span><span style=\"color: #008000; text-decoration-color: #008000\">'userid'</span>: <span style=\"color: #008000; text-decoration-color: #008000\">'dpp-palace-of-alice2'</span>,\n",
       "<span style=\"color: #7fbf7f; text-decoration-color: #7fbf7f\">│   │   </span><span style=\"color: #008000; text-decoration-color: #008000\">'text'</span>: <span style=\"color: #008000; text-decoration-color: #008000\">\"I generally go with the one that makes most sense in context (as it is a modifying clause of the phrase foreign contacts), and there the third one most clearly applies. I think that ambiguity is probably handled by the actual language of the  test, which that paragraph isn't.\"</span>,\n",
       "<span style=\"color: #7fbf7f; text-decoration-color: #7fbf7f\">│   │   </span><span style=\"color: #008000; text-decoration-color: #008000\">'timestamp'</span>: <span style=\"color: #008080; text-decoration-color: #008080; font-weight: bold\">1452735619</span>\n",
       "<span style=\"color: #7fbf7f; text-decoration-color: #7fbf7f\">│   </span><span style=\"font-weight: bold\">}</span>,\n",
       "<span style=\"color: #7fbf7f; text-decoration-color: #7fbf7f\">│   </span><span style=\"color: #008000; text-decoration-color: #008000\">'split'</span>: <span style=\"color: #008000; text-decoration-color: #008000\">'train'</span>\n",
       "<span style=\"font-weight: bold\">}</span>\n",
       "</pre>\n"
      ],
      "text/plain": [
       "\u001b[1m{\u001b[0m\n",
       "\u001b[2;32m│   \u001b[0m\u001b[32m'statement'\u001b[0m: \u001b[32m\"All new immigrants to the US should verbally agree with and swear to defend each amendment in the bill of rights, plus a series of secular declarations in support of women's rights, division between church and state, etc, etc\"\u001b[0m,\n",
       "\u001b[2;32m│   \u001b[0m\u001b[32m'submission_id'\u001b[0m: \u001b[32m'40u9x0'\u001b[0m,\n",
       "\u001b[2;32m│   \u001b[0m\u001b[32m'penultimate_utterance'\u001b[0m: \u001b[1m{\u001b[0m\n",
       "\u001b[2;32m│   │   \u001b[0m\u001b[32m'id'\u001b[0m: \u001b[32m'cyxe7lq'\u001b[0m,\n",
       "\u001b[2;32m│   │   \u001b[0m\u001b[32m'userid'\u001b[0m: \u001b[32m'TrialsAndTribbles'\u001b[0m,\n",
       "\u001b[2;32m│   │   \u001b[0m\u001b[32m'text'\u001b[0m: \u001b[32m\"So the definition is ambiguous, I generally go with the first definition as the primary one, I dunno about you.  How's that ambiguity in the definition work on the test?\"\u001b[0m,\n",
       "\u001b[2;32m│   │   \u001b[0m\u001b[32m'timestamp'\u001b[0m: \u001b[1;36m1452735113\u001b[0m\n",
       "\u001b[2;32m│   \u001b[0m\u001b[1m}\u001b[0m,\n",
       "\u001b[2;32m│   \u001b[0m\u001b[32m'last_utterance'\u001b[0m: \u001b[1m{\u001b[0m\n",
       "\u001b[2;32m│   │   \u001b[0m\u001b[32m'id'\u001b[0m: \u001b[32m'cyxeifz'\u001b[0m,\n",
       "\u001b[2;32m│   │   \u001b[0m\u001b[32m'userid'\u001b[0m: \u001b[32m'dpp-palace-of-alice2'\u001b[0m,\n",
       "\u001b[2;32m│   │   \u001b[0m\u001b[32m'text'\u001b[0m: \u001b[32m\"I generally go with the one that makes most sense in context \u001b[0m\u001b[32m(\u001b[0m\u001b[32mas it is a modifying clause of the phrase foreign contacts\u001b[0m\u001b[32m)\u001b[0m\u001b[32m, and there the third one most clearly applies. I think that ambiguity is probably handled by the actual language of the  test, which that paragraph isn't.\"\u001b[0m,\n",
       "\u001b[2;32m│   │   \u001b[0m\u001b[32m'timestamp'\u001b[0m: \u001b[1;36m1452735619\u001b[0m\n",
       "\u001b[2;32m│   \u001b[0m\u001b[1m}\u001b[0m,\n",
       "\u001b[2;32m│   \u001b[0m\u001b[32m'split'\u001b[0m: \u001b[32m'train'\u001b[0m\n",
       "\u001b[1m}\u001b[0m\n"
      ]
     },
     "metadata": {},
     "output_type": "display_data"
    },
    {
     "name": "stdout",
     "output_type": "stream",
     "text": [
      "Sample 53:\n"
     ]
    },
    {
     "data": {
      "text/html": [
       "<pre style=\"white-space:pre;overflow-x:auto;line-height:normal;font-family:Menlo,'DejaVu Sans Mono',consolas,'Courier New',monospace\"><span style=\"font-weight: bold\">{</span>\n",
       "<span style=\"color: #7fbf7f; text-decoration-color: #7fbf7f\">│   </span><span style=\"color: #008000; text-decoration-color: #008000\">'statement'</span>: <span style=\"color: #008000; text-decoration-color: #008000\">'The accusation of \"anti-semitism\" is used more often as a weapon against valid critique rather than as a defense against actual unfairness or malicious intent.'</span>,\n",
       "<span style=\"color: #7fbf7f; text-decoration-color: #7fbf7f\">│   </span><span style=\"color: #008000; text-decoration-color: #008000\">'submission_id'</span>: <span style=\"color: #008000; text-decoration-color: #008000\">'40y4y9'</span>,\n",
       "<span style=\"color: #7fbf7f; text-decoration-color: #7fbf7f\">│   </span><span style=\"color: #008000; text-decoration-color: #008000\">'penultimate_utterance'</span>: <span style=\"font-weight: bold\">{</span>\n",
       "<span style=\"color: #7fbf7f; text-decoration-color: #7fbf7f\">│   │   </span><span style=\"color: #008000; text-decoration-color: #008000\">'id'</span>: <span style=\"color: #008000; text-decoration-color: #008000\">'cyy9lml'</span>,\n",
       "<span style=\"color: #7fbf7f; text-decoration-color: #7fbf7f\">│   │   </span><span style=\"color: #008000; text-decoration-color: #008000\">'userid'</span>: <span style=\"color: #008000; text-decoration-color: #008000\">'ancap_insanity'</span>,\n",
       "<span style=\"color: #7fbf7f; text-decoration-color: #7fbf7f\">│   │   </span><span style=\"color: #008000; text-decoration-color: #008000\">'text'</span>: <span style=\"color: #008000; text-decoration-color: #008000\">\"I haven't.\\n\\nI literally used what's veritably in the relevant wikipedia entries that exists outside of wikipedia to uphold my argument. I made no error whatsoever.\\n\\nsmh fam\"</span>,\n",
       "<span style=\"color: #7fbf7f; text-decoration-color: #7fbf7f\">│   │   </span><span style=\"color: #008000; text-decoration-color: #008000\">'timestamp'</span>: <span style=\"color: #008080; text-decoration-color: #008080; font-weight: bold\">1452800234</span>\n",
       "<span style=\"color: #7fbf7f; text-decoration-color: #7fbf7f\">│   </span><span style=\"font-weight: bold\">}</span>,\n",
       "<span style=\"color: #7fbf7f; text-decoration-color: #7fbf7f\">│   </span><span style=\"color: #008000; text-decoration-color: #008000\">'last_utterance'</span>: <span style=\"font-weight: bold\">{</span>\n",
       "<span style=\"color: #7fbf7f; text-decoration-color: #7fbf7f\">│   │   </span><span style=\"color: #008000; text-decoration-color: #008000\">'id'</span>: <span style=\"color: #008000; text-decoration-color: #008000\">'cyy9qqc'</span>,\n",
       "<span style=\"color: #7fbf7f; text-decoration-color: #7fbf7f\">│   │   </span><span style=\"color: #008000; text-decoration-color: #008000\">'userid'</span>: <span style=\"color: #008000; text-decoration-color: #008000\">'Targren'</span>,\n",
       "<span style=\"color: #7fbf7f; text-decoration-color: #7fbf7f\">│   │   </span><span style=\"color: #008000; text-decoration-color: #008000\">'text'</span>: <span style=\"color: #008000; text-decoration-color: #008000\">\"You used wikipedia as a reference, and then asserted wikipedia's bias when what was found there was used against you.  Whether or not what the other poster said was accurate, you tried to discredit your own reference. \"</span>,\n",
       "<span style=\"color: #7fbf7f; text-decoration-color: #7fbf7f\">│   │   </span><span style=\"color: #008000; text-decoration-color: #008000\">'timestamp'</span>: <span style=\"color: #008080; text-decoration-color: #008080; font-weight: bold\">1452800433</span>\n",
       "<span style=\"color: #7fbf7f; text-decoration-color: #7fbf7f\">│   </span><span style=\"font-weight: bold\">}</span>,\n",
       "<span style=\"color: #7fbf7f; text-decoration-color: #7fbf7f\">│   </span><span style=\"color: #008000; text-decoration-color: #008000\">'split'</span>: <span style=\"color: #008000; text-decoration-color: #008000\">'train'</span>\n",
       "<span style=\"font-weight: bold\">}</span>\n",
       "</pre>\n"
      ],
      "text/plain": [
       "\u001b[1m{\u001b[0m\n",
       "\u001b[2;32m│   \u001b[0m\u001b[32m'statement'\u001b[0m: \u001b[32m'The accusation of \"anti-semitism\" is used more often as a weapon against valid critique rather than as a defense against actual unfairness or malicious intent.'\u001b[0m,\n",
       "\u001b[2;32m│   \u001b[0m\u001b[32m'submission_id'\u001b[0m: \u001b[32m'40y4y9'\u001b[0m,\n",
       "\u001b[2;32m│   \u001b[0m\u001b[32m'penultimate_utterance'\u001b[0m: \u001b[1m{\u001b[0m\n",
       "\u001b[2;32m│   │   \u001b[0m\u001b[32m'id'\u001b[0m: \u001b[32m'cyy9lml'\u001b[0m,\n",
       "\u001b[2;32m│   │   \u001b[0m\u001b[32m'userid'\u001b[0m: \u001b[32m'ancap_insanity'\u001b[0m,\n",
       "\u001b[2;32m│   │   \u001b[0m\u001b[32m'text'\u001b[0m: \u001b[32m\"I haven't.\\n\\nI literally used what's veritably in the relevant wikipedia entries that exists outside of wikipedia to uphold my argument. I made no error whatsoever.\\n\\nsmh fam\"\u001b[0m,\n",
       "\u001b[2;32m│   │   \u001b[0m\u001b[32m'timestamp'\u001b[0m: \u001b[1;36m1452800234\u001b[0m\n",
       "\u001b[2;32m│   \u001b[0m\u001b[1m}\u001b[0m,\n",
       "\u001b[2;32m│   \u001b[0m\u001b[32m'last_utterance'\u001b[0m: \u001b[1m{\u001b[0m\n",
       "\u001b[2;32m│   │   \u001b[0m\u001b[32m'id'\u001b[0m: \u001b[32m'cyy9qqc'\u001b[0m,\n",
       "\u001b[2;32m│   │   \u001b[0m\u001b[32m'userid'\u001b[0m: \u001b[32m'Targren'\u001b[0m,\n",
       "\u001b[2;32m│   │   \u001b[0m\u001b[32m'text'\u001b[0m: \u001b[32m\"You used wikipedia as a reference, and then asserted wikipedia's bias when what was found there was used against you.  Whether or not what the other poster said was accurate, you tried to discredit your own reference. \"\u001b[0m,\n",
       "\u001b[2;32m│   │   \u001b[0m\u001b[32m'timestamp'\u001b[0m: \u001b[1;36m1452800433\u001b[0m\n",
       "\u001b[2;32m│   \u001b[0m\u001b[1m}\u001b[0m,\n",
       "\u001b[2;32m│   \u001b[0m\u001b[32m'split'\u001b[0m: \u001b[32m'train'\u001b[0m\n",
       "\u001b[1m}\u001b[0m\n"
      ]
     },
     "metadata": {},
     "output_type": "display_data"
    },
    {
     "name": "stdout",
     "output_type": "stream",
     "text": [
      "Sample 54:\n"
     ]
    },
    {
     "data": {
      "text/html": [
       "<pre style=\"white-space:pre;overflow-x:auto;line-height:normal;font-family:Menlo,'DejaVu Sans Mono',consolas,'Courier New',monospace\"><span style=\"font-weight: bold\">{</span>\n",
       "<span style=\"color: #7fbf7f; text-decoration-color: #7fbf7f\">│   </span><span style=\"color: #008000; text-decoration-color: #008000\">'statement'</span>: <span style=\"color: #008000; text-decoration-color: #008000\">'The US should ally with Iran and dump both Saudi Arabia and Israel'</span>,\n",
       "<span style=\"color: #7fbf7f; text-decoration-color: #7fbf7f\">│   </span><span style=\"color: #008000; text-decoration-color: #008000\">'submission_id'</span>: <span style=\"color: #008000; text-decoration-color: #008000\">'41f0c8'</span>,\n",
       "<span style=\"color: #7fbf7f; text-decoration-color: #7fbf7f\">│   </span><span style=\"color: #008000; text-decoration-color: #008000\">'penultimate_utterance'</span>: <span style=\"font-weight: bold\">{</span>\n",
       "<span style=\"color: #7fbf7f; text-decoration-color: #7fbf7f\">│   │   </span><span style=\"color: #008000; text-decoration-color: #008000\">'id'</span>: <span style=\"color: #008000; text-decoration-color: #008000\">'cz20djk'</span>,\n",
       "<span style=\"color: #7fbf7f; text-decoration-color: #7fbf7f\">│   │   </span><span style=\"color: #008000; text-decoration-color: #008000\">'userid'</span>: <span style=\"color: #008000; text-decoration-color: #008000\">'agfa12'</span>,\n",
       "<span style=\"color: #7fbf7f; text-decoration-color: #7fbf7f\">│   │   </span><span style=\"color: #008000; text-decoration-color: #008000\">'text'</span>: <span style=\"color: #008000; text-decoration-color: #008000\">\"&gt;  regardless of who started it\\n\\nThat's actually kinda a big deal to be glossing over.\"</span>,\n",
       "<span style=\"color: #7fbf7f; text-decoration-color: #7fbf7f\">│   │   </span><span style=\"color: #008000; text-decoration-color: #008000\">'timestamp'</span>: <span style=\"color: #008080; text-decoration-color: #008080; font-weight: bold\">1453070701</span>\n",
       "<span style=\"color: #7fbf7f; text-decoration-color: #7fbf7f\">│   </span><span style=\"font-weight: bold\">}</span>,\n",
       "<span style=\"color: #7fbf7f; text-decoration-color: #7fbf7f\">│   </span><span style=\"color: #008000; text-decoration-color: #008000\">'last_utterance'</span>: <span style=\"font-weight: bold\">{</span>\n",
       "<span style=\"color: #7fbf7f; text-decoration-color: #7fbf7f\">│   │   </span><span style=\"color: #008000; text-decoration-color: #008000\">'id'</span>: <span style=\"color: #008000; text-decoration-color: #008000\">'cz21oe9'</span>,\n",
       "<span style=\"color: #7fbf7f; text-decoration-color: #7fbf7f\">│   │   </span><span style=\"color: #008000; text-decoration-color: #008000\">'userid'</span>: <span style=\"color: #008000; text-decoration-color: #008000\">'FlyingFoxOfTheYard_'</span>,\n",
       "<span style=\"color: #7fbf7f; text-decoration-color: #7fbf7f\">│   │   </span><span style=\"color: #008000; text-decoration-color: #008000\">'text'</span>: <span style=\"color: #008000; text-decoration-color: #008000\">\"I'm not glossing over it. They didn't start it, but you don't have to start a war to go to war. That's why I mentioned the Iran-Iraq war in the first place, since it directly contradicts your point. You also didn't really respond to my other point about allying not being very feasible for either side.\"</span>,\n",
       "<span style=\"color: #7fbf7f; text-decoration-color: #7fbf7f\">│   │   </span><span style=\"color: #008000; text-decoration-color: #008000\">'timestamp'</span>: <span style=\"color: #008080; text-decoration-color: #008080; font-weight: bold\">1453072743</span>\n",
       "<span style=\"color: #7fbf7f; text-decoration-color: #7fbf7f\">│   </span><span style=\"font-weight: bold\">}</span>,\n",
       "<span style=\"color: #7fbf7f; text-decoration-color: #7fbf7f\">│   </span><span style=\"color: #008000; text-decoration-color: #008000\">'split'</span>: <span style=\"color: #008000; text-decoration-color: #008000\">'train'</span>\n",
       "<span style=\"font-weight: bold\">}</span>\n",
       "</pre>\n"
      ],
      "text/plain": [
       "\u001b[1m{\u001b[0m\n",
       "\u001b[2;32m│   \u001b[0m\u001b[32m'statement'\u001b[0m: \u001b[32m'The US should ally with Iran and dump both Saudi Arabia and Israel'\u001b[0m,\n",
       "\u001b[2;32m│   \u001b[0m\u001b[32m'submission_id'\u001b[0m: \u001b[32m'41f0c8'\u001b[0m,\n",
       "\u001b[2;32m│   \u001b[0m\u001b[32m'penultimate_utterance'\u001b[0m: \u001b[1m{\u001b[0m\n",
       "\u001b[2;32m│   │   \u001b[0m\u001b[32m'id'\u001b[0m: \u001b[32m'cz20djk'\u001b[0m,\n",
       "\u001b[2;32m│   │   \u001b[0m\u001b[32m'userid'\u001b[0m: \u001b[32m'agfa12'\u001b[0m,\n",
       "\u001b[2;32m│   │   \u001b[0m\u001b[32m'text'\u001b[0m: \u001b[32m\">  regardless of who started it\\n\\nThat's actually kinda a big deal to be glossing over.\"\u001b[0m,\n",
       "\u001b[2;32m│   │   \u001b[0m\u001b[32m'timestamp'\u001b[0m: \u001b[1;36m1453070701\u001b[0m\n",
       "\u001b[2;32m│   \u001b[0m\u001b[1m}\u001b[0m,\n",
       "\u001b[2;32m│   \u001b[0m\u001b[32m'last_utterance'\u001b[0m: \u001b[1m{\u001b[0m\n",
       "\u001b[2;32m│   │   \u001b[0m\u001b[32m'id'\u001b[0m: \u001b[32m'cz21oe9'\u001b[0m,\n",
       "\u001b[2;32m│   │   \u001b[0m\u001b[32m'userid'\u001b[0m: \u001b[32m'FlyingFoxOfTheYard_'\u001b[0m,\n",
       "\u001b[2;32m│   │   \u001b[0m\u001b[32m'text'\u001b[0m: \u001b[32m\"I'm not glossing over it. They didn't start it, but you don't have to start a war to go to war. That's why I mentioned the Iran-Iraq war in the first place, since it directly contradicts your point. You also didn't really respond to my other point about allying not being very feasible for either side.\"\u001b[0m,\n",
       "\u001b[2;32m│   │   \u001b[0m\u001b[32m'timestamp'\u001b[0m: \u001b[1;36m1453072743\u001b[0m\n",
       "\u001b[2;32m│   \u001b[0m\u001b[1m}\u001b[0m,\n",
       "\u001b[2;32m│   \u001b[0m\u001b[32m'split'\u001b[0m: \u001b[32m'train'\u001b[0m\n",
       "\u001b[1m}\u001b[0m\n"
      ]
     },
     "metadata": {},
     "output_type": "display_data"
    },
    {
     "name": "stdout",
     "output_type": "stream",
     "text": [
      "Sample 55:\n"
     ]
    },
    {
     "data": {
      "text/html": [
       "<pre style=\"white-space:pre;overflow-x:auto;line-height:normal;font-family:Menlo,'DejaVu Sans Mono',consolas,'Courier New',monospace\"><span style=\"font-weight: bold\">{</span>\n",
       "<span style=\"color: #7fbf7f; text-decoration-color: #7fbf7f\">│   </span><span style=\"color: #008000; text-decoration-color: #008000\">'statement'</span>: <span style=\"color: #008000; text-decoration-color: #008000\">'The US should ally with Iran and dump both Saudi Arabia and Israel'</span>,\n",
       "<span style=\"color: #7fbf7f; text-decoration-color: #7fbf7f\">│   </span><span style=\"color: #008000; text-decoration-color: #008000\">'submission_id'</span>: <span style=\"color: #008000; text-decoration-color: #008000\">'41f0c8'</span>,\n",
       "<span style=\"color: #7fbf7f; text-decoration-color: #7fbf7f\">│   </span><span style=\"color: #008000; text-decoration-color: #008000\">'penultimate_utterance'</span>: <span style=\"font-weight: bold\">{</span>\n",
       "<span style=\"color: #7fbf7f; text-decoration-color: #7fbf7f\">│   │   </span><span style=\"color: #008000; text-decoration-color: #008000\">'id'</span>: <span style=\"color: #008000; text-decoration-color: #008000\">'cz282mv'</span>,\n",
       "<span style=\"color: #7fbf7f; text-decoration-color: #7fbf7f\">│   │   </span><span style=\"color: #008000; text-decoration-color: #008000\">'userid'</span>: <span style=\"color: #008000; text-decoration-color: #008000\">'vancooldude'</span>,\n",
       "<span style=\"color: #7fbf7f; text-decoration-color: #7fbf7f\">│   │   </span><span style=\"color: #008000; text-decoration-color: #008000\">'text'</span>: <span style=\"color: #008000; text-decoration-color: #008000\">'OP clearly has a political agenda he is desperately trying to push ie. Israel and KSA are bad therefore Iran should become a US ally. What a joke.'</span>,\n",
       "<span style=\"color: #7fbf7f; text-decoration-color: #7fbf7f\">│   │   </span><span style=\"color: #008000; text-decoration-color: #008000\">'timestamp'</span>: <span style=\"color: #008080; text-decoration-color: #008080; font-weight: bold\">1453083004</span>\n",
       "<span style=\"color: #7fbf7f; text-decoration-color: #7fbf7f\">│   </span><span style=\"font-weight: bold\">}</span>,\n",
       "<span style=\"color: #7fbf7f; text-decoration-color: #7fbf7f\">│   </span><span style=\"color: #008000; text-decoration-color: #008000\">'last_utterance'</span>: <span style=\"font-weight: bold\">{</span>\n",
       "<span style=\"color: #7fbf7f; text-decoration-color: #7fbf7f\">│   │   </span><span style=\"color: #008000; text-decoration-color: #008000\">'id'</span>: <span style=\"color: #008000; text-decoration-color: #008000\">'cz287ai'</span>,\n",
       "<span style=\"color: #7fbf7f; text-decoration-color: #7fbf7f\">│   │   </span><span style=\"color: #008000; text-decoration-color: #008000\">'userid'</span>: <span style=\"color: #008000; text-decoration-color: #008000\">'agfa12'</span>,\n",
       "<span style=\"color: #7fbf7f; text-decoration-color: #7fbf7f\">│   │   </span><span style=\"color: #008000; text-decoration-color: #008000\">'text'</span>: <span style=\"color: #008000; text-decoration-color: #008000\">'OP has cited multiple sources to support his position that US alliances with Israel and the Saudis is indeed bad for the US, and would be significantly improved by engaging with Iran.\\n\\n'</span>,\n",
       "<span style=\"color: #7fbf7f; text-decoration-color: #7fbf7f\">│   │   </span><span style=\"color: #008000; text-decoration-color: #008000\">'timestamp'</span>: <span style=\"color: #008080; text-decoration-color: #008080; font-weight: bold\">1453083221</span>\n",
       "<span style=\"color: #7fbf7f; text-decoration-color: #7fbf7f\">│   </span><span style=\"font-weight: bold\">}</span>,\n",
       "<span style=\"color: #7fbf7f; text-decoration-color: #7fbf7f\">│   </span><span style=\"color: #008000; text-decoration-color: #008000\">'split'</span>: <span style=\"color: #008000; text-decoration-color: #008000\">'train'</span>\n",
       "<span style=\"font-weight: bold\">}</span>\n",
       "</pre>\n"
      ],
      "text/plain": [
       "\u001b[1m{\u001b[0m\n",
       "\u001b[2;32m│   \u001b[0m\u001b[32m'statement'\u001b[0m: \u001b[32m'The US should ally with Iran and dump both Saudi Arabia and Israel'\u001b[0m,\n",
       "\u001b[2;32m│   \u001b[0m\u001b[32m'submission_id'\u001b[0m: \u001b[32m'41f0c8'\u001b[0m,\n",
       "\u001b[2;32m│   \u001b[0m\u001b[32m'penultimate_utterance'\u001b[0m: \u001b[1m{\u001b[0m\n",
       "\u001b[2;32m│   │   \u001b[0m\u001b[32m'id'\u001b[0m: \u001b[32m'cz282mv'\u001b[0m,\n",
       "\u001b[2;32m│   │   \u001b[0m\u001b[32m'userid'\u001b[0m: \u001b[32m'vancooldude'\u001b[0m,\n",
       "\u001b[2;32m│   │   \u001b[0m\u001b[32m'text'\u001b[0m: \u001b[32m'OP clearly has a political agenda he is desperately trying to push ie. Israel and KSA are bad therefore Iran should become a US ally. What a joke.'\u001b[0m,\n",
       "\u001b[2;32m│   │   \u001b[0m\u001b[32m'timestamp'\u001b[0m: \u001b[1;36m1453083004\u001b[0m\n",
       "\u001b[2;32m│   \u001b[0m\u001b[1m}\u001b[0m,\n",
       "\u001b[2;32m│   \u001b[0m\u001b[32m'last_utterance'\u001b[0m: \u001b[1m{\u001b[0m\n",
       "\u001b[2;32m│   │   \u001b[0m\u001b[32m'id'\u001b[0m: \u001b[32m'cz287ai'\u001b[0m,\n",
       "\u001b[2;32m│   │   \u001b[0m\u001b[32m'userid'\u001b[0m: \u001b[32m'agfa12'\u001b[0m,\n",
       "\u001b[2;32m│   │   \u001b[0m\u001b[32m'text'\u001b[0m: \u001b[32m'OP has cited multiple sources to support his position that US alliances with Israel and the Saudis is indeed bad for the US, and would be significantly improved by engaging with Iran.\\n\\n'\u001b[0m,\n",
       "\u001b[2;32m│   │   \u001b[0m\u001b[32m'timestamp'\u001b[0m: \u001b[1;36m1453083221\u001b[0m\n",
       "\u001b[2;32m│   \u001b[0m\u001b[1m}\u001b[0m,\n",
       "\u001b[2;32m│   \u001b[0m\u001b[32m'split'\u001b[0m: \u001b[32m'train'\u001b[0m\n",
       "\u001b[1m}\u001b[0m\n"
      ]
     },
     "metadata": {},
     "output_type": "display_data"
    },
    {
     "name": "stdout",
     "output_type": "stream",
     "text": [
      "Sample 56:\n"
     ]
    },
    {
     "data": {
      "text/html": [
       "<pre style=\"white-space:pre;overflow-x:auto;line-height:normal;font-family:Menlo,'DejaVu Sans Mono',consolas,'Courier New',monospace\"><span style=\"font-weight: bold\">{</span>\n",
       "<span style=\"color: #7fbf7f; text-decoration-color: #7fbf7f\">│   </span><span style=\"color: #008000; text-decoration-color: #008000\">'statement'</span>: <span style=\"color: #008000; text-decoration-color: #008000\">'I would have rather been a woman than a man in the early 1900s'</span>,\n",
       "<span style=\"color: #7fbf7f; text-decoration-color: #7fbf7f\">│   </span><span style=\"color: #008000; text-decoration-color: #008000\">'submission_id'</span>: <span style=\"color: #008000; text-decoration-color: #008000\">'41hh1n'</span>,\n",
       "<span style=\"color: #7fbf7f; text-decoration-color: #7fbf7f\">│   </span><span style=\"color: #008000; text-decoration-color: #008000\">'penultimate_utterance'</span>: <span style=\"font-weight: bold\">{</span>\n",
       "<span style=\"color: #7fbf7f; text-decoration-color: #7fbf7f\">│   │   </span><span style=\"color: #008000; text-decoration-color: #008000\">'id'</span>: <span style=\"color: #008000; text-decoration-color: #008000\">'cz2jqct'</span>,\n",
       "<span style=\"color: #7fbf7f; text-decoration-color: #7fbf7f\">│   │   </span><span style=\"color: #008000; text-decoration-color: #008000\">'userid'</span>: <span style=\"color: #008000; text-decoration-color: #008000\">'zans9'</span>,\n",
       "<span style=\"color: #7fbf7f; text-decoration-color: #7fbf7f\">│   │   </span><span style=\"color: #008000; text-decoration-color: #008000\">'text'</span>: <span style=\"color: #008000; text-decoration-color: #008000\">\"I AM NOT SAYING IT WAS A WALK IN THE PARK FOR WOMEN. MOST MEN DIDN'T HIT THEIR WIVES\"</span>,\n",
       "<span style=\"color: #7fbf7f; text-decoration-color: #7fbf7f\">│   │   </span><span style=\"color: #008000; text-decoration-color: #008000\">'timestamp'</span>: <span style=\"color: #008080; text-decoration-color: #008080; font-weight: bold\">1453107908</span>\n",
       "<span style=\"color: #7fbf7f; text-decoration-color: #7fbf7f\">│   </span><span style=\"font-weight: bold\">}</span>,\n",
       "<span style=\"color: #7fbf7f; text-decoration-color: #7fbf7f\">│   </span><span style=\"color: #008000; text-decoration-color: #008000\">'last_utterance'</span>: <span style=\"font-weight: bold\">{</span>\n",
       "<span style=\"color: #7fbf7f; text-decoration-color: #7fbf7f\">│   │   </span><span style=\"color: #008000; text-decoration-color: #008000\">'id'</span>: <span style=\"color: #008000; text-decoration-color: #008000\">'cz2jthk'</span>,\n",
       "<span style=\"color: #7fbf7f; text-decoration-color: #7fbf7f\">│   │   </span><span style=\"color: #008000; text-decoration-color: #008000\">'userid'</span>: <span style=\"color: #008000; text-decoration-color: #008000\">'forestfly1234'</span>,\n",
       "<span style=\"color: #7fbf7f; text-decoration-color: #7fbf7f\">│   │   </span><span style=\"color: #008000; text-decoration-color: #008000\">'text'</span>: <span style=\"color: #008000; text-decoration-color: #008000\">\"This is waste of my time and everyone else's time. \\n\\nYou seem to not be here in an attempt to get your view changed. You just want to cherry pick what data is important to you. Which is making this entire enterprise pointless. \\n\\nI'm not going to waste any more time with you, nor should anyone else. \"</span>,\n",
       "<span style=\"color: #7fbf7f; text-decoration-color: #7fbf7f\">│   │   </span><span style=\"color: #008000; text-decoration-color: #008000\">'timestamp'</span>: <span style=\"color: #008080; text-decoration-color: #008080; font-weight: bold\">1453108239</span>\n",
       "<span style=\"color: #7fbf7f; text-decoration-color: #7fbf7f\">│   </span><span style=\"font-weight: bold\">}</span>,\n",
       "<span style=\"color: #7fbf7f; text-decoration-color: #7fbf7f\">│   </span><span style=\"color: #008000; text-decoration-color: #008000\">'split'</span>: <span style=\"color: #008000; text-decoration-color: #008000\">'train'</span>\n",
       "<span style=\"font-weight: bold\">}</span>\n",
       "</pre>\n"
      ],
      "text/plain": [
       "\u001b[1m{\u001b[0m\n",
       "\u001b[2;32m│   \u001b[0m\u001b[32m'statement'\u001b[0m: \u001b[32m'I would have rather been a woman than a man in the early 1900s'\u001b[0m,\n",
       "\u001b[2;32m│   \u001b[0m\u001b[32m'submission_id'\u001b[0m: \u001b[32m'41hh1n'\u001b[0m,\n",
       "\u001b[2;32m│   \u001b[0m\u001b[32m'penultimate_utterance'\u001b[0m: \u001b[1m{\u001b[0m\n",
       "\u001b[2;32m│   │   \u001b[0m\u001b[32m'id'\u001b[0m: \u001b[32m'cz2jqct'\u001b[0m,\n",
       "\u001b[2;32m│   │   \u001b[0m\u001b[32m'userid'\u001b[0m: \u001b[32m'zans9'\u001b[0m,\n",
       "\u001b[2;32m│   │   \u001b[0m\u001b[32m'text'\u001b[0m: \u001b[32m\"I AM NOT SAYING IT WAS A WALK IN THE PARK FOR WOMEN. MOST MEN DIDN'T HIT THEIR WIVES\"\u001b[0m,\n",
       "\u001b[2;32m│   │   \u001b[0m\u001b[32m'timestamp'\u001b[0m: \u001b[1;36m1453107908\u001b[0m\n",
       "\u001b[2;32m│   \u001b[0m\u001b[1m}\u001b[0m,\n",
       "\u001b[2;32m│   \u001b[0m\u001b[32m'last_utterance'\u001b[0m: \u001b[1m{\u001b[0m\n",
       "\u001b[2;32m│   │   \u001b[0m\u001b[32m'id'\u001b[0m: \u001b[32m'cz2jthk'\u001b[0m,\n",
       "\u001b[2;32m│   │   \u001b[0m\u001b[32m'userid'\u001b[0m: \u001b[32m'forestfly1234'\u001b[0m,\n",
       "\u001b[2;32m│   │   \u001b[0m\u001b[32m'text'\u001b[0m: \u001b[32m\"This is waste of my time and everyone else's time. \\n\\nYou seem to not be here in an attempt to get your view changed. You just want to cherry pick what data is important to you. Which is making this entire enterprise pointless. \\n\\nI'm not going to waste any more time with you, nor should anyone else. \"\u001b[0m,\n",
       "\u001b[2;32m│   │   \u001b[0m\u001b[32m'timestamp'\u001b[0m: \u001b[1;36m1453108239\u001b[0m\n",
       "\u001b[2;32m│   \u001b[0m\u001b[1m}\u001b[0m,\n",
       "\u001b[2;32m│   \u001b[0m\u001b[32m'split'\u001b[0m: \u001b[32m'train'\u001b[0m\n",
       "\u001b[1m}\u001b[0m\n"
      ]
     },
     "metadata": {},
     "output_type": "display_data"
    },
    {
     "name": "stdout",
     "output_type": "stream",
     "text": [
      "Sample 57:\n"
     ]
    },
    {
     "data": {
      "text/html": [
       "<pre style=\"white-space:pre;overflow-x:auto;line-height:normal;font-family:Menlo,'DejaVu Sans Mono',consolas,'Courier New',monospace\"><span style=\"font-weight: bold\">{</span>\n",
       "<span style=\"color: #7fbf7f; text-decoration-color: #7fbf7f\">│   </span><span style=\"color: #008000; text-decoration-color: #008000\">'statement'</span>: <span style=\"color: #008000; text-decoration-color: #008000\">'You are self-righteous if you have gone your whole life without having any of your views changed as the result of a discussion or argument.'</span>,\n",
       "<span style=\"color: #7fbf7f; text-decoration-color: #7fbf7f\">│   </span><span style=\"color: #008000; text-decoration-color: #008000\">'submission_id'</span>: <span style=\"color: #008000; text-decoration-color: #008000\">'42ibq2'</span>,\n",
       "<span style=\"color: #7fbf7f; text-decoration-color: #7fbf7f\">│   </span><span style=\"color: #008000; text-decoration-color: #008000\">'penultimate_utterance'</span>: <span style=\"font-weight: bold\">{</span>\n",
       "<span style=\"color: #7fbf7f; text-decoration-color: #7fbf7f\">│   │   </span><span style=\"color: #008000; text-decoration-color: #008000\">'id'</span>: <span style=\"color: #008000; text-decoration-color: #008000\">'czarxsr'</span>,\n",
       "<span style=\"color: #7fbf7f; text-decoration-color: #7fbf7f\">│   │   </span><span style=\"color: #008000; text-decoration-color: #008000\">'userid'</span>: <span style=\"color: #008000; text-decoration-color: #008000\">'Slavoj_CK'</span>,\n",
       "<span style=\"color: #7fbf7f; text-decoration-color: #7fbf7f\">│   │   </span><span style=\"color: #008000; text-decoration-color: #008000\">'text'</span>: <span style=\"color: #008000; text-decoration-color: #008000\">\"I find that highly unlikely tbh. I don't think there's anyone who doesn't hold at least *some* views that are based in ignorance, and never educate themselves on those issues.\\n\\nAt the same time, it could be that the same person doesn't change their views in discussions, not out of self-righteousness, but out of culturally ingrained ideology.\"</span>,\n",
       "<span style=\"color: #7fbf7f; text-decoration-color: #7fbf7f\">│   │   </span><span style=\"color: #008000; text-decoration-color: #008000\">'timestamp'</span>: <span style=\"color: #008080; text-decoration-color: #008080; font-weight: bold\">1453689772</span>\n",
       "<span style=\"color: #7fbf7f; text-decoration-color: #7fbf7f\">│   </span><span style=\"font-weight: bold\">}</span>,\n",
       "<span style=\"color: #7fbf7f; text-decoration-color: #7fbf7f\">│   </span><span style=\"color: #008000; text-decoration-color: #008000\">'last_utterance'</span>: <span style=\"font-weight: bold\">{</span>\n",
       "<span style=\"color: #7fbf7f; text-decoration-color: #7fbf7f\">│   │   </span><span style=\"color: #008000; text-decoration-color: #008000\">'id'</span>: <span style=\"color: #008000; text-decoration-color: #008000\">'czaxoq2'</span>,\n",
       "<span style=\"color: #7fbf7f; text-decoration-color: #7fbf7f\">│   │   </span><span style=\"color: #008000; text-decoration-color: #008000\">'userid'</span>: <span style=\"color: #008000; text-decoration-color: #008000\">'Toe-naily'</span>,\n",
       "<span style=\"color: #7fbf7f; text-decoration-color: #7fbf7f\">│   │   </span><span style=\"color: #008000; text-decoration-color: #008000\">'text'</span>: <span style=\"color: #008000; text-decoration-color: #008000\">\"I think it really depends on the person. I don't find it highly unlikely that there are individuals who don't like arguing for whatever reason, and seek to form a well-developed opinion by themselves. I just don't think I've run into anyone like that.\\n\\nI would agree that some may refuse to change their views out of ideology, but I don't think every single one of their views would be based on that. I could be wrong.\"</span>,\n",
       "<span style=\"color: #7fbf7f; text-decoration-color: #7fbf7f\">│   │   </span><span style=\"color: #008000; text-decoration-color: #008000\">'timestamp'</span>: <span style=\"color: #008080; text-decoration-color: #008080; font-weight: bold\">1453699268</span>\n",
       "<span style=\"color: #7fbf7f; text-decoration-color: #7fbf7f\">│   </span><span style=\"font-weight: bold\">}</span>,\n",
       "<span style=\"color: #7fbf7f; text-decoration-color: #7fbf7f\">│   </span><span style=\"color: #008000; text-decoration-color: #008000\">'split'</span>: <span style=\"color: #008000; text-decoration-color: #008000\">'train'</span>\n",
       "<span style=\"font-weight: bold\">}</span>\n",
       "</pre>\n"
      ],
      "text/plain": [
       "\u001b[1m{\u001b[0m\n",
       "\u001b[2;32m│   \u001b[0m\u001b[32m'statement'\u001b[0m: \u001b[32m'You are self-righteous if you have gone your whole life without having any of your views changed as the result of a discussion or argument.'\u001b[0m,\n",
       "\u001b[2;32m│   \u001b[0m\u001b[32m'submission_id'\u001b[0m: \u001b[32m'42ibq2'\u001b[0m,\n",
       "\u001b[2;32m│   \u001b[0m\u001b[32m'penultimate_utterance'\u001b[0m: \u001b[1m{\u001b[0m\n",
       "\u001b[2;32m│   │   \u001b[0m\u001b[32m'id'\u001b[0m: \u001b[32m'czarxsr'\u001b[0m,\n",
       "\u001b[2;32m│   │   \u001b[0m\u001b[32m'userid'\u001b[0m: \u001b[32m'Slavoj_CK'\u001b[0m,\n",
       "\u001b[2;32m│   │   \u001b[0m\u001b[32m'text'\u001b[0m: \u001b[32m\"I find that highly unlikely tbh. I don't think there's anyone who doesn't hold at least *some* views that are based in ignorance, and never educate themselves on those issues.\\n\\nAt the same time, it could be that the same person doesn't change their views in discussions, not out of self-righteousness, but out of culturally ingrained ideology.\"\u001b[0m,\n",
       "\u001b[2;32m│   │   \u001b[0m\u001b[32m'timestamp'\u001b[0m: \u001b[1;36m1453689772\u001b[0m\n",
       "\u001b[2;32m│   \u001b[0m\u001b[1m}\u001b[0m,\n",
       "\u001b[2;32m│   \u001b[0m\u001b[32m'last_utterance'\u001b[0m: \u001b[1m{\u001b[0m\n",
       "\u001b[2;32m│   │   \u001b[0m\u001b[32m'id'\u001b[0m: \u001b[32m'czaxoq2'\u001b[0m,\n",
       "\u001b[2;32m│   │   \u001b[0m\u001b[32m'userid'\u001b[0m: \u001b[32m'Toe-naily'\u001b[0m,\n",
       "\u001b[2;32m│   │   \u001b[0m\u001b[32m'text'\u001b[0m: \u001b[32m\"I think it really depends on the person. I don't find it highly unlikely that there are individuals who don't like arguing for whatever reason, and seek to form a well-developed opinion by themselves. I just don't think I've run into anyone like that.\\n\\nI would agree that some may refuse to change their views out of ideology, but I don't think every single one of their views would be based on that. I could be wrong.\"\u001b[0m,\n",
       "\u001b[2;32m│   │   \u001b[0m\u001b[32m'timestamp'\u001b[0m: \u001b[1;36m1453699268\u001b[0m\n",
       "\u001b[2;32m│   \u001b[0m\u001b[1m}\u001b[0m,\n",
       "\u001b[2;32m│   \u001b[0m\u001b[32m'split'\u001b[0m: \u001b[32m'train'\u001b[0m\n",
       "\u001b[1m}\u001b[0m\n"
      ]
     },
     "metadata": {},
     "output_type": "display_data"
    },
    {
     "name": "stdout",
     "output_type": "stream",
     "text": [
      "Sample 58:\n"
     ]
    },
    {
     "data": {
      "text/html": [
       "<pre style=\"white-space:pre;overflow-x:auto;line-height:normal;font-family:Menlo,'DejaVu Sans Mono',consolas,'Courier New',monospace\"><span style=\"font-weight: bold\">{</span>\n",
       "<span style=\"color: #7fbf7f; text-decoration-color: #7fbf7f\">│   </span><span style=\"color: #008000; text-decoration-color: #008000\">'statement'</span>: <span style=\"color: #008000; text-decoration-color: #008000\">'\"Rape Culture\" could be renamed as \"Asshole Culture\" and be far more helpful at identifying our society\\'s issues at large. (Long)'</span>,\n",
       "<span style=\"color: #7fbf7f; text-decoration-color: #7fbf7f\">│   </span><span style=\"color: #008000; text-decoration-color: #008000\">'submission_id'</span>: <span style=\"color: #008000; text-decoration-color: #008000\">'42mm5t'</span>,\n",
       "<span style=\"color: #7fbf7f; text-decoration-color: #7fbf7f\">│   </span><span style=\"color: #008000; text-decoration-color: #008000\">'penultimate_utterance'</span>: <span style=\"font-weight: bold\">{</span>\n",
       "<span style=\"color: #7fbf7f; text-decoration-color: #7fbf7f\">│   │   </span><span style=\"color: #008000; text-decoration-color: #008000\">'id'</span>: <span style=\"color: #008000; text-decoration-color: #008000\">'czc9rfl'</span>,\n",
       "<span style=\"color: #7fbf7f; text-decoration-color: #7fbf7f\">│   │   </span><span style=\"color: #008000; text-decoration-color: #008000\">'userid'</span>: <span style=\"color: #008000; text-decoration-color: #008000\">'stanhhh'</span>,\n",
       "<span style=\"color: #7fbf7f; text-decoration-color: #7fbf7f\">│   │   </span><span style=\"color: #008000; text-decoration-color: #008000\">'text'</span>: <span style=\"color: #008000; text-decoration-color: #008000\">\"So you decided, without any reason, to believe that these women physically assault these men in response to a physical assault by the men first, right? That's a very damn weird and biased thing to do. \\r\\n\\r\\n\"</span>,\n",
       "<span style=\"color: #7fbf7f; text-decoration-color: #7fbf7f\">│   │   </span><span style=\"color: #008000; text-decoration-color: #008000\">'timestamp'</span>: <span style=\"color: #008080; text-decoration-color: #008080; font-weight: bold\">1453789565</span>\n",
       "<span style=\"color: #7fbf7f; text-decoration-color: #7fbf7f\">│   </span><span style=\"font-weight: bold\">}</span>,\n",
       "<span style=\"color: #7fbf7f; text-decoration-color: #7fbf7f\">│   </span><span style=\"color: #008000; text-decoration-color: #008000\">'last_utterance'</span>: <span style=\"font-weight: bold\">{</span>\n",
       "<span style=\"color: #7fbf7f; text-decoration-color: #7fbf7f\">│   │   </span><span style=\"color: #008000; text-decoration-color: #008000\">'id'</span>: <span style=\"color: #008000; text-decoration-color: #008000\">'czc9vdi'</span>,\n",
       "<span style=\"color: #7fbf7f; text-decoration-color: #7fbf7f\">│   │   </span><span style=\"color: #008000; text-decoration-color: #008000\">'userid'</span>: <span style=\"color: #008000; text-decoration-color: #008000\">'BobPlager'</span>,\n",
       "<span style=\"color: #7fbf7f; text-decoration-color: #7fbf7f\">│   │   </span><span style=\"color: #008000; text-decoration-color: #008000\">'text'</span>: <span style=\"color: #008000; text-decoration-color: #008000\">'No, never made that suggestion. Your original statement was a ridiculous generalization.'</span>,\n",
       "<span style=\"color: #7fbf7f; text-decoration-color: #7fbf7f\">│   │   </span><span style=\"color: #008000; text-decoration-color: #008000\">'timestamp'</span>: <span style=\"color: #008080; text-decoration-color: #008080; font-weight: bold\">1453789818</span>\n",
       "<span style=\"color: #7fbf7f; text-decoration-color: #7fbf7f\">│   </span><span style=\"font-weight: bold\">}</span>,\n",
       "<span style=\"color: #7fbf7f; text-decoration-color: #7fbf7f\">│   </span><span style=\"color: #008000; text-decoration-color: #008000\">'split'</span>: <span style=\"color: #008000; text-decoration-color: #008000\">'train'</span>\n",
       "<span style=\"font-weight: bold\">}</span>\n",
       "</pre>\n"
      ],
      "text/plain": [
       "\u001b[1m{\u001b[0m\n",
       "\u001b[2;32m│   \u001b[0m\u001b[32m'statement'\u001b[0m: \u001b[32m'\"Rape Culture\" could be renamed as \"Asshole Culture\" and be far more helpful at identifying our society\\'s issues at large. \u001b[0m\u001b[32m(\u001b[0m\u001b[32mLong\u001b[0m\u001b[32m)\u001b[0m\u001b[32m'\u001b[0m,\n",
       "\u001b[2;32m│   \u001b[0m\u001b[32m'submission_id'\u001b[0m: \u001b[32m'42mm5t'\u001b[0m,\n",
       "\u001b[2;32m│   \u001b[0m\u001b[32m'penultimate_utterance'\u001b[0m: \u001b[1m{\u001b[0m\n",
       "\u001b[2;32m│   │   \u001b[0m\u001b[32m'id'\u001b[0m: \u001b[32m'czc9rfl'\u001b[0m,\n",
       "\u001b[2;32m│   │   \u001b[0m\u001b[32m'userid'\u001b[0m: \u001b[32m'stanhhh'\u001b[0m,\n",
       "\u001b[2;32m│   │   \u001b[0m\u001b[32m'text'\u001b[0m: \u001b[32m\"So you decided, without any reason, to believe that these women physically assault these men in response to a physical assault by the men first, right? That's a very damn weird and biased thing to do. \\r\\n\\r\\n\"\u001b[0m,\n",
       "\u001b[2;32m│   │   \u001b[0m\u001b[32m'timestamp'\u001b[0m: \u001b[1;36m1453789565\u001b[0m\n",
       "\u001b[2;32m│   \u001b[0m\u001b[1m}\u001b[0m,\n",
       "\u001b[2;32m│   \u001b[0m\u001b[32m'last_utterance'\u001b[0m: \u001b[1m{\u001b[0m\n",
       "\u001b[2;32m│   │   \u001b[0m\u001b[32m'id'\u001b[0m: \u001b[32m'czc9vdi'\u001b[0m,\n",
       "\u001b[2;32m│   │   \u001b[0m\u001b[32m'userid'\u001b[0m: \u001b[32m'BobPlager'\u001b[0m,\n",
       "\u001b[2;32m│   │   \u001b[0m\u001b[32m'text'\u001b[0m: \u001b[32m'No, never made that suggestion. Your original statement was a ridiculous generalization.'\u001b[0m,\n",
       "\u001b[2;32m│   │   \u001b[0m\u001b[32m'timestamp'\u001b[0m: \u001b[1;36m1453789818\u001b[0m\n",
       "\u001b[2;32m│   \u001b[0m\u001b[1m}\u001b[0m,\n",
       "\u001b[2;32m│   \u001b[0m\u001b[32m'split'\u001b[0m: \u001b[32m'train'\u001b[0m\n",
       "\u001b[1m}\u001b[0m\n"
      ]
     },
     "metadata": {},
     "output_type": "display_data"
    },
    {
     "name": "stdout",
     "output_type": "stream",
     "text": [
      "Sample 59:\n"
     ]
    },
    {
     "data": {
      "text/html": [
       "<pre style=\"white-space:pre;overflow-x:auto;line-height:normal;font-family:Menlo,'DejaVu Sans Mono',consolas,'Courier New',monospace\"><span style=\"font-weight: bold\">{</span>\n",
       "<span style=\"color: #7fbf7f; text-decoration-color: #7fbf7f\">│   </span><span style=\"color: #008000; text-decoration-color: #008000\">'statement'</span>: <span style=\"color: #008000; text-decoration-color: #008000\">'post-op transgender people should always inform new partners before engaging in sexual activities'</span>,\n",
       "<span style=\"color: #7fbf7f; text-decoration-color: #7fbf7f\">│   </span><span style=\"color: #008000; text-decoration-color: #008000\">'submission_id'</span>: <span style=\"color: #008000; text-decoration-color: #008000\">'434m3x'</span>,\n",
       "<span style=\"color: #7fbf7f; text-decoration-color: #7fbf7f\">│   </span><span style=\"color: #008000; text-decoration-color: #008000\">'penultimate_utterance'</span>: <span style=\"font-weight: bold\">{</span>\n",
       "<span style=\"color: #7fbf7f; text-decoration-color: #7fbf7f\">│   │   </span><span style=\"color: #008000; text-decoration-color: #008000\">'id'</span>: <span style=\"color: #008000; text-decoration-color: #008000\">'czfkp9k'</span>,\n",
       "<span style=\"color: #7fbf7f; text-decoration-color: #7fbf7f\">│   │   </span><span style=\"color: #008000; text-decoration-color: #008000\">'userid'</span>: <span style=\"color: #008000; text-decoration-color: #008000\">'watershot'</span>,\n",
       "<span style=\"color: #7fbf7f; text-decoration-color: #7fbf7f\">│   │   </span><span style=\"color: #008000; text-decoration-color: #008000\">'text'</span>: <span style=\"color: #008000; text-decoration-color: #008000\">\"I'm attracted to a sex, not a gender. none of the things you listed can be reasonably compared to transexuality, especially in the context of having sex.\"</span>,\n",
       "<span style=\"color: #7fbf7f; text-decoration-color: #7fbf7f\">│   │   </span><span style=\"color: #008000; text-decoration-color: #008000\">'timestamp'</span>: <span style=\"color: #008080; text-decoration-color: #008080; font-weight: bold\">1454014819</span>\n",
       "<span style=\"color: #7fbf7f; text-decoration-color: #7fbf7f\">│   </span><span style=\"font-weight: bold\">}</span>,\n",
       "<span style=\"color: #7fbf7f; text-decoration-color: #7fbf7f\">│   </span><span style=\"color: #008000; text-decoration-color: #008000\">'last_utterance'</span>: <span style=\"font-weight: bold\">{</span>\n",
       "<span style=\"color: #7fbf7f; text-decoration-color: #7fbf7f\">│   │   </span><span style=\"color: #008000; text-decoration-color: #008000\">'id'</span>: <span style=\"color: #008000; text-decoration-color: #008000\">'czfkuus'</span>,\n",
       "<span style=\"color: #7fbf7f; text-decoration-color: #7fbf7f\">│   │   </span><span style=\"color: #008000; text-decoration-color: #008000\">'userid'</span>: <span style=\"color: #008000; text-decoration-color: #008000\">'convoces'</span>,\n",
       "<span style=\"color: #7fbf7f; text-decoration-color: #7fbf7f\">│   │   </span><span style=\"color: #008000; text-decoration-color: #008000\">'text'</span>: <span style=\"color: #008000; text-decoration-color: #008000\">'Really?\\n\\nPlease, please honestly tell me you conduct a pre-intercourse scientific examination of \\n\\n1. Genitalia\\n2. Chromosomal makeup\\n4. Hormonal levels\\n\\nof every potential partner you meet before you have sex with them.\\n\\nThat would be truly, unfacetiously amazing.'</span>,\n",
       "<span style=\"color: #7fbf7f; text-decoration-color: #7fbf7f\">│   │   </span><span style=\"color: #008000; text-decoration-color: #008000\">'timestamp'</span>: <span style=\"color: #008080; text-decoration-color: #008080; font-weight: bold\">1454015026</span>\n",
       "<span style=\"color: #7fbf7f; text-decoration-color: #7fbf7f\">│   </span><span style=\"font-weight: bold\">}</span>,\n",
       "<span style=\"color: #7fbf7f; text-decoration-color: #7fbf7f\">│   </span><span style=\"color: #008000; text-decoration-color: #008000\">'split'</span>: <span style=\"color: #008000; text-decoration-color: #008000\">'train'</span>\n",
       "<span style=\"font-weight: bold\">}</span>\n",
       "</pre>\n"
      ],
      "text/plain": [
       "\u001b[1m{\u001b[0m\n",
       "\u001b[2;32m│   \u001b[0m\u001b[32m'statement'\u001b[0m: \u001b[32m'post-op transgender people should always inform new partners before engaging in sexual activities'\u001b[0m,\n",
       "\u001b[2;32m│   \u001b[0m\u001b[32m'submission_id'\u001b[0m: \u001b[32m'434m3x'\u001b[0m,\n",
       "\u001b[2;32m│   \u001b[0m\u001b[32m'penultimate_utterance'\u001b[0m: \u001b[1m{\u001b[0m\n",
       "\u001b[2;32m│   │   \u001b[0m\u001b[32m'id'\u001b[0m: \u001b[32m'czfkp9k'\u001b[0m,\n",
       "\u001b[2;32m│   │   \u001b[0m\u001b[32m'userid'\u001b[0m: \u001b[32m'watershot'\u001b[0m,\n",
       "\u001b[2;32m│   │   \u001b[0m\u001b[32m'text'\u001b[0m: \u001b[32m\"I'm attracted to a sex, not a gender. none of the things you listed can be reasonably compared to transexuality, especially in the context of having sex.\"\u001b[0m,\n",
       "\u001b[2;32m│   │   \u001b[0m\u001b[32m'timestamp'\u001b[0m: \u001b[1;36m1454014819\u001b[0m\n",
       "\u001b[2;32m│   \u001b[0m\u001b[1m}\u001b[0m,\n",
       "\u001b[2;32m│   \u001b[0m\u001b[32m'last_utterance'\u001b[0m: \u001b[1m{\u001b[0m\n",
       "\u001b[2;32m│   │   \u001b[0m\u001b[32m'id'\u001b[0m: \u001b[32m'czfkuus'\u001b[0m,\n",
       "\u001b[2;32m│   │   \u001b[0m\u001b[32m'userid'\u001b[0m: \u001b[32m'convoces'\u001b[0m,\n",
       "\u001b[2;32m│   │   \u001b[0m\u001b[32m'text'\u001b[0m: \u001b[32m'Really?\\n\\nPlease, please honestly tell me you conduct a pre-intercourse scientific examination of \\n\\n1. Genitalia\\n2. Chromosomal makeup\\n4. Hormonal levels\\n\\nof every potential partner you meet before you have sex with them.\\n\\nThat would be truly, unfacetiously amazing.'\u001b[0m,\n",
       "\u001b[2;32m│   │   \u001b[0m\u001b[32m'timestamp'\u001b[0m: \u001b[1;36m1454015026\u001b[0m\n",
       "\u001b[2;32m│   \u001b[0m\u001b[1m}\u001b[0m,\n",
       "\u001b[2;32m│   \u001b[0m\u001b[32m'split'\u001b[0m: \u001b[32m'train'\u001b[0m\n",
       "\u001b[1m}\u001b[0m\n"
      ]
     },
     "metadata": {},
     "output_type": "display_data"
    },
    {
     "name": "stdout",
     "output_type": "stream",
     "text": [
      "Sample 60:\n"
     ]
    },
    {
     "data": {
      "text/html": [
       "<pre style=\"white-space:pre;overflow-x:auto;line-height:normal;font-family:Menlo,'DejaVu Sans Mono',consolas,'Courier New',monospace\"><span style=\"font-weight: bold\">{</span>\n",
       "<span style=\"color: #7fbf7f; text-decoration-color: #7fbf7f\">│   </span><span style=\"color: #008000; text-decoration-color: #008000\">'statement'</span>: <span style=\"color: #008000; text-decoration-color: #008000\">\"Bernie cannot win if he can't get major endorsements like from HRC and NYTimes\"</span>,\n",
       "<span style=\"color: #7fbf7f; text-decoration-color: #7fbf7f\">│   </span><span style=\"color: #008000; text-decoration-color: #008000\">'submission_id'</span>: <span style=\"color: #008000; text-decoration-color: #008000\">'43hhm9'</span>,\n",
       "<span style=\"color: #7fbf7f; text-decoration-color: #7fbf7f\">│   </span><span style=\"color: #008000; text-decoration-color: #008000\">'penultimate_utterance'</span>: <span style=\"font-weight: bold\">{</span>\n",
       "<span style=\"color: #7fbf7f; text-decoration-color: #7fbf7f\">│   │   </span><span style=\"color: #008000; text-decoration-color: #008000\">'id'</span>: <span style=\"color: #008000; text-decoration-color: #008000\">'czj4o1x'</span>,\n",
       "<span style=\"color: #7fbf7f; text-decoration-color: #7fbf7f\">│   │   </span><span style=\"color: #008000; text-decoration-color: #008000\">'userid'</span>: <span style=\"color: #008000; text-decoration-color: #008000\">'HarryPotter5777'</span>,\n",
       "<span style=\"color: #7fbf7f; text-decoration-color: #7fbf7f\">│   │   </span><span style=\"color: #008000; text-decoration-color: #008000\">'text'</span>: <span style=\"color: #008000; text-decoration-color: #008000\">\"Bad wording there; I meant the candidates' political stances and policies. I'm not trying to uphold HRC as some paragon of virtue, and **I don't give two shits about the actual email scandal** here. It's not relevant to the point I'm making. It could have been an embarrassing Myspace post in 2004 or a mass murder; the point is, there was media attention centered around it already and Sanders' refusal to participate in the same discussions over and over again draws attention to him.\"</span>,\n",
       "<span style=\"color: #7fbf7f; text-decoration-color: #7fbf7f\">│   │   </span><span style=\"color: #008000; text-decoration-color: #008000\">'timestamp'</span>: <span style=\"color: #008080; text-decoration-color: #008080; font-weight: bold\">1454285693</span>\n",
       "<span style=\"color: #7fbf7f; text-decoration-color: #7fbf7f\">│   </span><span style=\"font-weight: bold\">}</span>,\n",
       "<span style=\"color: #7fbf7f; text-decoration-color: #7fbf7f\">│   </span><span style=\"color: #008000; text-decoration-color: #008000\">'last_utterance'</span>: <span style=\"font-weight: bold\">{</span>\n",
       "<span style=\"color: #7fbf7f; text-decoration-color: #7fbf7f\">│   │   </span><span style=\"color: #008000; text-decoration-color: #008000\">'id'</span>: <span style=\"color: #008000; text-decoration-color: #008000\">'czj5leb'</span>,\n",
       "<span style=\"color: #7fbf7f; text-decoration-color: #7fbf7f\">│   │   </span><span style=\"color: #008000; text-decoration-color: #008000\">'userid'</span>: <span style=\"color: #008000; text-decoration-color: #008000\">'Sonnington'</span>,\n",
       "<span style=\"color: #7fbf7f; text-decoration-color: #7fbf7f\">│   │   </span><span style=\"color: #008000; text-decoration-color: #008000\">'text'</span>: <span style=\"color: #008000; text-decoration-color: #008000\">\"Wow, you wouldn't care if Clinton was a mass murderer? You don't think that would be an issue?\"</span>,\n",
       "<span style=\"color: #7fbf7f; text-decoration-color: #7fbf7f\">│   │   </span><span style=\"color: #008000; text-decoration-color: #008000\">'timestamp'</span>: <span style=\"color: #008080; text-decoration-color: #008080; font-weight: bold\">1454287249</span>\n",
       "<span style=\"color: #7fbf7f; text-decoration-color: #7fbf7f\">│   </span><span style=\"font-weight: bold\">}</span>,\n",
       "<span style=\"color: #7fbf7f; text-decoration-color: #7fbf7f\">│   </span><span style=\"color: #008000; text-decoration-color: #008000\">'split'</span>: <span style=\"color: #008000; text-decoration-color: #008000\">'train'</span>\n",
       "<span style=\"font-weight: bold\">}</span>\n",
       "</pre>\n"
      ],
      "text/plain": [
       "\u001b[1m{\u001b[0m\n",
       "\u001b[2;32m│   \u001b[0m\u001b[32m'statement'\u001b[0m: \u001b[32m\"Bernie cannot win if he can't get major endorsements like from HRC and NYTimes\"\u001b[0m,\n",
       "\u001b[2;32m│   \u001b[0m\u001b[32m'submission_id'\u001b[0m: \u001b[32m'43hhm9'\u001b[0m,\n",
       "\u001b[2;32m│   \u001b[0m\u001b[32m'penultimate_utterance'\u001b[0m: \u001b[1m{\u001b[0m\n",
       "\u001b[2;32m│   │   \u001b[0m\u001b[32m'id'\u001b[0m: \u001b[32m'czj4o1x'\u001b[0m,\n",
       "\u001b[2;32m│   │   \u001b[0m\u001b[32m'userid'\u001b[0m: \u001b[32m'HarryPotter5777'\u001b[0m,\n",
       "\u001b[2;32m│   │   \u001b[0m\u001b[32m'text'\u001b[0m: \u001b[32m\"Bad wording there; I meant the candidates' political stances and policies. I'm not trying to uphold HRC as some paragon of virtue, and **I don't give two shits about the actual email scandal** here. It's not relevant to the point I'm making. It could have been an embarrassing Myspace post in 2004 or a mass murder; the point is, there was media attention centered around it already and Sanders' refusal to participate in the same discussions over and over again draws attention to him.\"\u001b[0m,\n",
       "\u001b[2;32m│   │   \u001b[0m\u001b[32m'timestamp'\u001b[0m: \u001b[1;36m1454285693\u001b[0m\n",
       "\u001b[2;32m│   \u001b[0m\u001b[1m}\u001b[0m,\n",
       "\u001b[2;32m│   \u001b[0m\u001b[32m'last_utterance'\u001b[0m: \u001b[1m{\u001b[0m\n",
       "\u001b[2;32m│   │   \u001b[0m\u001b[32m'id'\u001b[0m: \u001b[32m'czj5leb'\u001b[0m,\n",
       "\u001b[2;32m│   │   \u001b[0m\u001b[32m'userid'\u001b[0m: \u001b[32m'Sonnington'\u001b[0m,\n",
       "\u001b[2;32m│   │   \u001b[0m\u001b[32m'text'\u001b[0m: \u001b[32m\"Wow, you wouldn't care if Clinton was a mass murderer? You don't think that would be an issue?\"\u001b[0m,\n",
       "\u001b[2;32m│   │   \u001b[0m\u001b[32m'timestamp'\u001b[0m: \u001b[1;36m1454287249\u001b[0m\n",
       "\u001b[2;32m│   \u001b[0m\u001b[1m}\u001b[0m,\n",
       "\u001b[2;32m│   \u001b[0m\u001b[32m'split'\u001b[0m: \u001b[32m'train'\u001b[0m\n",
       "\u001b[1m}\u001b[0m\n"
      ]
     },
     "metadata": {},
     "output_type": "display_data"
    },
    {
     "name": "stdout",
     "output_type": "stream",
     "text": [
      "Sample 61:\n"
     ]
    },
    {
     "data": {
      "text/html": [
       "<pre style=\"white-space:pre;overflow-x:auto;line-height:normal;font-family:Menlo,'DejaVu Sans Mono',consolas,'Courier New',monospace\"><span style=\"font-weight: bold\">{</span>\n",
       "<span style=\"color: #7fbf7f; text-decoration-color: #7fbf7f\">│   </span><span style=\"color: #008000; text-decoration-color: #008000\">'statement'</span>: <span style=\"color: #008000; text-decoration-color: #008000\">'Implementing a Universal Basic Income (UBI) is crucial for the future of our country.'</span>,\n",
       "<span style=\"color: #7fbf7f; text-decoration-color: #7fbf7f\">│   </span><span style=\"color: #008000; text-decoration-color: #008000\">'submission_id'</span>: <span style=\"color: #008000; text-decoration-color: #008000\">'43kcfr'</span>,\n",
       "<span style=\"color: #7fbf7f; text-decoration-color: #7fbf7f\">│   </span><span style=\"color: #008000; text-decoration-color: #008000\">'penultimate_utterance'</span>: <span style=\"font-weight: bold\">{</span>\n",
       "<span style=\"color: #7fbf7f; text-decoration-color: #7fbf7f\">│   │   </span><span style=\"color: #008000; text-decoration-color: #008000\">'id'</span>: <span style=\"color: #008000; text-decoration-color: #008000\">'cziwldd'</span>,\n",
       "<span style=\"color: #7fbf7f; text-decoration-color: #7fbf7f\">│   │   </span><span style=\"color: #008000; text-decoration-color: #008000\">'userid'</span>: <span style=\"color: #008000; text-decoration-color: #008000\">'Spidertech500'</span>,\n",
       "<span style=\"color: #7fbf7f; text-decoration-color: #7fbf7f\">│   │   </span><span style=\"color: #008000; text-decoration-color: #008000\">'text'</span>: <span style=\"color: #008000; text-decoration-color: #008000\">'So possessions are a motivator to many,  if we could live stress free lives where no effort is needed  we would. '</span>,\n",
       "<span style=\"color: #7fbf7f; text-decoration-color: #7fbf7f\">│   │   </span><span style=\"color: #008000; text-decoration-color: #008000\">'timestamp'</span>: <span style=\"color: #008080; text-decoration-color: #008080; font-weight: bold\">1454272548</span>\n",
       "<span style=\"color: #7fbf7f; text-decoration-color: #7fbf7f\">│   </span><span style=\"font-weight: bold\">}</span>,\n",
       "<span style=\"color: #7fbf7f; text-decoration-color: #7fbf7f\">│   </span><span style=\"color: #008000; text-decoration-color: #008000\">'last_utterance'</span>: <span style=\"font-weight: bold\">{</span>\n",
       "<span style=\"color: #7fbf7f; text-decoration-color: #7fbf7f\">│   │   </span><span style=\"color: #008000; text-decoration-color: #008000\">'id'</span>: <span style=\"color: #008000; text-decoration-color: #008000\">'czj3vni'</span>,\n",
       "<span style=\"color: #7fbf7f; text-decoration-color: #7fbf7f\">│   │   </span><span style=\"color: #008000; text-decoration-color: #008000\">'userid'</span>: <span style=\"color: #008000; text-decoration-color: #008000\">'dmwit'</span>,\n",
       "<span style=\"color: #7fbf7f; text-decoration-color: #7fbf7f\">│   │   </span><span style=\"color: #008000; text-decoration-color: #008000\">'text'</span>: <span style=\"color: #008000; text-decoration-color: #008000\">'&gt;  if we could live stress free lives where no effort is needed we would\\n\\n[citation needed]'</span>,\n",
       "<span style=\"color: #7fbf7f; text-decoration-color: #7fbf7f\">│   │   </span><span style=\"color: #008000; text-decoration-color: #008000\">'timestamp'</span>: <span style=\"color: #008080; text-decoration-color: #008080; font-weight: bold\">1454284421</span>\n",
       "<span style=\"color: #7fbf7f; text-decoration-color: #7fbf7f\">│   </span><span style=\"font-weight: bold\">}</span>,\n",
       "<span style=\"color: #7fbf7f; text-decoration-color: #7fbf7f\">│   </span><span style=\"color: #008000; text-decoration-color: #008000\">'split'</span>: <span style=\"color: #008000; text-decoration-color: #008000\">'train'</span>\n",
       "<span style=\"font-weight: bold\">}</span>\n",
       "</pre>\n"
      ],
      "text/plain": [
       "\u001b[1m{\u001b[0m\n",
       "\u001b[2;32m│   \u001b[0m\u001b[32m'statement'\u001b[0m: \u001b[32m'Implementing a Universal Basic Income \u001b[0m\u001b[32m(\u001b[0m\u001b[32mUBI\u001b[0m\u001b[32m)\u001b[0m\u001b[32m is crucial for the future of our country.'\u001b[0m,\n",
       "\u001b[2;32m│   \u001b[0m\u001b[32m'submission_id'\u001b[0m: \u001b[32m'43kcfr'\u001b[0m,\n",
       "\u001b[2;32m│   \u001b[0m\u001b[32m'penultimate_utterance'\u001b[0m: \u001b[1m{\u001b[0m\n",
       "\u001b[2;32m│   │   \u001b[0m\u001b[32m'id'\u001b[0m: \u001b[32m'cziwldd'\u001b[0m,\n",
       "\u001b[2;32m│   │   \u001b[0m\u001b[32m'userid'\u001b[0m: \u001b[32m'Spidertech500'\u001b[0m,\n",
       "\u001b[2;32m│   │   \u001b[0m\u001b[32m'text'\u001b[0m: \u001b[32m'So possessions are a motivator to many,  if we could live stress free lives where no effort is needed  we would. '\u001b[0m,\n",
       "\u001b[2;32m│   │   \u001b[0m\u001b[32m'timestamp'\u001b[0m: \u001b[1;36m1454272548\u001b[0m\n",
       "\u001b[2;32m│   \u001b[0m\u001b[1m}\u001b[0m,\n",
       "\u001b[2;32m│   \u001b[0m\u001b[32m'last_utterance'\u001b[0m: \u001b[1m{\u001b[0m\n",
       "\u001b[2;32m│   │   \u001b[0m\u001b[32m'id'\u001b[0m: \u001b[32m'czj3vni'\u001b[0m,\n",
       "\u001b[2;32m│   │   \u001b[0m\u001b[32m'userid'\u001b[0m: \u001b[32m'dmwit'\u001b[0m,\n",
       "\u001b[2;32m│   │   \u001b[0m\u001b[32m'text'\u001b[0m: \u001b[32m'>  if we could live stress free lives where no effort is needed we would\\n\\n\u001b[0m\u001b[32m[\u001b[0m\u001b[32mcitation needed\u001b[0m\u001b[32m]\u001b[0m\u001b[32m'\u001b[0m,\n",
       "\u001b[2;32m│   │   \u001b[0m\u001b[32m'timestamp'\u001b[0m: \u001b[1;36m1454284421\u001b[0m\n",
       "\u001b[2;32m│   \u001b[0m\u001b[1m}\u001b[0m,\n",
       "\u001b[2;32m│   \u001b[0m\u001b[32m'split'\u001b[0m: \u001b[32m'train'\u001b[0m\n",
       "\u001b[1m}\u001b[0m\n"
      ]
     },
     "metadata": {},
     "output_type": "display_data"
    },
    {
     "name": "stdout",
     "output_type": "stream",
     "text": [
      "Sample 62:\n"
     ]
    },
    {
     "data": {
      "text/html": [
       "<pre style=\"white-space:pre;overflow-x:auto;line-height:normal;font-family:Menlo,'DejaVu Sans Mono',consolas,'Courier New',monospace\"><span style=\"font-weight: bold\">{</span>\n",
       "<span style=\"color: #7fbf7f; text-decoration-color: #7fbf7f\">│   </span><span style=\"color: #008000; text-decoration-color: #008000\">'statement'</span>: <span style=\"color: #008000; text-decoration-color: #008000\">'Implementing a Universal Basic Income (UBI) is crucial for the future of our country.'</span>,\n",
       "<span style=\"color: #7fbf7f; text-decoration-color: #7fbf7f\">│   </span><span style=\"color: #008000; text-decoration-color: #008000\">'submission_id'</span>: <span style=\"color: #008000; text-decoration-color: #008000\">'43kcfr'</span>,\n",
       "<span style=\"color: #7fbf7f; text-decoration-color: #7fbf7f\">│   </span><span style=\"color: #008000; text-decoration-color: #008000\">'penultimate_utterance'</span>: <span style=\"font-weight: bold\">{</span>\n",
       "<span style=\"color: #7fbf7f; text-decoration-color: #7fbf7f\">│   │   </span><span style=\"color: #008000; text-decoration-color: #008000\">'id'</span>: <span style=\"color: #008000; text-decoration-color: #008000\">'czxp36q'</span>,\n",
       "<span style=\"color: #7fbf7f; text-decoration-color: #7fbf7f\">│   │   </span><span style=\"color: #008000; text-decoration-color: #008000\">'userid'</span>: <span style=\"color: #008000; text-decoration-color: #008000\">'kilimanjaro13'</span>,\n",
       "<span style=\"color: #7fbf7f; text-decoration-color: #7fbf7f\">│   │   </span><span style=\"color: #008000; text-decoration-color: #008000\">'text'</span>: <span style=\"color: #008000; text-decoration-color: #008000\">'That the faster technology improves, the more equal and convenient our lives become.'</span>,\n",
       "<span style=\"color: #7fbf7f; text-decoration-color: #7fbf7f\">│   │   </span><span style=\"color: #008000; text-decoration-color: #008000\">'timestamp'</span>: <span style=\"color: #008080; text-decoration-color: #008080; font-weight: bold\">1455307764</span>\n",
       "<span style=\"color: #7fbf7f; text-decoration-color: #7fbf7f\">│   </span><span style=\"font-weight: bold\">}</span>,\n",
       "<span style=\"color: #7fbf7f; text-decoration-color: #7fbf7f\">│   </span><span style=\"color: #008000; text-decoration-color: #008000\">'last_utterance'</span>: <span style=\"font-weight: bold\">{</span>\n",
       "<span style=\"color: #7fbf7f; text-decoration-color: #7fbf7f\">│   │   </span><span style=\"color: #008000; text-decoration-color: #008000\">'id'</span>: <span style=\"color: #008000; text-decoration-color: #008000\">'czxsrq5'</span>,\n",
       "<span style=\"color: #7fbf7f; text-decoration-color: #7fbf7f\">│   │   </span><span style=\"color: #008000; text-decoration-color: #008000\">'userid'</span>: <span style=\"color: #008000; text-decoration-color: #008000\">'sllewgh'</span>,\n",
       "<span style=\"color: #7fbf7f; text-decoration-color: #7fbf7f\">│   │   </span><span style=\"color: #008000; text-decoration-color: #008000\">'text'</span>: <span style=\"color: #008000; text-decoration-color: #008000\">\"That's objectively not true.  Global income inequality is the highest it's been in all of human history, so if anything, the exact opposite is true.  Your asinine theory does not survive contact with reality.\"</span>,\n",
       "<span style=\"color: #7fbf7f; text-decoration-color: #7fbf7f\">│   │   </span><span style=\"color: #008000; text-decoration-color: #008000\">'timestamp'</span>: <span style=\"color: #008080; text-decoration-color: #008080; font-weight: bold\">1455313176</span>\n",
       "<span style=\"color: #7fbf7f; text-decoration-color: #7fbf7f\">│   </span><span style=\"font-weight: bold\">}</span>,\n",
       "<span style=\"color: #7fbf7f; text-decoration-color: #7fbf7f\">│   </span><span style=\"color: #008000; text-decoration-color: #008000\">'split'</span>: <span style=\"color: #008000; text-decoration-color: #008000\">'train'</span>\n",
       "<span style=\"font-weight: bold\">}</span>\n",
       "</pre>\n"
      ],
      "text/plain": [
       "\u001b[1m{\u001b[0m\n",
       "\u001b[2;32m│   \u001b[0m\u001b[32m'statement'\u001b[0m: \u001b[32m'Implementing a Universal Basic Income \u001b[0m\u001b[32m(\u001b[0m\u001b[32mUBI\u001b[0m\u001b[32m)\u001b[0m\u001b[32m is crucial for the future of our country.'\u001b[0m,\n",
       "\u001b[2;32m│   \u001b[0m\u001b[32m'submission_id'\u001b[0m: \u001b[32m'43kcfr'\u001b[0m,\n",
       "\u001b[2;32m│   \u001b[0m\u001b[32m'penultimate_utterance'\u001b[0m: \u001b[1m{\u001b[0m\n",
       "\u001b[2;32m│   │   \u001b[0m\u001b[32m'id'\u001b[0m: \u001b[32m'czxp36q'\u001b[0m,\n",
       "\u001b[2;32m│   │   \u001b[0m\u001b[32m'userid'\u001b[0m: \u001b[32m'kilimanjaro13'\u001b[0m,\n",
       "\u001b[2;32m│   │   \u001b[0m\u001b[32m'text'\u001b[0m: \u001b[32m'That the faster technology improves, the more equal and convenient our lives become.'\u001b[0m,\n",
       "\u001b[2;32m│   │   \u001b[0m\u001b[32m'timestamp'\u001b[0m: \u001b[1;36m1455307764\u001b[0m\n",
       "\u001b[2;32m│   \u001b[0m\u001b[1m}\u001b[0m,\n",
       "\u001b[2;32m│   \u001b[0m\u001b[32m'last_utterance'\u001b[0m: \u001b[1m{\u001b[0m\n",
       "\u001b[2;32m│   │   \u001b[0m\u001b[32m'id'\u001b[0m: \u001b[32m'czxsrq5'\u001b[0m,\n",
       "\u001b[2;32m│   │   \u001b[0m\u001b[32m'userid'\u001b[0m: \u001b[32m'sllewgh'\u001b[0m,\n",
       "\u001b[2;32m│   │   \u001b[0m\u001b[32m'text'\u001b[0m: \u001b[32m\"That's objectively not true.  Global income inequality is the highest it's been in all of human history, so if anything, the exact opposite is true.  Your asinine theory does not survive contact with reality.\"\u001b[0m,\n",
       "\u001b[2;32m│   │   \u001b[0m\u001b[32m'timestamp'\u001b[0m: \u001b[1;36m1455313176\u001b[0m\n",
       "\u001b[2;32m│   \u001b[0m\u001b[1m}\u001b[0m,\n",
       "\u001b[2;32m│   \u001b[0m\u001b[32m'split'\u001b[0m: \u001b[32m'train'\u001b[0m\n",
       "\u001b[1m}\u001b[0m\n"
      ]
     },
     "metadata": {},
     "output_type": "display_data"
    },
    {
     "name": "stdout",
     "output_type": "stream",
     "text": [
      "Sample 63:\n"
     ]
    },
    {
     "data": {
      "text/html": [
       "<pre style=\"white-space:pre;overflow-x:auto;line-height:normal;font-family:Menlo,'DejaVu Sans Mono',consolas,'Courier New',monospace\"><span style=\"font-weight: bold\">{</span>\n",
       "<span style=\"color: #7fbf7f; text-decoration-color: #7fbf7f\">│   </span><span style=\"color: #008000; text-decoration-color: #008000\">'statement'</span>: <span style=\"color: #008000; text-decoration-color: #008000\">'Bernie Sanders is not the brilliantly excellent candidate his supporters make him out to be.'</span>,\n",
       "<span style=\"color: #7fbf7f; text-decoration-color: #7fbf7f\">│   </span><span style=\"color: #008000; text-decoration-color: #008000\">'submission_id'</span>: <span style=\"color: #008000; text-decoration-color: #008000\">'43s2g8'</span>,\n",
       "<span style=\"color: #7fbf7f; text-decoration-color: #7fbf7f\">│   </span><span style=\"color: #008000; text-decoration-color: #008000\">'penultimate_utterance'</span>: <span style=\"font-weight: bold\">{</span>\n",
       "<span style=\"color: #7fbf7f; text-decoration-color: #7fbf7f\">│   │   </span><span style=\"color: #008000; text-decoration-color: #008000\">'id'</span>: <span style=\"color: #008000; text-decoration-color: #008000\">'czl7hbg'</span>,\n",
       "<span style=\"color: #7fbf7f; text-decoration-color: #7fbf7f\">│   │   </span><span style=\"color: #008000; text-decoration-color: #008000\">'userid'</span>: <span style=\"color: #008000; text-decoration-color: #008000\">'Droid017'</span>,\n",
       "<span style=\"color: #7fbf7f; text-decoration-color: #7fbf7f\">│   │   </span><span style=\"color: #008000; text-decoration-color: #008000\">'text'</span>: <span style=\"color: #008000; text-decoration-color: #008000\">\"Yes I do know that. The point is that a tank or fighter jet isn't very dangerous without munitions. If assault rifles required special ammunition which nobody could buy, sure everyone own an ak-47 for all I care. \"</span>,\n",
       "<span style=\"color: #7fbf7f; text-decoration-color: #7fbf7f\">│   │   </span><span style=\"color: #008000; text-decoration-color: #008000\">'timestamp'</span>: <span style=\"color: #008080; text-decoration-color: #008080; font-weight: bold\">1454435669</span>\n",
       "<span style=\"color: #7fbf7f; text-decoration-color: #7fbf7f\">│   </span><span style=\"font-weight: bold\">}</span>,\n",
       "<span style=\"color: #7fbf7f; text-decoration-color: #7fbf7f\">│   </span><span style=\"color: #008000; text-decoration-color: #008000\">'last_utterance'</span>: <span style=\"font-weight: bold\">{</span>\n",
       "<span style=\"color: #7fbf7f; text-decoration-color: #7fbf7f\">│   │   </span><span style=\"color: #008000; text-decoration-color: #008000\">'id'</span>: <span style=\"color: #008000; text-decoration-color: #008000\">'czl7q16'</span>,\n",
       "<span style=\"color: #7fbf7f; text-decoration-color: #7fbf7f\">│   │   </span><span style=\"color: #008000; text-decoration-color: #008000\">'userid'</span>: <span style=\"color: #008000; text-decoration-color: #008000\">'NullMarker'</span>,\n",
       "<span style=\"color: #7fbf7f; text-decoration-color: #7fbf7f\">│   │   </span><span style=\"color: #008000; text-decoration-color: #008000\">'text'</span>: <span style=\"color: #008000; text-decoration-color: #008000\">'Because an unarmed plane had never been used to kill a large amount of people...'</span>,\n",
       "<span style=\"color: #7fbf7f; text-decoration-color: #7fbf7f\">│   │   </span><span style=\"color: #008000; text-decoration-color: #008000\">'timestamp'</span>: <span style=\"color: #008080; text-decoration-color: #008080; font-weight: bold\">1454436002</span>\n",
       "<span style=\"color: #7fbf7f; text-decoration-color: #7fbf7f\">│   </span><span style=\"font-weight: bold\">}</span>,\n",
       "<span style=\"color: #7fbf7f; text-decoration-color: #7fbf7f\">│   </span><span style=\"color: #008000; text-decoration-color: #008000\">'split'</span>: <span style=\"color: #008000; text-decoration-color: #008000\">'train'</span>\n",
       "<span style=\"font-weight: bold\">}</span>\n",
       "</pre>\n"
      ],
      "text/plain": [
       "\u001b[1m{\u001b[0m\n",
       "\u001b[2;32m│   \u001b[0m\u001b[32m'statement'\u001b[0m: \u001b[32m'Bernie Sanders is not the brilliantly excellent candidate his supporters make him out to be.'\u001b[0m,\n",
       "\u001b[2;32m│   \u001b[0m\u001b[32m'submission_id'\u001b[0m: \u001b[32m'43s2g8'\u001b[0m,\n",
       "\u001b[2;32m│   \u001b[0m\u001b[32m'penultimate_utterance'\u001b[0m: \u001b[1m{\u001b[0m\n",
       "\u001b[2;32m│   │   \u001b[0m\u001b[32m'id'\u001b[0m: \u001b[32m'czl7hbg'\u001b[0m,\n",
       "\u001b[2;32m│   │   \u001b[0m\u001b[32m'userid'\u001b[0m: \u001b[32m'Droid017'\u001b[0m,\n",
       "\u001b[2;32m│   │   \u001b[0m\u001b[32m'text'\u001b[0m: \u001b[32m\"Yes I do know that. The point is that a tank or fighter jet isn't very dangerous without munitions. If assault rifles required special ammunition which nobody could buy, sure everyone own an ak-47 for all I care. \"\u001b[0m,\n",
       "\u001b[2;32m│   │   \u001b[0m\u001b[32m'timestamp'\u001b[0m: \u001b[1;36m1454435669\u001b[0m\n",
       "\u001b[2;32m│   \u001b[0m\u001b[1m}\u001b[0m,\n",
       "\u001b[2;32m│   \u001b[0m\u001b[32m'last_utterance'\u001b[0m: \u001b[1m{\u001b[0m\n",
       "\u001b[2;32m│   │   \u001b[0m\u001b[32m'id'\u001b[0m: \u001b[32m'czl7q16'\u001b[0m,\n",
       "\u001b[2;32m│   │   \u001b[0m\u001b[32m'userid'\u001b[0m: \u001b[32m'NullMarker'\u001b[0m,\n",
       "\u001b[2;32m│   │   \u001b[0m\u001b[32m'text'\u001b[0m: \u001b[32m'Because an unarmed plane had never been used to kill a large amount of people...'\u001b[0m,\n",
       "\u001b[2;32m│   │   \u001b[0m\u001b[32m'timestamp'\u001b[0m: \u001b[1;36m1454436002\u001b[0m\n",
       "\u001b[2;32m│   \u001b[0m\u001b[1m}\u001b[0m,\n",
       "\u001b[2;32m│   \u001b[0m\u001b[32m'split'\u001b[0m: \u001b[32m'train'\u001b[0m\n",
       "\u001b[1m}\u001b[0m\n"
      ]
     },
     "metadata": {},
     "output_type": "display_data"
    },
    {
     "name": "stdout",
     "output_type": "stream",
     "text": [
      "Sample 64:\n"
     ]
    },
    {
     "data": {
      "text/html": [
       "<pre style=\"white-space:pre;overflow-x:auto;line-height:normal;font-family:Menlo,'DejaVu Sans Mono',consolas,'Courier New',monospace\"><span style=\"font-weight: bold\">{</span>\n",
       "<span style=\"color: #7fbf7f; text-decoration-color: #7fbf7f\">│   </span><span style=\"color: #008000; text-decoration-color: #008000\">'statement'</span>: <span style=\"color: #008000; text-decoration-color: #008000\">\"The USA is not the 'Land of the Free'\"</span>,\n",
       "<span style=\"color: #7fbf7f; text-decoration-color: #7fbf7f\">│   </span><span style=\"color: #008000; text-decoration-color: #008000\">'submission_id'</span>: <span style=\"color: #008000; text-decoration-color: #008000\">'43ugni'</span>,\n",
       "<span style=\"color: #7fbf7f; text-decoration-color: #7fbf7f\">│   </span><span style=\"color: #008000; text-decoration-color: #008000\">'penultimate_utterance'</span>: <span style=\"font-weight: bold\">{</span>\n",
       "<span style=\"color: #7fbf7f; text-decoration-color: #7fbf7f\">│   │   </span><span style=\"color: #008000; text-decoration-color: #008000\">'id'</span>: <span style=\"color: #008000; text-decoration-color: #008000\">'czlxf1v'</span>,\n",
       "<span style=\"color: #7fbf7f; text-decoration-color: #7fbf7f\">│   │   </span><span style=\"color: #008000; text-decoration-color: #008000\">'userid'</span>: <span style=\"color: #008000; text-decoration-color: #008000\">'moration'</span>,\n",
       "<span style=\"color: #7fbf7f; text-decoration-color: #7fbf7f\">│   │   </span><span style=\"color: #008000; text-decoration-color: #008000\">'text'</span>: <span style=\"color: #008000; text-decoration-color: #008000\">'What they do is trump every charge they can think of, add up the mandatory minimums, then put that gun to some poor shlubs head and say, \"well you could go to court and risk 300 years in jail ... just sayin\\'\".\\n\\n\\nI strongly urge you to read up some some criminal justice reform blogs and what not. There\\'s a lot of stuff you don\\'t know.'</span>,\n",
       "<span style=\"color: #7fbf7f; text-decoration-color: #7fbf7f\">│   │   </span><span style=\"color: #008000; text-decoration-color: #008000\">'timestamp'</span>: <span style=\"color: #008080; text-decoration-color: #008080; font-weight: bold\">1454474596</span>\n",
       "<span style=\"color: #7fbf7f; text-decoration-color: #7fbf7f\">│   </span><span style=\"font-weight: bold\">}</span>,\n",
       "<span style=\"color: #7fbf7f; text-decoration-color: #7fbf7f\">│   </span><span style=\"color: #008000; text-decoration-color: #008000\">'last_utterance'</span>: <span style=\"font-weight: bold\">{</span>\n",
       "<span style=\"color: #7fbf7f; text-decoration-color: #7fbf7f\">│   │   </span><span style=\"color: #008000; text-decoration-color: #008000\">'id'</span>: <span style=\"color: #008000; text-decoration-color: #008000\">'czly2yv'</span>,\n",
       "<span style=\"color: #7fbf7f; text-decoration-color: #7fbf7f\">│   │   </span><span style=\"color: #008000; text-decoration-color: #008000\">'userid'</span>: <span style=\"color: #008000; text-decoration-color: #008000\">'James_Locke'</span>,\n",
       "<span style=\"color: #7fbf7f; text-decoration-color: #7fbf7f\">│   │   </span><span style=\"color: #008000; text-decoration-color: #008000\">'text'</span>: <span style=\"color: #008000; text-decoration-color: #008000\">'I do pro bono work for the local county defenders office. This isnt hollywood. Wake up. '</span>,\n",
       "<span style=\"color: #7fbf7f; text-decoration-color: #7fbf7f\">│   │   </span><span style=\"color: #008000; text-decoration-color: #008000\">'timestamp'</span>: <span style=\"color: #008080; text-decoration-color: #008080; font-weight: bold\">1454475944</span>\n",
       "<span style=\"color: #7fbf7f; text-decoration-color: #7fbf7f\">│   </span><span style=\"font-weight: bold\">}</span>,\n",
       "<span style=\"color: #7fbf7f; text-decoration-color: #7fbf7f\">│   </span><span style=\"color: #008000; text-decoration-color: #008000\">'split'</span>: <span style=\"color: #008000; text-decoration-color: #008000\">'train'</span>\n",
       "<span style=\"font-weight: bold\">}</span>\n",
       "</pre>\n"
      ],
      "text/plain": [
       "\u001b[1m{\u001b[0m\n",
       "\u001b[2;32m│   \u001b[0m\u001b[32m'statement'\u001b[0m: \u001b[32m\"The USA is not the 'Land of the Free'\"\u001b[0m,\n",
       "\u001b[2;32m│   \u001b[0m\u001b[32m'submission_id'\u001b[0m: \u001b[32m'43ugni'\u001b[0m,\n",
       "\u001b[2;32m│   \u001b[0m\u001b[32m'penultimate_utterance'\u001b[0m: \u001b[1m{\u001b[0m\n",
       "\u001b[2;32m│   │   \u001b[0m\u001b[32m'id'\u001b[0m: \u001b[32m'czlxf1v'\u001b[0m,\n",
       "\u001b[2;32m│   │   \u001b[0m\u001b[32m'userid'\u001b[0m: \u001b[32m'moration'\u001b[0m,\n",
       "\u001b[2;32m│   │   \u001b[0m\u001b[32m'text'\u001b[0m: \u001b[32m'What they do is trump every charge they can think of, add up the mandatory minimums, then put that gun to some poor shlubs head and say, \"well you could go to court and risk 300 years in jail ... just sayin\\'\".\\n\\n\\nI strongly urge you to read up some some criminal justice reform blogs and what not. There\\'s a lot of stuff you don\\'t know.'\u001b[0m,\n",
       "\u001b[2;32m│   │   \u001b[0m\u001b[32m'timestamp'\u001b[0m: \u001b[1;36m1454474596\u001b[0m\n",
       "\u001b[2;32m│   \u001b[0m\u001b[1m}\u001b[0m,\n",
       "\u001b[2;32m│   \u001b[0m\u001b[32m'last_utterance'\u001b[0m: \u001b[1m{\u001b[0m\n",
       "\u001b[2;32m│   │   \u001b[0m\u001b[32m'id'\u001b[0m: \u001b[32m'czly2yv'\u001b[0m,\n",
       "\u001b[2;32m│   │   \u001b[0m\u001b[32m'userid'\u001b[0m: \u001b[32m'James_Locke'\u001b[0m,\n",
       "\u001b[2;32m│   │   \u001b[0m\u001b[32m'text'\u001b[0m: \u001b[32m'I do pro bono work for the local county defenders office. This isnt hollywood. Wake up. '\u001b[0m,\n",
       "\u001b[2;32m│   │   \u001b[0m\u001b[32m'timestamp'\u001b[0m: \u001b[1;36m1454475944\u001b[0m\n",
       "\u001b[2;32m│   \u001b[0m\u001b[1m}\u001b[0m,\n",
       "\u001b[2;32m│   \u001b[0m\u001b[32m'split'\u001b[0m: \u001b[32m'train'\u001b[0m\n",
       "\u001b[1m}\u001b[0m\n"
      ]
     },
     "metadata": {},
     "output_type": "display_data"
    },
    {
     "name": "stdout",
     "output_type": "stream",
     "text": [
      "Sample 65:\n"
     ]
    },
    {
     "data": {
      "text/html": [
       "<pre style=\"white-space:pre;overflow-x:auto;line-height:normal;font-family:Menlo,'DejaVu Sans Mono',consolas,'Courier New',monospace\"><span style=\"font-weight: bold\">{</span>\n",
       "<span style=\"color: #7fbf7f; text-decoration-color: #7fbf7f\">│   </span><span style=\"color: #008000; text-decoration-color: #008000\">'statement'</span>: <span style=\"color: #008000; text-decoration-color: #008000\">'Increasing the minimum wage is a good idea'</span>,\n",
       "<span style=\"color: #7fbf7f; text-decoration-color: #7fbf7f\">│   </span><span style=\"color: #008000; text-decoration-color: #008000\">'submission_id'</span>: <span style=\"color: #008000; text-decoration-color: #008000\">'441qg4'</span>,\n",
       "<span style=\"color: #7fbf7f; text-decoration-color: #7fbf7f\">│   </span><span style=\"color: #008000; text-decoration-color: #008000\">'penultimate_utterance'</span>: <span style=\"font-weight: bold\">{</span>\n",
       "<span style=\"color: #7fbf7f; text-decoration-color: #7fbf7f\">│   │   </span><span style=\"color: #008000; text-decoration-color: #008000\">'id'</span>: <span style=\"color: #008000; text-decoration-color: #008000\">'czmtvas'</span>,\n",
       "<span style=\"color: #7fbf7f; text-decoration-color: #7fbf7f\">│   │   </span><span style=\"color: #008000; text-decoration-color: #008000\">'userid'</span>: <span style=\"color: #008000; text-decoration-color: #008000\">'foolfools'</span>,\n",
       "<span style=\"color: #7fbf7f; text-decoration-color: #7fbf7f\">│   │   </span><span style=\"color: #008000; text-decoration-color: #008000\">'text'</span>: <span style=\"color: #008000; text-decoration-color: #008000\">'&gt;  It is usually easier to let unions negotiate an acceptable wage between employers and employees (\\n\\nExcept that the capitalists - with the help of the government - destroyed the unions.'</span>,\n",
       "<span style=\"color: #7fbf7f; text-decoration-color: #7fbf7f\">│   │   </span><span style=\"color: #008000; text-decoration-color: #008000\">'timestamp'</span>: <span style=\"color: #008080; text-decoration-color: #008080; font-weight: bold\">1454538278</span>\n",
       "<span style=\"color: #7fbf7f; text-decoration-color: #7fbf7f\">│   </span><span style=\"font-weight: bold\">}</span>,\n",
       "<span style=\"color: #7fbf7f; text-decoration-color: #7fbf7f\">│   </span><span style=\"color: #008000; text-decoration-color: #008000\">'last_utterance'</span>: <span style=\"font-weight: bold\">{</span>\n",
       "<span style=\"color: #7fbf7f; text-decoration-color: #7fbf7f\">│   │   </span><span style=\"color: #008000; text-decoration-color: #008000\">'id'</span>: <span style=\"color: #008000; text-decoration-color: #008000\">'czmudhp'</span>,\n",
       "<span style=\"color: #7fbf7f; text-decoration-color: #7fbf7f\">│   │   </span><span style=\"color: #008000; text-decoration-color: #008000\">'userid'</span>: <span style=\"color: #008000; text-decoration-color: #008000\">'FreeMarketFanatic'</span>,\n",
       "<span style=\"color: #7fbf7f; text-decoration-color: #7fbf7f\">│   │   </span><span style=\"color: #008000; text-decoration-color: #008000\">'text'</span>: <span style=\"color: #008000; text-decoration-color: #008000\">\"What, because of right to work laws? Free trade? What are you talking about specifically?\\n\\n1. Right to work: makes complete sense from an economic and legal perspective. There is no reason that a third party (the union) should be able to block a contract between an employer and employee.\\n\\n2. Free trade: auto unions got destroyed because they bid up their wages so high that they couldn't compete with Japan. Boohoo. As a consumer, I get cheaper and better cars now.\"</span>,\n",
       "<span style=\"color: #7fbf7f; text-decoration-color: #7fbf7f\">│   │   </span><span style=\"color: #008000; text-decoration-color: #008000\">'timestamp'</span>: <span style=\"color: #008080; text-decoration-color: #008080; font-weight: bold\">1454538996</span>\n",
       "<span style=\"color: #7fbf7f; text-decoration-color: #7fbf7f\">│   </span><span style=\"font-weight: bold\">}</span>,\n",
       "<span style=\"color: #7fbf7f; text-decoration-color: #7fbf7f\">│   </span><span style=\"color: #008000; text-decoration-color: #008000\">'split'</span>: <span style=\"color: #008000; text-decoration-color: #008000\">'train'</span>\n",
       "<span style=\"font-weight: bold\">}</span>\n",
       "</pre>\n"
      ],
      "text/plain": [
       "\u001b[1m{\u001b[0m\n",
       "\u001b[2;32m│   \u001b[0m\u001b[32m'statement'\u001b[0m: \u001b[32m'Increasing the minimum wage is a good idea'\u001b[0m,\n",
       "\u001b[2;32m│   \u001b[0m\u001b[32m'submission_id'\u001b[0m: \u001b[32m'441qg4'\u001b[0m,\n",
       "\u001b[2;32m│   \u001b[0m\u001b[32m'penultimate_utterance'\u001b[0m: \u001b[1m{\u001b[0m\n",
       "\u001b[2;32m│   │   \u001b[0m\u001b[32m'id'\u001b[0m: \u001b[32m'czmtvas'\u001b[0m,\n",
       "\u001b[2;32m│   │   \u001b[0m\u001b[32m'userid'\u001b[0m: \u001b[32m'foolfools'\u001b[0m,\n",
       "\u001b[2;32m│   │   \u001b[0m\u001b[32m'text'\u001b[0m: \u001b[32m'>  It is usually easier to let unions negotiate an acceptable wage between employers and employees \u001b[0m\u001b[32m(\u001b[0m\u001b[32m\\n\\nExcept that the capitalists - with the help of the government - destroyed the unions.'\u001b[0m,\n",
       "\u001b[2;32m│   │   \u001b[0m\u001b[32m'timestamp'\u001b[0m: \u001b[1;36m1454538278\u001b[0m\n",
       "\u001b[2;32m│   \u001b[0m\u001b[1m}\u001b[0m,\n",
       "\u001b[2;32m│   \u001b[0m\u001b[32m'last_utterance'\u001b[0m: \u001b[1m{\u001b[0m\n",
       "\u001b[2;32m│   │   \u001b[0m\u001b[32m'id'\u001b[0m: \u001b[32m'czmudhp'\u001b[0m,\n",
       "\u001b[2;32m│   │   \u001b[0m\u001b[32m'userid'\u001b[0m: \u001b[32m'FreeMarketFanatic'\u001b[0m,\n",
       "\u001b[2;32m│   │   \u001b[0m\u001b[32m'text'\u001b[0m: \u001b[32m\"What, because of right to work laws? Free trade? What are you talking about specifically?\\n\\n1. Right to work: makes complete sense from an economic and legal perspective. There is no reason that a third party \u001b[0m\u001b[32m(\u001b[0m\u001b[32mthe union\u001b[0m\u001b[32m)\u001b[0m\u001b[32m should be able to block a contract between an employer and employee.\\n\\n2. Free trade: auto unions got destroyed because they bid up their wages so high that they couldn't compete with Japan. Boohoo. As a consumer, I get cheaper and better cars now.\"\u001b[0m,\n",
       "\u001b[2;32m│   │   \u001b[0m\u001b[32m'timestamp'\u001b[0m: \u001b[1;36m1454538996\u001b[0m\n",
       "\u001b[2;32m│   \u001b[0m\u001b[1m}\u001b[0m,\n",
       "\u001b[2;32m│   \u001b[0m\u001b[32m'split'\u001b[0m: \u001b[32m'train'\u001b[0m\n",
       "\u001b[1m}\u001b[0m\n"
      ]
     },
     "metadata": {},
     "output_type": "display_data"
    },
    {
     "name": "stdout",
     "output_type": "stream",
     "text": [
      "Sample 66:\n"
     ]
    },
    {
     "data": {
      "text/html": [
       "<pre style=\"white-space:pre;overflow-x:auto;line-height:normal;font-family:Menlo,'DejaVu Sans Mono',consolas,'Courier New',monospace\"><span style=\"font-weight: bold\">{</span>\n",
       "<span style=\"color: #7fbf7f; text-decoration-color: #7fbf7f\">│   </span><span style=\"color: #008000; text-decoration-color: #008000\">'statement'</span>: <span style=\"color: #008000; text-decoration-color: #008000\">'The United States ought to promote democracy in the Middle East'</span>,\n",
       "<span style=\"color: #7fbf7f; text-decoration-color: #7fbf7f\">│   </span><span style=\"color: #008000; text-decoration-color: #008000\">'submission_id'</span>: <span style=\"color: #008000; text-decoration-color: #008000\">'44905r'</span>,\n",
       "<span style=\"color: #7fbf7f; text-decoration-color: #7fbf7f\">│   </span><span style=\"color: #008000; text-decoration-color: #008000\">'penultimate_utterance'</span>: <span style=\"font-weight: bold\">{</span>\n",
       "<span style=\"color: #7fbf7f; text-decoration-color: #7fbf7f\">│   │   </span><span style=\"color: #008000; text-decoration-color: #008000\">'id'</span>: <span style=\"color: #008000; text-decoration-color: #008000\">'czquntl'</span>,\n",
       "<span style=\"color: #7fbf7f; text-decoration-color: #7fbf7f\">│   │   </span><span style=\"color: #008000; text-decoration-color: #008000\">'userid'</span>: <span style=\"color: #008000; text-decoration-color: #008000\">'davidmanheim'</span>,\n",
       "<span style=\"color: #7fbf7f; text-decoration-color: #7fbf7f\">│   │   </span><span style=\"color: #008000; text-decoration-color: #008000\">'text'</span>: <span style=\"color: #008000; text-decoration-color: #008000\">\"Ok,  but when the US law is; we don't send money to armies that are usurping democracies, we're actively undermining them. If we weren't funding their military, which overthrew it, their democracy would have been a bit more stable.\"</span>,\n",
       "<span style=\"color: #7fbf7f; text-decoration-color: #7fbf7f\">│   │   </span><span style=\"color: #008000; text-decoration-color: #008000\">'timestamp'</span>: <span style=\"color: #008080; text-decoration-color: #008080; font-weight: bold\">1454828293</span>\n",
       "<span style=\"color: #7fbf7f; text-decoration-color: #7fbf7f\">│   </span><span style=\"font-weight: bold\">}</span>,\n",
       "<span style=\"color: #7fbf7f; text-decoration-color: #7fbf7f\">│   </span><span style=\"color: #008000; text-decoration-color: #008000\">'last_utterance'</span>: <span style=\"font-weight: bold\">{</span>\n",
       "<span style=\"color: #7fbf7f; text-decoration-color: #7fbf7f\">│   │   </span><span style=\"color: #008000; text-decoration-color: #008000\">'id'</span>: <span style=\"color: #008000; text-decoration-color: #008000\">'czr1353'</span>,\n",
       "<span style=\"color: #7fbf7f; text-decoration-color: #7fbf7f\">│   │   </span><span style=\"color: #008000; text-decoration-color: #008000\">'userid'</span>: <span style=\"color: #008000; text-decoration-color: #008000\">'sharkbait76'</span>,\n",
       "<span style=\"color: #7fbf7f; text-decoration-color: #7fbf7f\">│   │   </span><span style=\"color: #008000; text-decoration-color: #008000\">'text'</span>: <span style=\"color: #008000; text-decoration-color: #008000\">\"So do you think the US should remove leaders who aren't democratic and attempt to build a democratic regime in their place?\"</span>,\n",
       "<span style=\"color: #7fbf7f; text-decoration-color: #7fbf7f\">│   │   </span><span style=\"color: #008000; text-decoration-color: #008000\">'timestamp'</span>: <span style=\"color: #008080; text-decoration-color: #008080; font-weight: bold\">1454853679</span>\n",
       "<span style=\"color: #7fbf7f; text-decoration-color: #7fbf7f\">│   </span><span style=\"font-weight: bold\">}</span>,\n",
       "<span style=\"color: #7fbf7f; text-decoration-color: #7fbf7f\">│   </span><span style=\"color: #008000; text-decoration-color: #008000\">'split'</span>: <span style=\"color: #008000; text-decoration-color: #008000\">'train'</span>\n",
       "<span style=\"font-weight: bold\">}</span>\n",
       "</pre>\n"
      ],
      "text/plain": [
       "\u001b[1m{\u001b[0m\n",
       "\u001b[2;32m│   \u001b[0m\u001b[32m'statement'\u001b[0m: \u001b[32m'The United States ought to promote democracy in the Middle East'\u001b[0m,\n",
       "\u001b[2;32m│   \u001b[0m\u001b[32m'submission_id'\u001b[0m: \u001b[32m'44905r'\u001b[0m,\n",
       "\u001b[2;32m│   \u001b[0m\u001b[32m'penultimate_utterance'\u001b[0m: \u001b[1m{\u001b[0m\n",
       "\u001b[2;32m│   │   \u001b[0m\u001b[32m'id'\u001b[0m: \u001b[32m'czquntl'\u001b[0m,\n",
       "\u001b[2;32m│   │   \u001b[0m\u001b[32m'userid'\u001b[0m: \u001b[32m'davidmanheim'\u001b[0m,\n",
       "\u001b[2;32m│   │   \u001b[0m\u001b[32m'text'\u001b[0m: \u001b[32m\"Ok,  but when the US law is; we don't send money to armies that are usurping democracies, we're actively undermining them. If we weren't funding their military, which overthrew it, their democracy would have been a bit more stable.\"\u001b[0m,\n",
       "\u001b[2;32m│   │   \u001b[0m\u001b[32m'timestamp'\u001b[0m: \u001b[1;36m1454828293\u001b[0m\n",
       "\u001b[2;32m│   \u001b[0m\u001b[1m}\u001b[0m,\n",
       "\u001b[2;32m│   \u001b[0m\u001b[32m'last_utterance'\u001b[0m: \u001b[1m{\u001b[0m\n",
       "\u001b[2;32m│   │   \u001b[0m\u001b[32m'id'\u001b[0m: \u001b[32m'czr1353'\u001b[0m,\n",
       "\u001b[2;32m│   │   \u001b[0m\u001b[32m'userid'\u001b[0m: \u001b[32m'sharkbait76'\u001b[0m,\n",
       "\u001b[2;32m│   │   \u001b[0m\u001b[32m'text'\u001b[0m: \u001b[32m\"So do you think the US should remove leaders who aren't democratic and attempt to build a democratic regime in their place?\"\u001b[0m,\n",
       "\u001b[2;32m│   │   \u001b[0m\u001b[32m'timestamp'\u001b[0m: \u001b[1;36m1454853679\u001b[0m\n",
       "\u001b[2;32m│   \u001b[0m\u001b[1m}\u001b[0m,\n",
       "\u001b[2;32m│   \u001b[0m\u001b[32m'split'\u001b[0m: \u001b[32m'train'\u001b[0m\n",
       "\u001b[1m}\u001b[0m\n"
      ]
     },
     "metadata": {},
     "output_type": "display_data"
    },
    {
     "name": "stdout",
     "output_type": "stream",
     "text": [
      "Sample 67:\n"
     ]
    },
    {
     "data": {
      "text/html": [
       "<pre style=\"white-space:pre;overflow-x:auto;line-height:normal;font-family:Menlo,'DejaVu Sans Mono',consolas,'Courier New',monospace\"><span style=\"font-weight: bold\">{</span>\n",
       "<span style=\"color: #7fbf7f; text-decoration-color: #7fbf7f\">│   </span><span style=\"color: #008000; text-decoration-color: #008000\">'statement'</span>: <span style=\"color: #008000; text-decoration-color: #008000\">'I think that the vast majority of Bernie supporters are selfish and ill-informed'</span>,\n",
       "<span style=\"color: #7fbf7f; text-decoration-color: #7fbf7f\">│   </span><span style=\"color: #008000; text-decoration-color: #008000\">'submission_id'</span>: <span style=\"color: #008000; text-decoration-color: #008000\">'44w1wn'</span>,\n",
       "<span style=\"color: #7fbf7f; text-decoration-color: #7fbf7f\">│   </span><span style=\"color: #008000; text-decoration-color: #008000\">'penultimate_utterance'</span>: <span style=\"font-weight: bold\">{</span>\n",
       "<span style=\"color: #7fbf7f; text-decoration-color: #7fbf7f\">│   │   </span><span style=\"color: #008000; text-decoration-color: #008000\">'id'</span>: <span style=\"color: #008000; text-decoration-color: #008000\">'cztb87t'</span>,\n",
       "<span style=\"color: #7fbf7f; text-decoration-color: #7fbf7f\">│   │   </span><span style=\"color: #008000; text-decoration-color: #008000\">'userid'</span>: <span style=\"color: #008000; text-decoration-color: #008000\">'BobbyFL'</span>,\n",
       "<span style=\"color: #7fbf7f; text-decoration-color: #7fbf7f\">│   │   </span><span style=\"color: #008000; text-decoration-color: #008000\">'text'</span>: <span style=\"color: #008000; text-decoration-color: #008000\">'Right, so how did you come up with half the household income being taxed?'</span>,\n",
       "<span style=\"color: #7fbf7f; text-decoration-color: #7fbf7f\">│   │   </span><span style=\"color: #008000; text-decoration-color: #008000\">'timestamp'</span>: <span style=\"color: #008080; text-decoration-color: #008080; font-weight: bold\">1455014827</span>\n",
       "<span style=\"color: #7fbf7f; text-decoration-color: #7fbf7f\">│   </span><span style=\"font-weight: bold\">}</span>,\n",
       "<span style=\"color: #7fbf7f; text-decoration-color: #7fbf7f\">│   </span><span style=\"color: #008000; text-decoration-color: #008000\">'last_utterance'</span>: <span style=\"font-weight: bold\">{</span>\n",
       "<span style=\"color: #7fbf7f; text-decoration-color: #7fbf7f\">│   │   </span><span style=\"color: #008000; text-decoration-color: #008000\">'id'</span>: <span style=\"color: #008000; text-decoration-color: #008000\">'cztblcn'</span>,\n",
       "<span style=\"color: #7fbf7f; text-decoration-color: #7fbf7f\">│   │   </span><span style=\"color: #008000; text-decoration-color: #008000\">'userid'</span>: <span style=\"color: #008000; text-decoration-color: #008000\">'Barrill'</span>,\n",
       "<span style=\"color: #7fbf7f; text-decoration-color: #7fbf7f\">│   │   </span><span style=\"color: #008000; text-decoration-color: #008000\">'text'</span>: <span style=\"color: #008000; text-decoration-color: #008000\">'Because half of what you make after $250,000 gets taxed at 54%...?'</span>,\n",
       "<span style=\"color: #7fbf7f; text-decoration-color: #7fbf7f\">│   │   </span><span style=\"color: #008000; text-decoration-color: #008000\">'timestamp'</span>: <span style=\"color: #008080; text-decoration-color: #008080; font-weight: bold\">1455016400</span>\n",
       "<span style=\"color: #7fbf7f; text-decoration-color: #7fbf7f\">│   </span><span style=\"font-weight: bold\">}</span>,\n",
       "<span style=\"color: #7fbf7f; text-decoration-color: #7fbf7f\">│   </span><span style=\"color: #008000; text-decoration-color: #008000\">'split'</span>: <span style=\"color: #008000; text-decoration-color: #008000\">'train'</span>\n",
       "<span style=\"font-weight: bold\">}</span>\n",
       "</pre>\n"
      ],
      "text/plain": [
       "\u001b[1m{\u001b[0m\n",
       "\u001b[2;32m│   \u001b[0m\u001b[32m'statement'\u001b[0m: \u001b[32m'I think that the vast majority of Bernie supporters are selfish and ill-informed'\u001b[0m,\n",
       "\u001b[2;32m│   \u001b[0m\u001b[32m'submission_id'\u001b[0m: \u001b[32m'44w1wn'\u001b[0m,\n",
       "\u001b[2;32m│   \u001b[0m\u001b[32m'penultimate_utterance'\u001b[0m: \u001b[1m{\u001b[0m\n",
       "\u001b[2;32m│   │   \u001b[0m\u001b[32m'id'\u001b[0m: \u001b[32m'cztb87t'\u001b[0m,\n",
       "\u001b[2;32m│   │   \u001b[0m\u001b[32m'userid'\u001b[0m: \u001b[32m'BobbyFL'\u001b[0m,\n",
       "\u001b[2;32m│   │   \u001b[0m\u001b[32m'text'\u001b[0m: \u001b[32m'Right, so how did you come up with half the household income being taxed?'\u001b[0m,\n",
       "\u001b[2;32m│   │   \u001b[0m\u001b[32m'timestamp'\u001b[0m: \u001b[1;36m1455014827\u001b[0m\n",
       "\u001b[2;32m│   \u001b[0m\u001b[1m}\u001b[0m,\n",
       "\u001b[2;32m│   \u001b[0m\u001b[32m'last_utterance'\u001b[0m: \u001b[1m{\u001b[0m\n",
       "\u001b[2;32m│   │   \u001b[0m\u001b[32m'id'\u001b[0m: \u001b[32m'cztblcn'\u001b[0m,\n",
       "\u001b[2;32m│   │   \u001b[0m\u001b[32m'userid'\u001b[0m: \u001b[32m'Barrill'\u001b[0m,\n",
       "\u001b[2;32m│   │   \u001b[0m\u001b[32m'text'\u001b[0m: \u001b[32m'Because half of what you make after $250,000 gets taxed at 54%...?'\u001b[0m,\n",
       "\u001b[2;32m│   │   \u001b[0m\u001b[32m'timestamp'\u001b[0m: \u001b[1;36m1455016400\u001b[0m\n",
       "\u001b[2;32m│   \u001b[0m\u001b[1m}\u001b[0m,\n",
       "\u001b[2;32m│   \u001b[0m\u001b[32m'split'\u001b[0m: \u001b[32m'train'\u001b[0m\n",
       "\u001b[1m}\u001b[0m\n"
      ]
     },
     "metadata": {},
     "output_type": "display_data"
    },
    {
     "name": "stdout",
     "output_type": "stream",
     "text": [
      "Sample 68:\n"
     ]
    },
    {
     "data": {
      "text/html": [
       "<pre style=\"white-space:pre;overflow-x:auto;line-height:normal;font-family:Menlo,'DejaVu Sans Mono',consolas,'Courier New',monospace\"><span style=\"font-weight: bold\">{</span>\n",
       "<span style=\"color: #7fbf7f; text-decoration-color: #7fbf7f\">│   </span><span style=\"color: #008000; text-decoration-color: #008000\">'statement'</span>: <span style=\"color: #008000; text-decoration-color: #008000\">'I think that the vast majority of Bernie supporters are selfish and ill-informed'</span>,\n",
       "<span style=\"color: #7fbf7f; text-decoration-color: #7fbf7f\">│   </span><span style=\"color: #008000; text-decoration-color: #008000\">'submission_id'</span>: <span style=\"color: #008000; text-decoration-color: #008000\">'44w1wn'</span>,\n",
       "<span style=\"color: #7fbf7f; text-decoration-color: #7fbf7f\">│   </span><span style=\"color: #008000; text-decoration-color: #008000\">'penultimate_utterance'</span>: <span style=\"font-weight: bold\">{</span>\n",
       "<span style=\"color: #7fbf7f; text-decoration-color: #7fbf7f\">│   │   </span><span style=\"color: #008000; text-decoration-color: #008000\">'id'</span>: <span style=\"color: #008000; text-decoration-color: #008000\">'czu2jfj'</span>,\n",
       "<span style=\"color: #7fbf7f; text-decoration-color: #7fbf7f\">│   │   </span><span style=\"color: #008000; text-decoration-color: #008000\">'userid'</span>: <span style=\"color: #008000; text-decoration-color: #008000\">'CODDE117'</span>,\n",
       "<span style=\"color: #7fbf7f; text-decoration-color: #7fbf7f\">│   │   </span><span style=\"color: #008000; text-decoration-color: #008000\">'text'</span>: <span style=\"color: #008000; text-decoration-color: #008000\">'... People are starving in America. Do you actually believe that nobody is starving in America?'</span>,\n",
       "<span style=\"color: #7fbf7f; text-decoration-color: #7fbf7f\">│   │   </span><span style=\"color: #008000; text-decoration-color: #008000\">'timestamp'</span>: <span style=\"color: #008080; text-decoration-color: #008080; font-weight: bold\">1455060163</span>\n",
       "<span style=\"color: #7fbf7f; text-decoration-color: #7fbf7f\">│   </span><span style=\"font-weight: bold\">}</span>,\n",
       "<span style=\"color: #7fbf7f; text-decoration-color: #7fbf7f\">│   </span><span style=\"color: #008000; text-decoration-color: #008000\">'last_utterance'</span>: <span style=\"font-weight: bold\">{</span>\n",
       "<span style=\"color: #7fbf7f; text-decoration-color: #7fbf7f\">│   │   </span><span style=\"color: #008000; text-decoration-color: #008000\">'id'</span>: <span style=\"color: #008000; text-decoration-color: #008000\">'czu34m2'</span>,\n",
       "<span style=\"color: #7fbf7f; text-decoration-color: #7fbf7f\">│   │   </span><span style=\"color: #008000; text-decoration-color: #008000\">'userid'</span>: <span style=\"color: #008000; text-decoration-color: #008000\">'ellipses1'</span>,\n",
       "<span style=\"color: #7fbf7f; text-decoration-color: #7fbf7f\">│   │   </span><span style=\"color: #008000; text-decoration-color: #008000\">'text'</span>: <span style=\"color: #008000; text-decoration-color: #008000\">'Yes, I definitely believe that. Where are the starving people? Please point me to one person who has died of starvation in the past year'</span>,\n",
       "<span style=\"color: #7fbf7f; text-decoration-color: #7fbf7f\">│   │   </span><span style=\"color: #008000; text-decoration-color: #008000\">'timestamp'</span>: <span style=\"color: #008080; text-decoration-color: #008080; font-weight: bold\">1455061039</span>\n",
       "<span style=\"color: #7fbf7f; text-decoration-color: #7fbf7f\">│   </span><span style=\"font-weight: bold\">}</span>,\n",
       "<span style=\"color: #7fbf7f; text-decoration-color: #7fbf7f\">│   </span><span style=\"color: #008000; text-decoration-color: #008000\">'split'</span>: <span style=\"color: #008000; text-decoration-color: #008000\">'train'</span>\n",
       "<span style=\"font-weight: bold\">}</span>\n",
       "</pre>\n"
      ],
      "text/plain": [
       "\u001b[1m{\u001b[0m\n",
       "\u001b[2;32m│   \u001b[0m\u001b[32m'statement'\u001b[0m: \u001b[32m'I think that the vast majority of Bernie supporters are selfish and ill-informed'\u001b[0m,\n",
       "\u001b[2;32m│   \u001b[0m\u001b[32m'submission_id'\u001b[0m: \u001b[32m'44w1wn'\u001b[0m,\n",
       "\u001b[2;32m│   \u001b[0m\u001b[32m'penultimate_utterance'\u001b[0m: \u001b[1m{\u001b[0m\n",
       "\u001b[2;32m│   │   \u001b[0m\u001b[32m'id'\u001b[0m: \u001b[32m'czu2jfj'\u001b[0m,\n",
       "\u001b[2;32m│   │   \u001b[0m\u001b[32m'userid'\u001b[0m: \u001b[32m'CODDE117'\u001b[0m,\n",
       "\u001b[2;32m│   │   \u001b[0m\u001b[32m'text'\u001b[0m: \u001b[32m'... People are starving in America. Do you actually believe that nobody is starving in America?'\u001b[0m,\n",
       "\u001b[2;32m│   │   \u001b[0m\u001b[32m'timestamp'\u001b[0m: \u001b[1;36m1455060163\u001b[0m\n",
       "\u001b[2;32m│   \u001b[0m\u001b[1m}\u001b[0m,\n",
       "\u001b[2;32m│   \u001b[0m\u001b[32m'last_utterance'\u001b[0m: \u001b[1m{\u001b[0m\n",
       "\u001b[2;32m│   │   \u001b[0m\u001b[32m'id'\u001b[0m: \u001b[32m'czu34m2'\u001b[0m,\n",
       "\u001b[2;32m│   │   \u001b[0m\u001b[32m'userid'\u001b[0m: \u001b[32m'ellipses1'\u001b[0m,\n",
       "\u001b[2;32m│   │   \u001b[0m\u001b[32m'text'\u001b[0m: \u001b[32m'Yes, I definitely believe that. Where are the starving people? Please point me to one person who has died of starvation in the past year'\u001b[0m,\n",
       "\u001b[2;32m│   │   \u001b[0m\u001b[32m'timestamp'\u001b[0m: \u001b[1;36m1455061039\u001b[0m\n",
       "\u001b[2;32m│   \u001b[0m\u001b[1m}\u001b[0m,\n",
       "\u001b[2;32m│   \u001b[0m\u001b[32m'split'\u001b[0m: \u001b[32m'train'\u001b[0m\n",
       "\u001b[1m}\u001b[0m\n"
      ]
     },
     "metadata": {},
     "output_type": "display_data"
    },
    {
     "name": "stdout",
     "output_type": "stream",
     "text": [
      "Sample 69:\n"
     ]
    },
    {
     "data": {
      "text/html": [
       "<pre style=\"white-space:pre;overflow-x:auto;line-height:normal;font-family:Menlo,'DejaVu Sans Mono',consolas,'Courier New',monospace\"><span style=\"font-weight: bold\">{</span>\n",
       "<span style=\"color: #7fbf7f; text-decoration-color: #7fbf7f\">│   </span><span style=\"color: #008000; text-decoration-color: #008000\">'statement'</span>: <span style=\"color: #008000; text-decoration-color: #008000\">'\\'Mansplaining\\' is nothing more than a baseless gender-slur and is just as ignorant as other slurs like \"Ni****-rigged\" and \"Jewed down\"'</span>,\n",
       "<span style=\"color: #7fbf7f; text-decoration-color: #7fbf7f\">│   </span><span style=\"color: #008000; text-decoration-color: #008000\">'submission_id'</span>: <span style=\"color: #008000; text-decoration-color: #008000\">'45adoi'</span>,\n",
       "<span style=\"color: #7fbf7f; text-decoration-color: #7fbf7f\">│   </span><span style=\"color: #008000; text-decoration-color: #008000\">'penultimate_utterance'</span>: <span style=\"font-weight: bold\">{</span>\n",
       "<span style=\"color: #7fbf7f; text-decoration-color: #7fbf7f\">│   │   </span><span style=\"color: #008000; text-decoration-color: #008000\">'id'</span>: <span style=\"color: #008000; text-decoration-color: #008000\">'czwogbc'</span>,\n",
       "<span style=\"color: #7fbf7f; text-decoration-color: #7fbf7f\">│   │   </span><span style=\"color: #008000; text-decoration-color: #008000\">'userid'</span>: <span style=\"color: #008000; text-decoration-color: #008000\">'SynapticSight'</span>,\n",
       "<span style=\"color: #7fbf7f; text-decoration-color: #7fbf7f\">│   │   </span><span style=\"color: #008000; text-decoration-color: #008000\">'text'</span>: <span style=\"color: #008000; text-decoration-color: #008000\">\"By definition that isn't a racial slur, is it? So sure, you can invent a new slur and use it to your weird heart's content. But no, you'll have a tough time redefining the word for yourself and expecting others to not be aware of how it's pervaded culture in a very particular way.\\n\\nGranted, the more you respond to me the more I realize you're just an arguer and not at all interested in listening, so I have a feeling this conversation will end quite soon.\"</span>,\n",
       "<span style=\"color: #7fbf7f; text-decoration-color: #7fbf7f\">│   │   </span><span style=\"color: #008000; text-decoration-color: #008000\">'timestamp'</span>: <span style=\"color: #008080; text-decoration-color: #008080; font-weight: bold\">1455235350</span>\n",
       "<span style=\"color: #7fbf7f; text-decoration-color: #7fbf7f\">│   </span><span style=\"font-weight: bold\">}</span>,\n",
       "<span style=\"color: #7fbf7f; text-decoration-color: #7fbf7f\">│   </span><span style=\"color: #008000; text-decoration-color: #008000\">'last_utterance'</span>: <span style=\"font-weight: bold\">{</span>\n",
       "<span style=\"color: #7fbf7f; text-decoration-color: #7fbf7f\">│   │   </span><span style=\"color: #008000; text-decoration-color: #008000\">'id'</span>: <span style=\"color: #008000; text-decoration-color: #008000\">'czwom4k'</span>,\n",
       "<span style=\"color: #7fbf7f; text-decoration-color: #7fbf7f\">│   │   </span><span style=\"color: #008000; text-decoration-color: #008000\">'userid'</span>: <span style=\"color: #008000; text-decoration-color: #008000\">'troahey'</span>,\n",
       "<span style=\"color: #7fbf7f; text-decoration-color: #7fbf7f\">│   │   </span><span style=\"color: #008000; text-decoration-color: #008000\">'text'</span>: <span style=\"color: #008000; text-decoration-color: #008000\">\"&gt;  you can invent a new slur and use it to your weird heart's content.\\n\\nsee: mansplaining\"</span>,\n",
       "<span style=\"color: #7fbf7f; text-decoration-color: #7fbf7f\">│   │   </span><span style=\"color: #008000; text-decoration-color: #008000\">'timestamp'</span>: <span style=\"color: #008080; text-decoration-color: #008080; font-weight: bold\">1455235618</span>\n",
       "<span style=\"color: #7fbf7f; text-decoration-color: #7fbf7f\">│   </span><span style=\"font-weight: bold\">}</span>,\n",
       "<span style=\"color: #7fbf7f; text-decoration-color: #7fbf7f\">│   </span><span style=\"color: #008000; text-decoration-color: #008000\">'split'</span>: <span style=\"color: #008000; text-decoration-color: #008000\">'train'</span>\n",
       "<span style=\"font-weight: bold\">}</span>\n",
       "</pre>\n"
      ],
      "text/plain": [
       "\u001b[1m{\u001b[0m\n",
       "\u001b[2;32m│   \u001b[0m\u001b[32m'statement'\u001b[0m: \u001b[32m'\\'Mansplaining\\' is nothing more than a baseless gender-slur and is just as ignorant as other slurs like \"Ni****-rigged\" and \"Jewed down\"'\u001b[0m,\n",
       "\u001b[2;32m│   \u001b[0m\u001b[32m'submission_id'\u001b[0m: \u001b[32m'45adoi'\u001b[0m,\n",
       "\u001b[2;32m│   \u001b[0m\u001b[32m'penultimate_utterance'\u001b[0m: \u001b[1m{\u001b[0m\n",
       "\u001b[2;32m│   │   \u001b[0m\u001b[32m'id'\u001b[0m: \u001b[32m'czwogbc'\u001b[0m,\n",
       "\u001b[2;32m│   │   \u001b[0m\u001b[32m'userid'\u001b[0m: \u001b[32m'SynapticSight'\u001b[0m,\n",
       "\u001b[2;32m│   │   \u001b[0m\u001b[32m'text'\u001b[0m: \u001b[32m\"By definition that isn't a racial slur, is it? So sure, you can invent a new slur and use it to your weird heart's content. But no, you'll have a tough time redefining the word for yourself and expecting others to not be aware of how it's pervaded culture in a very particular way.\\n\\nGranted, the more you respond to me the more I realize you're just an arguer and not at all interested in listening, so I have a feeling this conversation will end quite soon.\"\u001b[0m,\n",
       "\u001b[2;32m│   │   \u001b[0m\u001b[32m'timestamp'\u001b[0m: \u001b[1;36m1455235350\u001b[0m\n",
       "\u001b[2;32m│   \u001b[0m\u001b[1m}\u001b[0m,\n",
       "\u001b[2;32m│   \u001b[0m\u001b[32m'last_utterance'\u001b[0m: \u001b[1m{\u001b[0m\n",
       "\u001b[2;32m│   │   \u001b[0m\u001b[32m'id'\u001b[0m: \u001b[32m'czwom4k'\u001b[0m,\n",
       "\u001b[2;32m│   │   \u001b[0m\u001b[32m'userid'\u001b[0m: \u001b[32m'troahey'\u001b[0m,\n",
       "\u001b[2;32m│   │   \u001b[0m\u001b[32m'text'\u001b[0m: \u001b[32m\">  you can invent a new slur and use it to your weird heart's content.\\n\\nsee: mansplaining\"\u001b[0m,\n",
       "\u001b[2;32m│   │   \u001b[0m\u001b[32m'timestamp'\u001b[0m: \u001b[1;36m1455235618\u001b[0m\n",
       "\u001b[2;32m│   \u001b[0m\u001b[1m}\u001b[0m,\n",
       "\u001b[2;32m│   \u001b[0m\u001b[32m'split'\u001b[0m: \u001b[32m'train'\u001b[0m\n",
       "\u001b[1m}\u001b[0m\n"
      ]
     },
     "metadata": {},
     "output_type": "display_data"
    },
    {
     "name": "stdout",
     "output_type": "stream",
     "text": [
      "Sample 70:\n"
     ]
    },
    {
     "data": {
      "text/html": [
       "<pre style=\"white-space:pre;overflow-x:auto;line-height:normal;font-family:Menlo,'DejaVu Sans Mono',consolas,'Courier New',monospace\"><span style=\"font-weight: bold\">{</span>\n",
       "<span style=\"color: #7fbf7f; text-decoration-color: #7fbf7f\">│   </span><span style=\"color: #008000; text-decoration-color: #008000\">'statement'</span>: <span style=\"color: #008000; text-decoration-color: #008000\">'\\'Mansplaining\\' is nothing more than a baseless gender-slur and is just as ignorant as other slurs like \"Ni****-rigged\" and \"Jewed down\"'</span>,\n",
       "<span style=\"color: #7fbf7f; text-decoration-color: #7fbf7f\">│   </span><span style=\"color: #008000; text-decoration-color: #008000\">'submission_id'</span>: <span style=\"color: #008000; text-decoration-color: #008000\">'45adoi'</span>,\n",
       "<span style=\"color: #7fbf7f; text-decoration-color: #7fbf7f\">│   </span><span style=\"color: #008000; text-decoration-color: #008000\">'penultimate_utterance'</span>: <span style=\"font-weight: bold\">{</span>\n",
       "<span style=\"color: #7fbf7f; text-decoration-color: #7fbf7f\">│   │   </span><span style=\"color: #008000; text-decoration-color: #008000\">'id'</span>: <span style=\"color: #008000; text-decoration-color: #008000\">'czwhl3z'</span>,\n",
       "<span style=\"color: #7fbf7f; text-decoration-color: #7fbf7f\">│   │   </span><span style=\"color: #008000; text-decoration-color: #008000\">'userid'</span>: <span style=\"color: #008000; text-decoration-color: #008000\">'MonkRome'</span>,\n",
       "<span style=\"color: #7fbf7f; text-decoration-color: #7fbf7f\">│   │   </span><span style=\"color: #008000; text-decoration-color: #008000\">'text'</span>: <span style=\"color: #008000; text-decoration-color: #008000\">'Gender stereotypes impact both genders.  That does not mean that the power structure is not weighted in one direction.'</span>,\n",
       "<span style=\"color: #7fbf7f; text-decoration-color: #7fbf7f\">│   │   </span><span style=\"color: #008000; text-decoration-color: #008000\">'timestamp'</span>: <span style=\"color: #008080; text-decoration-color: #008080; font-weight: bold\">1455225457</span>\n",
       "<span style=\"color: #7fbf7f; text-decoration-color: #7fbf7f\">│   </span><span style=\"font-weight: bold\">}</span>,\n",
       "<span style=\"color: #7fbf7f; text-decoration-color: #7fbf7f\">│   </span><span style=\"color: #008000; text-decoration-color: #008000\">'last_utterance'</span>: <span style=\"font-weight: bold\">{</span>\n",
       "<span style=\"color: #7fbf7f; text-decoration-color: #7fbf7f\">│   │   </span><span style=\"color: #008000; text-decoration-color: #008000\">'id'</span>: <span style=\"color: #008000; text-decoration-color: #008000\">'czx0ha0'</span>,\n",
       "<span style=\"color: #7fbf7f; text-decoration-color: #7fbf7f\">│   │   </span><span style=\"color: #008000; text-decoration-color: #008000\">'userid'</span>: <span style=\"color: #008000; text-decoration-color: #008000\">'eDgEIN708'</span>,\n",
       "<span style=\"color: #7fbf7f; text-decoration-color: #7fbf7f\">│   │   </span><span style=\"color: #008000; text-decoration-color: #008000\">'text'</span>: <span style=\"color: #008000; text-decoration-color: #008000\">'&gt;  That does not mean that the power structure is not weighted in one direction.\\n\\nWell it\\'s a good thing sexism has nothing to do with power.\\n\\nIt\\'s funny (and very convenient) how much of an overlap there is, too, between the people who are fond of using the term \"mansplaining\" and the people who try to convince others that the \"prejudice + power\" definition is the only acceptable one.'</span>,\n",
       "<span style=\"color: #7fbf7f; text-decoration-color: #7fbf7f\">│   │   </span><span style=\"color: #008000; text-decoration-color: #008000\">'timestamp'</span>: <span style=\"color: #008080; text-decoration-color: #008080; font-weight: bold\">1455255400</span>\n",
       "<span style=\"color: #7fbf7f; text-decoration-color: #7fbf7f\">│   </span><span style=\"font-weight: bold\">}</span>,\n",
       "<span style=\"color: #7fbf7f; text-decoration-color: #7fbf7f\">│   </span><span style=\"color: #008000; text-decoration-color: #008000\">'split'</span>: <span style=\"color: #008000; text-decoration-color: #008000\">'train'</span>\n",
       "<span style=\"font-weight: bold\">}</span>\n",
       "</pre>\n"
      ],
      "text/plain": [
       "\u001b[1m{\u001b[0m\n",
       "\u001b[2;32m│   \u001b[0m\u001b[32m'statement'\u001b[0m: \u001b[32m'\\'Mansplaining\\' is nothing more than a baseless gender-slur and is just as ignorant as other slurs like \"Ni****-rigged\" and \"Jewed down\"'\u001b[0m,\n",
       "\u001b[2;32m│   \u001b[0m\u001b[32m'submission_id'\u001b[0m: \u001b[32m'45adoi'\u001b[0m,\n",
       "\u001b[2;32m│   \u001b[0m\u001b[32m'penultimate_utterance'\u001b[0m: \u001b[1m{\u001b[0m\n",
       "\u001b[2;32m│   │   \u001b[0m\u001b[32m'id'\u001b[0m: \u001b[32m'czwhl3z'\u001b[0m,\n",
       "\u001b[2;32m│   │   \u001b[0m\u001b[32m'userid'\u001b[0m: \u001b[32m'MonkRome'\u001b[0m,\n",
       "\u001b[2;32m│   │   \u001b[0m\u001b[32m'text'\u001b[0m: \u001b[32m'Gender stereotypes impact both genders.  That does not mean that the power structure is not weighted in one direction.'\u001b[0m,\n",
       "\u001b[2;32m│   │   \u001b[0m\u001b[32m'timestamp'\u001b[0m: \u001b[1;36m1455225457\u001b[0m\n",
       "\u001b[2;32m│   \u001b[0m\u001b[1m}\u001b[0m,\n",
       "\u001b[2;32m│   \u001b[0m\u001b[32m'last_utterance'\u001b[0m: \u001b[1m{\u001b[0m\n",
       "\u001b[2;32m│   │   \u001b[0m\u001b[32m'id'\u001b[0m: \u001b[32m'czx0ha0'\u001b[0m,\n",
       "\u001b[2;32m│   │   \u001b[0m\u001b[32m'userid'\u001b[0m: \u001b[32m'eDgEIN708'\u001b[0m,\n",
       "\u001b[2;32m│   │   \u001b[0m\u001b[32m'text'\u001b[0m: \u001b[32m'>  That does not mean that the power structure is not weighted in one direction.\\n\\nWell it\\'s a good thing sexism has nothing to do with power.\\n\\nIt\\'s funny \u001b[0m\u001b[32m(\u001b[0m\u001b[32mand very convenient\u001b[0m\u001b[32m)\u001b[0m\u001b[32m how much of an overlap there is, too, between the people who are fond of using the term \"mansplaining\" and the people who try to convince others that the \"prejudice + power\" definition is the only acceptable one.'\u001b[0m,\n",
       "\u001b[2;32m│   │   \u001b[0m\u001b[32m'timestamp'\u001b[0m: \u001b[1;36m1455255400\u001b[0m\n",
       "\u001b[2;32m│   \u001b[0m\u001b[1m}\u001b[0m,\n",
       "\u001b[2;32m│   \u001b[0m\u001b[32m'split'\u001b[0m: \u001b[32m'train'\u001b[0m\n",
       "\u001b[1m}\u001b[0m\n"
      ]
     },
     "metadata": {},
     "output_type": "display_data"
    },
    {
     "name": "stdout",
     "output_type": "stream",
     "text": [
      "Sample 71:\n"
     ]
    },
    {
     "data": {
      "text/html": [
       "<pre style=\"white-space:pre;overflow-x:auto;line-height:normal;font-family:Menlo,'DejaVu Sans Mono',consolas,'Courier New',monospace\"><span style=\"font-weight: bold\">{</span>\n",
       "<span style=\"color: #7fbf7f; text-decoration-color: #7fbf7f\">│   </span><span style=\"color: #008000; text-decoration-color: #008000\">'statement'</span>: <span style=\"color: #008000; text-decoration-color: #008000\">'\\'Mansplaining\\' is nothing more than a baseless gender-slur and is just as ignorant as other slurs like \"Ni****-rigged\" and \"Jewed down\"'</span>,\n",
       "<span style=\"color: #7fbf7f; text-decoration-color: #7fbf7f\">│   </span><span style=\"color: #008000; text-decoration-color: #008000\">'submission_id'</span>: <span style=\"color: #008000; text-decoration-color: #008000\">'45adoi'</span>,\n",
       "<span style=\"color: #7fbf7f; text-decoration-color: #7fbf7f\">│   </span><span style=\"color: #008000; text-decoration-color: #008000\">'penultimate_utterance'</span>: <span style=\"font-weight: bold\">{</span>\n",
       "<span style=\"color: #7fbf7f; text-decoration-color: #7fbf7f\">│   │   </span><span style=\"color: #008000; text-decoration-color: #008000\">'id'</span>: <span style=\"color: #008000; text-decoration-color: #008000\">'czxsznx'</span>,\n",
       "<span style=\"color: #7fbf7f; text-decoration-color: #7fbf7f\">│   │   </span><span style=\"color: #008000; text-decoration-color: #008000\">'userid'</span>: <span style=\"color: #008000; text-decoration-color: #008000\">'archie3000'</span>,\n",
       "<span style=\"color: #7fbf7f; text-decoration-color: #7fbf7f\">│   │   </span><span style=\"color: #008000; text-decoration-color: #008000\">'text'</span>: <span style=\"color: #008000; text-decoration-color: #008000\">\"If you're a bigot who wants to rationalize using slurs it makes perfect sense.\"</span>,\n",
       "<span style=\"color: #7fbf7f; text-decoration-color: #7fbf7f\">│   │   </span><span style=\"color: #008000; text-decoration-color: #008000\">'timestamp'</span>: <span style=\"color: #008080; text-decoration-color: #008080; font-weight: bold\">1455313504</span>\n",
       "<span style=\"color: #7fbf7f; text-decoration-color: #7fbf7f\">│   </span><span style=\"font-weight: bold\">}</span>,\n",
       "<span style=\"color: #7fbf7f; text-decoration-color: #7fbf7f\">│   </span><span style=\"color: #008000; text-decoration-color: #008000\">'last_utterance'</span>: <span style=\"font-weight: bold\">{</span>\n",
       "<span style=\"color: #7fbf7f; text-decoration-color: #7fbf7f\">│   │   </span><span style=\"color: #008000; text-decoration-color: #008000\">'id'</span>: <span style=\"color: #008000; text-decoration-color: #008000\">'czxuv27'</span>,\n",
       "<span style=\"color: #7fbf7f; text-decoration-color: #7fbf7f\">│   │   </span><span style=\"color: #008000; text-decoration-color: #008000\">'userid'</span>: <span style=\"color: #008000; text-decoration-color: #008000\">'SenatorMeathooks'</span>,\n",
       "<span style=\"color: #7fbf7f; text-decoration-color: #7fbf7f\">│   │   </span><span style=\"color: #008000; text-decoration-color: #008000\">'text'</span>: <span style=\"color: #008000; text-decoration-color: #008000\">\"The word 'man' is not a slur. You also appear to not understand what bigotry means either. Therefore, additional discourse with you will not only fail to be productive, it would undermine the purpose of this sub. Have a good evening.\"</span>,\n",
       "<span style=\"color: #7fbf7f; text-decoration-color: #7fbf7f\">│   │   </span><span style=\"color: #008000; text-decoration-color: #008000\">'timestamp'</span>: <span style=\"color: #008080; text-decoration-color: #008080; font-weight: bold\">1455316477</span>\n",
       "<span style=\"color: #7fbf7f; text-decoration-color: #7fbf7f\">│   </span><span style=\"font-weight: bold\">}</span>,\n",
       "<span style=\"color: #7fbf7f; text-decoration-color: #7fbf7f\">│   </span><span style=\"color: #008000; text-decoration-color: #008000\">'split'</span>: <span style=\"color: #008000; text-decoration-color: #008000\">'train'</span>\n",
       "<span style=\"font-weight: bold\">}</span>\n",
       "</pre>\n"
      ],
      "text/plain": [
       "\u001b[1m{\u001b[0m\n",
       "\u001b[2;32m│   \u001b[0m\u001b[32m'statement'\u001b[0m: \u001b[32m'\\'Mansplaining\\' is nothing more than a baseless gender-slur and is just as ignorant as other slurs like \"Ni****-rigged\" and \"Jewed down\"'\u001b[0m,\n",
       "\u001b[2;32m│   \u001b[0m\u001b[32m'submission_id'\u001b[0m: \u001b[32m'45adoi'\u001b[0m,\n",
       "\u001b[2;32m│   \u001b[0m\u001b[32m'penultimate_utterance'\u001b[0m: \u001b[1m{\u001b[0m\n",
       "\u001b[2;32m│   │   \u001b[0m\u001b[32m'id'\u001b[0m: \u001b[32m'czxsznx'\u001b[0m,\n",
       "\u001b[2;32m│   │   \u001b[0m\u001b[32m'userid'\u001b[0m: \u001b[32m'archie3000'\u001b[0m,\n",
       "\u001b[2;32m│   │   \u001b[0m\u001b[32m'text'\u001b[0m: \u001b[32m\"If you're a bigot who wants to rationalize using slurs it makes perfect sense.\"\u001b[0m,\n",
       "\u001b[2;32m│   │   \u001b[0m\u001b[32m'timestamp'\u001b[0m: \u001b[1;36m1455313504\u001b[0m\n",
       "\u001b[2;32m│   \u001b[0m\u001b[1m}\u001b[0m,\n",
       "\u001b[2;32m│   \u001b[0m\u001b[32m'last_utterance'\u001b[0m: \u001b[1m{\u001b[0m\n",
       "\u001b[2;32m│   │   \u001b[0m\u001b[32m'id'\u001b[0m: \u001b[32m'czxuv27'\u001b[0m,\n",
       "\u001b[2;32m│   │   \u001b[0m\u001b[32m'userid'\u001b[0m: \u001b[32m'SenatorMeathooks'\u001b[0m,\n",
       "\u001b[2;32m│   │   \u001b[0m\u001b[32m'text'\u001b[0m: \u001b[32m\"The word 'man' is not a slur. You also appear to not understand what bigotry means either. Therefore, additional discourse with you will not only fail to be productive, it would undermine the purpose of this sub. Have a good evening.\"\u001b[0m,\n",
       "\u001b[2;32m│   │   \u001b[0m\u001b[32m'timestamp'\u001b[0m: \u001b[1;36m1455316477\u001b[0m\n",
       "\u001b[2;32m│   \u001b[0m\u001b[1m}\u001b[0m,\n",
       "\u001b[2;32m│   \u001b[0m\u001b[32m'split'\u001b[0m: \u001b[32m'train'\u001b[0m\n",
       "\u001b[1m}\u001b[0m\n"
      ]
     },
     "metadata": {},
     "output_type": "display_data"
    },
    {
     "name": "stdout",
     "output_type": "stream",
     "text": [
      "Sample 72:\n"
     ]
    },
    {
     "data": {
      "text/html": [
       "<pre style=\"white-space:pre;overflow-x:auto;line-height:normal;font-family:Menlo,'DejaVu Sans Mono',consolas,'Courier New',monospace\"><span style=\"font-weight: bold\">{</span>\n",
       "<span style=\"color: #7fbf7f; text-decoration-color: #7fbf7f\">│   </span><span style=\"color: #008000; text-decoration-color: #008000\">'statement'</span>: <span style=\"color: #008000; text-decoration-color: #008000\">'It is hypocritical to call oneself pro-life yet not support healthcare as a basic human right'</span>,\n",
       "<span style=\"color: #7fbf7f; text-decoration-color: #7fbf7f\">│   </span><span style=\"color: #008000; text-decoration-color: #008000\">'submission_id'</span>: <span style=\"color: #008000; text-decoration-color: #008000\">'45obt1'</span>,\n",
       "<span style=\"color: #7fbf7f; text-decoration-color: #7fbf7f\">│   </span><span style=\"color: #008000; text-decoration-color: #008000\">'penultimate_utterance'</span>: <span style=\"font-weight: bold\">{</span>\n",
       "<span style=\"color: #7fbf7f; text-decoration-color: #7fbf7f\">│   │   </span><span style=\"color: #008000; text-decoration-color: #008000\">'id'</span>: <span style=\"color: #008000; text-decoration-color: #008000\">'czzg0zc'</span>,\n",
       "<span style=\"color: #7fbf7f; text-decoration-color: #7fbf7f\">│   │   </span><span style=\"color: #008000; text-decoration-color: #008000\">'userid'</span>: <span style=\"color: #008000; text-decoration-color: #008000\">'Dhalphir'</span>,\n",
       "<span style=\"color: #7fbf7f; text-decoration-color: #7fbf7f\">│   │   </span><span style=\"color: #008000; text-decoration-color: #008000\">'text'</span>: <span style=\"color: #008000; text-decoration-color: #008000\">'The point is that nobody is pro-abortion. They are pro-having the choice.'</span>,\n",
       "<span style=\"color: #7fbf7f; text-decoration-color: #7fbf7f\">│   │   </span><span style=\"color: #008000; text-decoration-color: #008000\">'timestamp'</span>: <span style=\"color: #008080; text-decoration-color: #008080; font-weight: bold\">1455446557</span>\n",
       "<span style=\"color: #7fbf7f; text-decoration-color: #7fbf7f\">│   </span><span style=\"font-weight: bold\">}</span>,\n",
       "<span style=\"color: #7fbf7f; text-decoration-color: #7fbf7f\">│   </span><span style=\"color: #008000; text-decoration-color: #008000\">'last_utterance'</span>: <span style=\"font-weight: bold\">{</span>\n",
       "<span style=\"color: #7fbf7f; text-decoration-color: #7fbf7f\">│   │   </span><span style=\"color: #008000; text-decoration-color: #008000\">'id'</span>: <span style=\"color: #008000; text-decoration-color: #008000\">'czzh9l9'</span>,\n",
       "<span style=\"color: #7fbf7f; text-decoration-color: #7fbf7f\">│   │   </span><span style=\"color: #008000; text-decoration-color: #008000\">'userid'</span>: <span style=\"color: #008000; text-decoration-color: #008000\">'getfuckingreal'</span>,\n",
       "<span style=\"color: #7fbf7f; text-decoration-color: #7fbf7f\">│   │   </span><span style=\"color: #008000; text-decoration-color: #008000\">'text'</span>: <span style=\"color: #008000; text-decoration-color: #008000\">'How can you not say you are pro-abortion if you oppose any use of the law to stop it? If someone were trying to make murder legal would you say they were pro-murder or pro-choice to murder or not?'</span>,\n",
       "<span style=\"color: #7fbf7f; text-decoration-color: #7fbf7f\">│   │   </span><span style=\"color: #008000; text-decoration-color: #008000\">'timestamp'</span>: <span style=\"color: #008080; text-decoration-color: #008080; font-weight: bold\">1455452053</span>\n",
       "<span style=\"color: #7fbf7f; text-decoration-color: #7fbf7f\">│   </span><span style=\"font-weight: bold\">}</span>,\n",
       "<span style=\"color: #7fbf7f; text-decoration-color: #7fbf7f\">│   </span><span style=\"color: #008000; text-decoration-color: #008000\">'split'</span>: <span style=\"color: #008000; text-decoration-color: #008000\">'train'</span>\n",
       "<span style=\"font-weight: bold\">}</span>\n",
       "</pre>\n"
      ],
      "text/plain": [
       "\u001b[1m{\u001b[0m\n",
       "\u001b[2;32m│   \u001b[0m\u001b[32m'statement'\u001b[0m: \u001b[32m'It is hypocritical to call oneself pro-life yet not support healthcare as a basic human right'\u001b[0m,\n",
       "\u001b[2;32m│   \u001b[0m\u001b[32m'submission_id'\u001b[0m: \u001b[32m'45obt1'\u001b[0m,\n",
       "\u001b[2;32m│   \u001b[0m\u001b[32m'penultimate_utterance'\u001b[0m: \u001b[1m{\u001b[0m\n",
       "\u001b[2;32m│   │   \u001b[0m\u001b[32m'id'\u001b[0m: \u001b[32m'czzg0zc'\u001b[0m,\n",
       "\u001b[2;32m│   │   \u001b[0m\u001b[32m'userid'\u001b[0m: \u001b[32m'Dhalphir'\u001b[0m,\n",
       "\u001b[2;32m│   │   \u001b[0m\u001b[32m'text'\u001b[0m: \u001b[32m'The point is that nobody is pro-abortion. They are pro-having the choice.'\u001b[0m,\n",
       "\u001b[2;32m│   │   \u001b[0m\u001b[32m'timestamp'\u001b[0m: \u001b[1;36m1455446557\u001b[0m\n",
       "\u001b[2;32m│   \u001b[0m\u001b[1m}\u001b[0m,\n",
       "\u001b[2;32m│   \u001b[0m\u001b[32m'last_utterance'\u001b[0m: \u001b[1m{\u001b[0m\n",
       "\u001b[2;32m│   │   \u001b[0m\u001b[32m'id'\u001b[0m: \u001b[32m'czzh9l9'\u001b[0m,\n",
       "\u001b[2;32m│   │   \u001b[0m\u001b[32m'userid'\u001b[0m: \u001b[32m'getfuckingreal'\u001b[0m,\n",
       "\u001b[2;32m│   │   \u001b[0m\u001b[32m'text'\u001b[0m: \u001b[32m'How can you not say you are pro-abortion if you oppose any use of the law to stop it? If someone were trying to make murder legal would you say they were pro-murder or pro-choice to murder or not?'\u001b[0m,\n",
       "\u001b[2;32m│   │   \u001b[0m\u001b[32m'timestamp'\u001b[0m: \u001b[1;36m1455452053\u001b[0m\n",
       "\u001b[2;32m│   \u001b[0m\u001b[1m}\u001b[0m,\n",
       "\u001b[2;32m│   \u001b[0m\u001b[32m'split'\u001b[0m: \u001b[32m'train'\u001b[0m\n",
       "\u001b[1m}\u001b[0m\n"
      ]
     },
     "metadata": {},
     "output_type": "display_data"
    },
    {
     "name": "stdout",
     "output_type": "stream",
     "text": [
      "Sample 73:\n"
     ]
    },
    {
     "data": {
      "text/html": [
       "<pre style=\"white-space:pre;overflow-x:auto;line-height:normal;font-family:Menlo,'DejaVu Sans Mono',consolas,'Courier New',monospace\"><span style=\"font-weight: bold\">{</span>\n",
       "<span style=\"color: #7fbf7f; text-decoration-color: #7fbf7f\">│   </span><span style=\"color: #008000; text-decoration-color: #008000\">'statement'</span>: <span style=\"color: #008000; text-decoration-color: #008000\">'Donald Trump is a conman and his supporters are gullible fools or willfully ignorant.'</span>,\n",
       "<span style=\"color: #7fbf7f; text-decoration-color: #7fbf7f\">│   </span><span style=\"color: #008000; text-decoration-color: #008000\">'submission_id'</span>: <span style=\"color: #008000; text-decoration-color: #008000\">'45r5th'</span>,\n",
       "<span style=\"color: #7fbf7f; text-decoration-color: #7fbf7f\">│   </span><span style=\"color: #008000; text-decoration-color: #008000\">'penultimate_utterance'</span>: <span style=\"font-weight: bold\">{</span>\n",
       "<span style=\"color: #7fbf7f; text-decoration-color: #7fbf7f\">│   │   </span><span style=\"color: #008000; text-decoration-color: #008000\">'id'</span>: <span style=\"color: #008000; text-decoration-color: #008000\">'czzz6of'</span>,\n",
       "<span style=\"color: #7fbf7f; text-decoration-color: #7fbf7f\">│   │   </span><span style=\"color: #008000; text-decoration-color: #008000\">'userid'</span>: <span style=\"color: #008000; text-decoration-color: #008000\">'FountainsOfFluids'</span>,\n",
       "<span style=\"color: #7fbf7f; text-decoration-color: #7fbf7f\">│   │   </span><span style=\"color: #008000; text-decoration-color: #008000\">'text'</span>: <span style=\"color: #008000; text-decoration-color: #008000\">\"That video still points to people who are dupes, though perhaps Trump is one of the dupes.\\n\\nThey believe that Muslims are killing Americans, but that's just flat out wrong by any measurement. They are Fox Media victims.\"</span>,\n",
       "<span style=\"color: #7fbf7f; text-decoration-color: #7fbf7f\">│   │   </span><span style=\"color: #008000; text-decoration-color: #008000\">'timestamp'</span>: <span style=\"color: #008080; text-decoration-color: #008080; font-weight: bold\">1455487478</span>\n",
       "<span style=\"color: #7fbf7f; text-decoration-color: #7fbf7f\">│   </span><span style=\"font-weight: bold\">}</span>,\n",
       "<span style=\"color: #7fbf7f; text-decoration-color: #7fbf7f\">│   </span><span style=\"color: #008000; text-decoration-color: #008000\">'last_utterance'</span>: <span style=\"font-weight: bold\">{</span>\n",
       "<span style=\"color: #7fbf7f; text-decoration-color: #7fbf7f\">│   │   </span><span style=\"color: #008000; text-decoration-color: #008000\">'id'</span>: <span style=\"color: #008000; text-decoration-color: #008000\">'d009wqj'</span>,\n",
       "<span style=\"color: #7fbf7f; text-decoration-color: #7fbf7f\">│   │   </span><span style=\"color: #008000; text-decoration-color: #008000\">'userid'</span>: <span style=\"color: #008000; text-decoration-color: #008000\">'thrasumachos'</span>,\n",
       "<span style=\"color: #7fbf7f; text-decoration-color: #7fbf7f\">│   │   </span><span style=\"color: #008000; text-decoration-color: #008000\">'text'</span>: <span style=\"color: #008000; text-decoration-color: #008000\">\"Flat out wrong? Muslims are killing American troops throughout the middle east, and there have been several acts of domestic terror perpetrated on US soil. Muslims absolutely are killing Americans. It's dumb to pin it on all Muslims, but it's equally dumb to deny the facts.\"</span>,\n",
       "<span style=\"color: #7fbf7f; text-decoration-color: #7fbf7f\">│   │   </span><span style=\"color: #008000; text-decoration-color: #008000\">'timestamp'</span>: <span style=\"color: #008080; text-decoration-color: #008080; font-weight: bold\">1455506977</span>\n",
       "<span style=\"color: #7fbf7f; text-decoration-color: #7fbf7f\">│   </span><span style=\"font-weight: bold\">}</span>,\n",
       "<span style=\"color: #7fbf7f; text-decoration-color: #7fbf7f\">│   </span><span style=\"color: #008000; text-decoration-color: #008000\">'split'</span>: <span style=\"color: #008000; text-decoration-color: #008000\">'train'</span>\n",
       "<span style=\"font-weight: bold\">}</span>\n",
       "</pre>\n"
      ],
      "text/plain": [
       "\u001b[1m{\u001b[0m\n",
       "\u001b[2;32m│   \u001b[0m\u001b[32m'statement'\u001b[0m: \u001b[32m'Donald Trump is a conman and his supporters are gullible fools or willfully ignorant.'\u001b[0m,\n",
       "\u001b[2;32m│   \u001b[0m\u001b[32m'submission_id'\u001b[0m: \u001b[32m'45r5th'\u001b[0m,\n",
       "\u001b[2;32m│   \u001b[0m\u001b[32m'penultimate_utterance'\u001b[0m: \u001b[1m{\u001b[0m\n",
       "\u001b[2;32m│   │   \u001b[0m\u001b[32m'id'\u001b[0m: \u001b[32m'czzz6of'\u001b[0m,\n",
       "\u001b[2;32m│   │   \u001b[0m\u001b[32m'userid'\u001b[0m: \u001b[32m'FountainsOfFluids'\u001b[0m,\n",
       "\u001b[2;32m│   │   \u001b[0m\u001b[32m'text'\u001b[0m: \u001b[32m\"That video still points to people who are dupes, though perhaps Trump is one of the dupes.\\n\\nThey believe that Muslims are killing Americans, but that's just flat out wrong by any measurement. They are Fox Media victims.\"\u001b[0m,\n",
       "\u001b[2;32m│   │   \u001b[0m\u001b[32m'timestamp'\u001b[0m: \u001b[1;36m1455487478\u001b[0m\n",
       "\u001b[2;32m│   \u001b[0m\u001b[1m}\u001b[0m,\n",
       "\u001b[2;32m│   \u001b[0m\u001b[32m'last_utterance'\u001b[0m: \u001b[1m{\u001b[0m\n",
       "\u001b[2;32m│   │   \u001b[0m\u001b[32m'id'\u001b[0m: \u001b[32m'd009wqj'\u001b[0m,\n",
       "\u001b[2;32m│   │   \u001b[0m\u001b[32m'userid'\u001b[0m: \u001b[32m'thrasumachos'\u001b[0m,\n",
       "\u001b[2;32m│   │   \u001b[0m\u001b[32m'text'\u001b[0m: \u001b[32m\"Flat out wrong? Muslims are killing American troops throughout the middle east, and there have been several acts of domestic terror perpetrated on US soil. Muslims absolutely are killing Americans. It's dumb to pin it on all Muslims, but it's equally dumb to deny the facts.\"\u001b[0m,\n",
       "\u001b[2;32m│   │   \u001b[0m\u001b[32m'timestamp'\u001b[0m: \u001b[1;36m1455506977\u001b[0m\n",
       "\u001b[2;32m│   \u001b[0m\u001b[1m}\u001b[0m,\n",
       "\u001b[2;32m│   \u001b[0m\u001b[32m'split'\u001b[0m: \u001b[32m'train'\u001b[0m\n",
       "\u001b[1m}\u001b[0m\n"
      ]
     },
     "metadata": {},
     "output_type": "display_data"
    },
    {
     "name": "stdout",
     "output_type": "stream",
     "text": [
      "Sample 74:\n"
     ]
    },
    {
     "data": {
      "text/html": [
       "<pre style=\"white-space:pre;overflow-x:auto;line-height:normal;font-family:Menlo,'DejaVu Sans Mono',consolas,'Courier New',monospace\"><span style=\"font-weight: bold\">{</span>\n",
       "<span style=\"color: #7fbf7f; text-decoration-color: #7fbf7f\">│   </span><span style=\"color: #008000; text-decoration-color: #008000\">'statement'</span>: <span style=\"color: #008000; text-decoration-color: #008000\">'You cannot build an equivalent PC for the price of a console'</span>,\n",
       "<span style=\"color: #7fbf7f; text-decoration-color: #7fbf7f\">│   </span><span style=\"color: #008000; text-decoration-color: #008000\">'submission_id'</span>: <span style=\"color: #008000; text-decoration-color: #008000\">'461796'</span>,\n",
       "<span style=\"color: #7fbf7f; text-decoration-color: #7fbf7f\">│   </span><span style=\"color: #008000; text-decoration-color: #008000\">'penultimate_utterance'</span>: <span style=\"font-weight: bold\">{</span>\n",
       "<span style=\"color: #7fbf7f; text-decoration-color: #7fbf7f\">│   │   </span><span style=\"color: #008000; text-decoration-color: #008000\">'id'</span>: <span style=\"color: #008000; text-decoration-color: #008000\">'d02qlgz'</span>,\n",
       "<span style=\"color: #7fbf7f; text-decoration-color: #7fbf7f\">│   │   </span><span style=\"color: #008000; text-decoration-color: #008000\">'userid'</span>: <span style=\"color: #008000; text-decoration-color: #008000\">'AhNeem'</span>,\n",
       "<span style=\"color: #7fbf7f; text-decoration-color: #7fbf7f\">│   │   </span><span style=\"color: #008000; text-decoration-color: #008000\">'text'</span>: <span style=\"color: #008000; text-decoration-color: #008000\">'You\\'re circle jerking console vs pc when that wasn\\'t the point of the post. This is exactly what you said \"Lol, this is no longer about PC vs consoles but about furniture.\". And that\\'s where me saying your circlejerking PC came from.'</span>,\n",
       "<span style=\"color: #7fbf7f; text-decoration-color: #7fbf7f\">│   │   </span><span style=\"color: #008000; text-decoration-color: #008000\">'timestamp'</span>: <span style=\"color: #008080; text-decoration-color: #008080; font-weight: bold\">1455677077</span>\n",
       "<span style=\"color: #7fbf7f; text-decoration-color: #7fbf7f\">│   </span><span style=\"font-weight: bold\">}</span>,\n",
       "<span style=\"color: #7fbf7f; text-decoration-color: #7fbf7f\">│   </span><span style=\"color: #008000; text-decoration-color: #008000\">'last_utterance'</span>: <span style=\"font-weight: bold\">{</span>\n",
       "<span style=\"color: #7fbf7f; text-decoration-color: #7fbf7f\">│   │   </span><span style=\"color: #008000; text-decoration-color: #008000\">'id'</span>: <span style=\"color: #008000; text-decoration-color: #008000\">'d02qsna'</span>,\n",
       "<span style=\"color: #7fbf7f; text-decoration-color: #7fbf7f\">│   │   </span><span style=\"color: #008000; text-decoration-color: #008000\">'userid'</span>: <span style=\"color: #008000; text-decoration-color: #008000\">'shadmed'</span>,\n",
       "<span style=\"color: #7fbf7f; text-decoration-color: #7fbf7f\">│   │   </span><span style=\"color: #008000; text-decoration-color: #008000\">'text'</span>: <span style=\"color: #008000; text-decoration-color: #008000\">'Rule 3\\n\\n\"Refrain from accusing OP or anyone else of being unwilling to change their view.'</span>,\n",
       "<span style=\"color: #7fbf7f; text-decoration-color: #7fbf7f\">│   │   </span><span style=\"color: #008000; text-decoration-color: #008000\">'timestamp'</span>: <span style=\"color: #008080; text-decoration-color: #008080; font-weight: bold\">1455677381</span>\n",
       "<span style=\"color: #7fbf7f; text-decoration-color: #7fbf7f\">│   </span><span style=\"font-weight: bold\">}</span>,\n",
       "<span style=\"color: #7fbf7f; text-decoration-color: #7fbf7f\">│   </span><span style=\"color: #008000; text-decoration-color: #008000\">'split'</span>: <span style=\"color: #008000; text-decoration-color: #008000\">'train'</span>\n",
       "<span style=\"font-weight: bold\">}</span>\n",
       "</pre>\n"
      ],
      "text/plain": [
       "\u001b[1m{\u001b[0m\n",
       "\u001b[2;32m│   \u001b[0m\u001b[32m'statement'\u001b[0m: \u001b[32m'You cannot build an equivalent PC for the price of a console'\u001b[0m,\n",
       "\u001b[2;32m│   \u001b[0m\u001b[32m'submission_id'\u001b[0m: \u001b[32m'461796'\u001b[0m,\n",
       "\u001b[2;32m│   \u001b[0m\u001b[32m'penultimate_utterance'\u001b[0m: \u001b[1m{\u001b[0m\n",
       "\u001b[2;32m│   │   \u001b[0m\u001b[32m'id'\u001b[0m: \u001b[32m'd02qlgz'\u001b[0m,\n",
       "\u001b[2;32m│   │   \u001b[0m\u001b[32m'userid'\u001b[0m: \u001b[32m'AhNeem'\u001b[0m,\n",
       "\u001b[2;32m│   │   \u001b[0m\u001b[32m'text'\u001b[0m: \u001b[32m'You\\'re circle jerking console vs pc when that wasn\\'t the point of the post. This is exactly what you said \"Lol, this is no longer about PC vs consoles but about furniture.\". And that\\'s where me saying your circlejerking PC came from.'\u001b[0m,\n",
       "\u001b[2;32m│   │   \u001b[0m\u001b[32m'timestamp'\u001b[0m: \u001b[1;36m1455677077\u001b[0m\n",
       "\u001b[2;32m│   \u001b[0m\u001b[1m}\u001b[0m,\n",
       "\u001b[2;32m│   \u001b[0m\u001b[32m'last_utterance'\u001b[0m: \u001b[1m{\u001b[0m\n",
       "\u001b[2;32m│   │   \u001b[0m\u001b[32m'id'\u001b[0m: \u001b[32m'd02qsna'\u001b[0m,\n",
       "\u001b[2;32m│   │   \u001b[0m\u001b[32m'userid'\u001b[0m: \u001b[32m'shadmed'\u001b[0m,\n",
       "\u001b[2;32m│   │   \u001b[0m\u001b[32m'text'\u001b[0m: \u001b[32m'Rule 3\\n\\n\"Refrain from accusing OP or anyone else of being unwilling to change their view.'\u001b[0m,\n",
       "\u001b[2;32m│   │   \u001b[0m\u001b[32m'timestamp'\u001b[0m: \u001b[1;36m1455677381\u001b[0m\n",
       "\u001b[2;32m│   \u001b[0m\u001b[1m}\u001b[0m,\n",
       "\u001b[2;32m│   \u001b[0m\u001b[32m'split'\u001b[0m: \u001b[32m'train'\u001b[0m\n",
       "\u001b[1m}\u001b[0m\n"
      ]
     },
     "metadata": {},
     "output_type": "display_data"
    },
    {
     "name": "stdout",
     "output_type": "stream",
     "text": [
      "Sample 75:\n"
     ]
    },
    {
     "data": {
      "text/html": [
       "<pre style=\"white-space:pre;overflow-x:auto;line-height:normal;font-family:Menlo,'DejaVu Sans Mono',consolas,'Courier New',monospace\"><span style=\"font-weight: bold\">{</span>\n",
       "<span style=\"color: #7fbf7f; text-decoration-color: #7fbf7f\">│   </span><span style=\"color: #008000; text-decoration-color: #008000\">'statement'</span>: <span style=\"color: #008000; text-decoration-color: #008000\">'Facebook\\'s \"new\" policy on deleting or \"shutting down\" racist, homophobic, or other derogatory comments is wrong and essentially an infringement upon an individual\\'s right of identity and their freedom.'</span>,\n",
       "<span style=\"color: #7fbf7f; text-decoration-color: #7fbf7f\">│   </span><span style=\"color: #008000; text-decoration-color: #008000\">'submission_id'</span>: <span style=\"color: #008000; text-decoration-color: #008000\">'466efe'</span>,\n",
       "<span style=\"color: #7fbf7f; text-decoration-color: #7fbf7f\">│   </span><span style=\"color: #008000; text-decoration-color: #008000\">'penultimate_utterance'</span>: <span style=\"font-weight: bold\">{</span>\n",
       "<span style=\"color: #7fbf7f; text-decoration-color: #7fbf7f\">│   │   </span><span style=\"color: #008000; text-decoration-color: #008000\">'id'</span>: <span style=\"color: #008000; text-decoration-color: #008000\">'d03rdgw'</span>,\n",
       "<span style=\"color: #7fbf7f; text-decoration-color: #7fbf7f\">│   │   </span><span style=\"color: #008000; text-decoration-color: #008000\">'userid'</span>: <span style=\"color: #008000; text-decoration-color: #008000\">'thatawsomedude1'</span>,\n",
       "<span style=\"color: #7fbf7f; text-decoration-color: #7fbf7f\">│   │   </span><span style=\"color: #008000; text-decoration-color: #008000\">'text'</span>: <span style=\"color: #008000; text-decoration-color: #008000\">'Facebook helps Everyone in the world send their message when something is availiable, free and used by everyone in the world you cant call it private. Targetting certain groups for their opinions is a violation of freedom of speech. That is facebook saying these are the right opinions and these are the wrong opinions. A clear violation imo.'</span>,\n",
       "<span style=\"color: #7fbf7f; text-decoration-color: #7fbf7f\">│   │   </span><span style=\"color: #008000; text-decoration-color: #008000\">'timestamp'</span>: <span style=\"color: #008080; text-decoration-color: #008080; font-weight: bold\">1455747794</span>\n",
       "<span style=\"color: #7fbf7f; text-decoration-color: #7fbf7f\">│   </span><span style=\"font-weight: bold\">}</span>,\n",
       "<span style=\"color: #7fbf7f; text-decoration-color: #7fbf7f\">│   </span><span style=\"color: #008000; text-decoration-color: #008000\">'last_utterance'</span>: <span style=\"font-weight: bold\">{</span>\n",
       "<span style=\"color: #7fbf7f; text-decoration-color: #7fbf7f\">│   │   </span><span style=\"color: #008000; text-decoration-color: #008000\">'id'</span>: <span style=\"color: #008000; text-decoration-color: #008000\">'d04b64b'</span>,\n",
       "<span style=\"color: #7fbf7f; text-decoration-color: #7fbf7f\">│   │   </span><span style=\"color: #008000; text-decoration-color: #008000\">'userid'</span>: <span style=\"color: #008000; text-decoration-color: #008000\">'TomatoHere'</span>,\n",
       "<span style=\"color: #7fbf7f; text-decoration-color: #7fbf7f\">│   │   </span><span style=\"color: #008000; text-decoration-color: #008000\">'text'</span>: <span style=\"color: #008000; text-decoration-color: #008000\">'Facebook is not a state.'</span>,\n",
       "<span style=\"color: #7fbf7f; text-decoration-color: #7fbf7f\">│   │   </span><span style=\"color: #008000; text-decoration-color: #008000\">'timestamp'</span>: <span style=\"color: #008080; text-decoration-color: #008080; font-weight: bold\">1455784472</span>\n",
       "<span style=\"color: #7fbf7f; text-decoration-color: #7fbf7f\">│   </span><span style=\"font-weight: bold\">}</span>,\n",
       "<span style=\"color: #7fbf7f; text-decoration-color: #7fbf7f\">│   </span><span style=\"color: #008000; text-decoration-color: #008000\">'split'</span>: <span style=\"color: #008000; text-decoration-color: #008000\">'train'</span>\n",
       "<span style=\"font-weight: bold\">}</span>\n",
       "</pre>\n"
      ],
      "text/plain": [
       "\u001b[1m{\u001b[0m\n",
       "\u001b[2;32m│   \u001b[0m\u001b[32m'statement'\u001b[0m: \u001b[32m'Facebook\\'s \"new\" policy on deleting or \"shutting down\" racist, homophobic, or other derogatory comments is wrong and essentially an infringement upon an individual\\'s right of identity and their freedom.'\u001b[0m,\n",
       "\u001b[2;32m│   \u001b[0m\u001b[32m'submission_id'\u001b[0m: \u001b[32m'466efe'\u001b[0m,\n",
       "\u001b[2;32m│   \u001b[0m\u001b[32m'penultimate_utterance'\u001b[0m: \u001b[1m{\u001b[0m\n",
       "\u001b[2;32m│   │   \u001b[0m\u001b[32m'id'\u001b[0m: \u001b[32m'd03rdgw'\u001b[0m,\n",
       "\u001b[2;32m│   │   \u001b[0m\u001b[32m'userid'\u001b[0m: \u001b[32m'thatawsomedude1'\u001b[0m,\n",
       "\u001b[2;32m│   │   \u001b[0m\u001b[32m'text'\u001b[0m: \u001b[32m'Facebook helps Everyone in the world send their message when something is availiable, free and used by everyone in the world you cant call it private. Targetting certain groups for their opinions is a violation of freedom of speech. That is facebook saying these are the right opinions and these are the wrong opinions. A clear violation imo.'\u001b[0m,\n",
       "\u001b[2;32m│   │   \u001b[0m\u001b[32m'timestamp'\u001b[0m: \u001b[1;36m1455747794\u001b[0m\n",
       "\u001b[2;32m│   \u001b[0m\u001b[1m}\u001b[0m,\n",
       "\u001b[2;32m│   \u001b[0m\u001b[32m'last_utterance'\u001b[0m: \u001b[1m{\u001b[0m\n",
       "\u001b[2;32m│   │   \u001b[0m\u001b[32m'id'\u001b[0m: \u001b[32m'd04b64b'\u001b[0m,\n",
       "\u001b[2;32m│   │   \u001b[0m\u001b[32m'userid'\u001b[0m: \u001b[32m'TomatoHere'\u001b[0m,\n",
       "\u001b[2;32m│   │   \u001b[0m\u001b[32m'text'\u001b[0m: \u001b[32m'Facebook is not a state.'\u001b[0m,\n",
       "\u001b[2;32m│   │   \u001b[0m\u001b[32m'timestamp'\u001b[0m: \u001b[1;36m1455784472\u001b[0m\n",
       "\u001b[2;32m│   \u001b[0m\u001b[1m}\u001b[0m,\n",
       "\u001b[2;32m│   \u001b[0m\u001b[32m'split'\u001b[0m: \u001b[32m'train'\u001b[0m\n",
       "\u001b[1m}\u001b[0m\n"
      ]
     },
     "metadata": {},
     "output_type": "display_data"
    },
    {
     "name": "stdout",
     "output_type": "stream",
     "text": [
      "Sample 76:\n"
     ]
    },
    {
     "data": {
      "text/html": [
       "<pre style=\"white-space:pre;overflow-x:auto;line-height:normal;font-family:Menlo,'DejaVu Sans Mono',consolas,'Courier New',monospace\"><span style=\"font-weight: bold\">{</span>\n",
       "<span style=\"color: #7fbf7f; text-decoration-color: #7fbf7f\">│   </span><span style=\"color: #008000; text-decoration-color: #008000\">'statement'</span>: <span style=\"color: #008000; text-decoration-color: #008000\">\"Bernie Sanders voting against Don't Ask Don't Tell in 1993 is not an example of him fighting for LGBT rights, but instead is one of the largest blemishes on his record regarding LGBT rights\"</span>,\n",
       "<span style=\"color: #7fbf7f; text-decoration-color: #7fbf7f\">│   </span><span style=\"color: #008000; text-decoration-color: #008000\">'submission_id'</span>: <span style=\"color: #008000; text-decoration-color: #008000\">'46r2nl'</span>,\n",
       "<span style=\"color: #7fbf7f; text-decoration-color: #7fbf7f\">│   </span><span style=\"color: #008000; text-decoration-color: #008000\">'penultimate_utterance'</span>: <span style=\"font-weight: bold\">{</span>\n",
       "<span style=\"color: #7fbf7f; text-decoration-color: #7fbf7f\">│   │   </span><span style=\"color: #008000; text-decoration-color: #008000\">'id'</span>: <span style=\"color: #008000; text-decoration-color: #008000\">'d07caut'</span>,\n",
       "<span style=\"color: #7fbf7f; text-decoration-color: #7fbf7f\">│   │   </span><span style=\"color: #008000; text-decoration-color: #008000\">'userid'</span>: <span style=\"color: #008000; text-decoration-color: #008000\">'ButtVampireZ'</span>,\n",
       "<span style=\"color: #7fbf7f; text-decoration-color: #7fbf7f\">│   │   </span><span style=\"color: #008000; text-decoration-color: #008000\">'text'</span>: <span style=\"color: #008000; text-decoration-color: #008000\">\"In reality and in practice yes, I just said that pretty clearly didn't I?\\n\\nIn the ideal form, the *idea* behind the law... you are wrong, it forced *everyone* to not make sexual orientation a topic. Gays would not be special victims under that.\"</span>,\n",
       "<span style=\"color: #7fbf7f; text-decoration-color: #7fbf7f\">│   │   </span><span style=\"color: #008000; text-decoration-color: #008000\">'timestamp'</span>: <span style=\"color: #008080; text-decoration-color: #008080; font-weight: bold\">1455999059</span>\n",
       "<span style=\"color: #7fbf7f; text-decoration-color: #7fbf7f\">│   </span><span style=\"font-weight: bold\">}</span>,\n",
       "<span style=\"color: #7fbf7f; text-decoration-color: #7fbf7f\">│   </span><span style=\"color: #008000; text-decoration-color: #008000\">'last_utterance'</span>: <span style=\"font-weight: bold\">{</span>\n",
       "<span style=\"color: #7fbf7f; text-decoration-color: #7fbf7f\">│   │   </span><span style=\"color: #008000; text-decoration-color: #008000\">'id'</span>: <span style=\"color: #008000; text-decoration-color: #008000\">'d07rmb0'</span>,\n",
       "<span style=\"color: #7fbf7f; text-decoration-color: #7fbf7f\">│   │   </span><span style=\"color: #008000; text-decoration-color: #008000\">'userid'</span>: <span style=\"color: #008000; text-decoration-color: #008000\">'sylban'</span>,\n",
       "<span style=\"color: #7fbf7f; text-decoration-color: #7fbf7f\">│   │   </span><span style=\"color: #008000; text-decoration-color: #008000\">'text'</span>: <span style=\"color: #008000; text-decoration-color: #008000\">'You didn\\'t actually say very much of anything clearly, I\\'m sorry. Your earlier comment is a lot of hand-waving vagary about \"how things work\" and \"all that jazz\". Heavy on nebulous rhetoric, extremely lacking in solid statements you\\'d have to commit to and defend.\\n'</span>,\n",
       "<span style=\"color: #7fbf7f; text-decoration-color: #7fbf7f\">│   │   </span><span style=\"color: #008000; text-decoration-color: #008000\">'timestamp'</span>: <span style=\"color: #008080; text-decoration-color: #008080; font-weight: bold\">1456026277</span>\n",
       "<span style=\"color: #7fbf7f; text-decoration-color: #7fbf7f\">│   </span><span style=\"font-weight: bold\">}</span>,\n",
       "<span style=\"color: #7fbf7f; text-decoration-color: #7fbf7f\">│   </span><span style=\"color: #008000; text-decoration-color: #008000\">'split'</span>: <span style=\"color: #008000; text-decoration-color: #008000\">'train'</span>\n",
       "<span style=\"font-weight: bold\">}</span>\n",
       "</pre>\n"
      ],
      "text/plain": [
       "\u001b[1m{\u001b[0m\n",
       "\u001b[2;32m│   \u001b[0m\u001b[32m'statement'\u001b[0m: \u001b[32m\"Bernie Sanders voting against Don't Ask Don't Tell in 1993 is not an example of him fighting for LGBT rights, but instead is one of the largest blemishes on his record regarding LGBT rights\"\u001b[0m,\n",
       "\u001b[2;32m│   \u001b[0m\u001b[32m'submission_id'\u001b[0m: \u001b[32m'46r2nl'\u001b[0m,\n",
       "\u001b[2;32m│   \u001b[0m\u001b[32m'penultimate_utterance'\u001b[0m: \u001b[1m{\u001b[0m\n",
       "\u001b[2;32m│   │   \u001b[0m\u001b[32m'id'\u001b[0m: \u001b[32m'd07caut'\u001b[0m,\n",
       "\u001b[2;32m│   │   \u001b[0m\u001b[32m'userid'\u001b[0m: \u001b[32m'ButtVampireZ'\u001b[0m,\n",
       "\u001b[2;32m│   │   \u001b[0m\u001b[32m'text'\u001b[0m: \u001b[32m\"In reality and in practice yes, I just said that pretty clearly didn't I?\\n\\nIn the ideal form, the *idea* behind the law... you are wrong, it forced *everyone* to not make sexual orientation a topic. Gays would not be special victims under that.\"\u001b[0m,\n",
       "\u001b[2;32m│   │   \u001b[0m\u001b[32m'timestamp'\u001b[0m: \u001b[1;36m1455999059\u001b[0m\n",
       "\u001b[2;32m│   \u001b[0m\u001b[1m}\u001b[0m,\n",
       "\u001b[2;32m│   \u001b[0m\u001b[32m'last_utterance'\u001b[0m: \u001b[1m{\u001b[0m\n",
       "\u001b[2;32m│   │   \u001b[0m\u001b[32m'id'\u001b[0m: \u001b[32m'd07rmb0'\u001b[0m,\n",
       "\u001b[2;32m│   │   \u001b[0m\u001b[32m'userid'\u001b[0m: \u001b[32m'sylban'\u001b[0m,\n",
       "\u001b[2;32m│   │   \u001b[0m\u001b[32m'text'\u001b[0m: \u001b[32m'You didn\\'t actually say very much of anything clearly, I\\'m sorry. Your earlier comment is a lot of hand-waving vagary about \"how things work\" and \"all that jazz\". Heavy on nebulous rhetoric, extremely lacking in solid statements you\\'d have to commit to and defend.\\n'\u001b[0m,\n",
       "\u001b[2;32m│   │   \u001b[0m\u001b[32m'timestamp'\u001b[0m: \u001b[1;36m1456026277\u001b[0m\n",
       "\u001b[2;32m│   \u001b[0m\u001b[1m}\u001b[0m,\n",
       "\u001b[2;32m│   \u001b[0m\u001b[32m'split'\u001b[0m: \u001b[32m'train'\u001b[0m\n",
       "\u001b[1m}\u001b[0m\n"
      ]
     },
     "metadata": {},
     "output_type": "display_data"
    },
    {
     "name": "stdout",
     "output_type": "stream",
     "text": [
      "Sample 77:\n"
     ]
    },
    {
     "data": {
      "text/html": [
       "<pre style=\"white-space:pre;overflow-x:auto;line-height:normal;font-family:Menlo,'DejaVu Sans Mono',consolas,'Courier New',monospace\"><span style=\"font-weight: bold\">{</span>\n",
       "<span style=\"color: #7fbf7f; text-decoration-color: #7fbf7f\">│   </span><span style=\"color: #008000; text-decoration-color: #008000\">'statement'</span>: <span style=\"color: #008000; text-decoration-color: #008000\">'Instead of paying higher minimum wages we should increase the standard work week'</span>,\n",
       "<span style=\"color: #7fbf7f; text-decoration-color: #7fbf7f\">│   </span><span style=\"color: #008000; text-decoration-color: #008000\">'submission_id'</span>: <span style=\"color: #008000; text-decoration-color: #008000\">'4749dc'</span>,\n",
       "<span style=\"color: #7fbf7f; text-decoration-color: #7fbf7f\">│   </span><span style=\"color: #008000; text-decoration-color: #008000\">'penultimate_utterance'</span>: <span style=\"font-weight: bold\">{</span>\n",
       "<span style=\"color: #7fbf7f; text-decoration-color: #7fbf7f\">│   │   </span><span style=\"color: #008000; text-decoration-color: #008000\">'id'</span>: <span style=\"color: #008000; text-decoration-color: #008000\">'d4tcbbw'</span>,\n",
       "<span style=\"color: #7fbf7f; text-decoration-color: #7fbf7f\">│   │   </span><span style=\"color: #008000; text-decoration-color: #008000\">'userid'</span>: <span style=\"color: #008000; text-decoration-color: #008000\">'dragonsarealpha'</span>,\n",
       "<span style=\"color: #7fbf7f; text-decoration-color: #7fbf7f\">│   │   </span><span style=\"color: #008000; text-decoration-color: #008000\">'text'</span>: <span style=\"color: #008000; text-decoration-color: #008000\">\"They shouldn't have had kids if they weren't able to handle raising them on that salary.\"</span>,\n",
       "<span style=\"color: #7fbf7f; text-decoration-color: #7fbf7f\">│   │   </span><span style=\"color: #008000; text-decoration-color: #008000\">'timestamp'</span>: <span style=\"color: #008080; text-decoration-color: #008080; font-weight: bold\">1467246245</span>\n",
       "<span style=\"color: #7fbf7f; text-decoration-color: #7fbf7f\">│   </span><span style=\"font-weight: bold\">}</span>,\n",
       "<span style=\"color: #7fbf7f; text-decoration-color: #7fbf7f\">│   </span><span style=\"color: #008000; text-decoration-color: #008000\">'last_utterance'</span>: <span style=\"font-weight: bold\">{</span>\n",
       "<span style=\"color: #7fbf7f; text-decoration-color: #7fbf7f\">│   │   </span><span style=\"color: #008000; text-decoration-color: #008000\">'id'</span>: <span style=\"color: #008000; text-decoration-color: #008000\">'d4tfd0d'</span>,\n",
       "<span style=\"color: #7fbf7f; text-decoration-color: #7fbf7f\">│   │   </span><span style=\"color: #008000; text-decoration-color: #008000\">'userid'</span>: <span style=\"color: #008000; text-decoration-color: #008000\">'Birdy1072'</span>,\n",
       "<span style=\"color: #7fbf7f; text-decoration-color: #7fbf7f\">│   │   </span><span style=\"color: #008000; text-decoration-color: #008000\">'text'</span>: <span style=\"color: #008000; text-decoration-color: #008000\">'This was four months ago.  Why. '</span>,\n",
       "<span style=\"color: #7fbf7f; text-decoration-color: #7fbf7f\">│   │   </span><span style=\"color: #008000; text-decoration-color: #008000\">'timestamp'</span>: <span style=\"color: #008080; text-decoration-color: #008080; font-weight: bold\">1467251280</span>\n",
       "<span style=\"color: #7fbf7f; text-decoration-color: #7fbf7f\">│   </span><span style=\"font-weight: bold\">}</span>,\n",
       "<span style=\"color: #7fbf7f; text-decoration-color: #7fbf7f\">│   </span><span style=\"color: #008000; text-decoration-color: #008000\">'split'</span>: <span style=\"color: #008000; text-decoration-color: #008000\">'train'</span>\n",
       "<span style=\"font-weight: bold\">}</span>\n",
       "</pre>\n"
      ],
      "text/plain": [
       "\u001b[1m{\u001b[0m\n",
       "\u001b[2;32m│   \u001b[0m\u001b[32m'statement'\u001b[0m: \u001b[32m'Instead of paying higher minimum wages we should increase the standard work week'\u001b[0m,\n",
       "\u001b[2;32m│   \u001b[0m\u001b[32m'submission_id'\u001b[0m: \u001b[32m'4749dc'\u001b[0m,\n",
       "\u001b[2;32m│   \u001b[0m\u001b[32m'penultimate_utterance'\u001b[0m: \u001b[1m{\u001b[0m\n",
       "\u001b[2;32m│   │   \u001b[0m\u001b[32m'id'\u001b[0m: \u001b[32m'd4tcbbw'\u001b[0m,\n",
       "\u001b[2;32m│   │   \u001b[0m\u001b[32m'userid'\u001b[0m: \u001b[32m'dragonsarealpha'\u001b[0m,\n",
       "\u001b[2;32m│   │   \u001b[0m\u001b[32m'text'\u001b[0m: \u001b[32m\"They shouldn't have had kids if they weren't able to handle raising them on that salary.\"\u001b[0m,\n",
       "\u001b[2;32m│   │   \u001b[0m\u001b[32m'timestamp'\u001b[0m: \u001b[1;36m1467246245\u001b[0m\n",
       "\u001b[2;32m│   \u001b[0m\u001b[1m}\u001b[0m,\n",
       "\u001b[2;32m│   \u001b[0m\u001b[32m'last_utterance'\u001b[0m: \u001b[1m{\u001b[0m\n",
       "\u001b[2;32m│   │   \u001b[0m\u001b[32m'id'\u001b[0m: \u001b[32m'd4tfd0d'\u001b[0m,\n",
       "\u001b[2;32m│   │   \u001b[0m\u001b[32m'userid'\u001b[0m: \u001b[32m'Birdy1072'\u001b[0m,\n",
       "\u001b[2;32m│   │   \u001b[0m\u001b[32m'text'\u001b[0m: \u001b[32m'This was four months ago.  Why. '\u001b[0m,\n",
       "\u001b[2;32m│   │   \u001b[0m\u001b[32m'timestamp'\u001b[0m: \u001b[1;36m1467251280\u001b[0m\n",
       "\u001b[2;32m│   \u001b[0m\u001b[1m}\u001b[0m,\n",
       "\u001b[2;32m│   \u001b[0m\u001b[32m'split'\u001b[0m: \u001b[32m'train'\u001b[0m\n",
       "\u001b[1m}\u001b[0m\n"
      ]
     },
     "metadata": {},
     "output_type": "display_data"
    },
    {
     "name": "stdout",
     "output_type": "stream",
     "text": [
      "Sample 78:\n"
     ]
    },
    {
     "data": {
      "text/html": [
       "<pre style=\"white-space:pre;overflow-x:auto;line-height:normal;font-family:Menlo,'DejaVu Sans Mono',consolas,'Courier New',monospace\"><span style=\"font-weight: bold\">{</span>\n",
       "<span style=\"color: #7fbf7f; text-decoration-color: #7fbf7f\">│   </span><span style=\"color: #008000; text-decoration-color: #008000\">'statement'</span>: <span style=\"color: #008000; text-decoration-color: #008000\">\"There is no qualifiable difference between someone who is learning disabled and someone who just isn't good at something\"</span>,\n",
       "<span style=\"color: #7fbf7f; text-decoration-color: #7fbf7f\">│   </span><span style=\"color: #008000; text-decoration-color: #008000\">'submission_id'</span>: <span style=\"color: #008000; text-decoration-color: #008000\">'47zj6f'</span>,\n",
       "<span style=\"color: #7fbf7f; text-decoration-color: #7fbf7f\">│   </span><span style=\"color: #008000; text-decoration-color: #008000\">'penultimate_utterance'</span>: <span style=\"font-weight: bold\">{</span>\n",
       "<span style=\"color: #7fbf7f; text-decoration-color: #7fbf7f\">│   │   </span><span style=\"color: #008000; text-decoration-color: #008000\">'id'</span>: <span style=\"color: #008000; text-decoration-color: #008000\">'d0gx7f2'</span>,\n",
       "<span style=\"color: #7fbf7f; text-decoration-color: #7fbf7f\">│   │   </span><span style=\"color: #008000; text-decoration-color: #008000\">'userid'</span>: <span style=\"color: #008000; text-decoration-color: #008000\">'Midas_Stream'</span>,\n",
       "<span style=\"color: #7fbf7f; text-decoration-color: #7fbf7f\">│   │   </span><span style=\"color: #008000; text-decoration-color: #008000\">'text'</span>: <span style=\"color: #008000; text-decoration-color: #008000\">'Einstein was quite experienced with the mathematics and physical theories of his day. What exactly did you think he did in that patent office?\\n\\nHe did very well in school, spent all his free time thinking about technology and conversed regularly with peers in physical sciences.'</span>,\n",
       "<span style=\"color: #7fbf7f; text-decoration-color: #7fbf7f\">│   │   </span><span style=\"color: #008000; text-decoration-color: #008000\">'timestamp'</span>: <span style=\"color: #008080; text-decoration-color: #008080; font-weight: bold\">1456673587</span>\n",
       "<span style=\"color: #7fbf7f; text-decoration-color: #7fbf7f\">│   </span><span style=\"font-weight: bold\">}</span>,\n",
       "<span style=\"color: #7fbf7f; text-decoration-color: #7fbf7f\">│   </span><span style=\"color: #008000; text-decoration-color: #008000\">'last_utterance'</span>: <span style=\"font-weight: bold\">{</span>\n",
       "<span style=\"color: #7fbf7f; text-decoration-color: #7fbf7f\">│   │   </span><span style=\"color: #008000; text-decoration-color: #008000\">'id'</span>: <span style=\"color: #008000; text-decoration-color: #008000\">'d0gxfl8'</span>,\n",
       "<span style=\"color: #7fbf7f; text-decoration-color: #7fbf7f\">│   │   </span><span style=\"color: #008000; text-decoration-color: #008000\">'userid'</span>: <span style=\"color: #008000; text-decoration-color: #008000\">'english_major'</span>,\n",
       "<span style=\"color: #7fbf7f; text-decoration-color: #7fbf7f\">│   │   </span><span style=\"color: #008000; text-decoration-color: #008000\">'text'</span>: <span style=\"color: #008000; text-decoration-color: #008000\">'We all know that Einstein worked hard. We also know that his brain was wired for mathematics in a way that the average brain is not. '</span>,\n",
       "<span style=\"color: #7fbf7f; text-decoration-color: #7fbf7f\">│   │   </span><span style=\"color: #008000; text-decoration-color: #008000\">'timestamp'</span>: <span style=\"color: #008080; text-decoration-color: #008080; font-weight: bold\">1456674022</span>\n",
       "<span style=\"color: #7fbf7f; text-decoration-color: #7fbf7f\">│   </span><span style=\"font-weight: bold\">}</span>,\n",
       "<span style=\"color: #7fbf7f; text-decoration-color: #7fbf7f\">│   </span><span style=\"color: #008000; text-decoration-color: #008000\">'split'</span>: <span style=\"color: #008000; text-decoration-color: #008000\">'train'</span>\n",
       "<span style=\"font-weight: bold\">}</span>\n",
       "</pre>\n"
      ],
      "text/plain": [
       "\u001b[1m{\u001b[0m\n",
       "\u001b[2;32m│   \u001b[0m\u001b[32m'statement'\u001b[0m: \u001b[32m\"There is no qualifiable difference between someone who is learning disabled and someone who just isn't good at something\"\u001b[0m,\n",
       "\u001b[2;32m│   \u001b[0m\u001b[32m'submission_id'\u001b[0m: \u001b[32m'47zj6f'\u001b[0m,\n",
       "\u001b[2;32m│   \u001b[0m\u001b[32m'penultimate_utterance'\u001b[0m: \u001b[1m{\u001b[0m\n",
       "\u001b[2;32m│   │   \u001b[0m\u001b[32m'id'\u001b[0m: \u001b[32m'd0gx7f2'\u001b[0m,\n",
       "\u001b[2;32m│   │   \u001b[0m\u001b[32m'userid'\u001b[0m: \u001b[32m'Midas_Stream'\u001b[0m,\n",
       "\u001b[2;32m│   │   \u001b[0m\u001b[32m'text'\u001b[0m: \u001b[32m'Einstein was quite experienced with the mathematics and physical theories of his day. What exactly did you think he did in that patent office?\\n\\nHe did very well in school, spent all his free time thinking about technology and conversed regularly with peers in physical sciences.'\u001b[0m,\n",
       "\u001b[2;32m│   │   \u001b[0m\u001b[32m'timestamp'\u001b[0m: \u001b[1;36m1456673587\u001b[0m\n",
       "\u001b[2;32m│   \u001b[0m\u001b[1m}\u001b[0m,\n",
       "\u001b[2;32m│   \u001b[0m\u001b[32m'last_utterance'\u001b[0m: \u001b[1m{\u001b[0m\n",
       "\u001b[2;32m│   │   \u001b[0m\u001b[32m'id'\u001b[0m: \u001b[32m'd0gxfl8'\u001b[0m,\n",
       "\u001b[2;32m│   │   \u001b[0m\u001b[32m'userid'\u001b[0m: \u001b[32m'english_major'\u001b[0m,\n",
       "\u001b[2;32m│   │   \u001b[0m\u001b[32m'text'\u001b[0m: \u001b[32m'We all know that Einstein worked hard. We also know that his brain was wired for mathematics in a way that the average brain is not. '\u001b[0m,\n",
       "\u001b[2;32m│   │   \u001b[0m\u001b[32m'timestamp'\u001b[0m: \u001b[1;36m1456674022\u001b[0m\n",
       "\u001b[2;32m│   \u001b[0m\u001b[1m}\u001b[0m,\n",
       "\u001b[2;32m│   \u001b[0m\u001b[32m'split'\u001b[0m: \u001b[32m'train'\u001b[0m\n",
       "\u001b[1m}\u001b[0m\n"
      ]
     },
     "metadata": {},
     "output_type": "display_data"
    },
    {
     "name": "stdout",
     "output_type": "stream",
     "text": [
      "Sample 79:\n"
     ]
    },
    {
     "data": {
      "text/html": [
       "<pre style=\"white-space:pre;overflow-x:auto;line-height:normal;font-family:Menlo,'DejaVu Sans Mono',consolas,'Courier New',monospace\"><span style=\"font-weight: bold\">{</span>\n",
       "<span style=\"color: #7fbf7f; text-decoration-color: #7fbf7f\">│   </span><span style=\"color: #008000; text-decoration-color: #008000\">'statement'</span>: <span style=\"color: #008000; text-decoration-color: #008000\">'Transgender people have a are mentally ill and it is not bigoted to refuse to indulge their delusions.'</span>,\n",
       "<span style=\"color: #7fbf7f; text-decoration-color: #7fbf7f\">│   </span><span style=\"color: #008000; text-decoration-color: #008000\">'submission_id'</span>: <span style=\"color: #008000; text-decoration-color: #008000\">'493ztx'</span>,\n",
       "<span style=\"color: #7fbf7f; text-decoration-color: #7fbf7f\">│   </span><span style=\"color: #008000; text-decoration-color: #008000\">'penultimate_utterance'</span>: <span style=\"font-weight: bold\">{</span>\n",
       "<span style=\"color: #7fbf7f; text-decoration-color: #7fbf7f\">│   │   </span><span style=\"color: #008000; text-decoration-color: #008000\">'id'</span>: <span style=\"color: #008000; text-decoration-color: #008000\">'d0oviq6'</span>,\n",
       "<span style=\"color: #7fbf7f; text-decoration-color: #7fbf7f\">│   │   </span><span style=\"color: #008000; text-decoration-color: #008000\">'userid'</span>: <span style=\"color: #008000; text-decoration-color: #008000\">'sunset261'</span>,\n",
       "<span style=\"color: #7fbf7f; text-decoration-color: #7fbf7f\">│   │   </span><span style=\"color: #008000; text-decoration-color: #008000\">'text'</span>: <span style=\"color: #008000; text-decoration-color: #008000\">'&gt; Is there any reason I shouldn\\'t call you Johnpoop Mcthundercunt besides \"It might hurt your feeling if I do\" ?\\n\\nbecause that\\'s not my name. '</span>,\n",
       "<span style=\"color: #7fbf7f; text-decoration-color: #7fbf7f\">│   │   </span><span style=\"color: #008000; text-decoration-color: #008000\">'timestamp'</span>: <span style=\"color: #008080; text-decoration-color: #008080; font-weight: bold\">1457211955</span>\n",
       "<span style=\"color: #7fbf7f; text-decoration-color: #7fbf7f\">│   </span><span style=\"font-weight: bold\">}</span>,\n",
       "<span style=\"color: #7fbf7f; text-decoration-color: #7fbf7f\">│   </span><span style=\"color: #008000; text-decoration-color: #008000\">'last_utterance'</span>: <span style=\"font-weight: bold\">{</span>\n",
       "<span style=\"color: #7fbf7f; text-decoration-color: #7fbf7f\">│   │   </span><span style=\"color: #008000; text-decoration-color: #008000\">'id'</span>: <span style=\"color: #008000; text-decoration-color: #008000\">'d0ovt9u'</span>,\n",
       "<span style=\"color: #7fbf7f; text-decoration-color: #7fbf7f\">│   │   </span><span style=\"color: #008000; text-decoration-color: #008000\">'userid'</span>: <span style=\"color: #008000; text-decoration-color: #008000\">'karnim'</span>,\n",
       "<span style=\"color: #7fbf7f; text-decoration-color: #7fbf7f\">│   │   </span><span style=\"color: #008000; text-decoration-color: #008000\">'text'</span>: <span style=\"color: #008000; text-decoration-color: #008000\">\"According to you it isn't. But, according to Madplato, it is. So who do we believe? Do we go with what you want to be called/gendered, or do we trust what other people want to call you?\"</span>,\n",
       "<span style=\"color: #7fbf7f; text-decoration-color: #7fbf7f\">│   │   </span><span style=\"color: #008000; text-decoration-color: #008000\">'timestamp'</span>: <span style=\"color: #008080; text-decoration-color: #008080; font-weight: bold\">1457212485</span>\n",
       "<span style=\"color: #7fbf7f; text-decoration-color: #7fbf7f\">│   </span><span style=\"font-weight: bold\">}</span>,\n",
       "<span style=\"color: #7fbf7f; text-decoration-color: #7fbf7f\">│   </span><span style=\"color: #008000; text-decoration-color: #008000\">'split'</span>: <span style=\"color: #008000; text-decoration-color: #008000\">'train'</span>\n",
       "<span style=\"font-weight: bold\">}</span>\n",
       "</pre>\n"
      ],
      "text/plain": [
       "\u001b[1m{\u001b[0m\n",
       "\u001b[2;32m│   \u001b[0m\u001b[32m'statement'\u001b[0m: \u001b[32m'Transgender people have a are mentally ill and it is not bigoted to refuse to indulge their delusions.'\u001b[0m,\n",
       "\u001b[2;32m│   \u001b[0m\u001b[32m'submission_id'\u001b[0m: \u001b[32m'493ztx'\u001b[0m,\n",
       "\u001b[2;32m│   \u001b[0m\u001b[32m'penultimate_utterance'\u001b[0m: \u001b[1m{\u001b[0m\n",
       "\u001b[2;32m│   │   \u001b[0m\u001b[32m'id'\u001b[0m: \u001b[32m'd0oviq6'\u001b[0m,\n",
       "\u001b[2;32m│   │   \u001b[0m\u001b[32m'userid'\u001b[0m: \u001b[32m'sunset261'\u001b[0m,\n",
       "\u001b[2;32m│   │   \u001b[0m\u001b[32m'text'\u001b[0m: \u001b[32m'> Is there any reason I shouldn\\'t call you Johnpoop Mcthundercunt besides \"It might hurt your feeling if I do\" ?\\n\\nbecause that\\'s not my name. '\u001b[0m,\n",
       "\u001b[2;32m│   │   \u001b[0m\u001b[32m'timestamp'\u001b[0m: \u001b[1;36m1457211955\u001b[0m\n",
       "\u001b[2;32m│   \u001b[0m\u001b[1m}\u001b[0m,\n",
       "\u001b[2;32m│   \u001b[0m\u001b[32m'last_utterance'\u001b[0m: \u001b[1m{\u001b[0m\n",
       "\u001b[2;32m│   │   \u001b[0m\u001b[32m'id'\u001b[0m: \u001b[32m'd0ovt9u'\u001b[0m,\n",
       "\u001b[2;32m│   │   \u001b[0m\u001b[32m'userid'\u001b[0m: \u001b[32m'karnim'\u001b[0m,\n",
       "\u001b[2;32m│   │   \u001b[0m\u001b[32m'text'\u001b[0m: \u001b[32m\"According to you it isn't. But, according to Madplato, it is. So who do we believe? Do we go with what you want to be called/gendered, or do we trust what other people want to call you?\"\u001b[0m,\n",
       "\u001b[2;32m│   │   \u001b[0m\u001b[32m'timestamp'\u001b[0m: \u001b[1;36m1457212485\u001b[0m\n",
       "\u001b[2;32m│   \u001b[0m\u001b[1m}\u001b[0m,\n",
       "\u001b[2;32m│   \u001b[0m\u001b[32m'split'\u001b[0m: \u001b[32m'train'\u001b[0m\n",
       "\u001b[1m}\u001b[0m\n"
      ]
     },
     "metadata": {},
     "output_type": "display_data"
    },
    {
     "name": "stdout",
     "output_type": "stream",
     "text": [
      "Sample 80:\n"
     ]
    },
    {
     "data": {
      "text/html": [
       "<pre style=\"white-space:pre;overflow-x:auto;line-height:normal;font-family:Menlo,'DejaVu Sans Mono',consolas,'Courier New',monospace\"><span style=\"font-weight: bold\">{</span>\n",
       "<span style=\"color: #7fbf7f; text-decoration-color: #7fbf7f\">│   </span><span style=\"color: #008000; text-decoration-color: #008000\">'statement'</span>: <span style=\"color: #008000; text-decoration-color: #008000\">'If \"gender\" doesn\\'t refer to body parts (that\\'s \"sex\") and it doesn\\'t refer to typical behavior (that\\'s \"gender roles\" or \"stereotyping\"), then when someone claims that they \"identify as a man/woman\", they have effectively conveyed no information about themselves.'</span>,\n",
       "<span style=\"color: #7fbf7f; text-decoration-color: #7fbf7f\">│   </span><span style=\"color: #008000; text-decoration-color: #008000\">'submission_id'</span>: <span style=\"color: #008000; text-decoration-color: #008000\">'49ak8i'</span>,\n",
       "<span style=\"color: #7fbf7f; text-decoration-color: #7fbf7f\">│   </span><span style=\"color: #008000; text-decoration-color: #008000\">'penultimate_utterance'</span>: <span style=\"font-weight: bold\">{</span>\n",
       "<span style=\"color: #7fbf7f; text-decoration-color: #7fbf7f\">│   │   </span><span style=\"color: #008000; text-decoration-color: #008000\">'id'</span>: <span style=\"color: #008000; text-decoration-color: #008000\">'d0qf3cx'</span>,\n",
       "<span style=\"color: #7fbf7f; text-decoration-color: #7fbf7f\">│   │   </span><span style=\"color: #008000; text-decoration-color: #008000\">'userid'</span>: <span style=\"color: #008000; text-decoration-color: #008000\">'Drift-Bus'</span>,\n",
       "<span style=\"color: #7fbf7f; text-decoration-color: #7fbf7f\">│   │   </span><span style=\"color: #008000; text-decoration-color: #008000\">'text'</span>: <span style=\"color: #008000; text-decoration-color: #008000\">'I reckon starting a CHANGE MY VIEW thread is a pretty open mind. Answer the dude; besides parts and actions, what would you use?'</span>,\n",
       "<span style=\"color: #7fbf7f; text-decoration-color: #7fbf7f\">│   │   </span><span style=\"color: #008000; text-decoration-color: #008000\">'timestamp'</span>: <span style=\"color: #008080; text-decoration-color: #008080; font-weight: bold\">1457325388</span>\n",
       "<span style=\"color: #7fbf7f; text-decoration-color: #7fbf7f\">│   </span><span style=\"font-weight: bold\">}</span>,\n",
       "<span style=\"color: #7fbf7f; text-decoration-color: #7fbf7f\">│   </span><span style=\"color: #008000; text-decoration-color: #008000\">'last_utterance'</span>: <span style=\"font-weight: bold\">{</span>\n",
       "<span style=\"color: #7fbf7f; text-decoration-color: #7fbf7f\">│   │   </span><span style=\"color: #008000; text-decoration-color: #008000\">'id'</span>: <span style=\"color: #008000; text-decoration-color: #008000\">'d0qf5g2'</span>,\n",
       "<span style=\"color: #7fbf7f; text-decoration-color: #7fbf7f\">│   │   </span><span style=\"color: #008000; text-decoration-color: #008000\">'userid'</span>: <span style=\"color: #008000; text-decoration-color: #008000\">'Midas_Stream'</span>,\n",
       "<span style=\"color: #7fbf7f; text-decoration-color: #7fbf7f\">│   │   </span><span style=\"color: #008000; text-decoration-color: #008000\">'text'</span>: <span style=\"color: #008000; text-decoration-color: #008000\">\"You're asking a (deliberately?) poorly framed question. I.e., your question is either malformed or the premise it assumes is invalid.\\n\\nTherefore I refuse to legitimize it by attempting to answer it. Rephrase and try again or just accept that I won't accept your premise.\"</span>,\n",
       "<span style=\"color: #7fbf7f; text-decoration-color: #7fbf7f\">│   │   </span><span style=\"color: #008000; text-decoration-color: #008000\">'timestamp'</span>: <span style=\"color: #008080; text-decoration-color: #008080; font-weight: bold\">1457325506</span>\n",
       "<span style=\"color: #7fbf7f; text-decoration-color: #7fbf7f\">│   </span><span style=\"font-weight: bold\">}</span>,\n",
       "<span style=\"color: #7fbf7f; text-decoration-color: #7fbf7f\">│   </span><span style=\"color: #008000; text-decoration-color: #008000\">'split'</span>: <span style=\"color: #008000; text-decoration-color: #008000\">'train'</span>\n",
       "<span style=\"font-weight: bold\">}</span>\n",
       "</pre>\n"
      ],
      "text/plain": [
       "\u001b[1m{\u001b[0m\n",
       "\u001b[2;32m│   \u001b[0m\u001b[32m'statement'\u001b[0m: \u001b[32m'If \"gender\" doesn\\'t refer to body parts \u001b[0m\u001b[32m(\u001b[0m\u001b[32mthat\\'s \"sex\"\u001b[0m\u001b[32m)\u001b[0m\u001b[32m and it doesn\\'t refer to typical behavior \u001b[0m\u001b[32m(\u001b[0m\u001b[32mthat\\'s \"gender roles\" or \"stereotyping\"\u001b[0m\u001b[32m)\u001b[0m\u001b[32m, then when someone claims that they \"identify as a man/woman\", they have effectively conveyed no information about themselves.'\u001b[0m,\n",
       "\u001b[2;32m│   \u001b[0m\u001b[32m'submission_id'\u001b[0m: \u001b[32m'49ak8i'\u001b[0m,\n",
       "\u001b[2;32m│   \u001b[0m\u001b[32m'penultimate_utterance'\u001b[0m: \u001b[1m{\u001b[0m\n",
       "\u001b[2;32m│   │   \u001b[0m\u001b[32m'id'\u001b[0m: \u001b[32m'd0qf3cx'\u001b[0m,\n",
       "\u001b[2;32m│   │   \u001b[0m\u001b[32m'userid'\u001b[0m: \u001b[32m'Drift-Bus'\u001b[0m,\n",
       "\u001b[2;32m│   │   \u001b[0m\u001b[32m'text'\u001b[0m: \u001b[32m'I reckon starting a CHANGE MY VIEW thread is a pretty open mind. Answer the dude; besides parts and actions, what would you use?'\u001b[0m,\n",
       "\u001b[2;32m│   │   \u001b[0m\u001b[32m'timestamp'\u001b[0m: \u001b[1;36m1457325388\u001b[0m\n",
       "\u001b[2;32m│   \u001b[0m\u001b[1m}\u001b[0m,\n",
       "\u001b[2;32m│   \u001b[0m\u001b[32m'last_utterance'\u001b[0m: \u001b[1m{\u001b[0m\n",
       "\u001b[2;32m│   │   \u001b[0m\u001b[32m'id'\u001b[0m: \u001b[32m'd0qf5g2'\u001b[0m,\n",
       "\u001b[2;32m│   │   \u001b[0m\u001b[32m'userid'\u001b[0m: \u001b[32m'Midas_Stream'\u001b[0m,\n",
       "\u001b[2;32m│   │   \u001b[0m\u001b[32m'text'\u001b[0m: \u001b[32m\"You're asking a \u001b[0m\u001b[32m(\u001b[0m\u001b[32mdeliberately?\u001b[0m\u001b[32m)\u001b[0m\u001b[32m poorly framed question. I.e., your question is either malformed or the premise it assumes is invalid.\\n\\nTherefore I refuse to legitimize it by attempting to answer it. Rephrase and try again or just accept that I won't accept your premise.\"\u001b[0m,\n",
       "\u001b[2;32m│   │   \u001b[0m\u001b[32m'timestamp'\u001b[0m: \u001b[1;36m1457325506\u001b[0m\n",
       "\u001b[2;32m│   \u001b[0m\u001b[1m}\u001b[0m,\n",
       "\u001b[2;32m│   \u001b[0m\u001b[32m'split'\u001b[0m: \u001b[32m'train'\u001b[0m\n",
       "\u001b[1m}\u001b[0m\n"
      ]
     },
     "metadata": {},
     "output_type": "display_data"
    },
    {
     "name": "stdout",
     "output_type": "stream",
     "text": [
      "Sample 81:\n"
     ]
    },
    {
     "data": {
      "text/html": [
       "<pre style=\"white-space:pre;overflow-x:auto;line-height:normal;font-family:Menlo,'DejaVu Sans Mono',consolas,'Courier New',monospace\"><span style=\"font-weight: bold\">{</span>\n",
       "<span style=\"color: #7fbf7f; text-decoration-color: #7fbf7f\">│   </span><span style=\"color: #008000; text-decoration-color: #008000\">'statement'</span>: <span style=\"color: #008000; text-decoration-color: #008000\">'Bernie Sanders understands the complexity and nuances of racial issues in the United States and is the most race conscious candidate running for president of the two major parties.'</span>,\n",
       "<span style=\"color: #7fbf7f; text-decoration-color: #7fbf7f\">│   </span><span style=\"color: #008000; text-decoration-color: #008000\">'submission_id'</span>: <span style=\"color: #008000; text-decoration-color: #008000\">'49d2cz'</span>,\n",
       "<span style=\"color: #7fbf7f; text-decoration-color: #7fbf7f\">│   </span><span style=\"color: #008000; text-decoration-color: #008000\">'penultimate_utterance'</span>: <span style=\"font-weight: bold\">{</span>\n",
       "<span style=\"color: #7fbf7f; text-decoration-color: #7fbf7f\">│   │   </span><span style=\"color: #008000; text-decoration-color: #008000\">'id'</span>: <span style=\"color: #008000; text-decoration-color: #008000\">'d0r6heg'</span>,\n",
       "<span style=\"color: #7fbf7f; text-decoration-color: #7fbf7f\">│   │   </span><span style=\"color: #008000; text-decoration-color: #008000\">'userid'</span>: <span style=\"color: #008000; text-decoration-color: #008000\">'Watawkichaw'</span>,\n",
       "<span style=\"color: #7fbf7f; text-decoration-color: #7fbf7f\">│   │   </span><span style=\"color: #008000; text-decoration-color: #008000\">'text'</span>: <span style=\"color: #008000; text-decoration-color: #008000\">\"FUCK Hillary. I'm not even reading that shit, because she is a LIAR. She has been a liar, a cheater, a money-launderer, her and her husband are tied to NUMEROUS murders and take money from big $ interests, meaning they will say ANYTHING to get elected, even a well-crafted speech about how just they are in their actions. Fuck off, Hillary. Anyone voting for Clinton probably still thinks mainstream news would never lie to us. \"</span>,\n",
       "<span style=\"color: #7fbf7f; text-decoration-color: #7fbf7f\">│   │   </span><span style=\"color: #008000; text-decoration-color: #008000\">'timestamp'</span>: <span style=\"color: #008080; text-decoration-color: #008080; font-weight: bold\">1457383344</span>\n",
       "<span style=\"color: #7fbf7f; text-decoration-color: #7fbf7f\">│   </span><span style=\"font-weight: bold\">}</span>,\n",
       "<span style=\"color: #7fbf7f; text-decoration-color: #7fbf7f\">│   </span><span style=\"color: #008000; text-decoration-color: #008000\">'last_utterance'</span>: <span style=\"font-weight: bold\">{</span>\n",
       "<span style=\"color: #7fbf7f; text-decoration-color: #7fbf7f\">│   │   </span><span style=\"color: #008000; text-decoration-color: #008000\">'id'</span>: <span style=\"color: #008000; text-decoration-color: #008000\">'d0rakav'</span>,\n",
       "<span style=\"color: #7fbf7f; text-decoration-color: #7fbf7f\">│   │   </span><span style=\"color: #008000; text-decoration-color: #008000\">'userid'</span>: <span style=\"color: #008000; text-decoration-color: #008000\">'robbieclacy'</span>,\n",
       "<span style=\"color: #7fbf7f; text-decoration-color: #7fbf7f\">│   │   </span><span style=\"color: #008000; text-decoration-color: #008000\">'text'</span>: <span style=\"color: #008000; text-decoration-color: #008000\">\"This isn't your political soapbox.\"</span>,\n",
       "<span style=\"color: #7fbf7f; text-decoration-color: #7fbf7f\">│   │   </span><span style=\"color: #008000; text-decoration-color: #008000\">'timestamp'</span>: <span style=\"color: #008080; text-decoration-color: #008080; font-weight: bold\">1457388965</span>\n",
       "<span style=\"color: #7fbf7f; text-decoration-color: #7fbf7f\">│   </span><span style=\"font-weight: bold\">}</span>,\n",
       "<span style=\"color: #7fbf7f; text-decoration-color: #7fbf7f\">│   </span><span style=\"color: #008000; text-decoration-color: #008000\">'split'</span>: <span style=\"color: #008000; text-decoration-color: #008000\">'train'</span>\n",
       "<span style=\"font-weight: bold\">}</span>\n",
       "</pre>\n"
      ],
      "text/plain": [
       "\u001b[1m{\u001b[0m\n",
       "\u001b[2;32m│   \u001b[0m\u001b[32m'statement'\u001b[0m: \u001b[32m'Bernie Sanders understands the complexity and nuances of racial issues in the United States and is the most race conscious candidate running for president of the two major parties.'\u001b[0m,\n",
       "\u001b[2;32m│   \u001b[0m\u001b[32m'submission_id'\u001b[0m: \u001b[32m'49d2cz'\u001b[0m,\n",
       "\u001b[2;32m│   \u001b[0m\u001b[32m'penultimate_utterance'\u001b[0m: \u001b[1m{\u001b[0m\n",
       "\u001b[2;32m│   │   \u001b[0m\u001b[32m'id'\u001b[0m: \u001b[32m'd0r6heg'\u001b[0m,\n",
       "\u001b[2;32m│   │   \u001b[0m\u001b[32m'userid'\u001b[0m: \u001b[32m'Watawkichaw'\u001b[0m,\n",
       "\u001b[2;32m│   │   \u001b[0m\u001b[32m'text'\u001b[0m: \u001b[32m\"FUCK Hillary. I'm not even reading that shit, because she is a LIAR. She has been a liar, a cheater, a money-launderer, her and her husband are tied to NUMEROUS murders and take money from big $ interests, meaning they will say ANYTHING to get elected, even a well-crafted speech about how just they are in their actions. Fuck off, Hillary. Anyone voting for Clinton probably still thinks mainstream news would never lie to us. \"\u001b[0m,\n",
       "\u001b[2;32m│   │   \u001b[0m\u001b[32m'timestamp'\u001b[0m: \u001b[1;36m1457383344\u001b[0m\n",
       "\u001b[2;32m│   \u001b[0m\u001b[1m}\u001b[0m,\n",
       "\u001b[2;32m│   \u001b[0m\u001b[32m'last_utterance'\u001b[0m: \u001b[1m{\u001b[0m\n",
       "\u001b[2;32m│   │   \u001b[0m\u001b[32m'id'\u001b[0m: \u001b[32m'd0rakav'\u001b[0m,\n",
       "\u001b[2;32m│   │   \u001b[0m\u001b[32m'userid'\u001b[0m: \u001b[32m'robbieclacy'\u001b[0m,\n",
       "\u001b[2;32m│   │   \u001b[0m\u001b[32m'text'\u001b[0m: \u001b[32m\"This isn't your political soapbox.\"\u001b[0m,\n",
       "\u001b[2;32m│   │   \u001b[0m\u001b[32m'timestamp'\u001b[0m: \u001b[1;36m1457388965\u001b[0m\n",
       "\u001b[2;32m│   \u001b[0m\u001b[1m}\u001b[0m,\n",
       "\u001b[2;32m│   \u001b[0m\u001b[32m'split'\u001b[0m: \u001b[32m'train'\u001b[0m\n",
       "\u001b[1m}\u001b[0m\n"
      ]
     },
     "metadata": {},
     "output_type": "display_data"
    },
    {
     "name": "stdout",
     "output_type": "stream",
     "text": [
      "Sample 82:\n"
     ]
    },
    {
     "data": {
      "text/html": [
       "<pre style=\"white-space:pre;overflow-x:auto;line-height:normal;font-family:Menlo,'DejaVu Sans Mono',consolas,'Courier New',monospace\"><span style=\"font-weight: bold\">{</span>\n",
       "<span style=\"color: #7fbf7f; text-decoration-color: #7fbf7f\">│   </span><span style=\"color: #008000; text-decoration-color: #008000\">'statement'</span>: <span style=\"color: #008000; text-decoration-color: #008000\">\"It's perfectly fine to vote for Hillary Clinton because she's a woman.\"</span>,\n",
       "<span style=\"color: #7fbf7f; text-decoration-color: #7fbf7f\">│   </span><span style=\"color: #008000; text-decoration-color: #008000\">'submission_id'</span>: <span style=\"color: #008000; text-decoration-color: #008000\">'49g2zg'</span>,\n",
       "<span style=\"color: #7fbf7f; text-decoration-color: #7fbf7f\">│   </span><span style=\"color: #008000; text-decoration-color: #008000\">'penultimate_utterance'</span>: <span style=\"font-weight: bold\">{</span>\n",
       "<span style=\"color: #7fbf7f; text-decoration-color: #7fbf7f\">│   │   </span><span style=\"color: #008000; text-decoration-color: #008000\">'id'</span>: <span style=\"color: #008000; text-decoration-color: #008000\">'d0rjol3'</span>,\n",
       "<span style=\"color: #7fbf7f; text-decoration-color: #7fbf7f\">│   │   </span><span style=\"color: #008000; text-decoration-color: #008000\">'userid'</span>: <span style=\"color: #008000; text-decoration-color: #008000\">'AZebracake'</span>,\n",
       "<span style=\"color: #7fbf7f; text-decoration-color: #7fbf7f\">│   │   </span><span style=\"color: #008000; text-decoration-color: #008000\">'text'</span>: <span style=\"color: #008000; text-decoration-color: #008000\">\"Correct me if I'm wrong but are you a woman? \"</span>,\n",
       "<span style=\"color: #7fbf7f; text-decoration-color: #7fbf7f\">│   │   </span><span style=\"color: #008000; text-decoration-color: #008000\">'timestamp'</span>: <span style=\"color: #008080; text-decoration-color: #008080; font-weight: bold\">1457402825</span>\n",
       "<span style=\"color: #7fbf7f; text-decoration-color: #7fbf7f\">│   </span><span style=\"font-weight: bold\">}</span>,\n",
       "<span style=\"color: #7fbf7f; text-decoration-color: #7fbf7f\">│   </span><span style=\"color: #008000; text-decoration-color: #008000\">'last_utterance'</span>: <span style=\"font-weight: bold\">{</span>\n",
       "<span style=\"color: #7fbf7f; text-decoration-color: #7fbf7f\">│   │   </span><span style=\"color: #008000; text-decoration-color: #008000\">'id'</span>: <span style=\"color: #008000; text-decoration-color: #008000\">'d0rjyvy'</span>,\n",
       "<span style=\"color: #7fbf7f; text-decoration-color: #7fbf7f\">│   │   </span><span style=\"color: #008000; text-decoration-color: #008000\">'userid'</span>: <span style=\"color: #008000; text-decoration-color: #008000\">'HavelockAT'</span>,\n",
       "<span style=\"color: #7fbf7f; text-decoration-color: #7fbf7f\">│   │   </span><span style=\"color: #008000; text-decoration-color: #008000\">'text'</span>: <span style=\"color: #008000; text-decoration-color: #008000\">'Just curious: Why is this relevant for your arguments?'</span>,\n",
       "<span style=\"color: #7fbf7f; text-decoration-color: #7fbf7f\">│   │   </span><span style=\"color: #008000; text-decoration-color: #008000\">'timestamp'</span>: <span style=\"color: #008080; text-decoration-color: #008080; font-weight: bold\">1457403278</span>\n",
       "<span style=\"color: #7fbf7f; text-decoration-color: #7fbf7f\">│   </span><span style=\"font-weight: bold\">}</span>,\n",
       "<span style=\"color: #7fbf7f; text-decoration-color: #7fbf7f\">│   </span><span style=\"color: #008000; text-decoration-color: #008000\">'split'</span>: <span style=\"color: #008000; text-decoration-color: #008000\">'train'</span>\n",
       "<span style=\"font-weight: bold\">}</span>\n",
       "</pre>\n"
      ],
      "text/plain": [
       "\u001b[1m{\u001b[0m\n",
       "\u001b[2;32m│   \u001b[0m\u001b[32m'statement'\u001b[0m: \u001b[32m\"It's perfectly fine to vote for Hillary Clinton because she's a woman.\"\u001b[0m,\n",
       "\u001b[2;32m│   \u001b[0m\u001b[32m'submission_id'\u001b[0m: \u001b[32m'49g2zg'\u001b[0m,\n",
       "\u001b[2;32m│   \u001b[0m\u001b[32m'penultimate_utterance'\u001b[0m: \u001b[1m{\u001b[0m\n",
       "\u001b[2;32m│   │   \u001b[0m\u001b[32m'id'\u001b[0m: \u001b[32m'd0rjol3'\u001b[0m,\n",
       "\u001b[2;32m│   │   \u001b[0m\u001b[32m'userid'\u001b[0m: \u001b[32m'AZebracake'\u001b[0m,\n",
       "\u001b[2;32m│   │   \u001b[0m\u001b[32m'text'\u001b[0m: \u001b[32m\"Correct me if I'm wrong but are you a woman? \"\u001b[0m,\n",
       "\u001b[2;32m│   │   \u001b[0m\u001b[32m'timestamp'\u001b[0m: \u001b[1;36m1457402825\u001b[0m\n",
       "\u001b[2;32m│   \u001b[0m\u001b[1m}\u001b[0m,\n",
       "\u001b[2;32m│   \u001b[0m\u001b[32m'last_utterance'\u001b[0m: \u001b[1m{\u001b[0m\n",
       "\u001b[2;32m│   │   \u001b[0m\u001b[32m'id'\u001b[0m: \u001b[32m'd0rjyvy'\u001b[0m,\n",
       "\u001b[2;32m│   │   \u001b[0m\u001b[32m'userid'\u001b[0m: \u001b[32m'HavelockAT'\u001b[0m,\n",
       "\u001b[2;32m│   │   \u001b[0m\u001b[32m'text'\u001b[0m: \u001b[32m'Just curious: Why is this relevant for your arguments?'\u001b[0m,\n",
       "\u001b[2;32m│   │   \u001b[0m\u001b[32m'timestamp'\u001b[0m: \u001b[1;36m1457403278\u001b[0m\n",
       "\u001b[2;32m│   \u001b[0m\u001b[1m}\u001b[0m,\n",
       "\u001b[2;32m│   \u001b[0m\u001b[32m'split'\u001b[0m: \u001b[32m'train'\u001b[0m\n",
       "\u001b[1m}\u001b[0m\n"
      ]
     },
     "metadata": {},
     "output_type": "display_data"
    },
    {
     "name": "stdout",
     "output_type": "stream",
     "text": [
      "Sample 83:\n"
     ]
    },
    {
     "data": {
      "text/html": [
       "<pre style=\"white-space:pre;overflow-x:auto;line-height:normal;font-family:Menlo,'DejaVu Sans Mono',consolas,'Courier New',monospace\"><span style=\"font-weight: bold\">{</span>\n",
       "<span style=\"color: #7fbf7f; text-decoration-color: #7fbf7f\">│   </span><span style=\"color: #008000; text-decoration-color: #008000\">'statement'</span>: <span style=\"color: #008000; text-decoration-color: #008000\">\"I don't find Google's AlphaGo impressive.\"</span>,\n",
       "<span style=\"color: #7fbf7f; text-decoration-color: #7fbf7f\">│   </span><span style=\"color: #008000; text-decoration-color: #008000\">'submission_id'</span>: <span style=\"color: #008000; text-decoration-color: #008000\">'49n5rf'</span>,\n",
       "<span style=\"color: #7fbf7f; text-decoration-color: #7fbf7f\">│   </span><span style=\"color: #008000; text-decoration-color: #008000\">'penultimate_utterance'</span>: <span style=\"font-weight: bold\">{</span>\n",
       "<span style=\"color: #7fbf7f; text-decoration-color: #7fbf7f\">│   │   </span><span style=\"color: #008000; text-decoration-color: #008000\">'id'</span>: <span style=\"color: #008000; text-decoration-color: #008000\">'d0tdu40'</span>,\n",
       "<span style=\"color: #7fbf7f; text-decoration-color: #7fbf7f\">│   │   </span><span style=\"color: #008000; text-decoration-color: #008000\">'userid'</span>: <span style=\"color: #008000; text-decoration-color: #008000\">'sleepsoundsam'</span>,\n",
       "<span style=\"color: #7fbf7f; text-decoration-color: #7fbf7f\">│   │   </span><span style=\"color: #008000; text-decoration-color: #008000\">'text'</span>: <span style=\"color: #008000; text-decoration-color: #008000\">'Yes to all three.'</span>,\n",
       "<span style=\"color: #7fbf7f; text-decoration-color: #7fbf7f\">│   │   </span><span style=\"color: #008000; text-decoration-color: #008000\">'timestamp'</span>: <span style=\"color: #008080; text-decoration-color: #008080; font-weight: bold\">1457534828</span>\n",
       "<span style=\"color: #7fbf7f; text-decoration-color: #7fbf7f\">│   </span><span style=\"font-weight: bold\">}</span>,\n",
       "<span style=\"color: #7fbf7f; text-decoration-color: #7fbf7f\">│   </span><span style=\"color: #008000; text-decoration-color: #008000\">'last_utterance'</span>: <span style=\"font-weight: bold\">{</span>\n",
       "<span style=\"color: #7fbf7f; text-decoration-color: #7fbf7f\">│   │   </span><span style=\"color: #008000; text-decoration-color: #008000\">'id'</span>: <span style=\"color: #008000; text-decoration-color: #008000\">'d0thggy'</span>,\n",
       "<span style=\"color: #7fbf7f; text-decoration-color: #7fbf7f\">│   │   </span><span style=\"color: #008000; text-decoration-color: #008000\">'userid'</span>: <span style=\"color: #008000; text-decoration-color: #008000\">'9diov'</span>,\n",
       "<span style=\"color: #7fbf7f; text-decoration-color: #7fbf7f\">│   │   </span><span style=\"color: #008000; text-decoration-color: #008000\">'text'</span>: <span style=\"color: #008000; text-decoration-color: #008000\">'The way you phrase your question seems to imply the opposite.'</span>,\n",
       "<span style=\"color: #7fbf7f; text-decoration-color: #7fbf7f\">│   │   </span><span style=\"color: #008000; text-decoration-color: #008000\">'timestamp'</span>: <span style=\"color: #008080; text-decoration-color: #008080; font-weight: bold\">1457540388</span>\n",
       "<span style=\"color: #7fbf7f; text-decoration-color: #7fbf7f\">│   </span><span style=\"font-weight: bold\">}</span>,\n",
       "<span style=\"color: #7fbf7f; text-decoration-color: #7fbf7f\">│   </span><span style=\"color: #008000; text-decoration-color: #008000\">'split'</span>: <span style=\"color: #008000; text-decoration-color: #008000\">'train'</span>\n",
       "<span style=\"font-weight: bold\">}</span>\n",
       "</pre>\n"
      ],
      "text/plain": [
       "\u001b[1m{\u001b[0m\n",
       "\u001b[2;32m│   \u001b[0m\u001b[32m'statement'\u001b[0m: \u001b[32m\"I don't find Google's AlphaGo impressive.\"\u001b[0m,\n",
       "\u001b[2;32m│   \u001b[0m\u001b[32m'submission_id'\u001b[0m: \u001b[32m'49n5rf'\u001b[0m,\n",
       "\u001b[2;32m│   \u001b[0m\u001b[32m'penultimate_utterance'\u001b[0m: \u001b[1m{\u001b[0m\n",
       "\u001b[2;32m│   │   \u001b[0m\u001b[32m'id'\u001b[0m: \u001b[32m'd0tdu40'\u001b[0m,\n",
       "\u001b[2;32m│   │   \u001b[0m\u001b[32m'userid'\u001b[0m: \u001b[32m'sleepsoundsam'\u001b[0m,\n",
       "\u001b[2;32m│   │   \u001b[0m\u001b[32m'text'\u001b[0m: \u001b[32m'Yes to all three.'\u001b[0m,\n",
       "\u001b[2;32m│   │   \u001b[0m\u001b[32m'timestamp'\u001b[0m: \u001b[1;36m1457534828\u001b[0m\n",
       "\u001b[2;32m│   \u001b[0m\u001b[1m}\u001b[0m,\n",
       "\u001b[2;32m│   \u001b[0m\u001b[32m'last_utterance'\u001b[0m: \u001b[1m{\u001b[0m\n",
       "\u001b[2;32m│   │   \u001b[0m\u001b[32m'id'\u001b[0m: \u001b[32m'd0thggy'\u001b[0m,\n",
       "\u001b[2;32m│   │   \u001b[0m\u001b[32m'userid'\u001b[0m: \u001b[32m'9diov'\u001b[0m,\n",
       "\u001b[2;32m│   │   \u001b[0m\u001b[32m'text'\u001b[0m: \u001b[32m'The way you phrase your question seems to imply the opposite.'\u001b[0m,\n",
       "\u001b[2;32m│   │   \u001b[0m\u001b[32m'timestamp'\u001b[0m: \u001b[1;36m1457540388\u001b[0m\n",
       "\u001b[2;32m│   \u001b[0m\u001b[1m}\u001b[0m,\n",
       "\u001b[2;32m│   \u001b[0m\u001b[32m'split'\u001b[0m: \u001b[32m'train'\u001b[0m\n",
       "\u001b[1m}\u001b[0m\n"
      ]
     },
     "metadata": {},
     "output_type": "display_data"
    },
    {
     "name": "stdout",
     "output_type": "stream",
     "text": [
      "Sample 84:\n"
     ]
    },
    {
     "data": {
      "text/html": [
       "<pre style=\"white-space:pre;overflow-x:auto;line-height:normal;font-family:Menlo,'DejaVu Sans Mono',consolas,'Courier New',monospace\"><span style=\"font-weight: bold\">{</span>\n",
       "<span style=\"color: #7fbf7f; text-decoration-color: #7fbf7f\">│   </span><span style=\"color: #008000; text-decoration-color: #008000\">'statement'</span>: <span style=\"color: #008000; text-decoration-color: #008000\">'If I cannot submit my CV for consideration to be the next King of England, the monarchy is illegitimate.'</span>,\n",
       "<span style=\"color: #7fbf7f; text-decoration-color: #7fbf7f\">│   </span><span style=\"color: #008000; text-decoration-color: #008000\">'submission_id'</span>: <span style=\"color: #008000; text-decoration-color: #008000\">'49ty6s'</span>,\n",
       "<span style=\"color: #7fbf7f; text-decoration-color: #7fbf7f\">│   </span><span style=\"color: #008000; text-decoration-color: #008000\">'penultimate_utterance'</span>: <span style=\"font-weight: bold\">{</span>\n",
       "<span style=\"color: #7fbf7f; text-decoration-color: #7fbf7f\">│   │   </span><span style=\"color: #008000; text-decoration-color: #008000\">'id'</span>: <span style=\"color: #008000; text-decoration-color: #008000\">'d0vbosl'</span>,\n",
       "<span style=\"color: #7fbf7f; text-decoration-color: #7fbf7f\">│   │   </span><span style=\"color: #008000; text-decoration-color: #008000\">'userid'</span>: <span style=\"color: #008000; text-decoration-color: #008000\">'Euralos'</span>,\n",
       "<span style=\"color: #7fbf7f; text-decoration-color: #7fbf7f\">│   │   </span><span style=\"color: #008000; text-decoration-color: #008000\">'text'</span>: <span style=\"color: #008000; text-decoration-color: #008000\">\"&gt; thats mostly bought by the loyal subjects, not actual people - the tourists that would bring actual new money to the economy.\\n\\nNow who's the one making claims without a basis?  Please source.\"</span>,\n",
       "<span style=\"color: #7fbf7f; text-decoration-color: #7fbf7f\">│   │   </span><span style=\"color: #008000; text-decoration-color: #008000\">'timestamp'</span>: <span style=\"color: #008080; text-decoration-color: #008080; font-weight: bold\">1457650563</span>\n",
       "<span style=\"color: #7fbf7f; text-decoration-color: #7fbf7f\">│   </span><span style=\"font-weight: bold\">}</span>,\n",
       "<span style=\"color: #7fbf7f; text-decoration-color: #7fbf7f\">│   </span><span style=\"color: #008000; text-decoration-color: #008000\">'last_utterance'</span>: <span style=\"font-weight: bold\">{</span>\n",
       "<span style=\"color: #7fbf7f; text-decoration-color: #7fbf7f\">│   │   </span><span style=\"color: #008000; text-decoration-color: #008000\">'id'</span>: <span style=\"color: #008000; text-decoration-color: #008000\">'d0vc36a'</span>,\n",
       "<span style=\"color: #7fbf7f; text-decoration-color: #7fbf7f\">│   │   </span><span style=\"color: #008000; text-decoration-color: #008000\">'userid'</span>: <span style=\"color: #008000; text-decoration-color: #008000\">'DoTheEvolution'</span>,\n",
       "<span style=\"color: #7fbf7f; text-decoration-color: #7fbf7f\">│   │   </span><span style=\"color: #008000; text-decoration-color: #008000\">'text'</span>: <span style=\"color: #008000; text-decoration-color: #008000\">'You should maybe have source that actually talks about foreign tourists and not internal tourism?\\n\\nSorry I am not fixing your sources. But if you are coming here claiming that majority was foreign tourist you are kidding yourself.'</span>,\n",
       "<span style=\"color: #7fbf7f; text-decoration-color: #7fbf7f\">│   │   </span><span style=\"color: #008000; text-decoration-color: #008000\">'timestamp'</span>: <span style=\"color: #008080; text-decoration-color: #008080; font-weight: bold\">1457651168</span>\n",
       "<span style=\"color: #7fbf7f; text-decoration-color: #7fbf7f\">│   </span><span style=\"font-weight: bold\">}</span>,\n",
       "<span style=\"color: #7fbf7f; text-decoration-color: #7fbf7f\">│   </span><span style=\"color: #008000; text-decoration-color: #008000\">'split'</span>: <span style=\"color: #008000; text-decoration-color: #008000\">'train'</span>\n",
       "<span style=\"font-weight: bold\">}</span>\n",
       "</pre>\n"
      ],
      "text/plain": [
       "\u001b[1m{\u001b[0m\n",
       "\u001b[2;32m│   \u001b[0m\u001b[32m'statement'\u001b[0m: \u001b[32m'If I cannot submit my CV for consideration to be the next King of England, the monarchy is illegitimate.'\u001b[0m,\n",
       "\u001b[2;32m│   \u001b[0m\u001b[32m'submission_id'\u001b[0m: \u001b[32m'49ty6s'\u001b[0m,\n",
       "\u001b[2;32m│   \u001b[0m\u001b[32m'penultimate_utterance'\u001b[0m: \u001b[1m{\u001b[0m\n",
       "\u001b[2;32m│   │   \u001b[0m\u001b[32m'id'\u001b[0m: \u001b[32m'd0vbosl'\u001b[0m,\n",
       "\u001b[2;32m│   │   \u001b[0m\u001b[32m'userid'\u001b[0m: \u001b[32m'Euralos'\u001b[0m,\n",
       "\u001b[2;32m│   │   \u001b[0m\u001b[32m'text'\u001b[0m: \u001b[32m\"> thats mostly bought by the loyal subjects, not actual people - the tourists that would bring actual new money to the economy.\\n\\nNow who's the one making claims without a basis?  Please source.\"\u001b[0m,\n",
       "\u001b[2;32m│   │   \u001b[0m\u001b[32m'timestamp'\u001b[0m: \u001b[1;36m1457650563\u001b[0m\n",
       "\u001b[2;32m│   \u001b[0m\u001b[1m}\u001b[0m,\n",
       "\u001b[2;32m│   \u001b[0m\u001b[32m'last_utterance'\u001b[0m: \u001b[1m{\u001b[0m\n",
       "\u001b[2;32m│   │   \u001b[0m\u001b[32m'id'\u001b[0m: \u001b[32m'd0vc36a'\u001b[0m,\n",
       "\u001b[2;32m│   │   \u001b[0m\u001b[32m'userid'\u001b[0m: \u001b[32m'DoTheEvolution'\u001b[0m,\n",
       "\u001b[2;32m│   │   \u001b[0m\u001b[32m'text'\u001b[0m: \u001b[32m'You should maybe have source that actually talks about foreign tourists and not internal tourism?\\n\\nSorry I am not fixing your sources. But if you are coming here claiming that majority was foreign tourist you are kidding yourself.'\u001b[0m,\n",
       "\u001b[2;32m│   │   \u001b[0m\u001b[32m'timestamp'\u001b[0m: \u001b[1;36m1457651168\u001b[0m\n",
       "\u001b[2;32m│   \u001b[0m\u001b[1m}\u001b[0m,\n",
       "\u001b[2;32m│   \u001b[0m\u001b[32m'split'\u001b[0m: \u001b[32m'train'\u001b[0m\n",
       "\u001b[1m}\u001b[0m\n"
      ]
     },
     "metadata": {},
     "output_type": "display_data"
    },
    {
     "name": "stdout",
     "output_type": "stream",
     "text": [
      "Sample 85:\n"
     ]
    },
    {
     "data": {
      "text/html": [
       "<pre style=\"white-space:pre;overflow-x:auto;line-height:normal;font-family:Menlo,'DejaVu Sans Mono',consolas,'Courier New',monospace\"><span style=\"font-weight: bold\">{</span>\n",
       "<span style=\"color: #7fbf7f; text-decoration-color: #7fbf7f\">│   </span><span style=\"color: #008000; text-decoration-color: #008000\">'statement'</span>: <span style=\"color: #008000; text-decoration-color: #008000\">'Trump protesters are wasting their time. The more you protest him, the stronger he gets'</span>,\n",
       "<span style=\"color: #7fbf7f; text-decoration-color: #7fbf7f\">│   </span><span style=\"color: #008000; text-decoration-color: #008000\">'submission_id'</span>: <span style=\"color: #008000; text-decoration-color: #008000\">'4a8sqr'</span>,\n",
       "<span style=\"color: #7fbf7f; text-decoration-color: #7fbf7f\">│   </span><span style=\"color: #008000; text-decoration-color: #008000\">'penultimate_utterance'</span>: <span style=\"font-weight: bold\">{</span>\n",
       "<span style=\"color: #7fbf7f; text-decoration-color: #7fbf7f\">│   │   </span><span style=\"color: #008000; text-decoration-color: #008000\">'id'</span>: <span style=\"color: #008000; text-decoration-color: #008000\">'d0zgnk9'</span>,\n",
       "<span style=\"color: #7fbf7f; text-decoration-color: #7fbf7f\">│   │   </span><span style=\"color: #008000; text-decoration-color: #008000\">'userid'</span>: <span style=\"color: #008000; text-decoration-color: #008000\">'iNEEDheplreddit'</span>,\n",
       "<span style=\"color: #7fbf7f; text-decoration-color: #7fbf7f\">│   │   </span><span style=\"color: #008000; text-decoration-color: #008000\">'text'</span>: <span style=\"color: #008000; text-decoration-color: #008000\">'Intellectually redundant statement '</span>,\n",
       "<span style=\"color: #7fbf7f; text-decoration-color: #7fbf7f\">│   │   </span><span style=\"color: #008000; text-decoration-color: #008000\">'timestamp'</span>: <span style=\"color: #008080; text-decoration-color: #008080; font-weight: bold\">1457972265</span>\n",
       "<span style=\"color: #7fbf7f; text-decoration-color: #7fbf7f\">│   </span><span style=\"font-weight: bold\">}</span>,\n",
       "<span style=\"color: #7fbf7f; text-decoration-color: #7fbf7f\">│   </span><span style=\"color: #008000; text-decoration-color: #008000\">'last_utterance'</span>: <span style=\"font-weight: bold\">{</span>\n",
       "<span style=\"color: #7fbf7f; text-decoration-color: #7fbf7f\">│   │   </span><span style=\"color: #008000; text-decoration-color: #008000\">'id'</span>: <span style=\"color: #008000; text-decoration-color: #008000\">'d0zh042'</span>,\n",
       "<span style=\"color: #7fbf7f; text-decoration-color: #7fbf7f\">│   │   </span><span style=\"color: #008000; text-decoration-color: #008000\">'userid'</span>: <span style=\"color: #008000; text-decoration-color: #008000\">'BlueBear_TBG'</span>,\n",
       "<span style=\"color: #7fbf7f; text-decoration-color: #7fbf7f\">│   │   </span><span style=\"color: #008000; text-decoration-color: #008000\">'text'</span>: <span style=\"color: #008000; text-decoration-color: #008000\">\"Pointless statement. You don't know what fascism is and are ignorant of political history. Acknowledge it.\"</span>,\n",
       "<span style=\"color: #7fbf7f; text-decoration-color: #7fbf7f\">│   │   </span><span style=\"color: #008000; text-decoration-color: #008000\">'timestamp'</span>: <span style=\"color: #008080; text-decoration-color: #008080; font-weight: bold\">1457972779</span>\n",
       "<span style=\"color: #7fbf7f; text-decoration-color: #7fbf7f\">│   </span><span style=\"font-weight: bold\">}</span>,\n",
       "<span style=\"color: #7fbf7f; text-decoration-color: #7fbf7f\">│   </span><span style=\"color: #008000; text-decoration-color: #008000\">'split'</span>: <span style=\"color: #008000; text-decoration-color: #008000\">'train'</span>\n",
       "<span style=\"font-weight: bold\">}</span>\n",
       "</pre>\n"
      ],
      "text/plain": [
       "\u001b[1m{\u001b[0m\n",
       "\u001b[2;32m│   \u001b[0m\u001b[32m'statement'\u001b[0m: \u001b[32m'Trump protesters are wasting their time. The more you protest him, the stronger he gets'\u001b[0m,\n",
       "\u001b[2;32m│   \u001b[0m\u001b[32m'submission_id'\u001b[0m: \u001b[32m'4a8sqr'\u001b[0m,\n",
       "\u001b[2;32m│   \u001b[0m\u001b[32m'penultimate_utterance'\u001b[0m: \u001b[1m{\u001b[0m\n",
       "\u001b[2;32m│   │   \u001b[0m\u001b[32m'id'\u001b[0m: \u001b[32m'd0zgnk9'\u001b[0m,\n",
       "\u001b[2;32m│   │   \u001b[0m\u001b[32m'userid'\u001b[0m: \u001b[32m'iNEEDheplreddit'\u001b[0m,\n",
       "\u001b[2;32m│   │   \u001b[0m\u001b[32m'text'\u001b[0m: \u001b[32m'Intellectually redundant statement '\u001b[0m,\n",
       "\u001b[2;32m│   │   \u001b[0m\u001b[32m'timestamp'\u001b[0m: \u001b[1;36m1457972265\u001b[0m\n",
       "\u001b[2;32m│   \u001b[0m\u001b[1m}\u001b[0m,\n",
       "\u001b[2;32m│   \u001b[0m\u001b[32m'last_utterance'\u001b[0m: \u001b[1m{\u001b[0m\n",
       "\u001b[2;32m│   │   \u001b[0m\u001b[32m'id'\u001b[0m: \u001b[32m'd0zh042'\u001b[0m,\n",
       "\u001b[2;32m│   │   \u001b[0m\u001b[32m'userid'\u001b[0m: \u001b[32m'BlueBear_TBG'\u001b[0m,\n",
       "\u001b[2;32m│   │   \u001b[0m\u001b[32m'text'\u001b[0m: \u001b[32m\"Pointless statement. You don't know what fascism is and are ignorant of political history. Acknowledge it.\"\u001b[0m,\n",
       "\u001b[2;32m│   │   \u001b[0m\u001b[32m'timestamp'\u001b[0m: \u001b[1;36m1457972779\u001b[0m\n",
       "\u001b[2;32m│   \u001b[0m\u001b[1m}\u001b[0m,\n",
       "\u001b[2;32m│   \u001b[0m\u001b[32m'split'\u001b[0m: \u001b[32m'train'\u001b[0m\n",
       "\u001b[1m}\u001b[0m\n"
      ]
     },
     "metadata": {},
     "output_type": "display_data"
    },
    {
     "name": "stdout",
     "output_type": "stream",
     "text": [
      "Sample 86:\n"
     ]
    },
    {
     "data": {
      "text/html": [
       "<pre style=\"white-space:pre;overflow-x:auto;line-height:normal;font-family:Menlo,'DejaVu Sans Mono',consolas,'Courier New',monospace\"><span style=\"font-weight: bold\">{</span>\n",
       "<span style=\"color: #7fbf7f; text-decoration-color: #7fbf7f\">│   </span><span style=\"color: #008000; text-decoration-color: #008000\">'statement'</span>: <span style=\"color: #008000; text-decoration-color: #008000\">\"as a non offending paedophile I should not be treated with hatred and anger. I'm also not an animal who is a slave to my desires.\"</span>,\n",
       "<span style=\"color: #7fbf7f; text-decoration-color: #7fbf7f\">│   </span><span style=\"color: #008000; text-decoration-color: #008000\">'submission_id'</span>: <span style=\"color: #008000; text-decoration-color: #008000\">'4aiqaq'</span>,\n",
       "<span style=\"color: #7fbf7f; text-decoration-color: #7fbf7f\">│   </span><span style=\"color: #008000; text-decoration-color: #008000\">'penultimate_utterance'</span>: <span style=\"font-weight: bold\">{</span>\n",
       "<span style=\"color: #7fbf7f; text-decoration-color: #7fbf7f\">│   │   </span><span style=\"color: #008000; text-decoration-color: #008000\">'id'</span>: <span style=\"color: #008000; text-decoration-color: #008000\">'d115lt0'</span>,\n",
       "<span style=\"color: #7fbf7f; text-decoration-color: #7fbf7f\">│   │   </span><span style=\"color: #008000; text-decoration-color: #008000\">'userid'</span>: <span style=\"color: #008000; text-decoration-color: #008000\">'Gudtymez'</span>,\n",
       "<span style=\"color: #7fbf7f; text-decoration-color: #7fbf7f\">│   │   </span><span style=\"color: #008000; text-decoration-color: #008000\">'text'</span>: <span style=\"color: #008000; text-decoration-color: #008000\">'If all women in the world were somehow unable to provide consent, and I found them sexy then yes that is predatory. '</span>,\n",
       "<span style=\"color: #7fbf7f; text-decoration-color: #7fbf7f\">│   │   </span><span style=\"color: #008000; text-decoration-color: #008000\">'timestamp'</span>: <span style=\"color: #008080; text-decoration-color: #008080; font-weight: bold\">1458078590</span>\n",
       "<span style=\"color: #7fbf7f; text-decoration-color: #7fbf7f\">│   </span><span style=\"font-weight: bold\">}</span>,\n",
       "<span style=\"color: #7fbf7f; text-decoration-color: #7fbf7f\">│   </span><span style=\"color: #008000; text-decoration-color: #008000\">'last_utterance'</span>: <span style=\"font-weight: bold\">{</span>\n",
       "<span style=\"color: #7fbf7f; text-decoration-color: #7fbf7f\">│   │   </span><span style=\"color: #008000; text-decoration-color: #008000\">'id'</span>: <span style=\"color: #008000; text-decoration-color: #008000\">'d11gcbx'</span>,\n",
       "<span style=\"color: #7fbf7f; text-decoration-color: #7fbf7f\">│   │   </span><span style=\"color: #008000; text-decoration-color: #008000\">'userid'</span>: <span style=\"color: #008000; text-decoration-color: #008000\">'Cardplay3r'</span>,\n",
       "<span style=\"color: #7fbf7f; text-decoration-color: #7fbf7f\">│   │   </span><span style=\"color: #008000; text-decoration-color: #008000\">'text'</span>: <span style=\"color: #008000; text-decoration-color: #008000\">'How is finding them sexy predatory? That just makes no sense at all.'</span>,\n",
       "<span style=\"color: #7fbf7f; text-decoration-color: #7fbf7f\">│   │   </span><span style=\"color: #008000; text-decoration-color: #008000\">'timestamp'</span>: <span style=\"color: #008080; text-decoration-color: #008080; font-weight: bold\">1458093503</span>\n",
       "<span style=\"color: #7fbf7f; text-decoration-color: #7fbf7f\">│   </span><span style=\"font-weight: bold\">}</span>,\n",
       "<span style=\"color: #7fbf7f; text-decoration-color: #7fbf7f\">│   </span><span style=\"color: #008000; text-decoration-color: #008000\">'split'</span>: <span style=\"color: #008000; text-decoration-color: #008000\">'train'</span>\n",
       "<span style=\"font-weight: bold\">}</span>\n",
       "</pre>\n"
      ],
      "text/plain": [
       "\u001b[1m{\u001b[0m\n",
       "\u001b[2;32m│   \u001b[0m\u001b[32m'statement'\u001b[0m: \u001b[32m\"as a non offending paedophile I should not be treated with hatred and anger. I'm also not an animal who is a slave to my desires.\"\u001b[0m,\n",
       "\u001b[2;32m│   \u001b[0m\u001b[32m'submission_id'\u001b[0m: \u001b[32m'4aiqaq'\u001b[0m,\n",
       "\u001b[2;32m│   \u001b[0m\u001b[32m'penultimate_utterance'\u001b[0m: \u001b[1m{\u001b[0m\n",
       "\u001b[2;32m│   │   \u001b[0m\u001b[32m'id'\u001b[0m: \u001b[32m'd115lt0'\u001b[0m,\n",
       "\u001b[2;32m│   │   \u001b[0m\u001b[32m'userid'\u001b[0m: \u001b[32m'Gudtymez'\u001b[0m,\n",
       "\u001b[2;32m│   │   \u001b[0m\u001b[32m'text'\u001b[0m: \u001b[32m'If all women in the world were somehow unable to provide consent, and I found them sexy then yes that is predatory. '\u001b[0m,\n",
       "\u001b[2;32m│   │   \u001b[0m\u001b[32m'timestamp'\u001b[0m: \u001b[1;36m1458078590\u001b[0m\n",
       "\u001b[2;32m│   \u001b[0m\u001b[1m}\u001b[0m,\n",
       "\u001b[2;32m│   \u001b[0m\u001b[32m'last_utterance'\u001b[0m: \u001b[1m{\u001b[0m\n",
       "\u001b[2;32m│   │   \u001b[0m\u001b[32m'id'\u001b[0m: \u001b[32m'd11gcbx'\u001b[0m,\n",
       "\u001b[2;32m│   │   \u001b[0m\u001b[32m'userid'\u001b[0m: \u001b[32m'Cardplay3r'\u001b[0m,\n",
       "\u001b[2;32m│   │   \u001b[0m\u001b[32m'text'\u001b[0m: \u001b[32m'How is finding them sexy predatory? That just makes no sense at all.'\u001b[0m,\n",
       "\u001b[2;32m│   │   \u001b[0m\u001b[32m'timestamp'\u001b[0m: \u001b[1;36m1458093503\u001b[0m\n",
       "\u001b[2;32m│   \u001b[0m\u001b[1m}\u001b[0m,\n",
       "\u001b[2;32m│   \u001b[0m\u001b[32m'split'\u001b[0m: \u001b[32m'train'\u001b[0m\n",
       "\u001b[1m}\u001b[0m\n"
      ]
     },
     "metadata": {},
     "output_type": "display_data"
    },
    {
     "name": "stdout",
     "output_type": "stream",
     "text": [
      "Sample 87:\n"
     ]
    },
    {
     "data": {
      "text/html": [
       "<pre style=\"white-space:pre;overflow-x:auto;line-height:normal;font-family:Menlo,'DejaVu Sans Mono',consolas,'Courier New',monospace\"><span style=\"font-weight: bold\">{</span>\n",
       "<span style=\"color: #7fbf7f; text-decoration-color: #7fbf7f\">│   </span><span style=\"color: #008000; text-decoration-color: #008000\">'statement'</span>: <span style=\"color: #008000; text-decoration-color: #008000\">'There is nothing wrong with using adblock; advertisers are at fault.'</span>,\n",
       "<span style=\"color: #7fbf7f; text-decoration-color: #7fbf7f\">│   </span><span style=\"color: #008000; text-decoration-color: #008000\">'submission_id'</span>: <span style=\"color: #008000; text-decoration-color: #008000\">'4akgz3'</span>,\n",
       "<span style=\"color: #7fbf7f; text-decoration-color: #7fbf7f\">│   </span><span style=\"color: #008000; text-decoration-color: #008000\">'penultimate_utterance'</span>: <span style=\"font-weight: bold\">{</span>\n",
       "<span style=\"color: #7fbf7f; text-decoration-color: #7fbf7f\">│   │   </span><span style=\"color: #008000; text-decoration-color: #008000\">'id'</span>: <span style=\"color: #008000; text-decoration-color: #008000\">'d11n0n7'</span>,\n",
       "<span style=\"color: #7fbf7f; text-decoration-color: #7fbf7f\">│   │   </span><span style=\"color: #008000; text-decoration-color: #008000\">'userid'</span>: <span style=\"color: #008000; text-decoration-color: #008000\">'pananana1'</span>,\n",
       "<span style=\"color: #7fbf7f; text-decoration-color: #7fbf7f\">│   │   </span><span style=\"color: #008000; text-decoration-color: #008000\">'text'</span>: <span style=\"color: #008000; text-decoration-color: #008000\">\"Right 99% is collateral damage from 1%. 99% of legitimate websites giving you good content for free should get fucked. You're such an entitled asshole. \"</span>,\n",
       "<span style=\"color: #7fbf7f; text-decoration-color: #7fbf7f\">│   │   </span><span style=\"color: #008000; text-decoration-color: #008000\">'timestamp'</span>: <span style=\"color: #008080; text-decoration-color: #008080; font-weight: bold\">1458104744</span>\n",
       "<span style=\"color: #7fbf7f; text-decoration-color: #7fbf7f\">│   </span><span style=\"font-weight: bold\">}</span>,\n",
       "<span style=\"color: #7fbf7f; text-decoration-color: #7fbf7f\">│   </span><span style=\"color: #008000; text-decoration-color: #008000\">'last_utterance'</span>: <span style=\"font-weight: bold\">{</span>\n",
       "<span style=\"color: #7fbf7f; text-decoration-color: #7fbf7f\">│   │   </span><span style=\"color: #008000; text-decoration-color: #008000\">'id'</span>: <span style=\"color: #008000; text-decoration-color: #008000\">'d11n8yy'</span>,\n",
       "<span style=\"color: #7fbf7f; text-decoration-color: #7fbf7f\">│   │   </span><span style=\"color: #008000; text-decoration-color: #008000\">'userid'</span>: <span style=\"color: #008000; text-decoration-color: #008000\">'Tokillamockingguy'</span>,\n",
       "<span style=\"color: #7fbf7f; text-decoration-color: #7fbf7f\">│   │   </span><span style=\"color: #008000; text-decoration-color: #008000\">'text'</span>: <span style=\"color: #008000; text-decoration-color: #008000\">'Well now pretty much everyone uses AdBlock, so I guess they gotta figure shit out.'</span>,\n",
       "<span style=\"color: #7fbf7f; text-decoration-color: #7fbf7f\">│   │   </span><span style=\"color: #008000; text-decoration-color: #008000\">'timestamp'</span>: <span style=\"color: #008080; text-decoration-color: #008080; font-weight: bold\">1458105252</span>\n",
       "<span style=\"color: #7fbf7f; text-decoration-color: #7fbf7f\">│   </span><span style=\"font-weight: bold\">}</span>,\n",
       "<span style=\"color: #7fbf7f; text-decoration-color: #7fbf7f\">│   </span><span style=\"color: #008000; text-decoration-color: #008000\">'split'</span>: <span style=\"color: #008000; text-decoration-color: #008000\">'train'</span>\n",
       "<span style=\"font-weight: bold\">}</span>\n",
       "</pre>\n"
      ],
      "text/plain": [
       "\u001b[1m{\u001b[0m\n",
       "\u001b[2;32m│   \u001b[0m\u001b[32m'statement'\u001b[0m: \u001b[32m'There is nothing wrong with using adblock; advertisers are at fault.'\u001b[0m,\n",
       "\u001b[2;32m│   \u001b[0m\u001b[32m'submission_id'\u001b[0m: \u001b[32m'4akgz3'\u001b[0m,\n",
       "\u001b[2;32m│   \u001b[0m\u001b[32m'penultimate_utterance'\u001b[0m: \u001b[1m{\u001b[0m\n",
       "\u001b[2;32m│   │   \u001b[0m\u001b[32m'id'\u001b[0m: \u001b[32m'd11n0n7'\u001b[0m,\n",
       "\u001b[2;32m│   │   \u001b[0m\u001b[32m'userid'\u001b[0m: \u001b[32m'pananana1'\u001b[0m,\n",
       "\u001b[2;32m│   │   \u001b[0m\u001b[32m'text'\u001b[0m: \u001b[32m\"Right 99% is collateral damage from 1%. 99% of legitimate websites giving you good content for free should get fucked. You're such an entitled asshole. \"\u001b[0m,\n",
       "\u001b[2;32m│   │   \u001b[0m\u001b[32m'timestamp'\u001b[0m: \u001b[1;36m1458104744\u001b[0m\n",
       "\u001b[2;32m│   \u001b[0m\u001b[1m}\u001b[0m,\n",
       "\u001b[2;32m│   \u001b[0m\u001b[32m'last_utterance'\u001b[0m: \u001b[1m{\u001b[0m\n",
       "\u001b[2;32m│   │   \u001b[0m\u001b[32m'id'\u001b[0m: \u001b[32m'd11n8yy'\u001b[0m,\n",
       "\u001b[2;32m│   │   \u001b[0m\u001b[32m'userid'\u001b[0m: \u001b[32m'Tokillamockingguy'\u001b[0m,\n",
       "\u001b[2;32m│   │   \u001b[0m\u001b[32m'text'\u001b[0m: \u001b[32m'Well now pretty much everyone uses AdBlock, so I guess they gotta figure shit out.'\u001b[0m,\n",
       "\u001b[2;32m│   │   \u001b[0m\u001b[32m'timestamp'\u001b[0m: \u001b[1;36m1458105252\u001b[0m\n",
       "\u001b[2;32m│   \u001b[0m\u001b[1m}\u001b[0m,\n",
       "\u001b[2;32m│   \u001b[0m\u001b[32m'split'\u001b[0m: \u001b[32m'train'\u001b[0m\n",
       "\u001b[1m}\u001b[0m\n"
      ]
     },
     "metadata": {},
     "output_type": "display_data"
    },
    {
     "name": "stdout",
     "output_type": "stream",
     "text": [
      "Sample 88:\n"
     ]
    },
    {
     "data": {
      "text/html": [
       "<pre style=\"white-space:pre;overflow-x:auto;line-height:normal;font-family:Menlo,'DejaVu Sans Mono',consolas,'Courier New',monospace\"><span style=\"font-weight: bold\">{</span>\n",
       "<span style=\"color: #7fbf7f; text-decoration-color: #7fbf7f\">│   </span><span style=\"color: #008000; text-decoration-color: #008000\">'statement'</span>: <span style=\"color: #008000; text-decoration-color: #008000\">'The UK should vote to remain in the European Union.'</span>,\n",
       "<span style=\"color: #7fbf7f; text-decoration-color: #7fbf7f\">│   </span><span style=\"color: #008000; text-decoration-color: #008000\">'submission_id'</span>: <span style=\"color: #008000; text-decoration-color: #008000\">'4ao5kr'</span>,\n",
       "<span style=\"color: #7fbf7f; text-decoration-color: #7fbf7f\">│   </span><span style=\"color: #008000; text-decoration-color: #008000\">'penultimate_utterance'</span>: <span style=\"font-weight: bold\">{</span>\n",
       "<span style=\"color: #7fbf7f; text-decoration-color: #7fbf7f\">│   │   </span><span style=\"color: #008000; text-decoration-color: #008000\">'id'</span>: <span style=\"color: #008000; text-decoration-color: #008000\">'d12922j'</span>,\n",
       "<span style=\"color: #7fbf7f; text-decoration-color: #7fbf7f\">│   │   </span><span style=\"color: #008000; text-decoration-color: #008000\">'userid'</span>: <span style=\"color: #008000; text-decoration-color: #008000\">'hexag1'</span>,\n",
       "<span style=\"color: #7fbf7f; text-decoration-color: #7fbf7f\">│   │   </span><span style=\"color: #008000; text-decoration-color: #008000\">'text'</span>: <span style=\"color: #008000; text-decoration-color: #008000\">'Europe is being invaded by Islam. Unless the UK can gain control of its borders, it is going to be destroyed, just as Islam destroyed many other civilizations (Christian North Africa, Sasanid Iran, Hindu Indonesia, Hindu &amp;amp; Buddhist Afghanistan and Pakistan)\\n\\nBrexit is the clearest current path to regaining control of UK borders. Si unless you want your children to grow up in a Britain that is like Pakistan, but with more rain, vote Brexit.'</span>,\n",
       "<span style=\"color: #7fbf7f; text-decoration-color: #7fbf7f\">│   │   </span><span style=\"color: #008000; text-decoration-color: #008000\">'timestamp'</span>: <span style=\"color: #008080; text-decoration-color: #008080; font-weight: bold\">1458152405</span>\n",
       "<span style=\"color: #7fbf7f; text-decoration-color: #7fbf7f\">│   </span><span style=\"font-weight: bold\">}</span>,\n",
       "<span style=\"color: #7fbf7f; text-decoration-color: #7fbf7f\">│   </span><span style=\"color: #008000; text-decoration-color: #008000\">'last_utterance'</span>: <span style=\"font-weight: bold\">{</span>\n",
       "<span style=\"color: #7fbf7f; text-decoration-color: #7fbf7f\">│   │   </span><span style=\"color: #008000; text-decoration-color: #008000\">'id'</span>: <span style=\"color: #008000; text-decoration-color: #008000\">'d12bp54'</span>,\n",
       "<span style=\"color: #7fbf7f; text-decoration-color: #7fbf7f\">│   │   </span><span style=\"color: #008000; text-decoration-color: #008000\">'userid'</span>: <span style=\"color: #008000; text-decoration-color: #008000\">'VerlorenHoop'</span>,\n",
       "<span style=\"color: #7fbf7f; text-decoration-color: #7fbf7f\">│   │   </span><span style=\"color: #008000; text-decoration-color: #008000\">'text'</span>: <span style=\"color: #008000; text-decoration-color: #008000\">\"A) I don't buy the narrative that Islam is carrying out an invasion of mainland Europe. That would require the religion - not even the culture - to have some kind of unifying plan which you just don't see.  \\nB) The leave/remain question is difficult and multifaceted, and if your only reason for wanting to leave is the perception that you'll have better control of the borders, that suggests that it is a short-sighted measure which is not appropriate for such a long term issue\"</span>,\n",
       "<span style=\"color: #7fbf7f; text-decoration-color: #7fbf7f\">│   │   </span><span style=\"color: #008000; text-decoration-color: #008000\">'timestamp'</span>: <span style=\"color: #008080; text-decoration-color: #008080; font-weight: bold\">1458155955</span>\n",
       "<span style=\"color: #7fbf7f; text-decoration-color: #7fbf7f\">│   </span><span style=\"font-weight: bold\">}</span>,\n",
       "<span style=\"color: #7fbf7f; text-decoration-color: #7fbf7f\">│   </span><span style=\"color: #008000; text-decoration-color: #008000\">'split'</span>: <span style=\"color: #008000; text-decoration-color: #008000\">'train'</span>\n",
       "<span style=\"font-weight: bold\">}</span>\n",
       "</pre>\n"
      ],
      "text/plain": [
       "\u001b[1m{\u001b[0m\n",
       "\u001b[2;32m│   \u001b[0m\u001b[32m'statement'\u001b[0m: \u001b[32m'The UK should vote to remain in the European Union.'\u001b[0m,\n",
       "\u001b[2;32m│   \u001b[0m\u001b[32m'submission_id'\u001b[0m: \u001b[32m'4ao5kr'\u001b[0m,\n",
       "\u001b[2;32m│   \u001b[0m\u001b[32m'penultimate_utterance'\u001b[0m: \u001b[1m{\u001b[0m\n",
       "\u001b[2;32m│   │   \u001b[0m\u001b[32m'id'\u001b[0m: \u001b[32m'd12922j'\u001b[0m,\n",
       "\u001b[2;32m│   │   \u001b[0m\u001b[32m'userid'\u001b[0m: \u001b[32m'hexag1'\u001b[0m,\n",
       "\u001b[2;32m│   │   \u001b[0m\u001b[32m'text'\u001b[0m: \u001b[32m'Europe is being invaded by Islam. Unless the UK can gain control of its borders, it is going to be destroyed, just as Islam destroyed many other civilizations \u001b[0m\u001b[32m(\u001b[0m\u001b[32mChristian North Africa, Sasanid Iran, Hindu Indonesia, Hindu &amp; Buddhist Afghanistan and Pakistan\u001b[0m\u001b[32m)\u001b[0m\u001b[32m\\n\\nBrexit is the clearest current path to regaining control of UK borders. Si unless you want your children to grow up in a Britain that is like Pakistan, but with more rain, vote Brexit.'\u001b[0m,\n",
       "\u001b[2;32m│   │   \u001b[0m\u001b[32m'timestamp'\u001b[0m: \u001b[1;36m1458152405\u001b[0m\n",
       "\u001b[2;32m│   \u001b[0m\u001b[1m}\u001b[0m,\n",
       "\u001b[2;32m│   \u001b[0m\u001b[32m'last_utterance'\u001b[0m: \u001b[1m{\u001b[0m\n",
       "\u001b[2;32m│   │   \u001b[0m\u001b[32m'id'\u001b[0m: \u001b[32m'd12bp54'\u001b[0m,\n",
       "\u001b[2;32m│   │   \u001b[0m\u001b[32m'userid'\u001b[0m: \u001b[32m'VerlorenHoop'\u001b[0m,\n",
       "\u001b[2;32m│   │   \u001b[0m\u001b[32m'text'\u001b[0m: \u001b[32m\"A\u001b[0m\u001b[32m)\u001b[0m\u001b[32m I don't buy the narrative that Islam is carrying out an invasion of mainland Europe. That would require the religion - not even the culture - to have some kind of unifying plan which you just don't see.  \\nB\u001b[0m\u001b[32m)\u001b[0m\u001b[32m The leave/remain question is difficult and multifaceted, and if your only reason for wanting to leave is the perception that you'll have better control of the borders, that suggests that it is a short-sighted measure which is not appropriate for such a long term issue\"\u001b[0m,\n",
       "\u001b[2;32m│   │   \u001b[0m\u001b[32m'timestamp'\u001b[0m: \u001b[1;36m1458155955\u001b[0m\n",
       "\u001b[2;32m│   \u001b[0m\u001b[1m}\u001b[0m,\n",
       "\u001b[2;32m│   \u001b[0m\u001b[32m'split'\u001b[0m: \u001b[32m'train'\u001b[0m\n",
       "\u001b[1m}\u001b[0m\n"
      ]
     },
     "metadata": {},
     "output_type": "display_data"
    },
    {
     "name": "stdout",
     "output_type": "stream",
     "text": [
      "Sample 89:\n"
     ]
    },
    {
     "data": {
      "text/html": [
       "<pre style=\"white-space:pre;overflow-x:auto;line-height:normal;font-family:Menlo,'DejaVu Sans Mono',consolas,'Courier New',monospace\"><span style=\"font-weight: bold\">{</span>\n",
       "<span style=\"color: #7fbf7f; text-decoration-color: #7fbf7f\">│   </span><span style=\"color: #008000; text-decoration-color: #008000\">'statement'</span>: <span style=\"color: #008000; text-decoration-color: #008000\">'I think there is an inconsistency with believing in the criminalization of Prostitution and the legalization of Professionally produced Porn.'</span>,\n",
       "<span style=\"color: #7fbf7f; text-decoration-color: #7fbf7f\">│   </span><span style=\"color: #008000; text-decoration-color: #008000\">'submission_id'</span>: <span style=\"color: #008000; text-decoration-color: #008000\">'4axplh'</span>,\n",
       "<span style=\"color: #7fbf7f; text-decoration-color: #7fbf7f\">│   </span><span style=\"color: #008000; text-decoration-color: #008000\">'penultimate_utterance'</span>: <span style=\"font-weight: bold\">{</span>\n",
       "<span style=\"color: #7fbf7f; text-decoration-color: #7fbf7f\">│   │   </span><span style=\"color: #008000; text-decoration-color: #008000\">'id'</span>: <span style=\"color: #008000; text-decoration-color: #008000\">'d14soi1'</span>,\n",
       "<span style=\"color: #7fbf7f; text-decoration-color: #7fbf7f\">│   │   </span><span style=\"color: #008000; text-decoration-color: #008000\">'userid'</span>: <span style=\"color: #008000; text-decoration-color: #008000\">'silverionmox'</span>,\n",
       "<span style=\"color: #7fbf7f; text-decoration-color: #7fbf7f\">│   │   </span><span style=\"color: #008000; text-decoration-color: #008000\">'text'</span>: <span style=\"color: #008000; text-decoration-color: #008000\">'What a load of bollocks. Let\\'s say I bring a friend to a prostitute. The he says: \"I\\'m a porn director, and I want to pay the both of you to have sex.\" That happens. Next time my friend and I switch roles. Tadaa, now it\\'s porn and not prostitution!'</span>,\n",
       "<span style=\"color: #7fbf7f; text-decoration-color: #7fbf7f\">│   │   </span><span style=\"color: #008000; text-decoration-color: #008000\">'timestamp'</span>: <span style=\"color: #008080; text-decoration-color: #008080; font-weight: bold\">1458325204</span>\n",
       "<span style=\"color: #7fbf7f; text-decoration-color: #7fbf7f\">│   </span><span style=\"font-weight: bold\">}</span>,\n",
       "<span style=\"color: #7fbf7f; text-decoration-color: #7fbf7f\">│   </span><span style=\"color: #008000; text-decoration-color: #008000\">'last_utterance'</span>: <span style=\"font-weight: bold\">{</span>\n",
       "<span style=\"color: #7fbf7f; text-decoration-color: #7fbf7f\">│   │   </span><span style=\"color: #008000; text-decoration-color: #008000\">'id'</span>: <span style=\"color: #008000; text-decoration-color: #008000\">'d14tbso'</span>,\n",
       "<span style=\"color: #7fbf7f; text-decoration-color: #7fbf7f\">│   │   </span><span style=\"color: #008000; text-decoration-color: #008000\">'userid'</span>: <span style=\"color: #008000; text-decoration-color: #008000\">'hacksoncode'</span>,\n",
       "<span style=\"color: #7fbf7f; text-decoration-color: #7fbf7f\">│   │   </span><span style=\"color: #008000; text-decoration-color: #008000\">'text'</span>: <span style=\"color: #008000; text-decoration-color: #008000\">\"Could it theoretically work that way? Sure. Does it actually? Almost never. \\n\\nThe law is not about black and white rules. It's about equity and intent. \"</span>,\n",
       "<span style=\"color: #7fbf7f; text-decoration-color: #7fbf7f\">│   │   </span><span style=\"color: #008000; text-decoration-color: #008000\">'timestamp'</span>: <span style=\"color: #008080; text-decoration-color: #008080; font-weight: bold\">1458326113</span>\n",
       "<span style=\"color: #7fbf7f; text-decoration-color: #7fbf7f\">│   </span><span style=\"font-weight: bold\">}</span>,\n",
       "<span style=\"color: #7fbf7f; text-decoration-color: #7fbf7f\">│   </span><span style=\"color: #008000; text-decoration-color: #008000\">'split'</span>: <span style=\"color: #008000; text-decoration-color: #008000\">'train'</span>\n",
       "<span style=\"font-weight: bold\">}</span>\n",
       "</pre>\n"
      ],
      "text/plain": [
       "\u001b[1m{\u001b[0m\n",
       "\u001b[2;32m│   \u001b[0m\u001b[32m'statement'\u001b[0m: \u001b[32m'I think there is an inconsistency with believing in the criminalization of Prostitution and the legalization of Professionally produced Porn.'\u001b[0m,\n",
       "\u001b[2;32m│   \u001b[0m\u001b[32m'submission_id'\u001b[0m: \u001b[32m'4axplh'\u001b[0m,\n",
       "\u001b[2;32m│   \u001b[0m\u001b[32m'penultimate_utterance'\u001b[0m: \u001b[1m{\u001b[0m\n",
       "\u001b[2;32m│   │   \u001b[0m\u001b[32m'id'\u001b[0m: \u001b[32m'd14soi1'\u001b[0m,\n",
       "\u001b[2;32m│   │   \u001b[0m\u001b[32m'userid'\u001b[0m: \u001b[32m'silverionmox'\u001b[0m,\n",
       "\u001b[2;32m│   │   \u001b[0m\u001b[32m'text'\u001b[0m: \u001b[32m'What a load of bollocks. Let\\'s say I bring a friend to a prostitute. The he says: \"I\\'m a porn director, and I want to pay the both of you to have sex.\" That happens. Next time my friend and I switch roles. Tadaa, now it\\'s porn and not prostitution!'\u001b[0m,\n",
       "\u001b[2;32m│   │   \u001b[0m\u001b[32m'timestamp'\u001b[0m: \u001b[1;36m1458325204\u001b[0m\n",
       "\u001b[2;32m│   \u001b[0m\u001b[1m}\u001b[0m,\n",
       "\u001b[2;32m│   \u001b[0m\u001b[32m'last_utterance'\u001b[0m: \u001b[1m{\u001b[0m\n",
       "\u001b[2;32m│   │   \u001b[0m\u001b[32m'id'\u001b[0m: \u001b[32m'd14tbso'\u001b[0m,\n",
       "\u001b[2;32m│   │   \u001b[0m\u001b[32m'userid'\u001b[0m: \u001b[32m'hacksoncode'\u001b[0m,\n",
       "\u001b[2;32m│   │   \u001b[0m\u001b[32m'text'\u001b[0m: \u001b[32m\"Could it theoretically work that way? Sure. Does it actually? Almost never. \\n\\nThe law is not about black and white rules. It's about equity and intent. \"\u001b[0m,\n",
       "\u001b[2;32m│   │   \u001b[0m\u001b[32m'timestamp'\u001b[0m: \u001b[1;36m1458326113\u001b[0m\n",
       "\u001b[2;32m│   \u001b[0m\u001b[1m}\u001b[0m,\n",
       "\u001b[2;32m│   \u001b[0m\u001b[32m'split'\u001b[0m: \u001b[32m'train'\u001b[0m\n",
       "\u001b[1m}\u001b[0m\n"
      ]
     },
     "metadata": {},
     "output_type": "display_data"
    },
    {
     "name": "stdout",
     "output_type": "stream",
     "text": [
      "Sample 90:\n"
     ]
    },
    {
     "data": {
      "text/html": [
       "<pre style=\"white-space:pre;overflow-x:auto;line-height:normal;font-family:Menlo,'DejaVu Sans Mono',consolas,'Courier New',monospace\"><span style=\"font-weight: bold\">{</span>\n",
       "<span style=\"color: #7fbf7f; text-decoration-color: #7fbf7f\">│   </span><span style=\"color: #008000; text-decoration-color: #008000\">'statement'</span>: <span style=\"color: #008000; text-decoration-color: #008000\">'I think \"pro-abortion\" and \"anti-abortion\" are more descriptive, less manipulative labels than \"pro-choice\" and \"pro-life\" for describing th different sides in the abortion debate.'</span>,\n",
       "<span style=\"color: #7fbf7f; text-decoration-color: #7fbf7f\">│   </span><span style=\"color: #008000; text-decoration-color: #008000\">'submission_id'</span>: <span style=\"color: #008000; text-decoration-color: #008000\">'4b54pd'</span>,\n",
       "<span style=\"color: #7fbf7f; text-decoration-color: #7fbf7f\">│   </span><span style=\"color: #008000; text-decoration-color: #008000\">'penultimate_utterance'</span>: <span style=\"font-weight: bold\">{</span>\n",
       "<span style=\"color: #7fbf7f; text-decoration-color: #7fbf7f\">│   │   </span><span style=\"color: #008000; text-decoration-color: #008000\">'id'</span>: <span style=\"color: #008000; text-decoration-color: #008000\">'d16x443'</span>,\n",
       "<span style=\"color: #7fbf7f; text-decoration-color: #7fbf7f\">│   │   </span><span style=\"color: #008000; text-decoration-color: #008000\">'userid'</span>: <span style=\"color: #008000; text-decoration-color: #008000\">'sarcasmandsocialism'</span>,\n",
       "<span style=\"color: #7fbf7f; text-decoration-color: #7fbf7f\">│   │   </span><span style=\"color: #008000; text-decoration-color: #008000\">'text'</span>: <span style=\"color: #008000; text-decoration-color: #008000\">'\"Pro-abortion\" is incredibly misleading. Most pro-choice people don\\'t want people to have abortions, but think that it isn\\'t always as bad as the alternatives, so it should be an option.'</span>,\n",
       "<span style=\"color: #7fbf7f; text-decoration-color: #7fbf7f\">│   │   </span><span style=\"color: #008000; text-decoration-color: #008000\">'timestamp'</span>: <span style=\"color: #008080; text-decoration-color: #008080; font-weight: bold\">1458496995</span>\n",
       "<span style=\"color: #7fbf7f; text-decoration-color: #7fbf7f\">│   </span><span style=\"font-weight: bold\">}</span>,\n",
       "<span style=\"color: #7fbf7f; text-decoration-color: #7fbf7f\">│   </span><span style=\"color: #008000; text-decoration-color: #008000\">'last_utterance'</span>: <span style=\"font-weight: bold\">{</span>\n",
       "<span style=\"color: #7fbf7f; text-decoration-color: #7fbf7f\">│   │   </span><span style=\"color: #008000; text-decoration-color: #008000\">'id'</span>: <span style=\"color: #008000; text-decoration-color: #008000\">'d16y22c'</span>,\n",
       "<span style=\"color: #7fbf7f; text-decoration-color: #7fbf7f\">│   │   </span><span style=\"color: #008000; text-decoration-color: #008000\">'userid'</span>: <span style=\"color: #008000; text-decoration-color: #008000\">'itsjh'</span>,\n",
       "<span style=\"color: #7fbf7f; text-decoration-color: #7fbf7f\">│   │   </span><span style=\"color: #008000; text-decoration-color: #008000\">'text'</span>: <span style=\"color: #008000; text-decoration-color: #008000\">\"So they're happy to preach for the rights but they're too squeamish to confront the implications of those rights, got it. \"</span>,\n",
       "<span style=\"color: #7fbf7f; text-decoration-color: #7fbf7f\">│   │   </span><span style=\"color: #008000; text-decoration-color: #008000\">'timestamp'</span>: <span style=\"color: #008080; text-decoration-color: #008080; font-weight: bold\">1458498600</span>\n",
       "<span style=\"color: #7fbf7f; text-decoration-color: #7fbf7f\">│   </span><span style=\"font-weight: bold\">}</span>,\n",
       "<span style=\"color: #7fbf7f; text-decoration-color: #7fbf7f\">│   </span><span style=\"color: #008000; text-decoration-color: #008000\">'split'</span>: <span style=\"color: #008000; text-decoration-color: #008000\">'train'</span>\n",
       "<span style=\"font-weight: bold\">}</span>\n",
       "</pre>\n"
      ],
      "text/plain": [
       "\u001b[1m{\u001b[0m\n",
       "\u001b[2;32m│   \u001b[0m\u001b[32m'statement'\u001b[0m: \u001b[32m'I think \"pro-abortion\" and \"anti-abortion\" are more descriptive, less manipulative labels than \"pro-choice\" and \"pro-life\" for describing th different sides in the abortion debate.'\u001b[0m,\n",
       "\u001b[2;32m│   \u001b[0m\u001b[32m'submission_id'\u001b[0m: \u001b[32m'4b54pd'\u001b[0m,\n",
       "\u001b[2;32m│   \u001b[0m\u001b[32m'penultimate_utterance'\u001b[0m: \u001b[1m{\u001b[0m\n",
       "\u001b[2;32m│   │   \u001b[0m\u001b[32m'id'\u001b[0m: \u001b[32m'd16x443'\u001b[0m,\n",
       "\u001b[2;32m│   │   \u001b[0m\u001b[32m'userid'\u001b[0m: \u001b[32m'sarcasmandsocialism'\u001b[0m,\n",
       "\u001b[2;32m│   │   \u001b[0m\u001b[32m'text'\u001b[0m: \u001b[32m'\"Pro-abortion\" is incredibly misleading. Most pro-choice people don\\'t want people to have abortions, but think that it isn\\'t always as bad as the alternatives, so it should be an option.'\u001b[0m,\n",
       "\u001b[2;32m│   │   \u001b[0m\u001b[32m'timestamp'\u001b[0m: \u001b[1;36m1458496995\u001b[0m\n",
       "\u001b[2;32m│   \u001b[0m\u001b[1m}\u001b[0m,\n",
       "\u001b[2;32m│   \u001b[0m\u001b[32m'last_utterance'\u001b[0m: \u001b[1m{\u001b[0m\n",
       "\u001b[2;32m│   │   \u001b[0m\u001b[32m'id'\u001b[0m: \u001b[32m'd16y22c'\u001b[0m,\n",
       "\u001b[2;32m│   │   \u001b[0m\u001b[32m'userid'\u001b[0m: \u001b[32m'itsjh'\u001b[0m,\n",
       "\u001b[2;32m│   │   \u001b[0m\u001b[32m'text'\u001b[0m: \u001b[32m\"So they're happy to preach for the rights but they're too squeamish to confront the implications of those rights, got it. \"\u001b[0m,\n",
       "\u001b[2;32m│   │   \u001b[0m\u001b[32m'timestamp'\u001b[0m: \u001b[1;36m1458498600\u001b[0m\n",
       "\u001b[2;32m│   \u001b[0m\u001b[1m}\u001b[0m,\n",
       "\u001b[2;32m│   \u001b[0m\u001b[32m'split'\u001b[0m: \u001b[32m'train'\u001b[0m\n",
       "\u001b[1m}\u001b[0m\n"
      ]
     },
     "metadata": {},
     "output_type": "display_data"
    },
    {
     "name": "stdout",
     "output_type": "stream",
     "text": [
      "Sample 91:\n"
     ]
    },
    {
     "data": {
      "text/html": [
       "<pre style=\"white-space:pre;overflow-x:auto;line-height:normal;font-family:Menlo,'DejaVu Sans Mono',consolas,'Courier New',monospace\"><span style=\"font-weight: bold\">{</span>\n",
       "<span style=\"color: #7fbf7f; text-decoration-color: #7fbf7f\">│   </span><span style=\"color: #008000; text-decoration-color: #008000\">'statement'</span>: <span style=\"color: #008000; text-decoration-color: #008000\">'The way race is taught in western academia is largely misleading.'</span>,\n",
       "<span style=\"color: #7fbf7f; text-decoration-color: #7fbf7f\">│   </span><span style=\"color: #008000; text-decoration-color: #008000\">'submission_id'</span>: <span style=\"color: #008000; text-decoration-color: #008000\">'4b90n2'</span>,\n",
       "<span style=\"color: #7fbf7f; text-decoration-color: #7fbf7f\">│   </span><span style=\"color: #008000; text-decoration-color: #008000\">'penultimate_utterance'</span>: <span style=\"font-weight: bold\">{</span>\n",
       "<span style=\"color: #7fbf7f; text-decoration-color: #7fbf7f\">│   │   </span><span style=\"color: #008000; text-decoration-color: #008000\">'id'</span>: <span style=\"color: #008000; text-decoration-color: #008000\">'d17zud3'</span>,\n",
       "<span style=\"color: #7fbf7f; text-decoration-color: #7fbf7f\">│   │   </span><span style=\"color: #008000; text-decoration-color: #008000\">'userid'</span>: <span style=\"color: #008000; text-decoration-color: #008000\">'sdingle100'</span>,\n",
       "<span style=\"color: #7fbf7f; text-decoration-color: #7fbf7f\">│   │   </span><span style=\"color: #008000; text-decoration-color: #008000\">'text'</span>: <span style=\"color: #008000; text-decoration-color: #008000\">\"Don't be so dense. Look at a job application and look under the 'select race' category what do you see for options?\"</span>,\n",
       "<span style=\"color: #7fbf7f; text-decoration-color: #7fbf7f\">│   │   </span><span style=\"color: #008000; text-decoration-color: #008000\">'timestamp'</span>: <span style=\"color: #008080; text-decoration-color: #008080; font-weight: bold\">1458578143</span>\n",
       "<span style=\"color: #7fbf7f; text-decoration-color: #7fbf7f\">│   </span><span style=\"font-weight: bold\">}</span>,\n",
       "<span style=\"color: #7fbf7f; text-decoration-color: #7fbf7f\">│   </span><span style=\"color: #008000; text-decoration-color: #008000\">'last_utterance'</span>: <span style=\"font-weight: bold\">{</span>\n",
       "<span style=\"color: #7fbf7f; text-decoration-color: #7fbf7f\">│   │   </span><span style=\"color: #008000; text-decoration-color: #008000\">'id'</span>: <span style=\"color: #008000; text-decoration-color: #008000\">'d18za3r'</span>,\n",
       "<span style=\"color: #7fbf7f; text-decoration-color: #7fbf7f\">│   │   </span><span style=\"color: #008000; text-decoration-color: #008000\">'userid'</span>: <span style=\"color: #008000; text-decoration-color: #008000\">'FallowIS'</span>,\n",
       "<span style=\"color: #7fbf7f; text-decoration-color: #7fbf7f\">│   │   </span><span style=\"color: #008000; text-decoration-color: #008000\">'text'</span>: <span style=\"color: #008000; text-decoration-color: #008000\">\"I'm dense for not getting my facts of a random application form? Should I also get my career advice off the back of a milk carton?\\n\\nThis is a grownup conversation - polish off your critical thinking skills and act like one.\\n\\n\"</span>,\n",
       "<span style=\"color: #7fbf7f; text-decoration-color: #7fbf7f\">│   │   </span><span style=\"color: #008000; text-decoration-color: #008000\">'timestamp'</span>: <span style=\"color: #008080; text-decoration-color: #008080; font-weight: bold\">1458643954</span>\n",
       "<span style=\"color: #7fbf7f; text-decoration-color: #7fbf7f\">│   </span><span style=\"font-weight: bold\">}</span>,\n",
       "<span style=\"color: #7fbf7f; text-decoration-color: #7fbf7f\">│   </span><span style=\"color: #008000; text-decoration-color: #008000\">'split'</span>: <span style=\"color: #008000; text-decoration-color: #008000\">'train'</span>\n",
       "<span style=\"font-weight: bold\">}</span>\n",
       "</pre>\n"
      ],
      "text/plain": [
       "\u001b[1m{\u001b[0m\n",
       "\u001b[2;32m│   \u001b[0m\u001b[32m'statement'\u001b[0m: \u001b[32m'The way race is taught in western academia is largely misleading.'\u001b[0m,\n",
       "\u001b[2;32m│   \u001b[0m\u001b[32m'submission_id'\u001b[0m: \u001b[32m'4b90n2'\u001b[0m,\n",
       "\u001b[2;32m│   \u001b[0m\u001b[32m'penultimate_utterance'\u001b[0m: \u001b[1m{\u001b[0m\n",
       "\u001b[2;32m│   │   \u001b[0m\u001b[32m'id'\u001b[0m: \u001b[32m'd17zud3'\u001b[0m,\n",
       "\u001b[2;32m│   │   \u001b[0m\u001b[32m'userid'\u001b[0m: \u001b[32m'sdingle100'\u001b[0m,\n",
       "\u001b[2;32m│   │   \u001b[0m\u001b[32m'text'\u001b[0m: \u001b[32m\"Don't be so dense. Look at a job application and look under the 'select race' category what do you see for options?\"\u001b[0m,\n",
       "\u001b[2;32m│   │   \u001b[0m\u001b[32m'timestamp'\u001b[0m: \u001b[1;36m1458578143\u001b[0m\n",
       "\u001b[2;32m│   \u001b[0m\u001b[1m}\u001b[0m,\n",
       "\u001b[2;32m│   \u001b[0m\u001b[32m'last_utterance'\u001b[0m: \u001b[1m{\u001b[0m\n",
       "\u001b[2;32m│   │   \u001b[0m\u001b[32m'id'\u001b[0m: \u001b[32m'd18za3r'\u001b[0m,\n",
       "\u001b[2;32m│   │   \u001b[0m\u001b[32m'userid'\u001b[0m: \u001b[32m'FallowIS'\u001b[0m,\n",
       "\u001b[2;32m│   │   \u001b[0m\u001b[32m'text'\u001b[0m: \u001b[32m\"I'm dense for not getting my facts of a random application form? Should I also get my career advice off the back of a milk carton?\\n\\nThis is a grownup conversation - polish off your critical thinking skills and act like one.\\n\\n\"\u001b[0m,\n",
       "\u001b[2;32m│   │   \u001b[0m\u001b[32m'timestamp'\u001b[0m: \u001b[1;36m1458643954\u001b[0m\n",
       "\u001b[2;32m│   \u001b[0m\u001b[1m}\u001b[0m,\n",
       "\u001b[2;32m│   \u001b[0m\u001b[32m'split'\u001b[0m: \u001b[32m'train'\u001b[0m\n",
       "\u001b[1m}\u001b[0m\n"
      ]
     },
     "metadata": {},
     "output_type": "display_data"
    },
    {
     "name": "stdout",
     "output_type": "stream",
     "text": [
      "Sample 92:\n"
     ]
    },
    {
     "data": {
      "text/html": [
       "<pre style=\"white-space:pre;overflow-x:auto;line-height:normal;font-family:Menlo,'DejaVu Sans Mono',consolas,'Courier New',monospace\"><span style=\"font-weight: bold\">{</span>\n",
       "<span style=\"color: #7fbf7f; text-decoration-color: #7fbf7f\">│   </span><span style=\"color: #008000; text-decoration-color: #008000\">'statement'</span>: <span style=\"color: #008000; text-decoration-color: #008000\">'I think the Red Pill is mostly correct about women and society.'</span>,\n",
       "<span style=\"color: #7fbf7f; text-decoration-color: #7fbf7f\">│   </span><span style=\"color: #008000; text-decoration-color: #008000\">'submission_id'</span>: <span style=\"color: #008000; text-decoration-color: #008000\">'4c4ypf'</span>,\n",
       "<span style=\"color: #7fbf7f; text-decoration-color: #7fbf7f\">│   </span><span style=\"color: #008000; text-decoration-color: #008000\">'penultimate_utterance'</span>: <span style=\"font-weight: bold\">{</span>\n",
       "<span style=\"color: #7fbf7f; text-decoration-color: #7fbf7f\">│   │   </span><span style=\"color: #008000; text-decoration-color: #008000\">'id'</span>: <span style=\"color: #008000; text-decoration-color: #008000\">'d1faemj'</span>,\n",
       "<span style=\"color: #7fbf7f; text-decoration-color: #7fbf7f\">│   │   </span><span style=\"color: #008000; text-decoration-color: #008000\">'userid'</span>: <span style=\"color: #008000; text-decoration-color: #008000\">'Allahsus'</span>,\n",
       "<span style=\"color: #7fbf7f; text-decoration-color: #7fbf7f\">│   │   </span><span style=\"color: #008000; text-decoration-color: #008000\">'text'</span>: <span style=\"color: #008000; text-decoration-color: #008000\">\"&gt;   I get the impression that you have a response ready that's going to accuse me of misogyny no matter what I say.\\n\\n\\nAbsolutely.\\n\\nDo you think that's a far fetched reaction for a woman to have, when presented with the position that \\n\\n&gt;  TRP has the right idea\\n\\n?\"</span>,\n",
       "<span style=\"color: #7fbf7f; text-decoration-color: #7fbf7f\">│   │   </span><span style=\"color: #008000; text-decoration-color: #008000\">'timestamp'</span>: <span style=\"color: #008080; text-decoration-color: #008080; font-weight: bold\">1459092586</span>\n",
       "<span style=\"color: #7fbf7f; text-decoration-color: #7fbf7f\">│   </span><span style=\"font-weight: bold\">}</span>,\n",
       "<span style=\"color: #7fbf7f; text-decoration-color: #7fbf7f\">│   </span><span style=\"color: #008000; text-decoration-color: #008000\">'last_utterance'</span>: <span style=\"font-weight: bold\">{</span>\n",
       "<span style=\"color: #7fbf7f; text-decoration-color: #7fbf7f\">│   │   </span><span style=\"color: #008000; text-decoration-color: #008000\">'id'</span>: <span style=\"color: #008000; text-decoration-color: #008000\">'d1fagmy'</span>,\n",
       "<span style=\"color: #7fbf7f; text-decoration-color: #7fbf7f\">│   │   </span><span style=\"color: #008000; text-decoration-color: #008000\">'userid'</span>: <span style=\"color: #008000; text-decoration-color: #008000\">'FuckingWrites'</span>,\n",
       "<span style=\"color: #7fbf7f; text-decoration-color: #7fbf7f\">│   │   </span><span style=\"color: #008000; text-decoration-color: #008000\">'text'</span>: <span style=\"color: #008000; text-decoration-color: #008000\">'It\\'s not quite as simple as you\\'re making it out to be. I find The Red Pills views on women to be absolutely filthy and morally reprehensible. \\n\\nAgain, I\\'m ready to explain my position if you\\'re ready to open your mind and give me an honest shot at telling you what exactly I mean by saying The Red Pill has \"the right idea\".\\n\\nOtherwise, top of the morning to you, miss.\\n\\nEDIT: Have a good faith upvote. I\\'d love for you to hear me out.'</span>,\n",
       "<span style=\"color: #7fbf7f; text-decoration-color: #7fbf7f\">│   │   </span><span style=\"color: #008000; text-decoration-color: #008000\">'timestamp'</span>: <span style=\"color: #008080; text-decoration-color: #008080; font-weight: bold\">1459092692</span>\n",
       "<span style=\"color: #7fbf7f; text-decoration-color: #7fbf7f\">│   </span><span style=\"font-weight: bold\">}</span>,\n",
       "<span style=\"color: #7fbf7f; text-decoration-color: #7fbf7f\">│   </span><span style=\"color: #008000; text-decoration-color: #008000\">'split'</span>: <span style=\"color: #008000; text-decoration-color: #008000\">'train'</span>\n",
       "<span style=\"font-weight: bold\">}</span>\n",
       "</pre>\n"
      ],
      "text/plain": [
       "\u001b[1m{\u001b[0m\n",
       "\u001b[2;32m│   \u001b[0m\u001b[32m'statement'\u001b[0m: \u001b[32m'I think the Red Pill is mostly correct about women and society.'\u001b[0m,\n",
       "\u001b[2;32m│   \u001b[0m\u001b[32m'submission_id'\u001b[0m: \u001b[32m'4c4ypf'\u001b[0m,\n",
       "\u001b[2;32m│   \u001b[0m\u001b[32m'penultimate_utterance'\u001b[0m: \u001b[1m{\u001b[0m\n",
       "\u001b[2;32m│   │   \u001b[0m\u001b[32m'id'\u001b[0m: \u001b[32m'd1faemj'\u001b[0m,\n",
       "\u001b[2;32m│   │   \u001b[0m\u001b[32m'userid'\u001b[0m: \u001b[32m'Allahsus'\u001b[0m,\n",
       "\u001b[2;32m│   │   \u001b[0m\u001b[32m'text'\u001b[0m: \u001b[32m\">   I get the impression that you have a response ready that's going to accuse me of misogyny no matter what I say.\\n\\n\\nAbsolutely.\\n\\nDo you think that's a far fetched reaction for a woman to have, when presented with the position that \\n\\n>  TRP has the right idea\\n\\n?\"\u001b[0m,\n",
       "\u001b[2;32m│   │   \u001b[0m\u001b[32m'timestamp'\u001b[0m: \u001b[1;36m1459092586\u001b[0m\n",
       "\u001b[2;32m│   \u001b[0m\u001b[1m}\u001b[0m,\n",
       "\u001b[2;32m│   \u001b[0m\u001b[32m'last_utterance'\u001b[0m: \u001b[1m{\u001b[0m\n",
       "\u001b[2;32m│   │   \u001b[0m\u001b[32m'id'\u001b[0m: \u001b[32m'd1fagmy'\u001b[0m,\n",
       "\u001b[2;32m│   │   \u001b[0m\u001b[32m'userid'\u001b[0m: \u001b[32m'FuckingWrites'\u001b[0m,\n",
       "\u001b[2;32m│   │   \u001b[0m\u001b[32m'text'\u001b[0m: \u001b[32m'It\\'s not quite as simple as you\\'re making it out to be. I find The Red Pills views on women to be absolutely filthy and morally reprehensible. \\n\\nAgain, I\\'m ready to explain my position if you\\'re ready to open your mind and give me an honest shot at telling you what exactly I mean by saying The Red Pill has \"the right idea\".\\n\\nOtherwise, top of the morning to you, miss.\\n\\nEDIT: Have a good faith upvote. I\\'d love for you to hear me out.'\u001b[0m,\n",
       "\u001b[2;32m│   │   \u001b[0m\u001b[32m'timestamp'\u001b[0m: \u001b[1;36m1459092692\u001b[0m\n",
       "\u001b[2;32m│   \u001b[0m\u001b[1m}\u001b[0m,\n",
       "\u001b[2;32m│   \u001b[0m\u001b[32m'split'\u001b[0m: \u001b[32m'train'\u001b[0m\n",
       "\u001b[1m}\u001b[0m\n"
      ]
     },
     "metadata": {},
     "output_type": "display_data"
    },
    {
     "name": "stdout",
     "output_type": "stream",
     "text": [
      "Sample 93:\n"
     ]
    },
    {
     "data": {
      "text/html": [
       "<pre style=\"white-space:pre;overflow-x:auto;line-height:normal;font-family:Menlo,'DejaVu Sans Mono',consolas,'Courier New',monospace\"><span style=\"font-weight: bold\">{</span>\n",
       "<span style=\"color: #7fbf7f; text-decoration-color: #7fbf7f\">│   </span><span style=\"color: #008000; text-decoration-color: #008000\">'statement'</span>: <span style=\"color: #008000; text-decoration-color: #008000\">'I believe that eventually the world will, both legally and socially, turn against Muslims.'</span>,\n",
       "<span style=\"color: #7fbf7f; text-decoration-color: #7fbf7f\">│   </span><span style=\"color: #008000; text-decoration-color: #008000\">'submission_id'</span>: <span style=\"color: #008000; text-decoration-color: #008000\">'4caaw8'</span>,\n",
       "<span style=\"color: #7fbf7f; text-decoration-color: #7fbf7f\">│   </span><span style=\"color: #008000; text-decoration-color: #008000\">'penultimate_utterance'</span>: <span style=\"font-weight: bold\">{</span>\n",
       "<span style=\"color: #7fbf7f; text-decoration-color: #7fbf7f\">│   │   </span><span style=\"color: #008000; text-decoration-color: #008000\">'id'</span>: <span style=\"color: #008000; text-decoration-color: #008000\">'d1go9ts'</span>,\n",
       "<span style=\"color: #7fbf7f; text-decoration-color: #7fbf7f\">│   │   </span><span style=\"color: #008000; text-decoration-color: #008000\">'userid'</span>: <span style=\"color: #008000; text-decoration-color: #008000\">'halfar'</span>,\n",
       "<span style=\"color: #7fbf7f; text-decoration-color: #7fbf7f\">│   │   </span><span style=\"color: #008000; text-decoration-color: #008000\">'text'</span>: <span style=\"color: #008000; text-decoration-color: #008000\">'you\\'re not even making a specific point, just kinda *hinting* at one, and why are you being so belligerent?\\n\\naddress the conversation from a vantage point of \"us vs. the issue\", not you vs. me. this isn\\'t a fucking gladiator arena. why would you even begin to care about \"winning\"?\\n\\noh, and be sure to tell me what the actual fucking argument you\\'re making is before you can proclaim that you\\'ve \"won\" anything. :/'</span>,\n",
       "<span style=\"color: #7fbf7f; text-decoration-color: #7fbf7f\">│   │   </span><span style=\"color: #008000; text-decoration-color: #008000\">'timestamp'</span>: <span style=\"color: #008080; text-decoration-color: #008080; font-weight: bold\">1459191836</span>\n",
       "<span style=\"color: #7fbf7f; text-decoration-color: #7fbf7f\">│   </span><span style=\"font-weight: bold\">}</span>,\n",
       "<span style=\"color: #7fbf7f; text-decoration-color: #7fbf7f\">│   </span><span style=\"color: #008000; text-decoration-color: #008000\">'last_utterance'</span>: <span style=\"font-weight: bold\">{</span>\n",
       "<span style=\"color: #7fbf7f; text-decoration-color: #7fbf7f\">│   │   </span><span style=\"color: #008000; text-decoration-color: #008000\">'id'</span>: <span style=\"color: #008000; text-decoration-color: #008000\">'d1gpf5y'</span>,\n",
       "<span style=\"color: #7fbf7f; text-decoration-color: #7fbf7f\">│   │   </span><span style=\"color: #008000; text-decoration-color: #008000\">'userid'</span>: <span style=\"color: #008000; text-decoration-color: #008000\">'percussaresurgo'</span>,\n",
       "<span style=\"color: #7fbf7f; text-decoration-color: #7fbf7f\">│   │   </span><span style=\"color: #008000; text-decoration-color: #008000\">'text'</span>: <span style=\"color: #008000; text-decoration-color: #008000\">\"Sorry you're lost. Try scrolling up.\"</span>,\n",
       "<span style=\"color: #7fbf7f; text-decoration-color: #7fbf7f\">│   │   </span><span style=\"color: #008000; text-decoration-color: #008000\">'timestamp'</span>: <span style=\"color: #008080; text-decoration-color: #008080; font-weight: bold\">1459193323</span>\n",
       "<span style=\"color: #7fbf7f; text-decoration-color: #7fbf7f\">│   </span><span style=\"font-weight: bold\">}</span>,\n",
       "<span style=\"color: #7fbf7f; text-decoration-color: #7fbf7f\">│   </span><span style=\"color: #008000; text-decoration-color: #008000\">'split'</span>: <span style=\"color: #008000; text-decoration-color: #008000\">'train'</span>\n",
       "<span style=\"font-weight: bold\">}</span>\n",
       "</pre>\n"
      ],
      "text/plain": [
       "\u001b[1m{\u001b[0m\n",
       "\u001b[2;32m│   \u001b[0m\u001b[32m'statement'\u001b[0m: \u001b[32m'I believe that eventually the world will, both legally and socially, turn against Muslims.'\u001b[0m,\n",
       "\u001b[2;32m│   \u001b[0m\u001b[32m'submission_id'\u001b[0m: \u001b[32m'4caaw8'\u001b[0m,\n",
       "\u001b[2;32m│   \u001b[0m\u001b[32m'penultimate_utterance'\u001b[0m: \u001b[1m{\u001b[0m\n",
       "\u001b[2;32m│   │   \u001b[0m\u001b[32m'id'\u001b[0m: \u001b[32m'd1go9ts'\u001b[0m,\n",
       "\u001b[2;32m│   │   \u001b[0m\u001b[32m'userid'\u001b[0m: \u001b[32m'halfar'\u001b[0m,\n",
       "\u001b[2;32m│   │   \u001b[0m\u001b[32m'text'\u001b[0m: \u001b[32m'you\\'re not even making a specific point, just kinda *hinting* at one, and why are you being so belligerent?\\n\\naddress the conversation from a vantage point of \"us vs. the issue\", not you vs. me. this isn\\'t a fucking gladiator arena. why would you even begin to care about \"winning\"?\\n\\noh, and be sure to tell me what the actual fucking argument you\\'re making is before you can proclaim that you\\'ve \"won\" anything. :/'\u001b[0m,\n",
       "\u001b[2;32m│   │   \u001b[0m\u001b[32m'timestamp'\u001b[0m: \u001b[1;36m1459191836\u001b[0m\n",
       "\u001b[2;32m│   \u001b[0m\u001b[1m}\u001b[0m,\n",
       "\u001b[2;32m│   \u001b[0m\u001b[32m'last_utterance'\u001b[0m: \u001b[1m{\u001b[0m\n",
       "\u001b[2;32m│   │   \u001b[0m\u001b[32m'id'\u001b[0m: \u001b[32m'd1gpf5y'\u001b[0m,\n",
       "\u001b[2;32m│   │   \u001b[0m\u001b[32m'userid'\u001b[0m: \u001b[32m'percussaresurgo'\u001b[0m,\n",
       "\u001b[2;32m│   │   \u001b[0m\u001b[32m'text'\u001b[0m: \u001b[32m\"Sorry you're lost. Try scrolling up.\"\u001b[0m,\n",
       "\u001b[2;32m│   │   \u001b[0m\u001b[32m'timestamp'\u001b[0m: \u001b[1;36m1459193323\u001b[0m\n",
       "\u001b[2;32m│   \u001b[0m\u001b[1m}\u001b[0m,\n",
       "\u001b[2;32m│   \u001b[0m\u001b[32m'split'\u001b[0m: \u001b[32m'train'\u001b[0m\n",
       "\u001b[1m}\u001b[0m\n"
      ]
     },
     "metadata": {},
     "output_type": "display_data"
    },
    {
     "name": "stdout",
     "output_type": "stream",
     "text": [
      "Sample 94:\n"
     ]
    },
    {
     "data": {
      "text/html": [
       "<pre style=\"white-space:pre;overflow-x:auto;line-height:normal;font-family:Menlo,'DejaVu Sans Mono',consolas,'Courier New',monospace\"><span style=\"font-weight: bold\">{</span>\n",
       "<span style=\"color: #7fbf7f; text-decoration-color: #7fbf7f\">│   </span><span style=\"color: #008000; text-decoration-color: #008000\">'statement'</span>: <span style=\"color: #008000; text-decoration-color: #008000\">'FDR is one of the worst presidents in history, and schools need to stop teaching him in a positive light.'</span>,\n",
       "<span style=\"color: #7fbf7f; text-decoration-color: #7fbf7f\">│   </span><span style=\"color: #008000; text-decoration-color: #008000\">'submission_id'</span>: <span style=\"color: #008000; text-decoration-color: #008000\">'4de62g'</span>,\n",
       "<span style=\"color: #7fbf7f; text-decoration-color: #7fbf7f\">│   </span><span style=\"color: #008000; text-decoration-color: #008000\">'penultimate_utterance'</span>: <span style=\"font-weight: bold\">{</span>\n",
       "<span style=\"color: #7fbf7f; text-decoration-color: #7fbf7f\">│   │   </span><span style=\"color: #008000; text-decoration-color: #008000\">'id'</span>: <span style=\"color: #008000; text-decoration-color: #008000\">'d1q9itg'</span>,\n",
       "<span style=\"color: #7fbf7f; text-decoration-color: #7fbf7f\">│   │   </span><span style=\"color: #008000; text-decoration-color: #008000\">'userid'</span>: <span style=\"color: #008000; text-decoration-color: #008000\">'LukeBabbit'</span>,\n",
       "<span style=\"color: #7fbf7f; text-decoration-color: #7fbf7f\">│   │   </span><span style=\"color: #008000; text-decoration-color: #008000\">'text'</span>: <span style=\"color: #008000; text-decoration-color: #008000\">'Ron Paul is the greatest man alive. '</span>,\n",
       "<span style=\"color: #7fbf7f; text-decoration-color: #7fbf7f\">│   │   </span><span style=\"color: #008000; text-decoration-color: #008000\">'timestamp'</span>: <span style=\"color: #008080; text-decoration-color: #008080; font-weight: bold\">1459826335</span>\n",
       "<span style=\"color: #7fbf7f; text-decoration-color: #7fbf7f\">│   </span><span style=\"font-weight: bold\">}</span>,\n",
       "<span style=\"color: #7fbf7f; text-decoration-color: #7fbf7f\">│   </span><span style=\"color: #008000; text-decoration-color: #008000\">'last_utterance'</span>: <span style=\"font-weight: bold\">{</span>\n",
       "<span style=\"color: #7fbf7f; text-decoration-color: #7fbf7f\">│   │   </span><span style=\"color: #008000; text-decoration-color: #008000\">'id'</span>: <span style=\"color: #008000; text-decoration-color: #008000\">'d1q9we2'</span>,\n",
       "<span style=\"color: #7fbf7f; text-decoration-color: #7fbf7f\">│   │   </span><span style=\"color: #008000; text-decoration-color: #008000\">'userid'</span>: <span style=\"color: #008000; text-decoration-color: #008000\">'forestfly1234'</span>,\n",
       "<span style=\"color: #7fbf7f; text-decoration-color: #7fbf7f\">│   │   </span><span style=\"color: #008000; text-decoration-color: #008000\">'text'</span>: <span style=\"color: #008000; text-decoration-color: #008000\">'Um no. \\n\\nhaha'</span>,\n",
       "<span style=\"color: #7fbf7f; text-decoration-color: #7fbf7f\">│   │   </span><span style=\"color: #008000; text-decoration-color: #008000\">'timestamp'</span>: <span style=\"color: #008080; text-decoration-color: #008080; font-weight: bold\">1459826926</span>\n",
       "<span style=\"color: #7fbf7f; text-decoration-color: #7fbf7f\">│   </span><span style=\"font-weight: bold\">}</span>,\n",
       "<span style=\"color: #7fbf7f; text-decoration-color: #7fbf7f\">│   </span><span style=\"color: #008000; text-decoration-color: #008000\">'split'</span>: <span style=\"color: #008000; text-decoration-color: #008000\">'train'</span>\n",
       "<span style=\"font-weight: bold\">}</span>\n",
       "</pre>\n"
      ],
      "text/plain": [
       "\u001b[1m{\u001b[0m\n",
       "\u001b[2;32m│   \u001b[0m\u001b[32m'statement'\u001b[0m: \u001b[32m'FDR is one of the worst presidents in history, and schools need to stop teaching him in a positive light.'\u001b[0m,\n",
       "\u001b[2;32m│   \u001b[0m\u001b[32m'submission_id'\u001b[0m: \u001b[32m'4de62g'\u001b[0m,\n",
       "\u001b[2;32m│   \u001b[0m\u001b[32m'penultimate_utterance'\u001b[0m: \u001b[1m{\u001b[0m\n",
       "\u001b[2;32m│   │   \u001b[0m\u001b[32m'id'\u001b[0m: \u001b[32m'd1q9itg'\u001b[0m,\n",
       "\u001b[2;32m│   │   \u001b[0m\u001b[32m'userid'\u001b[0m: \u001b[32m'LukeBabbit'\u001b[0m,\n",
       "\u001b[2;32m│   │   \u001b[0m\u001b[32m'text'\u001b[0m: \u001b[32m'Ron Paul is the greatest man alive. '\u001b[0m,\n",
       "\u001b[2;32m│   │   \u001b[0m\u001b[32m'timestamp'\u001b[0m: \u001b[1;36m1459826335\u001b[0m\n",
       "\u001b[2;32m│   \u001b[0m\u001b[1m}\u001b[0m,\n",
       "\u001b[2;32m│   \u001b[0m\u001b[32m'last_utterance'\u001b[0m: \u001b[1m{\u001b[0m\n",
       "\u001b[2;32m│   │   \u001b[0m\u001b[32m'id'\u001b[0m: \u001b[32m'd1q9we2'\u001b[0m,\n",
       "\u001b[2;32m│   │   \u001b[0m\u001b[32m'userid'\u001b[0m: \u001b[32m'forestfly1234'\u001b[0m,\n",
       "\u001b[2;32m│   │   \u001b[0m\u001b[32m'text'\u001b[0m: \u001b[32m'Um no. \\n\\nhaha'\u001b[0m,\n",
       "\u001b[2;32m│   │   \u001b[0m\u001b[32m'timestamp'\u001b[0m: \u001b[1;36m1459826926\u001b[0m\n",
       "\u001b[2;32m│   \u001b[0m\u001b[1m}\u001b[0m,\n",
       "\u001b[2;32m│   \u001b[0m\u001b[32m'split'\u001b[0m: \u001b[32m'train'\u001b[0m\n",
       "\u001b[1m}\u001b[0m\n"
      ]
     },
     "metadata": {},
     "output_type": "display_data"
    },
    {
     "name": "stdout",
     "output_type": "stream",
     "text": [
      "Sample 95:\n"
     ]
    },
    {
     "data": {
      "text/html": [
       "<pre style=\"white-space:pre;overflow-x:auto;line-height:normal;font-family:Menlo,'DejaVu Sans Mono',consolas,'Courier New',monospace\"><span style=\"font-weight: bold\">{</span>\n",
       "<span style=\"color: #7fbf7f; text-decoration-color: #7fbf7f\">│   </span><span style=\"color: #008000; text-decoration-color: #008000\">'statement'</span>: <span style=\"color: #008000; text-decoration-color: #008000\">'I think the majority of modern \"social justice\" topics are fictional and/or over exaggerated'</span>,\n",
       "<span style=\"color: #7fbf7f; text-decoration-color: #7fbf7f\">│   </span><span style=\"color: #008000; text-decoration-color: #008000\">'submission_id'</span>: <span style=\"color: #008000; text-decoration-color: #008000\">'4dlalt'</span>,\n",
       "<span style=\"color: #7fbf7f; text-decoration-color: #7fbf7f\">│   </span><span style=\"color: #008000; text-decoration-color: #008000\">'penultimate_utterance'</span>: <span style=\"font-weight: bold\">{</span>\n",
       "<span style=\"color: #7fbf7f; text-decoration-color: #7fbf7f\">│   │   </span><span style=\"color: #008000; text-decoration-color: #008000\">'id'</span>: <span style=\"color: #008000; text-decoration-color: #008000\">'d1s7g3t'</span>,\n",
       "<span style=\"color: #7fbf7f; text-decoration-color: #7fbf7f\">│   │   </span><span style=\"color: #008000; text-decoration-color: #008000\">'userid'</span>: <span style=\"color: #008000; text-decoration-color: #008000\">'geminia999'</span>,\n",
       "<span style=\"color: #7fbf7f; text-decoration-color: #7fbf7f\">│   │   </span><span style=\"color: #008000; text-decoration-color: #008000\">'text'</span>: <span style=\"color: #008000; text-decoration-color: #008000\">\"I really don't get this attitude that to create social change we have to ignore society that doesn't listen. Isn't the point to change society, shouldn't you want people to listen and change their views? How is appearing antagonistic to the people who you want to change their ways going to make them want to change their ways?\\n\\nSo sorry, I don't see people actually desiring to make change if they can't even change their own approach because they are stuck in their ways.\"</span>,\n",
       "<span style=\"color: #7fbf7f; text-decoration-color: #7fbf7f\">│   │   </span><span style=\"color: #008000; text-decoration-color: #008000\">'timestamp'</span>: <span style=\"color: #008080; text-decoration-color: #008080; font-weight: bold\">1459956305</span>\n",
       "<span style=\"color: #7fbf7f; text-decoration-color: #7fbf7f\">│   </span><span style=\"font-weight: bold\">}</span>,\n",
       "<span style=\"color: #7fbf7f; text-decoration-color: #7fbf7f\">│   </span><span style=\"color: #008000; text-decoration-color: #008000\">'last_utterance'</span>: <span style=\"font-weight: bold\">{</span>\n",
       "<span style=\"color: #7fbf7f; text-decoration-color: #7fbf7f\">│   │   </span><span style=\"color: #008000; text-decoration-color: #008000\">'id'</span>: <span style=\"color: #008000; text-decoration-color: #008000\">'d1s8hof'</span>,\n",
       "<span style=\"color: #7fbf7f; text-decoration-color: #7fbf7f\">│   │   </span><span style=\"color: #008000; text-decoration-color: #008000\">'userid'</span>: <span style=\"color: #008000; text-decoration-color: #008000\">'curiiouscat'</span>,\n",
       "<span style=\"color: #7fbf7f; text-decoration-color: #7fbf7f\">│   │   </span><span style=\"color: #008000; text-decoration-color: #008000\">'text'</span>: <span style=\"color: #008000; text-decoration-color: #008000\">'If a child I\\'m babysitting is crying about not getting attention, I\\'m not going to give the child attention. Yes, short term it will stop the crying. But long term it does nothing to solve the problem. \\n\\nThere is nothing unique about the distaste for the term \"privilege\". There is nothing unique about the classification as feminists as lonely, bitter women. These issues have plagued all social change, and will continue to do so. They\\'re not worth my time because they\\'re a distraction technique. '</span>,\n",
       "<span style=\"color: #7fbf7f; text-decoration-color: #7fbf7f\">│   │   </span><span style=\"color: #008000; text-decoration-color: #008000\">'timestamp'</span>: <span style=\"color: #008080; text-decoration-color: #008080; font-weight: bold\">1459957648</span>\n",
       "<span style=\"color: #7fbf7f; text-decoration-color: #7fbf7f\">│   </span><span style=\"font-weight: bold\">}</span>,\n",
       "<span style=\"color: #7fbf7f; text-decoration-color: #7fbf7f\">│   </span><span style=\"color: #008000; text-decoration-color: #008000\">'split'</span>: <span style=\"color: #008000; text-decoration-color: #008000\">'train'</span>\n",
       "<span style=\"font-weight: bold\">}</span>\n",
       "</pre>\n"
      ],
      "text/plain": [
       "\u001b[1m{\u001b[0m\n",
       "\u001b[2;32m│   \u001b[0m\u001b[32m'statement'\u001b[0m: \u001b[32m'I think the majority of modern \"social justice\" topics are fictional and/or over exaggerated'\u001b[0m,\n",
       "\u001b[2;32m│   \u001b[0m\u001b[32m'submission_id'\u001b[0m: \u001b[32m'4dlalt'\u001b[0m,\n",
       "\u001b[2;32m│   \u001b[0m\u001b[32m'penultimate_utterance'\u001b[0m: \u001b[1m{\u001b[0m\n",
       "\u001b[2;32m│   │   \u001b[0m\u001b[32m'id'\u001b[0m: \u001b[32m'd1s7g3t'\u001b[0m,\n",
       "\u001b[2;32m│   │   \u001b[0m\u001b[32m'userid'\u001b[0m: \u001b[32m'geminia999'\u001b[0m,\n",
       "\u001b[2;32m│   │   \u001b[0m\u001b[32m'text'\u001b[0m: \u001b[32m\"I really don't get this attitude that to create social change we have to ignore society that doesn't listen. Isn't the point to change society, shouldn't you want people to listen and change their views? How is appearing antagonistic to the people who you want to change their ways going to make them want to change their ways?\\n\\nSo sorry, I don't see people actually desiring to make change if they can't even change their own approach because they are stuck in their ways.\"\u001b[0m,\n",
       "\u001b[2;32m│   │   \u001b[0m\u001b[32m'timestamp'\u001b[0m: \u001b[1;36m1459956305\u001b[0m\n",
       "\u001b[2;32m│   \u001b[0m\u001b[1m}\u001b[0m,\n",
       "\u001b[2;32m│   \u001b[0m\u001b[32m'last_utterance'\u001b[0m: \u001b[1m{\u001b[0m\n",
       "\u001b[2;32m│   │   \u001b[0m\u001b[32m'id'\u001b[0m: \u001b[32m'd1s8hof'\u001b[0m,\n",
       "\u001b[2;32m│   │   \u001b[0m\u001b[32m'userid'\u001b[0m: \u001b[32m'curiiouscat'\u001b[0m,\n",
       "\u001b[2;32m│   │   \u001b[0m\u001b[32m'text'\u001b[0m: \u001b[32m'If a child I\\'m babysitting is crying about not getting attention, I\\'m not going to give the child attention. Yes, short term it will stop the crying. But long term it does nothing to solve the problem. \\n\\nThere is nothing unique about the distaste for the term \"privilege\". There is nothing unique about the classification as feminists as lonely, bitter women. These issues have plagued all social change, and will continue to do so. They\\'re not worth my time because they\\'re a distraction technique. '\u001b[0m,\n",
       "\u001b[2;32m│   │   \u001b[0m\u001b[32m'timestamp'\u001b[0m: \u001b[1;36m1459957648\u001b[0m\n",
       "\u001b[2;32m│   \u001b[0m\u001b[1m}\u001b[0m,\n",
       "\u001b[2;32m│   \u001b[0m\u001b[32m'split'\u001b[0m: \u001b[32m'train'\u001b[0m\n",
       "\u001b[1m}\u001b[0m\n"
      ]
     },
     "metadata": {},
     "output_type": "display_data"
    },
    {
     "name": "stdout",
     "output_type": "stream",
     "text": [
      "Sample 96:\n"
     ]
    },
    {
     "data": {
      "text/html": [
       "<pre style=\"white-space:pre;overflow-x:auto;line-height:normal;font-family:Menlo,'DejaVu Sans Mono',consolas,'Courier New',monospace\"><span style=\"font-weight: bold\">{</span>\n",
       "<span style=\"color: #7fbf7f; text-decoration-color: #7fbf7f\">│   </span><span style=\"color: #008000; text-decoration-color: #008000\">'statement'</span>: <span style=\"color: #008000; text-decoration-color: #008000\">'I think the majority of modern \"social justice\" topics are fictional and/or over exaggerated'</span>,\n",
       "<span style=\"color: #7fbf7f; text-decoration-color: #7fbf7f\">│   </span><span style=\"color: #008000; text-decoration-color: #008000\">'submission_id'</span>: <span style=\"color: #008000; text-decoration-color: #008000\">'4dlalt'</span>,\n",
       "<span style=\"color: #7fbf7f; text-decoration-color: #7fbf7f\">│   </span><span style=\"color: #008000; text-decoration-color: #008000\">'penultimate_utterance'</span>: <span style=\"font-weight: bold\">{</span>\n",
       "<span style=\"color: #7fbf7f; text-decoration-color: #7fbf7f\">│   │   </span><span style=\"color: #008000; text-decoration-color: #008000\">'id'</span>: <span style=\"color: #008000; text-decoration-color: #008000\">'d1tcehv'</span>,\n",
       "<span style=\"color: #7fbf7f; text-decoration-color: #7fbf7f\">│   │   </span><span style=\"color: #008000; text-decoration-color: #008000\">'userid'</span>: <span style=\"color: #008000; text-decoration-color: #008000\">'zahlman'</span>,\n",
       "<span style=\"color: #7fbf7f; text-decoration-color: #7fbf7f\">│   │   </span><span style=\"color: #008000; text-decoration-color: #008000\">'text'</span>: <span style=\"color: #008000; text-decoration-color: #008000\">\"&gt;  It's a fucking philosophy class. You're supposed to try to be thinking about a variety of things in a variety of ways, not agree with everything.\\n\\nIn theory. In practice, it sounds as though the prof in question is prescribing a viewpoint that students are expected to walk away with.\"</span>,\n",
       "<span style=\"color: #7fbf7f; text-decoration-color: #7fbf7f\">│   │   </span><span style=\"color: #008000; text-decoration-color: #008000\">'timestamp'</span>: <span style=\"color: #008080; text-decoration-color: #008080; font-weight: bold\">1460023689</span>\n",
       "<span style=\"color: #7fbf7f; text-decoration-color: #7fbf7f\">│   </span><span style=\"font-weight: bold\">}</span>,\n",
       "<span style=\"color: #7fbf7f; text-decoration-color: #7fbf7f\">│   </span><span style=\"color: #008000; text-decoration-color: #008000\">'last_utterance'</span>: <span style=\"font-weight: bold\">{</span>\n",
       "<span style=\"color: #7fbf7f; text-decoration-color: #7fbf7f\">│   │   </span><span style=\"color: #008000; text-decoration-color: #008000\">'id'</span>: <span style=\"color: #008000; text-decoration-color: #008000\">'d1tcydq'</span>,\n",
       "<span style=\"color: #7fbf7f; text-decoration-color: #7fbf7f\">│   │   </span><span style=\"color: #008000; text-decoration-color: #008000\">'userid'</span>: <span style=\"color: #008000; text-decoration-color: #008000\">'Pastignon'</span>,\n",
       "<span style=\"color: #7fbf7f; text-decoration-color: #7fbf7f\">│   │   </span><span style=\"color: #008000; text-decoration-color: #008000\">'text'</span>: <span style=\"color: #008000; text-decoration-color: #008000\">\"&gt;  it sounds as \\n\\nYou mean according to the guy who believes these issues are overblown in society, makes a CMV against social justice and cites workshops on rape culture as examples of SJWs gone crazy ?\\n\\nNo, wait, even according to this guy,\\n\\n&gt;  my professor **mentioned the idea** that\\n\\nSo no, it doesn't sound like the professor is prescribing a point of view.\"</span>,\n",
       "<span style=\"color: #7fbf7f; text-decoration-color: #7fbf7f\">│   │   </span><span style=\"color: #008000; text-decoration-color: #008000\">'timestamp'</span>: <span style=\"color: #008080; text-decoration-color: #008080; font-weight: bold\">1460025632</span>\n",
       "<span style=\"color: #7fbf7f; text-decoration-color: #7fbf7f\">│   </span><span style=\"font-weight: bold\">}</span>,\n",
       "<span style=\"color: #7fbf7f; text-decoration-color: #7fbf7f\">│   </span><span style=\"color: #008000; text-decoration-color: #008000\">'split'</span>: <span style=\"color: #008000; text-decoration-color: #008000\">'train'</span>\n",
       "<span style=\"font-weight: bold\">}</span>\n",
       "</pre>\n"
      ],
      "text/plain": [
       "\u001b[1m{\u001b[0m\n",
       "\u001b[2;32m│   \u001b[0m\u001b[32m'statement'\u001b[0m: \u001b[32m'I think the majority of modern \"social justice\" topics are fictional and/or over exaggerated'\u001b[0m,\n",
       "\u001b[2;32m│   \u001b[0m\u001b[32m'submission_id'\u001b[0m: \u001b[32m'4dlalt'\u001b[0m,\n",
       "\u001b[2;32m│   \u001b[0m\u001b[32m'penultimate_utterance'\u001b[0m: \u001b[1m{\u001b[0m\n",
       "\u001b[2;32m│   │   \u001b[0m\u001b[32m'id'\u001b[0m: \u001b[32m'd1tcehv'\u001b[0m,\n",
       "\u001b[2;32m│   │   \u001b[0m\u001b[32m'userid'\u001b[0m: \u001b[32m'zahlman'\u001b[0m,\n",
       "\u001b[2;32m│   │   \u001b[0m\u001b[32m'text'\u001b[0m: \u001b[32m\">  It's a fucking philosophy class. You're supposed to try to be thinking about a variety of things in a variety of ways, not agree with everything.\\n\\nIn theory. In practice, it sounds as though the prof in question is prescribing a viewpoint that students are expected to walk away with.\"\u001b[0m,\n",
       "\u001b[2;32m│   │   \u001b[0m\u001b[32m'timestamp'\u001b[0m: \u001b[1;36m1460023689\u001b[0m\n",
       "\u001b[2;32m│   \u001b[0m\u001b[1m}\u001b[0m,\n",
       "\u001b[2;32m│   \u001b[0m\u001b[32m'last_utterance'\u001b[0m: \u001b[1m{\u001b[0m\n",
       "\u001b[2;32m│   │   \u001b[0m\u001b[32m'id'\u001b[0m: \u001b[32m'd1tcydq'\u001b[0m,\n",
       "\u001b[2;32m│   │   \u001b[0m\u001b[32m'userid'\u001b[0m: \u001b[32m'Pastignon'\u001b[0m,\n",
       "\u001b[2;32m│   │   \u001b[0m\u001b[32m'text'\u001b[0m: \u001b[32m\">  it sounds as \\n\\nYou mean according to the guy who believes these issues are overblown in society, makes a CMV against social justice and cites workshops on rape culture as examples of SJWs gone crazy ?\\n\\nNo, wait, even according to this guy,\\n\\n>  my professor **mentioned the idea** that\\n\\nSo no, it doesn't sound like the professor is prescribing a point of view.\"\u001b[0m,\n",
       "\u001b[2;32m│   │   \u001b[0m\u001b[32m'timestamp'\u001b[0m: \u001b[1;36m1460025632\u001b[0m\n",
       "\u001b[2;32m│   \u001b[0m\u001b[1m}\u001b[0m,\n",
       "\u001b[2;32m│   \u001b[0m\u001b[32m'split'\u001b[0m: \u001b[32m'train'\u001b[0m\n",
       "\u001b[1m}\u001b[0m\n"
      ]
     },
     "metadata": {},
     "output_type": "display_data"
    },
    {
     "name": "stdout",
     "output_type": "stream",
     "text": [
      "Sample 97:\n"
     ]
    },
    {
     "data": {
      "text/html": [
       "<pre style=\"white-space:pre;overflow-x:auto;line-height:normal;font-family:Menlo,'DejaVu Sans Mono',consolas,'Courier New',monospace\"><span style=\"font-weight: bold\">{</span>\n",
       "<span style=\"color: #7fbf7f; text-decoration-color: #7fbf7f\">│   </span><span style=\"color: #008000; text-decoration-color: #008000\">'statement'</span>: <span style=\"color: #008000; text-decoration-color: #008000\">\"Genderqueer is not a real sexual identity, it's a fashion trend like goth or hippie\"</span>,\n",
       "<span style=\"color: #7fbf7f; text-decoration-color: #7fbf7f\">│   </span><span style=\"color: #008000; text-decoration-color: #008000\">'submission_id'</span>: <span style=\"color: #008000; text-decoration-color: #008000\">'4drn4l'</span>,\n",
       "<span style=\"color: #7fbf7f; text-decoration-color: #7fbf7f\">│   </span><span style=\"color: #008000; text-decoration-color: #008000\">'penultimate_utterance'</span>: <span style=\"font-weight: bold\">{</span>\n",
       "<span style=\"color: #7fbf7f; text-decoration-color: #7fbf7f\">│   │   </span><span style=\"color: #008000; text-decoration-color: #008000\">'id'</span>: <span style=\"color: #008000; text-decoration-color: #008000\">'d1vamyz'</span>,\n",
       "<span style=\"color: #7fbf7f; text-decoration-color: #7fbf7f\">│   │   </span><span style=\"color: #008000; text-decoration-color: #008000\">'userid'</span>: <span style=\"color: #008000; text-decoration-color: #008000\">'sunset261'</span>,\n",
       "<span style=\"color: #7fbf7f; text-decoration-color: #7fbf7f\">│   │   </span><span style=\"color: #008000; text-decoration-color: #008000\">'text'</span>: <span style=\"color: #008000; text-decoration-color: #008000\">\"&gt; I feel like you're getting gender and sex confused. \\n\\nI'm not. they mean the same thing.\\n\\n&gt; Gender is a social construct based around physical sex.\\n\\nnope, that's gender ROLES. But plenty of people of either gender don't conform to traditional gender roles and yet are still that gender. If being a man or a woman is not based on biology then the terms are fundamentally meaningless.\"</span>,\n",
       "<span style=\"color: #7fbf7f; text-decoration-color: #7fbf7f\">│   │   </span><span style=\"color: #008000; text-decoration-color: #008000\">'timestamp'</span>: <span style=\"color: #008080; text-decoration-color: #008080; font-weight: bold\">1460142724</span>\n",
       "<span style=\"color: #7fbf7f; text-decoration-color: #7fbf7f\">│   </span><span style=\"font-weight: bold\">}</span>,\n",
       "<span style=\"color: #7fbf7f; text-decoration-color: #7fbf7f\">│   </span><span style=\"color: #008000; text-decoration-color: #008000\">'last_utterance'</span>: <span style=\"font-weight: bold\">{</span>\n",
       "<span style=\"color: #7fbf7f; text-decoration-color: #7fbf7f\">│   │   </span><span style=\"color: #008000; text-decoration-color: #008000\">'id'</span>: <span style=\"color: #008000; text-decoration-color: #008000\">'d1vavw4'</span>,\n",
       "<span style=\"color: #7fbf7f; text-decoration-color: #7fbf7f\">│   │   </span><span style=\"color: #008000; text-decoration-color: #008000\">'userid'</span>: <span style=\"color: #008000; text-decoration-color: #008000\">'ghostofmybrain'</span>,\n",
       "<span style=\"color: #7fbf7f; text-decoration-color: #7fbf7f\">│   │   </span><span style=\"color: #008000; text-decoration-color: #008000\">'text'</span>: <span style=\"color: #008000; text-decoration-color: #008000\">\"&gt; I'm not. they mean the same thing.\\n\\nOh well there's your problem them. They're not the same thing at all. Wikipedia certainly isn't the only source you should look at, but it would be a good start. \\n\"</span>,\n",
       "<span style=\"color: #7fbf7f; text-decoration-color: #7fbf7f\">│   │   </span><span style=\"color: #008000; text-decoration-color: #008000\">'timestamp'</span>: <span style=\"color: #008080; text-decoration-color: #008080; font-weight: bold\">1460143049</span>\n",
       "<span style=\"color: #7fbf7f; text-decoration-color: #7fbf7f\">│   </span><span style=\"font-weight: bold\">}</span>,\n",
       "<span style=\"color: #7fbf7f; text-decoration-color: #7fbf7f\">│   </span><span style=\"color: #008000; text-decoration-color: #008000\">'split'</span>: <span style=\"color: #008000; text-decoration-color: #008000\">'train'</span>\n",
       "<span style=\"font-weight: bold\">}</span>\n",
       "</pre>\n"
      ],
      "text/plain": [
       "\u001b[1m{\u001b[0m\n",
       "\u001b[2;32m│   \u001b[0m\u001b[32m'statement'\u001b[0m: \u001b[32m\"Genderqueer is not a real sexual identity, it's a fashion trend like goth or hippie\"\u001b[0m,\n",
       "\u001b[2;32m│   \u001b[0m\u001b[32m'submission_id'\u001b[0m: \u001b[32m'4drn4l'\u001b[0m,\n",
       "\u001b[2;32m│   \u001b[0m\u001b[32m'penultimate_utterance'\u001b[0m: \u001b[1m{\u001b[0m\n",
       "\u001b[2;32m│   │   \u001b[0m\u001b[32m'id'\u001b[0m: \u001b[32m'd1vamyz'\u001b[0m,\n",
       "\u001b[2;32m│   │   \u001b[0m\u001b[32m'userid'\u001b[0m: \u001b[32m'sunset261'\u001b[0m,\n",
       "\u001b[2;32m│   │   \u001b[0m\u001b[32m'text'\u001b[0m: \u001b[32m\"> I feel like you're getting gender and sex confused. \\n\\nI'm not. they mean the same thing.\\n\\n> Gender is a social construct based around physical sex.\\n\\nnope, that's gender ROLES. But plenty of people of either gender don't conform to traditional gender roles and yet are still that gender. If being a man or a woman is not based on biology then the terms are fundamentally meaningless.\"\u001b[0m,\n",
       "\u001b[2;32m│   │   \u001b[0m\u001b[32m'timestamp'\u001b[0m: \u001b[1;36m1460142724\u001b[0m\n",
       "\u001b[2;32m│   \u001b[0m\u001b[1m}\u001b[0m,\n",
       "\u001b[2;32m│   \u001b[0m\u001b[32m'last_utterance'\u001b[0m: \u001b[1m{\u001b[0m\n",
       "\u001b[2;32m│   │   \u001b[0m\u001b[32m'id'\u001b[0m: \u001b[32m'd1vavw4'\u001b[0m,\n",
       "\u001b[2;32m│   │   \u001b[0m\u001b[32m'userid'\u001b[0m: \u001b[32m'ghostofmybrain'\u001b[0m,\n",
       "\u001b[2;32m│   │   \u001b[0m\u001b[32m'text'\u001b[0m: \u001b[32m\"> I'm not. they mean the same thing.\\n\\nOh well there's your problem them. They're not the same thing at all. Wikipedia certainly isn't the only source you should look at, but it would be a good start. \\n\"\u001b[0m,\n",
       "\u001b[2;32m│   │   \u001b[0m\u001b[32m'timestamp'\u001b[0m: \u001b[1;36m1460143049\u001b[0m\n",
       "\u001b[2;32m│   \u001b[0m\u001b[1m}\u001b[0m,\n",
       "\u001b[2;32m│   \u001b[0m\u001b[32m'split'\u001b[0m: \u001b[32m'train'\u001b[0m\n",
       "\u001b[1m}\u001b[0m\n"
      ]
     },
     "metadata": {},
     "output_type": "display_data"
    },
    {
     "name": "stdout",
     "output_type": "stream",
     "text": [
      "Sample 98:\n"
     ]
    },
    {
     "data": {
      "text/html": [
       "<pre style=\"white-space:pre;overflow-x:auto;line-height:normal;font-family:Menlo,'DejaVu Sans Mono',consolas,'Courier New',monospace\"><span style=\"font-weight: bold\">{</span>\n",
       "<span style=\"color: #7fbf7f; text-decoration-color: #7fbf7f\">│   </span><span style=\"color: #008000; text-decoration-color: #008000\">'statement'</span>: <span style=\"color: #008000; text-decoration-color: #008000\">\"the Alt-right (or new right) is to conservatism what SJWs are to the left, but the Alt-right isn't discussed nearly enough\"</span>,\n",
       "<span style=\"color: #7fbf7f; text-decoration-color: #7fbf7f\">│   </span><span style=\"color: #008000; text-decoration-color: #008000\">'submission_id'</span>: <span style=\"color: #008000; text-decoration-color: #008000\">'4dvuje'</span>,\n",
       "<span style=\"color: #7fbf7f; text-decoration-color: #7fbf7f\">│   </span><span style=\"color: #008000; text-decoration-color: #008000\">'penultimate_utterance'</span>: <span style=\"font-weight: bold\">{</span>\n",
       "<span style=\"color: #7fbf7f; text-decoration-color: #7fbf7f\">│   │   </span><span style=\"color: #008000; text-decoration-color: #008000\">'id'</span>: <span style=\"color: #008000; text-decoration-color: #008000\">'d1vpuxv'</span>,\n",
       "<span style=\"color: #7fbf7f; text-decoration-color: #7fbf7f\">│   │   </span><span style=\"color: #008000; text-decoration-color: #008000\">'userid'</span>: <span style=\"color: #008000; text-decoration-color: #008000\">'PM_ME_A_FACT'</span>,\n",
       "<span style=\"color: #7fbf7f; text-decoration-color: #7fbf7f\">│   │   </span><span style=\"color: #008000; text-decoration-color: #008000\">'text'</span>: <span style=\"color: #008000; text-decoration-color: #008000\">'And there are tens of thousands of colleges world wide.'</span>,\n",
       "<span style=\"color: #7fbf7f; text-decoration-color: #7fbf7f\">│   │   </span><span style=\"color: #008000; text-decoration-color: #008000\">'timestamp'</span>: <span style=\"color: #008080; text-decoration-color: #008080; font-weight: bold\">1460166627</span>\n",
       "<span style=\"color: #7fbf7f; text-decoration-color: #7fbf7f\">│   </span><span style=\"font-weight: bold\">}</span>,\n",
       "<span style=\"color: #7fbf7f; text-decoration-color: #7fbf7f\">│   </span><span style=\"color: #008000; text-decoration-color: #008000\">'last_utterance'</span>: <span style=\"font-weight: bold\">{</span>\n",
       "<span style=\"color: #7fbf7f; text-decoration-color: #7fbf7f\">│   │   </span><span style=\"color: #008000; text-decoration-color: #008000\">'id'</span>: <span style=\"color: #008000; text-decoration-color: #008000\">'d1vpyne'</span>,\n",
       "<span style=\"color: #7fbf7f; text-decoration-color: #7fbf7f\">│   │   </span><span style=\"color: #008000; text-decoration-color: #008000\">'userid'</span>: <span style=\"color: #008000; text-decoration-color: #008000\">'BrawndoTTM'</span>,\n",
       "<span style=\"color: #7fbf7f; text-decoration-color: #7fbf7f\">│   │   </span><span style=\"color: #008000; text-decoration-color: #008000\">'text'</span>: <span style=\"color: #008000; text-decoration-color: #008000\">'And there are hundreds of thousands of these instances. Every single one directed against the right.'</span>,\n",
       "<span style=\"color: #7fbf7f; text-decoration-color: #7fbf7f\">│   │   </span><span style=\"color: #008000; text-decoration-color: #008000\">'timestamp'</span>: <span style=\"color: #008080; text-decoration-color: #008080; font-weight: bold\">1460166819</span>\n",
       "<span style=\"color: #7fbf7f; text-decoration-color: #7fbf7f\">│   </span><span style=\"font-weight: bold\">}</span>,\n",
       "<span style=\"color: #7fbf7f; text-decoration-color: #7fbf7f\">│   </span><span style=\"color: #008000; text-decoration-color: #008000\">'split'</span>: <span style=\"color: #008000; text-decoration-color: #008000\">'train'</span>\n",
       "<span style=\"font-weight: bold\">}</span>\n",
       "</pre>\n"
      ],
      "text/plain": [
       "\u001b[1m{\u001b[0m\n",
       "\u001b[2;32m│   \u001b[0m\u001b[32m'statement'\u001b[0m: \u001b[32m\"the Alt-right \u001b[0m\u001b[32m(\u001b[0m\u001b[32mor new right\u001b[0m\u001b[32m)\u001b[0m\u001b[32m is to conservatism what SJWs are to the left, but the Alt-right isn't discussed nearly enough\"\u001b[0m,\n",
       "\u001b[2;32m│   \u001b[0m\u001b[32m'submission_id'\u001b[0m: \u001b[32m'4dvuje'\u001b[0m,\n",
       "\u001b[2;32m│   \u001b[0m\u001b[32m'penultimate_utterance'\u001b[0m: \u001b[1m{\u001b[0m\n",
       "\u001b[2;32m│   │   \u001b[0m\u001b[32m'id'\u001b[0m: \u001b[32m'd1vpuxv'\u001b[0m,\n",
       "\u001b[2;32m│   │   \u001b[0m\u001b[32m'userid'\u001b[0m: \u001b[32m'PM_ME_A_FACT'\u001b[0m,\n",
       "\u001b[2;32m│   │   \u001b[0m\u001b[32m'text'\u001b[0m: \u001b[32m'And there are tens of thousands of colleges world wide.'\u001b[0m,\n",
       "\u001b[2;32m│   │   \u001b[0m\u001b[32m'timestamp'\u001b[0m: \u001b[1;36m1460166627\u001b[0m\n",
       "\u001b[2;32m│   \u001b[0m\u001b[1m}\u001b[0m,\n",
       "\u001b[2;32m│   \u001b[0m\u001b[32m'last_utterance'\u001b[0m: \u001b[1m{\u001b[0m\n",
       "\u001b[2;32m│   │   \u001b[0m\u001b[32m'id'\u001b[0m: \u001b[32m'd1vpyne'\u001b[0m,\n",
       "\u001b[2;32m│   │   \u001b[0m\u001b[32m'userid'\u001b[0m: \u001b[32m'BrawndoTTM'\u001b[0m,\n",
       "\u001b[2;32m│   │   \u001b[0m\u001b[32m'text'\u001b[0m: \u001b[32m'And there are hundreds of thousands of these instances. Every single one directed against the right.'\u001b[0m,\n",
       "\u001b[2;32m│   │   \u001b[0m\u001b[32m'timestamp'\u001b[0m: \u001b[1;36m1460166819\u001b[0m\n",
       "\u001b[2;32m│   \u001b[0m\u001b[1m}\u001b[0m,\n",
       "\u001b[2;32m│   \u001b[0m\u001b[32m'split'\u001b[0m: \u001b[32m'train'\u001b[0m\n",
       "\u001b[1m}\u001b[0m\n"
      ]
     },
     "metadata": {},
     "output_type": "display_data"
    },
    {
     "name": "stdout",
     "output_type": "stream",
     "text": [
      "Sample 99:\n"
     ]
    },
    {
     "data": {
      "text/html": [
       "<pre style=\"white-space:pre;overflow-x:auto;line-height:normal;font-family:Menlo,'DejaVu Sans Mono',consolas,'Courier New',monospace\"><span style=\"font-weight: bold\">{</span>\n",
       "<span style=\"color: #7fbf7f; text-decoration-color: #7fbf7f\">│   </span><span style=\"color: #008000; text-decoration-color: #008000\">'statement'</span>: <span style=\"color: #008000; text-decoration-color: #008000\">\"fiscal punishment for misdemeanors (especially traffic violations) doesn't correct the behavior of the offendor.\"</span>,\n",
       "<span style=\"color: #7fbf7f; text-decoration-color: #7fbf7f\">│   </span><span style=\"color: #008000; text-decoration-color: #008000\">'submission_id'</span>: <span style=\"color: #008000; text-decoration-color: #008000\">'4e1g79'</span>,\n",
       "<span style=\"color: #7fbf7f; text-decoration-color: #7fbf7f\">│   </span><span style=\"color: #008000; text-decoration-color: #008000\">'penultimate_utterance'</span>: <span style=\"font-weight: bold\">{</span>\n",
       "<span style=\"color: #7fbf7f; text-decoration-color: #7fbf7f\">│   │   </span><span style=\"color: #008000; text-decoration-color: #008000\">'id'</span>: <span style=\"color: #008000; text-decoration-color: #008000\">'d1w7kpo'</span>,\n",
       "<span style=\"color: #7fbf7f; text-decoration-color: #7fbf7f\">│   │   </span><span style=\"color: #008000; text-decoration-color: #008000\">'userid'</span>: <span style=\"color: #008000; text-decoration-color: #008000\">'law-talkin-guy'</span>,\n",
       "<span style=\"color: #7fbf7f; text-decoration-color: #7fbf7f\">│   │   </span><span style=\"color: #008000; text-decoration-color: #008000\">'text'</span>: <span style=\"color: #008000; text-decoration-color: #008000\">\"&gt;   This whole post is a mess. \\n\\nCouldn't agree more.\"</span>,\n",
       "<span style=\"color: #7fbf7f; text-decoration-color: #7fbf7f\">│   │   </span><span style=\"color: #008000; text-decoration-color: #008000\">'timestamp'</span>: <span style=\"color: #008080; text-decoration-color: #008080; font-weight: bold\">1460215741</span>\n",
       "<span style=\"color: #7fbf7f; text-decoration-color: #7fbf7f\">│   </span><span style=\"font-weight: bold\">}</span>,\n",
       "<span style=\"color: #7fbf7f; text-decoration-color: #7fbf7f\">│   </span><span style=\"color: #008000; text-decoration-color: #008000\">'last_utterance'</span>: <span style=\"font-weight: bold\">{</span>\n",
       "<span style=\"color: #7fbf7f; text-decoration-color: #7fbf7f\">│   │   </span><span style=\"color: #008000; text-decoration-color: #008000\">'id'</span>: <span style=\"color: #008000; text-decoration-color: #008000\">'d1w7n5q'</span>,\n",
       "<span style=\"color: #7fbf7f; text-decoration-color: #7fbf7f\">│   │   </span><span style=\"color: #008000; text-decoration-color: #008000\">'userid'</span>: <span style=\"color: #008000; text-decoration-color: #008000\">'AmiriteClyde'</span>,\n",
       "<span style=\"color: #7fbf7f; text-decoration-color: #7fbf7f\">│   │   </span><span style=\"color: #008000; text-decoration-color: #008000\">'text'</span>: <span style=\"color: #008000; text-decoration-color: #008000\">\"Be constructive man... +1-ing yourself all day from internet strangers doesn't contribute to anything.\"</span>,\n",
       "<span style=\"color: #7fbf7f; text-decoration-color: #7fbf7f\">│   │   </span><span style=\"color: #008000; text-decoration-color: #008000\">'timestamp'</span>: <span style=\"color: #008080; text-decoration-color: #008080; font-weight: bold\">1460215867</span>\n",
       "<span style=\"color: #7fbf7f; text-decoration-color: #7fbf7f\">│   </span><span style=\"font-weight: bold\">}</span>,\n",
       "<span style=\"color: #7fbf7f; text-decoration-color: #7fbf7f\">│   </span><span style=\"color: #008000; text-decoration-color: #008000\">'split'</span>: <span style=\"color: #008000; text-decoration-color: #008000\">'train'</span>\n",
       "<span style=\"font-weight: bold\">}</span>\n",
       "</pre>\n"
      ],
      "text/plain": [
       "\u001b[1m{\u001b[0m\n",
       "\u001b[2;32m│   \u001b[0m\u001b[32m'statement'\u001b[0m: \u001b[32m\"fiscal punishment for misdemeanors \u001b[0m\u001b[32m(\u001b[0m\u001b[32mespecially traffic violations\u001b[0m\u001b[32m)\u001b[0m\u001b[32m doesn't correct the behavior of the offendor.\"\u001b[0m,\n",
       "\u001b[2;32m│   \u001b[0m\u001b[32m'submission_id'\u001b[0m: \u001b[32m'4e1g79'\u001b[0m,\n",
       "\u001b[2;32m│   \u001b[0m\u001b[32m'penultimate_utterance'\u001b[0m: \u001b[1m{\u001b[0m\n",
       "\u001b[2;32m│   │   \u001b[0m\u001b[32m'id'\u001b[0m: \u001b[32m'd1w7kpo'\u001b[0m,\n",
       "\u001b[2;32m│   │   \u001b[0m\u001b[32m'userid'\u001b[0m: \u001b[32m'law-talkin-guy'\u001b[0m,\n",
       "\u001b[2;32m│   │   \u001b[0m\u001b[32m'text'\u001b[0m: \u001b[32m\">   This whole post is a mess. \\n\\nCouldn't agree more.\"\u001b[0m,\n",
       "\u001b[2;32m│   │   \u001b[0m\u001b[32m'timestamp'\u001b[0m: \u001b[1;36m1460215741\u001b[0m\n",
       "\u001b[2;32m│   \u001b[0m\u001b[1m}\u001b[0m,\n",
       "\u001b[2;32m│   \u001b[0m\u001b[32m'last_utterance'\u001b[0m: \u001b[1m{\u001b[0m\n",
       "\u001b[2;32m│   │   \u001b[0m\u001b[32m'id'\u001b[0m: \u001b[32m'd1w7n5q'\u001b[0m,\n",
       "\u001b[2;32m│   │   \u001b[0m\u001b[32m'userid'\u001b[0m: \u001b[32m'AmiriteClyde'\u001b[0m,\n",
       "\u001b[2;32m│   │   \u001b[0m\u001b[32m'text'\u001b[0m: \u001b[32m\"Be constructive man... +1-ing yourself all day from internet strangers doesn't contribute to anything.\"\u001b[0m,\n",
       "\u001b[2;32m│   │   \u001b[0m\u001b[32m'timestamp'\u001b[0m: \u001b[1;36m1460215867\u001b[0m\n",
       "\u001b[2;32m│   \u001b[0m\u001b[1m}\u001b[0m,\n",
       "\u001b[2;32m│   \u001b[0m\u001b[32m'split'\u001b[0m: \u001b[32m'train'\u001b[0m\n",
       "\u001b[1m}\u001b[0m\n"
      ]
     },
     "metadata": {},
     "output_type": "display_data"
    }
   ],
   "source": [
    "# Take ~6 pairs from the train split (so that we keep the test split 'clean')\n",
    "# It's ok to have few-shot samples in the training dataset\n",
    "from rich.pretty import pprint\n",
    "\n",
    "# Print the first 10 samples from the train split for manual inspection\n",
    "for i in range(100):\n",
    "    print(f\"Sample {i}:\")\n",
    "    pprint(train_pairs[i])"
   ]
  },
  {
   "cell_type": "code",
   "execution_count": 11,
   "id": "1709be0d",
   "metadata": {},
   "outputs": [
    {
     "name": "stdout",
     "output_type": "stream",
     "text": [
      "Sample 13:\n"
     ]
    },
    {
     "data": {
      "text/html": [
       "<pre style=\"white-space:pre;overflow-x:auto;line-height:normal;font-family:Menlo,'DejaVu Sans Mono',consolas,'Courier New',monospace\"><span style=\"font-weight: bold\">{</span>\n",
       "<span style=\"color: #7fbf7f; text-decoration-color: #7fbf7f\">│   </span><span style=\"color: #008000; text-decoration-color: #008000\">'statement'</span>: <span style=\"color: #008000; text-decoration-color: #008000\">'Nuclear energy is a poor investment'</span>,\n",
       "<span style=\"color: #7fbf7f; text-decoration-color: #7fbf7f\">│   </span><span style=\"color: #008000; text-decoration-color: #008000\">'submission_id'</span>: <span style=\"color: #008000; text-decoration-color: #008000\">'3mld0q'</span>,\n",
       "<span style=\"color: #7fbf7f; text-decoration-color: #7fbf7f\">│   </span><span style=\"color: #008000; text-decoration-color: #008000\">'penultimate_utterance'</span>: <span style=\"font-weight: bold\">{</span>\n",
       "<span style=\"color: #7fbf7f; text-decoration-color: #7fbf7f\">│   │   </span><span style=\"color: #008000; text-decoration-color: #008000\">'id'</span>: <span style=\"color: #008000; text-decoration-color: #008000\">'cvgbcvn'</span>,\n",
       "<span style=\"color: #7fbf7f; text-decoration-color: #7fbf7f\">│   │   </span><span style=\"color: #008000; text-decoration-color: #008000\">'userid'</span>: <span style=\"color: #008000; text-decoration-color: #008000\">'SapperBomb'</span>,\n",
       "<span style=\"color: #7fbf7f; text-decoration-color: #7fbf7f\">│   │   </span><span style=\"color: #008000; text-decoration-color: #008000\">'text'</span>: <span style=\"color: #008000; text-decoration-color: #008000\">'I think that you are under the impression that a meltdown results in a nuclear explosion which it does not. A meltdown is when the fuel heats up so much that the fuel melts through the reactor and into the ground. '</span>,\n",
       "<span style=\"color: #7fbf7f; text-decoration-color: #7fbf7f\">│   │   </span><span style=\"color: #008000; text-decoration-color: #008000\">'timestamp'</span>: <span style=\"color: #008080; text-decoration-color: #008080; font-weight: bold\">1443395916</span>\n",
       "<span style=\"color: #7fbf7f; text-decoration-color: #7fbf7f\">│   </span><span style=\"font-weight: bold\">}</span>,\n",
       "<span style=\"color: #7fbf7f; text-decoration-color: #7fbf7f\">│   </span><span style=\"color: #008000; text-decoration-color: #008000\">'last_utterance'</span>: <span style=\"font-weight: bold\">{</span>\n",
       "<span style=\"color: #7fbf7f; text-decoration-color: #7fbf7f\">│   │   </span><span style=\"color: #008000; text-decoration-color: #008000\">'id'</span>: <span style=\"color: #008000; text-decoration-color: #008000\">'cvgz60w'</span>,\n",
       "<span style=\"color: #7fbf7f; text-decoration-color: #7fbf7f\">│   │   </span><span style=\"color: #008000; text-decoration-color: #008000\">'userid'</span>: <span style=\"color: #008000; text-decoration-color: #008000\">'qwertx0815'</span>,\n",
       "<span style=\"color: #7fbf7f; text-decoration-color: #7fbf7f\">│   │   </span><span style=\"color: #008000; text-decoration-color: #008000\">'text'</span>: <span style=\"color: #008000; text-decoration-color: #008000\">\"but all meltdowns to date where accompanied by severe secondary steam and/or hydrogen/oxygen explosions.\\n\\nyou shouldn't assume everybody on the internet is an idiot who can't differentiate between nuclear and conventional explosions\"</span>,\n",
       "<span style=\"color: #7fbf7f; text-decoration-color: #7fbf7f\">│   │   </span><span style=\"color: #008000; text-decoration-color: #008000\">'timestamp'</span>: <span style=\"color: #008080; text-decoration-color: #008080; font-weight: bold\">1443455721</span>\n",
       "<span style=\"color: #7fbf7f; text-decoration-color: #7fbf7f\">│   </span><span style=\"font-weight: bold\">}</span>,\n",
       "<span style=\"color: #7fbf7f; text-decoration-color: #7fbf7f\">│   </span><span style=\"color: #008000; text-decoration-color: #008000\">'split'</span>: <span style=\"color: #008000; text-decoration-color: #008000\">'train'</span>\n",
       "<span style=\"font-weight: bold\">}</span>\n",
       "</pre>\n"
      ],
      "text/plain": [
       "\u001b[1m{\u001b[0m\n",
       "\u001b[2;32m│   \u001b[0m\u001b[32m'statement'\u001b[0m: \u001b[32m'Nuclear energy is a poor investment'\u001b[0m,\n",
       "\u001b[2;32m│   \u001b[0m\u001b[32m'submission_id'\u001b[0m: \u001b[32m'3mld0q'\u001b[0m,\n",
       "\u001b[2;32m│   \u001b[0m\u001b[32m'penultimate_utterance'\u001b[0m: \u001b[1m{\u001b[0m\n",
       "\u001b[2;32m│   │   \u001b[0m\u001b[32m'id'\u001b[0m: \u001b[32m'cvgbcvn'\u001b[0m,\n",
       "\u001b[2;32m│   │   \u001b[0m\u001b[32m'userid'\u001b[0m: \u001b[32m'SapperBomb'\u001b[0m,\n",
       "\u001b[2;32m│   │   \u001b[0m\u001b[32m'text'\u001b[0m: \u001b[32m'I think that you are under the impression that a meltdown results in a nuclear explosion which it does not. A meltdown is when the fuel heats up so much that the fuel melts through the reactor and into the ground. '\u001b[0m,\n",
       "\u001b[2;32m│   │   \u001b[0m\u001b[32m'timestamp'\u001b[0m: \u001b[1;36m1443395916\u001b[0m\n",
       "\u001b[2;32m│   \u001b[0m\u001b[1m}\u001b[0m,\n",
       "\u001b[2;32m│   \u001b[0m\u001b[32m'last_utterance'\u001b[0m: \u001b[1m{\u001b[0m\n",
       "\u001b[2;32m│   │   \u001b[0m\u001b[32m'id'\u001b[0m: \u001b[32m'cvgz60w'\u001b[0m,\n",
       "\u001b[2;32m│   │   \u001b[0m\u001b[32m'userid'\u001b[0m: \u001b[32m'qwertx0815'\u001b[0m,\n",
       "\u001b[2;32m│   │   \u001b[0m\u001b[32m'text'\u001b[0m: \u001b[32m\"but all meltdowns to date where accompanied by severe secondary steam and/or hydrogen/oxygen explosions.\\n\\nyou shouldn't assume everybody on the internet is an idiot who can't differentiate between nuclear and conventional explosions\"\u001b[0m,\n",
       "\u001b[2;32m│   │   \u001b[0m\u001b[32m'timestamp'\u001b[0m: \u001b[1;36m1443455721\u001b[0m\n",
       "\u001b[2;32m│   \u001b[0m\u001b[1m}\u001b[0m,\n",
       "\u001b[2;32m│   \u001b[0m\u001b[32m'split'\u001b[0m: \u001b[32m'train'\u001b[0m\n",
       "\u001b[1m}\u001b[0m\n"
      ]
     },
     "metadata": {},
     "output_type": "display_data"
    },
    {
     "name": "stdout",
     "output_type": "stream",
     "text": [
      "Sample 14:\n"
     ]
    },
    {
     "data": {
      "text/html": [
       "<pre style=\"white-space:pre;overflow-x:auto;line-height:normal;font-family:Menlo,'DejaVu Sans Mono',consolas,'Courier New',monospace\"><span style=\"font-weight: bold\">{</span>\n",
       "<span style=\"color: #7fbf7f; text-decoration-color: #7fbf7f\">│   </span><span style=\"color: #008000; text-decoration-color: #008000\">'statement'</span>: <span style=\"color: #008000; text-decoration-color: #008000\">'If you post a controversial opinion on Facebook, you should be open to people commenting with counterarguments.'</span>,\n",
       "<span style=\"color: #7fbf7f; text-decoration-color: #7fbf7f\">│   </span><span style=\"color: #008000; text-decoration-color: #008000\">'submission_id'</span>: <span style=\"color: #008000; text-decoration-color: #008000\">'3mpc04'</span>,\n",
       "<span style=\"color: #7fbf7f; text-decoration-color: #7fbf7f\">│   </span><span style=\"color: #008000; text-decoration-color: #008000\">'penultimate_utterance'</span>: <span style=\"font-weight: bold\">{</span>\n",
       "<span style=\"color: #7fbf7f; text-decoration-color: #7fbf7f\">│   │   </span><span style=\"color: #008000; text-decoration-color: #008000\">'id'</span>: <span style=\"color: #008000; text-decoration-color: #008000\">'cvhah6u'</span>,\n",
       "<span style=\"color: #7fbf7f; text-decoration-color: #7fbf7f\">│   │   </span><span style=\"color: #008000; text-decoration-color: #008000\">'userid'</span>: <span style=\"color: #008000; text-decoration-color: #008000\">'hydrospanner'</span>,\n",
       "<span style=\"color: #7fbf7f; text-decoration-color: #7fbf7f\">│   │   </span><span style=\"color: #008000; text-decoration-color: #008000\">'text'</span>: <span style=\"color: #008000; text-decoration-color: #008000\">\"If they're not going to accept facts as valid, they're not really worth the dialogue, though.\\n\\n\"</span>,\n",
       "<span style=\"color: #7fbf7f; text-decoration-color: #7fbf7f\">│   │   </span><span style=\"color: #008000; text-decoration-color: #008000\">'timestamp'</span>: <span style=\"color: #008080; text-decoration-color: #008080; font-weight: bold\">1443472236</span>\n",
       "<span style=\"color: #7fbf7f; text-decoration-color: #7fbf7f\">│   </span><span style=\"font-weight: bold\">}</span>,\n",
       "<span style=\"color: #7fbf7f; text-decoration-color: #7fbf7f\">│   </span><span style=\"color: #008000; text-decoration-color: #008000\">'last_utterance'</span>: <span style=\"font-weight: bold\">{</span>\n",
       "<span style=\"color: #7fbf7f; text-decoration-color: #7fbf7f\">│   │   </span><span style=\"color: #008000; text-decoration-color: #008000\">'id'</span>: <span style=\"color: #008000; text-decoration-color: #008000\">'cvhbd1x'</span>,\n",
       "<span style=\"color: #7fbf7f; text-decoration-color: #7fbf7f\">│   │   </span><span style=\"color: #008000; text-decoration-color: #008000\">'userid'</span>: <span style=\"color: #008000; text-decoration-color: #008000\">'WizardofStaz'</span>,\n",
       "<span style=\"color: #7fbf7f; text-decoration-color: #7fbf7f\">│   │   </span><span style=\"color: #008000; text-decoration-color: #008000\">'text'</span>: <span style=\"color: #008000; text-decoration-color: #008000\">\"What a ridiculous notion. Your mother isn't worth your time because she holds a silly belief? People on facebook are usually friends and relatives. You put forward the effort precisely *because* these people are worth it. You don't just cut out people who add to your life because they have flaws.\"</span>,\n",
       "<span style=\"color: #7fbf7f; text-decoration-color: #7fbf7f\">│   │   </span><span style=\"color: #008000; text-decoration-color: #008000\">'timestamp'</span>: <span style=\"color: #008080; text-decoration-color: #008080; font-weight: bold\">1443473498</span>\n",
       "<span style=\"color: #7fbf7f; text-decoration-color: #7fbf7f\">│   </span><span style=\"font-weight: bold\">}</span>,\n",
       "<span style=\"color: #7fbf7f; text-decoration-color: #7fbf7f\">│   </span><span style=\"color: #008000; text-decoration-color: #008000\">'split'</span>: <span style=\"color: #008000; text-decoration-color: #008000\">'train'</span>\n",
       "<span style=\"font-weight: bold\">}</span>\n",
       "</pre>\n"
      ],
      "text/plain": [
       "\u001b[1m{\u001b[0m\n",
       "\u001b[2;32m│   \u001b[0m\u001b[32m'statement'\u001b[0m: \u001b[32m'If you post a controversial opinion on Facebook, you should be open to people commenting with counterarguments.'\u001b[0m,\n",
       "\u001b[2;32m│   \u001b[0m\u001b[32m'submission_id'\u001b[0m: \u001b[32m'3mpc04'\u001b[0m,\n",
       "\u001b[2;32m│   \u001b[0m\u001b[32m'penultimate_utterance'\u001b[0m: \u001b[1m{\u001b[0m\n",
       "\u001b[2;32m│   │   \u001b[0m\u001b[32m'id'\u001b[0m: \u001b[32m'cvhah6u'\u001b[0m,\n",
       "\u001b[2;32m│   │   \u001b[0m\u001b[32m'userid'\u001b[0m: \u001b[32m'hydrospanner'\u001b[0m,\n",
       "\u001b[2;32m│   │   \u001b[0m\u001b[32m'text'\u001b[0m: \u001b[32m\"If they're not going to accept facts as valid, they're not really worth the dialogue, though.\\n\\n\"\u001b[0m,\n",
       "\u001b[2;32m│   │   \u001b[0m\u001b[32m'timestamp'\u001b[0m: \u001b[1;36m1443472236\u001b[0m\n",
       "\u001b[2;32m│   \u001b[0m\u001b[1m}\u001b[0m,\n",
       "\u001b[2;32m│   \u001b[0m\u001b[32m'last_utterance'\u001b[0m: \u001b[1m{\u001b[0m\n",
       "\u001b[2;32m│   │   \u001b[0m\u001b[32m'id'\u001b[0m: \u001b[32m'cvhbd1x'\u001b[0m,\n",
       "\u001b[2;32m│   │   \u001b[0m\u001b[32m'userid'\u001b[0m: \u001b[32m'WizardofStaz'\u001b[0m,\n",
       "\u001b[2;32m│   │   \u001b[0m\u001b[32m'text'\u001b[0m: \u001b[32m\"What a ridiculous notion. Your mother isn't worth your time because she holds a silly belief? People on facebook are usually friends and relatives. You put forward the effort precisely *because* these people are worth it. You don't just cut out people who add to your life because they have flaws.\"\u001b[0m,\n",
       "\u001b[2;32m│   │   \u001b[0m\u001b[32m'timestamp'\u001b[0m: \u001b[1;36m1443473498\u001b[0m\n",
       "\u001b[2;32m│   \u001b[0m\u001b[1m}\u001b[0m,\n",
       "\u001b[2;32m│   \u001b[0m\u001b[32m'split'\u001b[0m: \u001b[32m'train'\u001b[0m\n",
       "\u001b[1m}\u001b[0m\n"
      ]
     },
     "metadata": {},
     "output_type": "display_data"
    },
    {
     "name": "stdout",
     "output_type": "stream",
     "text": [
      "Sample 18:\n"
     ]
    },
    {
     "data": {
      "text/html": [
       "<pre style=\"white-space:pre;overflow-x:auto;line-height:normal;font-family:Menlo,'DejaVu Sans Mono',consolas,'Courier New',monospace\"><span style=\"font-weight: bold\">{</span>\n",
       "<span style=\"color: #7fbf7f; text-decoration-color: #7fbf7f\">│   </span><span style=\"color: #008000; text-decoration-color: #008000\">'statement'</span>: <span style=\"color: #008000; text-decoration-color: #008000\">'People who believe in a vast variety of genders are crazy'</span>,\n",
       "<span style=\"color: #7fbf7f; text-decoration-color: #7fbf7f\">│   </span><span style=\"color: #008000; text-decoration-color: #008000\">'submission_id'</span>: <span style=\"color: #008000; text-decoration-color: #008000\">'3nxt82'</span>,\n",
       "<span style=\"color: #7fbf7f; text-decoration-color: #7fbf7f\">│   </span><span style=\"color: #008000; text-decoration-color: #008000\">'penultimate_utterance'</span>: <span style=\"font-weight: bold\">{</span>\n",
       "<span style=\"color: #7fbf7f; text-decoration-color: #7fbf7f\">│   │   </span><span style=\"color: #008000; text-decoration-color: #008000\">'id'</span>: <span style=\"color: #008000; text-decoration-color: #008000\">'cvs8tnr'</span>,\n",
       "<span style=\"color: #7fbf7f; text-decoration-color: #7fbf7f\">│   │   </span><span style=\"color: #008000; text-decoration-color: #008000\">'userid'</span>: <span style=\"color: #008000; text-decoration-color: #008000\">'Throwaya3345'</span>,\n",
       "<span style=\"color: #7fbf7f; text-decoration-color: #7fbf7f\">│   │   </span><span style=\"color: #008000; text-decoration-color: #008000\">'text'</span>: <span style=\"color: #008000; text-decoration-color: #008000\">'It\\'s also what I\\'ve seen happen to others. I haven\\'t had to deal with this often, but I constantly see it from them. They always attack the most ordinary wouldn\\'t-hurt-a-damn-fly type of person whenever this happens. It\\'s just like with feminists. \"Oh, that scientist wore a SHIRT we don\\'t like! Fuck him! Make him cry!\" It\\'s disgusting how they act. '</span>,\n",
       "<span style=\"color: #7fbf7f; text-decoration-color: #7fbf7f\">│   │   </span><span style=\"color: #008000; text-decoration-color: #008000\">'timestamp'</span>: <span style=\"color: #008080; text-decoration-color: #008080; font-weight: bold\">1444286805</span>\n",
       "<span style=\"color: #7fbf7f; text-decoration-color: #7fbf7f\">│   </span><span style=\"font-weight: bold\">}</span>,\n",
       "<span style=\"color: #7fbf7f; text-decoration-color: #7fbf7f\">│   </span><span style=\"color: #008000; text-decoration-color: #008000\">'last_utterance'</span>: <span style=\"font-weight: bold\">{</span>\n",
       "<span style=\"color: #7fbf7f; text-decoration-color: #7fbf7f\">│   │   </span><span style=\"color: #008000; text-decoration-color: #008000\">'id'</span>: <span style=\"color: #008000; text-decoration-color: #008000\">'cvslerb'</span>,\n",
       "<span style=\"color: #7fbf7f; text-decoration-color: #7fbf7f\">│   │   </span><span style=\"color: #008000; text-decoration-color: #008000\">'userid'</span>: <span style=\"color: #008000; text-decoration-color: #008000\">'z3r0shade'</span>,\n",
       "<span style=\"color: #7fbf7f; text-decoration-color: #7fbf7f\">│   │   </span><span style=\"color: #008000; text-decoration-color: #008000\">'text'</span>: <span style=\"color: #008000; text-decoration-color: #008000\">'&gt;  It\\'s just like with feminists. \"Oh, that scientist wore a SHIRT we don\\'t like! Fuck him! Make him cry!\" It\\'s disgusting how they act.\\n\\nYay strawmen! You realize that is not at all what happened in that situation right?'</span>,\n",
       "<span style=\"color: #7fbf7f; text-decoration-color: #7fbf7f\">│   │   </span><span style=\"color: #008000; text-decoration-color: #008000\">'timestamp'</span>: <span style=\"color: #008080; text-decoration-color: #008080; font-weight: bold\">1444320049</span>\n",
       "<span style=\"color: #7fbf7f; text-decoration-color: #7fbf7f\">│   </span><span style=\"font-weight: bold\">}</span>,\n",
       "<span style=\"color: #7fbf7f; text-decoration-color: #7fbf7f\">│   </span><span style=\"color: #008000; text-decoration-color: #008000\">'split'</span>: <span style=\"color: #008000; text-decoration-color: #008000\">'train'</span>\n",
       "<span style=\"font-weight: bold\">}</span>\n",
       "</pre>\n"
      ],
      "text/plain": [
       "\u001b[1m{\u001b[0m\n",
       "\u001b[2;32m│   \u001b[0m\u001b[32m'statement'\u001b[0m: \u001b[32m'People who believe in a vast variety of genders are crazy'\u001b[0m,\n",
       "\u001b[2;32m│   \u001b[0m\u001b[32m'submission_id'\u001b[0m: \u001b[32m'3nxt82'\u001b[0m,\n",
       "\u001b[2;32m│   \u001b[0m\u001b[32m'penultimate_utterance'\u001b[0m: \u001b[1m{\u001b[0m\n",
       "\u001b[2;32m│   │   \u001b[0m\u001b[32m'id'\u001b[0m: \u001b[32m'cvs8tnr'\u001b[0m,\n",
       "\u001b[2;32m│   │   \u001b[0m\u001b[32m'userid'\u001b[0m: \u001b[32m'Throwaya3345'\u001b[0m,\n",
       "\u001b[2;32m│   │   \u001b[0m\u001b[32m'text'\u001b[0m: \u001b[32m'It\\'s also what I\\'ve seen happen to others. I haven\\'t had to deal with this often, but I constantly see it from them. They always attack the most ordinary wouldn\\'t-hurt-a-damn-fly type of person whenever this happens. It\\'s just like with feminists. \"Oh, that scientist wore a SHIRT we don\\'t like! Fuck him! Make him cry!\" It\\'s disgusting how they act. '\u001b[0m,\n",
       "\u001b[2;32m│   │   \u001b[0m\u001b[32m'timestamp'\u001b[0m: \u001b[1;36m1444286805\u001b[0m\n",
       "\u001b[2;32m│   \u001b[0m\u001b[1m}\u001b[0m,\n",
       "\u001b[2;32m│   \u001b[0m\u001b[32m'last_utterance'\u001b[0m: \u001b[1m{\u001b[0m\n",
       "\u001b[2;32m│   │   \u001b[0m\u001b[32m'id'\u001b[0m: \u001b[32m'cvslerb'\u001b[0m,\n",
       "\u001b[2;32m│   │   \u001b[0m\u001b[32m'userid'\u001b[0m: \u001b[32m'z3r0shade'\u001b[0m,\n",
       "\u001b[2;32m│   │   \u001b[0m\u001b[32m'text'\u001b[0m: \u001b[32m'>  It\\'s just like with feminists. \"Oh, that scientist wore a SHIRT we don\\'t like! Fuck him! Make him cry!\" It\\'s disgusting how they act.\\n\\nYay strawmen! You realize that is not at all what happened in that situation right?'\u001b[0m,\n",
       "\u001b[2;32m│   │   \u001b[0m\u001b[32m'timestamp'\u001b[0m: \u001b[1;36m1444320049\u001b[0m\n",
       "\u001b[2;32m│   \u001b[0m\u001b[1m}\u001b[0m,\n",
       "\u001b[2;32m│   \u001b[0m\u001b[32m'split'\u001b[0m: \u001b[32m'train'\u001b[0m\n",
       "\u001b[1m}\u001b[0m\n"
      ]
     },
     "metadata": {},
     "output_type": "display_data"
    },
    {
     "name": "stdout",
     "output_type": "stream",
     "text": [
      "Sample 19:\n"
     ]
    },
    {
     "data": {
      "text/html": [
       "<pre style=\"white-space:pre;overflow-x:auto;line-height:normal;font-family:Menlo,'DejaVu Sans Mono',consolas,'Courier New',monospace\"><span style=\"font-weight: bold\">{</span>\n",
       "<span style=\"color: #7fbf7f; text-decoration-color: #7fbf7f\">│   </span><span style=\"color: #008000; text-decoration-color: #008000\">'statement'</span>: <span style=\"color: #008000; text-decoration-color: #008000\">'People who believe in a vast variety of genders are crazy'</span>,\n",
       "<span style=\"color: #7fbf7f; text-decoration-color: #7fbf7f\">│   </span><span style=\"color: #008000; text-decoration-color: #008000\">'submission_id'</span>: <span style=\"color: #008000; text-decoration-color: #008000\">'3nxt82'</span>,\n",
       "<span style=\"color: #7fbf7f; text-decoration-color: #7fbf7f\">│   </span><span style=\"color: #008000; text-decoration-color: #008000\">'penultimate_utterance'</span>: <span style=\"font-weight: bold\">{</span>\n",
       "<span style=\"color: #7fbf7f; text-decoration-color: #7fbf7f\">│   │   </span><span style=\"color: #008000; text-decoration-color: #008000\">'id'</span>: <span style=\"color: #008000; text-decoration-color: #008000\">'cvsyy7e'</span>,\n",
       "<span style=\"color: #7fbf7f; text-decoration-color: #7fbf7f\">│   │   </span><span style=\"color: #008000; text-decoration-color: #008000\">'userid'</span>: <span style=\"color: #008000; text-decoration-color: #008000\">'Throwaya3345'</span>,\n",
       "<span style=\"color: #7fbf7f; text-decoration-color: #7fbf7f\">│   │   </span><span style=\"color: #008000; text-decoration-color: #008000\">'text'</span>: <span style=\"color: #008000; text-decoration-color: #008000\">'\"You talk about dragon skin people or trans-race people but there really is no group that claims to be that way, so that\\'s a meaningless discussion to have.\"\\n\\nSo in other words you\\'re not going to argue for why it\\'s different, ok. '</span>,\n",
       "<span style=\"color: #7fbf7f; text-decoration-color: #7fbf7f\">│   │   </span><span style=\"color: #008000; text-decoration-color: #008000\">'timestamp'</span>: <span style=\"color: #008080; text-decoration-color: #008080; font-weight: bold\">1444339757</span>\n",
       "<span style=\"color: #7fbf7f; text-decoration-color: #7fbf7f\">│   </span><span style=\"font-weight: bold\">}</span>,\n",
       "<span style=\"color: #7fbf7f; text-decoration-color: #7fbf7f\">│   </span><span style=\"color: #008000; text-decoration-color: #008000\">'last_utterance'</span>: <span style=\"font-weight: bold\">{</span>\n",
       "<span style=\"color: #7fbf7f; text-decoration-color: #7fbf7f\">│   │   </span><span style=\"color: #008000; text-decoration-color: #008000\">'id'</span>: <span style=\"color: #008000; text-decoration-color: #008000\">'cvszhsd'</span>,\n",
       "<span style=\"color: #7fbf7f; text-decoration-color: #7fbf7f\">│   │   </span><span style=\"color: #008000; text-decoration-color: #008000\">'userid'</span>: <span style=\"color: #008000; text-decoration-color: #008000\">'Felix51'</span>,\n",
       "<span style=\"color: #7fbf7f; text-decoration-color: #7fbf7f\">│   │   </span><span style=\"color: #008000; text-decoration-color: #008000\">'text'</span>: <span style=\"color: #008000; text-decoration-color: #008000\">\"It's different because it exists.My argument is that people actually feel this way and go through with it even in the face of assholes like you. Which suggests that they actually feel that way. It suggests that our societal notions of gender may not be absolute. Especially since this is a behaviour noted throughout history. It's like asking someone to explain their sexuality, it doesn't have a good explanation. \"</span>,\n",
       "<span style=\"color: #7fbf7f; text-decoration-color: #7fbf7f\">│   │   </span><span style=\"color: #008000; text-decoration-color: #008000\">'timestamp'</span>: <span style=\"color: #008080; text-decoration-color: #008080; font-weight: bold\">1444340585</span>\n",
       "<span style=\"color: #7fbf7f; text-decoration-color: #7fbf7f\">│   </span><span style=\"font-weight: bold\">}</span>,\n",
       "<span style=\"color: #7fbf7f; text-decoration-color: #7fbf7f\">│   </span><span style=\"color: #008000; text-decoration-color: #008000\">'split'</span>: <span style=\"color: #008000; text-decoration-color: #008000\">'train'</span>\n",
       "<span style=\"font-weight: bold\">}</span>\n",
       "</pre>\n"
      ],
      "text/plain": [
       "\u001b[1m{\u001b[0m\n",
       "\u001b[2;32m│   \u001b[0m\u001b[32m'statement'\u001b[0m: \u001b[32m'People who believe in a vast variety of genders are crazy'\u001b[0m,\n",
       "\u001b[2;32m│   \u001b[0m\u001b[32m'submission_id'\u001b[0m: \u001b[32m'3nxt82'\u001b[0m,\n",
       "\u001b[2;32m│   \u001b[0m\u001b[32m'penultimate_utterance'\u001b[0m: \u001b[1m{\u001b[0m\n",
       "\u001b[2;32m│   │   \u001b[0m\u001b[32m'id'\u001b[0m: \u001b[32m'cvsyy7e'\u001b[0m,\n",
       "\u001b[2;32m│   │   \u001b[0m\u001b[32m'userid'\u001b[0m: \u001b[32m'Throwaya3345'\u001b[0m,\n",
       "\u001b[2;32m│   │   \u001b[0m\u001b[32m'text'\u001b[0m: \u001b[32m'\"You talk about dragon skin people or trans-race people but there really is no group that claims to be that way, so that\\'s a meaningless discussion to have.\"\\n\\nSo in other words you\\'re not going to argue for why it\\'s different, ok. '\u001b[0m,\n",
       "\u001b[2;32m│   │   \u001b[0m\u001b[32m'timestamp'\u001b[0m: \u001b[1;36m1444339757\u001b[0m\n",
       "\u001b[2;32m│   \u001b[0m\u001b[1m}\u001b[0m,\n",
       "\u001b[2;32m│   \u001b[0m\u001b[32m'last_utterance'\u001b[0m: \u001b[1m{\u001b[0m\n",
       "\u001b[2;32m│   │   \u001b[0m\u001b[32m'id'\u001b[0m: \u001b[32m'cvszhsd'\u001b[0m,\n",
       "\u001b[2;32m│   │   \u001b[0m\u001b[32m'userid'\u001b[0m: \u001b[32m'Felix51'\u001b[0m,\n",
       "\u001b[2;32m│   │   \u001b[0m\u001b[32m'text'\u001b[0m: \u001b[32m\"It's different because it exists.My argument is that people actually feel this way and go through with it even in the face of assholes like you. Which suggests that they actually feel that way. It suggests that our societal notions of gender may not be absolute. Especially since this is a behaviour noted throughout history. It's like asking someone to explain their sexuality, it doesn't have a good explanation. \"\u001b[0m,\n",
       "\u001b[2;32m│   │   \u001b[0m\u001b[32m'timestamp'\u001b[0m: \u001b[1;36m1444340585\u001b[0m\n",
       "\u001b[2;32m│   \u001b[0m\u001b[1m}\u001b[0m,\n",
       "\u001b[2;32m│   \u001b[0m\u001b[32m'split'\u001b[0m: \u001b[32m'train'\u001b[0m\n",
       "\u001b[1m}\u001b[0m\n"
      ]
     },
     "metadata": {},
     "output_type": "display_data"
    },
    {
     "name": "stdout",
     "output_type": "stream",
     "text": [
      "Sample 20:\n"
     ]
    },
    {
     "data": {
      "text/html": [
       "<pre style=\"white-space:pre;overflow-x:auto;line-height:normal;font-family:Menlo,'DejaVu Sans Mono',consolas,'Courier New',monospace\"><span style=\"font-weight: bold\">{</span>\n",
       "<span style=\"color: #7fbf7f; text-decoration-color: #7fbf7f\">│   </span><span style=\"color: #008000; text-decoration-color: #008000\">'statement'</span>: <span style=\"color: #008000; text-decoration-color: #008000\">'I think that we should abolish the minimum wage and replace it with universal basic income.'</span>,\n",
       "<span style=\"color: #7fbf7f; text-decoration-color: #7fbf7f\">│   </span><span style=\"color: #008000; text-decoration-color: #008000\">'submission_id'</span>: <span style=\"color: #008000; text-decoration-color: #008000\">'3o29f6'</span>,\n",
       "<span style=\"color: #7fbf7f; text-decoration-color: #7fbf7f\">│   </span><span style=\"color: #008000; text-decoration-color: #008000\">'penultimate_utterance'</span>: <span style=\"font-weight: bold\">{</span>\n",
       "<span style=\"color: #7fbf7f; text-decoration-color: #7fbf7f\">│   │   </span><span style=\"color: #008000; text-decoration-color: #008000\">'id'</span>: <span style=\"color: #008000; text-decoration-color: #008000\">'cvtzrhj'</span>,\n",
       "<span style=\"color: #7fbf7f; text-decoration-color: #7fbf7f\">│   │   </span><span style=\"color: #008000; text-decoration-color: #008000\">'userid'</span>: <span style=\"color: #008000; text-decoration-color: #008000\">'hoppierthanthou'</span>,\n",
       "<span style=\"color: #7fbf7f; text-decoration-color: #7fbf7f\">│   │   </span><span style=\"color: #008000; text-decoration-color: #008000\">'text'</span>: <span style=\"color: #008000; text-decoration-color: #008000\">\"Right. No one would be that poor in libertopia. Not like there are people who can't afford insurance now. Nope. You're also assuming a world in which everyone is perfectly informed in their buying choices which, while it would be ideal, does not reflect reality.\"</span>,\n",
       "<span style=\"color: #7fbf7f; text-decoration-color: #7fbf7f\">│   │   </span><span style=\"color: #008000; text-decoration-color: #008000\">'timestamp'</span>: <span style=\"color: #008080; text-decoration-color: #008080; font-weight: bold\">1444416423</span>\n",
       "<span style=\"color: #7fbf7f; text-decoration-color: #7fbf7f\">│   </span><span style=\"font-weight: bold\">}</span>,\n",
       "<span style=\"color: #7fbf7f; text-decoration-color: #7fbf7f\">│   </span><span style=\"color: #008000; text-decoration-color: #008000\">'last_utterance'</span>: <span style=\"font-weight: bold\">{</span>\n",
       "<span style=\"color: #7fbf7f; text-decoration-color: #7fbf7f\">│   │   </span><span style=\"color: #008000; text-decoration-color: #008000\">'id'</span>: <span style=\"color: #008000; text-decoration-color: #008000\">'cvu0gbm'</span>,\n",
       "<span style=\"color: #7fbf7f; text-decoration-color: #7fbf7f\">│   │   </span><span style=\"color: #008000; text-decoration-color: #008000\">'userid'</span>: <span style=\"color: #008000; text-decoration-color: #008000\">'Frallec'</span>,\n",
       "<span style=\"color: #7fbf7f; text-decoration-color: #7fbf7f\">│   │   </span><span style=\"color: #008000; text-decoration-color: #008000\">'text'</span>: <span style=\"color: #008000; text-decoration-color: #008000\">\"&gt; Right. No one would be that poor in libertopia.\\n\\nStrawman, I never said that. Please stop making willfully dishonest arguments.\\n\\n\\n\\n&gt; does not reflect reality.\\n\\nMaybe because people don't need to be informed to, if government drove us everywhere, no wonder people wouldn't be able to drive.\"</span>,\n",
       "<span style=\"color: #7fbf7f; text-decoration-color: #7fbf7f\">│   │   </span><span style=\"color: #008000; text-decoration-color: #008000\">'timestamp'</span>: <span style=\"color: #008080; text-decoration-color: #008080; font-weight: bold\">1444417446</span>\n",
       "<span style=\"color: #7fbf7f; text-decoration-color: #7fbf7f\">│   </span><span style=\"font-weight: bold\">}</span>,\n",
       "<span style=\"color: #7fbf7f; text-decoration-color: #7fbf7f\">│   </span><span style=\"color: #008000; text-decoration-color: #008000\">'split'</span>: <span style=\"color: #008000; text-decoration-color: #008000\">'train'</span>\n",
       "<span style=\"font-weight: bold\">}</span>\n",
       "</pre>\n"
      ],
      "text/plain": [
       "\u001b[1m{\u001b[0m\n",
       "\u001b[2;32m│   \u001b[0m\u001b[32m'statement'\u001b[0m: \u001b[32m'I think that we should abolish the minimum wage and replace it with universal basic income.'\u001b[0m,\n",
       "\u001b[2;32m│   \u001b[0m\u001b[32m'submission_id'\u001b[0m: \u001b[32m'3o29f6'\u001b[0m,\n",
       "\u001b[2;32m│   \u001b[0m\u001b[32m'penultimate_utterance'\u001b[0m: \u001b[1m{\u001b[0m\n",
       "\u001b[2;32m│   │   \u001b[0m\u001b[32m'id'\u001b[0m: \u001b[32m'cvtzrhj'\u001b[0m,\n",
       "\u001b[2;32m│   │   \u001b[0m\u001b[32m'userid'\u001b[0m: \u001b[32m'hoppierthanthou'\u001b[0m,\n",
       "\u001b[2;32m│   │   \u001b[0m\u001b[32m'text'\u001b[0m: \u001b[32m\"Right. No one would be that poor in libertopia. Not like there are people who can't afford insurance now. Nope. You're also assuming a world in which everyone is perfectly informed in their buying choices which, while it would be ideal, does not reflect reality.\"\u001b[0m,\n",
       "\u001b[2;32m│   │   \u001b[0m\u001b[32m'timestamp'\u001b[0m: \u001b[1;36m1444416423\u001b[0m\n",
       "\u001b[2;32m│   \u001b[0m\u001b[1m}\u001b[0m,\n",
       "\u001b[2;32m│   \u001b[0m\u001b[32m'last_utterance'\u001b[0m: \u001b[1m{\u001b[0m\n",
       "\u001b[2;32m│   │   \u001b[0m\u001b[32m'id'\u001b[0m: \u001b[32m'cvu0gbm'\u001b[0m,\n",
       "\u001b[2;32m│   │   \u001b[0m\u001b[32m'userid'\u001b[0m: \u001b[32m'Frallec'\u001b[0m,\n",
       "\u001b[2;32m│   │   \u001b[0m\u001b[32m'text'\u001b[0m: \u001b[32m\"> Right. No one would be that poor in libertopia.\\n\\nStrawman, I never said that. Please stop making willfully dishonest arguments.\\n\\n\\n\\n> does not reflect reality.\\n\\nMaybe because people don't need to be informed to, if government drove us everywhere, no wonder people wouldn't be able to drive.\"\u001b[0m,\n",
       "\u001b[2;32m│   │   \u001b[0m\u001b[32m'timestamp'\u001b[0m: \u001b[1;36m1444417446\u001b[0m\n",
       "\u001b[2;32m│   \u001b[0m\u001b[1m}\u001b[0m,\n",
       "\u001b[2;32m│   \u001b[0m\u001b[32m'split'\u001b[0m: \u001b[32m'train'\u001b[0m\n",
       "\u001b[1m}\u001b[0m\n"
      ]
     },
     "metadata": {},
     "output_type": "display_data"
    },
    {
     "name": "stdout",
     "output_type": "stream",
     "text": [
      "Sample 22:\n"
     ]
    },
    {
     "data": {
      "text/html": [
       "<pre style=\"white-space:pre;overflow-x:auto;line-height:normal;font-family:Menlo,'DejaVu Sans Mono',consolas,'Courier New',monospace\"><span style=\"font-weight: bold\">{</span>\n",
       "<span style=\"color: #7fbf7f; text-decoration-color: #7fbf7f\">│   </span><span style=\"color: #008000; text-decoration-color: #008000\">'statement'</span>: <span style=\"color: #008000; text-decoration-color: #008000\">'Why do socialist politicians like Bernie Sanders push for things like minimum wage when in Denmark we are very fine without it.'</span>,\n",
       "<span style=\"color: #7fbf7f; text-decoration-color: #7fbf7f\">│   </span><span style=\"color: #008000; text-decoration-color: #008000\">'submission_id'</span>: <span style=\"color: #008000; text-decoration-color: #008000\">'3ovunz'</span>,\n",
       "<span style=\"color: #7fbf7f; text-decoration-color: #7fbf7f\">│   </span><span style=\"color: #008000; text-decoration-color: #008000\">'penultimate_utterance'</span>: <span style=\"font-weight: bold\">{</span>\n",
       "<span style=\"color: #7fbf7f; text-decoration-color: #7fbf7f\">│   │   </span><span style=\"color: #008000; text-decoration-color: #008000\">'id'</span>: <span style=\"color: #008000; text-decoration-color: #008000\">'cw0zm5j'</span>,\n",
       "<span style=\"color: #7fbf7f; text-decoration-color: #7fbf7f\">│   │   </span><span style=\"color: #008000; text-decoration-color: #008000\">'userid'</span>: <span style=\"color: #008000; text-decoration-color: #008000\">'foolfools'</span>,\n",
       "<span style=\"color: #7fbf7f; text-decoration-color: #7fbf7f\">│   │   </span><span style=\"color: #008000; text-decoration-color: #008000\">'text'</span>: <span style=\"color: #008000; text-decoration-color: #008000\">'No, look at the history: people in unions were beaten up by the capitalist goons. \\n\\nNow a days, ignorant people(white men) have been told a false narrative to keep them away from any power.'</span>,\n",
       "<span style=\"color: #7fbf7f; text-decoration-color: #7fbf7f\">│   │   </span><span style=\"color: #008000; text-decoration-color: #008000\">'timestamp'</span>: <span style=\"color: #008080; text-decoration-color: #008080; font-weight: bold\">1444937416</span>\n",
       "<span style=\"color: #7fbf7f; text-decoration-color: #7fbf7f\">│   </span><span style=\"font-weight: bold\">}</span>,\n",
       "<span style=\"color: #7fbf7f; text-decoration-color: #7fbf7f\">│   </span><span style=\"color: #008000; text-decoration-color: #008000\">'last_utterance'</span>: <span style=\"font-weight: bold\">{</span>\n",
       "<span style=\"color: #7fbf7f; text-decoration-color: #7fbf7f\">│   │   </span><span style=\"color: #008000; text-decoration-color: #008000\">'id'</span>: <span style=\"color: #008000; text-decoration-color: #008000\">'cw10j65'</span>,\n",
       "<span style=\"color: #7fbf7f; text-decoration-color: #7fbf7f\">│   │   </span><span style=\"color: #008000; text-decoration-color: #008000\">'userid'</span>: <span style=\"color: #008000; text-decoration-color: #008000\">'JefftheBaptist'</span>,\n",
       "<span style=\"color: #7fbf7f; text-decoration-color: #7fbf7f\">│   │   </span><span style=\"color: #008000; text-decoration-color: #008000\">'text'</span>: <span style=\"color: #008000; text-decoration-color: #008000\">\"Unions have done a lot of beating as well.  Its not a coincidence that in many areas the union leadership had close ties to organized crime.\\n\\nWithin the last decade we've had unions advocate for changes to labor law like the elimination of secret ballots in unionization votes.  This would allow the unions to spread through intimidation of opposing workers into compliance.\"</span>,\n",
       "<span style=\"color: #7fbf7f; text-decoration-color: #7fbf7f\">│   │   </span><span style=\"color: #008000; text-decoration-color: #008000\">'timestamp'</span>: <span style=\"color: #008080; text-decoration-color: #008080; font-weight: bold\">1444938688</span>\n",
       "<span style=\"color: #7fbf7f; text-decoration-color: #7fbf7f\">│   </span><span style=\"font-weight: bold\">}</span>,\n",
       "<span style=\"color: #7fbf7f; text-decoration-color: #7fbf7f\">│   </span><span style=\"color: #008000; text-decoration-color: #008000\">'split'</span>: <span style=\"color: #008000; text-decoration-color: #008000\">'train'</span>\n",
       "<span style=\"font-weight: bold\">}</span>\n",
       "</pre>\n"
      ],
      "text/plain": [
       "\u001b[1m{\u001b[0m\n",
       "\u001b[2;32m│   \u001b[0m\u001b[32m'statement'\u001b[0m: \u001b[32m'Why do socialist politicians like Bernie Sanders push for things like minimum wage when in Denmark we are very fine without it.'\u001b[0m,\n",
       "\u001b[2;32m│   \u001b[0m\u001b[32m'submission_id'\u001b[0m: \u001b[32m'3ovunz'\u001b[0m,\n",
       "\u001b[2;32m│   \u001b[0m\u001b[32m'penultimate_utterance'\u001b[0m: \u001b[1m{\u001b[0m\n",
       "\u001b[2;32m│   │   \u001b[0m\u001b[32m'id'\u001b[0m: \u001b[32m'cw0zm5j'\u001b[0m,\n",
       "\u001b[2;32m│   │   \u001b[0m\u001b[32m'userid'\u001b[0m: \u001b[32m'foolfools'\u001b[0m,\n",
       "\u001b[2;32m│   │   \u001b[0m\u001b[32m'text'\u001b[0m: \u001b[32m'No, look at the history: people in unions were beaten up by the capitalist goons. \\n\\nNow a days, ignorant people\u001b[0m\u001b[32m(\u001b[0m\u001b[32mwhite men\u001b[0m\u001b[32m)\u001b[0m\u001b[32m have been told a false narrative to keep them away from any power.'\u001b[0m,\n",
       "\u001b[2;32m│   │   \u001b[0m\u001b[32m'timestamp'\u001b[0m: \u001b[1;36m1444937416\u001b[0m\n",
       "\u001b[2;32m│   \u001b[0m\u001b[1m}\u001b[0m,\n",
       "\u001b[2;32m│   \u001b[0m\u001b[32m'last_utterance'\u001b[0m: \u001b[1m{\u001b[0m\n",
       "\u001b[2;32m│   │   \u001b[0m\u001b[32m'id'\u001b[0m: \u001b[32m'cw10j65'\u001b[0m,\n",
       "\u001b[2;32m│   │   \u001b[0m\u001b[32m'userid'\u001b[0m: \u001b[32m'JefftheBaptist'\u001b[0m,\n",
       "\u001b[2;32m│   │   \u001b[0m\u001b[32m'text'\u001b[0m: \u001b[32m\"Unions have done a lot of beating as well.  Its not a coincidence that in many areas the union leadership had close ties to organized crime.\\n\\nWithin the last decade we've had unions advocate for changes to labor law like the elimination of secret ballots in unionization votes.  This would allow the unions to spread through intimidation of opposing workers into compliance.\"\u001b[0m,\n",
       "\u001b[2;32m│   │   \u001b[0m\u001b[32m'timestamp'\u001b[0m: \u001b[1;36m1444938688\u001b[0m\n",
       "\u001b[2;32m│   \u001b[0m\u001b[1m}\u001b[0m,\n",
       "\u001b[2;32m│   \u001b[0m\u001b[32m'split'\u001b[0m: \u001b[32m'train'\u001b[0m\n",
       "\u001b[1m}\u001b[0m\n"
      ]
     },
     "metadata": {},
     "output_type": "display_data"
    },
    {
     "name": "stdout",
     "output_type": "stream",
     "text": [
      "Sample 25:\n"
     ]
    },
    {
     "data": {
      "text/html": [
       "<pre style=\"white-space:pre;overflow-x:auto;line-height:normal;font-family:Menlo,'DejaVu Sans Mono',consolas,'Courier New',monospace\"><span style=\"font-weight: bold\">{</span>\n",
       "<span style=\"color: #7fbf7f; text-decoration-color: #7fbf7f\">│   </span><span style=\"color: #008000; text-decoration-color: #008000\">'statement'</span>: <span style=\"color: #008000; text-decoration-color: #008000\">\"Bernie Sanders free public college plan would be a waste of taxpayers dollars and not fix the issue it's seeking to fix\"</span>,\n",
       "<span style=\"color: #7fbf7f; text-decoration-color: #7fbf7f\">│   </span><span style=\"color: #008000; text-decoration-color: #008000\">'submission_id'</span>: <span style=\"color: #008000; text-decoration-color: #008000\">'3pt9b9'</span>,\n",
       "<span style=\"color: #7fbf7f; text-decoration-color: #7fbf7f\">│   </span><span style=\"color: #008000; text-decoration-color: #008000\">'penultimate_utterance'</span>: <span style=\"font-weight: bold\">{</span>\n",
       "<span style=\"color: #7fbf7f; text-decoration-color: #7fbf7f\">│   │   </span><span style=\"color: #008000; text-decoration-color: #008000\">'id'</span>: <span style=\"color: #008000; text-decoration-color: #008000\">'cw9lnm9'</span>,\n",
       "<span style=\"color: #7fbf7f; text-decoration-color: #7fbf7f\">│   │   </span><span style=\"color: #008000; text-decoration-color: #008000\">'userid'</span>: <span style=\"color: #008000; text-decoration-color: #008000\">'daniwoodwardama'</span>,\n",
       "<span style=\"color: #7fbf7f; text-decoration-color: #7fbf7f\">│   │   </span><span style=\"color: #008000; text-decoration-color: #008000\">'text'</span>: <span style=\"color: #008000; text-decoration-color: #008000\">'&gt; So that would make them somewhere around halfway through being 23, on average.\\n\\nThis only proves your original point \"that the average graduation age is 22\" wrong. \\n\\nI\\'m going to stop replying. Your post says you are against \"free college\" but all your responses say it would be a good thing and nothing would change.'</span>,\n",
       "<span style=\"color: #7fbf7f; text-decoration-color: #7fbf7f\">│   │   </span><span style=\"color: #008000; text-decoration-color: #008000\">'timestamp'</span>: <span style=\"color: #008080; text-decoration-color: #008080; font-weight: bold\">1445565558</span>\n",
       "<span style=\"color: #7fbf7f; text-decoration-color: #7fbf7f\">│   </span><span style=\"font-weight: bold\">}</span>,\n",
       "<span style=\"color: #7fbf7f; text-decoration-color: #7fbf7f\">│   </span><span style=\"color: #008000; text-decoration-color: #008000\">'last_utterance'</span>: <span style=\"font-weight: bold\">{</span>\n",
       "<span style=\"color: #7fbf7f; text-decoration-color: #7fbf7f\">│   │   </span><span style=\"color: #008000; text-decoration-color: #008000\">'id'</span>: <span style=\"color: #008000; text-decoration-color: #008000\">'cw9lrpa'</span>,\n",
       "<span style=\"color: #7fbf7f; text-decoration-color: #7fbf7f\">│   │   </span><span style=\"color: #008000; text-decoration-color: #008000\">'userid'</span>: <span style=\"color: #008000; text-decoration-color: #008000\">'ZenerDiod'</span>,\n",
       "<span style=\"color: #7fbf7f; text-decoration-color: #7fbf7f\">│   │   </span><span style=\"color: #008000; text-decoration-color: #008000\">'text'</span>: <span style=\"color: #008000; text-decoration-color: #008000\">'&gt;  Your post says you are against \"free college\" but all your responses say it would be a good thing and nothing would change.\\n\\nI think you need to learn how to read more carefully. Where did I say nothing would change and it would be a good thing?\\n\\n'</span>,\n",
       "<span style=\"color: #7fbf7f; text-decoration-color: #7fbf7f\">│   │   </span><span style=\"color: #008000; text-decoration-color: #008000\">'timestamp'</span>: <span style=\"color: #008080; text-decoration-color: #008080; font-weight: bold\">1445565752</span>\n",
       "<span style=\"color: #7fbf7f; text-decoration-color: #7fbf7f\">│   </span><span style=\"font-weight: bold\">}</span>,\n",
       "<span style=\"color: #7fbf7f; text-decoration-color: #7fbf7f\">│   </span><span style=\"color: #008000; text-decoration-color: #008000\">'split'</span>: <span style=\"color: #008000; text-decoration-color: #008000\">'train'</span>\n",
       "<span style=\"font-weight: bold\">}</span>\n",
       "</pre>\n"
      ],
      "text/plain": [
       "\u001b[1m{\u001b[0m\n",
       "\u001b[2;32m│   \u001b[0m\u001b[32m'statement'\u001b[0m: \u001b[32m\"Bernie Sanders free public college plan would be a waste of taxpayers dollars and not fix the issue it's seeking to fix\"\u001b[0m,\n",
       "\u001b[2;32m│   \u001b[0m\u001b[32m'submission_id'\u001b[0m: \u001b[32m'3pt9b9'\u001b[0m,\n",
       "\u001b[2;32m│   \u001b[0m\u001b[32m'penultimate_utterance'\u001b[0m: \u001b[1m{\u001b[0m\n",
       "\u001b[2;32m│   │   \u001b[0m\u001b[32m'id'\u001b[0m: \u001b[32m'cw9lnm9'\u001b[0m,\n",
       "\u001b[2;32m│   │   \u001b[0m\u001b[32m'userid'\u001b[0m: \u001b[32m'daniwoodwardama'\u001b[0m,\n",
       "\u001b[2;32m│   │   \u001b[0m\u001b[32m'text'\u001b[0m: \u001b[32m'> So that would make them somewhere around halfway through being 23, on average.\\n\\nThis only proves your original point \"that the average graduation age is 22\" wrong. \\n\\nI\\'m going to stop replying. Your post says you are against \"free college\" but all your responses say it would be a good thing and nothing would change.'\u001b[0m,\n",
       "\u001b[2;32m│   │   \u001b[0m\u001b[32m'timestamp'\u001b[0m: \u001b[1;36m1445565558\u001b[0m\n",
       "\u001b[2;32m│   \u001b[0m\u001b[1m}\u001b[0m,\n",
       "\u001b[2;32m│   \u001b[0m\u001b[32m'last_utterance'\u001b[0m: \u001b[1m{\u001b[0m\n",
       "\u001b[2;32m│   │   \u001b[0m\u001b[32m'id'\u001b[0m: \u001b[32m'cw9lrpa'\u001b[0m,\n",
       "\u001b[2;32m│   │   \u001b[0m\u001b[32m'userid'\u001b[0m: \u001b[32m'ZenerDiod'\u001b[0m,\n",
       "\u001b[2;32m│   │   \u001b[0m\u001b[32m'text'\u001b[0m: \u001b[32m'>  Your post says you are against \"free college\" but all your responses say it would be a good thing and nothing would change.\\n\\nI think you need to learn how to read more carefully. Where did I say nothing would change and it would be a good thing?\\n\\n'\u001b[0m,\n",
       "\u001b[2;32m│   │   \u001b[0m\u001b[32m'timestamp'\u001b[0m: \u001b[1;36m1445565752\u001b[0m\n",
       "\u001b[2;32m│   \u001b[0m\u001b[1m}\u001b[0m,\n",
       "\u001b[2;32m│   \u001b[0m\u001b[32m'split'\u001b[0m: \u001b[32m'train'\u001b[0m\n",
       "\u001b[1m}\u001b[0m\n"
      ]
     },
     "metadata": {},
     "output_type": "display_data"
    },
    {
     "name": "stdout",
     "output_type": "stream",
     "text": [
      "Sample 26:\n"
     ]
    },
    {
     "data": {
      "text/html": [
       "<pre style=\"white-space:pre;overflow-x:auto;line-height:normal;font-family:Menlo,'DejaVu Sans Mono',consolas,'Courier New',monospace\"><span style=\"font-weight: bold\">{</span>\n",
       "<span style=\"color: #7fbf7f; text-decoration-color: #7fbf7f\">│   </span><span style=\"color: #008000; text-decoration-color: #008000\">'statement'</span>: <span style=\"color: #008000; text-decoration-color: #008000\">'College campuses should allow pro-life activists to speak/set up booths, etc. without being ridiculed and laughed at'</span>,\n",
       "<span style=\"color: #7fbf7f; text-decoration-color: #7fbf7f\">│   </span><span style=\"color: #008000; text-decoration-color: #008000\">'submission_id'</span>: <span style=\"color: #008000; text-decoration-color: #008000\">'3pyesp'</span>,\n",
       "<span style=\"color: #7fbf7f; text-decoration-color: #7fbf7f\">│   </span><span style=\"color: #008000; text-decoration-color: #008000\">'penultimate_utterance'</span>: <span style=\"font-weight: bold\">{</span>\n",
       "<span style=\"color: #7fbf7f; text-decoration-color: #7fbf7f\">│   │   </span><span style=\"color: #008000; text-decoration-color: #008000\">'id'</span>: <span style=\"color: #008000; text-decoration-color: #008000\">'cwankzi'</span>,\n",
       "<span style=\"color: #7fbf7f; text-decoration-color: #7fbf7f\">│   │   </span><span style=\"color: #008000; text-decoration-color: #008000\">'userid'</span>: <span style=\"color: #008000; text-decoration-color: #008000\">'ddvvbhn'</span>,\n",
       "<span style=\"color: #7fbf7f; text-decoration-color: #7fbf7f\">│   │   </span><span style=\"color: #008000; text-decoration-color: #008000\">'text'</span>: <span style=\"color: #008000; text-decoration-color: #008000\">'Half of the population is pro-life.  It\\'s been that way for at least 20 years.\\n\\nWhat is it with liberals calling views that 40% of the population agree with \"minority\" or \"extreme\"?  Is it to try to make their views seem like the only valid ones out there?'</span>,\n",
       "<span style=\"color: #7fbf7f; text-decoration-color: #7fbf7f\">│   │   </span><span style=\"color: #008000; text-decoration-color: #008000\">'timestamp'</span>: <span style=\"color: #008080; text-decoration-color: #008080; font-weight: bold\">1445644831</span>\n",
       "<span style=\"color: #7fbf7f; text-decoration-color: #7fbf7f\">│   </span><span style=\"font-weight: bold\">}</span>,\n",
       "<span style=\"color: #7fbf7f; text-decoration-color: #7fbf7f\">│   </span><span style=\"color: #008000; text-decoration-color: #008000\">'last_utterance'</span>: <span style=\"font-weight: bold\">{</span>\n",
       "<span style=\"color: #7fbf7f; text-decoration-color: #7fbf7f\">│   │   </span><span style=\"color: #008000; text-decoration-color: #008000\">'id'</span>: <span style=\"color: #008000; text-decoration-color: #008000\">'cwaw98i'</span>,\n",
       "<span style=\"color: #7fbf7f; text-decoration-color: #7fbf7f\">│   │   </span><span style=\"color: #008000; text-decoration-color: #008000\">'userid'</span>: <span style=\"color: #008000; text-decoration-color: #008000\">'silverence'</span>,\n",
       "<span style=\"color: #7fbf7f; text-decoration-color: #7fbf7f\">│   │   </span><span style=\"color: #008000; text-decoration-color: #008000\">'text'</span>: <span style=\"color: #008000; text-decoration-color: #008000\">\"Notice how I said people on university campuses, which absolutely tend to be more pro-choice.\\n\\nAlso notice how I didn't take one position or the other. I stated facts. What is it with conservatives that make them automatically assume they know someone else's position when discussing divisive issues? Is it because they just tend to rely on stereotypes and generalizations, or is it just their pathetic persecution complexes?\"</span>,\n",
       "<span style=\"color: #7fbf7f; text-decoration-color: #7fbf7f\">│   │   </span><span style=\"color: #008000; text-decoration-color: #008000\">'timestamp'</span>: <span style=\"color: #008080; text-decoration-color: #008080; font-weight: bold\">1445662316</span>\n",
       "<span style=\"color: #7fbf7f; text-decoration-color: #7fbf7f\">│   </span><span style=\"font-weight: bold\">}</span>,\n",
       "<span style=\"color: #7fbf7f; text-decoration-color: #7fbf7f\">│   </span><span style=\"color: #008000; text-decoration-color: #008000\">'split'</span>: <span style=\"color: #008000; text-decoration-color: #008000\">'train'</span>\n",
       "<span style=\"font-weight: bold\">}</span>\n",
       "</pre>\n"
      ],
      "text/plain": [
       "\u001b[1m{\u001b[0m\n",
       "\u001b[2;32m│   \u001b[0m\u001b[32m'statement'\u001b[0m: \u001b[32m'College campuses should allow pro-life activists to speak/set up booths, etc. without being ridiculed and laughed at'\u001b[0m,\n",
       "\u001b[2;32m│   \u001b[0m\u001b[32m'submission_id'\u001b[0m: \u001b[32m'3pyesp'\u001b[0m,\n",
       "\u001b[2;32m│   \u001b[0m\u001b[32m'penultimate_utterance'\u001b[0m: \u001b[1m{\u001b[0m\n",
       "\u001b[2;32m│   │   \u001b[0m\u001b[32m'id'\u001b[0m: \u001b[32m'cwankzi'\u001b[0m,\n",
       "\u001b[2;32m│   │   \u001b[0m\u001b[32m'userid'\u001b[0m: \u001b[32m'ddvvbhn'\u001b[0m,\n",
       "\u001b[2;32m│   │   \u001b[0m\u001b[32m'text'\u001b[0m: \u001b[32m'Half of the population is pro-life.  It\\'s been that way for at least 20 years.\\n\\nWhat is it with liberals calling views that 40% of the population agree with \"minority\" or \"extreme\"?  Is it to try to make their views seem like the only valid ones out there?'\u001b[0m,\n",
       "\u001b[2;32m│   │   \u001b[0m\u001b[32m'timestamp'\u001b[0m: \u001b[1;36m1445644831\u001b[0m\n",
       "\u001b[2;32m│   \u001b[0m\u001b[1m}\u001b[0m,\n",
       "\u001b[2;32m│   \u001b[0m\u001b[32m'last_utterance'\u001b[0m: \u001b[1m{\u001b[0m\n",
       "\u001b[2;32m│   │   \u001b[0m\u001b[32m'id'\u001b[0m: \u001b[32m'cwaw98i'\u001b[0m,\n",
       "\u001b[2;32m│   │   \u001b[0m\u001b[32m'userid'\u001b[0m: \u001b[32m'silverence'\u001b[0m,\n",
       "\u001b[2;32m│   │   \u001b[0m\u001b[32m'text'\u001b[0m: \u001b[32m\"Notice how I said people on university campuses, which absolutely tend to be more pro-choice.\\n\\nAlso notice how I didn't take one position or the other. I stated facts. What is it with conservatives that make them automatically assume they know someone else's position when discussing divisive issues? Is it because they just tend to rely on stereotypes and generalizations, or is it just their pathetic persecution complexes?\"\u001b[0m,\n",
       "\u001b[2;32m│   │   \u001b[0m\u001b[32m'timestamp'\u001b[0m: \u001b[1;36m1445662316\u001b[0m\n",
       "\u001b[2;32m│   \u001b[0m\u001b[1m}\u001b[0m,\n",
       "\u001b[2;32m│   \u001b[0m\u001b[32m'split'\u001b[0m: \u001b[32m'train'\u001b[0m\n",
       "\u001b[1m}\u001b[0m\n"
      ]
     },
     "metadata": {},
     "output_type": "display_data"
    },
    {
     "name": "stdout",
     "output_type": "stream",
     "text": [
      "Sample 27:\n"
     ]
    },
    {
     "data": {
      "text/html": [
       "<pre style=\"white-space:pre;overflow-x:auto;line-height:normal;font-family:Menlo,'DejaVu Sans Mono',consolas,'Courier New',monospace\"><span style=\"font-weight: bold\">{</span>\n",
       "<span style=\"color: #7fbf7f; text-decoration-color: #7fbf7f\">│   </span><span style=\"color: #008000; text-decoration-color: #008000\">'statement'</span>: <span style=\"color: #008000; text-decoration-color: #008000\">'There is no sound reason to vote Republican this time around.'</span>,\n",
       "<span style=\"color: #7fbf7f; text-decoration-color: #7fbf7f\">│   </span><span style=\"color: #008000; text-decoration-color: #008000\">'submission_id'</span>: <span style=\"color: #008000; text-decoration-color: #008000\">'3q27mk'</span>,\n",
       "<span style=\"color: #7fbf7f; text-decoration-color: #7fbf7f\">│   </span><span style=\"color: #008000; text-decoration-color: #008000\">'penultimate_utterance'</span>: <span style=\"font-weight: bold\">{</span>\n",
       "<span style=\"color: #7fbf7f; text-decoration-color: #7fbf7f\">│   │   </span><span style=\"color: #008000; text-decoration-color: #008000\">'id'</span>: <span style=\"color: #008000; text-decoration-color: #008000\">'cwc50s4'</span>,\n",
       "<span style=\"color: #7fbf7f; text-decoration-color: #7fbf7f\">│   │   </span><span style=\"color: #008000; text-decoration-color: #008000\">'userid'</span>: <span style=\"color: #008000; text-decoration-color: #008000\">'yogfthagen'</span>,\n",
       "<span style=\"color: #7fbf7f; text-decoration-color: #7fbf7f\">│   │   </span><span style=\"color: #008000; text-decoration-color: #008000\">'text'</span>: <span style=\"color: #008000; text-decoration-color: #008000\">'Sanders is middle of the road for the entire EU. The GOP has no analogue in the developed world. You need to look to Islamic theocracies to approach the same positions. '</span>,\n",
       "<span style=\"color: #7fbf7f; text-decoration-color: #7fbf7f\">│   │   </span><span style=\"color: #008000; text-decoration-color: #008000\">'timestamp'</span>: <span style=\"color: #008080; text-decoration-color: #008080; font-weight: bold\">1445780504</span>\n",
       "<span style=\"color: #7fbf7f; text-decoration-color: #7fbf7f\">│   </span><span style=\"font-weight: bold\">}</span>,\n",
       "<span style=\"color: #7fbf7f; text-decoration-color: #7fbf7f\">│   </span><span style=\"color: #008000; text-decoration-color: #008000\">'last_utterance'</span>: <span style=\"font-weight: bold\">{</span>\n",
       "<span style=\"color: #7fbf7f; text-decoration-color: #7fbf7f\">│   │   </span><span style=\"color: #008000; text-decoration-color: #008000\">'id'</span>: <span style=\"color: #008000; text-decoration-color: #008000\">'cwc6z4y'</span>,\n",
       "<span style=\"color: #7fbf7f; text-decoration-color: #7fbf7f\">│   │   </span><span style=\"color: #008000; text-decoration-color: #008000\">'userid'</span>: <span style=\"color: #008000; text-decoration-color: #008000\">'DallasStars1999'</span>,\n",
       "<span style=\"color: #7fbf7f; text-decoration-color: #7fbf7f\">│   │   </span><span style=\"color: #008000; text-decoration-color: #008000\">'text'</span>: <span style=\"color: #008000; text-decoration-color: #008000\">'America became the most powerful country in the world never trying to be like the EU. '</span>,\n",
       "<span style=\"color: #7fbf7f; text-decoration-color: #7fbf7f\">│   │   </span><span style=\"color: #008000; text-decoration-color: #008000\">'timestamp'</span>: <span style=\"color: #008080; text-decoration-color: #008080; font-weight: bold\">1445784694</span>\n",
       "<span style=\"color: #7fbf7f; text-decoration-color: #7fbf7f\">│   </span><span style=\"font-weight: bold\">}</span>,\n",
       "<span style=\"color: #7fbf7f; text-decoration-color: #7fbf7f\">│   </span><span style=\"color: #008000; text-decoration-color: #008000\">'split'</span>: <span style=\"color: #008000; text-decoration-color: #008000\">'train'</span>\n",
       "<span style=\"font-weight: bold\">}</span>\n",
       "</pre>\n"
      ],
      "text/plain": [
       "\u001b[1m{\u001b[0m\n",
       "\u001b[2;32m│   \u001b[0m\u001b[32m'statement'\u001b[0m: \u001b[32m'There is no sound reason to vote Republican this time around.'\u001b[0m,\n",
       "\u001b[2;32m│   \u001b[0m\u001b[32m'submission_id'\u001b[0m: \u001b[32m'3q27mk'\u001b[0m,\n",
       "\u001b[2;32m│   \u001b[0m\u001b[32m'penultimate_utterance'\u001b[0m: \u001b[1m{\u001b[0m\n",
       "\u001b[2;32m│   │   \u001b[0m\u001b[32m'id'\u001b[0m: \u001b[32m'cwc50s4'\u001b[0m,\n",
       "\u001b[2;32m│   │   \u001b[0m\u001b[32m'userid'\u001b[0m: \u001b[32m'yogfthagen'\u001b[0m,\n",
       "\u001b[2;32m│   │   \u001b[0m\u001b[32m'text'\u001b[0m: \u001b[32m'Sanders is middle of the road for the entire EU. The GOP has no analogue in the developed world. You need to look to Islamic theocracies to approach the same positions. '\u001b[0m,\n",
       "\u001b[2;32m│   │   \u001b[0m\u001b[32m'timestamp'\u001b[0m: \u001b[1;36m1445780504\u001b[0m\n",
       "\u001b[2;32m│   \u001b[0m\u001b[1m}\u001b[0m,\n",
       "\u001b[2;32m│   \u001b[0m\u001b[32m'last_utterance'\u001b[0m: \u001b[1m{\u001b[0m\n",
       "\u001b[2;32m│   │   \u001b[0m\u001b[32m'id'\u001b[0m: \u001b[32m'cwc6z4y'\u001b[0m,\n",
       "\u001b[2;32m│   │   \u001b[0m\u001b[32m'userid'\u001b[0m: \u001b[32m'DallasStars1999'\u001b[0m,\n",
       "\u001b[2;32m│   │   \u001b[0m\u001b[32m'text'\u001b[0m: \u001b[32m'America became the most powerful country in the world never trying to be like the EU. '\u001b[0m,\n",
       "\u001b[2;32m│   │   \u001b[0m\u001b[32m'timestamp'\u001b[0m: \u001b[1;36m1445784694\u001b[0m\n",
       "\u001b[2;32m│   \u001b[0m\u001b[1m}\u001b[0m,\n",
       "\u001b[2;32m│   \u001b[0m\u001b[32m'split'\u001b[0m: \u001b[32m'train'\u001b[0m\n",
       "\u001b[1m}\u001b[0m\n"
      ]
     },
     "metadata": {},
     "output_type": "display_data"
    },
    {
     "name": "stdout",
     "output_type": "stream",
     "text": [
      "Sample 29:\n"
     ]
    },
    {
     "data": {
      "text/html": [
       "<pre style=\"white-space:pre;overflow-x:auto;line-height:normal;font-family:Menlo,'DejaVu Sans Mono',consolas,'Courier New',monospace\"><span style=\"font-weight: bold\">{</span>\n",
       "<span style=\"color: #7fbf7f; text-decoration-color: #7fbf7f\">│   </span><span style=\"color: #008000; text-decoration-color: #008000\">'statement'</span>: <span style=\"color: #008000; text-decoration-color: #008000\">\"Im not wrong for thinking everyone (who's reading this) should be a vegetarian. It is undeniable the vegetarianism is ethically superior to eating meat.\"</span>,\n",
       "<span style=\"color: #7fbf7f; text-decoration-color: #7fbf7f\">│   </span><span style=\"color: #008000; text-decoration-color: #008000\">'submission_id'</span>: <span style=\"color: #008000; text-decoration-color: #008000\">'3r6gim'</span>,\n",
       "<span style=\"color: #7fbf7f; text-decoration-color: #7fbf7f\">│   </span><span style=\"color: #008000; text-decoration-color: #008000\">'penultimate_utterance'</span>: <span style=\"font-weight: bold\">{</span>\n",
       "<span style=\"color: #7fbf7f; text-decoration-color: #7fbf7f\">│   │   </span><span style=\"color: #008000; text-decoration-color: #008000\">'id'</span>: <span style=\"color: #008000; text-decoration-color: #008000\">'cwle8p1'</span>,\n",
       "<span style=\"color: #7fbf7f; text-decoration-color: #7fbf7f\">│   │   </span><span style=\"color: #008000; text-decoration-color: #008000\">'userid'</span>: <span style=\"color: #008000; text-decoration-color: #008000\">'cdb03b'</span>,\n",
       "<span style=\"color: #7fbf7f; text-decoration-color: #7fbf7f\">│   │   </span><span style=\"color: #008000; text-decoration-color: #008000\">'text'</span>: <span style=\"color: #008000; text-decoration-color: #008000\">'Rape is not a factor born of evolution. It is a social phenomena. '</span>,\n",
       "<span style=\"color: #7fbf7f; text-decoration-color: #7fbf7f\">│   │   </span><span style=\"color: #008000; text-decoration-color: #008000\">'timestamp'</span>: <span style=\"color: #008080; text-decoration-color: #008080; font-weight: bold\">1446449524</span>\n",
       "<span style=\"color: #7fbf7f; text-decoration-color: #7fbf7f\">│   </span><span style=\"font-weight: bold\">}</span>,\n",
       "<span style=\"color: #7fbf7f; text-decoration-color: #7fbf7f\">│   </span><span style=\"color: #008000; text-decoration-color: #008000\">'last_utterance'</span>: <span style=\"font-weight: bold\">{</span>\n",
       "<span style=\"color: #7fbf7f; text-decoration-color: #7fbf7f\">│   │   </span><span style=\"color: #008000; text-decoration-color: #008000\">'id'</span>: <span style=\"color: #008000; text-decoration-color: #008000\">'cwlecms'</span>,\n",
       "<span style=\"color: #7fbf7f; text-decoration-color: #7fbf7f\">│   │   </span><span style=\"color: #008000; text-decoration-color: #008000\">'userid'</span>: <span style=\"color: #008000; text-decoration-color: #008000\">'noluv4uhoes'</span>,\n",
       "<span style=\"color: #7fbf7f; text-decoration-color: #7fbf7f\">│   │   </span><span style=\"color: #008000; text-decoration-color: #008000\">'text'</span>: <span style=\"color: #008000; text-decoration-color: #008000\">\"Every single thing we do is borne of evolution. Everything we do is also social phenomena. You dont seem to properly understand the things you say.\\n\\nYou're saying that we evolved to eat meat, so we should.\\n\\nWe evolved to rape too, so you're saying we should do that too.\"</span>,\n",
       "<span style=\"color: #7fbf7f; text-decoration-color: #7fbf7f\">│   │   </span><span style=\"color: #008000; text-decoration-color: #008000\">'timestamp'</span>: <span style=\"color: #008080; text-decoration-color: #008080; font-weight: bold\">1446449915</span>\n",
       "<span style=\"color: #7fbf7f; text-decoration-color: #7fbf7f\">│   </span><span style=\"font-weight: bold\">}</span>,\n",
       "<span style=\"color: #7fbf7f; text-decoration-color: #7fbf7f\">│   </span><span style=\"color: #008000; text-decoration-color: #008000\">'split'</span>: <span style=\"color: #008000; text-decoration-color: #008000\">'train'</span>\n",
       "<span style=\"font-weight: bold\">}</span>\n",
       "</pre>\n"
      ],
      "text/plain": [
       "\u001b[1m{\u001b[0m\n",
       "\u001b[2;32m│   \u001b[0m\u001b[32m'statement'\u001b[0m: \u001b[32m\"Im not wrong for thinking everyone \u001b[0m\u001b[32m(\u001b[0m\u001b[32mwho's reading this\u001b[0m\u001b[32m)\u001b[0m\u001b[32m should be a vegetarian. It is undeniable the vegetarianism is ethically superior to eating meat.\"\u001b[0m,\n",
       "\u001b[2;32m│   \u001b[0m\u001b[32m'submission_id'\u001b[0m: \u001b[32m'3r6gim'\u001b[0m,\n",
       "\u001b[2;32m│   \u001b[0m\u001b[32m'penultimate_utterance'\u001b[0m: \u001b[1m{\u001b[0m\n",
       "\u001b[2;32m│   │   \u001b[0m\u001b[32m'id'\u001b[0m: \u001b[32m'cwle8p1'\u001b[0m,\n",
       "\u001b[2;32m│   │   \u001b[0m\u001b[32m'userid'\u001b[0m: \u001b[32m'cdb03b'\u001b[0m,\n",
       "\u001b[2;32m│   │   \u001b[0m\u001b[32m'text'\u001b[0m: \u001b[32m'Rape is not a factor born of evolution. It is a social phenomena. '\u001b[0m,\n",
       "\u001b[2;32m│   │   \u001b[0m\u001b[32m'timestamp'\u001b[0m: \u001b[1;36m1446449524\u001b[0m\n",
       "\u001b[2;32m│   \u001b[0m\u001b[1m}\u001b[0m,\n",
       "\u001b[2;32m│   \u001b[0m\u001b[32m'last_utterance'\u001b[0m: \u001b[1m{\u001b[0m\n",
       "\u001b[2;32m│   │   \u001b[0m\u001b[32m'id'\u001b[0m: \u001b[32m'cwlecms'\u001b[0m,\n",
       "\u001b[2;32m│   │   \u001b[0m\u001b[32m'userid'\u001b[0m: \u001b[32m'noluv4uhoes'\u001b[0m,\n",
       "\u001b[2;32m│   │   \u001b[0m\u001b[32m'text'\u001b[0m: \u001b[32m\"Every single thing we do is borne of evolution. Everything we do is also social phenomena. You dont seem to properly understand the things you say.\\n\\nYou're saying that we evolved to eat meat, so we should.\\n\\nWe evolved to rape too, so you're saying we should do that too.\"\u001b[0m,\n",
       "\u001b[2;32m│   │   \u001b[0m\u001b[32m'timestamp'\u001b[0m: \u001b[1;36m1446449915\u001b[0m\n",
       "\u001b[2;32m│   \u001b[0m\u001b[1m}\u001b[0m,\n",
       "\u001b[2;32m│   \u001b[0m\u001b[32m'split'\u001b[0m: \u001b[32m'train'\u001b[0m\n",
       "\u001b[1m}\u001b[0m\n"
      ]
     },
     "metadata": {},
     "output_type": "display_data"
    },
    {
     "name": "stdout",
     "output_type": "stream",
     "text": [
      "Sample 30:\n"
     ]
    },
    {
     "data": {
      "text/html": [
       "<pre style=\"white-space:pre;overflow-x:auto;line-height:normal;font-family:Menlo,'DejaVu Sans Mono',consolas,'Courier New',monospace\"><span style=\"font-weight: bold\">{</span>\n",
       "<span style=\"color: #7fbf7f; text-decoration-color: #7fbf7f\">│   </span><span style=\"color: #008000; text-decoration-color: #008000\">'statement'</span>: <span style=\"color: #008000; text-decoration-color: #008000\">'The people protesting University of Missouri accusing the community and the president of the school of \"systematic\" racism are not being reasonable at all.'</span>,\n",
       "<span style=\"color: #7fbf7f; text-decoration-color: #7fbf7f\">│   </span><span style=\"color: #008000; text-decoration-color: #008000\">'submission_id'</span>: <span style=\"color: #008000; text-decoration-color: #008000\">'3s5dha'</span>,\n",
       "<span style=\"color: #7fbf7f; text-decoration-color: #7fbf7f\">│   </span><span style=\"color: #008000; text-decoration-color: #008000\">'penultimate_utterance'</span>: <span style=\"font-weight: bold\">{</span>\n",
       "<span style=\"color: #7fbf7f; text-decoration-color: #7fbf7f\">│   │   </span><span style=\"color: #008000; text-decoration-color: #008000\">'id'</span>: <span style=\"color: #008000; text-decoration-color: #008000\">'cwul2lj'</span>,\n",
       "<span style=\"color: #7fbf7f; text-decoration-color: #7fbf7f\">│   │   </span><span style=\"color: #008000; text-decoration-color: #008000\">'userid'</span>: <span style=\"color: #008000; text-decoration-color: #008000\">'TroubleYouForTheSalt'</span>,\n",
       "<span style=\"color: #7fbf7f; text-decoration-color: #7fbf7f\">│   │   </span><span style=\"color: #008000; text-decoration-color: #008000\">'text'</span>: <span style=\"color: #008000; text-decoration-color: #008000\">'We get it, you have nothing to offer but solipsisms. Thanks. '</span>,\n",
       "<span style=\"color: #7fbf7f; text-decoration-color: #7fbf7f\">│   │   </span><span style=\"color: #008000; text-decoration-color: #008000\">'timestamp'</span>: <span style=\"color: #008080; text-decoration-color: #008080; font-weight: bold\">1447106088</span>\n",
       "<span style=\"color: #7fbf7f; text-decoration-color: #7fbf7f\">│   </span><span style=\"font-weight: bold\">}</span>,\n",
       "<span style=\"color: #7fbf7f; text-decoration-color: #7fbf7f\">│   </span><span style=\"color: #008000; text-decoration-color: #008000\">'last_utterance'</span>: <span style=\"font-weight: bold\">{</span>\n",
       "<span style=\"color: #7fbf7f; text-decoration-color: #7fbf7f\">│   │   </span><span style=\"color: #008000; text-decoration-color: #008000\">'id'</span>: <span style=\"color: #008000; text-decoration-color: #008000\">'cwurx5l'</span>,\n",
       "<span style=\"color: #7fbf7f; text-decoration-color: #7fbf7f\">│   │   </span><span style=\"color: #008000; text-decoration-color: #008000\">'userid'</span>: <span style=\"color: #008000; text-decoration-color: #008000\">'StumbleOn'</span>,\n",
       "<span style=\"color: #7fbf7f; text-decoration-color: #7fbf7f\">│   │   </span><span style=\"color: #008000; text-decoration-color: #008000\">'text'</span>: <span style=\"color: #008000; text-decoration-color: #008000\">'Perhaps you should listen more carefully to understand your question and premise are the problem. '</span>,\n",
       "<span style=\"color: #7fbf7f; text-decoration-color: #7fbf7f\">│   │   </span><span style=\"color: #008000; text-decoration-color: #008000\">'timestamp'</span>: <span style=\"color: #008080; text-decoration-color: #008080; font-weight: bold\">1447116724</span>\n",
       "<span style=\"color: #7fbf7f; text-decoration-color: #7fbf7f\">│   </span><span style=\"font-weight: bold\">}</span>,\n",
       "<span style=\"color: #7fbf7f; text-decoration-color: #7fbf7f\">│   </span><span style=\"color: #008000; text-decoration-color: #008000\">'split'</span>: <span style=\"color: #008000; text-decoration-color: #008000\">'train'</span>\n",
       "<span style=\"font-weight: bold\">}</span>\n",
       "</pre>\n"
      ],
      "text/plain": [
       "\u001b[1m{\u001b[0m\n",
       "\u001b[2;32m│   \u001b[0m\u001b[32m'statement'\u001b[0m: \u001b[32m'The people protesting University of Missouri accusing the community and the president of the school of \"systematic\" racism are not being reasonable at all.'\u001b[0m,\n",
       "\u001b[2;32m│   \u001b[0m\u001b[32m'submission_id'\u001b[0m: \u001b[32m'3s5dha'\u001b[0m,\n",
       "\u001b[2;32m│   \u001b[0m\u001b[32m'penultimate_utterance'\u001b[0m: \u001b[1m{\u001b[0m\n",
       "\u001b[2;32m│   │   \u001b[0m\u001b[32m'id'\u001b[0m: \u001b[32m'cwul2lj'\u001b[0m,\n",
       "\u001b[2;32m│   │   \u001b[0m\u001b[32m'userid'\u001b[0m: \u001b[32m'TroubleYouForTheSalt'\u001b[0m,\n",
       "\u001b[2;32m│   │   \u001b[0m\u001b[32m'text'\u001b[0m: \u001b[32m'We get it, you have nothing to offer but solipsisms. Thanks. '\u001b[0m,\n",
       "\u001b[2;32m│   │   \u001b[0m\u001b[32m'timestamp'\u001b[0m: \u001b[1;36m1447106088\u001b[0m\n",
       "\u001b[2;32m│   \u001b[0m\u001b[1m}\u001b[0m,\n",
       "\u001b[2;32m│   \u001b[0m\u001b[32m'last_utterance'\u001b[0m: \u001b[1m{\u001b[0m\n",
       "\u001b[2;32m│   │   \u001b[0m\u001b[32m'id'\u001b[0m: \u001b[32m'cwurx5l'\u001b[0m,\n",
       "\u001b[2;32m│   │   \u001b[0m\u001b[32m'userid'\u001b[0m: \u001b[32m'StumbleOn'\u001b[0m,\n",
       "\u001b[2;32m│   │   \u001b[0m\u001b[32m'text'\u001b[0m: \u001b[32m'Perhaps you should listen more carefully to understand your question and premise are the problem. '\u001b[0m,\n",
       "\u001b[2;32m│   │   \u001b[0m\u001b[32m'timestamp'\u001b[0m: \u001b[1;36m1447116724\u001b[0m\n",
       "\u001b[2;32m│   \u001b[0m\u001b[1m}\u001b[0m,\n",
       "\u001b[2;32m│   \u001b[0m\u001b[32m'split'\u001b[0m: \u001b[32m'train'\u001b[0m\n",
       "\u001b[1m}\u001b[0m\n"
      ]
     },
     "metadata": {},
     "output_type": "display_data"
    },
    {
     "name": "stdout",
     "output_type": "stream",
     "text": [
      "Sample 40:\n"
     ]
    },
    {
     "data": {
      "text/html": [
       "<pre style=\"white-space:pre;overflow-x:auto;line-height:normal;font-family:Menlo,'DejaVu Sans Mono',consolas,'Courier New',monospace\"><span style=\"font-weight: bold\">{</span>\n",
       "<span style=\"color: #7fbf7f; text-decoration-color: #7fbf7f\">│   </span><span style=\"color: #008000; text-decoration-color: #008000\">'statement'</span>: <span style=\"color: #008000; text-decoration-color: #008000\">'Race-based affirmative action in college admissions is completely unfair'</span>,\n",
       "<span style=\"color: #7fbf7f; text-decoration-color: #7fbf7f\">│   </span><span style=\"color: #008000; text-decoration-color: #008000\">'submission_id'</span>: <span style=\"color: #008000; text-decoration-color: #008000\">'3wln4u'</span>,\n",
       "<span style=\"color: #7fbf7f; text-decoration-color: #7fbf7f\">│   </span><span style=\"color: #008000; text-decoration-color: #008000\">'penultimate_utterance'</span>: <span style=\"font-weight: bold\">{</span>\n",
       "<span style=\"color: #7fbf7f; text-decoration-color: #7fbf7f\">│   │   </span><span style=\"color: #008000; text-decoration-color: #008000\">'id'</span>: <span style=\"color: #008000; text-decoration-color: #008000\">'cxx6cgo'</span>,\n",
       "<span style=\"color: #7fbf7f; text-decoration-color: #7fbf7f\">│   │   </span><span style=\"color: #008000; text-decoration-color: #008000\">'userid'</span>: <span style=\"color: #008000; text-decoration-color: #008000\">'kepold'</span>,\n",
       "<span style=\"color: #7fbf7f; text-decoration-color: #7fbf7f\">│   │   </span><span style=\"color: #008000; text-decoration-color: #008000\">'text'</span>: <span style=\"color: #008000; text-decoration-color: #008000\">'they do indirectly, for example, the school knows about scholarship requests and loan applications and such.'</span>,\n",
       "<span style=\"color: #7fbf7f; text-decoration-color: #7fbf7f\">│   │   </span><span style=\"color: #008000; text-decoration-color: #008000\">'timestamp'</span>: <span style=\"color: #008080; text-decoration-color: #008080; font-weight: bold\">1449980804</span>\n",
       "<span style=\"color: #7fbf7f; text-decoration-color: #7fbf7f\">│   </span><span style=\"font-weight: bold\">}</span>,\n",
       "<span style=\"color: #7fbf7f; text-decoration-color: #7fbf7f\">│   </span><span style=\"color: #008000; text-decoration-color: #008000\">'last_utterance'</span>: <span style=\"font-weight: bold\">{</span>\n",
       "<span style=\"color: #7fbf7f; text-decoration-color: #7fbf7f\">│   │   </span><span style=\"color: #008000; text-decoration-color: #008000\">'id'</span>: <span style=\"color: #008000; text-decoration-color: #008000\">'cxx6mho'</span>,\n",
       "<span style=\"color: #7fbf7f; text-decoration-color: #7fbf7f\">│   │   </span><span style=\"color: #008000; text-decoration-color: #008000\">'userid'</span>: <span style=\"color: #008000; text-decoration-color: #008000\">'twinshk2'</span>,\n",
       "<span style=\"color: #7fbf7f; text-decoration-color: #7fbf7f\">│   │   </span><span style=\"color: #008000; text-decoration-color: #008000\">'text'</span>: <span style=\"color: #008000; text-decoration-color: #008000\">'Then what about white household wealth? '</span>,\n",
       "<span style=\"color: #7fbf7f; text-decoration-color: #7fbf7f\">│   │   </span><span style=\"color: #008000; text-decoration-color: #008000\">'timestamp'</span>: <span style=\"color: #008080; text-decoration-color: #008080; font-weight: bold\">1449981400</span>\n",
       "<span style=\"color: #7fbf7f; text-decoration-color: #7fbf7f\">│   </span><span style=\"font-weight: bold\">}</span>,\n",
       "<span style=\"color: #7fbf7f; text-decoration-color: #7fbf7f\">│   </span><span style=\"color: #008000; text-decoration-color: #008000\">'split'</span>: <span style=\"color: #008000; text-decoration-color: #008000\">'train'</span>\n",
       "<span style=\"font-weight: bold\">}</span>\n",
       "</pre>\n"
      ],
      "text/plain": [
       "\u001b[1m{\u001b[0m\n",
       "\u001b[2;32m│   \u001b[0m\u001b[32m'statement'\u001b[0m: \u001b[32m'Race-based affirmative action in college admissions is completely unfair'\u001b[0m,\n",
       "\u001b[2;32m│   \u001b[0m\u001b[32m'submission_id'\u001b[0m: \u001b[32m'3wln4u'\u001b[0m,\n",
       "\u001b[2;32m│   \u001b[0m\u001b[32m'penultimate_utterance'\u001b[0m: \u001b[1m{\u001b[0m\n",
       "\u001b[2;32m│   │   \u001b[0m\u001b[32m'id'\u001b[0m: \u001b[32m'cxx6cgo'\u001b[0m,\n",
       "\u001b[2;32m│   │   \u001b[0m\u001b[32m'userid'\u001b[0m: \u001b[32m'kepold'\u001b[0m,\n",
       "\u001b[2;32m│   │   \u001b[0m\u001b[32m'text'\u001b[0m: \u001b[32m'they do indirectly, for example, the school knows about scholarship requests and loan applications and such.'\u001b[0m,\n",
       "\u001b[2;32m│   │   \u001b[0m\u001b[32m'timestamp'\u001b[0m: \u001b[1;36m1449980804\u001b[0m\n",
       "\u001b[2;32m│   \u001b[0m\u001b[1m}\u001b[0m,\n",
       "\u001b[2;32m│   \u001b[0m\u001b[32m'last_utterance'\u001b[0m: \u001b[1m{\u001b[0m\n",
       "\u001b[2;32m│   │   \u001b[0m\u001b[32m'id'\u001b[0m: \u001b[32m'cxx6mho'\u001b[0m,\n",
       "\u001b[2;32m│   │   \u001b[0m\u001b[32m'userid'\u001b[0m: \u001b[32m'twinshk2'\u001b[0m,\n",
       "\u001b[2;32m│   │   \u001b[0m\u001b[32m'text'\u001b[0m: \u001b[32m'Then what about white household wealth? '\u001b[0m,\n",
       "\u001b[2;32m│   │   \u001b[0m\u001b[32m'timestamp'\u001b[0m: \u001b[1;36m1449981400\u001b[0m\n",
       "\u001b[2;32m│   \u001b[0m\u001b[1m}\u001b[0m,\n",
       "\u001b[2;32m│   \u001b[0m\u001b[32m'split'\u001b[0m: \u001b[32m'train'\u001b[0m\n",
       "\u001b[1m}\u001b[0m\n"
      ]
     },
     "metadata": {},
     "output_type": "display_data"
    },
    {
     "name": "stdout",
     "output_type": "stream",
     "text": [
      "Sample 43:\n"
     ]
    },
    {
     "data": {
      "text/html": [
       "<pre style=\"white-space:pre;overflow-x:auto;line-height:normal;font-family:Menlo,'DejaVu Sans Mono',consolas,'Courier New',monospace\"><span style=\"font-weight: bold\">{</span>\n",
       "<span style=\"color: #7fbf7f; text-decoration-color: #7fbf7f\">│   </span><span style=\"color: #008000; text-decoration-color: #008000\">'statement'</span>: <span style=\"color: #008000; text-decoration-color: #008000\">'I think the need for diversity is stupid.'</span>,\n",
       "<span style=\"color: #7fbf7f; text-decoration-color: #7fbf7f\">│   </span><span style=\"color: #008000; text-decoration-color: #008000\">'submission_id'</span>: <span style=\"color: #008000; text-decoration-color: #008000\">'3xaddy'</span>,\n",
       "<span style=\"color: #7fbf7f; text-decoration-color: #7fbf7f\">│   </span><span style=\"color: #008000; text-decoration-color: #008000\">'penultimate_utterance'</span>: <span style=\"font-weight: bold\">{</span>\n",
       "<span style=\"color: #7fbf7f; text-decoration-color: #7fbf7f\">│   │   </span><span style=\"color: #008000; text-decoration-color: #008000\">'id'</span>: <span style=\"color: #008000; text-decoration-color: #008000\">'cyc4pv6'</span>,\n",
       "<span style=\"color: #7fbf7f; text-decoration-color: #7fbf7f\">│   │   </span><span style=\"color: #008000; text-decoration-color: #008000\">'userid'</span>: <span style=\"color: #008000; text-decoration-color: #008000\">'thelordpresident'</span>,\n",
       "<span style=\"color: #7fbf7f; text-decoration-color: #7fbf7f\">│   │   </span><span style=\"color: #008000; text-decoration-color: #008000\">'text'</span>: <span style=\"color: #008000; text-decoration-color: #008000\">\"I want you to read this thread back and tell me what you think you're arguing, and then what this thread is about. \"</span>,\n",
       "<span style=\"color: #7fbf7f; text-decoration-color: #7fbf7f\">│   │   </span><span style=\"color: #008000; text-decoration-color: #008000\">'timestamp'</span>: <span style=\"color: #008080; text-decoration-color: #008080; font-weight: bold\">1451167070</span>\n",
       "<span style=\"color: #7fbf7f; text-decoration-color: #7fbf7f\">│   </span><span style=\"font-weight: bold\">}</span>,\n",
       "<span style=\"color: #7fbf7f; text-decoration-color: #7fbf7f\">│   </span><span style=\"color: #008000; text-decoration-color: #008000\">'last_utterance'</span>: <span style=\"font-weight: bold\">{</span>\n",
       "<span style=\"color: #7fbf7f; text-decoration-color: #7fbf7f\">│   │   </span><span style=\"color: #008000; text-decoration-color: #008000\">'id'</span>: <span style=\"color: #008000; text-decoration-color: #008000\">'cyc4rpi'</span>,\n",
       "<span style=\"color: #7fbf7f; text-decoration-color: #7fbf7f\">│   │   </span><span style=\"color: #008000; text-decoration-color: #008000\">'userid'</span>: <span style=\"color: #008000; text-decoration-color: #008000\">'JavkCache'</span>,\n",
       "<span style=\"color: #7fbf7f; text-decoration-color: #7fbf7f\">│   │   </span><span style=\"color: #008000; text-decoration-color: #008000\">'text'</span>: <span style=\"color: #008000; text-decoration-color: #008000\">\"I could ask you to do the same, because you don't seem to understand what I've said this entire time.\"</span>,\n",
       "<span style=\"color: #7fbf7f; text-decoration-color: #7fbf7f\">│   │   </span><span style=\"color: #008000; text-decoration-color: #008000\">'timestamp'</span>: <span style=\"color: #008080; text-decoration-color: #008080; font-weight: bold\">1451167175</span>\n",
       "<span style=\"color: #7fbf7f; text-decoration-color: #7fbf7f\">│   </span><span style=\"font-weight: bold\">}</span>,\n",
       "<span style=\"color: #7fbf7f; text-decoration-color: #7fbf7f\">│   </span><span style=\"color: #008000; text-decoration-color: #008000\">'split'</span>: <span style=\"color: #008000; text-decoration-color: #008000\">'train'</span>\n",
       "<span style=\"font-weight: bold\">}</span>\n",
       "</pre>\n"
      ],
      "text/plain": [
       "\u001b[1m{\u001b[0m\n",
       "\u001b[2;32m│   \u001b[0m\u001b[32m'statement'\u001b[0m: \u001b[32m'I think the need for diversity is stupid.'\u001b[0m,\n",
       "\u001b[2;32m│   \u001b[0m\u001b[32m'submission_id'\u001b[0m: \u001b[32m'3xaddy'\u001b[0m,\n",
       "\u001b[2;32m│   \u001b[0m\u001b[32m'penultimate_utterance'\u001b[0m: \u001b[1m{\u001b[0m\n",
       "\u001b[2;32m│   │   \u001b[0m\u001b[32m'id'\u001b[0m: \u001b[32m'cyc4pv6'\u001b[0m,\n",
       "\u001b[2;32m│   │   \u001b[0m\u001b[32m'userid'\u001b[0m: \u001b[32m'thelordpresident'\u001b[0m,\n",
       "\u001b[2;32m│   │   \u001b[0m\u001b[32m'text'\u001b[0m: \u001b[32m\"I want you to read this thread back and tell me what you think you're arguing, and then what this thread is about. \"\u001b[0m,\n",
       "\u001b[2;32m│   │   \u001b[0m\u001b[32m'timestamp'\u001b[0m: \u001b[1;36m1451167070\u001b[0m\n",
       "\u001b[2;32m│   \u001b[0m\u001b[1m}\u001b[0m,\n",
       "\u001b[2;32m│   \u001b[0m\u001b[32m'last_utterance'\u001b[0m: \u001b[1m{\u001b[0m\n",
       "\u001b[2;32m│   │   \u001b[0m\u001b[32m'id'\u001b[0m: \u001b[32m'cyc4rpi'\u001b[0m,\n",
       "\u001b[2;32m│   │   \u001b[0m\u001b[32m'userid'\u001b[0m: \u001b[32m'JavkCache'\u001b[0m,\n",
       "\u001b[2;32m│   │   \u001b[0m\u001b[32m'text'\u001b[0m: \u001b[32m\"I could ask you to do the same, because you don't seem to understand what I've said this entire time.\"\u001b[0m,\n",
       "\u001b[2;32m│   │   \u001b[0m\u001b[32m'timestamp'\u001b[0m: \u001b[1;36m1451167175\u001b[0m\n",
       "\u001b[2;32m│   \u001b[0m\u001b[1m}\u001b[0m,\n",
       "\u001b[2;32m│   \u001b[0m\u001b[32m'split'\u001b[0m: \u001b[32m'train'\u001b[0m\n",
       "\u001b[1m}\u001b[0m\n"
      ]
     },
     "metadata": {},
     "output_type": "display_data"
    },
    {
     "name": "stdout",
     "output_type": "stream",
     "text": [
      "Sample 56:\n"
     ]
    },
    {
     "data": {
      "text/html": [
       "<pre style=\"white-space:pre;overflow-x:auto;line-height:normal;font-family:Menlo,'DejaVu Sans Mono',consolas,'Courier New',monospace\"><span style=\"font-weight: bold\">{</span>\n",
       "<span style=\"color: #7fbf7f; text-decoration-color: #7fbf7f\">│   </span><span style=\"color: #008000; text-decoration-color: #008000\">'statement'</span>: <span style=\"color: #008000; text-decoration-color: #008000\">'I would have rather been a woman than a man in the early 1900s'</span>,\n",
       "<span style=\"color: #7fbf7f; text-decoration-color: #7fbf7f\">│   </span><span style=\"color: #008000; text-decoration-color: #008000\">'submission_id'</span>: <span style=\"color: #008000; text-decoration-color: #008000\">'41hh1n'</span>,\n",
       "<span style=\"color: #7fbf7f; text-decoration-color: #7fbf7f\">│   </span><span style=\"color: #008000; text-decoration-color: #008000\">'penultimate_utterance'</span>: <span style=\"font-weight: bold\">{</span>\n",
       "<span style=\"color: #7fbf7f; text-decoration-color: #7fbf7f\">│   │   </span><span style=\"color: #008000; text-decoration-color: #008000\">'id'</span>: <span style=\"color: #008000; text-decoration-color: #008000\">'cz2jqct'</span>,\n",
       "<span style=\"color: #7fbf7f; text-decoration-color: #7fbf7f\">│   │   </span><span style=\"color: #008000; text-decoration-color: #008000\">'userid'</span>: <span style=\"color: #008000; text-decoration-color: #008000\">'zans9'</span>,\n",
       "<span style=\"color: #7fbf7f; text-decoration-color: #7fbf7f\">│   │   </span><span style=\"color: #008000; text-decoration-color: #008000\">'text'</span>: <span style=\"color: #008000; text-decoration-color: #008000\">\"I AM NOT SAYING IT WAS A WALK IN THE PARK FOR WOMEN. MOST MEN DIDN'T HIT THEIR WIVES\"</span>,\n",
       "<span style=\"color: #7fbf7f; text-decoration-color: #7fbf7f\">│   │   </span><span style=\"color: #008000; text-decoration-color: #008000\">'timestamp'</span>: <span style=\"color: #008080; text-decoration-color: #008080; font-weight: bold\">1453107908</span>\n",
       "<span style=\"color: #7fbf7f; text-decoration-color: #7fbf7f\">│   </span><span style=\"font-weight: bold\">}</span>,\n",
       "<span style=\"color: #7fbf7f; text-decoration-color: #7fbf7f\">│   </span><span style=\"color: #008000; text-decoration-color: #008000\">'last_utterance'</span>: <span style=\"font-weight: bold\">{</span>\n",
       "<span style=\"color: #7fbf7f; text-decoration-color: #7fbf7f\">│   │   </span><span style=\"color: #008000; text-decoration-color: #008000\">'id'</span>: <span style=\"color: #008000; text-decoration-color: #008000\">'cz2jthk'</span>,\n",
       "<span style=\"color: #7fbf7f; text-decoration-color: #7fbf7f\">│   │   </span><span style=\"color: #008000; text-decoration-color: #008000\">'userid'</span>: <span style=\"color: #008000; text-decoration-color: #008000\">'forestfly1234'</span>,\n",
       "<span style=\"color: #7fbf7f; text-decoration-color: #7fbf7f\">│   │   </span><span style=\"color: #008000; text-decoration-color: #008000\">'text'</span>: <span style=\"color: #008000; text-decoration-color: #008000\">\"This is waste of my time and everyone else's time. \\n\\nYou seem to not be here in an attempt to get your view changed. You just want to cherry pick what data is important to you. Which is making this entire enterprise pointless. \\n\\nI'm not going to waste any more time with you, nor should anyone else. \"</span>,\n",
       "<span style=\"color: #7fbf7f; text-decoration-color: #7fbf7f\">│   │   </span><span style=\"color: #008000; text-decoration-color: #008000\">'timestamp'</span>: <span style=\"color: #008080; text-decoration-color: #008080; font-weight: bold\">1453108239</span>\n",
       "<span style=\"color: #7fbf7f; text-decoration-color: #7fbf7f\">│   </span><span style=\"font-weight: bold\">}</span>,\n",
       "<span style=\"color: #7fbf7f; text-decoration-color: #7fbf7f\">│   </span><span style=\"color: #008000; text-decoration-color: #008000\">'split'</span>: <span style=\"color: #008000; text-decoration-color: #008000\">'train'</span>\n",
       "<span style=\"font-weight: bold\">}</span>\n",
       "</pre>\n"
      ],
      "text/plain": [
       "\u001b[1m{\u001b[0m\n",
       "\u001b[2;32m│   \u001b[0m\u001b[32m'statement'\u001b[0m: \u001b[32m'I would have rather been a woman than a man in the early 1900s'\u001b[0m,\n",
       "\u001b[2;32m│   \u001b[0m\u001b[32m'submission_id'\u001b[0m: \u001b[32m'41hh1n'\u001b[0m,\n",
       "\u001b[2;32m│   \u001b[0m\u001b[32m'penultimate_utterance'\u001b[0m: \u001b[1m{\u001b[0m\n",
       "\u001b[2;32m│   │   \u001b[0m\u001b[32m'id'\u001b[0m: \u001b[32m'cz2jqct'\u001b[0m,\n",
       "\u001b[2;32m│   │   \u001b[0m\u001b[32m'userid'\u001b[0m: \u001b[32m'zans9'\u001b[0m,\n",
       "\u001b[2;32m│   │   \u001b[0m\u001b[32m'text'\u001b[0m: \u001b[32m\"I AM NOT SAYING IT WAS A WALK IN THE PARK FOR WOMEN. MOST MEN DIDN'T HIT THEIR WIVES\"\u001b[0m,\n",
       "\u001b[2;32m│   │   \u001b[0m\u001b[32m'timestamp'\u001b[0m: \u001b[1;36m1453107908\u001b[0m\n",
       "\u001b[2;32m│   \u001b[0m\u001b[1m}\u001b[0m,\n",
       "\u001b[2;32m│   \u001b[0m\u001b[32m'last_utterance'\u001b[0m: \u001b[1m{\u001b[0m\n",
       "\u001b[2;32m│   │   \u001b[0m\u001b[32m'id'\u001b[0m: \u001b[32m'cz2jthk'\u001b[0m,\n",
       "\u001b[2;32m│   │   \u001b[0m\u001b[32m'userid'\u001b[0m: \u001b[32m'forestfly1234'\u001b[0m,\n",
       "\u001b[2;32m│   │   \u001b[0m\u001b[32m'text'\u001b[0m: \u001b[32m\"This is waste of my time and everyone else's time. \\n\\nYou seem to not be here in an attempt to get your view changed. You just want to cherry pick what data is important to you. Which is making this entire enterprise pointless. \\n\\nI'm not going to waste any more time with you, nor should anyone else. \"\u001b[0m,\n",
       "\u001b[2;32m│   │   \u001b[0m\u001b[32m'timestamp'\u001b[0m: \u001b[1;36m1453108239\u001b[0m\n",
       "\u001b[2;32m│   \u001b[0m\u001b[1m}\u001b[0m,\n",
       "\u001b[2;32m│   \u001b[0m\u001b[32m'split'\u001b[0m: \u001b[32m'train'\u001b[0m\n",
       "\u001b[1m}\u001b[0m\n"
      ]
     },
     "metadata": {},
     "output_type": "display_data"
    },
    {
     "name": "stdout",
     "output_type": "stream",
     "text": [
      "Sample 72:\n"
     ]
    },
    {
     "data": {
      "text/html": [
       "<pre style=\"white-space:pre;overflow-x:auto;line-height:normal;font-family:Menlo,'DejaVu Sans Mono',consolas,'Courier New',monospace\"><span style=\"font-weight: bold\">{</span>\n",
       "<span style=\"color: #7fbf7f; text-decoration-color: #7fbf7f\">│   </span><span style=\"color: #008000; text-decoration-color: #008000\">'statement'</span>: <span style=\"color: #008000; text-decoration-color: #008000\">'It is hypocritical to call oneself pro-life yet not support healthcare as a basic human right'</span>,\n",
       "<span style=\"color: #7fbf7f; text-decoration-color: #7fbf7f\">│   </span><span style=\"color: #008000; text-decoration-color: #008000\">'submission_id'</span>: <span style=\"color: #008000; text-decoration-color: #008000\">'45obt1'</span>,\n",
       "<span style=\"color: #7fbf7f; text-decoration-color: #7fbf7f\">│   </span><span style=\"color: #008000; text-decoration-color: #008000\">'penultimate_utterance'</span>: <span style=\"font-weight: bold\">{</span>\n",
       "<span style=\"color: #7fbf7f; text-decoration-color: #7fbf7f\">│   │   </span><span style=\"color: #008000; text-decoration-color: #008000\">'id'</span>: <span style=\"color: #008000; text-decoration-color: #008000\">'czzg0zc'</span>,\n",
       "<span style=\"color: #7fbf7f; text-decoration-color: #7fbf7f\">│   │   </span><span style=\"color: #008000; text-decoration-color: #008000\">'userid'</span>: <span style=\"color: #008000; text-decoration-color: #008000\">'Dhalphir'</span>,\n",
       "<span style=\"color: #7fbf7f; text-decoration-color: #7fbf7f\">│   │   </span><span style=\"color: #008000; text-decoration-color: #008000\">'text'</span>: <span style=\"color: #008000; text-decoration-color: #008000\">'The point is that nobody is pro-abortion. They are pro-having the choice.'</span>,\n",
       "<span style=\"color: #7fbf7f; text-decoration-color: #7fbf7f\">│   │   </span><span style=\"color: #008000; text-decoration-color: #008000\">'timestamp'</span>: <span style=\"color: #008080; text-decoration-color: #008080; font-weight: bold\">1455446557</span>\n",
       "<span style=\"color: #7fbf7f; text-decoration-color: #7fbf7f\">│   </span><span style=\"font-weight: bold\">}</span>,\n",
       "<span style=\"color: #7fbf7f; text-decoration-color: #7fbf7f\">│   </span><span style=\"color: #008000; text-decoration-color: #008000\">'last_utterance'</span>: <span style=\"font-weight: bold\">{</span>\n",
       "<span style=\"color: #7fbf7f; text-decoration-color: #7fbf7f\">│   │   </span><span style=\"color: #008000; text-decoration-color: #008000\">'id'</span>: <span style=\"color: #008000; text-decoration-color: #008000\">'czzh9l9'</span>,\n",
       "<span style=\"color: #7fbf7f; text-decoration-color: #7fbf7f\">│   │   </span><span style=\"color: #008000; text-decoration-color: #008000\">'userid'</span>: <span style=\"color: #008000; text-decoration-color: #008000\">'getfuckingreal'</span>,\n",
       "<span style=\"color: #7fbf7f; text-decoration-color: #7fbf7f\">│   │   </span><span style=\"color: #008000; text-decoration-color: #008000\">'text'</span>: <span style=\"color: #008000; text-decoration-color: #008000\">'How can you not say you are pro-abortion if you oppose any use of the law to stop it? If someone were trying to make murder legal would you say they were pro-murder or pro-choice to murder or not?'</span>,\n",
       "<span style=\"color: #7fbf7f; text-decoration-color: #7fbf7f\">│   │   </span><span style=\"color: #008000; text-decoration-color: #008000\">'timestamp'</span>: <span style=\"color: #008080; text-decoration-color: #008080; font-weight: bold\">1455452053</span>\n",
       "<span style=\"color: #7fbf7f; text-decoration-color: #7fbf7f\">│   </span><span style=\"font-weight: bold\">}</span>,\n",
       "<span style=\"color: #7fbf7f; text-decoration-color: #7fbf7f\">│   </span><span style=\"color: #008000; text-decoration-color: #008000\">'split'</span>: <span style=\"color: #008000; text-decoration-color: #008000\">'train'</span>\n",
       "<span style=\"font-weight: bold\">}</span>\n",
       "</pre>\n"
      ],
      "text/plain": [
       "\u001b[1m{\u001b[0m\n",
       "\u001b[2;32m│   \u001b[0m\u001b[32m'statement'\u001b[0m: \u001b[32m'It is hypocritical to call oneself pro-life yet not support healthcare as a basic human right'\u001b[0m,\n",
       "\u001b[2;32m│   \u001b[0m\u001b[32m'submission_id'\u001b[0m: \u001b[32m'45obt1'\u001b[0m,\n",
       "\u001b[2;32m│   \u001b[0m\u001b[32m'penultimate_utterance'\u001b[0m: \u001b[1m{\u001b[0m\n",
       "\u001b[2;32m│   │   \u001b[0m\u001b[32m'id'\u001b[0m: \u001b[32m'czzg0zc'\u001b[0m,\n",
       "\u001b[2;32m│   │   \u001b[0m\u001b[32m'userid'\u001b[0m: \u001b[32m'Dhalphir'\u001b[0m,\n",
       "\u001b[2;32m│   │   \u001b[0m\u001b[32m'text'\u001b[0m: \u001b[32m'The point is that nobody is pro-abortion. They are pro-having the choice.'\u001b[0m,\n",
       "\u001b[2;32m│   │   \u001b[0m\u001b[32m'timestamp'\u001b[0m: \u001b[1;36m1455446557\u001b[0m\n",
       "\u001b[2;32m│   \u001b[0m\u001b[1m}\u001b[0m,\n",
       "\u001b[2;32m│   \u001b[0m\u001b[32m'last_utterance'\u001b[0m: \u001b[1m{\u001b[0m\n",
       "\u001b[2;32m│   │   \u001b[0m\u001b[32m'id'\u001b[0m: \u001b[32m'czzh9l9'\u001b[0m,\n",
       "\u001b[2;32m│   │   \u001b[0m\u001b[32m'userid'\u001b[0m: \u001b[32m'getfuckingreal'\u001b[0m,\n",
       "\u001b[2;32m│   │   \u001b[0m\u001b[32m'text'\u001b[0m: \u001b[32m'How can you not say you are pro-abortion if you oppose any use of the law to stop it? If someone were trying to make murder legal would you say they were pro-murder or pro-choice to murder or not?'\u001b[0m,\n",
       "\u001b[2;32m│   │   \u001b[0m\u001b[32m'timestamp'\u001b[0m: \u001b[1;36m1455452053\u001b[0m\n",
       "\u001b[2;32m│   \u001b[0m\u001b[1m}\u001b[0m,\n",
       "\u001b[2;32m│   \u001b[0m\u001b[32m'split'\u001b[0m: \u001b[32m'train'\u001b[0m\n",
       "\u001b[1m}\u001b[0m\n"
      ]
     },
     "metadata": {},
     "output_type": "display_data"
    },
    {
     "name": "stdout",
     "output_type": "stream",
     "text": [
      "Sample 88:\n"
     ]
    },
    {
     "data": {
      "text/html": [
       "<pre style=\"white-space:pre;overflow-x:auto;line-height:normal;font-family:Menlo,'DejaVu Sans Mono',consolas,'Courier New',monospace\"><span style=\"font-weight: bold\">{</span>\n",
       "<span style=\"color: #7fbf7f; text-decoration-color: #7fbf7f\">│   </span><span style=\"color: #008000; text-decoration-color: #008000\">'statement'</span>: <span style=\"color: #008000; text-decoration-color: #008000\">'The UK should vote to remain in the European Union.'</span>,\n",
       "<span style=\"color: #7fbf7f; text-decoration-color: #7fbf7f\">│   </span><span style=\"color: #008000; text-decoration-color: #008000\">'submission_id'</span>: <span style=\"color: #008000; text-decoration-color: #008000\">'4ao5kr'</span>,\n",
       "<span style=\"color: #7fbf7f; text-decoration-color: #7fbf7f\">│   </span><span style=\"color: #008000; text-decoration-color: #008000\">'penultimate_utterance'</span>: <span style=\"font-weight: bold\">{</span>\n",
       "<span style=\"color: #7fbf7f; text-decoration-color: #7fbf7f\">│   │   </span><span style=\"color: #008000; text-decoration-color: #008000\">'id'</span>: <span style=\"color: #008000; text-decoration-color: #008000\">'d12922j'</span>,\n",
       "<span style=\"color: #7fbf7f; text-decoration-color: #7fbf7f\">│   │   </span><span style=\"color: #008000; text-decoration-color: #008000\">'userid'</span>: <span style=\"color: #008000; text-decoration-color: #008000\">'hexag1'</span>,\n",
       "<span style=\"color: #7fbf7f; text-decoration-color: #7fbf7f\">│   │   </span><span style=\"color: #008000; text-decoration-color: #008000\">'text'</span>: <span style=\"color: #008000; text-decoration-color: #008000\">'Europe is being invaded by Islam. Unless the UK can gain control of its borders, it is going to be destroyed, just as Islam destroyed many other civilizations (Christian North Africa, Sasanid Iran, Hindu Indonesia, Hindu &amp;amp; Buddhist Afghanistan and Pakistan)\\n\\nBrexit is the clearest current path to regaining control of UK borders. Si unless you want your children to grow up in a Britain that is like Pakistan, but with more rain, vote Brexit.'</span>,\n",
       "<span style=\"color: #7fbf7f; text-decoration-color: #7fbf7f\">│   │   </span><span style=\"color: #008000; text-decoration-color: #008000\">'timestamp'</span>: <span style=\"color: #008080; text-decoration-color: #008080; font-weight: bold\">1458152405</span>\n",
       "<span style=\"color: #7fbf7f; text-decoration-color: #7fbf7f\">│   </span><span style=\"font-weight: bold\">}</span>,\n",
       "<span style=\"color: #7fbf7f; text-decoration-color: #7fbf7f\">│   </span><span style=\"color: #008000; text-decoration-color: #008000\">'last_utterance'</span>: <span style=\"font-weight: bold\">{</span>\n",
       "<span style=\"color: #7fbf7f; text-decoration-color: #7fbf7f\">│   │   </span><span style=\"color: #008000; text-decoration-color: #008000\">'id'</span>: <span style=\"color: #008000; text-decoration-color: #008000\">'d12bp54'</span>,\n",
       "<span style=\"color: #7fbf7f; text-decoration-color: #7fbf7f\">│   │   </span><span style=\"color: #008000; text-decoration-color: #008000\">'userid'</span>: <span style=\"color: #008000; text-decoration-color: #008000\">'VerlorenHoop'</span>,\n",
       "<span style=\"color: #7fbf7f; text-decoration-color: #7fbf7f\">│   │   </span><span style=\"color: #008000; text-decoration-color: #008000\">'text'</span>: <span style=\"color: #008000; text-decoration-color: #008000\">\"A) I don't buy the narrative that Islam is carrying out an invasion of mainland Europe. That would require the religion - not even the culture - to have some kind of unifying plan which you just don't see.  \\nB) The leave/remain question is difficult and multifaceted, and if your only reason for wanting to leave is the perception that you'll have better control of the borders, that suggests that it is a short-sighted measure which is not appropriate for such a long term issue\"</span>,\n",
       "<span style=\"color: #7fbf7f; text-decoration-color: #7fbf7f\">│   │   </span><span style=\"color: #008000; text-decoration-color: #008000\">'timestamp'</span>: <span style=\"color: #008080; text-decoration-color: #008080; font-weight: bold\">1458155955</span>\n",
       "<span style=\"color: #7fbf7f; text-decoration-color: #7fbf7f\">│   </span><span style=\"font-weight: bold\">}</span>,\n",
       "<span style=\"color: #7fbf7f; text-decoration-color: #7fbf7f\">│   </span><span style=\"color: #008000; text-decoration-color: #008000\">'split'</span>: <span style=\"color: #008000; text-decoration-color: #008000\">'train'</span>\n",
       "<span style=\"font-weight: bold\">}</span>\n",
       "</pre>\n"
      ],
      "text/plain": [
       "\u001b[1m{\u001b[0m\n",
       "\u001b[2;32m│   \u001b[0m\u001b[32m'statement'\u001b[0m: \u001b[32m'The UK should vote to remain in the European Union.'\u001b[0m,\n",
       "\u001b[2;32m│   \u001b[0m\u001b[32m'submission_id'\u001b[0m: \u001b[32m'4ao5kr'\u001b[0m,\n",
       "\u001b[2;32m│   \u001b[0m\u001b[32m'penultimate_utterance'\u001b[0m: \u001b[1m{\u001b[0m\n",
       "\u001b[2;32m│   │   \u001b[0m\u001b[32m'id'\u001b[0m: \u001b[32m'd12922j'\u001b[0m,\n",
       "\u001b[2;32m│   │   \u001b[0m\u001b[32m'userid'\u001b[0m: \u001b[32m'hexag1'\u001b[0m,\n",
       "\u001b[2;32m│   │   \u001b[0m\u001b[32m'text'\u001b[0m: \u001b[32m'Europe is being invaded by Islam. Unless the UK can gain control of its borders, it is going to be destroyed, just as Islam destroyed many other civilizations \u001b[0m\u001b[32m(\u001b[0m\u001b[32mChristian North Africa, Sasanid Iran, Hindu Indonesia, Hindu &amp; Buddhist Afghanistan and Pakistan\u001b[0m\u001b[32m)\u001b[0m\u001b[32m\\n\\nBrexit is the clearest current path to regaining control of UK borders. Si unless you want your children to grow up in a Britain that is like Pakistan, but with more rain, vote Brexit.'\u001b[0m,\n",
       "\u001b[2;32m│   │   \u001b[0m\u001b[32m'timestamp'\u001b[0m: \u001b[1;36m1458152405\u001b[0m\n",
       "\u001b[2;32m│   \u001b[0m\u001b[1m}\u001b[0m,\n",
       "\u001b[2;32m│   \u001b[0m\u001b[32m'last_utterance'\u001b[0m: \u001b[1m{\u001b[0m\n",
       "\u001b[2;32m│   │   \u001b[0m\u001b[32m'id'\u001b[0m: \u001b[32m'd12bp54'\u001b[0m,\n",
       "\u001b[2;32m│   │   \u001b[0m\u001b[32m'userid'\u001b[0m: \u001b[32m'VerlorenHoop'\u001b[0m,\n",
       "\u001b[2;32m│   │   \u001b[0m\u001b[32m'text'\u001b[0m: \u001b[32m\"A\u001b[0m\u001b[32m)\u001b[0m\u001b[32m I don't buy the narrative that Islam is carrying out an invasion of mainland Europe. That would require the religion - not even the culture - to have some kind of unifying plan which you just don't see.  \\nB\u001b[0m\u001b[32m)\u001b[0m\u001b[32m The leave/remain question is difficult and multifaceted, and if your only reason for wanting to leave is the perception that you'll have better control of the borders, that suggests that it is a short-sighted measure which is not appropriate for such a long term issue\"\u001b[0m,\n",
       "\u001b[2;32m│   │   \u001b[0m\u001b[32m'timestamp'\u001b[0m: \u001b[1;36m1458155955\u001b[0m\n",
       "\u001b[2;32m│   \u001b[0m\u001b[1m}\u001b[0m,\n",
       "\u001b[2;32m│   \u001b[0m\u001b[32m'split'\u001b[0m: \u001b[32m'train'\u001b[0m\n",
       "\u001b[1m}\u001b[0m\n"
      ]
     },
     "metadata": {},
     "output_type": "display_data"
    },
    {
     "name": "stdout",
     "output_type": "stream",
     "text": [
      "Sample 93:\n"
     ]
    },
    {
     "data": {
      "text/html": [
       "<pre style=\"white-space:pre;overflow-x:auto;line-height:normal;font-family:Menlo,'DejaVu Sans Mono',consolas,'Courier New',monospace\"><span style=\"font-weight: bold\">{</span>\n",
       "<span style=\"color: #7fbf7f; text-decoration-color: #7fbf7f\">│   </span><span style=\"color: #008000; text-decoration-color: #008000\">'statement'</span>: <span style=\"color: #008000; text-decoration-color: #008000\">'I believe that eventually the world will, both legally and socially, turn against Muslims.'</span>,\n",
       "<span style=\"color: #7fbf7f; text-decoration-color: #7fbf7f\">│   </span><span style=\"color: #008000; text-decoration-color: #008000\">'submission_id'</span>: <span style=\"color: #008000; text-decoration-color: #008000\">'4caaw8'</span>,\n",
       "<span style=\"color: #7fbf7f; text-decoration-color: #7fbf7f\">│   </span><span style=\"color: #008000; text-decoration-color: #008000\">'penultimate_utterance'</span>: <span style=\"font-weight: bold\">{</span>\n",
       "<span style=\"color: #7fbf7f; text-decoration-color: #7fbf7f\">│   │   </span><span style=\"color: #008000; text-decoration-color: #008000\">'id'</span>: <span style=\"color: #008000; text-decoration-color: #008000\">'d1go9ts'</span>,\n",
       "<span style=\"color: #7fbf7f; text-decoration-color: #7fbf7f\">│   │   </span><span style=\"color: #008000; text-decoration-color: #008000\">'userid'</span>: <span style=\"color: #008000; text-decoration-color: #008000\">'halfar'</span>,\n",
       "<span style=\"color: #7fbf7f; text-decoration-color: #7fbf7f\">│   │   </span><span style=\"color: #008000; text-decoration-color: #008000\">'text'</span>: <span style=\"color: #008000; text-decoration-color: #008000\">'you\\'re not even making a specific point, just kinda *hinting* at one, and why are you being so belligerent?\\n\\naddress the conversation from a vantage point of \"us vs. the issue\", not you vs. me. this isn\\'t a fucking gladiator arena. why would you even begin to care about \"winning\"?\\n\\noh, and be sure to tell me what the actual fucking argument you\\'re making is before you can proclaim that you\\'ve \"won\" anything. :/'</span>,\n",
       "<span style=\"color: #7fbf7f; text-decoration-color: #7fbf7f\">│   │   </span><span style=\"color: #008000; text-decoration-color: #008000\">'timestamp'</span>: <span style=\"color: #008080; text-decoration-color: #008080; font-weight: bold\">1459191836</span>\n",
       "<span style=\"color: #7fbf7f; text-decoration-color: #7fbf7f\">│   </span><span style=\"font-weight: bold\">}</span>,\n",
       "<span style=\"color: #7fbf7f; text-decoration-color: #7fbf7f\">│   </span><span style=\"color: #008000; text-decoration-color: #008000\">'last_utterance'</span>: <span style=\"font-weight: bold\">{</span>\n",
       "<span style=\"color: #7fbf7f; text-decoration-color: #7fbf7f\">│   │   </span><span style=\"color: #008000; text-decoration-color: #008000\">'id'</span>: <span style=\"color: #008000; text-decoration-color: #008000\">'d1gpf5y'</span>,\n",
       "<span style=\"color: #7fbf7f; text-decoration-color: #7fbf7f\">│   │   </span><span style=\"color: #008000; text-decoration-color: #008000\">'userid'</span>: <span style=\"color: #008000; text-decoration-color: #008000\">'percussaresurgo'</span>,\n",
       "<span style=\"color: #7fbf7f; text-decoration-color: #7fbf7f\">│   │   </span><span style=\"color: #008000; text-decoration-color: #008000\">'text'</span>: <span style=\"color: #008000; text-decoration-color: #008000\">\"Sorry you're lost. Try scrolling up.\"</span>,\n",
       "<span style=\"color: #7fbf7f; text-decoration-color: #7fbf7f\">│   │   </span><span style=\"color: #008000; text-decoration-color: #008000\">'timestamp'</span>: <span style=\"color: #008080; text-decoration-color: #008080; font-weight: bold\">1459193323</span>\n",
       "<span style=\"color: #7fbf7f; text-decoration-color: #7fbf7f\">│   </span><span style=\"font-weight: bold\">}</span>,\n",
       "<span style=\"color: #7fbf7f; text-decoration-color: #7fbf7f\">│   </span><span style=\"color: #008000; text-decoration-color: #008000\">'split'</span>: <span style=\"color: #008000; text-decoration-color: #008000\">'train'</span>\n",
       "<span style=\"font-weight: bold\">}</span>\n",
       "</pre>\n"
      ],
      "text/plain": [
       "\u001b[1m{\u001b[0m\n",
       "\u001b[2;32m│   \u001b[0m\u001b[32m'statement'\u001b[0m: \u001b[32m'I believe that eventually the world will, both legally and socially, turn against Muslims.'\u001b[0m,\n",
       "\u001b[2;32m│   \u001b[0m\u001b[32m'submission_id'\u001b[0m: \u001b[32m'4caaw8'\u001b[0m,\n",
       "\u001b[2;32m│   \u001b[0m\u001b[32m'penultimate_utterance'\u001b[0m: \u001b[1m{\u001b[0m\n",
       "\u001b[2;32m│   │   \u001b[0m\u001b[32m'id'\u001b[0m: \u001b[32m'd1go9ts'\u001b[0m,\n",
       "\u001b[2;32m│   │   \u001b[0m\u001b[32m'userid'\u001b[0m: \u001b[32m'halfar'\u001b[0m,\n",
       "\u001b[2;32m│   │   \u001b[0m\u001b[32m'text'\u001b[0m: \u001b[32m'you\\'re not even making a specific point, just kinda *hinting* at one, and why are you being so belligerent?\\n\\naddress the conversation from a vantage point of \"us vs. the issue\", not you vs. me. this isn\\'t a fucking gladiator arena. why would you even begin to care about \"winning\"?\\n\\noh, and be sure to tell me what the actual fucking argument you\\'re making is before you can proclaim that you\\'ve \"won\" anything. :/'\u001b[0m,\n",
       "\u001b[2;32m│   │   \u001b[0m\u001b[32m'timestamp'\u001b[0m: \u001b[1;36m1459191836\u001b[0m\n",
       "\u001b[2;32m│   \u001b[0m\u001b[1m}\u001b[0m,\n",
       "\u001b[2;32m│   \u001b[0m\u001b[32m'last_utterance'\u001b[0m: \u001b[1m{\u001b[0m\n",
       "\u001b[2;32m│   │   \u001b[0m\u001b[32m'id'\u001b[0m: \u001b[32m'd1gpf5y'\u001b[0m,\n",
       "\u001b[2;32m│   │   \u001b[0m\u001b[32m'userid'\u001b[0m: \u001b[32m'percussaresurgo'\u001b[0m,\n",
       "\u001b[2;32m│   │   \u001b[0m\u001b[32m'text'\u001b[0m: \u001b[32m\"Sorry you're lost. Try scrolling up.\"\u001b[0m,\n",
       "\u001b[2;32m│   │   \u001b[0m\u001b[32m'timestamp'\u001b[0m: \u001b[1;36m1459193323\u001b[0m\n",
       "\u001b[2;32m│   \u001b[0m\u001b[1m}\u001b[0m,\n",
       "\u001b[2;32m│   \u001b[0m\u001b[32m'split'\u001b[0m: \u001b[32m'train'\u001b[0m\n",
       "\u001b[1m}\u001b[0m\n"
      ]
     },
     "metadata": {},
     "output_type": "display_data"
    },
    {
     "name": "stdout",
     "output_type": "stream",
     "text": [
      "Sample 99:\n"
     ]
    },
    {
     "data": {
      "text/html": [
       "<pre style=\"white-space:pre;overflow-x:auto;line-height:normal;font-family:Menlo,'DejaVu Sans Mono',consolas,'Courier New',monospace\"><span style=\"font-weight: bold\">{</span>\n",
       "<span style=\"color: #7fbf7f; text-decoration-color: #7fbf7f\">│   </span><span style=\"color: #008000; text-decoration-color: #008000\">'statement'</span>: <span style=\"color: #008000; text-decoration-color: #008000\">\"fiscal punishment for misdemeanors (especially traffic violations) doesn't correct the behavior of the offendor.\"</span>,\n",
       "<span style=\"color: #7fbf7f; text-decoration-color: #7fbf7f\">│   </span><span style=\"color: #008000; text-decoration-color: #008000\">'submission_id'</span>: <span style=\"color: #008000; text-decoration-color: #008000\">'4e1g79'</span>,\n",
       "<span style=\"color: #7fbf7f; text-decoration-color: #7fbf7f\">│   </span><span style=\"color: #008000; text-decoration-color: #008000\">'penultimate_utterance'</span>: <span style=\"font-weight: bold\">{</span>\n",
       "<span style=\"color: #7fbf7f; text-decoration-color: #7fbf7f\">│   │   </span><span style=\"color: #008000; text-decoration-color: #008000\">'id'</span>: <span style=\"color: #008000; text-decoration-color: #008000\">'d1w7kpo'</span>,\n",
       "<span style=\"color: #7fbf7f; text-decoration-color: #7fbf7f\">│   │   </span><span style=\"color: #008000; text-decoration-color: #008000\">'userid'</span>: <span style=\"color: #008000; text-decoration-color: #008000\">'law-talkin-guy'</span>,\n",
       "<span style=\"color: #7fbf7f; text-decoration-color: #7fbf7f\">│   │   </span><span style=\"color: #008000; text-decoration-color: #008000\">'text'</span>: <span style=\"color: #008000; text-decoration-color: #008000\">\"&gt;   This whole post is a mess. \\n\\nCouldn't agree more.\"</span>,\n",
       "<span style=\"color: #7fbf7f; text-decoration-color: #7fbf7f\">│   │   </span><span style=\"color: #008000; text-decoration-color: #008000\">'timestamp'</span>: <span style=\"color: #008080; text-decoration-color: #008080; font-weight: bold\">1460215741</span>\n",
       "<span style=\"color: #7fbf7f; text-decoration-color: #7fbf7f\">│   </span><span style=\"font-weight: bold\">}</span>,\n",
       "<span style=\"color: #7fbf7f; text-decoration-color: #7fbf7f\">│   </span><span style=\"color: #008000; text-decoration-color: #008000\">'last_utterance'</span>: <span style=\"font-weight: bold\">{</span>\n",
       "<span style=\"color: #7fbf7f; text-decoration-color: #7fbf7f\">│   │   </span><span style=\"color: #008000; text-decoration-color: #008000\">'id'</span>: <span style=\"color: #008000; text-decoration-color: #008000\">'d1w7n5q'</span>,\n",
       "<span style=\"color: #7fbf7f; text-decoration-color: #7fbf7f\">│   │   </span><span style=\"color: #008000; text-decoration-color: #008000\">'userid'</span>: <span style=\"color: #008000; text-decoration-color: #008000\">'AmiriteClyde'</span>,\n",
       "<span style=\"color: #7fbf7f; text-decoration-color: #7fbf7f\">│   │   </span><span style=\"color: #008000; text-decoration-color: #008000\">'text'</span>: <span style=\"color: #008000; text-decoration-color: #008000\">\"Be constructive man... +1-ing yourself all day from internet strangers doesn't contribute to anything.\"</span>,\n",
       "<span style=\"color: #7fbf7f; text-decoration-color: #7fbf7f\">│   │   </span><span style=\"color: #008000; text-decoration-color: #008000\">'timestamp'</span>: <span style=\"color: #008080; text-decoration-color: #008080; font-weight: bold\">1460215867</span>\n",
       "<span style=\"color: #7fbf7f; text-decoration-color: #7fbf7f\">│   </span><span style=\"font-weight: bold\">}</span>,\n",
       "<span style=\"color: #7fbf7f; text-decoration-color: #7fbf7f\">│   </span><span style=\"color: #008000; text-decoration-color: #008000\">'split'</span>: <span style=\"color: #008000; text-decoration-color: #008000\">'train'</span>\n",
       "<span style=\"font-weight: bold\">}</span>\n",
       "</pre>\n"
      ],
      "text/plain": [
       "\u001b[1m{\u001b[0m\n",
       "\u001b[2;32m│   \u001b[0m\u001b[32m'statement'\u001b[0m: \u001b[32m\"fiscal punishment for misdemeanors \u001b[0m\u001b[32m(\u001b[0m\u001b[32mespecially traffic violations\u001b[0m\u001b[32m)\u001b[0m\u001b[32m doesn't correct the behavior of the offendor.\"\u001b[0m,\n",
       "\u001b[2;32m│   \u001b[0m\u001b[32m'submission_id'\u001b[0m: \u001b[32m'4e1g79'\u001b[0m,\n",
       "\u001b[2;32m│   \u001b[0m\u001b[32m'penultimate_utterance'\u001b[0m: \u001b[1m{\u001b[0m\n",
       "\u001b[2;32m│   │   \u001b[0m\u001b[32m'id'\u001b[0m: \u001b[32m'd1w7kpo'\u001b[0m,\n",
       "\u001b[2;32m│   │   \u001b[0m\u001b[32m'userid'\u001b[0m: \u001b[32m'law-talkin-guy'\u001b[0m,\n",
       "\u001b[2;32m│   │   \u001b[0m\u001b[32m'text'\u001b[0m: \u001b[32m\">   This whole post is a mess. \\n\\nCouldn't agree more.\"\u001b[0m,\n",
       "\u001b[2;32m│   │   \u001b[0m\u001b[32m'timestamp'\u001b[0m: \u001b[1;36m1460215741\u001b[0m\n",
       "\u001b[2;32m│   \u001b[0m\u001b[1m}\u001b[0m,\n",
       "\u001b[2;32m│   \u001b[0m\u001b[32m'last_utterance'\u001b[0m: \u001b[1m{\u001b[0m\n",
       "\u001b[2;32m│   │   \u001b[0m\u001b[32m'id'\u001b[0m: \u001b[32m'd1w7n5q'\u001b[0m,\n",
       "\u001b[2;32m│   │   \u001b[0m\u001b[32m'userid'\u001b[0m: \u001b[32m'AmiriteClyde'\u001b[0m,\n",
       "\u001b[2;32m│   │   \u001b[0m\u001b[32m'text'\u001b[0m: \u001b[32m\"Be constructive man... +1-ing yourself all day from internet strangers doesn't contribute to anything.\"\u001b[0m,\n",
       "\u001b[2;32m│   │   \u001b[0m\u001b[32m'timestamp'\u001b[0m: \u001b[1;36m1460215867\u001b[0m\n",
       "\u001b[2;32m│   \u001b[0m\u001b[1m}\u001b[0m,\n",
       "\u001b[2;32m│   \u001b[0m\u001b[32m'split'\u001b[0m: \u001b[32m'train'\u001b[0m\n",
       "\u001b[1m}\u001b[0m\n"
      ]
     },
     "metadata": {},
     "output_type": "display_data"
    }
   ],
   "source": [
    "for i in range(100):\n",
    "    if i in [13, 14, 18, 19, 20, 22, 25, 26, 27, 29, 30, 40, 43, 56, 72, 88, 93, 99]:\n",
    "        print(f\"Sample {i}:\")\n",
    "        pprint(train_pairs[i])"
   ]
  },
  {
   "cell_type": "code",
   "execution_count": 3,
   "id": "ba6ae71b",
   "metadata": {},
   "outputs": [
    {
     "name": "stdout",
     "output_type": "stream",
     "text": [
      "Sample 13:\n",
      "Statement:\n",
      "Nuclear energy is a poor investment\n",
      "Penultimate utterance: I think that you are under the impression that a meltdown results in a nuclear explosion which it does not. A meltdown is when the fuel heats up so much that the fuel melts through the reactor and into the ground. \n",
      "Last utterance: but all meltdowns to date where accompanied by severe secondary steam and/or hydrogen/oxygen explosions.\n",
      "\n",
      "you shouldn't assume everybody on the internet is an idiot who can't differentiate between nuclear and conventional explosions\n",
      "Sample 19:\n",
      "Statement:\n",
      "People who believe in a vast variety of genders are crazy\n",
      "Penultimate utterance: \"You talk about dragon skin people or trans-race people but there really is no group that claims to be that way, so that's a meaningless discussion to have.\"\n",
      "\n",
      "So in other words you're not going to argue for why it's different, ok. \n",
      "Last utterance: It's different because it exists.My argument is that people actually feel this way and go through with it even in the face of assholes like you. Which suggests that they actually feel that way. It suggests that our societal notions of gender may not be absolute. Especially since this is a behaviour noted throughout history. It's like asking someone to explain their sexuality, it doesn't have a good explanation. \n",
      "Sample 25:\n",
      "Statement:\n",
      "Bernie Sanders free public college plan would be a waste of taxpayers dollars and not fix the issue it's seeking to fix\n",
      "Penultimate utterance: > So that would make them somewhere around halfway through being 23, on average.\n",
      "\n",
      "This only proves your original point \"that the average graduation age is 22\" wrong. \n",
      "\n",
      "I'm going to stop replying. Your post says you are against \"free college\" but all your responses say it would be a good thing and nothing would change.\n",
      "Last utterance: >  Your post says you are against \"free college\" but all your responses say it would be a good thing and nothing would change.\n",
      "\n",
      "I think you need to learn how to read more carefully. Where did I say nothing would change and it would be a good thing?\n",
      "\n",
      "\n",
      "Sample 26:\n",
      "Statement:\n",
      "College campuses should allow pro-life activists to speak/set up booths, etc. without being ridiculed and laughed at\n",
      "Penultimate utterance: Half of the population is pro-life.  It's been that way for at least 20 years.\n",
      "\n",
      "What is it with liberals calling views that 40% of the population agree with \"minority\" or \"extreme\"?  Is it to try to make their views seem like the only valid ones out there?\n",
      "Last utterance: Notice how I said people on university campuses, which absolutely tend to be more pro-choice.\n",
      "\n",
      "Also notice how I didn't take one position or the other. I stated facts. What is it with conservatives that make them automatically assume they know someone else's position when discussing divisive issues? Is it because they just tend to rely on stereotypes and generalizations, or is it just their pathetic persecution complexes?\n",
      "Sample 29:\n",
      "Statement:\n",
      "Im not wrong for thinking everyone (who's reading this) should be a vegetarian. It is undeniable the vegetarianism is ethically superior to eating meat.\n",
      "Penultimate utterance: Rape is not a factor born of evolution. It is a social phenomena. \n",
      "Last utterance: Every single thing we do is borne of evolution. Everything we do is also social phenomena. You dont seem to properly understand the things you say.\n",
      "\n",
      "You're saying that we evolved to eat meat, so we should.\n",
      "\n",
      "We evolved to rape too, so you're saying we should do that too.\n",
      "Sample 30:\n",
      "Statement:\n",
      "The people protesting University of Missouri accusing the community and the president of the school of \"systematic\" racism are not being reasonable at all.\n",
      "Penultimate utterance: We get it, you have nothing to offer but solipsisms. Thanks. \n",
      "Last utterance: Perhaps you should listen more carefully to understand your question and premise are the problem. \n",
      "Sample 56:\n",
      "Statement:\n",
      "I would have rather been a woman than a man in the early 1900s\n",
      "Penultimate utterance: I AM NOT SAYING IT WAS A WALK IN THE PARK FOR WOMEN. MOST MEN DIDN'T HIT THEIR WIVES\n",
      "Last utterance: This is waste of my time and everyone else's time. \n",
      "\n",
      "You seem to not be here in an attempt to get your view changed. You just want to cherry pick what data is important to you. Which is making this entire enterprise pointless. \n",
      "\n",
      "I'm not going to waste any more time with you, nor should anyone else. \n",
      "Sample 88:\n",
      "Statement:\n",
      "The UK should vote to remain in the European Union.\n",
      "Penultimate utterance: Europe is being invaded by Islam. Unless the UK can gain control of its borders, it is going to be destroyed, just as Islam destroyed many other civilizations (Christian North Africa, Sasanid Iran, Hindu Indonesia, Hindu &amp; Buddhist Afghanistan and Pakistan)\n",
      "\n",
      "Brexit is the clearest current path to regaining control of UK borders. Si unless you want your children to grow up in a Britain that is like Pakistan, but with more rain, vote Brexit.\n",
      "Last utterance: A) I don't buy the narrative that Islam is carrying out an invasion of mainland Europe. That would require the religion - not even the culture - to have some kind of unifying plan which you just don't see.  \n",
      "B) The leave/remain question is difficult and multifaceted, and if your only reason for wanting to leave is the perception that you'll have better control of the borders, that suggests that it is a short-sighted measure which is not appropriate for such a long term issue\n"
     ]
    }
   ],
   "source": [
    "few_shot_samples = []\n",
    "\n",
    "for i in range(100):\n",
    "    if i in [13, 19, 25, 26, 29, 30, 56, 88]:\n",
    "        print(f\"Sample {i}:\")\n",
    "        train_pair = train_pairs[i]\n",
    "        print(f\"Statement:\\n{train_pair['statement']}\")\n",
    "        penultimate_utterance = train_pair[\"penultimate_utterance\"]\n",
    "        print(f\"Penultimate utterance: {penultimate_utterance[\"text\"]}\")\n",
    "        last_utterance = train_pair[\"last_utterance\"]\n",
    "        print(f\"Last utterance: {last_utterance[\"text\"]}\")\n",
    "\n",
    "        update_penulitimate_text = input(\"Update penultimate utterance text? (y/n): \")\n",
    "        if update_penulitimate_text == \"y\":\n",
    "            new_penultimate_text = input(\"Enter new penultimate utterance text: \")\n",
    "            penultimate_utterance[\"text\"] = new_penultimate_text\n",
    "            train_pair[\"penultimate_utterance\"] = penultimate_utterance\n",
    "\n",
    "        update_last_text = input(\"Update last utterance text? (y/n): \")\n",
    "        if update_last_text == \"y\":\n",
    "            new_last_text = input(\"Enter new last utterance text: \")\n",
    "            last_utterance[\"text\"] = new_last_text\n",
    "            train_pair[\"last_utterance\"] = last_utterance\n",
    "\n",
    "        few_shot_samples.append(train_pair)\n",
    "\n",
    "# Save the few-shot samples to a new jsonl file\n",
    "with open(\"../data/reddit/cmv/few_shot_samples.jsonl\", \"w\") as f:\n",
    "    for sample in few_shot_samples:\n",
    "        f.write(json.dumps(sample) + \"\\n\")"
   ]
  }
 ],
 "metadata": {
  "kernelspec": {
   "display_name": "Python 3",
   "language": "python",
   "name": "python3"
  },
  "language_info": {
   "codemirror_mode": {
    "name": "ipython",
    "version": 3
   },
   "file_extension": ".py",
   "mimetype": "text/x-python",
   "name": "python",
   "nbconvert_exporter": "python",
   "pygments_lexer": "ipython3",
   "version": "3.12.7"
  }
 },
 "nbformat": 4,
 "nbformat_minor": 5
}
